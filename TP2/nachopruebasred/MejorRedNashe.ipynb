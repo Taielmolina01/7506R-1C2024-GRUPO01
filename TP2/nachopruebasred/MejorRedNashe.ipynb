{
  "cells": [
    {
      "cell_type": "code",
      "source": [
        "from langdetect import detect\n",
        "from sklearn.metrics import ConfusionMatrixDisplay, confusion_matrix, f1_score, precision_score, recall_score, accuracy_score\n",
        "import pandas as pd\n",
        "import numpy as np\n",
        "\n",
        "\n",
        "\n",
        "def detectar_idioma(texto):\n",
        "    try:\n",
        "        return detect(texto)\n",
        "    except:\n",
        "        return \"desconocido\"\n",
        "\n",
        "def filtrar_idioma(df):\n",
        "\n",
        "    df[\"idioma_detectado\"] = df[\"review_es\"].apply(detectar_idioma)\n",
        "\n",
        "    return df[df[\"idioma_detectado\"] == \"es\"]\n",
        "\n",
        "def normalizar_texto(df, columna):\n",
        "    reemplazos = {\"á\": \"a\", \"é\": \"e\", \"í\": \"i\", \"ó\": \"o\", \"ú\": \"u\"}\n",
        "    df[columna] = df[columna].str.lower()\n",
        "    for clave, valor in reemplazos.items():\n",
        "        df[columna] = df[columna].str.replace(clave, valor)\n",
        "    return df[columna]\n",
        "\n",
        "def reemplazar_no(df):\n",
        "    def reemplazo(texto):\n",
        "        if isinstance(texto, str):\n",
        "            return texto.replace(\" película \", \"\")\n",
        "        return texto\n",
        "\n",
        "    for col in df.select_dtypes(include=[\"object\"]).columns:\n",
        "        df[col] = df[col].apply(reemplazo)\n",
        "\n",
        "    return df\n",
        "\n",
        "def imprimir_resultados(y, y_pred):\n",
        "\n",
        "    labels = [0, 1]\n",
        "\n",
        "    f1 = f1_score(y, y_pred, pos_label=0, labels=labels)\n",
        "    precision = precision_score(y, y_pred, pos_label=0, labels=labels)\n",
        "    recall = recall_score(y, y_pred, pos_label=0, labels=labels)\n",
        "    accuracy = accuracy_score(y, y_pred)\n",
        "\n",
        "    cm = confusion_matrix(y, y_pred)\n",
        "\n",
        "    ConfusionMatrixDisplay(confusion_matrix=cm).plot()\n",
        "\n",
        "    print(f\"F1: {f1}\")\n",
        "    print(f\"Precision: {precision}\")\n",
        "    print(f\"Recall: {recall}\")\n",
        "    print(f\"Accuracy: {accuracy}\")\n",
        "\n",
        "def guardar_resultado_en_csv(prediccion, df_test, ruta):\n",
        "\n",
        "    prediccion = np.where(prediccion == 0, \"negativo\", \"positivo\")\n",
        "\n",
        "    df_predicciones = pd.DataFrame({\"ID\": df_test[\"ID\"], \"prediccion\": prediccion})\n",
        "\n",
        "    df_predicciones.to_csv(ruta, header=[\"ID\", \"sentimiento\"], index=False)"
      ],
      "metadata": {
        "id": "AdVHLxl4tIRJ"
      },
      "execution_count": 46,
      "outputs": []
    },
    {
      "cell_type": "code",
      "execution_count": 47,
      "metadata": {
        "id": "NJzt3H39iMgT"
      },
      "outputs": [],
      "source": [
        "import pandas as pd\n",
        "import numpy as np\n",
        "import matplotlib.pyplot as plt\n",
        "from sklearn.model_selection import train_test_split\n",
        "import tensorflow as tf"
      ]
    },
    {
      "cell_type": "code",
      "source": [
        "from google.colab import drive\n",
        "drive.mount('/content/drive')"
      ],
      "metadata": {
        "colab": {
          "base_uri": "https://localhost:8080/"
        },
        "id": "MSKOgb9xunmF",
        "outputId": "1d256cfb-da87-4637-cbc4-26d140f7de3a"
      },
      "execution_count": 48,
      "outputs": [
        {
          "output_type": "stream",
          "name": "stdout",
          "text": [
            "Drive already mounted at /content/drive; to attempt to forcibly remount, call drive.mount(\"/content/drive\", force_remount=True).\n"
          ]
        }
      ]
    },
    {
      "cell_type": "code",
      "source": [
        "RUTA_TRAIN = \"drive/MyDrive/train_limpio.csv\"\n",
        "RUTA_TEST = \"drive/MyDrive/test.csv\""
      ],
      "metadata": {
        "id": "BF3V9ZS7vLq_"
      },
      "execution_count": 49,
      "outputs": []
    },
    {
      "cell_type": "code",
      "execution_count": 50,
      "metadata": {
        "id": "aOmheHo6ZAuk"
      },
      "outputs": [],
      "source": [
        "df_train = pd.read_csv(RUTA_TRAIN)\n",
        "df_test = pd.read_csv(RUTA_TEST)"
      ]
    },
    {
      "cell_type": "code",
      "execution_count": 51,
      "metadata": {
        "id": "VyI189qMtAUN"
      },
      "outputs": [],
      "source": [
        "df_train[\"sentimiento\"] = df_train[\"sentimiento\"].map({\"positivo\": 1, \"negativo\": 0})"
      ]
    },
    {
      "cell_type": "code",
      "execution_count": 52,
      "metadata": {
        "id": "6SzVwyVlZAul"
      },
      "outputs": [],
      "source": [
        "RUTA_GUARDADO = \"RED.csv\""
      ]
    },
    {
      "cell_type": "code",
      "execution_count": 53,
      "metadata": {
        "colab": {
          "base_uri": "https://localhost:8080/",
          "height": 206
        },
        "id": "0RMoUtPtisKm",
        "outputId": "f691e862-d372-46c9-a114-aa8bf17f3057"
      },
      "outputs": [
        {
          "output_type": "execute_result",
          "data": {
            "text/plain": [
              "   Unnamed: 0  ID                                          review_es  \\\n",
              "0           0   0  Uno de los otros críticos ha mencionado que de...   \n",
              "1           1   1  Una pequeña pequeña producción.La técnica de f...   \n",
              "2           2   2  Pensé que esta era una manera maravillosa de p...   \n",
              "3           3   3  Básicamente, hay una familia donde un niño peq...   \n",
              "4           4   4  El \"amor en el tiempo\" de Petter Mattei es una...   \n",
              "\n",
              "   sentimiento idioma_detectado  \n",
              "0            1               es  \n",
              "1            1               es  \n",
              "2            1               es  \n",
              "3            0               es  \n",
              "4            1               es  "
            ],
            "text/html": [
              "\n",
              "  <div id=\"df-9714d454-a183-478e-a93c-fb9a630b8f71\" class=\"colab-df-container\">\n",
              "    <div>\n",
              "<style scoped>\n",
              "    .dataframe tbody tr th:only-of-type {\n",
              "        vertical-align: middle;\n",
              "    }\n",
              "\n",
              "    .dataframe tbody tr th {\n",
              "        vertical-align: top;\n",
              "    }\n",
              "\n",
              "    .dataframe thead th {\n",
              "        text-align: right;\n",
              "    }\n",
              "</style>\n",
              "<table border=\"1\" class=\"dataframe\">\n",
              "  <thead>\n",
              "    <tr style=\"text-align: right;\">\n",
              "      <th></th>\n",
              "      <th>Unnamed: 0</th>\n",
              "      <th>ID</th>\n",
              "      <th>review_es</th>\n",
              "      <th>sentimiento</th>\n",
              "      <th>idioma_detectado</th>\n",
              "    </tr>\n",
              "  </thead>\n",
              "  <tbody>\n",
              "    <tr>\n",
              "      <th>0</th>\n",
              "      <td>0</td>\n",
              "      <td>0</td>\n",
              "      <td>Uno de los otros críticos ha mencionado que de...</td>\n",
              "      <td>1</td>\n",
              "      <td>es</td>\n",
              "    </tr>\n",
              "    <tr>\n",
              "      <th>1</th>\n",
              "      <td>1</td>\n",
              "      <td>1</td>\n",
              "      <td>Una pequeña pequeña producción.La técnica de f...</td>\n",
              "      <td>1</td>\n",
              "      <td>es</td>\n",
              "    </tr>\n",
              "    <tr>\n",
              "      <th>2</th>\n",
              "      <td>2</td>\n",
              "      <td>2</td>\n",
              "      <td>Pensé que esta era una manera maravillosa de p...</td>\n",
              "      <td>1</td>\n",
              "      <td>es</td>\n",
              "    </tr>\n",
              "    <tr>\n",
              "      <th>3</th>\n",
              "      <td>3</td>\n",
              "      <td>3</td>\n",
              "      <td>Básicamente, hay una familia donde un niño peq...</td>\n",
              "      <td>0</td>\n",
              "      <td>es</td>\n",
              "    </tr>\n",
              "    <tr>\n",
              "      <th>4</th>\n",
              "      <td>4</td>\n",
              "      <td>4</td>\n",
              "      <td>El \"amor en el tiempo\" de Petter Mattei es una...</td>\n",
              "      <td>1</td>\n",
              "      <td>es</td>\n",
              "    </tr>\n",
              "  </tbody>\n",
              "</table>\n",
              "</div>\n",
              "    <div class=\"colab-df-buttons\">\n",
              "\n",
              "  <div class=\"colab-df-container\">\n",
              "    <button class=\"colab-df-convert\" onclick=\"convertToInteractive('df-9714d454-a183-478e-a93c-fb9a630b8f71')\"\n",
              "            title=\"Convert this dataframe to an interactive table.\"\n",
              "            style=\"display:none;\">\n",
              "\n",
              "  <svg xmlns=\"http://www.w3.org/2000/svg\" height=\"24px\" viewBox=\"0 -960 960 960\">\n",
              "    <path d=\"M120-120v-720h720v720H120Zm60-500h600v-160H180v160Zm220 220h160v-160H400v160Zm0 220h160v-160H400v160ZM180-400h160v-160H180v160Zm440 0h160v-160H620v160ZM180-180h160v-160H180v160Zm440 0h160v-160H620v160Z\"/>\n",
              "  </svg>\n",
              "    </button>\n",
              "\n",
              "  <style>\n",
              "    .colab-df-container {\n",
              "      display:flex;\n",
              "      gap: 12px;\n",
              "    }\n",
              "\n",
              "    .colab-df-convert {\n",
              "      background-color: #E8F0FE;\n",
              "      border: none;\n",
              "      border-radius: 50%;\n",
              "      cursor: pointer;\n",
              "      display: none;\n",
              "      fill: #1967D2;\n",
              "      height: 32px;\n",
              "      padding: 0 0 0 0;\n",
              "      width: 32px;\n",
              "    }\n",
              "\n",
              "    .colab-df-convert:hover {\n",
              "      background-color: #E2EBFA;\n",
              "      box-shadow: 0px 1px 2px rgba(60, 64, 67, 0.3), 0px 1px 3px 1px rgba(60, 64, 67, 0.15);\n",
              "      fill: #174EA6;\n",
              "    }\n",
              "\n",
              "    .colab-df-buttons div {\n",
              "      margin-bottom: 4px;\n",
              "    }\n",
              "\n",
              "    [theme=dark] .colab-df-convert {\n",
              "      background-color: #3B4455;\n",
              "      fill: #D2E3FC;\n",
              "    }\n",
              "\n",
              "    [theme=dark] .colab-df-convert:hover {\n",
              "      background-color: #434B5C;\n",
              "      box-shadow: 0px 1px 3px 1px rgba(0, 0, 0, 0.15);\n",
              "      filter: drop-shadow(0px 1px 2px rgba(0, 0, 0, 0.3));\n",
              "      fill: #FFFFFF;\n",
              "    }\n",
              "  </style>\n",
              "\n",
              "    <script>\n",
              "      const buttonEl =\n",
              "        document.querySelector('#df-9714d454-a183-478e-a93c-fb9a630b8f71 button.colab-df-convert');\n",
              "      buttonEl.style.display =\n",
              "        google.colab.kernel.accessAllowed ? 'block' : 'none';\n",
              "\n",
              "      async function convertToInteractive(key) {\n",
              "        const element = document.querySelector('#df-9714d454-a183-478e-a93c-fb9a630b8f71');\n",
              "        const dataTable =\n",
              "          await google.colab.kernel.invokeFunction('convertToInteractive',\n",
              "                                                    [key], {});\n",
              "        if (!dataTable) return;\n",
              "\n",
              "        const docLinkHtml = 'Like what you see? Visit the ' +\n",
              "          '<a target=\"_blank\" href=https://colab.research.google.com/notebooks/data_table.ipynb>data table notebook</a>'\n",
              "          + ' to learn more about interactive tables.';\n",
              "        element.innerHTML = '';\n",
              "        dataTable['output_type'] = 'display_data';\n",
              "        await google.colab.output.renderOutput(dataTable, element);\n",
              "        const docLink = document.createElement('div');\n",
              "        docLink.innerHTML = docLinkHtml;\n",
              "        element.appendChild(docLink);\n",
              "      }\n",
              "    </script>\n",
              "  </div>\n",
              "\n",
              "\n",
              "<div id=\"df-8c91d125-7b19-4f8f-afde-bb36103f1646\">\n",
              "  <button class=\"colab-df-quickchart\" onclick=\"quickchart('df-8c91d125-7b19-4f8f-afde-bb36103f1646')\"\n",
              "            title=\"Suggest charts\"\n",
              "            style=\"display:none;\">\n",
              "\n",
              "<svg xmlns=\"http://www.w3.org/2000/svg\" height=\"24px\"viewBox=\"0 0 24 24\"\n",
              "     width=\"24px\">\n",
              "    <g>\n",
              "        <path d=\"M19 3H5c-1.1 0-2 .9-2 2v14c0 1.1.9 2 2 2h14c1.1 0 2-.9 2-2V5c0-1.1-.9-2-2-2zM9 17H7v-7h2v7zm4 0h-2V7h2v10zm4 0h-2v-4h2v4z\"/>\n",
              "    </g>\n",
              "</svg>\n",
              "  </button>\n",
              "\n",
              "<style>\n",
              "  .colab-df-quickchart {\n",
              "      --bg-color: #E8F0FE;\n",
              "      --fill-color: #1967D2;\n",
              "      --hover-bg-color: #E2EBFA;\n",
              "      --hover-fill-color: #174EA6;\n",
              "      --disabled-fill-color: #AAA;\n",
              "      --disabled-bg-color: #DDD;\n",
              "  }\n",
              "\n",
              "  [theme=dark] .colab-df-quickchart {\n",
              "      --bg-color: #3B4455;\n",
              "      --fill-color: #D2E3FC;\n",
              "      --hover-bg-color: #434B5C;\n",
              "      --hover-fill-color: #FFFFFF;\n",
              "      --disabled-bg-color: #3B4455;\n",
              "      --disabled-fill-color: #666;\n",
              "  }\n",
              "\n",
              "  .colab-df-quickchart {\n",
              "    background-color: var(--bg-color);\n",
              "    border: none;\n",
              "    border-radius: 50%;\n",
              "    cursor: pointer;\n",
              "    display: none;\n",
              "    fill: var(--fill-color);\n",
              "    height: 32px;\n",
              "    padding: 0;\n",
              "    width: 32px;\n",
              "  }\n",
              "\n",
              "  .colab-df-quickchart:hover {\n",
              "    background-color: var(--hover-bg-color);\n",
              "    box-shadow: 0 1px 2px rgba(60, 64, 67, 0.3), 0 1px 3px 1px rgba(60, 64, 67, 0.15);\n",
              "    fill: var(--button-hover-fill-color);\n",
              "  }\n",
              "\n",
              "  .colab-df-quickchart-complete:disabled,\n",
              "  .colab-df-quickchart-complete:disabled:hover {\n",
              "    background-color: var(--disabled-bg-color);\n",
              "    fill: var(--disabled-fill-color);\n",
              "    box-shadow: none;\n",
              "  }\n",
              "\n",
              "  .colab-df-spinner {\n",
              "    border: 2px solid var(--fill-color);\n",
              "    border-color: transparent;\n",
              "    border-bottom-color: var(--fill-color);\n",
              "    animation:\n",
              "      spin 1s steps(1) infinite;\n",
              "  }\n",
              "\n",
              "  @keyframes spin {\n",
              "    0% {\n",
              "      border-color: transparent;\n",
              "      border-bottom-color: var(--fill-color);\n",
              "      border-left-color: var(--fill-color);\n",
              "    }\n",
              "    20% {\n",
              "      border-color: transparent;\n",
              "      border-left-color: var(--fill-color);\n",
              "      border-top-color: var(--fill-color);\n",
              "    }\n",
              "    30% {\n",
              "      border-color: transparent;\n",
              "      border-left-color: var(--fill-color);\n",
              "      border-top-color: var(--fill-color);\n",
              "      border-right-color: var(--fill-color);\n",
              "    }\n",
              "    40% {\n",
              "      border-color: transparent;\n",
              "      border-right-color: var(--fill-color);\n",
              "      border-top-color: var(--fill-color);\n",
              "    }\n",
              "    60% {\n",
              "      border-color: transparent;\n",
              "      border-right-color: var(--fill-color);\n",
              "    }\n",
              "    80% {\n",
              "      border-color: transparent;\n",
              "      border-right-color: var(--fill-color);\n",
              "      border-bottom-color: var(--fill-color);\n",
              "    }\n",
              "    90% {\n",
              "      border-color: transparent;\n",
              "      border-bottom-color: var(--fill-color);\n",
              "    }\n",
              "  }\n",
              "</style>\n",
              "\n",
              "  <script>\n",
              "    async function quickchart(key) {\n",
              "      const quickchartButtonEl =\n",
              "        document.querySelector('#' + key + ' button');\n",
              "      quickchartButtonEl.disabled = true;  // To prevent multiple clicks.\n",
              "      quickchartButtonEl.classList.add('colab-df-spinner');\n",
              "      try {\n",
              "        const charts = await google.colab.kernel.invokeFunction(\n",
              "            'suggestCharts', [key], {});\n",
              "      } catch (error) {\n",
              "        console.error('Error during call to suggestCharts:', error);\n",
              "      }\n",
              "      quickchartButtonEl.classList.remove('colab-df-spinner');\n",
              "      quickchartButtonEl.classList.add('colab-df-quickchart-complete');\n",
              "    }\n",
              "    (() => {\n",
              "      let quickchartButtonEl =\n",
              "        document.querySelector('#df-8c91d125-7b19-4f8f-afde-bb36103f1646 button');\n",
              "      quickchartButtonEl.style.display =\n",
              "        google.colab.kernel.accessAllowed ? 'block' : 'none';\n",
              "    })();\n",
              "  </script>\n",
              "</div>\n",
              "\n",
              "    </div>\n",
              "  </div>\n"
            ],
            "application/vnd.google.colaboratory.intrinsic+json": {
              "type": "dataframe",
              "variable_name": "df_train",
              "summary": "{\n  \"name\": \"df_train\",\n  \"rows\": 48182,\n  \"fields\": [\n    {\n      \"column\": \"Unnamed: 0\",\n      \"properties\": {\n        \"dtype\": \"number\",\n        \"std\": 14320,\n        \"min\": 0,\n        \"max\": 49999,\n        \"num_unique_values\": 48182,\n        \"samples\": [\n          1766,\n          7435,\n          17024\n        ],\n        \"semantic_type\": \"\",\n        \"description\": \"\"\n      }\n    },\n    {\n      \"column\": \"ID\",\n      \"properties\": {\n        \"dtype\": \"number\",\n        \"std\": 14320,\n        \"min\": 0,\n        \"max\": 49999,\n        \"num_unique_values\": 48182,\n        \"samples\": [\n          1766,\n          7435,\n          17024\n        ],\n        \"semantic_type\": \"\",\n        \"description\": \"\"\n      }\n    },\n    {\n      \"column\": \"review_es\",\n      \"properties\": {\n        \"dtype\": \"string\",\n        \"num_unique_values\": 47784,\n        \"samples\": [\n          \"Me encant\\u00f3 la serie de TV de Batman y realmente estaba esperando esto. Pero intentaron hacer demasiado. Por qu\\u00e9 ten\\u00edan la historia de Ad\\u00e1n West y Burt Ward tratando de recuperar el Batmobile estaba m\\u00e1s all\\u00e1 de m\\u00ed. No quiero golpear a Burt o Ad\\u00e1n por la forma en que se ven ahora ... Han pasado 35 a\\u00f1os desde que aparecieron en Batman y Robin, pero para verlos vestidos con trajes de vestimenta y pelear 'los Badguys' fue un poco triste. Preferir\\u00eda simplemente ver a los ex-estrellas comentarios. La historia lateral de Batmobile era est\\u00fapida. En busca de la pel\\u00edcula Flashback, creo que era demasiado corta y se qued\\u00f3 demasiado a la izquierda. Realmente era solo una visi\\u00f3n general r\\u00e1pida en mi opini\\u00f3n. Quisiera m\\u00e1s fondo. Mostraron a Penguin y Joker durante aproximadamente un minuto, cada uno solo para decir las mismas cosas que ya sab\\u00eda. El Joker ten\\u00eda un bigote bajo su maquillaje y el ping\\u00fcino tuvo que fumar a pesar de que lo odiaba y era un ex fumador. Eso fue en aquellos que amamos leer el libro. Estoy seguro de que tiene m\\u00e1s en \\u00e9l que esto se mostr\\u00f3. Me gusta, \\u00bfpor qu\\u00e9 hubo 2 riddlers o por qu\\u00e9 se congelan 3 Catwoman o 3 Mister? \\u00bfD\\u00f3nde estaba Commishioner Gordon, Cheif Ohara, Alfred, Mister Freeze, King Tut, etc. La lista contin\\u00faa. Como dije, incluso los que estaban en este, apenas estaban en \\u00e9l. Muy decepcionante. Y realmente cursi.\",\n          \"El laberinto de Nigel Balchin, como la novela \\\"un camino a trav\\u00e9s de la madera\\\" ha sido adaptado por Julian Fellowes, que tambi\\u00e9n dirige esta \\\"terriblemente brit\\u00e1nica\\\" de la sala de dibujo. Es una pel\\u00edcula cuyo efecto se basa en el fundido que retrata los caracteres variablemente benignos / malignos y es aqu\\u00ed que las opciones de directorios de los Fellowes son excelentes. La historia tiene una l\\u00ednea lineal que es f\\u00e1cil de seguir, pero la belleza de la pel\\u00edcula es la metamorfosis de cada jugador como un solo incidente que enciende un campo minado de desastres. James Manning (Tom Wilkinson) es un exitoso abogado obsesionado de negocios en Londres, casado. A Anne (Emily Watson) que necesita m\\u00e1s en su vida: la pareja es sin hijos en vivo en el pa\\u00eds en una hermosa finca, asistida por su \\\"limpiador\\\" a largo plazo, Maggie (Linda Bassett). Atienden salidas sociales y se encuentran, entre otras, William Bule (Rupert Everett), el vecino rico pasivamente perezoso. Anne decide que deben entretener a sus vecinos y contra la protestaci\\u00f3n de James de Brujas Anne procede de planificaci\\u00f3n: James organiza a \\\"no asistir debido a los negocios\\\". En la noche de la fiesta hay un \\u00e9xito y corren un accidente en el que el marido de Maggie es asesinado accidentalmente por alguien en un Range Rover (observ\\u00f3). Cuando James regresa a casa, ve un rasgu\\u00f1o en el Range Rover de William y sospechan que William ser\\u00e1 el perpetrador. Anne desalienta a James a ir a la polic\\u00eda con la informaci\\u00f3n: \\\"\\u00bfQu\\u00e9 es posible, bueno, pero la vida de Bill Ruin, como socialite y padre e hijo de un scio importante? '. De esta primera \\\"mentira\\\", el virus se propaga: James se enfrenta a la factura que habla a James fuera de ir a la polic\\u00eda, ANNE confiesa que era la que estaba conduciendo a Bill's Rover y es la responsable, James convence a Anne para que lo mantuviera en silencio porque se arruinar\\u00eda Su reputaci\\u00f3n, Anne confiesa que est\\u00e1 teniendo un asunto con la factura, y los tres de ellos concuerdan que se mantendr\\u00e1n juntos en su gran mentira por el bien del bien. Anne eventualmente sucumbe a la culpa de no decirle a su amada Maggie que ella es la responsable y Maggie, culpable de un robo anterior cuya vida fue salvada por la misericordia de Anne para contratarla de todos modos, es el agente que atrae la historia a su sorprendente conclusi\\u00f3n. . Las mentiras designen las mentiras que se encuentran, etc\\u00e9tera. El impacto importante de esta intriga es la manera en que la tragedia aislada afecta a cada uno de los personajes involucrados. Cada uno cambia de una manera dram\\u00e1tica. Tome Wilkinson le da al mejor desempe\\u00f1o de una carrera llena de brillantes actuaciones: puede decir m\\u00e1s con su postura y expresiones faciales que sobre cualquier actor antes de la audiencia hoy en d\\u00eda. Asimismo, el talento Emily Watson agrega otro buen rol a su repertorio, al igual que el sorprendentemente smarmy Rupert Everett, a pesar de ser otro \\\"caballero\\\" brit\\u00e1nico m\\u00e1s rico, nos da un hombre ambos \\u00e1ridos de esp\\u00edritu y, en \\u00faltima instancia, necesitados. Y la siempre-fina Linda Bassett toma un peque\\u00f1o papel y las denses que la hace un personaje en silencio central en silencio a la ca\\u00f3tica web de mentiras. La cinematograf\\u00eda de Tony Pierce-Roberts y el puntaje musical de Stanislas Syrewicz agregan inconmensurablemente a las m\\u00faltiples atm\\u00f3sferas. La historia se encuentra. Este es un conjunto jugando en su mejor, lo que siempre significa que el director (Julian Fellowes) tiene un agarre fino en la pieza. La interacci\\u00f3n de estas buenas personas hace que la historia dudosa trabaje muy bien. Arpa graduada\",\n          \"Es la desgracia de la que la reina Victoria se definir\\u00e1 como una figura hist\\u00f3rica de acuerdo con sus relaciones con los hombres. Despu\\u00e9s de que ella logr\\u00f3 el trono, se le ocurri\\u00f3 la influencia de su primer ministro Lord Melbourne en la medida en que se conoc\\u00eda como \\\"MRS MELBOURNE\\\". Despu\\u00e9s de la muerte de su amado marido, Albert, fue referida a \\\"The Widow at Windsor\\\", y a\\u00f1os m\\u00e1s tarde, una larga amistad con su escocesa Ghillie John Brown le hab\\u00eda ganado el apodo \\\"La Sra. Brown\\\". \\u00bfEs el precio que pag\\u00f3 las mujeres? En una sociedad patriarcal. La realidad es algo diferente y \\\"Young Victoria\\\" va de alguna manera hacia el registro directo, que representa a la reina como una joven inteligente e independiente consciente de las desigualdades en su sociedad y en su corte. Los tribunales siempre han sido calientes de celos hirvientes, trazando y contrarrestar, ambici\\u00f3n desnuda y, a veces, asesinato absoluto. Como inocente de 18 a\\u00f1os, Victoria ascendi\\u00f3 al trono de su t\\u00edo, iniciando as\\u00ed una org\\u00eda positiva de intriga y una lucha contra el poder entre el primer ministro Lord Melbourne y su rival Sir Robert Peel. Lord Melbourne corta un gui\\u00f3n en el antiguo hombre de la escuela p\\u00fablica con su cinismo finamente afinado y sus gemas de consejos bien pulidos. Apenas sorprendente, entonces que la joven reina se encuentra con asombro de \\u00e9l, e incluso quiz\\u00e1s un poco enamorada, un asombro que explota despiadadamente, dibujando una excelente l\\u00ednea entre el intento de seducci\\u00f3n e intent\\u00f3 la sedici\\u00f3n, ya que obliga a sus pol\\u00edticas contra el mejor juicio de Victoria. En la arena pasa el pr\\u00edncipe Albert, en una misi\\u00f3n del rey Leopold de B\\u00e9lgica, cuidadosamente sobre el acercamiento pol\\u00edtico entre Gran Breta\\u00f1a y el resto de Europa. Al principio, un pretendiente reticente, pronto se enamora de la reina inglesa y palia la influencia de los pol\\u00edticos y cortesanos. \\\"El joven Victoria\\\" es una pel\\u00edcula bellamente fotografiada, brillante y muy suntuosa. Nota que ha sido criticado en algunos trimestres para esta suntuosidad, ya que si una pel\\u00edcula sobre la realeza inglesa del siglo XIX deber\\u00eda haber mostrado la Emperatriz de la India y su Familia que vive en trapos en una casa de trabajo sucia ........ No lo creo. Debo solucionar la notable la se\\u00f1orita Emily Blunt, cuya belleza me record\\u00f3 a la joven princesa Margaret's.Hers es obviamente el papel fundamental, y no tiene absolutamente ning\\u00fan problema en dominar la pel\\u00edcula a pesar de las fuertes actuaciones del Sr. Jim Broadbent, se\\u00f1orita Miranda Richardson y Miss Harriet Walter, todo inconmensurablemente m\\u00e1s experimentado. La m\\u00fasica es adecuadamente regional y forma una parte cohesiva de toda la pel\\u00edcula sin ser de ninguna manera. El hecho de que Britan floreci\\u00f3 m\\u00e1s bajo sus dos grandes reinas, Elizabeth, la primera y la Victoria, que en cualquier otro momento es un asunto, las feministas les gustar\\u00eda hacer m\\u00e1s, pero, sospecho, como la primera ministra Margaret Thatcher, las mujeres realmente poderosas las hacen sentir. inc\\u00f3modo. Si puede hacer ejercicio por qu\\u00e9 podr\\u00eda haber un Ph.D. en eso.\"\n        ],\n        \"semantic_type\": \"\",\n        \"description\": \"\"\n      }\n    },\n    {\n      \"column\": \"sentimiento\",\n      \"properties\": {\n        \"dtype\": \"number\",\n        \"std\": 0,\n        \"min\": 0,\n        \"max\": 1,\n        \"num_unique_values\": 2,\n        \"samples\": [\n          0,\n          1\n        ],\n        \"semantic_type\": \"\",\n        \"description\": \"\"\n      }\n    },\n    {\n      \"column\": \"idioma_detectado\",\n      \"properties\": {\n        \"dtype\": \"category\",\n        \"num_unique_values\": 1,\n        \"samples\": [\n          \"es\"\n        ],\n        \"semantic_type\": \"\",\n        \"description\": \"\"\n      }\n    }\n  ]\n}"
            }
          },
          "metadata": {},
          "execution_count": 53
        }
      ],
      "source": [
        "df_train.head(5)"
      ]
    },
    {
      "cell_type": "code",
      "execution_count": 54,
      "metadata": {
        "id": "6HysYIY2iJIz"
      },
      "outputs": [],
      "source": [
        "total_reviews = df_train[\"review_es\"].astype(str)\n",
        "total_labels = df_train[\"sentimiento\"].values"
      ]
    },
    {
      "cell_type": "code",
      "execution_count": 55,
      "metadata": {
        "id": "OqnlAOuzsAhH"
      },
      "outputs": [],
      "source": [
        "def plot_training_history(history):\n",
        "    plt.figure(figsize=(12, 4))\n",
        "\n",
        "    plt.subplot(1, 2, 1)\n",
        "    plt.plot(history.history[\"accuracy\"], label=\"Entrenamiento\")\n",
        "    plt.plot(history.history[\"val_accuracy\"], label=\"Validación\")\n",
        "    plt.title(\"Precisión del Modelo\")\n",
        "    plt.xlabel(\"Épocas\")\n",
        "    plt.ylabel(\"Precisión\")\n",
        "    plt.legend()\n",
        "\n",
        "    plt.subplot(1, 2, 2)\n",
        "    plt.plot(history.history[\"loss\"], label=\"Entrenamiento\")\n",
        "    plt.plot(history.history[\"val_loss\"], label=\"Validación\")\n",
        "    plt.title(\"Pérdida del Modelo\")\n",
        "    plt.xlabel(\"Épocas\")\n",
        "    plt.ylabel(\"Pérdida\")\n",
        "    plt.legend()\n",
        "\n",
        "    plt.show()"
      ]
    },
    {
      "cell_type": "code",
      "execution_count": 56,
      "metadata": {
        "id": "_9rROvsEmwEy"
      },
      "outputs": [],
      "source": [
        "Y_data = df_train.sentimiento"
      ]
    },
    {
      "cell_type": "code",
      "execution_count": 57,
      "metadata": {
        "id": "d1RFOq9zkXsu"
      },
      "outputs": [],
      "source": [
        "max_words = 5000\n",
        "max_len = 100"
      ]
    },
    {
      "cell_type": "code",
      "execution_count": 58,
      "metadata": {
        "id": "0JKJiSImoifE"
      },
      "outputs": [],
      "source": [
        "from tensorflow.keras.preprocessing.text import Tokenizer"
      ]
    },
    {
      "cell_type": "code",
      "execution_count": 59,
      "metadata": {
        "id": "JQDFyB-ion5C"
      },
      "outputs": [],
      "source": [
        "tokenizer_obj = Tokenizer(num_words = max_words)\n",
        "tokenizer_obj.fit_on_texts(total_reviews)"
      ]
    },
    {
      "cell_type": "code",
      "execution_count": 60,
      "metadata": {
        "collapsed": true,
        "id": "JXstyGwio1zl"
      },
      "outputs": [],
      "source": [
        "X_data_tokens = tokenizer_obj.texts_to_sequences(total_reviews)"
      ]
    },
    {
      "cell_type": "code",
      "execution_count": 61,
      "metadata": {
        "id": "0MpgYaHKpfy-"
      },
      "outputs": [],
      "source": [
        "X_data_count = tokenizer_obj.sequences_to_matrix(X_data_tokens, mode = \"count\")"
      ]
    },
    {
      "cell_type": "code",
      "execution_count": 62,
      "metadata": {
        "id": "lyr1XQ09me-G"
      },
      "outputs": [],
      "source": [
        "X_train_count, X_test_count, y_train_count, y_test_count = train_test_split(X_data_count, Y_data, test_size = 0.3, random_state = 123)"
      ]
    },
    {
      "cell_type": "code",
      "execution_count": 63,
      "metadata": {
        "id": "OcJDhAdglxGA"
      },
      "outputs": [],
      "source": [
        "from tensorflow.keras.models import Sequential\n",
        "from tensorflow.keras.layers import Dense, Dropout\n",
        "from tensorboard.plugins.hparams import api as hp\n",
        "from keras.callbacks import EarlyStopping\n",
        "from keras.callbacks import ModelCheckpoint, ReduceLROnPlateau\n",
        "# Definir early stopping\n",
        "early_stopping = EarlyStopping(monitor='val_loss', patience=3, restore_best_weights=True)\n",
        "\n",
        "# Ejemplo de ModelCheckpoint para guardar el mejor modelo\n",
        "# checkpoint = ModelCheckpoint('best_model.h5', monitor='val_accuracy', save_best_only=True, verbose=1)\n",
        "\n",
        "# Ejemplo de ReduceLROnPlateau para ajustar la tasa de aprendizaje\n",
        "reduce_lr = ReduceLROnPlateau(monitor='val_loss', factor=0.2, patience=2, min_lr=0.005)\n",
        "\n",
        "callbacks = [early_stopping, reduce_lr]\n"
      ]
    },
    {
      "cell_type": "code",
      "execution_count": 64,
      "metadata": {
        "id": "V7YYM8CHlL31"
      },
      "outputs": [],
      "source": [
        "model_count = Sequential()\n",
        "model_count.add(Dense(600, activation=\"relu\", input_shape=(5000,)))\n",
        "model_count.add(Dense(35, activation=\"relu\"))\n",
        "model_count.add(Dense(1, activation=\"sigmoid\"))\n",
        "\n",
        "model_count.compile(loss = \"binary_crossentropy\", optimizer = \"adam\", metrics = [\"accuracy\"])"
      ]
    },
    {
      "cell_type": "code",
      "execution_count": 65,
      "metadata": {
        "colab": {
          "base_uri": "https://localhost:8080/"
        },
        "id": "pAes38XIrHK_",
        "outputId": "26ae2364-432a-49c3-984d-c2221415a4ed"
      },
      "outputs": [
        {
          "output_type": "stream",
          "name": "stdout",
          "text": [
            "93/93 [==============================] - 12s 121ms/step - loss: 0.3958 - accuracy: 0.8284 - val_loss: 0.3457 - val_accuracy: 0.8600 - lr: 0.0010\n"
          ]
        }
      ],
      "source": [
        "history_count = model_count.fit(X_train_count, y_train_count, batch_size = 256, epochs = 1, validation_split=0.3,callbacks=callbacks)"
      ]
    },
    {
      "cell_type": "code",
      "execution_count": 66,
      "metadata": {
        "colab": {
          "base_uri": "https://localhost:8080/"
        },
        "id": "BP4PaOoErH6e",
        "outputId": "5926527b-f89e-4fa4-af85-de97cc112af9"
      },
      "outputs": [
        {
          "output_type": "stream",
          "name": "stdout",
          "text": [
            "452/452 [==============================] - 4s 8ms/step - loss: 0.3453 - accuracy: 0.8669\n",
            "\n",
            "0.3453207314014435 0.8668972849845886\n"
          ]
        }
      ],
      "source": [
        "test_loss, test_acc = model_count.evaluate(X_test_count, y_test_count)\n",
        "print()\n",
        "print(test_loss, test_acc)"
      ]
    },
    {
      "cell_type": "code",
      "execution_count": 67,
      "metadata": {
        "id": "9ve-5KAdsKwZ",
        "colab": {
          "base_uri": "https://localhost:8080/",
          "height": 412
        },
        "outputId": "262ea7c2-8dfe-4e88-8040-baa431761688"
      },
      "outputs": [
        {
          "output_type": "display_data",
          "data": {
            "text/plain": [
              "<Figure size 1200x400 with 2 Axes>"
            ],
            "image/png": "[encoded data removed]"
          },
          "metadata": {}
        }
      ],
      "source": [
        "plot_training_history(history_count)"
      ]
    },
    {
      "cell_type": "code",
      "execution_count": 68,
      "metadata": {
        "id": "0JT7OVxZ0a8O",
        "colab": {
          "base_uri": "https://localhost:8080/"
        },
        "outputId": "be3f7b17-1a73-4b32-d964-f6ec3f9728ad"
      },
      "outputs": [
        {
          "output_type": "stream",
          "name": "stdout",
          "text": [
            "452/452 [==============================] - 4s 9ms/step\n"
          ]
        }
      ],
      "source": [
        "X_train_tokens = tokenizer_obj.texts_to_sequences(df_test[\"review_es\"])\n",
        "X_train_count = tokenizer_obj.sequences_to_matrix(X_train_tokens, mode = \"count\")\n",
        "y_pred = model_count.predict(X_test_count)\n",
        "y_pred = np.round(y_pred)"
      ]
    },
    {
      "cell_type": "code",
      "execution_count": 69,
      "metadata": {
        "id": "a04ey3F1z36T",
        "colab": {
          "base_uri": "https://localhost:8080/",
          "height": 518
        },
        "outputId": "fbba486b-9e8c-49f4-c97d-57a35987cf0b"
      },
      "outputs": [
        {
          "output_type": "stream",
          "name": "stdout",
          "text": [
            "F1: 0.8580073800738007\n",
            "Precision: 0.9219666931007138\n",
            "Recall: 0.8023464458247067\n",
            "Accuracy: 0.8668972673815288\n"
          ]
        },
        {
          "output_type": "display_data",
          "data": {
            "text/plain": [
              "<Figure size 640x480 with 2 Axes>"
            ],
            "image/png": "[encoded data removed]"
          },
          "metadata": {}
        }
      ],
      "source": [
        "imprimir_resultados(y_test_count, y_pred)"
      ]
    },
    {
      "cell_type": "code",
      "execution_count": 70,
      "metadata": {
        "colab": {
          "base_uri": "https://localhost:8080/"
        },
        "id": "wIzqSQ0RtAUQ",
        "outputId": "85e45ca2-3fc4-4c27-8a06-cd725f9408b6"
      },
      "outputs": [
        {
          "output_type": "stream",
          "name": "stdout",
          "text": [
            "269/269 [==============================] - 2s 7ms/step\n"
          ]
        }
      ],
      "source": [
        "X_test_tokens = tokenizer_obj.texts_to_sequences(df_test[\"review_es\"])\n",
        "X_test_count = tokenizer_obj.sequences_to_matrix(X_test_tokens, mode = \"count\")\n",
        "y_pred = model_count.predict(X_test_count)\n",
        "y_pred = np.round(y_pred)"
      ]
    },
    {
      "cell_type": "code",
      "execution_count": 71,
      "metadata": {
        "colab": {
          "base_uri": "https://localhost:8080/"
        },
        "id": "NxaLQO7CxLR8",
        "outputId": "5f7dd41e-9c5d-4876-e156-cb024b9c7021"
      },
      "outputs": [
        {
          "output_type": "execute_result",
          "data": {
            "text/plain": [
              "array([[1.],\n",
              "       [0.],\n",
              "       [0.],\n",
              "       ...,\n",
              "       [0.],\n",
              "       [0.],\n",
              "       [0.]], dtype=float32)"
            ]
          },
          "metadata": {},
          "execution_count": 71
        }
      ],
      "source": [
        "y_pred"
      ]
    },
    {
      "cell_type": "code",
      "execution_count": 72,
      "metadata": {
        "id": "QeNpESk5ymMl"
      },
      "outputs": [],
      "source": [
        "y_pred = np.where(y_pred == 0, \"negativo\", \"positivo\")"
      ]
    },
    {
      "cell_type": "code",
      "execution_count": 73,
      "metadata": {
        "id": "a-AGCzJ3xj6H"
      },
      "outputs": [],
      "source": [
        "df_predicciones = pd.DataFrame({\"ID\": df_test[\"ID\"], \"prediccion\": y_pred.flatten()})\n",
        "\n",
        "df_predicciones.to_csv(RUTA_GUARDADO, header=[\"ID\", \"sentimiento\"], index=False)"
      ]
    }
  ],
  "metadata": {
    "colab": {
      "provenance": []
    },
    "kernelspec": {
      "display_name": "Python 3",
      "language": "python",
      "name": "python3"
    },
    "language_info": {
      "codemirror_mode": {
        "name": "ipython",
        "version": 3
      },
      "file_extension": ".py",
      "mimetype": "text/x-python",
      "name": "python",
      "nbconvert_exporter": "python",
      "pygments_lexer": "ipython3",
      "version": "3.12.3"
    }
  },
  "nbformat": 4,
  "nbformat_minor": 0
}