{
  "cells": [
    {
      "cell_type": "code",
      "execution_count": 95,
      "metadata": {
        "id": "a_0BUFmyZAuj"
      },
      "outputs": [],
      "source": [
        "import pandas as pd\n",
        "import nltk\n",
        "import numpy as np\n",
        "import seaborn as sns\n",
        "import matplotlib as plt\n",
        "from nltk.tokenize import word_tokenize\n",
        "from sklearn.model_selection import train_test_split\n",
        "from sklearn.feature_extraction.text import CountVectorizer\n",
        "from sklearn.naive_bayes import MultinomialNB, BernoulliNB\n",
        "from nltk.corpus import stopwords\n",
        "from funciones_aux import *"
      ]
    },
    {
      "cell_type": "markdown",
      "metadata": {},
      "source": [
        "Aqui utilizamos el archivo train_limpio.csv que es el train.csv pero filtrado sacando reseñas que no estaban en español"
      ]
    },
    {
      "cell_type": "code",
      "execution_count": 96,
      "metadata": {
        "id": "aOmheHo6ZAuk"
      },
      "outputs": [],
      "source": [
        "df_train = pd.read_csv(\"train_limpio.csv\")\n",
        "df_test = pd.read_csv(\"test.csv\")"
      ]
    },
    {
      "cell_type": "code",
      "execution_count": 97,
      "metadata": {
        "id": "6SzVwyVlZAul"
      },
      "outputs": [],
      "source": [
        "RUTA_GUARDADO = \"predicciones.csv\""
      ]
    },
    {
      "cell_type": "code",
      "execution_count": 98,
      "metadata": {
        "colab": {
          "base_uri": "https://localhost:8080/"
        },
        "id": "IB88dakNZAul",
        "outputId": "ee197d73-7596-4b27-c3a5-c572ec547ad4"
      },
      "outputs": [
        {
          "name": "stdout",
          "output_type": "stream",
          "text": [
            "<class 'pandas.core.frame.DataFrame'>\n",
            "RangeIndex: 50000 entries, 0 to 49999\n",
            "Data columns (total 3 columns):\n",
            " #   Column       Non-Null Count  Dtype \n",
            "---  ------       --------------  ----- \n",
            " 0   ID           50000 non-null  int64 \n",
            " 1   review_es    50000 non-null  object\n",
            " 2   sentimiento  50000 non-null  object\n",
            "dtypes: int64(1), object(2)\n",
            "memory usage: 1.1+ MB\n"
          ]
        }
      ],
      "source": [
        "df_train.info()"
      ]
    },
    {
      "cell_type": "markdown",
      "metadata": {
        "id": "pUF8B5y8ZAul"
      },
      "source": [
        "Aqui ya observamos que el dataset no contiene nulos"
      ]
    },
    {
      "cell_type": "code",
      "execution_count": 99,
      "metadata": {
        "colab": {
          "base_uri": "https://localhost:8080/",
          "height": 466
        },
        "id": "kushQStZZAun",
        "outputId": "94cbe615-7c1d-48ae-99eb-260854a7ea6f"
      },
      "outputs": [
        {
          "data": {
            "text/plain": [
              "<Axes: xlabel='sentimiento', ylabel='count'>"
            ]
          },
          "execution_count": 99,
          "metadata": {},
          "output_type": "execute_result"
        },
        {
          "data": {
            "image/png": "[encoded data removed]",
            "text/plain": [
              "<Figure size 640x480 with 1 Axes>"
            ]
          },
          "metadata": {},
          "output_type": "display_data"
        }
      ],
      "source": [
        "sns.countplot(x=df_train[\"sentimiento\"], color=\"#F1948A\")"
      ]
    },
    {
      "cell_type": "code",
      "execution_count": 100,
      "metadata": {
        "colab": {
          "base_uri": "https://localhost:8080/"
        },
        "id": "CJC41L3aZAun",
        "outputId": "10292294-bfee-4370-b48b-f6e4e422df19"
      },
      "outputs": [
        {
          "data": {
            "text/plain": [
              "sentimiento\n",
              "positivo    25000\n",
              "negativo    25000\n",
              "Name: count, dtype: int64"
            ]
          },
          "execution_count": 100,
          "metadata": {},
          "output_type": "execute_result"
        }
      ],
      "source": [
        "df_train[\"sentimiento\"].value_counts()"
      ]
    },
    {
      "cell_type": "code",
      "execution_count": 101,
      "metadata": {},
      "outputs": [],
      "source": [
        "df_train[\"sentimiento\"] = df_train[\"sentimiento\"].map({\"positivo\": 1, \"negativo\": 0})"
      ]
    },
    {
      "cell_type": "code",
      "execution_count": 103,
      "metadata": {},
      "outputs": [],
      "source": [
        "#df_train[\"review_es\"], df_test[\"review_es\"] = normalizar_texto(df_train, \"review_es\"), normalizar_texto(df_test, \"review_es\")"
      ]
    },
    {
      "cell_type": "code",
      "execution_count": 104,
      "metadata": {},
      "outputs": [],
      "source": [
        "df_train[\"review_es\"], df_test[\"review_es\"] = df_train[\"review_es\"].str.lower(), df_test[\"review_es\"].str.lower()"
      ]
    },
    {
      "cell_type": "code",
      "execution_count": 105,
      "metadata": {
        "id": "AorOVP9NZAun"
      },
      "outputs": [],
      "source": [
        "df_train_train, df_train_test = train_test_split(df_train, test_size=0.3, random_state=33)"
      ]
    },
    {
      "cell_type": "code",
      "execution_count": 106,
      "metadata": {
        "id": "b3z6KSd4ZAuo"
      },
      "outputs": [],
      "source": [
        "x_train, y_train, x_test_, y_test_ = df_train_train[\"review_es\"], df_train_train[\"sentimiento\"], df_train_test[\"review_es\"], df_train_test[\"sentimiento\"]"
      ]
    },
    {
      "cell_type": "code",
      "execution_count": 107,
      "metadata": {
        "id": "v_jpR6LFZAuo"
      },
      "outputs": [],
      "source": [
        "x_test = df_test[\"review_es\"]"
      ]
    },
    {
      "cell_type": "code",
      "execution_count": 108,
      "metadata": {
        "id": "Y7oPpyOZZAuo"
      },
      "outputs": [],
      "source": [
        "from sklearn.model_selection import GridSearchCV"
      ]
    },
    {
      "cell_type": "code",
      "execution_count": 109,
      "metadata": {
        "id": "1b7rfr7QZAuo"
      },
      "outputs": [],
      "source": [
        "from sklearn.metrics import ConfusionMatrixDisplay, confusion_matrix, f1_score, precision_score, recall_score, accuracy_score"
      ]
    },
    {
      "cell_type": "code",
      "execution_count": 110,
      "metadata": {
        "id": "OWk8hHQWZAuo"
      },
      "outputs": [],
      "source": [
        "def imprimir_resultados(y, y_pred):\n",
        "\n",
        "    labels = [0, 1]\n",
        "\n",
        "    f1 = f1_score(y, y_pred, pos_label=1, labels=labels)\n",
        "    precision = precision_score(y, y_pred, pos_label=1, labels=labels)\n",
        "    recall = recall_score(y, y_pred, pos_label=1, labels=labels)\n",
        "    accuracy = accuracy_score(y, y_pred)\n",
        "\n",
        "    cm = confusion_matrix(y_test_, y_pred)\n",
        "\n",
        "    ConfusionMatrixDisplay(confusion_matrix=cm).plot()\n",
        "\n",
        "    print(f\"F1: {f1}\")\n",
        "    print(f\"Precision: {precision}\")\n",
        "    print(f\"Recall: {recall}\")\n",
        "    print(f\"Accuracy: {accuracy}\")"
      ]
    },
    {
      "cell_type": "code",
      "execution_count": 111,
      "metadata": {
        "id": "lMOsN3KKZAup"
      },
      "outputs": [],
      "source": [
        "def guardar_resultado_en_csv(prediccion):\n",
        "\n",
        "    prediccion = np.where(prediccion == 0, \"negativo\", \"positivo\")\n",
        "\n",
        "    df_predicciones = pd.DataFrame({\"ID\": df_test[\"ID\"], \"prediccion\": prediccion})\n",
        "\n",
        "    df_predicciones.to_csv(RUTA_GUARDADO, header=[\"ID\", \"sentimiento\"], index=False)"
      ]
    },
    {
      "cell_type": "code",
      "execution_count": 112,
      "metadata": {
        "id": "3Ns112xvZAup"
      },
      "outputs": [],
      "source": [
        "vectorizer = CountVectorizer()\n",
        "x_train_vec = vectorizer.fit_transform(x_train)\n",
        "x_test_vec = vectorizer.transform(x_test_)"
      ]
    },
    {
      "cell_type": "markdown",
      "metadata": {
        "id": "EUddEzP5ZAup"
      },
      "source": [
        "## Bernoulli Naive Bayes"
      ]
    },
    {
      "cell_type": "code",
      "execution_count": 113,
      "metadata": {},
      "outputs": [],
      "source": [
        "def busqueda_hiperparametros_nb(modelo, x_vectorizado):\n",
        "  param_grid = {\n",
        "    \"alpha\": [0.6, 0.7, 0.8],\n",
        "    \"binarize\": [0.0],\n",
        "    \"fit_prior\": [True],\n",
        "    \"class_prior\": [[0.2,0.6], [0.1,0.5], [0.2,0.7]]\n",
        "  }\n",
        "  \n",
        "  grid_search = GridSearchCV(estimator=modelo, param_grid=param_grid, cv=10, scoring=\"f1_macro\")\n",
        "  \n",
        "  grid_search.fit(x_vectorizado, y_train)\n",
        "\n",
        "  return grid_search"
      ]
    },
    {
      "cell_type": "code",
      "execution_count": 114,
      "metadata": {
        "id": "rcKfZQ3uZAup"
      },
      "outputs": [],
      "source": [
        "# Dejando stopwords\n",
        "\n",
        "nb_classifier = BernoulliNB()\n",
        "gs = busqueda_hiperparametros_nb(nb_classifier, x_train_vec)"
      ]
    },
    {
      "cell_type": "code",
      "execution_count": 115,
      "metadata": {
        "colab": {
          "base_uri": "https://localhost:8080/"
        },
        "id": "139jZBnUZbdv",
        "outputId": "fa954a5e-211f-4e01-a142-ef9805db0b5a"
      },
      "outputs": [
        {
          "name": "stdout",
          "output_type": "stream",
          "text": [
            "{'alpha': 0.8, 'binarize': 0.0, 'class_prior': [0.1, 0.5], 'fit_prior': True}\n"
          ]
        }
      ],
      "source": [
        "print(gs.best_params_)"
      ]
    },
    {
      "cell_type": "code",
      "execution_count": 116,
      "metadata": {
        "id": "7z_Tw5XvZAup"
      },
      "outputs": [],
      "source": [
        "best_nb = BernoulliNB(alpha=gs.best_params_[\"alpha\"], fit_prior=gs.best_params_[\"fit_prior\"])\n",
        "\n",
        "gs.fit(x_train_vec, y_train)\n",
        "y_pred_nb = gs.predict(x_test_vec)"
      ]
    },
    {
      "cell_type": "code",
      "execution_count": 117,
      "metadata": {
        "colab": {
          "base_uri": "https://localhost:8080/",
          "height": 518
        },
        "id": "SnFfU-xLZAup",
        "outputId": "051d9477-a6b6-4fd8-b697-31acff2d4cfb"
      },
      "outputs": [
        {
          "name": "stdout",
          "output_type": "stream",
          "text": [
            "F1: 0.8535300316122234\n",
            "Precision: 0.8393782383419689\n",
            "Recall: 0.8681672025723473\n",
            "Accuracy: 0.8517333333333333\n"
          ]
        },
        {
          "data": {
            "image/png": "[encoded data removed]",
            "text/plain": [
              "<Figure size 640x480 with 2 Axes>"
            ]
          },
          "metadata": {},
          "output_type": "display_data"
        }
      ],
      "source": [
        "imprimir_resultados(y_test_, y_pred_nb)"
      ]
    },
    {
      "cell_type": "code",
      "execution_count": 118,
      "metadata": {
        "id": "YWSOE2KqZAup"
      },
      "outputs": [],
      "source": [
        "y_pred_nb_ = gs.predict(vectorizer.transform(x_test))"
      ]
    },
    {
      "cell_type": "code",
      "execution_count": 119,
      "metadata": {
        "id": "Tc-rwR4yZAup"
      },
      "outputs": [],
      "source": [
        "guardar_resultado_en_csv(y_pred_nb_)"
      ]
    },
    {
      "cell_type": "markdown",
      "metadata": {
        "id": "-mvDPiwZZAup"
      },
      "source": [
        "## Random Forest"
      ]
    },
    {
      "cell_type": "code",
      "execution_count": 120,
      "metadata": {},
      "outputs": [],
      "source": [
        "from sklearn.ensemble import RandomForestClassifier\n",
        "from sklearn.model_selection import RandomizedSearchCV, StratifiedKFold"
      ]
    },
    {
      "cell_type": "code",
      "execution_count": 121,
      "metadata": {},
      "outputs": [],
      "source": [
        "def func_classif(param_distributions, cv, scoring, estimator, n_iter):\n",
        "  randomcv = RandomizedSearchCV(estimator=estimator,\n",
        "                                param_distributions = param_distributions,\n",
        "                                scoring=scoring,\n",
        "                                cv=cv,\n",
        "                                n_jobs = -1,\n",
        "                                n_iter=n_iter,\n",
        "                                random_state=33)\n",
        "\n",
        "  randomcv.fit(x_train_vec, y_train)\n",
        "\n",
        "  return randomcv"
      ]
    },
    {
      "cell_type": "code",
      "execution_count": 122,
      "metadata": {},
      "outputs": [],
      "source": [
        "n_iter = 5\n",
        "\n",
        "param_distributions = { \n",
        "    \"criterion\" : [\"gini\", \"entropy\", \"log_loss\"],\n",
        "    \"min_samples_leaf\" : [1, 5, 10],\n",
        "    \"min_samples_split\" : [2, 4, 10, 12, 16],\n",
        "    \"n_estimators\": [10, 20, 50, 70, 100],\n",
        "    \"max_depth\": range(15, 50) }\n",
        "\n",
        "\n",
        "cv = StratifiedKFold(n_splits=5)\n",
        "\n",
        "scoring = \"accuracy\"\n",
        "\n",
        "estimator = RandomForestClassifier(random_state=33)\n",
        "\n",
        "randomcv = func_classif(param_distributions, cv, scoring, estimator, n_iter)"
      ]
    },
    {
      "cell_type": "code",
      "execution_count": 123,
      "metadata": {},
      "outputs": [],
      "source": [
        "best_rf = randomcv.best_estimator_"
      ]
    },
    {
      "cell_type": "code",
      "execution_count": 124,
      "metadata": {},
      "outputs": [],
      "source": [
        "best_params_rf = randomcv.best_params_"
      ]
    },
    {
      "cell_type": "code",
      "execution_count": 125,
      "metadata": {},
      "outputs": [],
      "source": [
        "best_rf = RandomForestClassifier(\n",
        "            criterion=best_params_rf[\"criterion\"],\n",
        "            min_samples_leaf=best_params_rf[\"min_samples_leaf\"],\n",
        "            min_samples_split=best_params_rf[\"min_samples_split\"],\n",
        "            n_estimators=best_params_rf[\"n_estimators\"],\n",
        "            max_depth=best_params_rf[\"max_depth\"])"
      ]
    },
    {
      "cell_type": "code",
      "execution_count": 126,
      "metadata": {},
      "outputs": [],
      "source": [
        "best_rf.fit(x_train_vec, y_train)\n",
        "\n",
        "y_pred_rf = best_rf.predict(x_test_vec)"
      ]
    },
    {
      "cell_type": "code",
      "execution_count": 127,
      "metadata": {},
      "outputs": [
        {
          "name": "stdout",
          "output_type": "stream",
          "text": [
            "F1: 0.842346471127406\n",
            "Precision: 0.8236875800256082\n",
            "Recall: 0.8618703108252947\n",
            "Accuracy: 0.8394666666666667\n"
          ]
        },
        {
          "data": {
            "image/png": "[encoded data removed]",
            "text/plain": [
              "<Figure size 640x480 with 2 Axes>"
            ]
          },
          "metadata": {},
          "output_type": "display_data"
        }
      ],
      "source": [
        "imprimir_resultados(y_test_, y_pred_rf)"
      ]
    },
    {
      "cell_type": "code",
      "execution_count": 128,
      "metadata": {},
      "outputs": [],
      "source": [
        "y_pred_rf_ = best_rf.predict(vectorizer.transform(x_test))"
      ]
    },
    {
      "cell_type": "code",
      "execution_count": 129,
      "metadata": {},
      "outputs": [],
      "source": [
        "guardar_resultado_en_csv(y_pred_rf_)"
      ]
    },
    {
      "cell_type": "markdown",
      "metadata": {
        "id": "G-PvkE0XZAuq"
      },
      "source": [
        "## XGBoost"
      ]
    },
    {
      "cell_type": "code",
      "execution_count": 130,
      "metadata": {},
      "outputs": [],
      "source": [
        "from xgboost import XGBClassifier"
      ]
    },
    {
      "cell_type": "code",
      "execution_count": 131,
      "metadata": {},
      "outputs": [],
      "source": [
        "n_iter = 5\n",
        "\n",
        "param_distributions = { \n",
        "    \"learning_rate\": [0.01, 0.1, 0.2, 0.3, 0.4],\n",
        "    \"max_depth\": [3, 4, 5, 7],\n",
        "    \"n_estimators\": [100, 200, 300] \n",
        "    }\n",
        "\n",
        "cv = StratifiedKFold(n_splits=5)\n",
        "\n",
        "scoring = \"accuracy\"\n",
        "\n",
        "estimator = XGBClassifier(random_state=33)\n",
        "\n",
        "randomcv = func_classif(param_distributions, cv, scoring, estimator, n_iter)"
      ]
    },
    {
      "cell_type": "code",
      "execution_count": 132,
      "metadata": {},
      "outputs": [],
      "source": [
        "best_params_xgboost = randomcv.best_params_"
      ]
    },
    {
      "cell_type": "code",
      "execution_count": 133,
      "metadata": {},
      "outputs": [],
      "source": [
        "best_xgboost = XGBClassifier(learning_rate=best_params_xgboost[\"learning_rate\"],\n",
        "                        n_estimators=best_params_xgboost[\"n_estimators\"],\n",
        "                        max_depth=best_params_xgboost[\"max_depth\"])"
      ]
    },
    {
      "cell_type": "code",
      "execution_count": 134,
      "metadata": {},
      "outputs": [],
      "source": [
        "best_xgboost.fit(x_train_vec, y_train)\n",
        "\n",
        "y_pred_xgboost = best_xgboost.predict(x_test_vec)"
      ]
    },
    {
      "cell_type": "code",
      "execution_count": 136,
      "metadata": {},
      "outputs": [
        {
          "name": "stdout",
          "output_type": "stream",
          "text": [
            "F1: 0.8641827721325629\n",
            "Precision: 0.8568418279994732\n",
            "Recall: 0.8716505894962486\n",
            "Accuracy: 0.8636666666666667\n"
          ]
        },
        {
          "data": {
            "image/png": "[encoded data removed]",
            "text/plain": [
              "<Figure size 640x480 with 2 Axes>"
            ]
          },
          "metadata": {},
          "output_type": "display_data"
        }
      ],
      "source": [
        "imprimir_resultados(y_test_, y_pred_xgboost)"
      ]
    },
    {
      "cell_type": "code",
      "execution_count": 137,
      "metadata": {},
      "outputs": [],
      "source": [
        "y_pred_xgboost_ = best_xgboost.predict(vectorizer.transform(x_test))"
      ]
    },
    {
      "cell_type": "code",
      "execution_count": 138,
      "metadata": {},
      "outputs": [],
      "source": [
        "guardar_resultado_en_csv(y_pred_xgboost_)"
      ]
    },
    {
      "cell_type": "markdown",
      "metadata": {
        "id": "3xHE04lcZAuq"
      },
      "source": [
        "## Red neuronal"
      ]
    },
    {
      "cell_type": "code",
      "execution_count": null,
      "metadata": {},
      "outputs": [],
      "source": []
    },
    {
      "cell_type": "markdown",
      "metadata": {
        "id": "sx7_i78nZAuq"
      },
      "source": [
        "## Ensamble"
      ]
    },
    {
      "cell_type": "code",
      "execution_count": null,
      "metadata": {},
      "outputs": [],
      "source": []
    }
  ],
  "metadata": {
    "colab": {
      "provenance": []
    },
    "kernelspec": {
      "display_name": "Python 3",
      "language": "python",
      "name": "python3"
    },
    "language_info": {
      "codemirror_mode": {
        "name": "ipython",
        "version": 3
      },
      "file_extension": ".py",
      "mimetype": "text/x-python",
      "name": "python",
      "nbconvert_exporter": "python",
      "pygments_lexer": "ipython3",
      "version": "3.12.3"
    }
  },
  "nbformat": 4,
  "nbformat_minor": 0
}
