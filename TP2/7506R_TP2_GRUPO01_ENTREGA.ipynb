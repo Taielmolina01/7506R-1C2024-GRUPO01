{
  "cells": [
    {
      "cell_type": "code",
      "execution_count": 79,
      "metadata": {
        "id": "a_0BUFmyZAuj"
      },
      "outputs": [],
      "source": [
        "import pandas as pd\n",
        "import nltk\n",
        "import numpy as np\n",
        "import seaborn as sns\n",
        "import matplotlib as plt\n",
        "from nltk.tokenize import word_tokenize\n",
        "from sklearn.model_selection import train_test_split\n",
        "from sklearn.feature_extraction.text import CountVectorizer\n",
        "from sklearn.naive_bayes import MultinomialNB, BernoulliNB\n",
        "from nltk.corpus import stopwords"
      ]
    },
    {
      "cell_type": "code",
      "execution_count": 80,
      "metadata": {
        "id": "aOmheHo6ZAuk"
      },
      "outputs": [],
      "source": [
        "df_train = pd.read_csv(\"train.csv\")\n",
        "df_test = pd.read_csv(\"test.csv\")"
      ]
    },
    {
      "cell_type": "code",
      "execution_count": 81,
      "metadata": {
        "id": "6SzVwyVlZAul"
      },
      "outputs": [],
      "source": [
        "RUTA_GUARDADO = \"predicciones.csv\""
      ]
    },
    {
      "cell_type": "code",
      "execution_count": 82,
      "metadata": {
        "colab": {
          "base_uri": "https://localhost:8080/"
        },
        "id": "IB88dakNZAul",
        "outputId": "ee197d73-7596-4b27-c3a5-c572ec547ad4"
      },
      "outputs": [
        {
          "name": "stdout",
          "output_type": "stream",
          "text": [
            "<class 'pandas.core.frame.DataFrame'>\n",
            "RangeIndex: 50000 entries, 0 to 49999\n",
            "Data columns (total 3 columns):\n",
            " #   Column       Non-Null Count  Dtype \n",
            "---  ------       --------------  ----- \n",
            " 0   ID           50000 non-null  int64 \n",
            " 1   review_es    50000 non-null  object\n",
            " 2   sentimiento  50000 non-null  object\n",
            "dtypes: int64(1), object(2)\n",
            "memory usage: 1.1+ MB\n"
          ]
        }
      ],
      "source": [
        "df_train.info()"
      ]
    },
    {
      "cell_type": "markdown",
      "metadata": {
        "id": "pUF8B5y8ZAul"
      },
      "source": [
        "Aqui ya observamos que el dataset no contiene nulos"
      ]
    },
    {
      "cell_type": "code",
      "execution_count": 83,
      "metadata": {
        "colab": {
          "base_uri": "https://localhost:8080/",
          "height": 363
        },
        "id": "05NrDUsxZAum",
        "outputId": "441f7587-0f72-43c7-faac-c0f215561397"
      },
      "outputs": [
        {
          "data": {
            "text/html": [
              "<div>\n",
              "<style scoped>\n",
              "    .dataframe tbody tr th:only-of-type {\n",
              "        vertical-align: middle;\n",
              "    }\n",
              "\n",
              "    .dataframe tbody tr th {\n",
              "        vertical-align: top;\n",
              "    }\n",
              "\n",
              "    .dataframe thead th {\n",
              "        text-align: right;\n",
              "    }\n",
              "</style>\n",
              "<table border=\"1\" class=\"dataframe\">\n",
              "  <thead>\n",
              "    <tr style=\"text-align: right;\">\n",
              "      <th></th>\n",
              "      <th>ID</th>\n",
              "      <th>review_es</th>\n",
              "      <th>sentimiento</th>\n",
              "    </tr>\n",
              "  </thead>\n",
              "  <tbody>\n",
              "    <tr>\n",
              "      <th>0</th>\n",
              "      <td>0</td>\n",
              "      <td>Uno de los otros críticos ha mencionado que de...</td>\n",
              "      <td>positivo</td>\n",
              "    </tr>\n",
              "    <tr>\n",
              "      <th>1</th>\n",
              "      <td>1</td>\n",
              "      <td>Una pequeña pequeña producción.La técnica de f...</td>\n",
              "      <td>positivo</td>\n",
              "    </tr>\n",
              "    <tr>\n",
              "      <th>2</th>\n",
              "      <td>2</td>\n",
              "      <td>Pensé que esta era una manera maravillosa de p...</td>\n",
              "      <td>positivo</td>\n",
              "    </tr>\n",
              "    <tr>\n",
              "      <th>3</th>\n",
              "      <td>3</td>\n",
              "      <td>Básicamente, hay una familia donde un niño peq...</td>\n",
              "      <td>negativo</td>\n",
              "    </tr>\n",
              "    <tr>\n",
              "      <th>4</th>\n",
              "      <td>4</td>\n",
              "      <td>El \"amor en el tiempo\" de Petter Mattei es una...</td>\n",
              "      <td>positivo</td>\n",
              "    </tr>\n",
              "    <tr>\n",
              "      <th>5</th>\n",
              "      <td>5</td>\n",
              "      <td>Probablemente mi película favorita de todos lo...</td>\n",
              "      <td>positivo</td>\n",
              "    </tr>\n",
              "    <tr>\n",
              "      <th>6</th>\n",
              "      <td>6</td>\n",
              "      <td>Seguro que me gustaría ver una resurrección de...</td>\n",
              "      <td>positivo</td>\n",
              "    </tr>\n",
              "    <tr>\n",
              "      <th>7</th>\n",
              "      <td>7</td>\n",
              "      <td>Este espectáculo fue una idea increíble, fresc...</td>\n",
              "      <td>negativo</td>\n",
              "    </tr>\n",
              "    <tr>\n",
              "      <th>8</th>\n",
              "      <td>8</td>\n",
              "      <td>Alentados por los comentarios positivos sobre ...</td>\n",
              "      <td>negativo</td>\n",
              "    </tr>\n",
              "    <tr>\n",
              "      <th>9</th>\n",
              "      <td>9</td>\n",
              "      <td>Si te gusta la risa original desgarradora, te ...</td>\n",
              "      <td>positivo</td>\n",
              "    </tr>\n",
              "  </tbody>\n",
              "</table>\n",
              "</div>"
            ],
            "text/plain": [
              "   ID                                          review_es sentimiento\n",
              "0   0  Uno de los otros críticos ha mencionado que de...    positivo\n",
              "1   1  Una pequeña pequeña producción.La técnica de f...    positivo\n",
              "2   2  Pensé que esta era una manera maravillosa de p...    positivo\n",
              "3   3  Básicamente, hay una familia donde un niño peq...    negativo\n",
              "4   4  El \"amor en el tiempo\" de Petter Mattei es una...    positivo\n",
              "5   5  Probablemente mi película favorita de todos lo...    positivo\n",
              "6   6  Seguro que me gustaría ver una resurrección de...    positivo\n",
              "7   7  Este espectáculo fue una idea increíble, fresc...    negativo\n",
              "8   8  Alentados por los comentarios positivos sobre ...    negativo\n",
              "9   9  Si te gusta la risa original desgarradora, te ...    positivo"
            ]
          },
          "execution_count": 83,
          "metadata": {},
          "output_type": "execute_result"
        }
      ],
      "source": [
        "df_train.head(10)"
      ]
    },
    {
      "cell_type": "code",
      "execution_count": 84,
      "metadata": {
        "colab": {
          "base_uri": "https://localhost:8080/",
          "height": 143
        },
        "id": "PAs0THlJZAun",
        "outputId": "d3b7b538-5ae5-41c8-8985-7234b477013f"
      },
      "outputs": [
        {
          "data": {
            "text/html": [
              "<div>\n",
              "<style scoped>\n",
              "    .dataframe tbody tr th:only-of-type {\n",
              "        vertical-align: middle;\n",
              "    }\n",
              "\n",
              "    .dataframe tbody tr th {\n",
              "        vertical-align: top;\n",
              "    }\n",
              "\n",
              "    .dataframe thead th {\n",
              "        text-align: right;\n",
              "    }\n",
              "</style>\n",
              "<table border=\"1\" class=\"dataframe\">\n",
              "  <thead>\n",
              "    <tr style=\"text-align: right;\">\n",
              "      <th></th>\n",
              "      <th>ID</th>\n",
              "      <th>review_es</th>\n",
              "    </tr>\n",
              "  </thead>\n",
              "  <tbody>\n",
              "    <tr>\n",
              "      <th>0</th>\n",
              "      <td>60000</td>\n",
              "      <td>La mayor virtud de esta película es su existen...</td>\n",
              "    </tr>\n",
              "    <tr>\n",
              "      <th>1</th>\n",
              "      <td>60001</td>\n",
              "      <td>No soy un experto cinéfilo, pero pocas veces m...</td>\n",
              "    </tr>\n",
              "    <tr>\n",
              "      <th>2</th>\n",
              "      <td>60002</td>\n",
              "      <td>Si no eres un incondicional del humor estilo T...</td>\n",
              "    </tr>\n",
              "  </tbody>\n",
              "</table>\n",
              "</div>"
            ],
            "text/plain": [
              "      ID                                          review_es\n",
              "0  60000  La mayor virtud de esta película es su existen...\n",
              "1  60001  No soy un experto cinéfilo, pero pocas veces m...\n",
              "2  60002  Si no eres un incondicional del humor estilo T..."
            ]
          },
          "execution_count": 84,
          "metadata": {},
          "output_type": "execute_result"
        }
      ],
      "source": [
        "df_test.head(3)"
      ]
    },
    {
      "cell_type": "code",
      "execution_count": 85,
      "metadata": {
        "colab": {
          "base_uri": "https://localhost:8080/",
          "height": 466
        },
        "id": "kushQStZZAun",
        "outputId": "94cbe615-7c1d-48ae-99eb-260854a7ea6f"
      },
      "outputs": [
        {
          "data": {
            "text/plain": [
              "<Axes: xlabel='sentimiento', ylabel='count'>"
            ]
          },
          "execution_count": 85,
          "metadata": {},
          "output_type": "execute_result"
        },
        {
          "data": {
            "image/png": "[encoded data removed]",
            "text/plain": [
              "<Figure size 640x480 with 1 Axes>"
            ]
          },
          "metadata": {},
          "output_type": "display_data"
        }
      ],
      "source": [
        "sns.countplot(x=df_train[\"sentimiento\"], color=\"#F1948A\")"
      ]
    },
    {
      "cell_type": "code",
      "execution_count": 86,
      "metadata": {
        "colab": {
          "base_uri": "https://localhost:8080/"
        },
        "id": "CJC41L3aZAun",
        "outputId": "10292294-bfee-4370-b48b-f6e4e422df19"
      },
      "outputs": [
        {
          "data": {
            "text/plain": [
              "sentimiento\n",
              "positivo    25000\n",
              "negativo    25000\n",
              "Name: count, dtype: int64"
            ]
          },
          "execution_count": 86,
          "metadata": {},
          "output_type": "execute_result"
        }
      ],
      "source": [
        "df_train[\"sentimiento\"].value_counts()"
      ]
    },
    {
      "cell_type": "code",
      "execution_count": 87,
      "metadata": {
        "id": "jKCNXPc_ZAun"
      },
      "outputs": [],
      "source": [
        "from sklearn.model_selection import train_test_split"
      ]
    },
    {
      "cell_type": "code",
      "execution_count": 88,
      "metadata": {
        "id": "AorOVP9NZAun"
      },
      "outputs": [],
      "source": [
        "df_train_train, df_train_test = train_test_split(df_train, test_size=0.3, random_state=33)"
      ]
    },
    {
      "cell_type": "code",
      "execution_count": 89,
      "metadata": {
        "id": "b3z6KSd4ZAuo"
      },
      "outputs": [],
      "source": [
        "x_train, y_train, x_test_, y_test_ = df_train_train[\"review_es\"], df_train_train[\"sentimiento\"], df_train_test[\"review_es\"], df_train_test[\"sentimiento\"]"
      ]
    },
    {
      "cell_type": "code",
      "execution_count": 90,
      "metadata": {
        "id": "v_jpR6LFZAuo"
      },
      "outputs": [],
      "source": [
        "x_test = df_test[\"review_es\"]"
      ]
    },
    {
      "cell_type": "code",
      "execution_count": 91,
      "metadata": {
        "id": "Y7oPpyOZZAuo"
      },
      "outputs": [],
      "source": [
        "from sklearn.model_selection import GridSearchCV"
      ]
    },
    {
      "cell_type": "code",
      "execution_count": 92,
      "metadata": {
        "id": "KPZU1vW4ZAuo"
      },
      "outputs": [],
      "source": [
        "def busqueda_hiperparametros(modelo, x_vectorizado):\n",
        "    param_grid = {\n",
        "      \"alpha\": [0.6, 0.7, 0.8],\n",
        "      \"binarize\": [0.0],\n",
        "      \"fit_prior\": [True],\n",
        "      \"class_prior\": [[0.2,0.6],[0.1,0.5],[0.2,0.7]]\n",
        "    }\n",
        "    # {\"alpha\": 0.6, \"binarize\": 0.0, \"class_prior\": [0.2, 0.6], \"fit_prior\": True}\n",
        "    grid_search = GridSearchCV(estimator=modelo, param_grid=param_grid, cv=10, scoring=\"f1_macro\")\n",
        "\n",
        "    grid_search.fit(x_vectorizado, y_train)\n",
        "\n",
        "    return grid_search"
      ]
    },
    {
      "cell_type": "code",
      "execution_count": 93,
      "metadata": {
        "id": "1b7rfr7QZAuo"
      },
      "outputs": [],
      "source": [
        "from sklearn.metrics import ConfusionMatrixDisplay, confusion_matrix, f1_score, precision_score, recall_score, accuracy_score"
      ]
    },
    {
      "cell_type": "code",
      "execution_count": 127,
      "metadata": {
        "id": "OWk8hHQWZAuo"
      },
      "outputs": [],
      "source": [
        "def imprimir_resultados(y, y_pred):\n",
        "\n",
        "    labels = [0, 1]\n",
        "\n",
        "    f1 = f1_score(y, y_pred, pos_label=1, labels=labels)\n",
        "    precision = precision_score(y, y_pred, pos_label=1, labels=labels)\n",
        "    recall = recall_score(y, y_pred, pos_label=1, labels=labels)\n",
        "    accuracy = accuracy_score(y, y_pred)\n",
        "\n",
        "    cm = confusion_matrix(y_test_, y_pred)\n",
        "\n",
        "    ConfusionMatrixDisplay(confusion_matrix=cm).plot()\n",
        "\n",
        "    print(f\"F1: {f1}\")\n",
        "    print(f\"Precision: {precision}\")\n",
        "    print(f\"Recall: {recall}\")\n",
        "    print(f\"Accuracy: {accuracy}\")"
      ]
    },
    {
      "cell_type": "code",
      "execution_count": 95,
      "metadata": {
        "id": "lMOsN3KKZAup"
      },
      "outputs": [],
      "source": [
        "def guardar_resultado_en_csv(prediccion):\n",
        "\n",
        "    df_predicciones = pd.DataFrame({\"ID\": df_test[\"ID\"], \"prediccion\": prediccion})\n",
        "\n",
        "    df_predicciones.to_csv(RUTA_GUARDADO, header=[\"ID\", \"sentimiento\"], index=False)"
      ]
    },
    {
      "cell_type": "code",
      "execution_count": 96,
      "metadata": {
        "id": "3Ns112xvZAup"
      },
      "outputs": [],
      "source": [
        "vectorizer = CountVectorizer()\n",
        "x_train_vec = vectorizer.fit_transform(x_train)\n",
        "x_test_vec = vectorizer.transform(x_test_)"
      ]
    },
    {
      "cell_type": "markdown",
      "metadata": {
        "id": "EUddEzP5ZAup"
      },
      "source": [
        "## Bernoulli Naive Bayes"
      ]
    },
    {
      "cell_type": "code",
      "execution_count": 97,
      "metadata": {
        "id": "rcKfZQ3uZAup"
      },
      "outputs": [],
      "source": [
        "# Dejando stopwords\n",
        "\n",
        "# nb_classifier = BernoulliNB()\n",
        "# gs = busqueda_hiperparametros(nb_classifier, x_train_vec)"
      ]
    },
    {
      "cell_type": "code",
      "execution_count": 98,
      "metadata": {
        "colab": {
          "base_uri": "https://localhost:8080/"
        },
        "id": "139jZBnUZbdv",
        "outputId": "fa954a5e-211f-4e01-a142-ef9805db0b5a"
      },
      "outputs": [],
      "source": [
        "# print(gs.best_params_)"
      ]
    },
    {
      "cell_type": "code",
      "execution_count": 99,
      "metadata": {
        "id": "7z_Tw5XvZAup"
      },
      "outputs": [],
      "source": [
        "# best_nb = BernoulliNB(alpha=gs.best_params_[\"alpha\"], fit_prior=gs.best_params_[\"fit_prior\"])\n",
        "\n",
        "# gs.fit(x_train_vec, y_train)\n",
        "# y_pred = gs.predict(x_test_vec)"
      ]
    },
    {
      "cell_type": "code",
      "execution_count": 100,
      "metadata": {
        "colab": {
          "base_uri": "https://localhost:8080/",
          "height": 518
        },
        "id": "SnFfU-xLZAup",
        "outputId": "051d9477-a6b6-4fd8-b697-31acff2d4cfb"
      },
      "outputs": [],
      "source": [
        "# imprimir_resultados(y_test_, y_pred)"
      ]
    },
    {
      "cell_type": "code",
      "execution_count": 101,
      "metadata": {
        "id": "YWSOE2KqZAup"
      },
      "outputs": [],
      "source": [
        "# y_pred_ = gs.predict(vectorizer.transform(x_test))"
      ]
    },
    {
      "cell_type": "code",
      "execution_count": 102,
      "metadata": {
        "id": "Tc-rwR4yZAup"
      },
      "outputs": [],
      "source": [
        "# guardar_resultado_en_csv(y_pred_)"
      ]
    },
    {
      "cell_type": "markdown",
      "metadata": {
        "id": "-mvDPiwZZAup"
      },
      "source": [
        "## Random Forest"
      ]
    },
    {
      "cell_type": "code",
      "execution_count": 103,
      "metadata": {},
      "outputs": [],
      "source": [
        "from sklearn.ensemble import RandomForestClassifier\n",
        "from sklearn.model_selection import RandomizedSearchCV, StratifiedKFold"
      ]
    },
    {
      "cell_type": "code",
      "execution_count": 104,
      "metadata": {},
      "outputs": [],
      "source": [
        "def func_classif(param_distributions, cv, scoring, estimator, n_iter):\n",
        "  randomcv = RandomizedSearchCV(estimator=estimator,\n",
        "                                param_distributions = param_distributions,\n",
        "                                scoring=scoring,\n",
        "                                cv=cv,\n",
        "                                n_jobs = -1,\n",
        "                                n_iter=n_iter,\n",
        "                                random_state=33)\n",
        "\n",
        "  randomcv.fit(x_train_vec, y_train)\n",
        "\n",
        "  return randomcv"
      ]
    },
    {
      "cell_type": "code",
      "execution_count": 105,
      "metadata": {},
      "outputs": [],
      "source": [
        "# n_iter = 5\n",
        "\n",
        "# param_distributions = { \"criterion\" : [\"gini\", \"entropy\", \"log_loss\"],\n",
        "#                \"min_samples_leaf\" : [1, 5, 10],\n",
        "#                \"min_samples_split\" : [2, 4, 10, 12, 16],\n",
        "#                \"n_estimators\": [10, 20, 50, 70, 100],\n",
        "#                 \"max_depth\": range(15, 50) }\n",
        "\n",
        "\n",
        "# cv = StratifiedKFold(n_splits=5)\n",
        "\n",
        "# scoring = \"accuracy\"\n",
        "\n",
        "# estimator = RandomForestClassifier(random_state=33)\n",
        "\n",
        "# randomcv = func_classif(param_distributions, cv, scoring, estimator, n_iter)"
      ]
    },
    {
      "cell_type": "code",
      "execution_count": 106,
      "metadata": {},
      "outputs": [],
      "source": [
        "#best_rf = randomcv.best_estimator_"
      ]
    },
    {
      "cell_type": "code",
      "execution_count": 107,
      "metadata": {},
      "outputs": [],
      "source": [
        "# best_params_rf = randomcv.best_params_"
      ]
    },
    {
      "cell_type": "code",
      "execution_count": 108,
      "metadata": {},
      "outputs": [],
      "source": [
        "# best_rf = RandomForestClassifier(criterion=best_params_rf[\"criterion\"],\n",
        "#                                  min_samples_leaf=best_params_rf[\"min_samples_leaf\"],\n",
        "#                                  min_samples_split=best_params_rf[\"min_samples_split\"],\n",
        "#                                  n_estimators=best_params_rf[\"n_estimators\"],\n",
        "#                                  max_depth=best_params_rf[\"max_depth\"])"
      ]
    },
    {
      "cell_type": "code",
      "execution_count": 109,
      "metadata": {},
      "outputs": [],
      "source": [
        "# best_rf.fit(x_train_vec, y_train)\n",
        "\n",
        "# y_pred = best_rf.predict(x_test_vec)"
      ]
    },
    {
      "cell_type": "code",
      "execution_count": 110,
      "metadata": {},
      "outputs": [],
      "source": [
        "# imprimir_resultados(y_test_, y_pred)"
      ]
    },
    {
      "cell_type": "code",
      "execution_count": 111,
      "metadata": {},
      "outputs": [],
      "source": [
        "# y_pred_ = best_rf.predict(vectorizer.transform(x_test))"
      ]
    },
    {
      "cell_type": "code",
      "execution_count": 112,
      "metadata": {},
      "outputs": [],
      "source": [
        "# guardar_resultado_en_csv(y_pred_)"
      ]
    },
    {
      "cell_type": "markdown",
      "metadata": {
        "id": "G-PvkE0XZAuq"
      },
      "source": [
        "## XGBoost"
      ]
    },
    {
      "cell_type": "code",
      "execution_count": 113,
      "metadata": {},
      "outputs": [],
      "source": [
        "from xgboost import XGBClassifier"
      ]
    },
    {
      "cell_type": "code",
      "execution_count": 114,
      "metadata": {},
      "outputs": [],
      "source": [
        "y_train = y_train.map({'positivo': 1, 'negativo': 0})"
      ]
    },
    {
      "cell_type": "code",
      "execution_count": 115,
      "metadata": {},
      "outputs": [],
      "source": [
        "y_test_ = y_test_.map({\"positivo\": 1, \"negativo\": 0})"
      ]
    },
    {
      "cell_type": "code",
      "execution_count": 116,
      "metadata": {},
      "outputs": [],
      "source": [
        "n_iter = 5\n",
        "\n",
        "param_distributions = { \n",
        "    \"learning_rate\": [0.01, 0.1, 0.2],\n",
        "    \"max_depth\": [3, 5, 7],\n",
        "    \"n_estimators\": [100, 200, 300] \n",
        "    }\n",
        "\n",
        "cv = StratifiedKFold(n_splits=5)\n",
        "\n",
        "scoring = \"accuracy\"\n",
        "\n",
        "estimator = XGBClassifier(random_state=33)\n",
        "\n",
        "randomcv = func_classif(param_distributions, cv, scoring, estimator, n_iter)"
      ]
    },
    {
      "cell_type": "code",
      "execution_count": 117,
      "metadata": {},
      "outputs": [],
      "source": [
        "best_params_xgboost = randomcv.best_params_"
      ]
    },
    {
      "cell_type": "code",
      "execution_count": 122,
      "metadata": {},
      "outputs": [],
      "source": [
        "best_xgboost = XGBClassifier(learning_rate=best_params_xgboost[\"learning_rate\"],\n",
        "                        n_estimators=best_params_xgboost[\"n_estimators\"],\n",
        "                        max_depth=best_params_xgboost[\"max_depth\"])"
      ]
    },
    {
      "cell_type": "code",
      "execution_count": 123,
      "metadata": {},
      "outputs": [],
      "source": [
        "best_xgboost.fit(x_train_vec, y_train)\n",
        "\n",
        "y_pred = best_xgboost.predict(x_test_vec)"
      ]
    },
    {
      "cell_type": "code",
      "execution_count": 128,
      "metadata": {},
      "outputs": [
        {
          "name": "stdout",
          "output_type": "stream",
          "text": [
            "F1: 0.8549396955117643\n",
            "Precision: 0.8413542612530808\n",
            "Recall: 0.8689710610932476\n",
            "Accuracy: 0.8532666666666666\n"
          ]
        },
        {
          "data": {
            "image/png": "[encoded data removed]",
            "text/plain": [
              "<Figure size 640x480 with 2 Axes>"
            ]
          },
          "metadata": {},
          "output_type": "display_data"
        }
      ],
      "source": [
        "imprimir_resultados(y_test_, y_pred)"
      ]
    },
    {
      "cell_type": "code",
      "execution_count": 129,
      "metadata": {},
      "outputs": [],
      "source": [
        "y_pred_ = best_xgboost.predict(vectorizer.transform(x_test))"
      ]
    },
    {
      "cell_type": "code",
      "execution_count": 131,
      "metadata": {},
      "outputs": [],
      "source": [
        "y_pred_ = np.where(y_pred_ == 0, \"negativo\", \"positivo\")"
      ]
    },
    {
      "cell_type": "code",
      "execution_count": 132,
      "metadata": {},
      "outputs": [],
      "source": [
        "guardar_resultado_en_csv(y_pred_)"
      ]
    },
    {
      "cell_type": "markdown",
      "metadata": {
        "id": "3xHE04lcZAuq"
      },
      "source": [
        "## Red neuronal"
      ]
    },
    {
      "cell_type": "markdown",
      "metadata": {
        "id": "sx7_i78nZAuq"
      },
      "source": [
        "## Ensamble"
      ]
    },
    {
      "cell_type": "markdown",
      "metadata": {
        "id": "R40M7K0rZAuq"
      },
      "source": [
        "Pruebo sacando los stopwords"
      ]
    },
    {
      "cell_type": "code",
      "execution_count": 118,
      "metadata": {
        "id": "YRMs92-mZAuq"
      },
      "outputs": [],
      "source": [
        "# nltk.download(\"stopwords\")\n",
        "# nltk.download(\"punkt\")\n",
        "# stop_words = set(stopwords.words(\"spanish\"))"
      ]
    },
    {
      "cell_type": "code",
      "execution_count": 119,
      "metadata": {
        "id": "nNcLaQcaZAuq"
      },
      "outputs": [],
      "source": [
        "# def limpiar_reseña(reseña):\n",
        "#     palabras = word_tokenize(reseña.lower())\n",
        "#     palabras_filtradas = [word for word in palabras if word not in stop_words]\n",
        "#     return \" \".join(palabras_filtradas)"
      ]
    },
    {
      "cell_type": "code",
      "execution_count": 120,
      "metadata": {
        "id": "yEjhSZciZAur"
      },
      "outputs": [],
      "source": [
        "# # Sacando stopwords\n",
        "\n",
        "# x_train_ = [limpiar_reseña(reseña) for reseña in x_train]\n",
        "# x_train_ = pd.Series([limpiar_reseña(reseña) for reseña in x_train])"
      ]
    },
    {
      "cell_type": "code",
      "execution_count": 121,
      "metadata": {
        "id": "J7yyxBDCZAur"
      },
      "outputs": [],
      "source": [
        "# vectorizer = CountVectorizer()\n",
        "# x_train_vec_ = vectorizer.fit_transform(x_train_)\n",
        "# x_test_vec_ = vectorizer.transform(x_test)\n",
        "\n",
        "# nb_classifier = BernoulliNB()\n",
        "# nb_classifier.fit(x_train_vec_, y_train)\n",
        "\n",
        "# gs = busqueda_hiperparametros(nb_classifier, x_train_vec)\n",
        "\n",
        "# best_nb = BernoulliNB(alpha=gs.best_params_[\"alpha\"], fit_prior=gs.best_params_[\"fit_prior\"])\n",
        "\n",
        "# best_nb.fit(x_train_vec_, y_train)\n",
        "\n",
        "\n",
        "# y_pred = best_nb.predict(x_test_vec_)\n",
        "\n",
        "# guardar_resultado_en_csv(y_pred)"
      ]
    }
  ],
  "metadata": {
    "colab": {
      "provenance": []
    },
    "kernelspec": {
      "display_name": "Python 3",
      "language": "python",
      "name": "python3"
    },
    "language_info": {
      "codemirror_mode": {
        "name": "ipython",
        "version": 3
      },
      "file_extension": ".py",
      "mimetype": "text/x-python",
      "name": "python",
      "nbconvert_exporter": "python",
      "pygments_lexer": "ipython3",
      "version": "3.12.3"
    }
  },
  "nbformat": 4,
  "nbformat_minor": 0
}
