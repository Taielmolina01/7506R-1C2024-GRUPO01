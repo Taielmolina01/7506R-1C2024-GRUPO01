{
  "cells": [
    {
      "cell_type": "code",
      "execution_count": 72,
      "metadata": {
        "id": "a_0BUFmyZAuj"
      },
      "outputs": [],
      "source": [
        "import pandas as pd\n",
        "import nltk\n",
        "import numpy as np\n",
        "import seaborn as sns\n",
        "import matplotlib as plt\n",
        "from nltk.tokenize import word_tokenize\n",
        "from sklearn.model_selection import train_test_split\n",
        "from sklearn.feature_extraction.text import CountVectorizer\n",
        "from sklearn.naive_bayes import BernoulliNB\n",
        "from nltk.corpus import stopwords\n",
        "from mejores_modelos.funciones_aux import imprimir_resultados, guardar_resultado_en_csv\n",
        "from tensorboard.plugins.hparams import api as hp"
      ]
    },
    {
      "cell_type": "markdown",
      "metadata": {},
      "source": [
        "Aqui utilizamos el archivo train_limpio.csv que es el train.csv pero filtrado sacando reseñas que no estaban en español"
      ]
    },
    {
      "cell_type": "code",
      "execution_count": 19,
      "metadata": {},
      "outputs": [],
      "source": [
        "RUTA_TRAIN, RUTA_TEST = \"train.csv\", \"test.csv\""
      ]
    },
    {
      "cell_type": "code",
      "execution_count": 20,
      "metadata": {
        "id": "aOmheHo6ZAuk"
      },
      "outputs": [],
      "source": [
        "df_train = pd.read_csv(RUTA_TRAIN)\n",
        "df_test = pd.read_csv(RUTA_TEST)"
      ]
    },
    {
      "cell_type": "code",
      "execution_count": 21,
      "metadata": {
        "colab": {
          "base_uri": "https://localhost:8080/"
        },
        "id": "IB88dakNZAul",
        "outputId": "ee197d73-7596-4b27-c3a5-c572ec547ad4"
      },
      "outputs": [
        {
          "name": "stdout",
          "output_type": "stream",
          "text": [
            "<class 'pandas.core.frame.DataFrame'>\n",
            "RangeIndex: 50000 entries, 0 to 49999\n",
            "Data columns (total 3 columns):\n",
            " #   Column       Non-Null Count  Dtype \n",
            "---  ------       --------------  ----- \n",
            " 0   ID           50000 non-null  int64 \n",
            " 1   review_es    50000 non-null  object\n",
            " 2   sentimiento  50000 non-null  object\n",
            "dtypes: int64(1), object(2)\n",
            "memory usage: 1.1+ MB\n"
          ]
        }
      ],
      "source": [
        "df_train.info()"
      ]
    },
    {
      "cell_type": "markdown",
      "metadata": {
        "id": "pUF8B5y8ZAul"
      },
      "source": [
        "Aqui ya observamos que el dataset no contiene nulos"
      ]
    },
    {
      "cell_type": "code",
      "execution_count": 22,
      "metadata": {
        "colab": {
          "base_uri": "https://localhost:8080/",
          "height": 466
        },
        "id": "kushQStZZAun",
        "outputId": "94cbe615-7c1d-48ae-99eb-260854a7ea6f"
      },
      "outputs": [
        {
          "data": {
            "text/plain": [
              "<Axes: xlabel='sentimiento', ylabel='count'>"
            ]
          },
          "execution_count": 22,
          "metadata": {},
          "output_type": "execute_result"
        },
        {
          "data": {
            "image/png": "[encoded data removed]",
            "text/plain": [
              "<Figure size 640x480 with 1 Axes>"
            ]
          },
          "metadata": {},
          "output_type": "display_data"
        }
      ],
      "source": [
        "sns.countplot(x=df_train[\"sentimiento\"], color=\"#F1948A\")"
      ]
    },
    {
      "cell_type": "code",
      "execution_count": 23,
      "metadata": {
        "colab": {
          "base_uri": "https://localhost:8080/"
        },
        "id": "CJC41L3aZAun",
        "outputId": "10292294-bfee-4370-b48b-f6e4e422df19"
      },
      "outputs": [
        {
          "data": {
            "text/plain": [
              "sentimiento\n",
              "positivo    25000\n",
              "negativo    25000\n",
              "Name: count, dtype: int64"
            ]
          },
          "execution_count": 23,
          "metadata": {},
          "output_type": "execute_result"
        }
      ],
      "source": [
        "df_train[\"sentimiento\"].value_counts()"
      ]
    },
    {
      "cell_type": "code",
      "execution_count": 24,
      "metadata": {},
      "outputs": [],
      "source": [
        "df_train[\"sentimiento\"] = df_train[\"sentimiento\"].map({\"positivo\": 1, \"negativo\": 0})"
      ]
    },
    {
      "cell_type": "code",
      "execution_count": 25,
      "metadata": {},
      "outputs": [],
      "source": [
        "df_train[\"review_es\"], df_test[\"review_es\"] = df_train[\"review_es\"].str.lower(), df_test[\"review_es\"].str.lower()"
      ]
    },
    {
      "cell_type": "code",
      "execution_count": 26,
      "metadata": {
        "id": "AorOVP9NZAun"
      },
      "outputs": [],
      "source": [
        "df_train_train, df_train_test = train_test_split(df_train, test_size=0.3, random_state=33)"
      ]
    },
    {
      "cell_type": "code",
      "execution_count": 27,
      "metadata": {
        "id": "b3z6KSd4ZAuo"
      },
      "outputs": [],
      "source": [
        "x_train, y_train, x_test_, y_test_ = df_train_train[\"review_es\"], df_train_train[\"sentimiento\"], df_train_test[\"review_es\"], df_train_test[\"sentimiento\"]"
      ]
    },
    {
      "cell_type": "code",
      "execution_count": 28,
      "metadata": {
        "id": "v_jpR6LFZAuo"
      },
      "outputs": [],
      "source": [
        "x_test = df_test[\"review_es\"]"
      ]
    },
    {
      "cell_type": "code",
      "execution_count": 29,
      "metadata": {
        "id": "Y7oPpyOZZAuo"
      },
      "outputs": [],
      "source": [
        "from sklearn.model_selection import GridSearchCV"
      ]
    },
    {
      "cell_type": "code",
      "execution_count": 30,
      "metadata": {
        "id": "3Ns112xvZAup"
      },
      "outputs": [],
      "source": [
        "vectorizer = CountVectorizer()\n",
        "x_train_vec = vectorizer.fit_transform(x_train)\n",
        "x_test_vec = vectorizer.transform(x_test_)"
      ]
    },
    {
      "cell_type": "markdown",
      "metadata": {
        "id": "EUddEzP5ZAup"
      },
      "source": [
        "## Bernoulli Naive Bayes"
      ]
    },
    {
      "cell_type": "code",
      "execution_count": 31,
      "metadata": {},
      "outputs": [],
      "source": [
        "def busqueda_hiperparametros_nb(modelo, x_vectorizado):\n",
        "  param_grid = {\n",
        "    \"alpha\": [0.6, 0.65, 0.7, 0.8],\n",
        "    \"fit_prior\": [False, True],\n",
        "    \"class_prior\": [[0.2, 0.6], [0.1, 0.5], [0.2, 0.7]]\n",
        "  }\n",
        "  \n",
        "  grid_search = GridSearchCV(estimator=modelo, param_grid=param_grid, cv=10, scoring=\"f1_macro\")\n",
        "  \n",
        "  grid_search.fit(x_vectorizado, y_train)\n",
        "\n",
        "  return grid_search"
      ]
    },
    {
      "cell_type": "code",
      "execution_count": 32,
      "metadata": {
        "id": "rcKfZQ3uZAup"
      },
      "outputs": [],
      "source": [
        "nb_classifier = BernoulliNB()\n",
        "gs = busqueda_hiperparametros_nb(nb_classifier, x_train_vec)"
      ]
    },
    {
      "cell_type": "code",
      "execution_count": 33,
      "metadata": {
        "colab": {
          "base_uri": "https://localhost:8080/"
        },
        "id": "139jZBnUZbdv",
        "outputId": "fa954a5e-211f-4e01-a142-ef9805db0b5a"
      },
      "outputs": [
        {
          "name": "stdout",
          "output_type": "stream",
          "text": [
            "{'alpha': 0.8, 'class_prior': [0.1, 0.5], 'fit_prior': False}\n"
          ]
        }
      ],
      "source": [
        "print(gs.best_params_)"
      ]
    },
    {
      "cell_type": "code",
      "execution_count": 34,
      "metadata": {
        "id": "7z_Tw5XvZAup"
      },
      "outputs": [],
      "source": [
        "best_nb = BernoulliNB(alpha=gs.best_params_[\"alpha\"], fit_prior=gs.best_params_[\"fit_prior\"])\n",
        "\n",
        "gs.fit(x_train_vec, y_train)\n",
        "y_pred_nb = gs.predict(x_test_vec)"
      ]
    },
    {
      "cell_type": "code",
      "execution_count": 35,
      "metadata": {
        "colab": {
          "base_uri": "https://localhost:8080/",
          "height": 518
        },
        "id": "SnFfU-xLZAup",
        "outputId": "051d9477-a6b6-4fd8-b697-31acff2d4cfb"
      },
      "outputs": [
        {
          "name": "stdout",
          "output_type": "stream",
          "text": [
            "F1: 0.8498920086393088\n",
            "Precision: 0.8648351648351649\n",
            "Recall: 0.8354564755838642\n",
            "Accuracy: 0.8517333333333333\n"
          ]
        },
        {
          "data": {
            "image/png": "[encoded data removed]",
            "text/plain": [
              "<Figure size 640x480 with 2 Axes>"
            ]
          },
          "metadata": {},
          "output_type": "display_data"
        }
      ],
      "source": [
        "imprimir_resultados(y_test_, y_pred_nb)"
      ]
    },
    {
      "cell_type": "code",
      "execution_count": 36,
      "metadata": {
        "id": "YWSOE2KqZAup"
      },
      "outputs": [],
      "source": [
        "y_pred_nb_ = gs.predict(vectorizer.transform(x_test))"
      ]
    },
    {
      "cell_type": "markdown",
      "metadata": {
        "id": "-mvDPiwZZAup"
      },
      "source": [
        "## Random Forest"
      ]
    },
    {
      "cell_type": "code",
      "execution_count": 37,
      "metadata": {},
      "outputs": [],
      "source": [
        "from sklearn.ensemble import RandomForestClassifier\n",
        "from sklearn.model_selection import RandomizedSearchCV, StratifiedKFold"
      ]
    },
    {
      "cell_type": "code",
      "execution_count": 38,
      "metadata": {},
      "outputs": [],
      "source": [
        "def func_classif(param_distributions, cv, scoring, estimator, n_iter):\n",
        "  randomcv = RandomizedSearchCV(estimator=estimator,\n",
        "                                param_distributions = param_distributions,\n",
        "                                scoring=scoring,\n",
        "                                cv=cv,\n",
        "                                n_jobs = -1,\n",
        "                                n_iter=n_iter,\n",
        "                                random_state=33)\n",
        "\n",
        "  randomcv.fit(x_train_vec, y_train)\n",
        "\n",
        "  return randomcv"
      ]
    },
    {
      "cell_type": "code",
      "execution_count": 39,
      "metadata": {},
      "outputs": [],
      "source": [
        "n_iter = 5\n",
        "\n",
        "param_distributions = { \n",
        "    \"criterion\" : [\"gini\", \"entropy\", \"log_loss\"],\n",
        "    \"min_samples_leaf\" : [1, 5, 10],\n",
        "    \"min_samples_split\" : [2, 4, 10, 12, 16],\n",
        "    \"n_estimators\": [10, 20, 50, 70, 100],\n",
        "    \"max_depth\": range(15, 50) }\n",
        "\n",
        "\n",
        "cv = StratifiedKFold(n_splits=5)\n",
        "\n",
        "scoring = \"accuracy\"\n",
        "\n",
        "estimator = RandomForestClassifier(random_state=33)\n",
        "\n",
        "randomcv = func_classif(param_distributions, cv, scoring, estimator, n_iter)"
      ]
    },
    {
      "cell_type": "code",
      "execution_count": 40,
      "metadata": {},
      "outputs": [],
      "source": [
        "best_rf = randomcv.best_estimator_"
      ]
    },
    {
      "cell_type": "code",
      "execution_count": 41,
      "metadata": {},
      "outputs": [],
      "source": [
        "best_params_rf = randomcv.best_params_"
      ]
    },
    {
      "cell_type": "code",
      "execution_count": 42,
      "metadata": {},
      "outputs": [],
      "source": [
        "best_rf = RandomForestClassifier(\n",
        "            criterion=best_params_rf[\"criterion\"],\n",
        "            min_samples_leaf=best_params_rf[\"min_samples_leaf\"],\n",
        "            min_samples_split=best_params_rf[\"min_samples_split\"],\n",
        "            n_estimators=best_params_rf[\"n_estimators\"],\n",
        "            max_depth=best_params_rf[\"max_depth\"])"
      ]
    },
    {
      "cell_type": "code",
      "execution_count": 43,
      "metadata": {},
      "outputs": [],
      "source": [
        "best_rf.fit(x_train_vec, y_train)\n",
        "\n",
        "y_pred_rf = best_rf.predict(x_test_vec)"
      ]
    },
    {
      "cell_type": "code",
      "execution_count": 44,
      "metadata": {},
      "outputs": [
        {
          "name": "stdout",
          "output_type": "stream",
          "text": [
            "F1: 0.8371430509394289\n",
            "Precision: 0.8562508672124324\n",
            "Recall: 0.8188694267515924\n",
            "Accuracy: 0.8399333333333333\n"
          ]
        },
        {
          "data": {
            "image/png": "[encoded data removed]",
            "text/plain": [
              "<Figure size 640x480 with 2 Axes>"
            ]
          },
          "metadata": {},
          "output_type": "display_data"
        }
      ],
      "source": [
        "imprimir_resultados(y_test_, y_pred_rf)"
      ]
    },
    {
      "cell_type": "code",
      "execution_count": 65,
      "metadata": {},
      "outputs": [],
      "source": [
        "y_pred_rf_ = best_rf.predict(vectorizer.transform(x_test))"
      ]
    },
    {
      "cell_type": "markdown",
      "metadata": {
        "id": "G-PvkE0XZAuq"
      },
      "source": [
        "## XGBoost"
      ]
    },
    {
      "cell_type": "code",
      "execution_count": 45,
      "metadata": {},
      "outputs": [],
      "source": [
        "from xgboost import XGBClassifier"
      ]
    },
    {
      "cell_type": "code",
      "execution_count": 46,
      "metadata": {},
      "outputs": [],
      "source": [
        "n_iter = 5\n",
        "\n",
        "param_distributions = { \n",
        "    \"learning_rate\": [0.01, 0.1, 0.2, 0.3, 0.4],\n",
        "    \"max_depth\": [3, 4, 5, 7],\n",
        "    \"n_estimators\": [100, 200, 300] \n",
        "    }\n",
        "\n",
        "cv = StratifiedKFold(n_splits=5)\n",
        "\n",
        "scoring = \"accuracy\"\n",
        "\n",
        "estimator = XGBClassifier(random_state=33)\n",
        "\n",
        "randomcv = func_classif(param_distributions, cv, scoring, estimator, n_iter)"
      ]
    },
    {
      "cell_type": "code",
      "execution_count": 47,
      "metadata": {},
      "outputs": [],
      "source": [
        "best_params_xgboost = randomcv.best_params_"
      ]
    },
    {
      "cell_type": "code",
      "execution_count": 48,
      "metadata": {},
      "outputs": [],
      "source": [
        "best_xgboost = XGBClassifier(learning_rate=best_params_xgboost[\"learning_rate\"],\n",
        "                        n_estimators=best_params_xgboost[\"n_estimators\"],\n",
        "                        max_depth=best_params_xgboost[\"max_depth\"])"
      ]
    },
    {
      "cell_type": "code",
      "execution_count": 49,
      "metadata": {},
      "outputs": [],
      "source": [
        "best_xgboost.fit(x_train_vec, y_train)\n",
        "\n",
        "y_pred_xgboost = best_xgboost.predict(x_test_vec)"
      ]
    },
    {
      "cell_type": "code",
      "execution_count": 50,
      "metadata": {},
      "outputs": [
        {
          "name": "stdout",
          "output_type": "stream",
          "text": [
            "F1: 0.8631466238372482\n",
            "Precision: 0.8706628864587552\n",
            "Recall: 0.8557590233545648\n",
            "Accuracy: 0.8636666666666667\n"
          ]
        },
        {
          "data": {
            "image/png": "[encoded data removed]",
            "text/plain": [
              "<Figure size 640x480 with 2 Axes>"
            ]
          },
          "metadata": {},
          "output_type": "display_data"
        }
      ],
      "source": [
        "imprimir_resultados(y_test_, y_pred_xgboost)"
      ]
    },
    {
      "cell_type": "code",
      "execution_count": 66,
      "metadata": {},
      "outputs": [],
      "source": [
        "y_pred_xgboost_ = best_xgboost.predict(vectorizer.transform(x_test))"
      ]
    },
    {
      "cell_type": "markdown",
      "metadata": {
        "id": "3xHE04lcZAuq"
      },
      "source": [
        "## Red neuronal"
      ]
    },
    {
      "cell_type": "code",
      "execution_count": 51,
      "metadata": {},
      "outputs": [],
      "source": [
        "max_words = 5000\n",
        "max_len = 100"
      ]
    },
    {
      "cell_type": "code",
      "execution_count": 52,
      "metadata": {},
      "outputs": [],
      "source": [
        "import tensorflow as tf\n",
        "from tensorflow.keras.models import Sequential\n",
        "from tensorflow.keras.layers import Dense, Dropout\n",
        "from tensorboard.plugins.hparams import api as hp\n",
        "from tensorflow.keras.preprocessing.text import Tokenizer"
      ]
    },
    {
      "cell_type": "code",
      "execution_count": 53,
      "metadata": {},
      "outputs": [],
      "source": [
        "total_reviews = df_train[\"review_es\"].astype(str)\n",
        "total_labels = df_train[\"sentimiento\"].values"
      ]
    },
    {
      "cell_type": "code",
      "execution_count": 54,
      "metadata": {},
      "outputs": [],
      "source": [
        "tokenizer_obj = Tokenizer(num_words = max_words)\n",
        "tokenizer_obj.fit_on_texts(total_reviews)"
      ]
    },
    {
      "cell_type": "code",
      "execution_count": 55,
      "metadata": {},
      "outputs": [],
      "source": [
        "X_data_tokens = tokenizer_obj.texts_to_sequences(total_reviews)"
      ]
    },
    {
      "cell_type": "code",
      "execution_count": 56,
      "metadata": {},
      "outputs": [],
      "source": [
        "X_data_count = tokenizer_obj.sequences_to_matrix(X_data_tokens, mode = \"count\")"
      ]
    },
    {
      "cell_type": "code",
      "execution_count": 57,
      "metadata": {},
      "outputs": [],
      "source": [
        "Y_data = df_train.sentimiento"
      ]
    },
    {
      "cell_type": "code",
      "execution_count": 58,
      "metadata": {},
      "outputs": [],
      "source": [
        "X_train_count, X_test_count, y_train_count, y_test_count = train_test_split(X_data_count, Y_data, test_size = 0.3, random_state = 123)"
      ]
    },
    {
      "cell_type": "code",
      "execution_count": 59,
      "metadata": {},
      "outputs": [],
      "source": [
        "HP_INPUT_WIDTH = hp.HParam(\"input_width\", hp.Discrete([12, 24, 48]))\n",
        "HP_OUTPUT_WIDTH = hp.HParam(\"output_width\", hp.Discrete([6, 12, 24]))  # No usaremos esto\n",
        "HP_RNN_UNITS = hp.HParam(\"rnn_units\", hp.Discrete([30, 40, 60]))\n",
        "HP_DROPOUT = hp.HParam(\"dropout\", hp.Discrete([0.05, 0.1, 0.2]))\n",
        "HP_OPTIMIZER = hp.HParam(\"optimizer\", hp.Discrete([\"adam\"]))\n",
        "HP_LEARNING_RATE = hp.HParam(\"learning_rate\", hp.Discrete([0.001]))\n",
        "\n",
        "METRIC_ACCURACY = \"accuracy\""
      ]
    },
    {
      "cell_type": "code",
      "execution_count": 60,
      "metadata": {},
      "outputs": [
        {
          "name": "stdout",
          "output_type": "stream",
          "text": [
            "--- Starting trial: run-0\n",
            "{HParam(name='input_width', domain=Discrete([12, 24, 48]), display_name=None, description=None): 12, HParam(name='output_width', domain=Discrete([6, 12, 24]), display_name=None, description=None): 6, HParam(name='rnn_units', domain=Discrete([30, 40, 60]), display_name=None, description=None): 30, HParam(name='dropout', domain=Discrete([0.05, 0.1, 0.2]), display_name=None, description=None): 0.05, HParam(name='optimizer', domain=Discrete(['adam']), display_name=None, description=None): 'adam', HParam(name='learning_rate', domain=Discrete([0.001]), display_name=None, description=None): 0.001}\n"
          ]
        },
        {
          "name": "stderr",
          "output_type": "stream",
          "text": [
            "/home/taiel/.local/lib/python3.12/site-packages/keras/src/layers/core/dense.py:87: UserWarning: Do not pass an `input_shape`/`input_dim` argument to a layer. When using Sequential models, prefer using an `Input(shape)` object as the first layer in the model instead.\n",
            "  super().__init__(activity_regularizer=activity_regularizer, **kwargs)\n"
          ]
        },
        {
          "name": "stdout",
          "output_type": "stream",
          "text": [
            "Epoch 1/5\n",
            "\u001b[1m875/875\u001b[0m \u001b[32m━━━━━━━━━━━━━━━━━━━━\u001b[0m\u001b[37m\u001b[0m \u001b[1m2s\u001b[0m 2ms/step - accuracy: 0.7769 - loss: 0.4688 - val_accuracy: 0.8473 - val_loss: 0.3538\n",
            "Epoch 2/5\n",
            "\u001b[1m875/875\u001b[0m \u001b[32m━━━━━━━━━━━━━━━━━━━━\u001b[0m\u001b[37m\u001b[0m \u001b[1m1s\u001b[0m 1ms/step - accuracy: 0.8991 - loss: 0.2557 - val_accuracy: 0.8679 - val_loss: 0.3248\n",
            "Epoch 3/5\n",
            "\u001b[1m875/875\u001b[0m \u001b[32m━━━━━━━━━━━━━━━━━━━━\u001b[0m\u001b[37m\u001b[0m \u001b[1m1s\u001b[0m 1ms/step - accuracy: 0.9230 - loss: 0.1992 - val_accuracy: 0.8629 - val_loss: 0.3442\n",
            "Epoch 4/5\n",
            "\u001b[1m875/875\u001b[0m \u001b[32m━━━━━━━━━━━━━━━━━━━━\u001b[0m\u001b[37m\u001b[0m \u001b[1m1s\u001b[0m 1ms/step - accuracy: 0.9455 - loss: 0.1499 - val_accuracy: 0.8591 - val_loss: 0.3770\n",
            "Epoch 5/5\n",
            "\u001b[1m875/875\u001b[0m \u001b[32m━━━━━━━━━━━━━━━━━━━━\u001b[0m\u001b[37m\u001b[0m \u001b[1m1s\u001b[0m 1ms/step - accuracy: 0.9619 - loss: 0.1093 - val_accuracy: 0.8501 - val_loss: 0.4367\n",
            "\u001b[1m469/469\u001b[0m \u001b[32m━━━━━━━━━━━━━━━━━━━━\u001b[0m\u001b[37m\u001b[0m \u001b[1m0s\u001b[0m 557us/step - accuracy: 0.8561 - loss: 0.4358\n",
            "--- Starting trial: run-1\n",
            "{HParam(name='input_width', domain=Discrete([12, 24, 48]), display_name=None, description=None): 12, HParam(name='output_width', domain=Discrete([6, 12, 24]), display_name=None, description=None): 6, HParam(name='rnn_units', domain=Discrete([30, 40, 60]), display_name=None, description=None): 30, HParam(name='dropout', domain=Discrete([0.05, 0.1, 0.2]), display_name=None, description=None): 0.1, HParam(name='optimizer', domain=Discrete(['adam']), display_name=None, description=None): 'adam', HParam(name='learning_rate', domain=Discrete([0.001]), display_name=None, description=None): 0.001}\n",
            "Epoch 1/5\n",
            "\u001b[1m875/875\u001b[0m \u001b[32m━━━━━━━━━━━━━━━━━━━━\u001b[0m\u001b[37m\u001b[0m \u001b[1m2s\u001b[0m 1ms/step - accuracy: 0.7513 - loss: 0.4929 - val_accuracy: 0.8470 - val_loss: 0.3505\n",
            "Epoch 2/5\n",
            "\u001b[1m875/875\u001b[0m \u001b[32m━━━━━━━━━━━━━━━━━━━━\u001b[0m\u001b[37m\u001b[0m \u001b[1m1s\u001b[0m 1ms/step - accuracy: 0.8980 - loss: 0.2590 - val_accuracy: 0.8697 - val_loss: 0.3140\n",
            "Epoch 3/5\n",
            "\u001b[1m875/875\u001b[0m \u001b[32m━━━━━━━━━━━━━━━━━━━━\u001b[0m\u001b[37m\u001b[0m \u001b[1m1s\u001b[0m 1ms/step - accuracy: 0.9184 - loss: 0.2093 - val_accuracy: 0.8677 - val_loss: 0.3365\n",
            "Epoch 4/5\n",
            "\u001b[1m875/875\u001b[0m \u001b[32m━━━━━━━━━━━━━━━━━━━━\u001b[0m\u001b[37m\u001b[0m \u001b[1m1s\u001b[0m 1ms/step - accuracy: 0.9313 - loss: 0.1744 - val_accuracy: 0.8617 - val_loss: 0.3581\n",
            "Epoch 5/5\n",
            "\u001b[1m875/875\u001b[0m \u001b[32m━━━━━━━━━━━━━━━━━━━━\u001b[0m\u001b[37m\u001b[0m \u001b[1m1s\u001b[0m 1ms/step - accuracy: 0.9422 - loss: 0.1496 - val_accuracy: 0.8609 - val_loss: 0.3897\n",
            "\u001b[1m469/469\u001b[0m \u001b[32m━━━━━━━━━━━━━━━━━━━━\u001b[0m\u001b[37m\u001b[0m \u001b[1m0s\u001b[0m 514us/step - accuracy: 0.8598 - loss: 0.4025\n",
            "--- Starting trial: run-2\n",
            "{HParam(name='input_width', domain=Discrete([12, 24, 48]), display_name=None, description=None): 12, HParam(name='output_width', domain=Discrete([6, 12, 24]), display_name=None, description=None): 6, HParam(name='rnn_units', domain=Discrete([30, 40, 60]), display_name=None, description=None): 30, HParam(name='dropout', domain=Discrete([0.05, 0.1, 0.2]), display_name=None, description=None): 0.2, HParam(name='optimizer', domain=Discrete(['adam']), display_name=None, description=None): 'adam', HParam(name='learning_rate', domain=Discrete([0.001]), display_name=None, description=None): 0.001}\n",
            "Epoch 1/5\n",
            "\u001b[1m875/875\u001b[0m \u001b[32m━━━━━━━━━━━━━━━━━━━━\u001b[0m\u001b[37m\u001b[0m \u001b[1m2s\u001b[0m 1ms/step - accuracy: 0.7359 - loss: 0.5193 - val_accuracy: 0.8634 - val_loss: 0.3152\n",
            "Epoch 2/5\n",
            "\u001b[1m875/875\u001b[0m \u001b[32m━━━━━━━━━━━━━━━━━━━━\u001b[0m\u001b[37m\u001b[0m \u001b[1m1s\u001b[0m 1ms/step - accuracy: 0.8870 - loss: 0.2850 - val_accuracy: 0.8663 - val_loss: 0.3215\n",
            "Epoch 3/5\n",
            "\u001b[1m875/875\u001b[0m \u001b[32m━━━━━━━━━━━━━━━━━━━━\u001b[0m\u001b[37m\u001b[0m \u001b[1m1s\u001b[0m 1ms/step - accuracy: 0.9110 - loss: 0.2300 - val_accuracy: 0.8649 - val_loss: 0.3437\n",
            "Epoch 4/5\n",
            "\u001b[1m875/875\u001b[0m \u001b[32m━━━━━━━━━━━━━━━━━━━━\u001b[0m\u001b[37m\u001b[0m \u001b[1m1s\u001b[0m 1ms/step - accuracy: 0.9217 - loss: 0.2006 - val_accuracy: 0.8630 - val_loss: 0.3547\n",
            "Epoch 5/5\n",
            "\u001b[1m875/875\u001b[0m \u001b[32m━━━━━━━━━━━━━━━━━━━━\u001b[0m\u001b[37m\u001b[0m \u001b[1m1s\u001b[0m 1ms/step - accuracy: 0.9316 - loss: 0.1774 - val_accuracy: 0.8590 - val_loss: 0.3827\n",
            "\u001b[1m469/469\u001b[0m \u001b[32m━━━━━━━━━━━━━━━━━━━━\u001b[0m\u001b[37m\u001b[0m \u001b[1m0s\u001b[0m 537us/step - accuracy: 0.8625 - loss: 0.3781\n",
            "--- Starting trial: run-3\n",
            "{HParam(name='input_width', domain=Discrete([12, 24, 48]), display_name=None, description=None): 12, HParam(name='output_width', domain=Discrete([6, 12, 24]), display_name=None, description=None): 6, HParam(name='rnn_units', domain=Discrete([30, 40, 60]), display_name=None, description=None): 40, HParam(name='dropout', domain=Discrete([0.05, 0.1, 0.2]), display_name=None, description=None): 0.05, HParam(name='optimizer', domain=Discrete(['adam']), display_name=None, description=None): 'adam', HParam(name='learning_rate', domain=Discrete([0.001]), display_name=None, description=None): 0.001}\n",
            "Epoch 1/5\n",
            "\u001b[1m875/875\u001b[0m \u001b[32m━━━━━━━━━━━━━━━━━━━━\u001b[0m\u001b[37m\u001b[0m \u001b[1m2s\u001b[0m 2ms/step - accuracy: 0.7743 - loss: 0.4700 - val_accuracy: 0.8661 - val_loss: 0.3152\n",
            "Epoch 2/5\n",
            "\u001b[1m875/875\u001b[0m \u001b[32m━━━━━━━━━━━━━━━━━━━━\u001b[0m\u001b[37m\u001b[0m \u001b[1m1s\u001b[0m 1ms/step - accuracy: 0.9048 - loss: 0.2403 - val_accuracy: 0.8624 - val_loss: 0.3235\n",
            "Epoch 3/5\n",
            "\u001b[1m875/875\u001b[0m \u001b[32m━━━━━━━━━━━━━━━━━━━━\u001b[0m\u001b[37m\u001b[0m \u001b[1m1s\u001b[0m 1ms/step - accuracy: 0.9238 - loss: 0.1924 - val_accuracy: 0.8604 - val_loss: 0.3462\n",
            "Epoch 4/5\n",
            "\u001b[1m875/875\u001b[0m \u001b[32m━━━━━━━━━━━━━━━━━━━━\u001b[0m\u001b[37m\u001b[0m \u001b[1m1s\u001b[0m 1ms/step - accuracy: 0.9425 - loss: 0.1520 - val_accuracy: 0.8529 - val_loss: 0.3887\n",
            "Epoch 5/5\n",
            "\u001b[1m875/875\u001b[0m \u001b[32m━━━━━━━━━━━━━━━━━━━━\u001b[0m\u001b[37m\u001b[0m \u001b[1m1s\u001b[0m 1ms/step - accuracy: 0.9553 - loss: 0.1204 - val_accuracy: 0.8493 - val_loss: 0.4716\n",
            "\u001b[1m469/469\u001b[0m \u001b[32m━━━━━━━━━━━━━━━━━━━━\u001b[0m\u001b[37m\u001b[0m \u001b[1m0s\u001b[0m 568us/step - accuracy: 0.8580 - loss: 0.4603\n",
            "--- Starting trial: run-4\n",
            "{HParam(name='input_width', domain=Discrete([12, 24, 48]), display_name=None, description=None): 12, HParam(name='output_width', domain=Discrete([6, 12, 24]), display_name=None, description=None): 6, HParam(name='rnn_units', domain=Discrete([30, 40, 60]), display_name=None, description=None): 40, HParam(name='dropout', domain=Discrete([0.05, 0.1, 0.2]), display_name=None, description=None): 0.1, HParam(name='optimizer', domain=Discrete(['adam']), display_name=None, description=None): 'adam', HParam(name='learning_rate', domain=Discrete([0.001]), display_name=None, description=None): 0.001}\n",
            "Epoch 1/5\n",
            "\u001b[1m875/875\u001b[0m \u001b[32m━━━━━━━━━━━━━━━━━━━━\u001b[0m\u001b[37m\u001b[0m \u001b[1m2s\u001b[0m 2ms/step - accuracy: 0.7616 - loss: 0.4880 - val_accuracy: 0.8646 - val_loss: 0.3165\n",
            "Epoch 2/5\n",
            "\u001b[1m875/875\u001b[0m \u001b[32m━━━━━━━━━━━━━━━━━━━━\u001b[0m\u001b[37m\u001b[0m \u001b[1m1s\u001b[0m 1ms/step - accuracy: 0.9003 - loss: 0.2515 - val_accuracy: 0.8659 - val_loss: 0.3103\n",
            "Epoch 3/5\n",
            "\u001b[1m875/875\u001b[0m \u001b[32m━━━━━━━━━━━━━━━━━━━━\u001b[0m\u001b[37m\u001b[0m \u001b[1m1s\u001b[0m 1ms/step - accuracy: 0.9217 - loss: 0.2001 - val_accuracy: 0.8584 - val_loss: 0.3326\n",
            "Epoch 4/5\n",
            "\u001b[1m875/875\u001b[0m \u001b[32m━━━━━━━━━━━━━━━━━━━━\u001b[0m\u001b[37m\u001b[0m \u001b[1m1s\u001b[0m 1ms/step - accuracy: 0.9352 - loss: 0.1694 - val_accuracy: 0.8636 - val_loss: 0.3997\n",
            "Epoch 5/5\n",
            "\u001b[1m875/875\u001b[0m \u001b[32m━━━━━━━━━━━━━━━━━━━━\u001b[0m\u001b[37m\u001b[0m \u001b[1m1s\u001b[0m 1ms/step - accuracy: 0.9454 - loss: 0.1395 - val_accuracy: 0.8563 - val_loss: 0.4304\n",
            "\u001b[1m469/469\u001b[0m \u001b[32m━━━━━━━━━━━━━━━━━━━━\u001b[0m\u001b[37m\u001b[0m \u001b[1m0s\u001b[0m 530us/step - accuracy: 0.8645 - loss: 0.4197\n",
            "--- Starting trial: run-5\n",
            "{HParam(name='input_width', domain=Discrete([12, 24, 48]), display_name=None, description=None): 12, HParam(name='output_width', domain=Discrete([6, 12, 24]), display_name=None, description=None): 6, HParam(name='rnn_units', domain=Discrete([30, 40, 60]), display_name=None, description=None): 40, HParam(name='dropout', domain=Discrete([0.05, 0.1, 0.2]), display_name=None, description=None): 0.2, HParam(name='optimizer', domain=Discrete(['adam']), display_name=None, description=None): 'adam', HParam(name='learning_rate', domain=Discrete([0.001]), display_name=None, description=None): 0.001}\n",
            "Epoch 1/5\n",
            "\u001b[1m875/875\u001b[0m \u001b[32m━━━━━━━━━━━━━━━━━━━━\u001b[0m\u001b[37m\u001b[0m \u001b[1m2s\u001b[0m 2ms/step - accuracy: 0.7139 - loss: 0.5332 - val_accuracy: 0.8623 - val_loss: 0.3197\n",
            "Epoch 2/5\n",
            "\u001b[1m875/875\u001b[0m \u001b[32m━━━━━━━━━━━━━━━━━━━━\u001b[0m\u001b[37m\u001b[0m \u001b[1m1s\u001b[0m 1ms/step - accuracy: 0.8868 - loss: 0.2821 - val_accuracy: 0.8629 - val_loss: 0.3266\n",
            "Epoch 3/5\n",
            "\u001b[1m875/875\u001b[0m \u001b[32m━━━━━━━━━━━━━━━━━━━━\u001b[0m\u001b[37m\u001b[0m \u001b[1m1s\u001b[0m 1ms/step - accuracy: 0.9027 - loss: 0.2399 - val_accuracy: 0.8679 - val_loss: 0.3169\n",
            "Epoch 4/5\n",
            "\u001b[1m875/875\u001b[0m \u001b[32m━━━━━━━━━━━━━━━━━━━━\u001b[0m\u001b[37m\u001b[0m \u001b[1m1s\u001b[0m 1ms/step - accuracy: 0.9172 - loss: 0.2059 - val_accuracy: 0.8561 - val_loss: 0.3349\n",
            "Epoch 5/5\n",
            "\u001b[1m875/875\u001b[0m \u001b[32m━━━━━━━━━━━━━━━━━━━━\u001b[0m\u001b[37m\u001b[0m \u001b[1m1s\u001b[0m 1ms/step - accuracy: 0.9202 - loss: 0.1956 - val_accuracy: 0.8489 - val_loss: 0.3600\n",
            "\u001b[1m469/469\u001b[0m \u001b[32m━━━━━━━━━━━━━━━━━━━━\u001b[0m\u001b[37m\u001b[0m \u001b[1m0s\u001b[0m 536us/step - accuracy: 0.8571 - loss: 0.3490\n",
            "--- Starting trial: run-6\n",
            "{HParam(name='input_width', domain=Discrete([12, 24, 48]), display_name=None, description=None): 12, HParam(name='output_width', domain=Discrete([6, 12, 24]), display_name=None, description=None): 6, HParam(name='rnn_units', domain=Discrete([30, 40, 60]), display_name=None, description=None): 60, HParam(name='dropout', domain=Discrete([0.05, 0.1, 0.2]), display_name=None, description=None): 0.05, HParam(name='optimizer', domain=Discrete(['adam']), display_name=None, description=None): 'adam', HParam(name='learning_rate', domain=Discrete([0.001]), display_name=None, description=None): 0.001}\n",
            "Epoch 1/5\n",
            "\u001b[1m875/875\u001b[0m \u001b[32m━━━━━━━━━━━━━━━━━━━━\u001b[0m\u001b[37m\u001b[0m \u001b[1m2s\u001b[0m 1ms/step - accuracy: 0.7553 - loss: 0.4913 - val_accuracy: 0.8656 - val_loss: 0.3189\n",
            "Epoch 2/5\n",
            "\u001b[1m875/875\u001b[0m \u001b[32m━━━━━━━━━━━━━━━━━━━━\u001b[0m\u001b[37m\u001b[0m \u001b[1m1s\u001b[0m 1ms/step - accuracy: 0.8971 - loss: 0.2479 - val_accuracy: 0.8556 - val_loss: 0.3296\n",
            "Epoch 3/5\n",
            "\u001b[1m875/875\u001b[0m \u001b[32m━━━━━━━━━━━━━━━━━━━━\u001b[0m\u001b[37m\u001b[0m \u001b[1m1s\u001b[0m 1ms/step - accuracy: 0.9211 - loss: 0.2008 - val_accuracy: 0.8671 - val_loss: 0.3502\n",
            "Epoch 4/5\n",
            "\u001b[1m875/875\u001b[0m \u001b[32m━━━━━━━━━━━━━━━━━━━━\u001b[0m\u001b[37m\u001b[0m \u001b[1m1s\u001b[0m 1ms/step - accuracy: 0.9431 - loss: 0.1529 - val_accuracy: 0.8550 - val_loss: 0.3639\n",
            "Epoch 5/5\n",
            "\u001b[1m875/875\u001b[0m \u001b[32m━━━━━━━━━━━━━━━━━━━━\u001b[0m\u001b[37m\u001b[0m \u001b[1m1s\u001b[0m 1ms/step - accuracy: 0.9592 - loss: 0.1208 - val_accuracy: 0.8530 - val_loss: 0.4461\n",
            "\u001b[1m469/469\u001b[0m \u001b[32m━━━━━━━━━━━━━━━━━━━━\u001b[0m\u001b[37m\u001b[0m \u001b[1m0s\u001b[0m 546us/step - accuracy: 0.8550 - loss: 0.4429\n",
            "--- Starting trial: run-7\n",
            "{HParam(name='input_width', domain=Discrete([12, 24, 48]), display_name=None, description=None): 12, HParam(name='output_width', domain=Discrete([6, 12, 24]), display_name=None, description=None): 6, HParam(name='rnn_units', domain=Discrete([30, 40, 60]), display_name=None, description=None): 60, HParam(name='dropout', domain=Discrete([0.05, 0.1, 0.2]), display_name=None, description=None): 0.1, HParam(name='optimizer', domain=Discrete(['adam']), display_name=None, description=None): 'adam', HParam(name='learning_rate', domain=Discrete([0.001]), display_name=None, description=None): 0.001}\n",
            "Epoch 1/5\n",
            "\u001b[1m875/875\u001b[0m \u001b[32m━━━━━━━━━━━━━━━━━━━━\u001b[0m\u001b[37m\u001b[0m \u001b[1m2s\u001b[0m 2ms/step - accuracy: 0.7546 - loss: 0.4885 - val_accuracy: 0.8701 - val_loss: 0.3150\n",
            "Epoch 2/5\n",
            "\u001b[1m875/875\u001b[0m \u001b[32m━━━━━━━━━━━━━━━━━━━━\u001b[0m\u001b[37m\u001b[0m \u001b[1m1s\u001b[0m 1ms/step - accuracy: 0.9036 - loss: 0.2495 - val_accuracy: 0.8611 - val_loss: 0.3271\n",
            "Epoch 3/5\n",
            "\u001b[1m875/875\u001b[0m \u001b[32m━━━━━━━━━━━━━━━━━━━━\u001b[0m\u001b[37m\u001b[0m \u001b[1m1s\u001b[0m 1ms/step - accuracy: 0.9272 - loss: 0.1926 - val_accuracy: 0.8617 - val_loss: 0.3298\n",
            "Epoch 4/5\n",
            "\u001b[1m875/875\u001b[0m \u001b[32m━━━━━━━━━━━━━━━━━━━━\u001b[0m\u001b[37m\u001b[0m \u001b[1m1s\u001b[0m 1ms/step - accuracy: 0.9413 - loss: 0.1534 - val_accuracy: 0.8606 - val_loss: 0.3778\n",
            "Epoch 5/5\n",
            "\u001b[1m875/875\u001b[0m \u001b[32m━━━━━━━━━━━━━━━━━━━━\u001b[0m\u001b[37m\u001b[0m \u001b[1m1s\u001b[0m 1ms/step - accuracy: 0.9523 - loss: 0.1237 - val_accuracy: 0.8564 - val_loss: 0.4255\n",
            "\u001b[1m469/469\u001b[0m \u001b[32m━━━━━━━━━━━━━━━━━━━━\u001b[0m\u001b[37m\u001b[0m \u001b[1m0s\u001b[0m 547us/step - accuracy: 0.8590 - loss: 0.4290\n",
            "--- Starting trial: run-8\n",
            "{HParam(name='input_width', domain=Discrete([12, 24, 48]), display_name=None, description=None): 12, HParam(name='output_width', domain=Discrete([6, 12, 24]), display_name=None, description=None): 6, HParam(name='rnn_units', domain=Discrete([30, 40, 60]), display_name=None, description=None): 60, HParam(name='dropout', domain=Discrete([0.05, 0.1, 0.2]), display_name=None, description=None): 0.2, HParam(name='optimizer', domain=Discrete(['adam']), display_name=None, description=None): 'adam', HParam(name='learning_rate', domain=Discrete([0.001]), display_name=None, description=None): 0.001}\n",
            "Epoch 1/5\n",
            "\u001b[1m875/875\u001b[0m \u001b[32m━━━━━━━━━━━━━━━━━━━━\u001b[0m\u001b[37m\u001b[0m \u001b[1m2s\u001b[0m 2ms/step - accuracy: 0.7497 - loss: 0.4988 - val_accuracy: 0.8636 - val_loss: 0.3133\n",
            "Epoch 2/5\n",
            "\u001b[1m875/875\u001b[0m \u001b[32m━━━━━━━━━━━━━━━━━━━━\u001b[0m\u001b[37m\u001b[0m \u001b[1m1s\u001b[0m 1ms/step - accuracy: 0.8934 - loss: 0.2712 - val_accuracy: 0.8539 - val_loss: 0.3324\n",
            "Epoch 3/5\n",
            "\u001b[1m875/875\u001b[0m \u001b[32m━━━━━━━━━━━━━━━━━━━━\u001b[0m\u001b[37m\u001b[0m \u001b[1m1s\u001b[0m 1ms/step - accuracy: 0.9102 - loss: 0.2254 - val_accuracy: 0.8640 - val_loss: 0.3316\n",
            "Epoch 4/5\n",
            "\u001b[1m875/875\u001b[0m \u001b[32m━━━━━━━━━━━━━━━━━━━━\u001b[0m\u001b[37m\u001b[0m \u001b[1m1s\u001b[0m 1ms/step - accuracy: 0.9273 - loss: 0.1879 - val_accuracy: 0.8636 - val_loss: 0.3708\n",
            "Epoch 5/5\n",
            "\u001b[1m875/875\u001b[0m \u001b[32m━━━━━━━━━━━━━━━━━━━━\u001b[0m\u001b[37m\u001b[0m \u001b[1m1s\u001b[0m 1ms/step - accuracy: 0.9369 - loss: 0.1584 - val_accuracy: 0.8596 - val_loss: 0.3783\n",
            "\u001b[1m469/469\u001b[0m \u001b[32m━━━━━━━━━━━━━━━━━━━━\u001b[0m\u001b[37m\u001b[0m \u001b[1m0s\u001b[0m 529us/step - accuracy: 0.8656 - loss: 0.3690\n",
            "--- Starting trial: run-9\n",
            "{HParam(name='input_width', domain=Discrete([12, 24, 48]), display_name=None, description=None): 12, HParam(name='output_width', domain=Discrete([6, 12, 24]), display_name=None, description=None): 12, HParam(name='rnn_units', domain=Discrete([30, 40, 60]), display_name=None, description=None): 30, HParam(name='dropout', domain=Discrete([0.05, 0.1, 0.2]), display_name=None, description=None): 0.05, HParam(name='optimizer', domain=Discrete(['adam']), display_name=None, description=None): 'adam', HParam(name='learning_rate', domain=Discrete([0.001]), display_name=None, description=None): 0.001}\n",
            "Epoch 1/5\n",
            "\u001b[1m875/875\u001b[0m \u001b[32m━━━━━━━━━━━━━━━━━━━━\u001b[0m\u001b[37m\u001b[0m \u001b[1m3s\u001b[0m 2ms/step - accuracy: 0.7726 - loss: 0.4771 - val_accuracy: 0.8676 - val_loss: 0.3148\n",
            "Epoch 2/5\n",
            "\u001b[1m875/875\u001b[0m \u001b[32m━━━━━━━━━━━━━━━━━━━━\u001b[0m\u001b[37m\u001b[0m \u001b[1m1s\u001b[0m 1ms/step - accuracy: 0.9013 - loss: 0.2522 - val_accuracy: 0.8540 - val_loss: 0.3721\n",
            "Epoch 3/5\n",
            "\u001b[1m875/875\u001b[0m \u001b[32m━━━━━━━━━━━━━━━━━━━━\u001b[0m\u001b[37m\u001b[0m \u001b[1m1s\u001b[0m 1ms/step - accuracy: 0.9206 - loss: 0.2029 - val_accuracy: 0.8670 - val_loss: 0.3328\n",
            "Epoch 4/5\n",
            "\u001b[1m875/875\u001b[0m \u001b[32m━━━━━━━━━━━━━━━━━━━━\u001b[0m\u001b[37m\u001b[0m \u001b[1m1s\u001b[0m 1ms/step - accuracy: 0.9329 - loss: 0.1676 - val_accuracy: 0.8579 - val_loss: 0.3753\n",
            "Epoch 5/5\n",
            "\u001b[1m875/875\u001b[0m \u001b[32m━━━━━━━━━━━━━━━━━━━━\u001b[0m\u001b[37m\u001b[0m \u001b[1m1s\u001b[0m 1ms/step - accuracy: 0.9465 - loss: 0.1371 - val_accuracy: 0.8589 - val_loss: 0.4040\n",
            "\u001b[1m469/469\u001b[0m \u001b[32m━━━━━━━━━━━━━━━━━━━━\u001b[0m\u001b[37m\u001b[0m \u001b[1m0s\u001b[0m 554us/step - accuracy: 0.8602 - loss: 0.4100\n",
            "--- Starting trial: run-10\n",
            "{HParam(name='input_width', domain=Discrete([12, 24, 48]), display_name=None, description=None): 12, HParam(name='output_width', domain=Discrete([6, 12, 24]), display_name=None, description=None): 12, HParam(name='rnn_units', domain=Discrete([30, 40, 60]), display_name=None, description=None): 30, HParam(name='dropout', domain=Discrete([0.05, 0.1, 0.2]), display_name=None, description=None): 0.1, HParam(name='optimizer', domain=Discrete(['adam']), display_name=None, description=None): 'adam', HParam(name='learning_rate', domain=Discrete([0.001]), display_name=None, description=None): 0.001}\n",
            "Epoch 1/5\n",
            "\u001b[1m875/875\u001b[0m \u001b[32m━━━━━━━━━━━━━━━━━━━━\u001b[0m\u001b[37m\u001b[0m \u001b[1m2s\u001b[0m 2ms/step - accuracy: 0.7313 - loss: 0.5227 - val_accuracy: 0.8630 - val_loss: 0.3290\n",
            "Epoch 2/5\n",
            "\u001b[1m875/875\u001b[0m \u001b[32m━━━━━━━━━━━━━━━━━━━━\u001b[0m\u001b[37m\u001b[0m \u001b[1m1s\u001b[0m 1ms/step - accuracy: 0.8940 - loss: 0.2714 - val_accuracy: 0.8686 - val_loss: 0.3258\n",
            "Epoch 3/5\n",
            "\u001b[1m875/875\u001b[0m \u001b[32m━━━━━━━━━━━━━━━━━━━━\u001b[0m\u001b[37m\u001b[0m \u001b[1m1s\u001b[0m 1ms/step - accuracy: 0.9161 - loss: 0.2199 - val_accuracy: 0.8633 - val_loss: 0.3426\n",
            "Epoch 4/5\n",
            "\u001b[1m875/875\u001b[0m \u001b[32m━━━━━━━━━━━━━━━━━━━━\u001b[0m\u001b[37m\u001b[0m \u001b[1m1s\u001b[0m 1ms/step - accuracy: 0.9327 - loss: 0.1820 - val_accuracy: 0.8599 - val_loss: 0.3541\n",
            "Epoch 5/5\n",
            "\u001b[1m875/875\u001b[0m \u001b[32m━━━━━━━━━━━━━━━━━━━━\u001b[0m\u001b[37m\u001b[0m \u001b[1m1s\u001b[0m 1ms/step - accuracy: 0.9478 - loss: 0.1492 - val_accuracy: 0.8584 - val_loss: 0.3808\n",
            "\u001b[1m469/469\u001b[0m \u001b[32m━━━━━━━━━━━━━━━━━━━━\u001b[0m\u001b[37m\u001b[0m \u001b[1m0s\u001b[0m 547us/step - accuracy: 0.8614 - loss: 0.3787\n",
            "--- Starting trial: run-11\n",
            "{HParam(name='input_width', domain=Discrete([12, 24, 48]), display_name=None, description=None): 12, HParam(name='output_width', domain=Discrete([6, 12, 24]), display_name=None, description=None): 12, HParam(name='rnn_units', domain=Discrete([30, 40, 60]), display_name=None, description=None): 30, HParam(name='dropout', domain=Discrete([0.05, 0.1, 0.2]), display_name=None, description=None): 0.2, HParam(name='optimizer', domain=Discrete(['adam']), display_name=None, description=None): 'adam', HParam(name='learning_rate', domain=Discrete([0.001]), display_name=None, description=None): 0.001}\n",
            "Epoch 1/5\n",
            "\u001b[1m875/875\u001b[0m \u001b[32m━━━━━━━━━━━━━━━━━━━━\u001b[0m\u001b[37m\u001b[0m \u001b[1m2s\u001b[0m 2ms/step - accuracy: 0.7044 - loss: 0.5723 - val_accuracy: 0.8560 - val_loss: 0.3552\n",
            "Epoch 2/5\n",
            "\u001b[1m875/875\u001b[0m \u001b[32m━━━━━━━━━━━━━━━━━━━━\u001b[0m\u001b[37m\u001b[0m \u001b[1m1s\u001b[0m 1ms/step - accuracy: 0.8703 - loss: 0.3295 - val_accuracy: 0.8683 - val_loss: 0.3306\n",
            "Epoch 3/5\n",
            "\u001b[1m875/875\u001b[0m \u001b[32m━━━━━━━━━━━━━━━━━━━━\u001b[0m\u001b[37m\u001b[0m \u001b[1m1s\u001b[0m 1ms/step - accuracy: 0.9022 - loss: 0.2744 - val_accuracy: 0.8624 - val_loss: 0.3390\n",
            "Epoch 4/5\n",
            "\u001b[1m875/875\u001b[0m \u001b[32m━━━━━━━━━━━━━━━━━━━━\u001b[0m\u001b[37m\u001b[0m \u001b[1m1s\u001b[0m 1ms/step - accuracy: 0.9196 - loss: 0.2350 - val_accuracy: 0.8549 - val_loss: 0.3518\n",
            "Epoch 5/5\n",
            "\u001b[1m875/875\u001b[0m \u001b[32m━━━━━━━━━━━━━━━━━━━━\u001b[0m\u001b[37m\u001b[0m \u001b[1m1s\u001b[0m 1ms/step - accuracy: 0.9241 - loss: 0.2265 - val_accuracy: 0.8620 - val_loss: 0.3508\n",
            "\u001b[1m469/469\u001b[0m \u001b[32m━━━━━━━━━━━━━━━━━━━━\u001b[0m\u001b[37m\u001b[0m \u001b[1m0s\u001b[0m 542us/step - accuracy: 0.8634 - loss: 0.3441\n",
            "--- Starting trial: run-12\n",
            "{HParam(name='input_width', domain=Discrete([12, 24, 48]), display_name=None, description=None): 12, HParam(name='output_width', domain=Discrete([6, 12, 24]), display_name=None, description=None): 12, HParam(name='rnn_units', domain=Discrete([30, 40, 60]), display_name=None, description=None): 40, HParam(name='dropout', domain=Discrete([0.05, 0.1, 0.2]), display_name=None, description=None): 0.05, HParam(name='optimizer', domain=Discrete(['adam']), display_name=None, description=None): 'adam', HParam(name='learning_rate', domain=Discrete([0.001]), display_name=None, description=None): 0.001}\n",
            "Epoch 1/5\n",
            "\u001b[1m875/875\u001b[0m \u001b[32m━━━━━━━━━━━━━━━━━━━━\u001b[0m\u001b[37m\u001b[0m \u001b[1m2s\u001b[0m 2ms/step - accuracy: 0.7847 - loss: 0.4636 - val_accuracy: 0.8551 - val_loss: 0.3416\n",
            "Epoch 2/5\n",
            "\u001b[1m875/875\u001b[0m \u001b[32m━━━━━━━━━━━━━━━━━━━━\u001b[0m\u001b[37m\u001b[0m \u001b[1m1s\u001b[0m 1ms/step - accuracy: 0.9050 - loss: 0.2443 - val_accuracy: 0.8607 - val_loss: 0.3249\n",
            "Epoch 3/5\n",
            "\u001b[1m875/875\u001b[0m \u001b[32m━━━━━━━━━━━━━━━━━━━━\u001b[0m\u001b[37m\u001b[0m \u001b[1m1s\u001b[0m 1ms/step - accuracy: 0.9245 - loss: 0.1966 - val_accuracy: 0.8609 - val_loss: 0.3476\n",
            "Epoch 4/5\n",
            "\u001b[1m875/875\u001b[0m \u001b[32m━━━━━━━━━━━━━━━━━━━━\u001b[0m\u001b[37m\u001b[0m \u001b[1m1s\u001b[0m 1ms/step - accuracy: 0.9438 - loss: 0.1502 - val_accuracy: 0.8593 - val_loss: 0.4007\n",
            "Epoch 5/5\n",
            "\u001b[1m875/875\u001b[0m \u001b[32m━━━━━━━━━━━━━━━━━━━━\u001b[0m\u001b[37m\u001b[0m \u001b[1m1s\u001b[0m 1ms/step - accuracy: 0.9557 - loss: 0.1183 - val_accuracy: 0.8541 - val_loss: 0.4300\n",
            "\u001b[1m469/469\u001b[0m \u001b[32m━━━━━━━━━━━━━━━━━━━━\u001b[0m\u001b[37m\u001b[0m \u001b[1m0s\u001b[0m 542us/step - accuracy: 0.8613 - loss: 0.4162\n",
            "--- Starting trial: run-13\n",
            "{HParam(name='input_width', domain=Discrete([12, 24, 48]), display_name=None, description=None): 12, HParam(name='output_width', domain=Discrete([6, 12, 24]), display_name=None, description=None): 12, HParam(name='rnn_units', domain=Discrete([30, 40, 60]), display_name=None, description=None): 40, HParam(name='dropout', domain=Discrete([0.05, 0.1, 0.2]), display_name=None, description=None): 0.1, HParam(name='optimizer', domain=Discrete(['adam']), display_name=None, description=None): 'adam', HParam(name='learning_rate', domain=Discrete([0.001]), display_name=None, description=None): 0.001}\n",
            "Epoch 1/5\n",
            "\u001b[1m875/875\u001b[0m \u001b[32m━━━━━━━━━━━━━━━━━━━━\u001b[0m\u001b[37m\u001b[0m \u001b[1m2s\u001b[0m 1ms/step - accuracy: 0.7710 - loss: 0.4907 - val_accuracy: 0.8570 - val_loss: 0.3215\n",
            "Epoch 2/5\n",
            "\u001b[1m875/875\u001b[0m \u001b[32m━━━━━━━━━━━━━━━━━━━━\u001b[0m\u001b[37m\u001b[0m \u001b[1m1s\u001b[0m 1ms/step - accuracy: 0.8995 - loss: 0.2575 - val_accuracy: 0.8729 - val_loss: 0.3152\n",
            "Epoch 3/5\n",
            "\u001b[1m875/875\u001b[0m \u001b[32m━━━━━━━━━━━━━━━━━━━━\u001b[0m\u001b[37m\u001b[0m \u001b[1m1s\u001b[0m 1ms/step - accuracy: 0.9166 - loss: 0.2098 - val_accuracy: 0.8676 - val_loss: 0.3309\n",
            "Epoch 4/5\n",
            "\u001b[1m875/875\u001b[0m \u001b[32m━━━━━━━━━━━━━━━━━━━━\u001b[0m\u001b[37m\u001b[0m \u001b[1m1s\u001b[0m 1ms/step - accuracy: 0.9295 - loss: 0.1782 - val_accuracy: 0.8614 - val_loss: 0.3514\n",
            "Epoch 5/5\n",
            "\u001b[1m875/875\u001b[0m \u001b[32m━━━━━━━━━━━━━━━━━━━━\u001b[0m\u001b[37m\u001b[0m \u001b[1m1s\u001b[0m 1ms/step - accuracy: 0.9385 - loss: 0.1512 - val_accuracy: 0.8611 - val_loss: 0.4165\n",
            "\u001b[1m469/469\u001b[0m \u001b[32m━━━━━━━━━━━━━━━━━━━━\u001b[0m\u001b[37m\u001b[0m \u001b[1m0s\u001b[0m 561us/step - accuracy: 0.8640 - loss: 0.4116\n",
            "--- Starting trial: run-14\n",
            "{HParam(name='input_width', domain=Discrete([12, 24, 48]), display_name=None, description=None): 12, HParam(name='output_width', domain=Discrete([6, 12, 24]), display_name=None, description=None): 12, HParam(name='rnn_units', domain=Discrete([30, 40, 60]), display_name=None, description=None): 40, HParam(name='dropout', domain=Discrete([0.05, 0.1, 0.2]), display_name=None, description=None): 0.2, HParam(name='optimizer', domain=Discrete(['adam']), display_name=None, description=None): 'adam', HParam(name='learning_rate', domain=Discrete([0.001]), display_name=None, description=None): 0.001}\n",
            "Epoch 1/5\n",
            "\u001b[1m875/875\u001b[0m \u001b[32m━━━━━━━━━━━━━━━━━━━━\u001b[0m\u001b[37m\u001b[0m \u001b[1m2s\u001b[0m 1ms/step - accuracy: 0.7570 - loss: 0.5003 - val_accuracy: 0.8646 - val_loss: 0.3242\n",
            "Epoch 2/5\n",
            "\u001b[1m875/875\u001b[0m \u001b[32m━━━━━━━━━━━━━━━━━━━━\u001b[0m\u001b[37m\u001b[0m \u001b[1m1s\u001b[0m 1ms/step - accuracy: 0.8863 - loss: 0.2738 - val_accuracy: 0.8663 - val_loss: 0.3150\n",
            "Epoch 3/5\n",
            "\u001b[1m875/875\u001b[0m \u001b[32m━━━━━━━━━━━━━━━━━━━━\u001b[0m\u001b[37m\u001b[0m \u001b[1m1s\u001b[0m 1ms/step - accuracy: 0.9025 - loss: 0.2306 - val_accuracy: 0.8661 - val_loss: 0.3205\n",
            "Epoch 4/5\n",
            "\u001b[1m875/875\u001b[0m \u001b[32m━━━━━━━━━━━━━━━━━━━━\u001b[0m\u001b[37m\u001b[0m \u001b[1m1s\u001b[0m 1ms/step - accuracy: 0.9128 - loss: 0.2068 - val_accuracy: 0.8667 - val_loss: 0.3513\n",
            "Epoch 5/5\n",
            "\u001b[1m875/875\u001b[0m \u001b[32m━━━━━━━━━━━━━━━━━━━━\u001b[0m\u001b[37m\u001b[0m \u001b[1m1s\u001b[0m 1ms/step - accuracy: 0.9228 - loss: 0.1785 - val_accuracy: 0.8583 - val_loss: 0.3686\n",
            "\u001b[1m469/469\u001b[0m \u001b[32m━━━━━━━━━━━━━━━━━━━━\u001b[0m\u001b[37m\u001b[0m \u001b[1m0s\u001b[0m 559us/step - accuracy: 0.8588 - loss: 0.3633\n",
            "--- Starting trial: run-15\n",
            "{HParam(name='input_width', domain=Discrete([12, 24, 48]), display_name=None, description=None): 12, HParam(name='output_width', domain=Discrete([6, 12, 24]), display_name=None, description=None): 12, HParam(name='rnn_units', domain=Discrete([30, 40, 60]), display_name=None, description=None): 60, HParam(name='dropout', domain=Discrete([0.05, 0.1, 0.2]), display_name=None, description=None): 0.05, HParam(name='optimizer', domain=Discrete(['adam']), display_name=None, description=None): 'adam', HParam(name='learning_rate', domain=Discrete([0.001]), display_name=None, description=None): 0.001}\n",
            "Epoch 1/5\n",
            "\u001b[1m875/875\u001b[0m \u001b[32m━━━━━━━━━━━━━━━━━━━━\u001b[0m\u001b[37m\u001b[0m \u001b[1m2s\u001b[0m 2ms/step - accuracy: 0.7704 - loss: 0.4747 - val_accuracy: 0.8587 - val_loss: 0.3314\n",
            "Epoch 2/5\n",
            "\u001b[1m875/875\u001b[0m \u001b[32m━━━━━━━━━━━━━━━━━━━━\u001b[0m\u001b[37m\u001b[0m \u001b[1m1s\u001b[0m 1ms/step - accuracy: 0.8998 - loss: 0.2557 - val_accuracy: 0.8686 - val_loss: 0.3198\n",
            "Epoch 3/5\n",
            "\u001b[1m875/875\u001b[0m \u001b[32m━━━━━━━━━━━━━━━━━━━━\u001b[0m\u001b[37m\u001b[0m \u001b[1m1s\u001b[0m 1ms/step - accuracy: 0.9189 - loss: 0.2051 - val_accuracy: 0.8627 - val_loss: 0.3583\n",
            "Epoch 4/5\n",
            "\u001b[1m875/875\u001b[0m \u001b[32m━━━━━━━━━━━━━━━━━━━━\u001b[0m\u001b[37m\u001b[0m \u001b[1m1s\u001b[0m 1ms/step - accuracy: 0.9349 - loss: 0.1689 - val_accuracy: 0.8624 - val_loss: 0.3727\n",
            "Epoch 5/5\n",
            "\u001b[1m875/875\u001b[0m \u001b[32m━━━━━━━━━━━━━━━━━━━━\u001b[0m\u001b[37m\u001b[0m \u001b[1m1s\u001b[0m 1ms/step - accuracy: 0.9434 - loss: 0.1380 - val_accuracy: 0.8604 - val_loss: 0.4314\n",
            "\u001b[1m469/469\u001b[0m \u001b[32m━━━━━━━━━━━━━━━━━━━━\u001b[0m\u001b[37m\u001b[0m \u001b[1m0s\u001b[0m 563us/step - accuracy: 0.8632 - loss: 0.4233\n",
            "--- Starting trial: run-16\n",
            "{HParam(name='input_width', domain=Discrete([12, 24, 48]), display_name=None, description=None): 12, HParam(name='output_width', domain=Discrete([6, 12, 24]), display_name=None, description=None): 12, HParam(name='rnn_units', domain=Discrete([30, 40, 60]), display_name=None, description=None): 60, HParam(name='dropout', domain=Discrete([0.05, 0.1, 0.2]), display_name=None, description=None): 0.1, HParam(name='optimizer', domain=Discrete(['adam']), display_name=None, description=None): 'adam', HParam(name='learning_rate', domain=Discrete([0.001]), display_name=None, description=None): 0.001}\n",
            "Epoch 1/5\n",
            "\u001b[1m875/875\u001b[0m \u001b[32m━━━━━━━━━━━━━━━━━━━━\u001b[0m\u001b[37m\u001b[0m \u001b[1m2s\u001b[0m 2ms/step - accuracy: 0.7774 - loss: 0.4732 - val_accuracy: 0.8606 - val_loss: 0.3260\n",
            "Epoch 2/5\n",
            "\u001b[1m875/875\u001b[0m \u001b[32m━━━━━━━━━━━━━━━━━━━━\u001b[0m\u001b[37m\u001b[0m \u001b[1m1s\u001b[0m 1ms/step - accuracy: 0.9002 - loss: 0.2495 - val_accuracy: 0.8653 - val_loss: 0.3326\n",
            "Epoch 3/5\n",
            "\u001b[1m875/875\u001b[0m \u001b[32m━━━━━━━━━━━━━━━━━━━━\u001b[0m\u001b[37m\u001b[0m \u001b[1m1s\u001b[0m 1ms/step - accuracy: 0.9235 - loss: 0.1969 - val_accuracy: 0.8620 - val_loss: 0.3440\n",
            "Epoch 4/5\n",
            "\u001b[1m875/875\u001b[0m \u001b[32m━━━━━━━━━━━━━━━━━━━━\u001b[0m\u001b[37m\u001b[0m \u001b[1m1s\u001b[0m 1ms/step - accuracy: 0.9404 - loss: 0.1601 - val_accuracy: 0.8609 - val_loss: 0.3663\n",
            "Epoch 5/5\n",
            "\u001b[1m875/875\u001b[0m \u001b[32m━━━━━━━━━━━━━━━━━━━━\u001b[0m\u001b[37m\u001b[0m \u001b[1m1s\u001b[0m 1ms/step - accuracy: 0.9522 - loss: 0.1264 - val_accuracy: 0.8533 - val_loss: 0.4506\n",
            "\u001b[1m469/469\u001b[0m \u001b[32m━━━━━━━━━━━━━━━━━━━━\u001b[0m\u001b[37m\u001b[0m \u001b[1m0s\u001b[0m 551us/step - accuracy: 0.8616 - loss: 0.4489\n",
            "--- Starting trial: run-17\n",
            "{HParam(name='input_width', domain=Discrete([12, 24, 48]), display_name=None, description=None): 12, HParam(name='output_width', domain=Discrete([6, 12, 24]), display_name=None, description=None): 12, HParam(name='rnn_units', domain=Discrete([30, 40, 60]), display_name=None, description=None): 60, HParam(name='dropout', domain=Discrete([0.05, 0.1, 0.2]), display_name=None, description=None): 0.2, HParam(name='optimizer', domain=Discrete(['adam']), display_name=None, description=None): 'adam', HParam(name='learning_rate', domain=Discrete([0.001]), display_name=None, description=None): 0.001}\n",
            "Epoch 1/5\n",
            "\u001b[1m875/875\u001b[0m \u001b[32m━━━━━━━━━━━━━━━━━━━━\u001b[0m\u001b[37m\u001b[0m \u001b[1m2s\u001b[0m 1ms/step - accuracy: 0.7497 - loss: 0.5052 - val_accuracy: 0.8640 - val_loss: 0.3212\n",
            "Epoch 2/5\n",
            "\u001b[1m875/875\u001b[0m \u001b[32m━━━━━━━━━━━━━━━━━━━━\u001b[0m\u001b[37m\u001b[0m \u001b[1m1s\u001b[0m 1ms/step - accuracy: 0.8948 - loss: 0.2693 - val_accuracy: 0.8616 - val_loss: 0.3134\n",
            "Epoch 3/5\n",
            "\u001b[1m875/875\u001b[0m \u001b[32m━━━━━━━━━━━━━━━━━━━━\u001b[0m\u001b[37m\u001b[0m \u001b[1m1s\u001b[0m 1ms/step - accuracy: 0.9086 - loss: 0.2282 - val_accuracy: 0.8621 - val_loss: 0.3318\n",
            "Epoch 4/5\n",
            "\u001b[1m875/875\u001b[0m \u001b[32m━━━━━━━━━━━━━━━━━━━━\u001b[0m\u001b[37m\u001b[0m \u001b[1m1s\u001b[0m 1ms/step - accuracy: 0.9226 - loss: 0.1970 - val_accuracy: 0.8644 - val_loss: 0.3491\n",
            "Epoch 5/5\n",
            "\u001b[1m875/875\u001b[0m \u001b[32m━━━━━━━━━━━━━━━━━━━━\u001b[0m\u001b[37m\u001b[0m \u001b[1m1s\u001b[0m 1ms/step - accuracy: 0.9313 - loss: 0.1726 - val_accuracy: 0.8607 - val_loss: 0.3671\n",
            "\u001b[1m469/469\u001b[0m \u001b[32m━━━━━━━━━━━━━━━━━━━━\u001b[0m\u001b[37m\u001b[0m \u001b[1m0s\u001b[0m 542us/step - accuracy: 0.8609 - loss: 0.3675\n",
            "--- Starting trial: run-18\n",
            "{HParam(name='input_width', domain=Discrete([12, 24, 48]), display_name=None, description=None): 12, HParam(name='output_width', domain=Discrete([6, 12, 24]), display_name=None, description=None): 24, HParam(name='rnn_units', domain=Discrete([30, 40, 60]), display_name=None, description=None): 30, HParam(name='dropout', domain=Discrete([0.05, 0.1, 0.2]), display_name=None, description=None): 0.05, HParam(name='optimizer', domain=Discrete(['adam']), display_name=None, description=None): 'adam', HParam(name='learning_rate', domain=Discrete([0.001]), display_name=None, description=None): 0.001}\n",
            "Epoch 1/5\n",
            "\u001b[1m875/875\u001b[0m \u001b[32m━━━━━━━━━━━━━━━━━━━━\u001b[0m\u001b[37m\u001b[0m \u001b[1m2s\u001b[0m 1ms/step - accuracy: 0.7705 - loss: 0.4786 - val_accuracy: 0.8687 - val_loss: 0.3115\n",
            "Epoch 2/5\n",
            "\u001b[1m875/875\u001b[0m \u001b[32m━━━━━━━━━━━━━━━━━━━━\u001b[0m\u001b[37m\u001b[0m \u001b[1m1s\u001b[0m 1ms/step - accuracy: 0.8967 - loss: 0.2549 - val_accuracy: 0.8633 - val_loss: 0.3149\n",
            "Epoch 3/5\n",
            "\u001b[1m875/875\u001b[0m \u001b[32m━━━━━━━━━━━━━━━━━━━━\u001b[0m\u001b[37m\u001b[0m \u001b[1m1s\u001b[0m 1ms/step - accuracy: 0.9229 - loss: 0.1979 - val_accuracy: 0.8624 - val_loss: 0.3453\n",
            "Epoch 4/5\n",
            "\u001b[1m875/875\u001b[0m \u001b[32m━━━━━━━━━━━━━━━━━━━━\u001b[0m\u001b[37m\u001b[0m \u001b[1m1s\u001b[0m 1ms/step - accuracy: 0.9405 - loss: 0.1578 - val_accuracy: 0.8616 - val_loss: 0.3820\n",
            "Epoch 5/5\n",
            "\u001b[1m875/875\u001b[0m \u001b[32m━━━━━━━━━━━━━━━━━━━━\u001b[0m\u001b[37m\u001b[0m \u001b[1m1s\u001b[0m 1ms/step - accuracy: 0.9542 - loss: 0.1215 - val_accuracy: 0.8580 - val_loss: 0.4489\n",
            "\u001b[1m469/469\u001b[0m \u001b[32m━━━━━━━━━━━━━━━━━━━━\u001b[0m\u001b[37m\u001b[0m \u001b[1m0s\u001b[0m 535us/step - accuracy: 0.8669 - loss: 0.4508\n",
            "--- Starting trial: run-19\n",
            "{HParam(name='input_width', domain=Discrete([12, 24, 48]), display_name=None, description=None): 12, HParam(name='output_width', domain=Discrete([6, 12, 24]), display_name=None, description=None): 24, HParam(name='rnn_units', domain=Discrete([30, 40, 60]), display_name=None, description=None): 30, HParam(name='dropout', domain=Discrete([0.05, 0.1, 0.2]), display_name=None, description=None): 0.1, HParam(name='optimizer', domain=Discrete(['adam']), display_name=None, description=None): 'adam', HParam(name='learning_rate', domain=Discrete([0.001]), display_name=None, description=None): 0.001}\n",
            "Epoch 1/5\n",
            "\u001b[1m875/875\u001b[0m \u001b[32m━━━━━━━━━━━━━━━━━━━━\u001b[0m\u001b[37m\u001b[0m \u001b[1m2s\u001b[0m 1ms/step - accuracy: 0.7565 - loss: 0.4900 - val_accuracy: 0.8691 - val_loss: 0.3157\n",
            "Epoch 2/5\n",
            "\u001b[1m875/875\u001b[0m \u001b[32m━━━━━━━━━━━━━━━━━━━━\u001b[0m\u001b[37m\u001b[0m \u001b[1m1s\u001b[0m 1ms/step - accuracy: 0.8993 - loss: 0.2564 - val_accuracy: 0.8619 - val_loss: 0.3179\n",
            "Epoch 3/5\n",
            "\u001b[1m875/875\u001b[0m \u001b[32m━━━━━━━━━━━━━━━━━━━━\u001b[0m\u001b[37m\u001b[0m \u001b[1m1s\u001b[0m 1ms/step - accuracy: 0.9168 - loss: 0.2046 - val_accuracy: 0.8597 - val_loss: 0.3493\n",
            "Epoch 4/5\n",
            "\u001b[1m875/875\u001b[0m \u001b[32m━━━━━━━━━━━━━━━━━━━━\u001b[0m\u001b[37m\u001b[0m \u001b[1m1s\u001b[0m 1ms/step - accuracy: 0.9383 - loss: 0.1627 - val_accuracy: 0.8587 - val_loss: 0.3736\n",
            "Epoch 5/5\n",
            "\u001b[1m875/875\u001b[0m \u001b[32m━━━━━━━━━━━━━━━━━━━━\u001b[0m\u001b[37m\u001b[0m \u001b[1m1s\u001b[0m 1ms/step - accuracy: 0.9495 - loss: 0.1321 - val_accuracy: 0.8539 - val_loss: 0.4196\n",
            "\u001b[1m469/469\u001b[0m \u001b[32m━━━━━━━━━━━━━━━━━━━━\u001b[0m\u001b[37m\u001b[0m \u001b[1m0s\u001b[0m 535us/step - accuracy: 0.8643 - loss: 0.4192\n",
            "--- Starting trial: run-20\n",
            "{HParam(name='input_width', domain=Discrete([12, 24, 48]), display_name=None, description=None): 12, HParam(name='output_width', domain=Discrete([6, 12, 24]), display_name=None, description=None): 24, HParam(name='rnn_units', domain=Discrete([30, 40, 60]), display_name=None, description=None): 30, HParam(name='dropout', domain=Discrete([0.05, 0.1, 0.2]), display_name=None, description=None): 0.2, HParam(name='optimizer', domain=Discrete(['adam']), display_name=None, description=None): 'adam', HParam(name='learning_rate', domain=Discrete([0.001]), display_name=None, description=None): 0.001}\n",
            "Epoch 1/5\n",
            "\u001b[1m875/875\u001b[0m \u001b[32m━━━━━━━━━━━━━━━━━━━━\u001b[0m\u001b[37m\u001b[0m \u001b[1m2s\u001b[0m 1ms/step - accuracy: 0.7477 - loss: 0.5100 - val_accuracy: 0.8573 - val_loss: 0.3250\n",
            "Epoch 2/5\n",
            "\u001b[1m875/875\u001b[0m \u001b[32m━━━━━━━━━━━━━━━━━━━━\u001b[0m\u001b[37m\u001b[0m \u001b[1m1s\u001b[0m 1ms/step - accuracy: 0.8956 - loss: 0.2695 - val_accuracy: 0.8611 - val_loss: 0.3240\n",
            "Epoch 3/5\n",
            "\u001b[1m875/875\u001b[0m \u001b[32m━━━━━━━━━━━━━━━━━━━━\u001b[0m\u001b[37m\u001b[0m \u001b[1m1s\u001b[0m 1ms/step - accuracy: 0.9099 - loss: 0.2240 - val_accuracy: 0.8586 - val_loss: 0.3462\n",
            "Epoch 4/5\n",
            "\u001b[1m875/875\u001b[0m \u001b[32m━━━━━━━━━━━━━━━━━━━━\u001b[0m\u001b[37m\u001b[0m \u001b[1m1s\u001b[0m 1ms/step - accuracy: 0.9276 - loss: 0.1863 - val_accuracy: 0.8564 - val_loss: 0.3805\n",
            "Epoch 5/5\n",
            "\u001b[1m875/875\u001b[0m \u001b[32m━━━━━━━━━━━━━━━━━━━━\u001b[0m\u001b[37m\u001b[0m \u001b[1m1s\u001b[0m 1ms/step - accuracy: 0.9403 - loss: 0.1570 - val_accuracy: 0.8531 - val_loss: 0.3956\n",
            "\u001b[1m469/469\u001b[0m \u001b[32m━━━━━━━━━━━━━━━━━━━━\u001b[0m\u001b[37m\u001b[0m \u001b[1m0s\u001b[0m 571us/step - accuracy: 0.8611 - loss: 0.3931\n",
            "--- Starting trial: run-21\n",
            "{HParam(name='input_width', domain=Discrete([12, 24, 48]), display_name=None, description=None): 12, HParam(name='output_width', domain=Discrete([6, 12, 24]), display_name=None, description=None): 24, HParam(name='rnn_units', domain=Discrete([30, 40, 60]), display_name=None, description=None): 40, HParam(name='dropout', domain=Discrete([0.05, 0.1, 0.2]), display_name=None, description=None): 0.05, HParam(name='optimizer', domain=Discrete(['adam']), display_name=None, description=None): 'adam', HParam(name='learning_rate', domain=Discrete([0.001]), display_name=None, description=None): 0.001}\n",
            "Epoch 1/5\n",
            "\u001b[1m875/875\u001b[0m \u001b[32m━━━━━━━━━━━━━━━━━━━━\u001b[0m\u001b[37m\u001b[0m \u001b[1m2s\u001b[0m 1ms/step - accuracy: 0.7623 - loss: 0.4794 - val_accuracy: 0.8729 - val_loss: 0.3124\n",
            "Epoch 2/5\n",
            "\u001b[1m875/875\u001b[0m \u001b[32m━━━━━━━━━━━━━━━━━━━━\u001b[0m\u001b[37m\u001b[0m \u001b[1m1s\u001b[0m 1ms/step - accuracy: 0.9023 - loss: 0.2478 - val_accuracy: 0.8650 - val_loss: 0.3267\n",
            "Epoch 3/5\n",
            "\u001b[1m875/875\u001b[0m \u001b[32m━━━━━━━━━━━━━━━━━━━━\u001b[0m\u001b[37m\u001b[0m \u001b[1m1s\u001b[0m 1ms/step - accuracy: 0.9226 - loss: 0.1953 - val_accuracy: 0.8597 - val_loss: 0.3881\n",
            "Epoch 4/5\n",
            "\u001b[1m875/875\u001b[0m \u001b[32m━━━━━━━━━━━━━━━━━━━━\u001b[0m\u001b[37m\u001b[0m \u001b[1m1s\u001b[0m 1ms/step - accuracy: 0.9413 - loss: 0.1517 - val_accuracy: 0.8499 - val_loss: 0.4107\n",
            "Epoch 5/5\n",
            "\u001b[1m875/875\u001b[0m \u001b[32m━━━━━━━━━━━━━━━━━━━━\u001b[0m\u001b[37m\u001b[0m \u001b[1m1s\u001b[0m 1ms/step - accuracy: 0.9557 - loss: 0.1177 - val_accuracy: 0.8483 - val_loss: 0.4334\n",
            "\u001b[1m469/469\u001b[0m \u001b[32m━━━━━━━━━━━━━━━━━━━━\u001b[0m\u001b[37m\u001b[0m \u001b[1m0s\u001b[0m 563us/step - accuracy: 0.8557 - loss: 0.4232\n",
            "--- Starting trial: run-22\n",
            "{HParam(name='input_width', domain=Discrete([12, 24, 48]), display_name=None, description=None): 12, HParam(name='output_width', domain=Discrete([6, 12, 24]), display_name=None, description=None): 24, HParam(name='rnn_units', domain=Discrete([30, 40, 60]), display_name=None, description=None): 40, HParam(name='dropout', domain=Discrete([0.05, 0.1, 0.2]), display_name=None, description=None): 0.1, HParam(name='optimizer', domain=Discrete(['adam']), display_name=None, description=None): 'adam', HParam(name='learning_rate', domain=Discrete([0.001]), display_name=None, description=None): 0.001}\n",
            "Epoch 1/5\n",
            "\u001b[1m875/875\u001b[0m \u001b[32m━━━━━━━━━━━━━━━━━━━━\u001b[0m\u001b[37m\u001b[0m \u001b[1m2s\u001b[0m 1ms/step - accuracy: 0.7615 - loss: 0.4857 - val_accuracy: 0.8613 - val_loss: 0.3218\n",
            "Epoch 2/5\n",
            "\u001b[1m875/875\u001b[0m \u001b[32m━━━━━━━━━━━━━━━━━━━━\u001b[0m\u001b[37m\u001b[0m \u001b[1m1s\u001b[0m 1ms/step - accuracy: 0.8968 - loss: 0.2564 - val_accuracy: 0.8657 - val_loss: 0.3210\n",
            "Epoch 3/5\n",
            "\u001b[1m875/875\u001b[0m \u001b[32m━━━━━━━━━━━━━━━━━━━━\u001b[0m\u001b[37m\u001b[0m \u001b[1m1s\u001b[0m 1ms/step - accuracy: 0.9188 - loss: 0.2017 - val_accuracy: 0.8604 - val_loss: 0.3404\n",
            "Epoch 4/5\n",
            "\u001b[1m875/875\u001b[0m \u001b[32m━━━━━━━━━━━━━━━━━━━━\u001b[0m\u001b[37m\u001b[0m \u001b[1m1s\u001b[0m 1ms/step - accuracy: 0.9328 - loss: 0.1702 - val_accuracy: 0.8557 - val_loss: 0.3537\n",
            "Epoch 5/5\n",
            "\u001b[1m875/875\u001b[0m \u001b[32m━━━━━━━━━━━━━━━━━━━━\u001b[0m\u001b[37m\u001b[0m \u001b[1m1s\u001b[0m 1ms/step - accuracy: 0.9460 - loss: 0.1391 - val_accuracy: 0.8556 - val_loss: 0.4045\n",
            "\u001b[1m469/469\u001b[0m \u001b[32m━━━━━━━━━━━━━━━━━━━━\u001b[0m\u001b[37m\u001b[0m \u001b[1m0s\u001b[0m 526us/step - accuracy: 0.8568 - loss: 0.4110\n",
            "--- Starting trial: run-23\n",
            "{HParam(name='input_width', domain=Discrete([12, 24, 48]), display_name=None, description=None): 12, HParam(name='output_width', domain=Discrete([6, 12, 24]), display_name=None, description=None): 24, HParam(name='rnn_units', domain=Discrete([30, 40, 60]), display_name=None, description=None): 40, HParam(name='dropout', domain=Discrete([0.05, 0.1, 0.2]), display_name=None, description=None): 0.2, HParam(name='optimizer', domain=Discrete(['adam']), display_name=None, description=None): 'adam', HParam(name='learning_rate', domain=Discrete([0.001]), display_name=None, description=None): 0.001}\n",
            "Epoch 1/5\n",
            "\u001b[1m875/875\u001b[0m \u001b[32m━━━━━━━━━━━━━━━━━━━━\u001b[0m\u001b[37m\u001b[0m \u001b[1m2s\u001b[0m 2ms/step - accuracy: 0.7190 - loss: 0.5337 - val_accuracy: 0.8597 - val_loss: 0.3201\n",
            "Epoch 2/5\n",
            "\u001b[1m875/875\u001b[0m \u001b[32m━━━━━━━━━━━━━━━━━━━━\u001b[0m\u001b[37m\u001b[0m \u001b[1m1s\u001b[0m 1ms/step - accuracy: 0.8800 - loss: 0.2863 - val_accuracy: 0.8641 - val_loss: 0.3157\n",
            "Epoch 3/5\n",
            "\u001b[1m875/875\u001b[0m \u001b[32m━━━━━━━━━━━━━━━━━━━━\u001b[0m\u001b[37m\u001b[0m \u001b[1m1s\u001b[0m 1ms/step - accuracy: 0.8974 - loss: 0.2477 - val_accuracy: 0.8656 - val_loss: 0.3187\n",
            "Epoch 4/5\n",
            "\u001b[1m875/875\u001b[0m \u001b[32m━━━━━━━━━━━━━━━━━━━━\u001b[0m\u001b[37m\u001b[0m \u001b[1m1s\u001b[0m 1ms/step - accuracy: 0.9142 - loss: 0.2130 - val_accuracy: 0.8627 - val_loss: 0.3611\n",
            "Epoch 5/5\n",
            "\u001b[1m875/875\u001b[0m \u001b[32m━━━━━━━━━━━━━━━━━━━━\u001b[0m\u001b[37m\u001b[0m \u001b[1m1s\u001b[0m 1ms/step - accuracy: 0.9207 - loss: 0.1974 - val_accuracy: 0.8590 - val_loss: 0.3854\n",
            "\u001b[1m469/469\u001b[0m \u001b[32m━━━━━━━━━━━━━━━━━━━━\u001b[0m\u001b[37m\u001b[0m \u001b[1m0s\u001b[0m 530us/step - accuracy: 0.8708 - loss: 0.3770\n",
            "--- Starting trial: run-24\n",
            "{HParam(name='input_width', domain=Discrete([12, 24, 48]), display_name=None, description=None): 12, HParam(name='output_width', domain=Discrete([6, 12, 24]), display_name=None, description=None): 24, HParam(name='rnn_units', domain=Discrete([30, 40, 60]), display_name=None, description=None): 60, HParam(name='dropout', domain=Discrete([0.05, 0.1, 0.2]), display_name=None, description=None): 0.05, HParam(name='optimizer', domain=Discrete(['adam']), display_name=None, description=None): 'adam', HParam(name='learning_rate', domain=Discrete([0.001]), display_name=None, description=None): 0.001}\n",
            "Epoch 1/5\n",
            "\u001b[1m875/875\u001b[0m \u001b[32m━━━━━━━━━━━━━━━━━━━━\u001b[0m\u001b[37m\u001b[0m \u001b[1m2s\u001b[0m 2ms/step - accuracy: 0.7461 - loss: 0.4977 - val_accuracy: 0.8684 - val_loss: 0.3117\n",
            "Epoch 2/5\n",
            "\u001b[1m875/875\u001b[0m \u001b[32m━━━━━━━━━━━━━━━━━━━━\u001b[0m\u001b[37m\u001b[0m \u001b[1m1s\u001b[0m 1ms/step - accuracy: 0.9007 - loss: 0.2491 - val_accuracy: 0.8609 - val_loss: 0.3226\n",
            "Epoch 3/5\n",
            "\u001b[1m875/875\u001b[0m \u001b[32m━━━━━━━━━━━━━━━━━━━━\u001b[0m\u001b[37m\u001b[0m \u001b[1m1s\u001b[0m 1ms/step - accuracy: 0.9240 - loss: 0.1972 - val_accuracy: 0.8633 - val_loss: 0.3334\n",
            "Epoch 4/5\n",
            "\u001b[1m875/875\u001b[0m \u001b[32m━━━━━━━━━━━━━━━━━━━━\u001b[0m\u001b[37m\u001b[0m \u001b[1m1s\u001b[0m 1ms/step - accuracy: 0.9419 - loss: 0.1554 - val_accuracy: 0.8649 - val_loss: 0.3807\n",
            "Epoch 5/5\n",
            "\u001b[1m875/875\u001b[0m \u001b[32m━━━━━━━━━━━━━━━━━━━━\u001b[0m\u001b[37m\u001b[0m \u001b[1m1s\u001b[0m 1ms/step - accuracy: 0.9573 - loss: 0.1203 - val_accuracy: 0.8570 - val_loss: 0.4274\n",
            "\u001b[1m469/469\u001b[0m \u001b[32m━━━━━━━━━━━━━━━━━━━━\u001b[0m\u001b[37m\u001b[0m \u001b[1m0s\u001b[0m 539us/step - accuracy: 0.8665 - loss: 0.4331\n",
            "--- Starting trial: run-25\n",
            "{HParam(name='input_width', domain=Discrete([12, 24, 48]), display_name=None, description=None): 12, HParam(name='output_width', domain=Discrete([6, 12, 24]), display_name=None, description=None): 24, HParam(name='rnn_units', domain=Discrete([30, 40, 60]), display_name=None, description=None): 60, HParam(name='dropout', domain=Discrete([0.05, 0.1, 0.2]), display_name=None, description=None): 0.1, HParam(name='optimizer', domain=Discrete(['adam']), display_name=None, description=None): 'adam', HParam(name='learning_rate', domain=Discrete([0.001]), display_name=None, description=None): 0.001}\n",
            "Epoch 1/5\n",
            "\u001b[1m875/875\u001b[0m \u001b[32m━━━━━━━━━━━━━━━━━━━━\u001b[0m\u001b[37m\u001b[0m \u001b[1m2s\u001b[0m 2ms/step - accuracy: 0.7679 - loss: 0.4878 - val_accuracy: 0.8680 - val_loss: 0.3177\n",
            "Epoch 2/5\n",
            "\u001b[1m875/875\u001b[0m \u001b[32m━━━━━━━━━━━━━━━━━━━━\u001b[0m\u001b[37m\u001b[0m \u001b[1m1s\u001b[0m 1ms/step - accuracy: 0.8933 - loss: 0.2634 - val_accuracy: 0.8633 - val_loss: 0.3256\n",
            "Epoch 3/5\n",
            "\u001b[1m875/875\u001b[0m \u001b[32m━━━━━━━━━━━━━━━━━━━━\u001b[0m\u001b[37m\u001b[0m \u001b[1m1s\u001b[0m 1ms/step - accuracy: 0.9149 - loss: 0.2149 - val_accuracy: 0.8639 - val_loss: 0.3394\n",
            "Epoch 4/5\n",
            "\u001b[1m875/875\u001b[0m \u001b[32m━━━━━━━━━━━━━━━━━━━━\u001b[0m\u001b[37m\u001b[0m \u001b[1m1s\u001b[0m 1ms/step - accuracy: 0.9297 - loss: 0.1752 - val_accuracy: 0.8584 - val_loss: 0.3774\n",
            "Epoch 5/5\n",
            "\u001b[1m875/875\u001b[0m \u001b[32m━━━━━━━━━━━━━━━━━━━━\u001b[0m\u001b[37m\u001b[0m \u001b[1m1s\u001b[0m 1ms/step - accuracy: 0.9433 - loss: 0.1441 - val_accuracy: 0.8549 - val_loss: 0.4044\n",
            "\u001b[1m469/469\u001b[0m \u001b[32m━━━━━━━━━━━━━━━━━━━━\u001b[0m\u001b[37m\u001b[0m \u001b[1m0s\u001b[0m 538us/step - accuracy: 0.8595 - loss: 0.3976\n",
            "--- Starting trial: run-26\n",
            "{HParam(name='input_width', domain=Discrete([12, 24, 48]), display_name=None, description=None): 12, HParam(name='output_width', domain=Discrete([6, 12, 24]), display_name=None, description=None): 24, HParam(name='rnn_units', domain=Discrete([30, 40, 60]), display_name=None, description=None): 60, HParam(name='dropout', domain=Discrete([0.05, 0.1, 0.2]), display_name=None, description=None): 0.2, HParam(name='optimizer', domain=Discrete(['adam']), display_name=None, description=None): 'adam', HParam(name='learning_rate', domain=Discrete([0.001]), display_name=None, description=None): 0.001}\n",
            "Epoch 1/5\n",
            "\u001b[1m875/875\u001b[0m \u001b[32m━━━━━━━━━━━━━━━━━━━━\u001b[0m\u001b[37m\u001b[0m \u001b[1m2s\u001b[0m 1ms/step - accuracy: 0.7530 - loss: 0.4979 - val_accuracy: 0.8650 - val_loss: 0.3152\n",
            "Epoch 2/5\n",
            "\u001b[1m875/875\u001b[0m \u001b[32m━━━━━━━━━━━━━━━━━━━━\u001b[0m\u001b[37m\u001b[0m \u001b[1m1s\u001b[0m 1ms/step - accuracy: 0.8884 - loss: 0.2734 - val_accuracy: 0.8683 - val_loss: 0.3184\n",
            "Epoch 3/5\n",
            "\u001b[1m875/875\u001b[0m \u001b[32m━━━━━━━━━━━━━━━━━━━━\u001b[0m\u001b[37m\u001b[0m \u001b[1m1s\u001b[0m 1ms/step - accuracy: 0.9078 - loss: 0.2235 - val_accuracy: 0.8634 - val_loss: 0.3335\n",
            "Epoch 4/5\n",
            "\u001b[1m875/875\u001b[0m \u001b[32m━━━━━━━━━━━━━━━━━━━━\u001b[0m\u001b[37m\u001b[0m \u001b[1m1s\u001b[0m 1ms/step - accuracy: 0.9241 - loss: 0.1866 - val_accuracy: 0.8549 - val_loss: 0.3673\n",
            "Epoch 5/5\n",
            "\u001b[1m875/875\u001b[0m \u001b[32m━━━━━━━━━━━━━━━━━━━━\u001b[0m\u001b[37m\u001b[0m \u001b[1m1s\u001b[0m 1ms/step - accuracy: 0.9290 - loss: 0.1729 - val_accuracy: 0.8560 - val_loss: 0.3850\n",
            "\u001b[1m469/469\u001b[0m \u001b[32m━━━━━━━━━━━━━━━━━━━━\u001b[0m\u001b[37m\u001b[0m \u001b[1m0s\u001b[0m 580us/step - accuracy: 0.8640 - loss: 0.3795\n",
            "--- Starting trial: run-27\n",
            "{HParam(name='input_width', domain=Discrete([12, 24, 48]), display_name=None, description=None): 24, HParam(name='output_width', domain=Discrete([6, 12, 24]), display_name=None, description=None): 6, HParam(name='rnn_units', domain=Discrete([30, 40, 60]), display_name=None, description=None): 30, HParam(name='dropout', domain=Discrete([0.05, 0.1, 0.2]), display_name=None, description=None): 0.05, HParam(name='optimizer', domain=Discrete(['adam']), display_name=None, description=None): 'adam', HParam(name='learning_rate', domain=Discrete([0.001]), display_name=None, description=None): 0.001}\n",
            "Epoch 1/5\n",
            "\u001b[1m875/875\u001b[0m \u001b[32m━━━━━━━━━━━━━━━━━━━━\u001b[0m\u001b[37m\u001b[0m \u001b[1m2s\u001b[0m 2ms/step - accuracy: 0.7816 - loss: 0.4708 - val_accuracy: 0.8613 - val_loss: 0.3258\n",
            "Epoch 2/5\n",
            "\u001b[1m875/875\u001b[0m \u001b[32m━━━━━━━━━━━━━━━━━━━━\u001b[0m\u001b[37m\u001b[0m \u001b[1m1s\u001b[0m 1ms/step - accuracy: 0.9001 - loss: 0.2533 - val_accuracy: 0.8671 - val_loss: 0.3223\n",
            "Epoch 3/5\n",
            "\u001b[1m875/875\u001b[0m \u001b[32m━━━━━━━━━━━━━━━━━━━━\u001b[0m\u001b[37m\u001b[0m \u001b[1m1s\u001b[0m 1ms/step - accuracy: 0.9211 - loss: 0.1979 - val_accuracy: 0.8663 - val_loss: 0.3420\n",
            "Epoch 4/5\n",
            "\u001b[1m875/875\u001b[0m \u001b[32m━━━━━━━━━━━━━━━━━━━━\u001b[0m\u001b[37m\u001b[0m \u001b[1m1s\u001b[0m 1ms/step - accuracy: 0.9443 - loss: 0.1488 - val_accuracy: 0.8613 - val_loss: 0.3944\n",
            "Epoch 5/5\n",
            "\u001b[1m875/875\u001b[0m \u001b[32m━━━━━━━━━━━━━━━━━━━━\u001b[0m\u001b[37m\u001b[0m \u001b[1m1s\u001b[0m 1ms/step - accuracy: 0.9602 - loss: 0.1066 - val_accuracy: 0.8541 - val_loss: 0.4580\n",
            "\u001b[1m469/469\u001b[0m \u001b[32m━━━━━━━━━━━━━━━━━━━━\u001b[0m\u001b[37m\u001b[0m \u001b[1m0s\u001b[0m 567us/step - accuracy: 0.8590 - loss: 0.4592\n",
            "--- Starting trial: run-28\n",
            "{HParam(name='input_width', domain=Discrete([12, 24, 48]), display_name=None, description=None): 24, HParam(name='output_width', domain=Discrete([6, 12, 24]), display_name=None, description=None): 6, HParam(name='rnn_units', domain=Discrete([30, 40, 60]), display_name=None, description=None): 30, HParam(name='dropout', domain=Discrete([0.05, 0.1, 0.2]), display_name=None, description=None): 0.1, HParam(name='optimizer', domain=Discrete(['adam']), display_name=None, description=None): 'adam', HParam(name='learning_rate', domain=Discrete([0.001]), display_name=None, description=None): 0.001}\n",
            "Epoch 1/5\n",
            "\u001b[1m875/875\u001b[0m \u001b[32m━━━━━━━━━━━━━━━━━━━━\u001b[0m\u001b[37m\u001b[0m \u001b[1m2s\u001b[0m 2ms/step - accuracy: 0.7592 - loss: 0.4876 - val_accuracy: 0.8666 - val_loss: 0.3094\n",
            "Epoch 2/5\n",
            "\u001b[1m875/875\u001b[0m \u001b[32m━━━━━━━━━━━━━━━━━━━━\u001b[0m\u001b[37m\u001b[0m \u001b[1m1s\u001b[0m 1ms/step - accuracy: 0.8989 - loss: 0.2561 - val_accuracy: 0.8650 - val_loss: 0.3185\n",
            "Epoch 3/5\n",
            "\u001b[1m875/875\u001b[0m \u001b[32m━━━━━━━━━━━━━━━━━━━━\u001b[0m\u001b[37m\u001b[0m \u001b[1m1s\u001b[0m 1ms/step - accuracy: 0.9252 - loss: 0.1956 - val_accuracy: 0.8649 - val_loss: 0.3406\n",
            "Epoch 4/5\n",
            "\u001b[1m875/875\u001b[0m \u001b[32m━━━━━━━━━━━━━━━━━━━━\u001b[0m\u001b[37m\u001b[0m \u001b[1m1s\u001b[0m 2ms/step - accuracy: 0.9373 - loss: 0.1609 - val_accuracy: 0.8574 - val_loss: 0.4001\n",
            "Epoch 5/5\n",
            "\u001b[1m875/875\u001b[0m \u001b[32m━━━━━━━━━━━━━━━━━━━━\u001b[0m\u001b[37m\u001b[0m \u001b[1m1s\u001b[0m 1ms/step - accuracy: 0.9529 - loss: 0.1247 - val_accuracy: 0.8584 - val_loss: 0.4099\n",
            "\u001b[1m469/469\u001b[0m \u001b[32m━━━━━━━━━━━━━━━━━━━━\u001b[0m\u001b[37m\u001b[0m \u001b[1m0s\u001b[0m 544us/step - accuracy: 0.8625 - loss: 0.4227\n",
            "--- Starting trial: run-29\n",
            "{HParam(name='input_width', domain=Discrete([12, 24, 48]), display_name=None, description=None): 24, HParam(name='output_width', domain=Discrete([6, 12, 24]), display_name=None, description=None): 6, HParam(name='rnn_units', domain=Discrete([30, 40, 60]), display_name=None, description=None): 30, HParam(name='dropout', domain=Discrete([0.05, 0.1, 0.2]), display_name=None, description=None): 0.2, HParam(name='optimizer', domain=Discrete(['adam']), display_name=None, description=None): 'adam', HParam(name='learning_rate', domain=Discrete([0.001]), display_name=None, description=None): 0.001}\n",
            "Epoch 1/5\n",
            "\u001b[1m875/875\u001b[0m \u001b[32m━━━━━━━━━━━━━━━━━━━━\u001b[0m\u001b[37m\u001b[0m \u001b[1m2s\u001b[0m 2ms/step - accuracy: 0.7322 - loss: 0.5207 - val_accuracy: 0.8631 - val_loss: 0.3204\n",
            "Epoch 2/5\n",
            "\u001b[1m875/875\u001b[0m \u001b[32m━━━━━━━━━━━━━━━━━━━━\u001b[0m\u001b[37m\u001b[0m \u001b[1m1s\u001b[0m 1ms/step - accuracy: 0.8918 - loss: 0.2713 - val_accuracy: 0.8683 - val_loss: 0.3167\n",
            "Epoch 3/5\n",
            "\u001b[1m875/875\u001b[0m \u001b[32m━━━━━━━━━━━━━━━━━━━━\u001b[0m\u001b[37m\u001b[0m \u001b[1m1s\u001b[0m 2ms/step - accuracy: 0.9121 - loss: 0.2202 - val_accuracy: 0.8584 - val_loss: 0.3310\n",
            "Epoch 4/5\n",
            "\u001b[1m875/875\u001b[0m \u001b[32m━━━━━━━━━━━━━━━━━━━━\u001b[0m\u001b[37m\u001b[0m \u001b[1m1s\u001b[0m 1ms/step - accuracy: 0.9265 - loss: 0.1858 - val_accuracy: 0.8636 - val_loss: 0.3518\n",
            "Epoch 5/5\n",
            "\u001b[1m875/875\u001b[0m \u001b[32m━━━━━━━━━━━━━━━━━━━━\u001b[0m\u001b[37m\u001b[0m \u001b[1m1s\u001b[0m 2ms/step - accuracy: 0.9409 - loss: 0.1482 - val_accuracy: 0.8574 - val_loss: 0.3743\n",
            "\u001b[1m469/469\u001b[0m \u001b[32m━━━━━━━━━━━━━━━━━━━━\u001b[0m\u001b[37m\u001b[0m \u001b[1m0s\u001b[0m 561us/step - accuracy: 0.8581 - loss: 0.3715\n",
            "--- Starting trial: run-30\n",
            "{HParam(name='input_width', domain=Discrete([12, 24, 48]), display_name=None, description=None): 24, HParam(name='output_width', domain=Discrete([6, 12, 24]), display_name=None, description=None): 6, HParam(name='rnn_units', domain=Discrete([30, 40, 60]), display_name=None, description=None): 40, HParam(name='dropout', domain=Discrete([0.05, 0.1, 0.2]), display_name=None, description=None): 0.05, HParam(name='optimizer', domain=Discrete(['adam']), display_name=None, description=None): 'adam', HParam(name='learning_rate', domain=Discrete([0.001]), display_name=None, description=None): 0.001}\n",
            "Epoch 1/5\n",
            "\u001b[1m875/875\u001b[0m \u001b[32m━━━━━━━━━━━━━━━━━━━━\u001b[0m\u001b[37m\u001b[0m \u001b[1m2s\u001b[0m 2ms/step - accuracy: 0.7800 - loss: 0.4631 - val_accuracy: 0.8643 - val_loss: 0.3186\n",
            "Epoch 2/5\n",
            "\u001b[1m875/875\u001b[0m \u001b[32m━━━━━━━━━━━━━━━━━━━━\u001b[0m\u001b[37m\u001b[0m \u001b[1m1s\u001b[0m 1ms/step - accuracy: 0.8976 - loss: 0.2489 - val_accuracy: 0.8676 - val_loss: 0.3105\n",
            "Epoch 3/5\n",
            "\u001b[1m875/875\u001b[0m \u001b[32m━━━━━━━━━━━━━━━━━━━━\u001b[0m\u001b[37m\u001b[0m \u001b[1m1s\u001b[0m 1ms/step - accuracy: 0.9186 - loss: 0.1948 - val_accuracy: 0.8590 - val_loss: 0.3557\n",
            "Epoch 4/5\n",
            "\u001b[1m875/875\u001b[0m \u001b[32m━━━━━━━━━━━━━━━━━━━━\u001b[0m\u001b[37m\u001b[0m \u001b[1m1s\u001b[0m 2ms/step - accuracy: 0.9439 - loss: 0.1408 - val_accuracy: 0.8539 - val_loss: 0.4176\n",
            "Epoch 5/5\n",
            "\u001b[1m875/875\u001b[0m \u001b[32m━━━━━━━━━━━━━━━━━━━━\u001b[0m\u001b[37m\u001b[0m \u001b[1m1s\u001b[0m 2ms/step - accuracy: 0.9655 - loss: 0.0954 - val_accuracy: 0.8493 - val_loss: 0.4455\n",
            "\u001b[1m469/469\u001b[0m \u001b[32m━━━━━━━━━━━━━━━━━━━━\u001b[0m\u001b[37m\u001b[0m \u001b[1m0s\u001b[0m 517us/step - accuracy: 0.8574 - loss: 0.4237\n",
            "--- Starting trial: run-31\n",
            "{HParam(name='input_width', domain=Discrete([12, 24, 48]), display_name=None, description=None): 24, HParam(name='output_width', domain=Discrete([6, 12, 24]), display_name=None, description=None): 6, HParam(name='rnn_units', domain=Discrete([30, 40, 60]), display_name=None, description=None): 40, HParam(name='dropout', domain=Discrete([0.05, 0.1, 0.2]), display_name=None, description=None): 0.1, HParam(name='optimizer', domain=Discrete(['adam']), display_name=None, description=None): 'adam', HParam(name='learning_rate', domain=Discrete([0.001]), display_name=None, description=None): 0.001}\n",
            "Epoch 1/5\n",
            "\u001b[1m875/875\u001b[0m \u001b[32m━━━━━━━━━━━━━━━━━━━━\u001b[0m\u001b[37m\u001b[0m \u001b[1m2s\u001b[0m 2ms/step - accuracy: 0.7701 - loss: 0.4756 - val_accuracy: 0.8646 - val_loss: 0.3156\n",
            "Epoch 2/5\n",
            "\u001b[1m875/875\u001b[0m \u001b[32m━━━━━━━━━━━━━━━━━━━━\u001b[0m\u001b[37m\u001b[0m \u001b[1m1s\u001b[0m 1ms/step - accuracy: 0.8967 - loss: 0.2607 - val_accuracy: 0.8633 - val_loss: 0.3202\n",
            "Epoch 3/5\n",
            "\u001b[1m875/875\u001b[0m \u001b[32m━━━━━━━━━━━━━━━━━━━━\u001b[0m\u001b[37m\u001b[0m \u001b[1m1s\u001b[0m 1ms/step - accuracy: 0.9259 - loss: 0.1958 - val_accuracy: 0.8614 - val_loss: 0.3259\n",
            "Epoch 4/5\n",
            "\u001b[1m875/875\u001b[0m \u001b[32m━━━━━━━━━━━━━━━━━━━━\u001b[0m\u001b[37m\u001b[0m \u001b[1m1s\u001b[0m 1ms/step - accuracy: 0.9429 - loss: 0.1521 - val_accuracy: 0.8543 - val_loss: 0.3638\n",
            "Epoch 5/5\n",
            "\u001b[1m875/875\u001b[0m \u001b[32m━━━━━━━━━━━━━━━━━━━━\u001b[0m\u001b[37m\u001b[0m \u001b[1m1s\u001b[0m 1ms/step - accuracy: 0.9587 - loss: 0.1123 - val_accuracy: 0.8573 - val_loss: 0.4951\n",
            "\u001b[1m469/469\u001b[0m \u001b[32m━━━━━━━━━━━━━━━━━━━━\u001b[0m\u001b[37m\u001b[0m \u001b[1m0s\u001b[0m 530us/step - accuracy: 0.8670 - loss: 0.4870\n",
            "--- Starting trial: run-32\n",
            "{HParam(name='input_width', domain=Discrete([12, 24, 48]), display_name=None, description=None): 24, HParam(name='output_width', domain=Discrete([6, 12, 24]), display_name=None, description=None): 6, HParam(name='rnn_units', domain=Discrete([30, 40, 60]), display_name=None, description=None): 40, HParam(name='dropout', domain=Discrete([0.05, 0.1, 0.2]), display_name=None, description=None): 0.2, HParam(name='optimizer', domain=Discrete(['adam']), display_name=None, description=None): 'adam', HParam(name='learning_rate', domain=Discrete([0.001]), display_name=None, description=None): 0.001}\n",
            "Epoch 1/5\n",
            "\u001b[1m875/875\u001b[0m \u001b[32m━━━━━━━━━━━━━━━━━━━━\u001b[0m\u001b[37m\u001b[0m \u001b[1m2s\u001b[0m 2ms/step - accuracy: 0.7527 - loss: 0.4918 - val_accuracy: 0.8603 - val_loss: 0.3211\n",
            "Epoch 2/5\n",
            "\u001b[1m875/875\u001b[0m \u001b[32m━━━━━━━━━━━━━━━━━━━━\u001b[0m\u001b[37m\u001b[0m \u001b[1m1s\u001b[0m 1ms/step - accuracy: 0.8968 - loss: 0.2592 - val_accuracy: 0.8641 - val_loss: 0.3109\n",
            "Epoch 3/5\n",
            "\u001b[1m875/875\u001b[0m \u001b[32m━━━━━━━━━━━━━━━━━━━━\u001b[0m\u001b[37m\u001b[0m \u001b[1m1s\u001b[0m 1ms/step - accuracy: 0.9211 - loss: 0.2033 - val_accuracy: 0.8620 - val_loss: 0.3521\n",
            "Epoch 4/5\n",
            "\u001b[1m875/875\u001b[0m \u001b[32m━━━━━━━━━━━━━━━━━━━━\u001b[0m\u001b[37m\u001b[0m \u001b[1m1s\u001b[0m 1ms/step - accuracy: 0.9382 - loss: 0.1622 - val_accuracy: 0.8617 - val_loss: 0.3670\n",
            "Epoch 5/5\n",
            "\u001b[1m875/875\u001b[0m \u001b[32m━━━━━━━━━━━━━━━━━━━━\u001b[0m\u001b[37m\u001b[0m \u001b[1m1s\u001b[0m 1ms/step - accuracy: 0.9496 - loss: 0.1325 - val_accuracy: 0.8581 - val_loss: 0.4143\n",
            "\u001b[1m469/469\u001b[0m \u001b[32m━━━━━━━━━━━━━━━━━━━━\u001b[0m\u001b[37m\u001b[0m \u001b[1m0s\u001b[0m 551us/step - accuracy: 0.8617 - loss: 0.4134\n",
            "--- Starting trial: run-33\n",
            "{HParam(name='input_width', domain=Discrete([12, 24, 48]), display_name=None, description=None): 24, HParam(name='output_width', domain=Discrete([6, 12, 24]), display_name=None, description=None): 6, HParam(name='rnn_units', domain=Discrete([30, 40, 60]), display_name=None, description=None): 60, HParam(name='dropout', domain=Discrete([0.05, 0.1, 0.2]), display_name=None, description=None): 0.05, HParam(name='optimizer', domain=Discrete(['adam']), display_name=None, description=None): 'adam', HParam(name='learning_rate', domain=Discrete([0.001]), display_name=None, description=None): 0.001}\n",
            "Epoch 1/5\n",
            "\u001b[1m875/875\u001b[0m \u001b[32m━━━━━━━━━━━━━━━━━━━━\u001b[0m\u001b[37m\u001b[0m \u001b[1m2s\u001b[0m 2ms/step - accuracy: 0.7920 - loss: 0.4524 - val_accuracy: 0.8750 - val_loss: 0.3096\n",
            "Epoch 2/5\n",
            "\u001b[1m875/875\u001b[0m \u001b[32m━━━━━━━━━━━━━━━━━━━━\u001b[0m\u001b[37m\u001b[0m \u001b[1m1s\u001b[0m 2ms/step - accuracy: 0.8981 - loss: 0.2489 - val_accuracy: 0.8650 - val_loss: 0.3151\n",
            "Epoch 3/5\n",
            "\u001b[1m875/875\u001b[0m \u001b[32m━━━━━━━━━━━━━━━━━━━━\u001b[0m\u001b[37m\u001b[0m \u001b[1m1s\u001b[0m 1ms/step - accuracy: 0.9305 - loss: 0.1774 - val_accuracy: 0.8604 - val_loss: 0.3426\n",
            "Epoch 4/5\n",
            "\u001b[1m875/875\u001b[0m \u001b[32m━━━━━━━━━━━━━━━━━━━━\u001b[0m\u001b[37m\u001b[0m \u001b[1m1s\u001b[0m 2ms/step - accuracy: 0.9536 - loss: 0.1256 - val_accuracy: 0.8583 - val_loss: 0.3959\n",
            "Epoch 5/5\n",
            "\u001b[1m875/875\u001b[0m \u001b[32m━━━━━━━━━━━━━━━━━━━━\u001b[0m\u001b[37m\u001b[0m \u001b[1m1s\u001b[0m 1ms/step - accuracy: 0.9701 - loss: 0.0873 - val_accuracy: 0.8453 - val_loss: 0.5210\n",
            "\u001b[1m469/469\u001b[0m \u001b[32m━━━━━━━━━━━━━━━━━━━━\u001b[0m\u001b[37m\u001b[0m \u001b[1m0s\u001b[0m 611us/step - accuracy: 0.8566 - loss: 0.4954\n",
            "--- Starting trial: run-34\n",
            "{HParam(name='input_width', domain=Discrete([12, 24, 48]), display_name=None, description=None): 24, HParam(name='output_width', domain=Discrete([6, 12, 24]), display_name=None, description=None): 6, HParam(name='rnn_units', domain=Discrete([30, 40, 60]), display_name=None, description=None): 60, HParam(name='dropout', domain=Discrete([0.05, 0.1, 0.2]), display_name=None, description=None): 0.1, HParam(name='optimizer', domain=Discrete(['adam']), display_name=None, description=None): 'adam', HParam(name='learning_rate', domain=Discrete([0.001]), display_name=None, description=None): 0.001}\n",
            "Epoch 1/5\n",
            "\u001b[1m875/875\u001b[0m \u001b[32m━━━━━━━━━━━━━━━━━━━━\u001b[0m\u001b[37m\u001b[0m \u001b[1m2s\u001b[0m 2ms/step - accuracy: 0.7793 - loss: 0.4625 - val_accuracy: 0.8649 - val_loss: 0.3102\n",
            "Epoch 2/5\n",
            "\u001b[1m875/875\u001b[0m \u001b[32m━━━━━━━━━━━━━━━━━━━━\u001b[0m\u001b[37m\u001b[0m \u001b[1m1s\u001b[0m 1ms/step - accuracy: 0.9055 - loss: 0.2413 - val_accuracy: 0.8660 - val_loss: 0.3118\n",
            "Epoch 3/5\n",
            "\u001b[1m875/875\u001b[0m \u001b[32m━━━━━━━━━━━━━━━━━━━━\u001b[0m\u001b[37m\u001b[0m \u001b[1m1s\u001b[0m 2ms/step - accuracy: 0.9264 - loss: 0.1890 - val_accuracy: 0.8680 - val_loss: 0.3416\n",
            "Epoch 4/5\n",
            "\u001b[1m875/875\u001b[0m \u001b[32m━━━━━━━━━━━━━━━━━━━━\u001b[0m\u001b[37m\u001b[0m \u001b[1m1s\u001b[0m 2ms/step - accuracy: 0.9495 - loss: 0.1343 - val_accuracy: 0.8580 - val_loss: 0.4319\n",
            "Epoch 5/5\n",
            "\u001b[1m875/875\u001b[0m \u001b[32m━━━━━━━━━━━━━━━━━━━━\u001b[0m\u001b[37m\u001b[0m \u001b[1m1s\u001b[0m 1ms/step - accuracy: 0.9646 - loss: 0.0992 - val_accuracy: 0.8514 - val_loss: 0.4501\n",
            "\u001b[1m469/469\u001b[0m \u001b[32m━━━━━━━━━━━━━━━━━━━━\u001b[0m\u001b[37m\u001b[0m \u001b[1m0s\u001b[0m 561us/step - accuracy: 0.8544 - loss: 0.4499\n",
            "--- Starting trial: run-35\n",
            "{HParam(name='input_width', domain=Discrete([12, 24, 48]), display_name=None, description=None): 24, HParam(name='output_width', domain=Discrete([6, 12, 24]), display_name=None, description=None): 6, HParam(name='rnn_units', domain=Discrete([30, 40, 60]), display_name=None, description=None): 60, HParam(name='dropout', domain=Discrete([0.05, 0.1, 0.2]), display_name=None, description=None): 0.2, HParam(name='optimizer', domain=Discrete(['adam']), display_name=None, description=None): 'adam', HParam(name='learning_rate', domain=Discrete([0.001]), display_name=None, description=None): 0.001}\n",
            "Epoch 1/5\n",
            "\u001b[1m875/875\u001b[0m \u001b[32m━━━━━━━━━━━━━━━━━━━━\u001b[0m\u001b[37m\u001b[0m \u001b[1m2s\u001b[0m 2ms/step - accuracy: 0.7541 - loss: 0.4925 - val_accuracy: 0.8667 - val_loss: 0.3135\n",
            "Epoch 2/5\n",
            "\u001b[1m875/875\u001b[0m \u001b[32m━━━━━━━━━━━━━━━━━━━━\u001b[0m\u001b[37m\u001b[0m \u001b[1m1s\u001b[0m 1ms/step - accuracy: 0.8908 - loss: 0.2669 - val_accuracy: 0.8644 - val_loss: 0.3194\n",
            "Epoch 3/5\n",
            "\u001b[1m875/875\u001b[0m \u001b[32m━━━━━━━━━━━━━━━━━━━━\u001b[0m\u001b[37m\u001b[0m \u001b[1m1s\u001b[0m 1ms/step - accuracy: 0.9175 - loss: 0.2099 - val_accuracy: 0.8524 - val_loss: 0.3573\n",
            "Epoch 4/5\n",
            "\u001b[1m875/875\u001b[0m \u001b[32m━━━━━━━━━━━━━━━━━━━━\u001b[0m\u001b[37m\u001b[0m \u001b[1m1s\u001b[0m 2ms/step - accuracy: 0.9326 - loss: 0.1701 - val_accuracy: 0.8646 - val_loss: 0.3667\n",
            "Epoch 5/5\n",
            "\u001b[1m875/875\u001b[0m \u001b[32m━━━━━━━━━━━━━━━━━━━━\u001b[0m\u001b[37m\u001b[0m \u001b[1m1s\u001b[0m 2ms/step - accuracy: 0.9445 - loss: 0.1422 - val_accuracy: 0.8597 - val_loss: 0.4083\n",
            "\u001b[1m469/469\u001b[0m \u001b[32m━━━━━━━━━━━━━━━━━━━━\u001b[0m\u001b[37m\u001b[0m \u001b[1m0s\u001b[0m 540us/step - accuracy: 0.8628 - loss: 0.4076\n",
            "--- Starting trial: run-36\n",
            "{HParam(name='input_width', domain=Discrete([12, 24, 48]), display_name=None, description=None): 24, HParam(name='output_width', domain=Discrete([6, 12, 24]), display_name=None, description=None): 12, HParam(name='rnn_units', domain=Discrete([30, 40, 60]), display_name=None, description=None): 30, HParam(name='dropout', domain=Discrete([0.05, 0.1, 0.2]), display_name=None, description=None): 0.05, HParam(name='optimizer', domain=Discrete(['adam']), display_name=None, description=None): 'adam', HParam(name='learning_rate', domain=Discrete([0.001]), display_name=None, description=None): 0.001}\n",
            "Epoch 1/5\n",
            "\u001b[1m875/875\u001b[0m \u001b[32m━━━━━━━━━━━━━━━━━━━━\u001b[0m\u001b[37m\u001b[0m \u001b[1m2s\u001b[0m 2ms/step - accuracy: 0.7804 - loss: 0.4582 - val_accuracy: 0.8681 - val_loss: 0.3131\n",
            "Epoch 2/5\n",
            "\u001b[1m875/875\u001b[0m \u001b[32m━━━━━━━━━━━━━━━━━━━━\u001b[0m\u001b[37m\u001b[0m \u001b[1m1s\u001b[0m 1ms/step - accuracy: 0.9018 - loss: 0.2440 - val_accuracy: 0.8584 - val_loss: 0.3266\n",
            "Epoch 3/5\n",
            "\u001b[1m875/875\u001b[0m \u001b[32m━━━━━━━━━━━━━━━━━━━━\u001b[0m\u001b[37m\u001b[0m \u001b[1m1s\u001b[0m 1ms/step - accuracy: 0.9233 - loss: 0.1931 - val_accuracy: 0.8660 - val_loss: 0.3470\n",
            "Epoch 4/5\n",
            "\u001b[1m875/875\u001b[0m \u001b[32m━━━━━━━━━━━━━━━━━━━━\u001b[0m\u001b[37m\u001b[0m \u001b[1m1s\u001b[0m 1ms/step - accuracy: 0.9463 - loss: 0.1406 - val_accuracy: 0.8603 - val_loss: 0.4124\n",
            "Epoch 5/5\n",
            "\u001b[1m875/875\u001b[0m \u001b[32m━━━━━━━━━━━━━━━━━━━━\u001b[0m\u001b[37m\u001b[0m \u001b[1m1s\u001b[0m 1ms/step - accuracy: 0.9675 - loss: 0.0937 - val_accuracy: 0.8497 - val_loss: 0.4868\n",
            "\u001b[1m469/469\u001b[0m \u001b[32m━━━━━━━━━━━━━━━━━━━━\u001b[0m\u001b[37m\u001b[0m \u001b[1m0s\u001b[0m 559us/step - accuracy: 0.8486 - loss: 0.4940\n",
            "--- Starting trial: run-37\n",
            "{HParam(name='input_width', domain=Discrete([12, 24, 48]), display_name=None, description=None): 24, HParam(name='output_width', domain=Discrete([6, 12, 24]), display_name=None, description=None): 12, HParam(name='rnn_units', domain=Discrete([30, 40, 60]), display_name=None, description=None): 30, HParam(name='dropout', domain=Discrete([0.05, 0.1, 0.2]), display_name=None, description=None): 0.1, HParam(name='optimizer', domain=Discrete(['adam']), display_name=None, description=None): 'adam', HParam(name='learning_rate', domain=Discrete([0.001]), display_name=None, description=None): 0.001}\n",
            "Epoch 1/5\n",
            "\u001b[1m875/875\u001b[0m \u001b[32m━━━━━━━━━━━━━━━━━━━━\u001b[0m\u001b[37m\u001b[0m \u001b[1m2s\u001b[0m 2ms/step - accuracy: 0.7632 - loss: 0.4840 - val_accuracy: 0.8694 - val_loss: 0.3114\n",
            "Epoch 2/5\n",
            "\u001b[1m875/875\u001b[0m \u001b[32m━━━━━━━━━━━━━━━━━━━━\u001b[0m\u001b[37m\u001b[0m \u001b[1m1s\u001b[0m 2ms/step - accuracy: 0.9013 - loss: 0.2548 - val_accuracy: 0.8683 - val_loss: 0.3080\n",
            "Epoch 3/5\n",
            "\u001b[1m875/875\u001b[0m \u001b[32m━━━━━━━━━━━━━━━━━━━━\u001b[0m\u001b[37m\u001b[0m \u001b[1m1s\u001b[0m 2ms/step - accuracy: 0.9219 - loss: 0.1984 - val_accuracy: 0.8561 - val_loss: 0.3467\n",
            "Epoch 4/5\n",
            "\u001b[1m875/875\u001b[0m \u001b[32m━━━━━━━━━━━━━━━━━━━━\u001b[0m\u001b[37m\u001b[0m \u001b[1m1s\u001b[0m 1ms/step - accuracy: 0.9467 - loss: 0.1484 - val_accuracy: 0.8580 - val_loss: 0.3529\n",
            "Epoch 5/5\n",
            "\u001b[1m875/875\u001b[0m \u001b[32m━━━━━━━━━━━━━━━━━━━━\u001b[0m\u001b[37m\u001b[0m \u001b[1m1s\u001b[0m 1ms/step - accuracy: 0.9597 - loss: 0.1113 - val_accuracy: 0.8580 - val_loss: 0.4712\n",
            "\u001b[1m469/469\u001b[0m \u001b[32m━━━━━━━━━━━━━━━━━━━━\u001b[0m\u001b[37m\u001b[0m \u001b[1m0s\u001b[0m 582us/step - accuracy: 0.8668 - loss: 0.4572\n",
            "--- Starting trial: run-38\n",
            "{HParam(name='input_width', domain=Discrete([12, 24, 48]), display_name=None, description=None): 24, HParam(name='output_width', domain=Discrete([6, 12, 24]), display_name=None, description=None): 12, HParam(name='rnn_units', domain=Discrete([30, 40, 60]), display_name=None, description=None): 30, HParam(name='dropout', domain=Discrete([0.05, 0.1, 0.2]), display_name=None, description=None): 0.2, HParam(name='optimizer', domain=Discrete(['adam']), display_name=None, description=None): 'adam', HParam(name='learning_rate', domain=Discrete([0.001]), display_name=None, description=None): 0.001}\n",
            "Epoch 1/5\n",
            "\u001b[1m875/875\u001b[0m \u001b[32m━━━━━━━━━━━━━━━━━━━━\u001b[0m\u001b[37m\u001b[0m \u001b[1m2s\u001b[0m 2ms/step - accuracy: 0.7423 - loss: 0.5102 - val_accuracy: 0.8627 - val_loss: 0.3270\n",
            "Epoch 2/5\n",
            "\u001b[1m875/875\u001b[0m \u001b[32m━━━━━━━━━━━━━━━━━━━━\u001b[0m\u001b[37m\u001b[0m \u001b[1m1s\u001b[0m 1ms/step - accuracy: 0.8985 - loss: 0.2613 - val_accuracy: 0.8630 - val_loss: 0.3375\n",
            "Epoch 3/5\n",
            "\u001b[1m875/875\u001b[0m \u001b[32m━━━━━━━━━━━━━━━━━━━━\u001b[0m\u001b[37m\u001b[0m \u001b[1m1s\u001b[0m 1ms/step - accuracy: 0.9162 - loss: 0.2127 - val_accuracy: 0.8624 - val_loss: 0.3390\n",
            "Epoch 4/5\n",
            "\u001b[1m875/875\u001b[0m \u001b[32m━━━━━━━━━━━━━━━━━━━━\u001b[0m\u001b[37m\u001b[0m \u001b[1m1s\u001b[0m 1ms/step - accuracy: 0.9344 - loss: 0.1769 - val_accuracy: 0.8617 - val_loss: 0.3554\n",
            "Epoch 5/5\n",
            "\u001b[1m875/875\u001b[0m \u001b[32m━━━━━━━━━━━━━━━━━━━━\u001b[0m\u001b[37m\u001b[0m \u001b[1m1s\u001b[0m 1ms/step - accuracy: 0.9480 - loss: 0.1396 - val_accuracy: 0.8511 - val_loss: 0.4246\n",
            "\u001b[1m469/469\u001b[0m \u001b[32m━━━━━━━━━━━━━━━━━━━━\u001b[0m\u001b[37m\u001b[0m \u001b[1m0s\u001b[0m 578us/step - accuracy: 0.8630 - loss: 0.4043\n",
            "--- Starting trial: run-39\n",
            "{HParam(name='input_width', domain=Discrete([12, 24, 48]), display_name=None, description=None): 24, HParam(name='output_width', domain=Discrete([6, 12, 24]), display_name=None, description=None): 12, HParam(name='rnn_units', domain=Discrete([30, 40, 60]), display_name=None, description=None): 40, HParam(name='dropout', domain=Discrete([0.05, 0.1, 0.2]), display_name=None, description=None): 0.05, HParam(name='optimizer', domain=Discrete(['adam']), display_name=None, description=None): 'adam', HParam(name='learning_rate', domain=Discrete([0.001]), display_name=None, description=None): 0.001}\n",
            "Epoch 1/5\n",
            "\u001b[1m875/875\u001b[0m \u001b[32m━━━━━━━━━━━━━━━━━━━━\u001b[0m\u001b[37m\u001b[0m \u001b[1m2s\u001b[0m 2ms/step - accuracy: 0.7860 - loss: 0.4463 - val_accuracy: 0.8624 - val_loss: 0.3194\n",
            "Epoch 2/5\n",
            "\u001b[1m875/875\u001b[0m \u001b[32m━━━━━━━━━━━━━━━━━━━━\u001b[0m\u001b[37m\u001b[0m \u001b[1m1s\u001b[0m 1ms/step - accuracy: 0.9047 - loss: 0.2397 - val_accuracy: 0.8640 - val_loss: 0.3191\n",
            "Epoch 3/5\n",
            "\u001b[1m875/875\u001b[0m \u001b[32m━━━━━━━━━━━━━━━━━━━━\u001b[0m\u001b[37m\u001b[0m \u001b[1m1s\u001b[0m 2ms/step - accuracy: 0.9317 - loss: 0.1801 - val_accuracy: 0.8551 - val_loss: 0.3402\n",
            "Epoch 4/5\n",
            "\u001b[1m875/875\u001b[0m \u001b[32m━━━━━━━━━━━━━━━━━━━━\u001b[0m\u001b[37m\u001b[0m \u001b[1m1s\u001b[0m 1ms/step - accuracy: 0.9502 - loss: 0.1340 - val_accuracy: 0.8593 - val_loss: 0.3929\n",
            "Epoch 5/5\n",
            "\u001b[1m875/875\u001b[0m \u001b[32m━━━━━━━━━━━━━━━━━━━━\u001b[0m\u001b[37m\u001b[0m \u001b[1m1s\u001b[0m 1ms/step - accuracy: 0.9709 - loss: 0.0844 - val_accuracy: 0.8583 - val_loss: 0.4793\n",
            "\u001b[1m469/469\u001b[0m \u001b[32m━━━━━━━━━━━━━━━━━━━━\u001b[0m\u001b[37m\u001b[0m \u001b[1m0s\u001b[0m 526us/step - accuracy: 0.8533 - loss: 0.4986\n",
            "--- Starting trial: run-40\n",
            "{HParam(name='input_width', domain=Discrete([12, 24, 48]), display_name=None, description=None): 24, HParam(name='output_width', domain=Discrete([6, 12, 24]), display_name=None, description=None): 12, HParam(name='rnn_units', domain=Discrete([30, 40, 60]), display_name=None, description=None): 40, HParam(name='dropout', domain=Discrete([0.05, 0.1, 0.2]), display_name=None, description=None): 0.1, HParam(name='optimizer', domain=Discrete(['adam']), display_name=None, description=None): 'adam', HParam(name='learning_rate', domain=Discrete([0.001]), display_name=None, description=None): 0.001}\n",
            "Epoch 1/5\n",
            "\u001b[1m875/875\u001b[0m \u001b[32m━━━━━━━━━━━━━━━━━━━━\u001b[0m\u001b[37m\u001b[0m \u001b[1m2s\u001b[0m 2ms/step - accuracy: 0.7604 - loss: 0.4847 - val_accuracy: 0.8684 - val_loss: 0.3099\n",
            "Epoch 2/5\n",
            "\u001b[1m875/875\u001b[0m \u001b[32m━━━━━━━━━━━━━━━━━━━━\u001b[0m\u001b[37m\u001b[0m \u001b[1m1s\u001b[0m 1ms/step - accuracy: 0.9010 - loss: 0.2489 - val_accuracy: 0.8629 - val_loss: 0.3219\n",
            "Epoch 3/5\n",
            "\u001b[1m875/875\u001b[0m \u001b[32m━━━━━━━━━━━━━━━━━━━━\u001b[0m\u001b[37m\u001b[0m \u001b[1m1s\u001b[0m 2ms/step - accuracy: 0.9258 - loss: 0.1883 - val_accuracy: 0.8620 - val_loss: 0.3494\n",
            "Epoch 4/5\n",
            "\u001b[1m875/875\u001b[0m \u001b[32m━━━━━━━━━━━━━━━━━━━━\u001b[0m\u001b[37m\u001b[0m \u001b[1m1s\u001b[0m 2ms/step - accuracy: 0.9449 - loss: 0.1466 - val_accuracy: 0.8540 - val_loss: 0.3998\n",
            "Epoch 5/5\n",
            "\u001b[1m875/875\u001b[0m \u001b[32m━━━━━━━━━━━━━━━━━━━━\u001b[0m\u001b[37m\u001b[0m \u001b[1m1s\u001b[0m 1ms/step - accuracy: 0.9618 - loss: 0.1097 - val_accuracy: 0.8476 - val_loss: 0.4459\n",
            "\u001b[1m469/469\u001b[0m \u001b[32m━━━━━━━━━━━━━━━━━━━━\u001b[0m\u001b[37m\u001b[0m \u001b[1m0s\u001b[0m 549us/step - accuracy: 0.8640 - loss: 0.4333\n",
            "--- Starting trial: run-41\n",
            "{HParam(name='input_width', domain=Discrete([12, 24, 48]), display_name=None, description=None): 24, HParam(name='output_width', domain=Discrete([6, 12, 24]), display_name=None, description=None): 12, HParam(name='rnn_units', domain=Discrete([30, 40, 60]), display_name=None, description=None): 40, HParam(name='dropout', domain=Discrete([0.05, 0.1, 0.2]), display_name=None, description=None): 0.2, HParam(name='optimizer', domain=Discrete(['adam']), display_name=None, description=None): 'adam', HParam(name='learning_rate', domain=Discrete([0.001]), display_name=None, description=None): 0.001}\n",
            "Epoch 1/5\n",
            "\u001b[1m875/875\u001b[0m \u001b[32m━━━━━━━━━━━━━━━━━━━━\u001b[0m\u001b[37m\u001b[0m \u001b[1m2s\u001b[0m 2ms/step - accuracy: 0.7484 - loss: 0.5027 - val_accuracy: 0.8564 - val_loss: 0.3366\n",
            "Epoch 2/5\n",
            "\u001b[1m875/875\u001b[0m \u001b[32m━━━━━━━━━━━━━━━━━━━━\u001b[0m\u001b[37m\u001b[0m \u001b[1m1s\u001b[0m 1ms/step - accuracy: 0.8931 - loss: 0.2693 - val_accuracy: 0.8626 - val_loss: 0.3178\n",
            "Epoch 3/5\n",
            "\u001b[1m875/875\u001b[0m \u001b[32m━━━━━━━━━━━━━━━━━━━━\u001b[0m\u001b[37m\u001b[0m \u001b[1m1s\u001b[0m 1ms/step - accuracy: 0.9155 - loss: 0.2177 - val_accuracy: 0.8629 - val_loss: 0.3286\n",
            "Epoch 4/5\n",
            "\u001b[1m875/875\u001b[0m \u001b[32m━━━━━━━━━━━━━━━━━━━━\u001b[0m\u001b[37m\u001b[0m \u001b[1m1s\u001b[0m 1ms/step - accuracy: 0.9336 - loss: 0.1735 - val_accuracy: 0.8621 - val_loss: 0.3778\n",
            "Epoch 5/5\n",
            "\u001b[1m875/875\u001b[0m \u001b[32m━━━━━━━━━━━━━━━━━━━━\u001b[0m\u001b[37m\u001b[0m \u001b[1m1s\u001b[0m 1ms/step - accuracy: 0.9430 - loss: 0.1437 - val_accuracy: 0.8590 - val_loss: 0.4204\n",
            "\u001b[1m469/469\u001b[0m \u001b[32m━━━━━━━━━━━━━━━━━━━━\u001b[0m\u001b[37m\u001b[0m \u001b[1m0s\u001b[0m 566us/step - accuracy: 0.8653 - loss: 0.4051\n",
            "--- Starting trial: run-42\n",
            "{HParam(name='input_width', domain=Discrete([12, 24, 48]), display_name=None, description=None): 24, HParam(name='output_width', domain=Discrete([6, 12, 24]), display_name=None, description=None): 12, HParam(name='rnn_units', domain=Discrete([30, 40, 60]), display_name=None, description=None): 60, HParam(name='dropout', domain=Discrete([0.05, 0.1, 0.2]), display_name=None, description=None): 0.05, HParam(name='optimizer', domain=Discrete(['adam']), display_name=None, description=None): 'adam', HParam(name='learning_rate', domain=Discrete([0.001]), display_name=None, description=None): 0.001}\n",
            "Epoch 1/5\n",
            "\u001b[1m875/875\u001b[0m \u001b[32m━━━━━━━━━━━━━━━━━━━━\u001b[0m\u001b[37m\u001b[0m \u001b[1m2s\u001b[0m 2ms/step - accuracy: 0.7755 - loss: 0.4619 - val_accuracy: 0.8671 - val_loss: 0.3130\n",
            "Epoch 2/5\n",
            "\u001b[1m875/875\u001b[0m \u001b[32m━━━━━━━━━━━━━━━━━━━━\u001b[0m\u001b[37m\u001b[0m \u001b[1m1s\u001b[0m 2ms/step - accuracy: 0.9016 - loss: 0.2419 - val_accuracy: 0.8603 - val_loss: 0.3146\n",
            "Epoch 3/5\n",
            "\u001b[1m875/875\u001b[0m \u001b[32m━━━━━━━━━━━━━━━━━━━━\u001b[0m\u001b[37m\u001b[0m \u001b[1m1s\u001b[0m 1ms/step - accuracy: 0.9249 - loss: 0.1945 - val_accuracy: 0.8547 - val_loss: 0.3537\n",
            "Epoch 4/5\n",
            "\u001b[1m875/875\u001b[0m \u001b[32m━━━━━━━━━━━━━━━━━━━━\u001b[0m\u001b[37m\u001b[0m \u001b[1m1s\u001b[0m 1ms/step - accuracy: 0.9450 - loss: 0.1406 - val_accuracy: 0.8609 - val_loss: 0.3908\n",
            "Epoch 5/5\n",
            "\u001b[1m875/875\u001b[0m \u001b[32m━━━━━━━━━━━━━━━━━━━━\u001b[0m\u001b[37m\u001b[0m \u001b[1m1s\u001b[0m 1ms/step - accuracy: 0.9649 - loss: 0.0980 - val_accuracy: 0.8559 - val_loss: 0.4755\n",
            "\u001b[1m469/469\u001b[0m \u001b[32m━━━━━━━━━━━━━━━━━━━━\u001b[0m\u001b[37m\u001b[0m \u001b[1m0s\u001b[0m 542us/step - accuracy: 0.8565 - loss: 0.4734\n",
            "--- Starting trial: run-43\n",
            "{HParam(name='input_width', domain=Discrete([12, 24, 48]), display_name=None, description=None): 24, HParam(name='output_width', domain=Discrete([6, 12, 24]), display_name=None, description=None): 12, HParam(name='rnn_units', domain=Discrete([30, 40, 60]), display_name=None, description=None): 60, HParam(name='dropout', domain=Discrete([0.05, 0.1, 0.2]), display_name=None, description=None): 0.1, HParam(name='optimizer', domain=Discrete(['adam']), display_name=None, description=None): 'adam', HParam(name='learning_rate', domain=Discrete([0.001]), display_name=None, description=None): 0.001}\n",
            "Epoch 1/5\n",
            "\u001b[1m875/875\u001b[0m \u001b[32m━━━━━━━━━━━━━━━━━━━━\u001b[0m\u001b[37m\u001b[0m \u001b[1m2s\u001b[0m 2ms/step - accuracy: 0.7671 - loss: 0.4772 - val_accuracy: 0.8653 - val_loss: 0.3133\n",
            "Epoch 2/5\n",
            "\u001b[1m875/875\u001b[0m \u001b[32m━━━━━━━━━━━━━━━━━━━━\u001b[0m\u001b[37m\u001b[0m \u001b[1m1s\u001b[0m 1ms/step - accuracy: 0.9016 - loss: 0.2483 - val_accuracy: 0.8631 - val_loss: 0.3205\n",
            "Epoch 3/5\n",
            "\u001b[1m875/875\u001b[0m \u001b[32m━━━━━━━━━━━━━━━━━━━━\u001b[0m\u001b[37m\u001b[0m \u001b[1m1s\u001b[0m 1ms/step - accuracy: 0.9263 - loss: 0.1929 - val_accuracy: 0.8613 - val_loss: 0.3325\n",
            "Epoch 4/5\n",
            "\u001b[1m875/875\u001b[0m \u001b[32m━━━━━━━━━━━━━━━━━━━━\u001b[0m\u001b[37m\u001b[0m \u001b[1m1s\u001b[0m 1ms/step - accuracy: 0.9448 - loss: 0.1483 - val_accuracy: 0.8603 - val_loss: 0.3742\n",
            "Epoch 5/5\n",
            "\u001b[1m875/875\u001b[0m \u001b[32m━━━━━━━━━━━━━━━━━━━━\u001b[0m\u001b[37m\u001b[0m \u001b[1m1s\u001b[0m 1ms/step - accuracy: 0.9629 - loss: 0.1066 - val_accuracy: 0.8583 - val_loss: 0.4693\n",
            "\u001b[1m469/469\u001b[0m \u001b[32m━━━━━━━━━━━━━━━━━━━━\u001b[0m\u001b[37m\u001b[0m \u001b[1m0s\u001b[0m 531us/step - accuracy: 0.8589 - loss: 0.4581\n",
            "--- Starting trial: run-44\n",
            "{HParam(name='input_width', domain=Discrete([12, 24, 48]), display_name=None, description=None): 24, HParam(name='output_width', domain=Discrete([6, 12, 24]), display_name=None, description=None): 12, HParam(name='rnn_units', domain=Discrete([30, 40, 60]), display_name=None, description=None): 60, HParam(name='dropout', domain=Discrete([0.05, 0.1, 0.2]), display_name=None, description=None): 0.2, HParam(name='optimizer', domain=Discrete(['adam']), display_name=None, description=None): 'adam', HParam(name='learning_rate', domain=Discrete([0.001]), display_name=None, description=None): 0.001}\n",
            "Epoch 1/5\n",
            "\u001b[1m875/875\u001b[0m \u001b[32m━━━━━━━━━━━━━━━━━━━━\u001b[0m\u001b[37m\u001b[0m \u001b[1m2s\u001b[0m 2ms/step - accuracy: 0.7719 - loss: 0.4770 - val_accuracy: 0.8670 - val_loss: 0.3103\n",
            "Epoch 2/5\n",
            "\u001b[1m875/875\u001b[0m \u001b[32m━━━━━━━━━━━━━━━━━━━━\u001b[0m\u001b[37m\u001b[0m \u001b[1m1s\u001b[0m 2ms/step - accuracy: 0.8996 - loss: 0.2514 - val_accuracy: 0.8669 - val_loss: 0.3115\n",
            "Epoch 3/5\n",
            "\u001b[1m875/875\u001b[0m \u001b[32m━━━━━━━━━━━━━━━━━━━━\u001b[0m\u001b[37m\u001b[0m \u001b[1m1s\u001b[0m 2ms/step - accuracy: 0.9232 - loss: 0.2026 - val_accuracy: 0.8614 - val_loss: 0.3354\n",
            "Epoch 4/5\n",
            "\u001b[1m875/875\u001b[0m \u001b[32m━━━━━━━━━━━━━━━━━━━━\u001b[0m\u001b[37m\u001b[0m \u001b[1m1s\u001b[0m 1ms/step - accuracy: 0.9429 - loss: 0.1495 - val_accuracy: 0.8664 - val_loss: 0.3716\n",
            "Epoch 5/5\n",
            "\u001b[1m875/875\u001b[0m \u001b[32m━━━━━━━━━━━━━━━━━━━━\u001b[0m\u001b[37m\u001b[0m \u001b[1m1s\u001b[0m 2ms/step - accuracy: 0.9539 - loss: 0.1260 - val_accuracy: 0.8590 - val_loss: 0.4059\n",
            "\u001b[1m469/469\u001b[0m \u001b[32m━━━━━━━━━━━━━━━━━━━━\u001b[0m\u001b[37m\u001b[0m \u001b[1m0s\u001b[0m 549us/step - accuracy: 0.8629 - loss: 0.4034\n",
            "--- Starting trial: run-45\n",
            "{HParam(name='input_width', domain=Discrete([12, 24, 48]), display_name=None, description=None): 24, HParam(name='output_width', domain=Discrete([6, 12, 24]), display_name=None, description=None): 24, HParam(name='rnn_units', domain=Discrete([30, 40, 60]), display_name=None, description=None): 30, HParam(name='dropout', domain=Discrete([0.05, 0.1, 0.2]), display_name=None, description=None): 0.05, HParam(name='optimizer', domain=Discrete(['adam']), display_name=None, description=None): 'adam', HParam(name='learning_rate', domain=Discrete([0.001]), display_name=None, description=None): 0.001}\n",
            "Epoch 1/5\n",
            "\u001b[1m875/875\u001b[0m \u001b[32m━━━━━━━━━━━━━━━━━━━━\u001b[0m\u001b[37m\u001b[0m \u001b[1m2s\u001b[0m 2ms/step - accuracy: 0.7839 - loss: 0.4594 - val_accuracy: 0.8583 - val_loss: 0.3376\n",
            "Epoch 2/5\n",
            "\u001b[1m875/875\u001b[0m \u001b[32m━━━━━━━━━━━━━━━━━━━━\u001b[0m\u001b[37m\u001b[0m \u001b[1m1s\u001b[0m 2ms/step - accuracy: 0.9012 - loss: 0.2479 - val_accuracy: 0.8614 - val_loss: 0.3211\n",
            "Epoch 3/5\n",
            "\u001b[1m875/875\u001b[0m \u001b[32m━━━━━━━━━━━━━━━━━━━━\u001b[0m\u001b[37m\u001b[0m \u001b[1m1s\u001b[0m 1ms/step - accuracy: 0.9285 - loss: 0.1849 - val_accuracy: 0.8619 - val_loss: 0.3318\n",
            "Epoch 4/5\n",
            "\u001b[1m875/875\u001b[0m \u001b[32m━━━━━━━━━━━━━━━━━━━━\u001b[0m\u001b[37m\u001b[0m \u001b[1m1s\u001b[0m 1ms/step - accuracy: 0.9432 - loss: 0.1464 - val_accuracy: 0.8586 - val_loss: 0.3814\n",
            "Epoch 5/5\n",
            "\u001b[1m875/875\u001b[0m \u001b[32m━━━━━━━━━━━━━━━━━━━━\u001b[0m\u001b[37m\u001b[0m \u001b[1m1s\u001b[0m 1ms/step - accuracy: 0.9646 - loss: 0.1014 - val_accuracy: 0.8560 - val_loss: 0.4408\n",
            "\u001b[1m469/469\u001b[0m \u001b[32m━━━━━━━━━━━━━━━━━━━━\u001b[0m\u001b[37m\u001b[0m \u001b[1m0s\u001b[0m 544us/step - accuracy: 0.8554 - loss: 0.4497\n",
            "--- Starting trial: run-46\n",
            "{HParam(name='input_width', domain=Discrete([12, 24, 48]), display_name=None, description=None): 24, HParam(name='output_width', domain=Discrete([6, 12, 24]), display_name=None, description=None): 24, HParam(name='rnn_units', domain=Discrete([30, 40, 60]), display_name=None, description=None): 30, HParam(name='dropout', domain=Discrete([0.05, 0.1, 0.2]), display_name=None, description=None): 0.1, HParam(name='optimizer', domain=Discrete(['adam']), display_name=None, description=None): 'adam', HParam(name='learning_rate', domain=Discrete([0.001]), display_name=None, description=None): 0.001}\n",
            "Epoch 1/5\n",
            "\u001b[1m875/875\u001b[0m \u001b[32m━━━━━━━━━━━━━━━━━━━━\u001b[0m\u001b[37m\u001b[0m \u001b[1m2s\u001b[0m 2ms/step - accuracy: 0.7718 - loss: 0.4730 - val_accuracy: 0.8721 - val_loss: 0.3059\n",
            "Epoch 2/5\n",
            "\u001b[1m875/875\u001b[0m \u001b[32m━━━━━━━━━━━━━━━━━━━━\u001b[0m\u001b[37m\u001b[0m \u001b[1m1s\u001b[0m 1ms/step - accuracy: 0.9039 - loss: 0.2418 - val_accuracy: 0.8623 - val_loss: 0.3240\n",
            "Epoch 3/5\n",
            "\u001b[1m875/875\u001b[0m \u001b[32m━━━━━━━━━━━━━━━━━━━━\u001b[0m\u001b[37m\u001b[0m \u001b[1m1s\u001b[0m 2ms/step - accuracy: 0.9237 - loss: 0.1905 - val_accuracy: 0.8446 - val_loss: 0.4023\n",
            "Epoch 4/5\n",
            "\u001b[1m875/875\u001b[0m \u001b[32m━━━━━━━━━━━━━━━━━━━━\u001b[0m\u001b[37m\u001b[0m \u001b[1m1s\u001b[0m 2ms/step - accuracy: 0.9422 - loss: 0.1517 - val_accuracy: 0.8556 - val_loss: 0.3895\n",
            "Epoch 5/5\n",
            "\u001b[1m875/875\u001b[0m \u001b[32m━━━━━━━━━━━━━━━━━━━━\u001b[0m\u001b[37m\u001b[0m \u001b[1m1s\u001b[0m 1ms/step - accuracy: 0.9594 - loss: 0.1119 - val_accuracy: 0.8569 - val_loss: 0.4396\n",
            "\u001b[1m469/469\u001b[0m \u001b[32m━━━━━━━━━━━━━━━━━━━━\u001b[0m\u001b[37m\u001b[0m \u001b[1m0s\u001b[0m 568us/step - accuracy: 0.8607 - loss: 0.4329\n",
            "--- Starting trial: run-47\n",
            "{HParam(name='input_width', domain=Discrete([12, 24, 48]), display_name=None, description=None): 24, HParam(name='output_width', domain=Discrete([6, 12, 24]), display_name=None, description=None): 24, HParam(name='rnn_units', domain=Discrete([30, 40, 60]), display_name=None, description=None): 30, HParam(name='dropout', domain=Discrete([0.05, 0.1, 0.2]), display_name=None, description=None): 0.2, HParam(name='optimizer', domain=Discrete(['adam']), display_name=None, description=None): 'adam', HParam(name='learning_rate', domain=Discrete([0.001]), display_name=None, description=None): 0.001}\n",
            "Epoch 1/5\n",
            "\u001b[1m875/875\u001b[0m \u001b[32m━━━━━━━━━━━━━━━━━━━━\u001b[0m\u001b[37m\u001b[0m \u001b[1m2s\u001b[0m 2ms/step - accuracy: 0.7548 - loss: 0.5006 - val_accuracy: 0.8641 - val_loss: 0.3165\n",
            "Epoch 2/5\n",
            "\u001b[1m875/875\u001b[0m \u001b[32m━━━━━━━━━━━━━━━━━━━━\u001b[0m\u001b[37m\u001b[0m \u001b[1m1s\u001b[0m 1ms/step - accuracy: 0.8952 - loss: 0.2658 - val_accuracy: 0.8671 - val_loss: 0.3236\n",
            "Epoch 3/5\n",
            "\u001b[1m875/875\u001b[0m \u001b[32m━━━━━━━━━━━━━━━━━━━━\u001b[0m\u001b[37m\u001b[0m \u001b[1m1s\u001b[0m 1ms/step - accuracy: 0.9171 - loss: 0.2104 - val_accuracy: 0.8659 - val_loss: 0.3317\n",
            "Epoch 4/5\n",
            "\u001b[1m875/875\u001b[0m \u001b[32m━━━━━━━━━━━━━━━━━━━━\u001b[0m\u001b[37m\u001b[0m \u001b[1m1s\u001b[0m 2ms/step - accuracy: 0.9382 - loss: 0.1604 - val_accuracy: 0.8656 - val_loss: 0.3798\n",
            "Epoch 5/5\n",
            "\u001b[1m875/875\u001b[0m \u001b[32m━━━━━━━━━━━━━━━━━━━━\u001b[0m\u001b[37m\u001b[0m \u001b[1m1s\u001b[0m 1ms/step - accuracy: 0.9497 - loss: 0.1344 - val_accuracy: 0.8536 - val_loss: 0.3806\n",
            "\u001b[1m469/469\u001b[0m \u001b[32m━━━━━━━━━━━━━━━━━━━━\u001b[0m\u001b[37m\u001b[0m \u001b[1m0s\u001b[0m 537us/step - accuracy: 0.8547 - loss: 0.3784\n",
            "--- Starting trial: run-48\n",
            "{HParam(name='input_width', domain=Discrete([12, 24, 48]), display_name=None, description=None): 24, HParam(name='output_width', domain=Discrete([6, 12, 24]), display_name=None, description=None): 24, HParam(name='rnn_units', domain=Discrete([30, 40, 60]), display_name=None, description=None): 40, HParam(name='dropout', domain=Discrete([0.05, 0.1, 0.2]), display_name=None, description=None): 0.05, HParam(name='optimizer', domain=Discrete(['adam']), display_name=None, description=None): 'adam', HParam(name='learning_rate', domain=Discrete([0.001]), display_name=None, description=None): 0.001}\n",
            "Epoch 1/5\n",
            "\u001b[1m875/875\u001b[0m \u001b[32m━━━━━━━━━━━━━━━━━━━━\u001b[0m\u001b[37m\u001b[0m \u001b[1m2s\u001b[0m 2ms/step - accuracy: 0.7825 - loss: 0.4587 - val_accuracy: 0.8584 - val_loss: 0.3307\n",
            "Epoch 2/5\n",
            "\u001b[1m875/875\u001b[0m \u001b[32m━━━━━━━━━━━━━━━━━━━━\u001b[0m\u001b[37m\u001b[0m \u001b[1m1s\u001b[0m 1ms/step - accuracy: 0.9015 - loss: 0.2475 - val_accuracy: 0.8566 - val_loss: 0.3295\n",
            "Epoch 3/5\n",
            "\u001b[1m875/875\u001b[0m \u001b[32m━━━━━━━━━━━━━━━━━━━━\u001b[0m\u001b[37m\u001b[0m \u001b[1m1s\u001b[0m 2ms/step - accuracy: 0.9265 - loss: 0.1884 - val_accuracy: 0.8616 - val_loss: 0.3366\n",
            "Epoch 4/5\n",
            "\u001b[1m875/875\u001b[0m \u001b[32m━━━━━━━━━━━━━━━━━━━━\u001b[0m\u001b[37m\u001b[0m \u001b[1m1s\u001b[0m 1ms/step - accuracy: 0.9476 - loss: 0.1427 - val_accuracy: 0.8600 - val_loss: 0.3789\n",
            "Epoch 5/5\n",
            "\u001b[1m875/875\u001b[0m \u001b[32m━━━━━━━━━━━━━━━━━━━━\u001b[0m\u001b[37m\u001b[0m \u001b[1m1s\u001b[0m 1ms/step - accuracy: 0.9671 - loss: 0.1012 - val_accuracy: 0.8567 - val_loss: 0.4810\n",
            "\u001b[1m469/469\u001b[0m \u001b[32m━━━━━━━━━━━━━━━━━━━━\u001b[0m\u001b[37m\u001b[0m \u001b[1m0s\u001b[0m 560us/step - accuracy: 0.8612 - loss: 0.4792\n",
            "--- Starting trial: run-49\n",
            "{HParam(name='input_width', domain=Discrete([12, 24, 48]), display_name=None, description=None): 24, HParam(name='output_width', domain=Discrete([6, 12, 24]), display_name=None, description=None): 24, HParam(name='rnn_units', domain=Discrete([30, 40, 60]), display_name=None, description=None): 40, HParam(name='dropout', domain=Discrete([0.05, 0.1, 0.2]), display_name=None, description=None): 0.1, HParam(name='optimizer', domain=Discrete(['adam']), display_name=None, description=None): 'adam', HParam(name='learning_rate', domain=Discrete([0.001]), display_name=None, description=None): 0.001}\n",
            "Epoch 1/5\n",
            "\u001b[1m875/875\u001b[0m \u001b[32m━━━━━━━━━━━━━━━━━━━━\u001b[0m\u001b[37m\u001b[0m \u001b[1m2s\u001b[0m 2ms/step - accuracy: 0.7773 - loss: 0.4629 - val_accuracy: 0.8640 - val_loss: 0.3175\n",
            "Epoch 2/5\n",
            "\u001b[1m875/875\u001b[0m \u001b[32m━━━━━━━━━━━━━━━━━━━━\u001b[0m\u001b[37m\u001b[0m \u001b[1m1s\u001b[0m 1ms/step - accuracy: 0.9018 - loss: 0.2496 - val_accuracy: 0.8667 - val_loss: 0.3224\n",
            "Epoch 3/5\n",
            "\u001b[1m875/875\u001b[0m \u001b[32m━━━━━━━━━━━━━━━━━━━━\u001b[0m\u001b[37m\u001b[0m \u001b[1m1s\u001b[0m 1ms/step - accuracy: 0.9234 - loss: 0.1943 - val_accuracy: 0.8609 - val_loss: 0.3590\n",
            "Epoch 4/5\n",
            "\u001b[1m875/875\u001b[0m \u001b[32m━━━━━━━━━━━━━━━━━━━━\u001b[0m\u001b[37m\u001b[0m \u001b[1m1s\u001b[0m 1ms/step - accuracy: 0.9495 - loss: 0.1379 - val_accuracy: 0.8553 - val_loss: 0.3805\n",
            "Epoch 5/5\n",
            "\u001b[1m875/875\u001b[0m \u001b[32m━━━━━━━━━━━━━━━━━━━━\u001b[0m\u001b[37m\u001b[0m \u001b[1m1s\u001b[0m 1ms/step - accuracy: 0.9659 - loss: 0.0991 - val_accuracy: 0.8559 - val_loss: 0.4514\n",
            "\u001b[1m469/469\u001b[0m \u001b[32m━━━━━━━━━━━━━━━━━━━━\u001b[0m\u001b[37m\u001b[0m \u001b[1m0s\u001b[0m 560us/step - accuracy: 0.8559 - loss: 0.4611\n",
            "--- Starting trial: run-50\n",
            "{HParam(name='input_width', domain=Discrete([12, 24, 48]), display_name=None, description=None): 24, HParam(name='output_width', domain=Discrete([6, 12, 24]), display_name=None, description=None): 24, HParam(name='rnn_units', domain=Discrete([30, 40, 60]), display_name=None, description=None): 40, HParam(name='dropout', domain=Discrete([0.05, 0.1, 0.2]), display_name=None, description=None): 0.2, HParam(name='optimizer', domain=Discrete(['adam']), display_name=None, description=None): 'adam', HParam(name='learning_rate', domain=Discrete([0.001]), display_name=None, description=None): 0.001}\n",
            "Epoch 1/5\n",
            "\u001b[1m875/875\u001b[0m \u001b[32m━━━━━━━━━━━━━━━━━━━━\u001b[0m\u001b[37m\u001b[0m \u001b[1m2s\u001b[0m 2ms/step - accuracy: 0.7588 - loss: 0.4957 - val_accuracy: 0.8649 - val_loss: 0.3131\n",
            "Epoch 2/5\n",
            "\u001b[1m875/875\u001b[0m \u001b[32m━━━━━━━━━━━━━━━━━━━━\u001b[0m\u001b[37m\u001b[0m \u001b[1m1s\u001b[0m 2ms/step - accuracy: 0.8943 - loss: 0.2634 - val_accuracy: 0.8601 - val_loss: 0.3289\n",
            "Epoch 3/5\n",
            "\u001b[1m875/875\u001b[0m \u001b[32m━━━━━━━━━━━━━━━━━━━━\u001b[0m\u001b[37m\u001b[0m \u001b[1m1s\u001b[0m 1ms/step - accuracy: 0.9178 - loss: 0.2104 - val_accuracy: 0.8641 - val_loss: 0.3384\n",
            "Epoch 4/5\n",
            "\u001b[1m875/875\u001b[0m \u001b[32m━━━━━━━━━━━━━━━━━━━━\u001b[0m\u001b[37m\u001b[0m \u001b[1m1s\u001b[0m 1ms/step - accuracy: 0.9334 - loss: 0.1742 - val_accuracy: 0.8641 - val_loss: 0.3651\n",
            "Epoch 5/5\n",
            "\u001b[1m875/875\u001b[0m \u001b[32m━━━━━━━━━━━━━━━━━━━━\u001b[0m\u001b[37m\u001b[0m \u001b[1m1s\u001b[0m 1ms/step - accuracy: 0.9479 - loss: 0.1398 - val_accuracy: 0.8613 - val_loss: 0.3983\n",
            "\u001b[1m469/469\u001b[0m \u001b[32m━━━━━━━━━━━━━━━━━━━━\u001b[0m\u001b[37m\u001b[0m \u001b[1m0s\u001b[0m 576us/step - accuracy: 0.8663 - loss: 0.3851\n",
            "--- Starting trial: run-51\n",
            "{HParam(name='input_width', domain=Discrete([12, 24, 48]), display_name=None, description=None): 24, HParam(name='output_width', domain=Discrete([6, 12, 24]), display_name=None, description=None): 24, HParam(name='rnn_units', domain=Discrete([30, 40, 60]), display_name=None, description=None): 60, HParam(name='dropout', domain=Discrete([0.05, 0.1, 0.2]), display_name=None, description=None): 0.05, HParam(name='optimizer', domain=Discrete(['adam']), display_name=None, description=None): 'adam', HParam(name='learning_rate', domain=Discrete([0.001]), display_name=None, description=None): 0.001}\n",
            "Epoch 1/5\n",
            "\u001b[1m875/875\u001b[0m \u001b[32m━━━━━━━━━━━━━━━━━━━━\u001b[0m\u001b[37m\u001b[0m \u001b[1m2s\u001b[0m 2ms/step - accuracy: 0.7759 - loss: 0.4651 - val_accuracy: 0.8683 - val_loss: 0.3157\n",
            "Epoch 2/5\n",
            "\u001b[1m875/875\u001b[0m \u001b[32m━━━━━━━━━━━━━━━━━━━━\u001b[0m\u001b[37m\u001b[0m \u001b[1m1s\u001b[0m 1ms/step - accuracy: 0.9031 - loss: 0.2428 - val_accuracy: 0.8646 - val_loss: 0.3186\n",
            "Epoch 3/5\n",
            "\u001b[1m875/875\u001b[0m \u001b[32m━━━━━━━━━━━━━━━━━━━━\u001b[0m\u001b[37m\u001b[0m \u001b[1m1s\u001b[0m 1ms/step - accuracy: 0.9265 - loss: 0.1839 - val_accuracy: 0.8621 - val_loss: 0.3502\n",
            "Epoch 4/5\n",
            "\u001b[1m875/875\u001b[0m \u001b[32m━━━━━━━━━━━━━━━━━━━━\u001b[0m\u001b[37m\u001b[0m \u001b[1m1s\u001b[0m 1ms/step - accuracy: 0.9500 - loss: 0.1356 - val_accuracy: 0.8564 - val_loss: 0.3822\n",
            "Epoch 5/5\n",
            "\u001b[1m875/875\u001b[0m \u001b[32m━━━━━━━━━━━━━━━━━━━━\u001b[0m\u001b[37m\u001b[0m \u001b[1m1s\u001b[0m 1ms/step - accuracy: 0.9650 - loss: 0.0957 - val_accuracy: 0.8551 - val_loss: 0.4609\n",
            "\u001b[1m469/469\u001b[0m \u001b[32m━━━━━━━━━━━━━━━━━━━━\u001b[0m\u001b[37m\u001b[0m \u001b[1m0s\u001b[0m 566us/step - accuracy: 0.8645 - loss: 0.4594\n",
            "--- Starting trial: run-52\n",
            "{HParam(name='input_width', domain=Discrete([12, 24, 48]), display_name=None, description=None): 24, HParam(name='output_width', domain=Discrete([6, 12, 24]), display_name=None, description=None): 24, HParam(name='rnn_units', domain=Discrete([30, 40, 60]), display_name=None, description=None): 60, HParam(name='dropout', domain=Discrete([0.05, 0.1, 0.2]), display_name=None, description=None): 0.1, HParam(name='optimizer', domain=Discrete(['adam']), display_name=None, description=None): 'adam', HParam(name='learning_rate', domain=Discrete([0.001]), display_name=None, description=None): 0.001}\n",
            "Epoch 1/5\n",
            "\u001b[1m875/875\u001b[0m \u001b[32m━━━━━━━━━━━━━━━━━━━━\u001b[0m\u001b[37m\u001b[0m \u001b[1m2s\u001b[0m 2ms/step - accuracy: 0.7776 - loss: 0.4683 - val_accuracy: 0.8657 - val_loss: 0.3178\n",
            "Epoch 2/5\n",
            "\u001b[1m875/875\u001b[0m \u001b[32m━━━━━━━━━━━━━━━━━━━━\u001b[0m\u001b[37m\u001b[0m \u001b[1m1s\u001b[0m 1ms/step - accuracy: 0.9023 - loss: 0.2483 - val_accuracy: 0.8647 - val_loss: 0.3225\n",
            "Epoch 3/5\n",
            "\u001b[1m875/875\u001b[0m \u001b[32m━━━━━━━━━━━━━━━━━━━━\u001b[0m\u001b[37m\u001b[0m \u001b[1m1s\u001b[0m 1ms/step - accuracy: 0.9280 - loss: 0.1863 - val_accuracy: 0.8654 - val_loss: 0.3436\n",
            "Epoch 4/5\n",
            "\u001b[1m875/875\u001b[0m \u001b[32m━━━━━━━━━━━━━━━━━━━━\u001b[0m\u001b[37m\u001b[0m \u001b[1m1s\u001b[0m 1ms/step - accuracy: 0.9490 - loss: 0.1404 - val_accuracy: 0.8596 - val_loss: 0.4217\n",
            "Epoch 5/5\n",
            "\u001b[1m875/875\u001b[0m \u001b[32m━━━━━━━━━━━━━━━━━━━━\u001b[0m\u001b[37m\u001b[0m \u001b[1m1s\u001b[0m 1ms/step - accuracy: 0.9624 - loss: 0.1042 - val_accuracy: 0.8584 - val_loss: 0.4438\n",
            "\u001b[1m469/469\u001b[0m \u001b[32m━━━━━━━━━━━━━━━━━━━━\u001b[0m\u001b[37m\u001b[0m \u001b[1m0s\u001b[0m 568us/step - accuracy: 0.8605 - loss: 0.4361\n",
            "--- Starting trial: run-53\n",
            "{HParam(name='input_width', domain=Discrete([12, 24, 48]), display_name=None, description=None): 24, HParam(name='output_width', domain=Discrete([6, 12, 24]), display_name=None, description=None): 24, HParam(name='rnn_units', domain=Discrete([30, 40, 60]), display_name=None, description=None): 60, HParam(name='dropout', domain=Discrete([0.05, 0.1, 0.2]), display_name=None, description=None): 0.2, HParam(name='optimizer', domain=Discrete(['adam']), display_name=None, description=None): 'adam', HParam(name='learning_rate', domain=Discrete([0.001]), display_name=None, description=None): 0.001}\n",
            "Epoch 1/5\n",
            "\u001b[1m875/875\u001b[0m \u001b[32m━━━━━━━━━━━━━━━━━━━━\u001b[0m\u001b[37m\u001b[0m \u001b[1m2s\u001b[0m 2ms/step - accuracy: 0.7480 - loss: 0.4968 - val_accuracy: 0.8657 - val_loss: 0.3230\n",
            "Epoch 2/5\n",
            "\u001b[1m875/875\u001b[0m \u001b[32m━━━━━━━━━━━━━━━━━━━━\u001b[0m\u001b[37m\u001b[0m \u001b[1m1s\u001b[0m 1ms/step - accuracy: 0.8915 - loss: 0.2656 - val_accuracy: 0.8493 - val_loss: 0.3638\n",
            "Epoch 3/5\n",
            "\u001b[1m875/875\u001b[0m \u001b[32m━━━━━━━━━━━━━━━━━━━━\u001b[0m\u001b[37m\u001b[0m \u001b[1m1s\u001b[0m 1ms/step - accuracy: 0.9183 - loss: 0.2080 - val_accuracy: 0.8557 - val_loss: 0.3326\n",
            "Epoch 4/5\n",
            "\u001b[1m875/875\u001b[0m \u001b[32m━━━━━━━━━━━━━━━━━━━━\u001b[0m\u001b[37m\u001b[0m \u001b[1m1s\u001b[0m 1ms/step - accuracy: 0.9331 - loss: 0.1716 - val_accuracy: 0.8619 - val_loss: 0.3610\n",
            "Epoch 5/5\n",
            "\u001b[1m875/875\u001b[0m \u001b[32m━━━━━━━━━━━━━━━━━━━━\u001b[0m\u001b[37m\u001b[0m \u001b[1m1s\u001b[0m 1ms/step - accuracy: 0.9444 - loss: 0.1448 - val_accuracy: 0.8617 - val_loss: 0.4013\n",
            "\u001b[1m469/469\u001b[0m \u001b[32m━━━━━━━━━━━━━━━━━━━━\u001b[0m\u001b[37m\u001b[0m \u001b[1m0s\u001b[0m 545us/step - accuracy: 0.8668 - loss: 0.3947\n",
            "--- Starting trial: run-54\n",
            "{HParam(name='input_width', domain=Discrete([12, 24, 48]), display_name=None, description=None): 48, HParam(name='output_width', domain=Discrete([6, 12, 24]), display_name=None, description=None): 6, HParam(name='rnn_units', domain=Discrete([30, 40, 60]), display_name=None, description=None): 30, HParam(name='dropout', domain=Discrete([0.05, 0.1, 0.2]), display_name=None, description=None): 0.05, HParam(name='optimizer', domain=Discrete(['adam']), display_name=None, description=None): 'adam', HParam(name='learning_rate', domain=Discrete([0.001]), display_name=None, description=None): 0.001}\n",
            "Epoch 1/5\n",
            "\u001b[1m875/875\u001b[0m \u001b[32m━━━━━━━━━━━━━━━━━━━━\u001b[0m\u001b[37m\u001b[0m \u001b[1m3s\u001b[0m 2ms/step - accuracy: 0.7857 - loss: 0.4528 - val_accuracy: 0.8690 - val_loss: 0.3125\n",
            "Epoch 2/5\n",
            "\u001b[1m875/875\u001b[0m \u001b[32m━━━━━━━━━━━━━━━━━━━━\u001b[0m\u001b[37m\u001b[0m \u001b[1m1s\u001b[0m 2ms/step - accuracy: 0.9048 - loss: 0.2409 - val_accuracy: 0.8576 - val_loss: 0.3542\n",
            "Epoch 3/5\n",
            "\u001b[1m875/875\u001b[0m \u001b[32m━━━━━━━━━━━━━━━━━━━━\u001b[0m\u001b[37m\u001b[0m \u001b[1m1s\u001b[0m 2ms/step - accuracy: 0.9300 - loss: 0.1814 - val_accuracy: 0.8611 - val_loss: 0.3541\n",
            "Epoch 4/5\n",
            "\u001b[1m875/875\u001b[0m \u001b[32m━━━━━━━━━━━━━━━━━━━━\u001b[0m\u001b[37m\u001b[0m \u001b[1m1s\u001b[0m 2ms/step - accuracy: 0.9535 - loss: 0.1254 - val_accuracy: 0.8556 - val_loss: 0.4078\n",
            "Epoch 5/5\n",
            "\u001b[1m875/875\u001b[0m \u001b[32m━━━━━━━━━━━━━━━━━━━━\u001b[0m\u001b[37m\u001b[0m \u001b[1m2s\u001b[0m 2ms/step - accuracy: 0.9720 - loss: 0.0771 - val_accuracy: 0.8570 - val_loss: 0.5733\n",
            "\u001b[1m469/469\u001b[0m \u001b[32m━━━━━━━━━━━━━━━━━━━━\u001b[0m\u001b[37m\u001b[0m \u001b[1m0s\u001b[0m 580us/step - accuracy: 0.8557 - loss: 0.5977\n",
            "--- Starting trial: run-55\n",
            "{HParam(name='input_width', domain=Discrete([12, 24, 48]), display_name=None, description=None): 48, HParam(name='output_width', domain=Discrete([6, 12, 24]), display_name=None, description=None): 6, HParam(name='rnn_units', domain=Discrete([30, 40, 60]), display_name=None, description=None): 30, HParam(name='dropout', domain=Discrete([0.05, 0.1, 0.2]), display_name=None, description=None): 0.1, HParam(name='optimizer', domain=Discrete(['adam']), display_name=None, description=None): 'adam', HParam(name='learning_rate', domain=Discrete([0.001]), display_name=None, description=None): 0.001}\n",
            "Epoch 1/5\n",
            "\u001b[1m875/875\u001b[0m \u001b[32m━━━━━━━━━━━━━━━━━━━━\u001b[0m\u001b[37m\u001b[0m \u001b[1m2s\u001b[0m 2ms/step - accuracy: 0.7900 - loss: 0.4579 - val_accuracy: 0.8670 - val_loss: 0.3146\n",
            "Epoch 2/5\n",
            "\u001b[1m875/875\u001b[0m \u001b[32m━━━━━━━━━━━━━━━━━━━━\u001b[0m\u001b[37m\u001b[0m \u001b[1m2s\u001b[0m 2ms/step - accuracy: 0.8998 - loss: 0.2488 - val_accuracy: 0.8649 - val_loss: 0.3341\n",
            "Epoch 3/5\n",
            "\u001b[1m875/875\u001b[0m \u001b[32m━━━━━━━━━━━━━━━━━━━━\u001b[0m\u001b[37m\u001b[0m \u001b[1m2s\u001b[0m 2ms/step - accuracy: 0.9283 - loss: 0.1818 - val_accuracy: 0.8620 - val_loss: 0.3458\n",
            "Epoch 4/5\n",
            "\u001b[1m875/875\u001b[0m \u001b[32m━━━━━━━━━━━━━━━━━━━━\u001b[0m\u001b[37m\u001b[0m \u001b[1m2s\u001b[0m 2ms/step - accuracy: 0.9511 - loss: 0.1299 - val_accuracy: 0.8539 - val_loss: 0.4423\n",
            "Epoch 5/5\n",
            "\u001b[1m875/875\u001b[0m \u001b[32m━━━━━━━━━━━━━━━━━━━━\u001b[0m\u001b[37m\u001b[0m \u001b[1m2s\u001b[0m 2ms/step - accuracy: 0.9684 - loss: 0.0849 - val_accuracy: 0.8560 - val_loss: 0.5460\n",
            "\u001b[1m469/469\u001b[0m \u001b[32m━━━━━━━━━━━━━━━━━━━━\u001b[0m\u001b[37m\u001b[0m \u001b[1m0s\u001b[0m 579us/step - accuracy: 0.8596 - loss: 0.5404\n",
            "--- Starting trial: run-56\n",
            "{HParam(name='input_width', domain=Discrete([12, 24, 48]), display_name=None, description=None): 48, HParam(name='output_width', domain=Discrete([6, 12, 24]), display_name=None, description=None): 6, HParam(name='rnn_units', domain=Discrete([30, 40, 60]), display_name=None, description=None): 30, HParam(name='dropout', domain=Discrete([0.05, 0.1, 0.2]), display_name=None, description=None): 0.2, HParam(name='optimizer', domain=Discrete(['adam']), display_name=None, description=None): 'adam', HParam(name='learning_rate', domain=Discrete([0.001]), display_name=None, description=None): 0.001}\n",
            "Epoch 1/5\n",
            "\u001b[1m875/875\u001b[0m \u001b[32m━━━━━━━━━━━━━━━━━━━━\u001b[0m\u001b[37m\u001b[0m \u001b[1m2s\u001b[0m 2ms/step - accuracy: 0.7579 - loss: 0.4935 - val_accuracy: 0.8707 - val_loss: 0.3089\n",
            "Epoch 2/5\n",
            "\u001b[1m875/875\u001b[0m \u001b[32m━━━━━━━━━━━━━━━━━━━━\u001b[0m\u001b[37m\u001b[0m \u001b[1m2s\u001b[0m 2ms/step - accuracy: 0.8972 - loss: 0.2597 - val_accuracy: 0.8650 - val_loss: 0.3175\n",
            "Epoch 3/5\n",
            "\u001b[1m875/875\u001b[0m \u001b[32m━━━━━━━━━━━━━━━━━━━━\u001b[0m\u001b[37m\u001b[0m \u001b[1m2s\u001b[0m 2ms/step - accuracy: 0.9199 - loss: 0.2040 - val_accuracy: 0.8577 - val_loss: 0.3370\n",
            "Epoch 4/5\n",
            "\u001b[1m875/875\u001b[0m \u001b[32m━━━━━━━━━━━━━━━━━━━━\u001b[0m\u001b[37m\u001b[0m \u001b[1m2s\u001b[0m 2ms/step - accuracy: 0.9415 - loss: 0.1583 - val_accuracy: 0.8610 - val_loss: 0.3922\n",
            "Epoch 5/5\n",
            "\u001b[1m875/875\u001b[0m \u001b[32m━━━━━━━━━━━━━━━━━━━━\u001b[0m\u001b[37m\u001b[0m \u001b[1m1s\u001b[0m 2ms/step - accuracy: 0.9617 - loss: 0.1080 - val_accuracy: 0.8573 - val_loss: 0.4087\n",
            "\u001b[1m469/469\u001b[0m \u001b[32m━━━━━━━━━━━━━━━━━━━━\u001b[0m\u001b[37m\u001b[0m \u001b[1m0s\u001b[0m 549us/step - accuracy: 0.8614 - loss: 0.4134\n",
            "--- Starting trial: run-57\n",
            "{HParam(name='input_width', domain=Discrete([12, 24, 48]), display_name=None, description=None): 48, HParam(name='output_width', domain=Discrete([6, 12, 24]), display_name=None, description=None): 6, HParam(name='rnn_units', domain=Discrete([30, 40, 60]), display_name=None, description=None): 40, HParam(name='dropout', domain=Discrete([0.05, 0.1, 0.2]), display_name=None, description=None): 0.05, HParam(name='optimizer', domain=Discrete(['adam']), display_name=None, description=None): 'adam', HParam(name='learning_rate', domain=Discrete([0.001]), display_name=None, description=None): 0.001}\n",
            "Epoch 1/5\n",
            "\u001b[1m875/875\u001b[0m \u001b[32m━━━━━━━━━━━━━━━━━━━━\u001b[0m\u001b[37m\u001b[0m \u001b[1m2s\u001b[0m 2ms/step - accuracy: 0.7925 - loss: 0.4417 - val_accuracy: 0.8683 - val_loss: 0.3079\n",
            "Epoch 2/5\n",
            "\u001b[1m875/875\u001b[0m \u001b[32m━━━━━━━━━━━━━━━━━━━━\u001b[0m\u001b[37m\u001b[0m \u001b[1m2s\u001b[0m 2ms/step - accuracy: 0.9044 - loss: 0.2379 - val_accuracy: 0.8673 - val_loss: 0.3169\n",
            "Epoch 3/5\n",
            "\u001b[1m875/875\u001b[0m \u001b[32m━━━━━━━━━━━━━━━━━━━━\u001b[0m\u001b[37m\u001b[0m \u001b[1m2s\u001b[0m 2ms/step - accuracy: 0.9239 - loss: 0.1873 - val_accuracy: 0.8646 - val_loss: 0.3314\n",
            "Epoch 4/5\n",
            "\u001b[1m875/875\u001b[0m \u001b[32m━━━━━━━━━━━━━━━━━━━━\u001b[0m\u001b[37m\u001b[0m \u001b[1m1s\u001b[0m 2ms/step - accuracy: 0.9528 - loss: 0.1242 - val_accuracy: 0.8589 - val_loss: 0.4212\n",
            "Epoch 5/5\n",
            "\u001b[1m875/875\u001b[0m \u001b[32m━━━━━━━━━━━━━━━━━━━━\u001b[0m\u001b[37m\u001b[0m \u001b[1m1s\u001b[0m 2ms/step - accuracy: 0.9715 - loss: 0.0769 - val_accuracy: 0.8554 - val_loss: 0.5152\n",
            "\u001b[1m469/469\u001b[0m \u001b[32m━━━━━━━━━━━━━━━━━━━━\u001b[0m\u001b[37m\u001b[0m \u001b[1m0s\u001b[0m 598us/step - accuracy: 0.8592 - loss: 0.5280\n",
            "--- Starting trial: run-58\n",
            "{HParam(name='input_width', domain=Discrete([12, 24, 48]), display_name=None, description=None): 48, HParam(name='output_width', domain=Discrete([6, 12, 24]), display_name=None, description=None): 6, HParam(name='rnn_units', domain=Discrete([30, 40, 60]), display_name=None, description=None): 40, HParam(name='dropout', domain=Discrete([0.05, 0.1, 0.2]), display_name=None, description=None): 0.1, HParam(name='optimizer', domain=Discrete(['adam']), display_name=None, description=None): 'adam', HParam(name='learning_rate', domain=Discrete([0.001]), display_name=None, description=None): 0.001}\n",
            "Epoch 1/5\n",
            "\u001b[1m875/875\u001b[0m \u001b[32m━━━━━━━━━━━━━━━━━━━━\u001b[0m\u001b[37m\u001b[0m \u001b[1m2s\u001b[0m 2ms/step - accuracy: 0.7916 - loss: 0.4428 - val_accuracy: 0.8701 - val_loss: 0.3081\n",
            "Epoch 2/5\n",
            "\u001b[1m875/875\u001b[0m \u001b[32m━━━━━━━━━━━━━━━━━━━━\u001b[0m\u001b[37m\u001b[0m \u001b[1m2s\u001b[0m 2ms/step - accuracy: 0.9004 - loss: 0.2447 - val_accuracy: 0.8657 - val_loss: 0.3105\n",
            "Epoch 3/5\n",
            "\u001b[1m875/875\u001b[0m \u001b[32m━━━━━━━━━━━━━━━━━━━━\u001b[0m\u001b[37m\u001b[0m \u001b[1m2s\u001b[0m 2ms/step - accuracy: 0.9284 - loss: 0.1864 - val_accuracy: 0.8594 - val_loss: 0.3498\n",
            "Epoch 4/5\n",
            "\u001b[1m875/875\u001b[0m \u001b[32m━━━━━━━━━━━━━━━━━━━━\u001b[0m\u001b[37m\u001b[0m \u001b[1m1s\u001b[0m 2ms/step - accuracy: 0.9563 - loss: 0.1229 - val_accuracy: 0.8576 - val_loss: 0.4114\n",
            "Epoch 5/5\n",
            "\u001b[1m875/875\u001b[0m \u001b[32m━━━━━━━━━━━━━━━━━━━━\u001b[0m\u001b[37m\u001b[0m \u001b[1m1s\u001b[0m 2ms/step - accuracy: 0.9696 - loss: 0.0855 - val_accuracy: 0.8544 - val_loss: 0.5163\n",
            "\u001b[1m469/469\u001b[0m \u001b[32m━━━━━━━━━━━━━━━━━━━━\u001b[0m\u001b[37m\u001b[0m \u001b[1m0s\u001b[0m 593us/step - accuracy: 0.8614 - loss: 0.5100\n",
            "--- Starting trial: run-59\n",
            "{HParam(name='input_width', domain=Discrete([12, 24, 48]), display_name=None, description=None): 48, HParam(name='output_width', domain=Discrete([6, 12, 24]), display_name=None, description=None): 6, HParam(name='rnn_units', domain=Discrete([30, 40, 60]), display_name=None, description=None): 40, HParam(name='dropout', domain=Discrete([0.05, 0.1, 0.2]), display_name=None, description=None): 0.2, HParam(name='optimizer', domain=Discrete(['adam']), display_name=None, description=None): 'adam', HParam(name='learning_rate', domain=Discrete([0.001]), display_name=None, description=None): 0.001}\n",
            "Epoch 1/5\n",
            "\u001b[1m875/875\u001b[0m \u001b[32m━━━━━━━━━━━━━━━━━━━━\u001b[0m\u001b[37m\u001b[0m \u001b[1m2s\u001b[0m 2ms/step - accuracy: 0.7689 - loss: 0.4761 - val_accuracy: 0.8600 - val_loss: 0.3241\n",
            "Epoch 2/5\n",
            "\u001b[1m875/875\u001b[0m \u001b[32m━━━━━━━━━━━━━━━━━━━━\u001b[0m\u001b[37m\u001b[0m \u001b[1m2s\u001b[0m 2ms/step - accuracy: 0.8975 - loss: 0.2513 - val_accuracy: 0.8573 - val_loss: 0.3375\n",
            "Epoch 3/5\n",
            "\u001b[1m875/875\u001b[0m \u001b[32m━━━━━━━━━━━━━━━━━━━━\u001b[0m\u001b[37m\u001b[0m \u001b[1m2s\u001b[0m 2ms/step - accuracy: 0.9201 - loss: 0.2039 - val_accuracy: 0.8626 - val_loss: 0.3561\n",
            "Epoch 4/5\n",
            "\u001b[1m875/875\u001b[0m \u001b[32m━━━━━━━━━━━━━━━━━━━━\u001b[0m\u001b[37m\u001b[0m \u001b[1m2s\u001b[0m 2ms/step - accuracy: 0.9422 - loss: 0.1503 - val_accuracy: 0.8586 - val_loss: 0.3866\n",
            "Epoch 5/5\n",
            "\u001b[1m875/875\u001b[0m \u001b[32m━━━━━━━━━━━━━━━━━━━━\u001b[0m\u001b[37m\u001b[0m \u001b[1m2s\u001b[0m 2ms/step - accuracy: 0.9607 - loss: 0.1102 - val_accuracy: 0.8583 - val_loss: 0.4172\n",
            "\u001b[1m469/469\u001b[0m \u001b[32m━━━━━━━━━━━━━━━━━━━━\u001b[0m\u001b[37m\u001b[0m \u001b[1m0s\u001b[0m 605us/step - accuracy: 0.8575 - loss: 0.4151\n",
            "--- Starting trial: run-60\n",
            "{HParam(name='input_width', domain=Discrete([12, 24, 48]), display_name=None, description=None): 48, HParam(name='output_width', domain=Discrete([6, 12, 24]), display_name=None, description=None): 6, HParam(name='rnn_units', domain=Discrete([30, 40, 60]), display_name=None, description=None): 60, HParam(name='dropout', domain=Discrete([0.05, 0.1, 0.2]), display_name=None, description=None): 0.05, HParam(name='optimizer', domain=Discrete(['adam']), display_name=None, description=None): 'adam', HParam(name='learning_rate', domain=Discrete([0.001]), display_name=None, description=None): 0.001}\n",
            "Epoch 1/5\n",
            "\u001b[1m875/875\u001b[0m \u001b[32m━━━━━━━━━━━━━━━━━━━━\u001b[0m\u001b[37m\u001b[0m \u001b[1m2s\u001b[0m 2ms/step - accuracy: 0.7966 - loss: 0.4441 - val_accuracy: 0.8660 - val_loss: 0.3158\n",
            "Epoch 2/5\n",
            "\u001b[1m875/875\u001b[0m \u001b[32m━━━━━━━━━━━━━━━━━━━━\u001b[0m\u001b[37m\u001b[0m \u001b[1m2s\u001b[0m 2ms/step - accuracy: 0.9009 - loss: 0.2463 - val_accuracy: 0.8643 - val_loss: 0.3291\n",
            "Epoch 3/5\n",
            "\u001b[1m875/875\u001b[0m \u001b[32m━━━━━━━━━━━━━━━━━━━━\u001b[0m\u001b[37m\u001b[0m \u001b[1m2s\u001b[0m 2ms/step - accuracy: 0.9281 - loss: 0.1798 - val_accuracy: 0.8631 - val_loss: 0.3509\n",
            "Epoch 4/5\n",
            "\u001b[1m875/875\u001b[0m \u001b[32m━━━━━━━━━━━━━━━━━━━━\u001b[0m\u001b[37m\u001b[0m \u001b[1m2s\u001b[0m 2ms/step - accuracy: 0.9531 - loss: 0.1240 - val_accuracy: 0.8486 - val_loss: 0.4149\n",
            "Epoch 5/5\n",
            "\u001b[1m875/875\u001b[0m \u001b[32m━━━━━━━━━━━━━━━━━━━━\u001b[0m\u001b[37m\u001b[0m \u001b[1m2s\u001b[0m 2ms/step - accuracy: 0.9680 - loss: 0.0825 - val_accuracy: 0.8537 - val_loss: 0.5847\n",
            "\u001b[1m469/469\u001b[0m \u001b[32m━━━━━━━━━━━━━━━━━━━━\u001b[0m\u001b[37m\u001b[0m \u001b[1m0s\u001b[0m 573us/step - accuracy: 0.8585 - loss: 0.5830\n",
            "--- Starting trial: run-61\n",
            "{HParam(name='input_width', domain=Discrete([12, 24, 48]), display_name=None, description=None): 48, HParam(name='output_width', domain=Discrete([6, 12, 24]), display_name=None, description=None): 6, HParam(name='rnn_units', domain=Discrete([30, 40, 60]), display_name=None, description=None): 60, HParam(name='dropout', domain=Discrete([0.05, 0.1, 0.2]), display_name=None, description=None): 0.1, HParam(name='optimizer', domain=Discrete(['adam']), display_name=None, description=None): 'adam', HParam(name='learning_rate', domain=Discrete([0.001]), display_name=None, description=None): 0.001}\n",
            "Epoch 1/5\n",
            "\u001b[1m875/875\u001b[0m \u001b[32m━━━━━━━━━━━━━━━━━━━━\u001b[0m\u001b[37m\u001b[0m \u001b[1m3s\u001b[0m 2ms/step - accuracy: 0.7862 - loss: 0.4556 - val_accuracy: 0.8684 - val_loss: 0.3099\n",
            "Epoch 2/5\n",
            "\u001b[1m875/875\u001b[0m \u001b[32m━━━━━━━━━━━━━━━━━━━━\u001b[0m\u001b[37m\u001b[0m \u001b[1m2s\u001b[0m 2ms/step - accuracy: 0.9040 - loss: 0.2420 - val_accuracy: 0.8650 - val_loss: 0.3173\n",
            "Epoch 3/5\n",
            "\u001b[1m875/875\u001b[0m \u001b[32m━━━━━━━━━━━━━━━━━━━━\u001b[0m\u001b[37m\u001b[0m \u001b[1m2s\u001b[0m 2ms/step - accuracy: 0.9331 - loss: 0.1751 - val_accuracy: 0.8637 - val_loss: 0.3523\n",
            "Epoch 4/5\n",
            "\u001b[1m875/875\u001b[0m \u001b[32m━━━━━━━━━━━━━━━━━━━━\u001b[0m\u001b[37m\u001b[0m \u001b[1m2s\u001b[0m 2ms/step - accuracy: 0.9595 - loss: 0.1154 - val_accuracy: 0.8650 - val_loss: 0.4314\n",
            "Epoch 5/5\n",
            "\u001b[1m875/875\u001b[0m \u001b[32m━━━━━━━━━━━━━━━━━━━━\u001b[0m\u001b[37m\u001b[0m \u001b[1m2s\u001b[0m 2ms/step - accuracy: 0.9737 - loss: 0.0753 - val_accuracy: 0.8579 - val_loss: 0.4899\n",
            "\u001b[1m469/469\u001b[0m \u001b[32m━━━━━━━━━━━━━━━━━━━━\u001b[0m\u001b[37m\u001b[0m \u001b[1m0s\u001b[0m 621us/step - accuracy: 0.8534 - loss: 0.5026\n",
            "--- Starting trial: run-62\n",
            "{HParam(name='input_width', domain=Discrete([12, 24, 48]), display_name=None, description=None): 48, HParam(name='output_width', domain=Discrete([6, 12, 24]), display_name=None, description=None): 6, HParam(name='rnn_units', domain=Discrete([30, 40, 60]), display_name=None, description=None): 60, HParam(name='dropout', domain=Discrete([0.05, 0.1, 0.2]), display_name=None, description=None): 0.2, HParam(name='optimizer', domain=Discrete(['adam']), display_name=None, description=None): 'adam', HParam(name='learning_rate', domain=Discrete([0.001]), display_name=None, description=None): 0.001}\n",
            "Epoch 1/5\n",
            "\u001b[1m875/875\u001b[0m \u001b[32m━━━━━━━━━━━━━━━━━━━━\u001b[0m\u001b[37m\u001b[0m \u001b[1m3s\u001b[0m 2ms/step - accuracy: 0.7570 - loss: 0.4876 - val_accuracy: 0.8604 - val_loss: 0.3161\n",
            "Epoch 2/5\n",
            "\u001b[1m875/875\u001b[0m \u001b[32m━━━━━━━━━━━━━━━━━━━━\u001b[0m\u001b[37m\u001b[0m \u001b[1m2s\u001b[0m 2ms/step - accuracy: 0.9015 - loss: 0.2511 - val_accuracy: 0.8716 - val_loss: 0.3146\n",
            "Epoch 3/5\n",
            "\u001b[1m875/875\u001b[0m \u001b[32m━━━━━━━━━━━━━━━━━━━━\u001b[0m\u001b[37m\u001b[0m \u001b[1m2s\u001b[0m 2ms/step - accuracy: 0.9267 - loss: 0.1910 - val_accuracy: 0.8637 - val_loss: 0.3260\n",
            "Epoch 4/5\n",
            "\u001b[1m875/875\u001b[0m \u001b[32m━━━━━━━━━━━━━━━━━━━━\u001b[0m\u001b[37m\u001b[0m \u001b[1m2s\u001b[0m 2ms/step - accuracy: 0.9473 - loss: 0.1430 - val_accuracy: 0.8627 - val_loss: 0.3879\n",
            "Epoch 5/5\n",
            "\u001b[1m875/875\u001b[0m \u001b[32m━━━━━━━━━━━━━━━━━━━━\u001b[0m\u001b[37m\u001b[0m \u001b[1m2s\u001b[0m 2ms/step - accuracy: 0.9626 - loss: 0.1043 - val_accuracy: 0.8499 - val_loss: 0.4295\n",
            "\u001b[1m469/469\u001b[0m \u001b[32m━━━━━━━━━━━━━━━━━━━━\u001b[0m\u001b[37m\u001b[0m \u001b[1m0s\u001b[0m 581us/step - accuracy: 0.8620 - loss: 0.4183\n",
            "--- Starting trial: run-63\n",
            "{HParam(name='input_width', domain=Discrete([12, 24, 48]), display_name=None, description=None): 48, HParam(name='output_width', domain=Discrete([6, 12, 24]), display_name=None, description=None): 12, HParam(name='rnn_units', domain=Discrete([30, 40, 60]), display_name=None, description=None): 30, HParam(name='dropout', domain=Discrete([0.05, 0.1, 0.2]), display_name=None, description=None): 0.05, HParam(name='optimizer', domain=Discrete(['adam']), display_name=None, description=None): 'adam', HParam(name='learning_rate', domain=Discrete([0.001]), display_name=None, description=None): 0.001}\n",
            "Epoch 1/5\n",
            "\u001b[1m875/875\u001b[0m \u001b[32m━━━━━━━━━━━━━━━━━━━━\u001b[0m\u001b[37m\u001b[0m \u001b[1m3s\u001b[0m 2ms/step - accuracy: 0.7848 - loss: 0.4558 - val_accuracy: 0.8620 - val_loss: 0.3298\n",
            "Epoch 2/5\n",
            "\u001b[1m875/875\u001b[0m \u001b[32m━━━━━━━━━━━━━━━━━━━━\u001b[0m\u001b[37m\u001b[0m \u001b[1m2s\u001b[0m 2ms/step - accuracy: 0.9058 - loss: 0.2394 - val_accuracy: 0.8653 - val_loss: 0.3321\n",
            "Epoch 3/5\n",
            "\u001b[1m875/875\u001b[0m \u001b[32m━━━━━━━━━━━━━━━━━━━━\u001b[0m\u001b[37m\u001b[0m \u001b[1m2s\u001b[0m 2ms/step - accuracy: 0.9280 - loss: 0.1780 - val_accuracy: 0.8483 - val_loss: 0.4079\n",
            "Epoch 4/5\n",
            "\u001b[1m875/875\u001b[0m \u001b[32m━━━━━━━━━━━━━━━━━━━━\u001b[0m\u001b[37m\u001b[0m \u001b[1m2s\u001b[0m 2ms/step - accuracy: 0.9535 - loss: 0.1250 - val_accuracy: 0.8493 - val_loss: 0.4236\n",
            "Epoch 5/5\n",
            "\u001b[1m875/875\u001b[0m \u001b[32m━━━━━━━━━━━━━━━━━━━━\u001b[0m\u001b[37m\u001b[0m \u001b[1m2s\u001b[0m 2ms/step - accuracy: 0.9713 - loss: 0.0794 - val_accuracy: 0.8549 - val_loss: 0.5436\n",
            "\u001b[1m469/469\u001b[0m \u001b[32m━━━━━━━━━━━━━━━━━━━━\u001b[0m\u001b[37m\u001b[0m \u001b[1m0s\u001b[0m 573us/step - accuracy: 0.8562 - loss: 0.5542\n",
            "--- Starting trial: run-64\n",
            "{HParam(name='input_width', domain=Discrete([12, 24, 48]), display_name=None, description=None): 48, HParam(name='output_width', domain=Discrete([6, 12, 24]), display_name=None, description=None): 12, HParam(name='rnn_units', domain=Discrete([30, 40, 60]), display_name=None, description=None): 30, HParam(name='dropout', domain=Discrete([0.05, 0.1, 0.2]), display_name=None, description=None): 0.1, HParam(name='optimizer', domain=Discrete(['adam']), display_name=None, description=None): 'adam', HParam(name='learning_rate', domain=Discrete([0.001]), display_name=None, description=None): 0.001}\n",
            "Epoch 1/5\n",
            "\u001b[1m875/875\u001b[0m \u001b[32m━━━━━━━━━━━━━━━━━━━━\u001b[0m\u001b[37m\u001b[0m \u001b[1m3s\u001b[0m 2ms/step - accuracy: 0.7760 - loss: 0.4732 - val_accuracy: 0.8637 - val_loss: 0.3220\n",
            "Epoch 2/5\n",
            "\u001b[1m875/875\u001b[0m \u001b[32m━━━━━━━━━━━━━━━━━━━━\u001b[0m\u001b[37m\u001b[0m \u001b[1m2s\u001b[0m 2ms/step - accuracy: 0.9033 - loss: 0.2493 - val_accuracy: 0.8659 - val_loss: 0.3242\n",
            "Epoch 3/5\n",
            "\u001b[1m875/875\u001b[0m \u001b[32m━━━━━━━━━━━━━━━━━━━━\u001b[0m\u001b[37m\u001b[0m \u001b[1m2s\u001b[0m 2ms/step - accuracy: 0.9303 - loss: 0.1783 - val_accuracy: 0.8636 - val_loss: 0.3479\n",
            "Epoch 4/5\n",
            "\u001b[1m875/875\u001b[0m \u001b[32m━━━━━━━━━━━━━━━━━━━━\u001b[0m\u001b[37m\u001b[0m \u001b[1m2s\u001b[0m 2ms/step - accuracy: 0.9539 - loss: 0.1253 - val_accuracy: 0.8566 - val_loss: 0.4376\n",
            "Epoch 5/5\n",
            "\u001b[1m875/875\u001b[0m \u001b[32m━━━━━━━━━━━━━━━━━━━━\u001b[0m\u001b[37m\u001b[0m \u001b[1m2s\u001b[0m 2ms/step - accuracy: 0.9688 - loss: 0.0867 - val_accuracy: 0.8556 - val_loss: 0.4629\n",
            "\u001b[1m469/469\u001b[0m \u001b[32m━━━━━━━━━━━━━━━━━━━━\u001b[0m\u001b[37m\u001b[0m \u001b[1m0s\u001b[0m 585us/step - accuracy: 0.8583 - loss: 0.4804\n",
            "--- Starting trial: run-65\n",
            "{HParam(name='input_width', domain=Discrete([12, 24, 48]), display_name=None, description=None): 48, HParam(name='output_width', domain=Discrete([6, 12, 24]), display_name=None, description=None): 12, HParam(name='rnn_units', domain=Discrete([30, 40, 60]), display_name=None, description=None): 30, HParam(name='dropout', domain=Discrete([0.05, 0.1, 0.2]), display_name=None, description=None): 0.2, HParam(name='optimizer', domain=Discrete(['adam']), display_name=None, description=None): 'adam', HParam(name='learning_rate', domain=Discrete([0.001]), display_name=None, description=None): 0.001}\n",
            "Epoch 1/5\n",
            "\u001b[1m875/875\u001b[0m \u001b[32m━━━━━━━━━━━━━━━━━━━━\u001b[0m\u001b[37m\u001b[0m \u001b[1m2s\u001b[0m 2ms/step - accuracy: 0.7758 - loss: 0.4693 - val_accuracy: 0.8687 - val_loss: 0.3139\n",
            "Epoch 2/5\n",
            "\u001b[1m875/875\u001b[0m \u001b[32m━━━━━━━━━━━━━━━━━━━━\u001b[0m\u001b[37m\u001b[0m \u001b[1m2s\u001b[0m 2ms/step - accuracy: 0.9008 - loss: 0.2551 - val_accuracy: 0.8623 - val_loss: 0.3340\n",
            "Epoch 3/5\n",
            "\u001b[1m875/875\u001b[0m \u001b[32m━━━━━━━━━━━━━━━━━━━━\u001b[0m\u001b[37m\u001b[0m \u001b[1m2s\u001b[0m 2ms/step - accuracy: 0.9220 - loss: 0.1975 - val_accuracy: 0.8609 - val_loss: 0.3523\n",
            "Epoch 4/5\n",
            "\u001b[1m875/875\u001b[0m \u001b[32m━━━━━━━━━━━━━━━━━━━━\u001b[0m\u001b[37m\u001b[0m \u001b[1m2s\u001b[0m 2ms/step - accuracy: 0.9442 - loss: 0.1482 - val_accuracy: 0.8573 - val_loss: 0.3741\n",
            "Epoch 5/5\n",
            "\u001b[1m875/875\u001b[0m \u001b[32m━━━━━━━━━━━━━━━━━━━━\u001b[0m\u001b[37m\u001b[0m \u001b[1m2s\u001b[0m 2ms/step - accuracy: 0.9621 - loss: 0.1136 - val_accuracy: 0.8521 - val_loss: 0.4756\n",
            "\u001b[1m469/469\u001b[0m \u001b[32m━━━━━━━━━━━━━━━━━━━━\u001b[0m\u001b[37m\u001b[0m \u001b[1m0s\u001b[0m 655us/step - accuracy: 0.8627 - loss: 0.4628\n",
            "--- Starting trial: run-66\n",
            "{HParam(name='input_width', domain=Discrete([12, 24, 48]), display_name=None, description=None): 48, HParam(name='output_width', domain=Discrete([6, 12, 24]), display_name=None, description=None): 12, HParam(name='rnn_units', domain=Discrete([30, 40, 60]), display_name=None, description=None): 40, HParam(name='dropout', domain=Discrete([0.05, 0.1, 0.2]), display_name=None, description=None): 0.05, HParam(name='optimizer', domain=Discrete(['adam']), display_name=None, description=None): 'adam', HParam(name='learning_rate', domain=Discrete([0.001]), display_name=None, description=None): 0.001}\n",
            "Epoch 1/5\n",
            "\u001b[1m875/875\u001b[0m \u001b[32m━━━━━━━━━━━━━━━━━━━━\u001b[0m\u001b[37m\u001b[0m \u001b[1m2s\u001b[0m 2ms/step - accuracy: 0.7794 - loss: 0.4612 - val_accuracy: 0.8689 - val_loss: 0.3117\n",
            "Epoch 2/5\n",
            "\u001b[1m875/875\u001b[0m \u001b[32m━━━━━━━━━━━━━━━━━━━━\u001b[0m\u001b[37m\u001b[0m \u001b[1m2s\u001b[0m 2ms/step - accuracy: 0.9027 - loss: 0.2405 - val_accuracy: 0.8687 - val_loss: 0.3104\n",
            "Epoch 3/5\n",
            "\u001b[1m875/875\u001b[0m \u001b[32m━━━━━━━━━━━━━━━━━━━━\u001b[0m\u001b[37m\u001b[0m \u001b[1m2s\u001b[0m 2ms/step - accuracy: 0.9269 - loss: 0.1807 - val_accuracy: 0.8539 - val_loss: 0.3754\n",
            "Epoch 4/5\n",
            "\u001b[1m875/875\u001b[0m \u001b[32m━━━━━━━━━━━━━━━━━━━━\u001b[0m\u001b[37m\u001b[0m \u001b[1m2s\u001b[0m 2ms/step - accuracy: 0.9517 - loss: 0.1236 - val_accuracy: 0.8620 - val_loss: 0.4276\n",
            "Epoch 5/5\n",
            "\u001b[1m875/875\u001b[0m \u001b[32m━━━━━━━━━━━━━━━━━━━━\u001b[0m\u001b[37m\u001b[0m \u001b[1m2s\u001b[0m 2ms/step - accuracy: 0.9733 - loss: 0.0733 - val_accuracy: 0.8597 - val_loss: 0.4691\n",
            "\u001b[1m469/469\u001b[0m \u001b[32m━━━━━━━━━━━━━━━━━━━━\u001b[0m\u001b[37m\u001b[0m \u001b[1m0s\u001b[0m 803us/step - accuracy: 0.8555 - loss: 0.4773\n",
            "--- Starting trial: run-67\n",
            "{HParam(name='input_width', domain=Discrete([12, 24, 48]), display_name=None, description=None): 48, HParam(name='output_width', domain=Discrete([6, 12, 24]), display_name=None, description=None): 12, HParam(name='rnn_units', domain=Discrete([30, 40, 60]), display_name=None, description=None): 40, HParam(name='dropout', domain=Discrete([0.05, 0.1, 0.2]), display_name=None, description=None): 0.1, HParam(name='optimizer', domain=Discrete(['adam']), display_name=None, description=None): 'adam', HParam(name='learning_rate', domain=Discrete([0.001]), display_name=None, description=None): 0.001}\n",
            "Epoch 1/5\n",
            "\u001b[1m875/875\u001b[0m \u001b[32m━━━━━━━━━━━━━━━━━━━━\u001b[0m\u001b[37m\u001b[0m \u001b[1m3s\u001b[0m 2ms/step - accuracy: 0.7902 - loss: 0.4555 - val_accuracy: 0.8447 - val_loss: 0.3459\n",
            "Epoch 2/5\n",
            "\u001b[1m875/875\u001b[0m \u001b[32m━━━━━━━━━━━━━━━━━━━━\u001b[0m\u001b[37m\u001b[0m \u001b[1m2s\u001b[0m 2ms/step - accuracy: 0.9046 - loss: 0.2382 - val_accuracy: 0.8671 - val_loss: 0.3316\n",
            "Epoch 3/5\n",
            "\u001b[1m875/875\u001b[0m \u001b[32m━━━━━━━━━━━━━━━━━━━━\u001b[0m\u001b[37m\u001b[0m \u001b[1m2s\u001b[0m 2ms/step - accuracy: 0.9246 - loss: 0.1852 - val_accuracy: 0.8596 - val_loss: 0.3533\n",
            "Epoch 4/5\n",
            "\u001b[1m875/875\u001b[0m \u001b[32m━━━━━━━━━━━━━━━━━━━━\u001b[0m\u001b[37m\u001b[0m \u001b[1m2s\u001b[0m 2ms/step - accuracy: 0.9505 - loss: 0.1317 - val_accuracy: 0.8619 - val_loss: 0.3800\n",
            "Epoch 5/5\n",
            "\u001b[1m875/875\u001b[0m \u001b[32m━━━━━━━━━━━━━━━━━━━━\u001b[0m\u001b[37m\u001b[0m \u001b[1m2s\u001b[0m 2ms/step - accuracy: 0.9716 - loss: 0.0856 - val_accuracy: 0.8567 - val_loss: 0.4803\n",
            "\u001b[1m469/469\u001b[0m \u001b[32m━━━━━━━━━━━━━━━━━━━━\u001b[0m\u001b[37m\u001b[0m \u001b[1m0s\u001b[0m 589us/step - accuracy: 0.8596 - loss: 0.4741\n",
            "--- Starting trial: run-68\n",
            "{HParam(name='input_width', domain=Discrete([12, 24, 48]), display_name=None, description=None): 48, HParam(name='output_width', domain=Discrete([6, 12, 24]), display_name=None, description=None): 12, HParam(name='rnn_units', domain=Discrete([30, 40, 60]), display_name=None, description=None): 40, HParam(name='dropout', domain=Discrete([0.05, 0.1, 0.2]), display_name=None, description=None): 0.2, HParam(name='optimizer', domain=Discrete(['adam']), display_name=None, description=None): 'adam', HParam(name='learning_rate', domain=Discrete([0.001]), display_name=None, description=None): 0.001}\n",
            "Epoch 1/5\n",
            "\u001b[1m875/875\u001b[0m \u001b[32m━━━━━━━━━━━━━━━━━━━━\u001b[0m\u001b[37m\u001b[0m \u001b[1m2s\u001b[0m 2ms/step - accuracy: 0.7755 - loss: 0.4790 - val_accuracy: 0.8663 - val_loss: 0.3209\n",
            "Epoch 2/5\n",
            "\u001b[1m875/875\u001b[0m \u001b[32m━━━━━━━━━━━━━━━━━━━━\u001b[0m\u001b[37m\u001b[0m \u001b[1m2s\u001b[0m 2ms/step - accuracy: 0.8988 - loss: 0.2562 - val_accuracy: 0.8594 - val_loss: 0.3191\n",
            "Epoch 3/5\n",
            "\u001b[1m875/875\u001b[0m \u001b[32m━━━━━━━━━━━━━━━━━━━━\u001b[0m\u001b[37m\u001b[0m \u001b[1m2s\u001b[0m 2ms/step - accuracy: 0.9246 - loss: 0.1970 - val_accuracy: 0.8626 - val_loss: 0.3417\n",
            "Epoch 4/5\n",
            "\u001b[1m875/875\u001b[0m \u001b[32m━━━━━━━━━━━━━━━━━━━━\u001b[0m\u001b[37m\u001b[0m \u001b[1m2s\u001b[0m 2ms/step - accuracy: 0.9467 - loss: 0.1409 - val_accuracy: 0.8641 - val_loss: 0.4089\n",
            "Epoch 5/5\n",
            "\u001b[1m875/875\u001b[0m \u001b[32m━━━━━━━━━━━━━━━━━━━━\u001b[0m\u001b[37m\u001b[0m \u001b[1m2s\u001b[0m 2ms/step - accuracy: 0.9648 - loss: 0.1024 - val_accuracy: 0.8537 - val_loss: 0.4528\n",
            "\u001b[1m469/469\u001b[0m \u001b[32m━━━━━━━━━━━━━━━━━━━━\u001b[0m\u001b[37m\u001b[0m \u001b[1m0s\u001b[0m 610us/step - accuracy: 0.8543 - loss: 0.4605\n",
            "--- Starting trial: run-69\n",
            "{HParam(name='input_width', domain=Discrete([12, 24, 48]), display_name=None, description=None): 48, HParam(name='output_width', domain=Discrete([6, 12, 24]), display_name=None, description=None): 12, HParam(name='rnn_units', domain=Discrete([30, 40, 60]), display_name=None, description=None): 60, HParam(name='dropout', domain=Discrete([0.05, 0.1, 0.2]), display_name=None, description=None): 0.05, HParam(name='optimizer', domain=Discrete(['adam']), display_name=None, description=None): 'adam', HParam(name='learning_rate', domain=Discrete([0.001]), display_name=None, description=None): 0.001}\n",
            "Epoch 1/5\n",
            "\u001b[1m875/875\u001b[0m \u001b[32m━━━━━━━━━━━━━━━━━━━━\u001b[0m\u001b[37m\u001b[0m \u001b[1m3s\u001b[0m 2ms/step - accuracy: 0.7908 - loss: 0.4439 - val_accuracy: 0.8583 - val_loss: 0.3268\n",
            "Epoch 2/5\n",
            "\u001b[1m875/875\u001b[0m \u001b[32m━━━━━━━━━━━━━━━━━━━━\u001b[0m\u001b[37m\u001b[0m \u001b[1m2s\u001b[0m 2ms/step - accuracy: 0.9079 - loss: 0.2332 - val_accuracy: 0.8646 - val_loss: 0.3154\n",
            "Epoch 3/5\n",
            "\u001b[1m875/875\u001b[0m \u001b[32m━━━━━━━━━━━━━━━━━━━━\u001b[0m\u001b[37m\u001b[0m \u001b[1m2s\u001b[0m 2ms/step - accuracy: 0.9323 - loss: 0.1731 - val_accuracy: 0.8614 - val_loss: 0.3618\n",
            "Epoch 4/5\n",
            "\u001b[1m875/875\u001b[0m \u001b[32m━━━━━━━━━━━━━━━━━━━━\u001b[0m\u001b[37m\u001b[0m \u001b[1m3s\u001b[0m 2ms/step - accuracy: 0.9552 - loss: 0.1168 - val_accuracy: 0.8496 - val_loss: 0.4375\n",
            "Epoch 5/5\n",
            "\u001b[1m875/875\u001b[0m \u001b[32m━━━━━━━━━━━━━━━━━━━━\u001b[0m\u001b[37m\u001b[0m \u001b[1m2s\u001b[0m 2ms/step - accuracy: 0.9742 - loss: 0.0691 - val_accuracy: 0.8507 - val_loss: 0.5709\n",
            "\u001b[1m469/469\u001b[0m \u001b[32m━━━━━━━━━━━━━━━━━━━━\u001b[0m\u001b[37m\u001b[0m \u001b[1m0s\u001b[0m 579us/step - accuracy: 0.8525 - loss: 0.5779\n",
            "--- Starting trial: run-70\n",
            "{HParam(name='input_width', domain=Discrete([12, 24, 48]), display_name=None, description=None): 48, HParam(name='output_width', domain=Discrete([6, 12, 24]), display_name=None, description=None): 12, HParam(name='rnn_units', domain=Discrete([30, 40, 60]), display_name=None, description=None): 60, HParam(name='dropout', domain=Discrete([0.05, 0.1, 0.2]), display_name=None, description=None): 0.1, HParam(name='optimizer', domain=Discrete(['adam']), display_name=None, description=None): 'adam', HParam(name='learning_rate', domain=Discrete([0.001]), display_name=None, description=None): 0.001}\n",
            "Epoch 1/5\n",
            "\u001b[1m875/875\u001b[0m \u001b[32m━━━━━━━━━━━━━━━━━━━━\u001b[0m\u001b[37m\u001b[0m \u001b[1m2s\u001b[0m 2ms/step - accuracy: 0.7848 - loss: 0.4531 - val_accuracy: 0.8700 - val_loss: 0.3100\n",
            "Epoch 2/5\n",
            "\u001b[1m875/875\u001b[0m \u001b[32m━━━━━━━━━━━━━━━━━━━━\u001b[0m\u001b[37m\u001b[0m \u001b[1m2s\u001b[0m 2ms/step - accuracy: 0.9027 - loss: 0.2392 - val_accuracy: 0.8644 - val_loss: 0.3197\n",
            "Epoch 3/5\n",
            "\u001b[1m875/875\u001b[0m \u001b[32m━━━━━━━━━━━━━━━━━━━━\u001b[0m\u001b[37m\u001b[0m \u001b[1m2s\u001b[0m 2ms/step - accuracy: 0.9313 - loss: 0.1781 - val_accuracy: 0.8653 - val_loss: 0.3364\n",
            "Epoch 4/5\n",
            "\u001b[1m875/875\u001b[0m \u001b[32m━━━━━━━━━━━━━━━━━━━━\u001b[0m\u001b[37m\u001b[0m \u001b[1m2s\u001b[0m 2ms/step - accuracy: 0.9568 - loss: 0.1195 - val_accuracy: 0.8560 - val_loss: 0.3982\n",
            "Epoch 5/5\n",
            "\u001b[1m875/875\u001b[0m \u001b[32m━━━━━━━━━━━━━━━━━━━━\u001b[0m\u001b[37m\u001b[0m \u001b[1m2s\u001b[0m 2ms/step - accuracy: 0.9684 - loss: 0.0870 - val_accuracy: 0.8579 - val_loss: 0.4699\n",
            "\u001b[1m469/469\u001b[0m \u001b[32m━━━━━━━━━━━━━━━━━━━━\u001b[0m\u001b[37m\u001b[0m \u001b[1m0s\u001b[0m 567us/step - accuracy: 0.8608 - loss: 0.4618\n",
            "--- Starting trial: run-71\n",
            "{HParam(name='input_width', domain=Discrete([12, 24, 48]), display_name=None, description=None): 48, HParam(name='output_width', domain=Discrete([6, 12, 24]), display_name=None, description=None): 12, HParam(name='rnn_units', domain=Discrete([30, 40, 60]), display_name=None, description=None): 60, HParam(name='dropout', domain=Discrete([0.05, 0.1, 0.2]), display_name=None, description=None): 0.2, HParam(name='optimizer', domain=Discrete(['adam']), display_name=None, description=None): 'adam', HParam(name='learning_rate', domain=Discrete([0.001]), display_name=None, description=None): 0.001}\n",
            "Epoch 1/5\n",
            "\u001b[1m875/875\u001b[0m \u001b[32m━━━━━━━━━━━━━━━━━━━━\u001b[0m\u001b[37m\u001b[0m \u001b[1m3s\u001b[0m 2ms/step - accuracy: 0.7609 - loss: 0.4870 - val_accuracy: 0.8587 - val_loss: 0.3257\n",
            "Epoch 2/5\n",
            "\u001b[1m875/875\u001b[0m \u001b[32m━━━━━━━━━━━━━━━━━━━━\u001b[0m\u001b[37m\u001b[0m \u001b[1m2s\u001b[0m 2ms/step - accuracy: 0.8972 - loss: 0.2601 - val_accuracy: 0.8674 - val_loss: 0.3235\n",
            "Epoch 3/5\n",
            "\u001b[1m875/875\u001b[0m \u001b[32m━━━━━━━━━━━━━━━━━━━━\u001b[0m\u001b[37m\u001b[0m \u001b[1m2s\u001b[0m 2ms/step - accuracy: 0.9217 - loss: 0.2005 - val_accuracy: 0.8631 - val_loss: 0.3228\n",
            "Epoch 4/5\n",
            "\u001b[1m875/875\u001b[0m \u001b[32m━━━━━━━━━━━━━━━━━━━━\u001b[0m\u001b[37m\u001b[0m \u001b[1m2s\u001b[0m 2ms/step - accuracy: 0.9418 - loss: 0.1565 - val_accuracy: 0.8620 - val_loss: 0.3607\n",
            "Epoch 5/5\n",
            "\u001b[1m875/875\u001b[0m \u001b[32m━━━━━━━━━━━━━━━━━━━━\u001b[0m\u001b[37m\u001b[0m \u001b[1m2s\u001b[0m 2ms/step - accuracy: 0.9577 - loss: 0.1177 - val_accuracy: 0.8563 - val_loss: 0.4113\n",
            "\u001b[1m469/469\u001b[0m \u001b[32m━━━━━━━━━━━━━━━━━━━━\u001b[0m\u001b[37m\u001b[0m \u001b[1m0s\u001b[0m 588us/step - accuracy: 0.8620 - loss: 0.4016\n",
            "--- Starting trial: run-72\n",
            "{HParam(name='input_width', domain=Discrete([12, 24, 48]), display_name=None, description=None): 48, HParam(name='output_width', domain=Discrete([6, 12, 24]), display_name=None, description=None): 24, HParam(name='rnn_units', domain=Discrete([30, 40, 60]), display_name=None, description=None): 30, HParam(name='dropout', domain=Discrete([0.05, 0.1, 0.2]), display_name=None, description=None): 0.05, HParam(name='optimizer', domain=Discrete(['adam']), display_name=None, description=None): 'adam', HParam(name='learning_rate', domain=Discrete([0.001]), display_name=None, description=None): 0.001}\n",
            "Epoch 1/5\n",
            "\u001b[1m875/875\u001b[0m \u001b[32m━━━━━━━━━━━━━━━━━━━━\u001b[0m\u001b[37m\u001b[0m \u001b[1m3s\u001b[0m 2ms/step - accuracy: 0.7805 - loss: 0.4602 - val_accuracy: 0.8669 - val_loss: 0.3152\n",
            "Epoch 2/5\n",
            "\u001b[1m875/875\u001b[0m \u001b[32m━━━━━━━━━━━━━━━━━━━━\u001b[0m\u001b[37m\u001b[0m \u001b[1m2s\u001b[0m 2ms/step - accuracy: 0.9022 - loss: 0.2438 - val_accuracy: 0.8644 - val_loss: 0.3229\n",
            "Epoch 3/5\n",
            "\u001b[1m875/875\u001b[0m \u001b[32m━━━━━━━━━━━━━━━━━━━━\u001b[0m\u001b[37m\u001b[0m \u001b[1m2s\u001b[0m 2ms/step - accuracy: 0.9241 - loss: 0.1860 - val_accuracy: 0.8656 - val_loss: 0.3594\n",
            "Epoch 4/5\n",
            "\u001b[1m875/875\u001b[0m \u001b[32m━━━━━━━━━━━━━━━━━━━━\u001b[0m\u001b[37m\u001b[0m \u001b[1m2s\u001b[0m 2ms/step - accuracy: 0.9530 - loss: 0.1269 - val_accuracy: 0.8646 - val_loss: 0.4199\n",
            "Epoch 5/5\n",
            "\u001b[1m875/875\u001b[0m \u001b[32m━━━━━━━━━━━━━━━━━━━━\u001b[0m\u001b[37m\u001b[0m \u001b[1m2s\u001b[0m 2ms/step - accuracy: 0.9712 - loss: 0.0808 - val_accuracy: 0.8594 - val_loss: 0.5064\n",
            "\u001b[1m469/469\u001b[0m \u001b[32m━━━━━━━━━━━━━━━━━━━━\u001b[0m\u001b[37m\u001b[0m \u001b[1m0s\u001b[0m 705us/step - accuracy: 0.8677 - loss: 0.5087\n",
            "--- Starting trial: run-73\n",
            "{HParam(name='input_width', domain=Discrete([12, 24, 48]), display_name=None, description=None): 48, HParam(name='output_width', domain=Discrete([6, 12, 24]), display_name=None, description=None): 24, HParam(name='rnn_units', domain=Discrete([30, 40, 60]), display_name=None, description=None): 30, HParam(name='dropout', domain=Discrete([0.05, 0.1, 0.2]), display_name=None, description=None): 0.1, HParam(name='optimizer', domain=Discrete(['adam']), display_name=None, description=None): 'adam', HParam(name='learning_rate', domain=Discrete([0.001]), display_name=None, description=None): 0.001}\n",
            "Epoch 1/5\n",
            "\u001b[1m875/875\u001b[0m \u001b[32m━━━━━━━━━━━━━━━━━━━━\u001b[0m\u001b[37m\u001b[0m \u001b[1m3s\u001b[0m 2ms/step - accuracy: 0.7761 - loss: 0.4695 - val_accuracy: 0.8617 - val_loss: 0.3166\n",
            "Epoch 2/5\n",
            "\u001b[1m875/875\u001b[0m \u001b[32m━━━━━━━━━━━━━━━━━━━━\u001b[0m\u001b[37m\u001b[0m \u001b[1m2s\u001b[0m 2ms/step - accuracy: 0.9034 - loss: 0.2416 - val_accuracy: 0.8641 - val_loss: 0.3155\n",
            "Epoch 3/5\n",
            "\u001b[1m875/875\u001b[0m \u001b[32m━━━━━━━━━━━━━━━━━━━━\u001b[0m\u001b[37m\u001b[0m \u001b[1m2s\u001b[0m 2ms/step - accuracy: 0.9285 - loss: 0.1831 - val_accuracy: 0.8644 - val_loss: 0.3431\n",
            "Epoch 4/5\n",
            "\u001b[1m875/875\u001b[0m \u001b[32m━━━━━━━━━━━━━━━━━━━━\u001b[0m\u001b[37m\u001b[0m \u001b[1m2s\u001b[0m 2ms/step - accuracy: 0.9551 - loss: 0.1236 - val_accuracy: 0.8634 - val_loss: 0.4227\n",
            "Epoch 5/5\n",
            "\u001b[1m875/875\u001b[0m \u001b[32m━━━━━━━━━━━━━━━━━━━━\u001b[0m\u001b[37m\u001b[0m \u001b[1m2s\u001b[0m 2ms/step - accuracy: 0.9709 - loss: 0.0786 - val_accuracy: 0.8597 - val_loss: 0.5644\n",
            "\u001b[1m469/469\u001b[0m \u001b[32m━━━━━━━━━━━━━━━━━━━━\u001b[0m\u001b[37m\u001b[0m \u001b[1m0s\u001b[0m 562us/step - accuracy: 0.8623 - loss: 0.5549\n",
            "--- Starting trial: run-74\n",
            "{HParam(name='input_width', domain=Discrete([12, 24, 48]), display_name=None, description=None): 48, HParam(name='output_width', domain=Discrete([6, 12, 24]), display_name=None, description=None): 24, HParam(name='rnn_units', domain=Discrete([30, 40, 60]), display_name=None, description=None): 30, HParam(name='dropout', domain=Discrete([0.05, 0.1, 0.2]), display_name=None, description=None): 0.2, HParam(name='optimizer', domain=Discrete(['adam']), display_name=None, description=None): 'adam', HParam(name='learning_rate', domain=Discrete([0.001]), display_name=None, description=None): 0.001}\n",
            "Epoch 1/5\n",
            "\u001b[1m875/875\u001b[0m \u001b[32m━━━━━━━━━━━━━━━━━━━━\u001b[0m\u001b[37m\u001b[0m \u001b[1m3s\u001b[0m 2ms/step - accuracy: 0.7540 - loss: 0.4944 - val_accuracy: 0.8607 - val_loss: 0.3168\n",
            "Epoch 2/5\n",
            "\u001b[1m875/875\u001b[0m \u001b[32m━━━━━━━━━━━━━━━━━━━━\u001b[0m\u001b[37m\u001b[0m \u001b[1m2s\u001b[0m 2ms/step - accuracy: 0.8944 - loss: 0.2674 - val_accuracy: 0.8676 - val_loss: 0.3137\n",
            "Epoch 3/5\n",
            "\u001b[1m875/875\u001b[0m \u001b[32m━━━━━━━━━━━━━━━━━━━━\u001b[0m\u001b[37m\u001b[0m \u001b[1m2s\u001b[0m 2ms/step - accuracy: 0.9222 - loss: 0.2041 - val_accuracy: 0.8611 - val_loss: 0.3492\n",
            "Epoch 4/5\n",
            "\u001b[1m875/875\u001b[0m \u001b[32m━━━━━━━━━━━━━━━━━━━━\u001b[0m\u001b[37m\u001b[0m \u001b[1m2s\u001b[0m 2ms/step - accuracy: 0.9456 - loss: 0.1490 - val_accuracy: 0.8619 - val_loss: 0.3701\n",
            "Epoch 5/5\n",
            "\u001b[1m875/875\u001b[0m \u001b[32m━━━━━━━━━━━━━━━━━━━━\u001b[0m\u001b[37m\u001b[0m \u001b[1m2s\u001b[0m 2ms/step - accuracy: 0.9599 - loss: 0.1150 - val_accuracy: 0.8609 - val_loss: 0.4358\n",
            "\u001b[1m469/469\u001b[0m \u001b[32m━━━━━━━━━━━━━━━━━━━━\u001b[0m\u001b[37m\u001b[0m \u001b[1m0s\u001b[0m 598us/step - accuracy: 0.8629 - loss: 0.4410\n",
            "--- Starting trial: run-75\n",
            "{HParam(name='input_width', domain=Discrete([12, 24, 48]), display_name=None, description=None): 48, HParam(name='output_width', domain=Discrete([6, 12, 24]), display_name=None, description=None): 24, HParam(name='rnn_units', domain=Discrete([30, 40, 60]), display_name=None, description=None): 40, HParam(name='dropout', domain=Discrete([0.05, 0.1, 0.2]), display_name=None, description=None): 0.05, HParam(name='optimizer', domain=Discrete(['adam']), display_name=None, description=None): 'adam', HParam(name='learning_rate', domain=Discrete([0.001]), display_name=None, description=None): 0.001}\n",
            "Epoch 1/5\n",
            "\u001b[1m875/875\u001b[0m \u001b[32m━━━━━━━━━━━━━━━━━━━━\u001b[0m\u001b[37m\u001b[0m \u001b[1m3s\u001b[0m 2ms/step - accuracy: 0.7801 - loss: 0.4544 - val_accuracy: 0.8529 - val_loss: 0.3351\n",
            "Epoch 2/5\n",
            "\u001b[1m875/875\u001b[0m \u001b[32m━━━━━━━━━━━━━━━━━━━━\u001b[0m\u001b[37m\u001b[0m \u001b[1m2s\u001b[0m 2ms/step - accuracy: 0.9009 - loss: 0.2460 - val_accuracy: 0.8689 - val_loss: 0.3102\n",
            "Epoch 3/5\n",
            "\u001b[1m875/875\u001b[0m \u001b[32m━━━━━━━━━━━━━━━━━━━━\u001b[0m\u001b[37m\u001b[0m \u001b[1m2s\u001b[0m 2ms/step - accuracy: 0.9274 - loss: 0.1826 - val_accuracy: 0.8600 - val_loss: 0.3734\n",
            "Epoch 4/5\n",
            "\u001b[1m875/875\u001b[0m \u001b[32m━━━━━━━━━━━━━━━━━━━━\u001b[0m\u001b[37m\u001b[0m \u001b[1m2s\u001b[0m 2ms/step - accuracy: 0.9504 - loss: 0.1259 - val_accuracy: 0.8600 - val_loss: 0.4099\n",
            "Epoch 5/5\n",
            "\u001b[1m875/875\u001b[0m \u001b[32m━━━━━━━━━━━━━━━━━━━━\u001b[0m\u001b[37m\u001b[0m \u001b[1m2s\u001b[0m 2ms/step - accuracy: 0.9750 - loss: 0.0740 - val_accuracy: 0.8497 - val_loss: 0.5280\n",
            "\u001b[1m469/469\u001b[0m \u001b[32m━━━━━━━━━━━━━━━━━━━━\u001b[0m\u001b[37m\u001b[0m \u001b[1m0s\u001b[0m 676us/step - accuracy: 0.8589 - loss: 0.5117\n",
            "--- Starting trial: run-76\n",
            "{HParam(name='input_width', domain=Discrete([12, 24, 48]), display_name=None, description=None): 48, HParam(name='output_width', domain=Discrete([6, 12, 24]), display_name=None, description=None): 24, HParam(name='rnn_units', domain=Discrete([30, 40, 60]), display_name=None, description=None): 40, HParam(name='dropout', domain=Discrete([0.05, 0.1, 0.2]), display_name=None, description=None): 0.1, HParam(name='optimizer', domain=Discrete(['adam']), display_name=None, description=None): 'adam', HParam(name='learning_rate', domain=Discrete([0.001]), display_name=None, description=None): 0.001}\n",
            "Epoch 1/5\n",
            "\u001b[1m875/875\u001b[0m \u001b[32m━━━━━━━━━━━━━━━━━━━━\u001b[0m\u001b[37m\u001b[0m \u001b[1m3s\u001b[0m 2ms/step - accuracy: 0.7901 - loss: 0.4565 - val_accuracy: 0.8664 - val_loss: 0.3116\n",
            "Epoch 2/5\n",
            "\u001b[1m875/875\u001b[0m \u001b[32m━━━━━━━━━━━━━━━━━━━━\u001b[0m\u001b[37m\u001b[0m \u001b[1m2s\u001b[0m 2ms/step - accuracy: 0.9023 - loss: 0.2426 - val_accuracy: 0.8560 - val_loss: 0.3319\n",
            "Epoch 3/5\n",
            "\u001b[1m875/875\u001b[0m \u001b[32m━━━━━━━━━━━━━━━━━━━━\u001b[0m\u001b[37m\u001b[0m \u001b[1m2s\u001b[0m 2ms/step - accuracy: 0.9265 - loss: 0.1813 - val_accuracy: 0.8560 - val_loss: 0.3811\n",
            "Epoch 4/5\n",
            "\u001b[1m875/875\u001b[0m \u001b[32m━━━━━━━━━━━━━━━━━━━━\u001b[0m\u001b[37m\u001b[0m \u001b[1m2s\u001b[0m 2ms/step - accuracy: 0.9532 - loss: 0.1271 - val_accuracy: 0.8563 - val_loss: 0.3969\n",
            "Epoch 5/5\n",
            "\u001b[1m875/875\u001b[0m \u001b[32m━━━━━━━━━━━━━━━━━━━━\u001b[0m\u001b[37m\u001b[0m \u001b[1m2s\u001b[0m 2ms/step - accuracy: 0.9694 - loss: 0.0869 - val_accuracy: 0.8557 - val_loss: 0.4584\n",
            "\u001b[1m469/469\u001b[0m \u001b[32m━━━━━━━━━━━━━━━━━━━━\u001b[0m\u001b[37m\u001b[0m \u001b[1m0s\u001b[0m 634us/step - accuracy: 0.8622 - loss: 0.4603\n",
            "--- Starting trial: run-77\n",
            "{HParam(name='input_width', domain=Discrete([12, 24, 48]), display_name=None, description=None): 48, HParam(name='output_width', domain=Discrete([6, 12, 24]), display_name=None, description=None): 24, HParam(name='rnn_units', domain=Discrete([30, 40, 60]), display_name=None, description=None): 40, HParam(name='dropout', domain=Discrete([0.05, 0.1, 0.2]), display_name=None, description=None): 0.2, HParam(name='optimizer', domain=Discrete(['adam']), display_name=None, description=None): 'adam', HParam(name='learning_rate', domain=Discrete([0.001]), display_name=None, description=None): 0.001}\n",
            "Epoch 1/5\n",
            "\u001b[1m875/875\u001b[0m \u001b[32m━━━━━━━━━━━━━━━━━━━━\u001b[0m\u001b[37m\u001b[0m \u001b[1m3s\u001b[0m 2ms/step - accuracy: 0.7640 - loss: 0.4799 - val_accuracy: 0.8706 - val_loss: 0.3065\n",
            "Epoch 2/5\n",
            "\u001b[1m875/875\u001b[0m \u001b[32m━━━━━━━━━━━━━━━━━━━━\u001b[0m\u001b[37m\u001b[0m \u001b[1m2s\u001b[0m 2ms/step - accuracy: 0.9003 - loss: 0.2548 - val_accuracy: 0.8671 - val_loss: 0.3278\n",
            "Epoch 3/5\n",
            "\u001b[1m875/875\u001b[0m \u001b[32m━━━━━━━━━━━━━━━━━━━━\u001b[0m\u001b[37m\u001b[0m \u001b[1m2s\u001b[0m 2ms/step - accuracy: 0.9211 - loss: 0.1978 - val_accuracy: 0.8620 - val_loss: 0.3307\n",
            "Epoch 4/5\n",
            "\u001b[1m875/875\u001b[0m \u001b[32m━━━━━━━━━━━━━━━━━━━━\u001b[0m\u001b[37m\u001b[0m \u001b[1m2s\u001b[0m 2ms/step - accuracy: 0.9444 - loss: 0.1485 - val_accuracy: 0.8610 - val_loss: 0.4004\n",
            "Epoch 5/5\n",
            "\u001b[1m875/875\u001b[0m \u001b[32m━━━━━━━━━━━━━━━━━━━━\u001b[0m\u001b[37m\u001b[0m \u001b[1m2s\u001b[0m 2ms/step - accuracy: 0.9591 - loss: 0.1082 - val_accuracy: 0.8559 - val_loss: 0.4389\n",
            "\u001b[1m469/469\u001b[0m \u001b[32m━━━━━━━━━━━━━━━━━━━━\u001b[0m\u001b[37m\u001b[0m \u001b[1m0s\u001b[0m 584us/step - accuracy: 0.8616 - loss: 0.4260\n",
            "--- Starting trial: run-78\n",
            "{HParam(name='input_width', domain=Discrete([12, 24, 48]), display_name=None, description=None): 48, HParam(name='output_width', domain=Discrete([6, 12, 24]), display_name=None, description=None): 24, HParam(name='rnn_units', domain=Discrete([30, 40, 60]), display_name=None, description=None): 60, HParam(name='dropout', domain=Discrete([0.05, 0.1, 0.2]), display_name=None, description=None): 0.05, HParam(name='optimizer', domain=Discrete(['adam']), display_name=None, description=None): 'adam', HParam(name='learning_rate', domain=Discrete([0.001]), display_name=None, description=None): 0.001}\n",
            "Epoch 1/5\n",
            "\u001b[1m875/875\u001b[0m \u001b[32m━━━━━━━━━━━━━━━━━━━━\u001b[0m\u001b[37m\u001b[0m \u001b[1m3s\u001b[0m 2ms/step - accuracy: 0.7997 - loss: 0.4423 - val_accuracy: 0.8697 - val_loss: 0.3122\n",
            "Epoch 2/5\n",
            "\u001b[1m875/875\u001b[0m \u001b[32m━━━━━━━━━━━━━━━━━━━━\u001b[0m\u001b[37m\u001b[0m \u001b[1m2s\u001b[0m 2ms/step - accuracy: 0.9016 - loss: 0.2454 - val_accuracy: 0.8650 - val_loss: 0.3201\n",
            "Epoch 3/5\n",
            "\u001b[1m875/875\u001b[0m \u001b[32m━━━━━━━━━━━━━━━━━━━━\u001b[0m\u001b[37m\u001b[0m \u001b[1m2s\u001b[0m 2ms/step - accuracy: 0.9321 - loss: 0.1686 - val_accuracy: 0.8537 - val_loss: 0.3513\n",
            "Epoch 4/5\n",
            "\u001b[1m875/875\u001b[0m \u001b[32m━━━━━━━━━━━━━━━━━━━━\u001b[0m\u001b[37m\u001b[0m \u001b[1m2s\u001b[0m 2ms/step - accuracy: 0.9613 - loss: 0.1073 - val_accuracy: 0.8583 - val_loss: 0.4087\n",
            "Epoch 5/5\n",
            "\u001b[1m875/875\u001b[0m \u001b[32m━━━━━━━━━━━━━━━━━━━━\u001b[0m\u001b[37m\u001b[0m \u001b[1m2s\u001b[0m 2ms/step - accuracy: 0.9749 - loss: 0.0680 - val_accuracy: 0.8579 - val_loss: 0.5747\n",
            "\u001b[1m469/469\u001b[0m \u001b[32m━━━━━━━━━━━━━━━━━━━━\u001b[0m\u001b[37m\u001b[0m \u001b[1m0s\u001b[0m 640us/step - accuracy: 0.8595 - loss: 0.5724\n",
            "--- Starting trial: run-79\n",
            "{HParam(name='input_width', domain=Discrete([12, 24, 48]), display_name=None, description=None): 48, HParam(name='output_width', domain=Discrete([6, 12, 24]), display_name=None, description=None): 24, HParam(name='rnn_units', domain=Discrete([30, 40, 60]), display_name=None, description=None): 60, HParam(name='dropout', domain=Discrete([0.05, 0.1, 0.2]), display_name=None, description=None): 0.1, HParam(name='optimizer', domain=Discrete(['adam']), display_name=None, description=None): 'adam', HParam(name='learning_rate', domain=Discrete([0.001]), display_name=None, description=None): 0.001}\n",
            "Epoch 1/5\n",
            "\u001b[1m875/875\u001b[0m \u001b[32m━━━━━━━━━━━━━━━━━━━━\u001b[0m\u001b[37m\u001b[0m \u001b[1m3s\u001b[0m 2ms/step - accuracy: 0.7852 - loss: 0.4681 - val_accuracy: 0.8631 - val_loss: 0.3161\n",
            "Epoch 2/5\n",
            "\u001b[1m875/875\u001b[0m \u001b[32m━━━━━━━━━━━━━━━━━━━━\u001b[0m\u001b[37m\u001b[0m \u001b[1m2s\u001b[0m 2ms/step - accuracy: 0.9029 - loss: 0.2419 - val_accuracy: 0.8669 - val_loss: 0.3210\n",
            "Epoch 3/5\n",
            "\u001b[1m875/875\u001b[0m \u001b[32m━━━━━━━━━━━━━━━━━━━━\u001b[0m\u001b[37m\u001b[0m \u001b[1m2s\u001b[0m 2ms/step - accuracy: 0.9293 - loss: 0.1821 - val_accuracy: 0.8630 - val_loss: 0.3300\n",
            "Epoch 4/5\n",
            "\u001b[1m875/875\u001b[0m \u001b[32m━━━━━━━━━━━━━━━━━━━━\u001b[0m\u001b[37m\u001b[0m \u001b[1m2s\u001b[0m 2ms/step - accuracy: 0.9521 - loss: 0.1305 - val_accuracy: 0.8583 - val_loss: 0.4233\n",
            "Epoch 5/5\n",
            "\u001b[1m875/875\u001b[0m \u001b[32m━━━━━━━━━━━━━━━━━━━━\u001b[0m\u001b[37m\u001b[0m \u001b[1m2s\u001b[0m 2ms/step - accuracy: 0.9711 - loss: 0.0859 - val_accuracy: 0.8533 - val_loss: 0.5138\n",
            "\u001b[1m469/469\u001b[0m \u001b[32m━━━━━━━━━━━━━━━━━━━━\u001b[0m\u001b[37m\u001b[0m \u001b[1m0s\u001b[0m 597us/step - accuracy: 0.8628 - loss: 0.4849\n",
            "--- Starting trial: run-80\n",
            "{HParam(name='input_width', domain=Discrete([12, 24, 48]), display_name=None, description=None): 48, HParam(name='output_width', domain=Discrete([6, 12, 24]), display_name=None, description=None): 24, HParam(name='rnn_units', domain=Discrete([30, 40, 60]), display_name=None, description=None): 60, HParam(name='dropout', domain=Discrete([0.05, 0.1, 0.2]), display_name=None, description=None): 0.2, HParam(name='optimizer', domain=Discrete(['adam']), display_name=None, description=None): 'adam', HParam(name='learning_rate', domain=Discrete([0.001]), display_name=None, description=None): 0.001}\n",
            "Epoch 1/5\n",
            "\u001b[1m875/875\u001b[0m \u001b[32m━━━━━━━━━━━━━━━━━━━━\u001b[0m\u001b[37m\u001b[0m \u001b[1m3s\u001b[0m 2ms/step - accuracy: 0.7567 - loss: 0.4881 - val_accuracy: 0.8696 - val_loss: 0.3072\n",
            "Epoch 2/5\n",
            "\u001b[1m875/875\u001b[0m \u001b[32m━━━━━━━━━━━━━━━━━━━━\u001b[0m\u001b[37m\u001b[0m \u001b[1m2s\u001b[0m 2ms/step - accuracy: 0.8976 - loss: 0.2523 - val_accuracy: 0.8616 - val_loss: 0.3187\n",
            "Epoch 3/5\n",
            "\u001b[1m875/875\u001b[0m \u001b[32m━━━━━━━━━━━━━━━━━━━━\u001b[0m\u001b[37m\u001b[0m \u001b[1m2s\u001b[0m 2ms/step - accuracy: 0.9227 - loss: 0.1932 - val_accuracy: 0.8636 - val_loss: 0.3631\n",
            "Epoch 4/5\n",
            "\u001b[1m875/875\u001b[0m \u001b[32m━━━━━━━━━━━━━━━━━━━━\u001b[0m\u001b[37m\u001b[0m \u001b[1m2s\u001b[0m 2ms/step - accuracy: 0.9448 - loss: 0.1470 - val_accuracy: 0.8641 - val_loss: 0.3992\n",
            "Epoch 5/5\n",
            "\u001b[1m875/875\u001b[0m \u001b[32m━━━━━━━━━━━━━━━━━━━━\u001b[0m\u001b[37m\u001b[0m \u001b[1m2s\u001b[0m 2ms/step - accuracy: 0.9626 - loss: 0.1029 - val_accuracy: 0.8604 - val_loss: 0.4220\n",
            "\u001b[1m469/469\u001b[0m \u001b[32m━━━━━━━━━━━━━━━━━━━━\u001b[0m\u001b[37m\u001b[0m \u001b[1m0s\u001b[0m 707us/step - accuracy: 0.8617 - loss: 0.4243\n",
            "Best hyperparameters: {HParam(name='input_width', domain=Discrete([12, 24, 48]), display_name=None, description=None): 12, HParam(name='output_width', domain=Discrete([6, 12, 24]), display_name=None, description=None): 24, HParam(name='rnn_units', domain=Discrete([30, 40, 60]), display_name=None, description=None): 30, HParam(name='dropout', domain=Discrete([0.05, 0.1, 0.2]), display_name=None, description=None): 0.05, HParam(name='optimizer', domain=Discrete(['adam']), display_name=None, description=None): 'adam', HParam(name='learning_rate', domain=Discrete([0.001]), display_name=None, description=None): 0.001}\n",
            "Best accuracy: 0.8666666746139526\n"
          ]
        }
      ],
      "source": [
        "def train_test_model(hparams):\n",
        "    model = Sequential([\n",
        "        Dense(hparams[HP_INPUT_WIDTH], activation='relu', input_shape=(max_words,)),\n",
        "        Dropout(hparams[HP_DROPOUT]),\n",
        "        Dense(hparams[HP_RNN_UNITS], activation='relu'),\n",
        "        Dropout(hparams[HP_DROPOUT]),\n",
        "        Dense(1, activation='sigmoid')  # Solo una unidad de salida para clasificación binaria\n",
        "    ])\n",
        "    \n",
        "    optimizer = hparams[HP_OPTIMIZER]\n",
        "    if optimizer == 'adam':\n",
        "        optimizer = tf.keras.optimizers.Adam(learning_rate=hparams[HP_LEARNING_RATE])\n",
        "    \n",
        "    model.compile(optimizer=optimizer,\n",
        "                  loss='binary_crossentropy',\n",
        "                  metrics=[METRIC_ACCURACY])\n",
        "    \n",
        "    model.fit(X_train_count, y_train_count, epochs=5, batch_size=32, validation_split=0.2)\n",
        "    \n",
        "    _, accuracy = model.evaluate(X_test_count, y_test_count)\n",
        "    return accuracy\n",
        "\n",
        "def run(run_dir, hparams):\n",
        "    with tf.summary.create_file_writer(run_dir).as_default():\n",
        "        hp.hparams(hparams)  # log the hyperparameters\n",
        "        accuracy = train_test_model(hparams)\n",
        "        tf.summary.scalar(METRIC_ACCURACY, accuracy, step=1)\n",
        "        return accuracy\n",
        "\n",
        "# Diccionario para guardar los mejores hiperparámetros\n",
        "best_hparams = None\n",
        "best_accuracy = 0.0\n",
        "\n",
        "session_num = 0\n",
        "\n",
        "for input_width in HP_INPUT_WIDTH.domain.values:\n",
        "    for output_width in HP_OUTPUT_WIDTH.domain.values:\n",
        "        for rnn_units in HP_RNN_UNITS.domain.values:\n",
        "            for dropout in HP_DROPOUT.domain.values:\n",
        "                for optimizer in HP_OPTIMIZER.domain.values:\n",
        "                    for learning_rate in HP_LEARNING_RATE.domain.values:\n",
        "                        hparams = {\n",
        "                            HP_INPUT_WIDTH: input_width,\n",
        "                            HP_OUTPUT_WIDTH: output_width,\n",
        "                            HP_RNN_UNITS: rnn_units,\n",
        "                            HP_DROPOUT: dropout,\n",
        "                            HP_OPTIMIZER: optimizer,\n",
        "                            HP_LEARNING_RATE: learning_rate,\n",
        "                        }\n",
        "                        run_name = \"run-%d\" % session_num\n",
        "                        print('--- Starting trial: %s' % run_name)\n",
        "                        print({h: hparams[h] for h in hparams})\n",
        "                        accuracy = run('logs/hparam_tuning/' + run_name, hparams)\n",
        "                        if accuracy > best_accuracy:\n",
        "                            best_accuracy = accuracy\n",
        "                            best_hparams = hparams\n",
        "                        session_num += 1\n",
        "\n",
        "print(f'Best hyperparameters: {best_hparams}')\n",
        "print(f'Best accuracy: {best_accuracy}')"
      ]
    },
    {
      "cell_type": "code",
      "execution_count": 61,
      "metadata": {},
      "outputs": [
        {
          "name": "stderr",
          "output_type": "stream",
          "text": [
            "/home/taiel/.local/lib/python3.12/site-packages/keras/src/layers/core/dense.py:87: UserWarning: Do not pass an `input_shape`/`input_dim` argument to a layer. When using Sequential models, prefer using an `Input(shape)` object as the first layer in the model instead.\n",
            "  super().__init__(activity_regularizer=activity_regularizer, **kwargs)\n"
          ]
        },
        {
          "name": "stdout",
          "output_type": "stream",
          "text": [
            "Epoch 1/5\n",
            "\u001b[1m875/875\u001b[0m \u001b[32m━━━━━━━━━━━━━━━━━━━━\u001b[0m\u001b[37m\u001b[0m \u001b[1m2s\u001b[0m 1ms/step - accuracy: 0.7727 - loss: 0.4757 - val_accuracy: 0.8674 - val_loss: 0.3154\n",
            "Epoch 2/5\n",
            "\u001b[1m875/875\u001b[0m \u001b[32m━━━━━━━━━━━━━━━━━━━━\u001b[0m\u001b[37m\u001b[0m \u001b[1m1s\u001b[0m 1ms/step - accuracy: 0.9021 - loss: 0.2473 - val_accuracy: 0.8647 - val_loss: 0.3185\n",
            "Epoch 3/5\n",
            "\u001b[1m875/875\u001b[0m \u001b[32m━━━━━━━━━━━━━━━━━━━━\u001b[0m\u001b[37m\u001b[0m \u001b[1m1s\u001b[0m 1ms/step - accuracy: 0.9191 - loss: 0.1973 - val_accuracy: 0.8570 - val_loss: 0.3724\n",
            "Epoch 4/5\n",
            "\u001b[1m875/875\u001b[0m \u001b[32m━━━━━━━━━━━━━━━━━━━━\u001b[0m\u001b[37m\u001b[0m \u001b[1m1s\u001b[0m 1ms/step - accuracy: 0.9457 - loss: 0.1498 - val_accuracy: 0.8551 - val_loss: 0.4129\n",
            "Epoch 5/5\n",
            "\u001b[1m875/875\u001b[0m \u001b[32m━━━━━━━━━━━━━━━━━━━━\u001b[0m\u001b[37m\u001b[0m \u001b[1m1s\u001b[0m 1ms/step - accuracy: 0.9585 - loss: 0.1136 - val_accuracy: 0.8454 - val_loss: 0.4201\n",
            "\u001b[1m469/469\u001b[0m \u001b[32m━━━━━━━━━━━━━━━━━━━━\u001b[0m\u001b[37m\u001b[0m \u001b[1m0s\u001b[0m 558us/step - accuracy: 0.8540 - loss: 0.4201\n",
            "Final model loss: 0.41495269536972046, accuracy: 0.8560666441917419\n"
          ]
        }
      ],
      "source": [
        "# Entrenar un nuevo modelo con los mejores hiperparámetros\n",
        "mejor_red = Sequential([\n",
        "    Dense(best_hparams[HP_INPUT_WIDTH], activation='relu', input_shape=(max_words,)),\n",
        "    Dropout(best_hparams[HP_DROPOUT]),\n",
        "    Dense(best_hparams[HP_RNN_UNITS], activation='relu'),\n",
        "    Dropout(best_hparams[HP_DROPOUT]),\n",
        "    Dense(1, activation='sigmoid')\n",
        "])\n",
        "\n",
        "optimizer = best_hparams[HP_OPTIMIZER]\n",
        "if optimizer == 'adam':\n",
        "    optimizer = tf.keras.optimizers.Adam(learning_rate=best_hparams[HP_LEARNING_RATE])\n",
        "\n",
        "mejor_red.compile(optimizer=optimizer,\n",
        "                   loss='binary_crossentropy',\n",
        "                   metrics=[METRIC_ACCURACY])\n",
        "\n",
        "mejor_red.fit(X_train_count, y_train_count, epochs=5, batch_size=32, validation_split=0.2)\n",
        "\n",
        "# Evaluar el mejor modelo\n",
        "loss, accuracy = mejor_red.evaluate(X_test_count, y_test_count)\n",
        "print(f'Final model loss: {loss}, accuracy: {accuracy}')\n"
      ]
    },
    {
      "cell_type": "code",
      "execution_count": 62,
      "metadata": {},
      "outputs": [
        {
          "name": "stdout",
          "output_type": "stream",
          "text": [
            "\u001b[1m469/469\u001b[0m \u001b[32m━━━━━━━━━━━━━━━━━━━━\u001b[0m\u001b[37m\u001b[0m \u001b[1m0s\u001b[0m 617us/step\n"
          ]
        }
      ],
      "source": [
        "X_train_tokens = tokenizer_obj.texts_to_sequences(df_test[\"review_es\"])\n",
        "X_train_count = tokenizer_obj.sequences_to_matrix(X_train_tokens, mode = \"count\")\n",
        "y_pred_red_ = mejor_red.predict(X_test_count)\n",
        "y_pred_red_ = np.round(y_pred_red_)"
      ]
    },
    {
      "cell_type": "code",
      "execution_count": 63,
      "metadata": {},
      "outputs": [
        {
          "name": "stdout",
          "output_type": "stream",
          "text": [
            "F1: 0.8571995502348039\n",
            "Precision: 0.8470588235294118\n",
            "Recall: 0.8675860222251974\n",
            "Accuracy: 0.8560666666666666\n"
          ]
        },
        {
          "data": {
            "image/png": "[encoded data removed]",
            "text/plain": [
              "<Figure size 640x480 with 2 Axes>"
            ]
          },
          "metadata": {},
          "output_type": "display_data"
        }
      ],
      "source": [
        "imprimir_resultados(y_test_count, y_pred_red_)"
      ]
    },
    {
      "cell_type": "markdown",
      "metadata": {
        "id": "sx7_i78nZAuq"
      },
      "source": [
        "## Ensamble"
      ]
    },
    {
      "cell_type": "code",
      "execution_count": 67,
      "metadata": {},
      "outputs": [],
      "source": [
        "from collections import Counter"
      ]
    },
    {
      "cell_type": "code",
      "execution_count": 68,
      "metadata": {},
      "outputs": [],
      "source": [
        "def ensamble_votacion(array1, array2, array3):\n",
        "    combined = np.vstack((array1, array2, array3)).T\n",
        "    \n",
        "    resultado = np.apply_along_axis(lambda row: Counter(row).most_common(1)[0][0], axis=1, arr=combined)\n",
        "    \n",
        "    return resultado"
      ]
    },
    {
      "cell_type": "code",
      "execution_count": 70,
      "metadata": {},
      "outputs": [
        {
          "name": "stdout",
          "output_type": "stream",
          "text": [
            "F1: 0.8638909508063972\n",
            "Precision: 0.8788960593162158\n",
            "Recall: 0.8493895966029724\n",
            "Accuracy: 0.8655333333333334\n"
          ]
        },
        {
          "data": {
            "image/png": "[encoded data removed]",
            "text/plain": [
              "<Figure size 640x480 with 2 Axes>"
            ]
          },
          "metadata": {},
          "output_type": "display_data"
        }
      ],
      "source": [
        "imprimir_resultados(y_test_, ensamble_votacion(y_pred_nb, y_pred_rf, y_pred_xgboost))"
      ]
    },
    {
      "cell_type": "code",
      "execution_count": 74,
      "metadata": {},
      "outputs": [],
      "source": [
        "guardar_resultado_en_csv(ensamble_votacion(y_pred_nb_, y_pred_rf_, y_pred_xgboost_), df_test, \"ensamble.csv\")"
      ]
    }
  ],
  "metadata": {
    "colab": {
      "provenance": []
    },
    "kernelspec": {
      "display_name": "Python 3",
      "language": "python",
      "name": "python3"
    },
    "language_info": {
      "codemirror_mode": {
        "name": "ipython",
        "version": 3
      },
      "file_extension": ".py",
      "mimetype": "text/x-python",
      "name": "python",
      "nbconvert_exporter": "python",
      "pygments_lexer": "ipython3",
      "version": "3.12.3"
    }
  },
  "nbformat": 4,
  "nbformat_minor": 0
}
