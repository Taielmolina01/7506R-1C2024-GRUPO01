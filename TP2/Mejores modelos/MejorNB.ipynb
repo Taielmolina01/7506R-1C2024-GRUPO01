{
  "cells": [
    {
      "cell_type": "code",
      "execution_count": 33,
      "metadata": {
        "id": "a_0BUFmyZAuj"
      },
      "outputs": [],
      "source": [
        "import pandas as pd\n",
        "import nltk\n",
        "import numpy as np\n",
        "import seaborn as sns\n",
        "import matplotlib as plt\n",
        "from nltk.tokenize import word_tokenize\n",
        "from sklearn.model_selection import train_test_split\n",
        "from sklearn.feature_extraction.text import CountVectorizer\n",
        "from sklearn.naive_bayes import MultinomialNB, BernoulliNB\n",
        "from nltk.corpus import stopwords\n",
        "from sklearn.model_selection import train_test_split"
      ]
    },
    {
      "cell_type": "code",
      "execution_count": 34,
      "metadata": {
        "id": "aOmheHo6ZAuk"
      },
      "outputs": [],
      "source": [
        "df_train = pd.read_csv(\"../train.csv\")\n",
        "df_test = pd.read_csv(\"../test.csv\")"
      ]
    },
    {
      "cell_type": "code",
      "execution_count": 35,
      "metadata": {
        "id": "6SzVwyVlZAul"
      },
      "outputs": [],
      "source": [
        "RUTA_GUARDADO = \"NB.csv\""
      ]
    },
    {
      "cell_type": "code",
      "execution_count": 36,
      "metadata": {
        "id": "mPH7cZwL9Xnd"
      },
      "outputs": [],
      "source": [
        "def reemplazar_no(df):\n",
        "    def reemplazo(texto):\n",
        "        if isinstance(texto, str):\n",
        "            return texto.replace(\" película \", \"\")\n",
        "        return texto\n",
        "\n",
        "    for col in df.select_dtypes(include=['object']).columns:\n",
        "        df[col] = df[col].apply(reemplazo)\n",
        "\n",
        "    return df"
      ]
    },
    {
      "cell_type": "code",
      "execution_count": 37,
      "metadata": {
        "id": "UADViomk9mYZ"
      },
      "outputs": [],
      "source": [
        "df_train = reemplazar_no(df_train)\n",
        "df_test = reemplazar_no(df_test)"
      ]
    },
    {
      "cell_type": "code",
      "execution_count": 38,
      "metadata": {
        "colab": {
          "base_uri": "https://localhost:8080/"
        },
        "id": "IB88dakNZAul",
        "outputId": "869f32f1-bab0-410c-c460-9f25d2c6a7d4"
      },
      "outputs": [
        {
          "name": "stdout",
          "output_type": "stream",
          "text": [
            "<class 'pandas.core.frame.DataFrame'>\n",
            "RangeIndex: 50000 entries, 0 to 49999\n",
            "Data columns (total 3 columns):\n",
            " #   Column       Non-Null Count  Dtype \n",
            "---  ------       --------------  ----- \n",
            " 0   ID           50000 non-null  int64 \n",
            " 1   review_es    50000 non-null  object\n",
            " 2   sentimiento  50000 non-null  object\n",
            "dtypes: int64(1), object(2)\n",
            "memory usage: 1.1+ MB\n"
          ]
        }
      ],
      "source": [
        "df_train.info()"
      ]
    },
    {
      "cell_type": "markdown",
      "metadata": {
        "id": "pUF8B5y8ZAul"
      },
      "source": [
        "Aqui ya observamos que el dataset no contiene nulos"
      ]
    },
    {
      "cell_type": "code",
      "execution_count": 39,
      "metadata": {},
      "outputs": [],
      "source": [
        "df_train[\"review_es\"], df_test[\"review_es\"] = df_train[\"review_es\"].str.lower(), df_test[\"review_es\"].str.lower()"
      ]
    },
    {
      "cell_type": "code",
      "execution_count": 40,
      "metadata": {
        "id": "AorOVP9NZAun"
      },
      "outputs": [],
      "source": [
        "df_train_train, df_train_test = train_test_split(df_train, test_size=0.3, random_state=33)"
      ]
    },
    {
      "cell_type": "code",
      "execution_count": 41,
      "metadata": {
        "id": "b3z6KSd4ZAuo"
      },
      "outputs": [],
      "source": [
        "x_train, y_train, x_test_, y_test_ = df_train_train[\"review_es\"], df_train_train[\"sentimiento\"], df_train_test[\"review_es\"], df_train_test[\"sentimiento\"]"
      ]
    },
    {
      "cell_type": "code",
      "execution_count": 42,
      "metadata": {
        "id": "v_jpR6LFZAuo"
      },
      "outputs": [],
      "source": [
        "x_test = df_test[\"review_es\"]"
      ]
    },
    {
      "cell_type": "code",
      "execution_count": 43,
      "metadata": {
        "id": "Y7oPpyOZZAuo"
      },
      "outputs": [],
      "source": [
        "from sklearn.model_selection import GridSearchCV"
      ]
    },
    {
      "cell_type": "code",
      "execution_count": 44,
      "metadata": {
        "id": "KPZU1vW4ZAuo"
      },
      "outputs": [],
      "source": [
        "def busqueda_hiperparametros(modelo, x_vectorizado):\n",
        "    param_grid = {\n",
        "      'alpha': [0.65],\n",
        "      'class_prior': [[0.1, 0.5]]\n",
        "  }\n",
        "    grid_search = GridSearchCV(estimator=modelo, param_grid=param_grid, cv=10, scoring=\"f1_macro\")\n",
        "\n",
        "    grid_search.fit(x_vectorizado, y_train)\n",
        "\n",
        "    return grid_search"
      ]
    },
    {
      "cell_type": "code",
      "execution_count": 45,
      "metadata": {
        "id": "1b7rfr7QZAuo"
      },
      "outputs": [],
      "source": [
        "from sklearn.metrics import ConfusionMatrixDisplay, confusion_matrix, f1_score, precision_score, recall_score, accuracy_score"
      ]
    },
    {
      "cell_type": "code",
      "execution_count": 46,
      "metadata": {
        "id": "OWk8hHQWZAuo"
      },
      "outputs": [],
      "source": [
        "def imprimir_resultados(y, y_pred):\n",
        "\n",
        "    labels = [\"negativo\", \"positivo\"]\n",
        "\n",
        "    f1 = f1_score(y, y_pred, pos_label=\"positivo\", labels=labels)\n",
        "    precision = precision_score(y, y_pred, pos_label=\"positivo\", labels=labels)\n",
        "    recall = recall_score(y, y_pred, pos_label=\"positivo\", labels=labels)\n",
        "    accuracy = accuracy_score(y, y_pred)\n",
        "\n",
        "    cm = confusion_matrix(y_test_, y_pred)\n",
        "\n",
        "    ConfusionMatrixDisplay(confusion_matrix=cm).plot()\n",
        "\n",
        "    print(f\"F1: {f1}\")\n",
        "    print(f\"Precision: {precision}\")\n",
        "    print(f\"Recall: {recall}\")\n",
        "    print(f\"Accuracy: {accuracy}\")"
      ]
    },
    {
      "cell_type": "code",
      "execution_count": 47,
      "metadata": {
        "id": "lMOsN3KKZAup"
      },
      "outputs": [],
      "source": [
        "def guardar_resultado_en_csv(prediccion):\n",
        "\n",
        "    df_predicciones = pd.DataFrame({\"ID\": df_test[\"ID\"], \"prediccion\": prediccion})\n",
        "\n",
        "    df_predicciones.to_csv(RUTA_GUARDADO, header=[\"ID\", \"sentimiento\"], index=False)"
      ]
    },
    {
      "cell_type": "code",
      "execution_count": 48,
      "metadata": {
        "id": "3Ns112xvZAup"
      },
      "outputs": [],
      "source": [
        "vectorizer = CountVectorizer()\n",
        "x_train_vec = vectorizer.fit_transform(x_train)\n",
        "x_test_vec = vectorizer.transform(x_test_)"
      ]
    },
    {
      "cell_type": "markdown",
      "metadata": {
        "id": "EUddEzP5ZAup"
      },
      "source": [
        "## Bernoulli Naive Bayes"
      ]
    },
    {
      "cell_type": "code",
      "execution_count": 49,
      "metadata": {
        "id": "rcKfZQ3uZAup"
      },
      "outputs": [],
      "source": [
        "# Dejando stopwords\n",
        "\n",
        "nb_classifier = BernoulliNB()\n",
        "gs = busqueda_hiperparametros(nb_classifier, x_train_vec)"
      ]
    },
    {
      "cell_type": "code",
      "execution_count": 50,
      "metadata": {
        "colab": {
          "base_uri": "https://localhost:8080/"
        },
        "id": "139jZBnUZbdv",
        "outputId": "a2927163-cd76-48a6-b32c-d4941c96765a"
      },
      "outputs": [
        {
          "name": "stdout",
          "output_type": "stream",
          "text": [
            "{'alpha': 0.65, 'class_prior': [0.1, 0.5]}\n"
          ]
        }
      ],
      "source": [
        "print(gs.best_params_)"
      ]
    },
    {
      "cell_type": "code",
      "execution_count": 51,
      "metadata": {
        "id": "7z_Tw5XvZAup"
      },
      "outputs": [],
      "source": [
        "best_nb = BernoulliNB(alpha=gs.best_params_[\"alpha\"], class_prior=gs.best_params_[\"class_prior\"])"
      ]
    },
    {
      "cell_type": "code",
      "execution_count": 52,
      "metadata": {
        "id": "Y1KVpPlI6l86"
      },
      "outputs": [],
      "source": [
        "best_nb.fit(x_train_vec, y_train)\n",
        "y_pred = best_nb.predict(x_test_vec)"
      ]
    },
    {
      "cell_type": "code",
      "execution_count": 53,
      "metadata": {
        "colab": {
          "base_uri": "https://localhost:8080/",
          "height": 518
        },
        "id": "SnFfU-xLZAup",
        "outputId": "4ab9dfe9-9d16-4d24-a1b3-7a1a9c5ced61"
      },
      "outputs": [
        {
          "name": "stdout",
          "output_type": "stream",
          "text": [
            "F1: 0.8556382068329932\n",
            "Precision: 0.8410767438850782\n",
            "Recall: 0.8707127545551983\n",
            "Accuracy: 0.8538\n"
          ]
        },
        {
          "data": {
            "image/png": "[encoded data removed]",
            "text/plain": [
              "<Figure size 640x480 with 2 Axes>"
            ]
          },
          "metadata": {},
          "output_type": "display_data"
        }
      ],
      "source": [
        "imprimir_resultados(y_test_, y_pred)"
      ]
    },
    {
      "cell_type": "code",
      "execution_count": 54,
      "metadata": {
        "id": "YWSOE2KqZAup"
      },
      "outputs": [],
      "source": [
        "y_pred_ = best_nb.predict(vectorizer.transform(x_test))"
      ]
    },
    {
      "cell_type": "code",
      "execution_count": 55,
      "metadata": {
        "id": "Tc-rwR4yZAup"
      },
      "outputs": [],
      "source": [
        "guardar_resultado_en_csv(y_pred_)"
      ]
    },
    {
      "cell_type": "code",
      "execution_count": 56,
      "metadata": {
        "id": "GDcjx2hI-2rE"
      },
      "outputs": [],
      "source": [
        "## Testeo"
      ]
    },
    {
      "cell_type": "code",
      "execution_count": 57,
      "metadata": {
        "colab": {
          "base_uri": "https://localhost:8080/",
          "height": 424
        },
        "collapsed": true,
        "id": "ewAY7u30_HWC",
        "outputId": "906e67d3-9113-46ce-9269-b54bfa93eddd"
      },
      "outputs": [
        {
          "data": {
            "text/html": [
              "<div>\n",
              "<style scoped>\n",
              "    .dataframe tbody tr th:only-of-type {\n",
              "        vertical-align: middle;\n",
              "    }\n",
              "\n",
              "    .dataframe tbody tr th {\n",
              "        vertical-align: top;\n",
              "    }\n",
              "\n",
              "    .dataframe thead th {\n",
              "        text-align: right;\n",
              "    }\n",
              "</style>\n",
              "<table border=\"1\" class=\"dataframe\">\n",
              "  <thead>\n",
              "    <tr style=\"text-align: right;\">\n",
              "      <th></th>\n",
              "      <th>review_es</th>\n",
              "    </tr>\n",
              "  </thead>\n",
              "  <tbody>\n",
              "    <tr>\n",
              "      <th>31809</th>\n",
              "      <td>negativo</td>\n",
              "    </tr>\n",
              "    <tr>\n",
              "      <th>34702</th>\n",
              "      <td>negativo</td>\n",
              "    </tr>\n",
              "    <tr>\n",
              "      <th>14222</th>\n",
              "      <td>negativo</td>\n",
              "    </tr>\n",
              "    <tr>\n",
              "      <th>26294</th>\n",
              "      <td>negativo</td>\n",
              "    </tr>\n",
              "    <tr>\n",
              "      <th>9876</th>\n",
              "      <td>negativo</td>\n",
              "    </tr>\n",
              "    <tr>\n",
              "      <th>...</th>\n",
              "      <td>...</td>\n",
              "    </tr>\n",
              "    <tr>\n",
              "      <th>17070</th>\n",
              "      <td>negativo</td>\n",
              "    </tr>\n",
              "    <tr>\n",
              "      <th>2268</th>\n",
              "      <td>negativo</td>\n",
              "    </tr>\n",
              "    <tr>\n",
              "      <th>12053</th>\n",
              "      <td>positivo</td>\n",
              "    </tr>\n",
              "    <tr>\n",
              "      <th>28604</th>\n",
              "      <td>negativo</td>\n",
              "    </tr>\n",
              "    <tr>\n",
              "      <th>34903</th>\n",
              "      <td>negativo</td>\n",
              "    </tr>\n",
              "  </tbody>\n",
              "</table>\n",
              "<p>15000 rows × 1 columns</p>\n",
              "</div>"
            ],
            "text/plain": [
              "      review_es\n",
              "31809  negativo\n",
              "34702  negativo\n",
              "14222  negativo\n",
              "26294  negativo\n",
              "9876   negativo\n",
              "...         ...\n",
              "17070  negativo\n",
              "2268   negativo\n",
              "12053  positivo\n",
              "28604  negativo\n",
              "34903  negativo\n",
              "\n",
              "[15000 rows x 1 columns]"
            ]
          },
          "execution_count": 57,
          "metadata": {},
          "output_type": "execute_result"
        }
      ],
      "source": [
        "pd.DataFrame(y_pred, columns=['Etiqueta_Predicha'])\n",
        "pd.DataFrame({'review_es': x_test})\n",
        "pd.DataFrame({'review_es': y_test_})\n"
      ]
    },
    {
      "cell_type": "code",
      "execution_count": 58,
      "metadata": {
        "collapsed": true,
        "id": "8f6cDGdrCjid"
      },
      "outputs": [],
      "source": [
        "a = pd.DataFrame({'review_es': x_test_})\n",
        "a.reset_index(drop=True, inplace=True)"
      ]
    },
    {
      "cell_type": "code",
      "execution_count": 59,
      "metadata": {
        "collapsed": true,
        "id": "Ug3C_jneCk6d"
      },
      "outputs": [],
      "source": [
        "b = pd.DataFrame({'sentimiento': y_test_})\n",
        "b.reset_index(drop=True, inplace=True)"
      ]
    },
    {
      "cell_type": "code",
      "execution_count": 60,
      "metadata": {
        "collapsed": true,
        "id": "ooEqCdQpClOb"
      },
      "outputs": [],
      "source": [
        "c = pd.DataFrame(y_pred, columns=['Prediccion'])\n",
        "c.reset_index(drop=True, inplace=True)"
      ]
    },
    {
      "cell_type": "code",
      "execution_count": 61,
      "metadata": {
        "id": "y1zH6CaRAeuL"
      },
      "outputs": [],
      "source": [
        "df_resultado = pd.concat([a, b, c], axis=1)"
      ]
    },
    {
      "cell_type": "code",
      "execution_count": 62,
      "metadata": {
        "id": "4Zr0lHbb_KcC"
      },
      "outputs": [],
      "source": [
        "df_resultado_filtro = df_resultado[df_resultado['sentimiento'] != df_resultado['Prediccion']]"
      ]
    },
    {
      "cell_type": "code",
      "execution_count": 63,
      "metadata": {
        "colab": {
          "base_uri": "https://localhost:8080/",
          "height": 424
        },
        "id": "3el5OsW-E8j-",
        "outputId": "b5f6f6f0-9476-489a-d284-f284883701ed"
      },
      "outputs": [
        {
          "data": {
            "text/html": [
              "<div>\n",
              "<style scoped>\n",
              "    .dataframe tbody tr th:only-of-type {\n",
              "        vertical-align: middle;\n",
              "    }\n",
              "\n",
              "    .dataframe tbody tr th {\n",
              "        vertical-align: top;\n",
              "    }\n",
              "\n",
              "    .dataframe thead th {\n",
              "        text-align: right;\n",
              "    }\n",
              "</style>\n",
              "<table border=\"1\" class=\"dataframe\">\n",
              "  <thead>\n",
              "    <tr style=\"text-align: right;\">\n",
              "      <th></th>\n",
              "      <th>review_es</th>\n",
              "      <th>sentimiento</th>\n",
              "      <th>Prediccion</th>\n",
              "    </tr>\n",
              "  </thead>\n",
              "  <tbody>\n",
              "    <tr>\n",
              "      <th>3</th>\n",
              "      <td>estatiene todas las asignaciones de demasiados...</td>\n",
              "      <td>negativo</td>\n",
              "      <td>positivo</td>\n",
              "    </tr>\n",
              "    <tr>\n",
              "      <th>6</th>\n",
              "      <td>por todas las apariencias, esta serie podría h...</td>\n",
              "      <td>negativo</td>\n",
              "      <td>positivo</td>\n",
              "    </tr>\n",
              "    <tr>\n",
              "      <th>7</th>\n",
              "      <td>escogí esto por un capricho de la biblioteca, ...</td>\n",
              "      <td>positivo</td>\n",
              "      <td>negativo</td>\n",
              "    </tr>\n",
              "    <tr>\n",
              "      <th>12</th>\n",
              "      <td>esta es una grande tiburones italianos, probab...</td>\n",
              "      <td>positivo</td>\n",
              "      <td>negativo</td>\n",
              "    </tr>\n",
              "    <tr>\n",
              "      <th>22</th>\n",
              "      <td>es este tipo deque intentas e imitar.al intent...</td>\n",
              "      <td>positivo</td>\n",
              "      <td>negativo</td>\n",
              "    </tr>\n",
              "    <tr>\n",
              "      <th>...</th>\n",
              "      <td>...</td>\n",
              "      <td>...</td>\n",
              "      <td>...</td>\n",
              "    </tr>\n",
              "    <tr>\n",
              "      <th>14961</th>\n",
              "      <td>para empezar, me encantó göta kanal 1, tenía m...</td>\n",
              "      <td>positivo</td>\n",
              "      <td>negativo</td>\n",
              "    </tr>\n",
              "    <tr>\n",
              "      <th>14963</th>\n",
              "      <td>recuerdo haber visto a esta mini-series la pri...</td>\n",
              "      <td>negativo</td>\n",
              "      <td>positivo</td>\n",
              "    </tr>\n",
              "    <tr>\n",
              "      <th>14981</th>\n",
              "      <td>bueno, supongo que tendré que ser quien decir ...</td>\n",
              "      <td>negativo</td>\n",
              "      <td>positivo</td>\n",
              "    </tr>\n",
              "    <tr>\n",
              "      <th>14982</th>\n",
              "      <td>algunas de mis películas favoritas de laurel y...</td>\n",
              "      <td>positivo</td>\n",
              "      <td>negativo</td>\n",
              "    </tr>\n",
              "    <tr>\n",
              "      <th>14997</th>\n",
              "      <td>este dvd generalmente se vende por alrededor d...</td>\n",
              "      <td>positivo</td>\n",
              "      <td>negativo</td>\n",
              "    </tr>\n",
              "  </tbody>\n",
              "</table>\n",
              "<p>2193 rows × 3 columns</p>\n",
              "</div>"
            ],
            "text/plain": [
              "                                               review_es sentimiento  \\\n",
              "3      estatiene todas las asignaciones de demasiados...    negativo   \n",
              "6      por todas las apariencias, esta serie podría h...    negativo   \n",
              "7      escogí esto por un capricho de la biblioteca, ...    positivo   \n",
              "12     esta es una grande tiburones italianos, probab...    positivo   \n",
              "22     es este tipo deque intentas e imitar.al intent...    positivo   \n",
              "...                                                  ...         ...   \n",
              "14961  para empezar, me encantó göta kanal 1, tenía m...    positivo   \n",
              "14963  recuerdo haber visto a esta mini-series la pri...    negativo   \n",
              "14981  bueno, supongo que tendré que ser quien decir ...    negativo   \n",
              "14982  algunas de mis películas favoritas de laurel y...    positivo   \n",
              "14997  este dvd generalmente se vende por alrededor d...    positivo   \n",
              "\n",
              "      Prediccion  \n",
              "3       positivo  \n",
              "6       positivo  \n",
              "7       negativo  \n",
              "12      negativo  \n",
              "22      negativo  \n",
              "...          ...  \n",
              "14961   negativo  \n",
              "14963   positivo  \n",
              "14981   positivo  \n",
              "14982   negativo  \n",
              "14997   negativo  \n",
              "\n",
              "[2193 rows x 3 columns]"
            ]
          },
          "execution_count": 63,
          "metadata": {},
          "output_type": "execute_result"
        }
      ],
      "source": [
        "df_resultado_filtro"
      ]
    }
  ],
  "metadata": {
    "colab": {
      "provenance": []
    },
    "kernelspec": {
      "display_name": "Python 3",
      "language": "python",
      "name": "python3"
    },
    "language_info": {
      "codemirror_mode": {
        "name": "ipython",
        "version": 3
      },
      "file_extension": ".py",
      "mimetype": "text/x-python",
      "name": "python",
      "nbconvert_exporter": "python",
      "pygments_lexer": "ipython3",
      "version": "3.12.3"
    }
  },
  "nbformat": 4,
  "nbformat_minor": 0
}
