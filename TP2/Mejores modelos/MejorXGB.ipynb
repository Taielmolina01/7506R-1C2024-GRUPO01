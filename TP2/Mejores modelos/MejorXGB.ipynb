{
  "cells": [
    {
      "cell_type": "code",
      "execution_count": 2,
      "metadata": {
        "id": "a_0BUFmyZAuj"
      },
      "outputs": [],
      "source": [
        "import pandas as pd\n",
        "import nltk\n",
        "import numpy as np\n",
        "import seaborn as sns\n",
        "import matplotlib as plt\n",
        "from nltk.tokenize import word_tokenize\n",
        "from sklearn.model_selection import train_test_split\n",
        "from sklearn.feature_extraction.text import CountVectorizer\n",
        "from sklearn.naive_bayes import MultinomialNB, BernoulliNB\n",
        "from nltk.corpus import stopwords\n",
        "from xgboost import XGBClassifier\n",
        "from sklearn.ensemble import RandomForestClassifier\n",
        "from sklearn.model_selection import RandomizedSearchCV, StratifiedKFold"
      ]
    },
    {
      "cell_type": "code",
      "execution_count": 3,
      "metadata": {
        "id": "aOmheHo6ZAuk"
      },
      "outputs": [],
      "source": [
        "df_train = pd.read_csv(\"../train.csv\")\n",
        "df_test = pd.read_csv(\"../test.csv\")"
      ]
    },
    {
      "cell_type": "code",
      "execution_count": 4,
      "metadata": {
        "id": "U6EP2Tjxuype"
      },
      "outputs": [],
      "source": [
        "df_train['sentimiento'] = df_train['sentimiento'].map({'positivo': 1, 'negativo': 0})"
      ]
    },
    {
      "cell_type": "code",
      "execution_count": 5,
      "metadata": {
        "id": "6SzVwyVlZAul"
      },
      "outputs": [],
      "source": [
        "RUTA_GUARDADO = \"XGB.csv\""
      ]
    },
    {
      "cell_type": "code",
      "execution_count": 6,
      "metadata": {
        "id": "mPH7cZwL9Xnd"
      },
      "outputs": [],
      "source": [
        "def reemplazar_no(df):\n",
        "    def reemplazo(texto):\n",
        "        if isinstance(texto, str):\n",
        "            return texto.replace(\" película \", \"\").lower()\n",
        "        return texto\n",
        "\n",
        "    for col in df.select_dtypes(include=['object']).columns:\n",
        "        df[col] = df[col].apply(reemplazo)\n",
        "\n",
        "    return df"
      ]
    },
    {
      "cell_type": "code",
      "execution_count": 7,
      "metadata": {
        "id": "UADViomk9mYZ"
      },
      "outputs": [],
      "source": [
        "df_train = reemplazar_no(df_train)\n",
        "df_test = reemplazar_no(df_test)"
      ]
    },
    {
      "cell_type": "code",
      "execution_count": 8,
      "metadata": {},
      "outputs": [],
      "source": [
        "df_train[\"review_es\"], df_test[\"review_es\"] = df_train[\"review_es\"].str.lower(), df_test[\"review_es\"].str.lower()"
      ]
    },
    {
      "cell_type": "code",
      "execution_count": 9,
      "metadata": {
        "colab": {
          "base_uri": "https://localhost:8080/"
        },
        "id": "IB88dakNZAul",
        "outputId": "7ba71f67-9bde-4eb0-9e2e-d4433aa3ed8c"
      },
      "outputs": [
        {
          "name": "stdout",
          "output_type": "stream",
          "text": [
            "<class 'pandas.core.frame.DataFrame'>\n",
            "RangeIndex: 50000 entries, 0 to 49999\n",
            "Data columns (total 3 columns):\n",
            " #   Column       Non-Null Count  Dtype \n",
            "---  ------       --------------  ----- \n",
            " 0   ID           50000 non-null  int64 \n",
            " 1   review_es    50000 non-null  object\n",
            " 2   sentimiento  50000 non-null  int64 \n",
            "dtypes: int64(2), object(1)\n",
            "memory usage: 1.1+ MB\n"
          ]
        }
      ],
      "source": [
        "df_train.info()"
      ]
    },
    {
      "cell_type": "markdown",
      "metadata": {
        "id": "pUF8B5y8ZAul"
      },
      "source": [
        "Aqui ya observamos que el dataset no contiene nulos"
      ]
    },
    {
      "cell_type": "code",
      "execution_count": 10,
      "metadata": {
        "id": "AorOVP9NZAun"
      },
      "outputs": [],
      "source": [
        "df_train_train, df_train_test = train_test_split(df_train, test_size=0.5, random_state=33)"
      ]
    },
    {
      "cell_type": "code",
      "execution_count": 11,
      "metadata": {
        "id": "b3z6KSd4ZAuo"
      },
      "outputs": [],
      "source": [
        "x_train, y_train, x_test_, y_test_ = df_train_train[\"review_es\"], df_train_train[\"sentimiento\"], df_train_test[\"review_es\"], df_train_test[\"sentimiento\"]"
      ]
    },
    {
      "cell_type": "code",
      "execution_count": 12,
      "metadata": {
        "id": "v_jpR6LFZAuo"
      },
      "outputs": [],
      "source": [
        "x_test = df_test[\"review_es\"]"
      ]
    },
    {
      "cell_type": "code",
      "execution_count": 13,
      "metadata": {
        "id": "Y7oPpyOZZAuo"
      },
      "outputs": [],
      "source": [
        "from sklearn.model_selection import GridSearchCV"
      ]
    },
    {
      "cell_type": "code",
      "execution_count": 14,
      "metadata": {
        "id": "1b7rfr7QZAuo"
      },
      "outputs": [],
      "source": [
        "from sklearn.metrics import ConfusionMatrixDisplay, confusion_matrix, f1_score, precision_score, recall_score, accuracy_score"
      ]
    },
    {
      "cell_type": "code",
      "execution_count": 15,
      "metadata": {
        "id": "OWk8hHQWZAuo"
      },
      "outputs": [],
      "source": [
        "def imprimir_resultados(y, y_pred):\n",
        "\n",
        "    labels = [0, 1]\n",
        "\n",
        "    f1 = f1_score(y, y_pred, pos_label=0, labels=labels)\n",
        "    precision = precision_score(y, y_pred, pos_label=0, labels=labels)\n",
        "    recall = recall_score(y, y_pred, pos_label=0, labels=labels)\n",
        "    accuracy = accuracy_score(y, y_pred)\n",
        "\n",
        "    cm = confusion_matrix(y_test_, y_pred)\n",
        "\n",
        "    ConfusionMatrixDisplay(confusion_matrix=cm).plot()\n",
        "\n",
        "    print(f\"F1: {f1}\")\n",
        "    print(f\"Precision: {precision}\")\n",
        "    print(f\"Recall: {recall}\")\n",
        "    print(f\"Accuracy: {accuracy}\")"
      ]
    },
    {
      "cell_type": "code",
      "execution_count": 16,
      "metadata": {
        "id": "lMOsN3KKZAup"
      },
      "outputs": [],
      "source": [
        "def guardar_resultado_en_csv(prediccion):\n",
        "\n",
        "    df_predicciones = pd.DataFrame({\"ID\": df_test[\"ID\"], \"prediccion\": prediccion})\n",
        "\n",
        "    df_predicciones.to_csv(RUTA_GUARDADO, header=[\"ID\", \"sentimiento\"], index=False)"
      ]
    },
    {
      "cell_type": "code",
      "execution_count": 17,
      "metadata": {
        "id": "3Ns112xvZAup"
      },
      "outputs": [],
      "source": [
        "vectorizer = CountVectorizer()\n",
        "x_train_vec = vectorizer.fit_transform(x_train)\n",
        "x_test_vec = vectorizer.transform(x_test_)"
      ]
    },
    {
      "cell_type": "code",
      "execution_count": 18,
      "metadata": {
        "id": "g79R5-l6vSLm"
      },
      "outputs": [],
      "source": [
        "def func_classif(param_distributions, cv, scoring, estimator, n_iter):\n",
        "  randomcv = RandomizedSearchCV(estimator=estimator,\n",
        "                                param_distributions = param_distributions,\n",
        "                                scoring=scoring,\n",
        "                                cv=cv,\n",
        "                                n_jobs = -1,\n",
        "                                n_iter=n_iter,\n",
        "                                random_state=33)\n",
        "\n",
        "  randomcv.fit(x_train_vec, y_train)\n",
        "\n",
        "  return randomcv"
      ]
    },
    {
      "cell_type": "code",
      "execution_count": 19,
      "metadata": {
        "colab": {
          "base_uri": "https://localhost:8080/"
        },
        "id": "LHwReaoSviCk",
        "outputId": "e5a57210-bcae-4f2d-b3a8-c12f4a56ccd6"
      },
      "outputs": [],
      "source": [
        "n_iter = 5\n",
        "\n",
        "param_distributions = {\n",
        "    \"learning_rate\": [0.01, 0.1, 0.2],\n",
        "    \"max_depth\": [3, 5, 7],\n",
        "    \"n_estimators\": [100, 200, 300]\n",
        "    }\n",
        "\n",
        "cv = StratifiedKFold(n_splits=5)\n",
        "\n",
        "scoring = \"accuracy\"\n",
        "\n",
        "estimator = XGBClassifier(random_state=33)\n",
        "\n",
        "randomcv = func_classif(param_distributions, cv, scoring, estimator, n_iter)"
      ]
    },
    {
      "cell_type": "code",
      "execution_count": 20,
      "metadata": {
        "id": "rcKfZQ3uZAup"
      },
      "outputs": [],
      "source": [
        "best_params_xgboost = randomcv.best_params_"
      ]
    },
    {
      "cell_type": "code",
      "execution_count": 21,
      "metadata": {
        "colab": {
          "base_uri": "https://localhost:8080/"
        },
        "id": "139jZBnUZbdv",
        "outputId": "9fb71cb8-0538-40b2-fb3e-3d2747815604"
      },
      "outputs": [
        {
          "name": "stdout",
          "output_type": "stream",
          "text": [
            "{'n_estimators': 200, 'max_depth': 5, 'learning_rate': 0.2}\n"
          ]
        }
      ],
      "source": [
        "print(best_params_xgboost)"
      ]
    },
    {
      "cell_type": "code",
      "execution_count": 22,
      "metadata": {
        "id": "7z_Tw5XvZAup"
      },
      "outputs": [],
      "source": [
        "#{'n_estimators': 200, 'max_depth': 5, 'learning_rate': 0.2}\n",
        "# best_xgboost = XGBClassifier(learning_rate=best_params_xgboost[\"learning_rate\"],\n",
        "#                         n_estimators=best_params_xgboost[\"n_estimators\"],\n",
        "#                         max_depth=best_params_xgboost[\"max_depth\"])"
      ]
    },
    {
      "cell_type": "code",
      "execution_count": 23,
      "metadata": {
        "id": "j3tCiKzo5nCS"
      },
      "outputs": [],
      "source": [
        "best_xgboost = XGBClassifier(learning_rate=0.3,\n",
        "                        n_estimators=250,\n",
        "                        max_depth=4)"
      ]
    },
    {
      "cell_type": "code",
      "execution_count": 24,
      "metadata": {
        "id": "Y1KVpPlI6l86"
      },
      "outputs": [],
      "source": [
        "best_xgboost.fit(x_train_vec, y_train)\n",
        "\n",
        "y_pred = best_xgboost.predict(x_test_vec)"
      ]
    },
    {
      "cell_type": "code",
      "execution_count": 25,
      "metadata": {
        "colab": {
          "base_uri": "https://localhost:8080/",
          "height": 518
        },
        "id": "SnFfU-xLZAup",
        "outputId": "d0a18782-03f4-4d39-85fc-005d74d59596"
      },
      "outputs": [
        {
          "name": "stdout",
          "output_type": "stream",
          "text": [
            "F1: 0.8499593826157595\n",
            "Precision: 0.8651397387134117\n",
            "Recall: 0.8353025706530417\n",
            "Accuracy: 0.85224\n"
          ]
        },
        {
          "data": {
            "image/png": "[encoded data removed]",
            "text/plain": [
              "<Figure size 640x480 with 2 Axes>"
            ]
          },
          "metadata": {},
          "output_type": "display_data"
        }
      ],
      "source": [
        "imprimir_resultados(y_test_, y_pred)"
      ]
    },
    {
      "cell_type": "code",
      "execution_count": 26,
      "metadata": {
        "id": "YWSOE2KqZAup"
      },
      "outputs": [],
      "source": [
        "y_pred_ = best_xgboost.predict(vectorizer.transform(x_test))"
      ]
    },
    {
      "cell_type": "code",
      "execution_count": 27,
      "metadata": {
        "id": "c36mH6YX4tH2"
      },
      "outputs": [],
      "source": [
        "y_pred_ = np.where(y_pred_ == 0, \"negativo\", \"positivo\")"
      ]
    },
    {
      "cell_type": "code",
      "execution_count": 28,
      "metadata": {
        "id": "Tc-rwR4yZAup"
      },
      "outputs": [],
      "source": [
        "guardar_resultado_en_csv(y_pred_)"
      ]
    },
    {
      "cell_type": "code",
      "execution_count": 29,
      "metadata": {
        "id": "GDcjx2hI-2rE"
      },
      "outputs": [],
      "source": [
        "## Testeo"
      ]
    },
    {
      "cell_type": "code",
      "execution_count": 30,
      "metadata": {
        "colab": {
          "base_uri": "https://localhost:8080/",
          "height": 424
        },
        "collapsed": true,
        "id": "ewAY7u30_HWC",
        "outputId": "83b47bb3-3766-46d1-d3d2-1fe3e6f700e9"
      },
      "outputs": [
        {
          "data": {
            "text/html": [
              "<div>\n",
              "<style scoped>\n",
              "    .dataframe tbody tr th:only-of-type {\n",
              "        vertical-align: middle;\n",
              "    }\n",
              "\n",
              "    .dataframe tbody tr th {\n",
              "        vertical-align: top;\n",
              "    }\n",
              "\n",
              "    .dataframe thead th {\n",
              "        text-align: right;\n",
              "    }\n",
              "</style>\n",
              "<table border=\"1\" class=\"dataframe\">\n",
              "  <thead>\n",
              "    <tr style=\"text-align: right;\">\n",
              "      <th></th>\n",
              "      <th>review_es</th>\n",
              "    </tr>\n",
              "  </thead>\n",
              "  <tbody>\n",
              "    <tr>\n",
              "      <th>31809</th>\n",
              "      <td>0</td>\n",
              "    </tr>\n",
              "    <tr>\n",
              "      <th>34702</th>\n",
              "      <td>0</td>\n",
              "    </tr>\n",
              "    <tr>\n",
              "      <th>14222</th>\n",
              "      <td>0</td>\n",
              "    </tr>\n",
              "    <tr>\n",
              "      <th>26294</th>\n",
              "      <td>0</td>\n",
              "    </tr>\n",
              "    <tr>\n",
              "      <th>9876</th>\n",
              "      <td>0</td>\n",
              "    </tr>\n",
              "    <tr>\n",
              "      <th>...</th>\n",
              "      <td>...</td>\n",
              "    </tr>\n",
              "    <tr>\n",
              "      <th>36849</th>\n",
              "      <td>0</td>\n",
              "    </tr>\n",
              "    <tr>\n",
              "      <th>11987</th>\n",
              "      <td>0</td>\n",
              "    </tr>\n",
              "    <tr>\n",
              "      <th>16733</th>\n",
              "      <td>1</td>\n",
              "    </tr>\n",
              "    <tr>\n",
              "      <th>4277</th>\n",
              "      <td>1</td>\n",
              "    </tr>\n",
              "    <tr>\n",
              "      <th>40056</th>\n",
              "      <td>1</td>\n",
              "    </tr>\n",
              "  </tbody>\n",
              "</table>\n",
              "<p>25000 rows × 1 columns</p>\n",
              "</div>"
            ],
            "text/plain": [
              "       review_es\n",
              "31809          0\n",
              "34702          0\n",
              "14222          0\n",
              "26294          0\n",
              "9876           0\n",
              "...          ...\n",
              "36849          0\n",
              "11987          0\n",
              "16733          1\n",
              "4277           1\n",
              "40056          1\n",
              "\n",
              "[25000 rows x 1 columns]"
            ]
          },
          "execution_count": 30,
          "metadata": {},
          "output_type": "execute_result"
        }
      ],
      "source": [
        "pd.DataFrame(y_pred, columns=['Etiqueta_Predicha'])\n",
        "pd.DataFrame({'review_es': x_test})\n",
        "pd.DataFrame({'review_es': y_test_})\n"
      ]
    },
    {
      "cell_type": "code",
      "execution_count": 31,
      "metadata": {
        "collapsed": true,
        "id": "8f6cDGdrCjid"
      },
      "outputs": [],
      "source": [
        "a = pd.DataFrame({'review_es': x_test_})\n",
        "a.reset_index(drop=True, inplace=True)"
      ]
    },
    {
      "cell_type": "code",
      "execution_count": 32,
      "metadata": {
        "collapsed": true,
        "id": "Ug3C_jneCk6d"
      },
      "outputs": [],
      "source": [
        "b = pd.DataFrame({'sentimiento': y_test_})\n",
        "b.reset_index(drop=True, inplace=True)"
      ]
    },
    {
      "cell_type": "code",
      "execution_count": 33,
      "metadata": {
        "collapsed": true,
        "id": "ooEqCdQpClOb"
      },
      "outputs": [],
      "source": [
        "c = pd.DataFrame(y_pred, columns=['Prediccion'])\n",
        "c.reset_index(drop=True, inplace=True)"
      ]
    },
    {
      "cell_type": "code",
      "execution_count": 34,
      "metadata": {
        "id": "y1zH6CaRAeuL"
      },
      "outputs": [],
      "source": [
        "df_resultado = pd.concat([a, b, c], axis=1)"
      ]
    },
    {
      "cell_type": "code",
      "execution_count": 35,
      "metadata": {
        "id": "4Zr0lHbb_KcC"
      },
      "outputs": [],
      "source": [
        "df_resultado_filtro = df_resultado[df_resultado['sentimiento'] != df_resultado['Prediccion']]"
      ]
    },
    {
      "cell_type": "code",
      "execution_count": 36,
      "metadata": {
        "colab": {
          "base_uri": "https://localhost:8080/",
          "height": 424
        },
        "id": "3el5OsW-E8j-",
        "outputId": "c32def4f-93c2-4f31-c9f5-9091ac756b46"
      },
      "outputs": [
        {
          "data": {
            "text/html": [
              "<div>\n",
              "<style scoped>\n",
              "    .dataframe tbody tr th:only-of-type {\n",
              "        vertical-align: middle;\n",
              "    }\n",
              "\n",
              "    .dataframe tbody tr th {\n",
              "        vertical-align: top;\n",
              "    }\n",
              "\n",
              "    .dataframe thead th {\n",
              "        text-align: right;\n",
              "    }\n",
              "</style>\n",
              "<table border=\"1\" class=\"dataframe\">\n",
              "  <thead>\n",
              "    <tr style=\"text-align: right;\">\n",
              "      <th></th>\n",
              "      <th>review_es</th>\n",
              "      <th>sentimiento</th>\n",
              "      <th>Prediccion</th>\n",
              "    </tr>\n",
              "  </thead>\n",
              "  <tbody>\n",
              "    <tr>\n",
              "      <th>6</th>\n",
              "      <td>por todas las apariencias, esta serie podría h...</td>\n",
              "      <td>0</td>\n",
              "      <td>1</td>\n",
              "    </tr>\n",
              "    <tr>\n",
              "      <th>19</th>\n",
              "      <td>como no soy un gran fanático de steven seagal,...</td>\n",
              "      <td>0</td>\n",
              "      <td>1</td>\n",
              "    </tr>\n",
              "    <tr>\n",
              "      <th>32</th>\n",
              "      <td>con todo su flash técnico, lade 1993 \"stalingr...</td>\n",
              "      <td>0</td>\n",
              "      <td>1</td>\n",
              "    </tr>\n",
              "    <tr>\n",
              "      <th>48</th>\n",
              "      <td>está bien, lo diré. estame hizo reír tan fuert...</td>\n",
              "      <td>1</td>\n",
              "      <td>0</td>\n",
              "    </tr>\n",
              "    <tr>\n",
              "      <th>54</th>\n",
              "      <td>****************** spoiler *******************...</td>\n",
              "      <td>0</td>\n",
              "      <td>1</td>\n",
              "    </tr>\n",
              "    <tr>\n",
              "      <th>...</th>\n",
              "      <td>...</td>\n",
              "      <td>...</td>\n",
              "      <td>...</td>\n",
              "    </tr>\n",
              "    <tr>\n",
              "      <th>24979</th>\n",
              "      <td>el thriller desagradable y clichado tiene una ...</td>\n",
              "      <td>0</td>\n",
              "      <td>1</td>\n",
              "    </tr>\n",
              "    <tr>\n",
              "      <th>24985</th>\n",
              "      <td>vi 'engending' anoche, y soy de dos mentes en ...</td>\n",
              "      <td>1</td>\n",
              "      <td>0</td>\n",
              "    </tr>\n",
              "    <tr>\n",
              "      <th>24988</th>\n",
              "      <td>lo suficientemente decente con algunas imágene...</td>\n",
              "      <td>0</td>\n",
              "      <td>1</td>\n",
              "    </tr>\n",
              "    <tr>\n",
              "      <th>24990</th>\n",
              "      <td>vi estacomo una chica muy joven (ahora tengo 2...</td>\n",
              "      <td>0</td>\n",
              "      <td>1</td>\n",
              "    </tr>\n",
              "    <tr>\n",
              "      <th>24991</th>\n",
              "      <td>someone on these boards has predicated that th...</td>\n",
              "      <td>1</td>\n",
              "      <td>0</td>\n",
              "    </tr>\n",
              "  </tbody>\n",
              "</table>\n",
              "<p>3694 rows × 3 columns</p>\n",
              "</div>"
            ],
            "text/plain": [
              "                                               review_es  sentimiento  \\\n",
              "6      por todas las apariencias, esta serie podría h...            0   \n",
              "19     como no soy un gran fanático de steven seagal,...            0   \n",
              "32     con todo su flash técnico, lade 1993 \"stalingr...            0   \n",
              "48     está bien, lo diré. estame hizo reír tan fuert...            1   \n",
              "54     ****************** spoiler *******************...            0   \n",
              "...                                                  ...          ...   \n",
              "24979  el thriller desagradable y clichado tiene una ...            0   \n",
              "24985  vi 'engending' anoche, y soy de dos mentes en ...            1   \n",
              "24988  lo suficientemente decente con algunas imágene...            0   \n",
              "24990  vi estacomo una chica muy joven (ahora tengo 2...            0   \n",
              "24991  someone on these boards has predicated that th...            1   \n",
              "\n",
              "       Prediccion  \n",
              "6               1  \n",
              "19              1  \n",
              "32              1  \n",
              "48              0  \n",
              "54              1  \n",
              "...           ...  \n",
              "24979           1  \n",
              "24985           0  \n",
              "24988           1  \n",
              "24990           1  \n",
              "24991           0  \n",
              "\n",
              "[3694 rows x 3 columns]"
            ]
          },
          "execution_count": 36,
          "metadata": {},
          "output_type": "execute_result"
        }
      ],
      "source": [
        "df_resultado_filtro"
      ]
    }
  ],
  "metadata": {
    "colab": {
      "provenance": []
    },
    "kernelspec": {
      "display_name": "Python 3",
      "language": "python",
      "name": "python3"
    },
    "language_info": {
      "codemirror_mode": {
        "name": "ipython",
        "version": 3
      },
      "file_extension": ".py",
      "mimetype": "text/x-python",
      "name": "python",
      "nbconvert_exporter": "python",
      "pygments_lexer": "ipython3",
      "version": "3.12.3"
    }
  },
  "nbformat": 4,
  "nbformat_minor": 0
}
