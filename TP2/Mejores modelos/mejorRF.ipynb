{
 "cells": [
  {
   "cell_type": "code",
   "execution_count": 21,
   "metadata": {},
   "outputs": [],
   "source": [
    "import pandas as pd\n",
    "from sklearn.model_selection import train_test_split\n",
    "from sklearn.feature_extraction.text import CountVectorizer\n",
    "from funciones_aux import reemplazar_no, guardar_resultado_en_csv, imprimir_resultados, RUTA_TRAIN, RUTA_TEST"
   ]
  },
  {
   "cell_type": "code",
   "execution_count": 22,
   "metadata": {},
   "outputs": [],
   "source": [
    "df_train = pd.read_csv(RUTA_TRAIN)\n",
    "df_test = pd.read_csv(RUTA_TEST)"
   ]
  },
  {
   "cell_type": "code",
   "execution_count": 23,
   "metadata": {},
   "outputs": [],
   "source": [
    "df_train[\"sentimiento\"] = df_train[\"sentimiento\"].map({\"positivo\": 1, \"negativo\": 0})"
   ]
  },
  {
   "cell_type": "code",
   "execution_count": 24,
   "metadata": {},
   "outputs": [],
   "source": [
    "RUTA_GUARDADO = \"RF.csv\""
   ]
  },
  {
   "cell_type": "code",
   "execution_count": 25,
   "metadata": {},
   "outputs": [],
   "source": [
    "df_train = reemplazar_no(df_train)\n",
    "df_test = reemplazar_no(df_test)"
   ]
  },
  {
   "cell_type": "code",
   "execution_count": 26,
   "metadata": {},
   "outputs": [],
   "source": [
    "df_train[\"review_es\"], df_test[\"review_es\"] = df_train[\"review_es\"].str.lower(), df_test[\"review_es\"].str.lower()"
   ]
  },
  {
   "cell_type": "code",
   "execution_count": 27,
   "metadata": {},
   "outputs": [],
   "source": [
    "df_train_train, df_train_test = train_test_split(df_train, test_size=0.3, random_state=33)\n",
    "x_train, y_train, x_test_, y_test_ = df_train_train[\"review_es\"], df_train_train[\"sentimiento\"], df_train_test[\"review_es\"], df_train_test[\"sentimiento\"]"
   ]
  },
  {
   "cell_type": "code",
   "execution_count": 28,
   "metadata": {},
   "outputs": [],
   "source": [
    "x_test = df_test[\"review_es\"]"
   ]
  },
  {
   "cell_type": "code",
   "execution_count": 29,
   "metadata": {},
   "outputs": [],
   "source": [
    "vectorizer = CountVectorizer()\n",
    "x_train_vec = vectorizer.fit_transform(x_train)\n",
    "x_test_vec = vectorizer.transform(x_test_)"
   ]
  },
  {
   "cell_type": "code",
   "execution_count": 30,
   "metadata": {},
   "outputs": [],
   "source": [
    "from sklearn.ensemble import RandomForestClassifier\n",
    "from sklearn.model_selection import RandomizedSearchCV, StratifiedKFold"
   ]
  },
  {
   "cell_type": "code",
   "execution_count": 31,
   "metadata": {},
   "outputs": [],
   "source": [
    "def func_classif(param_distributions, cv, scoring, estimator, n_iter):\n",
    "  randomcv = RandomizedSearchCV(estimator=estimator,\n",
    "                                param_distributions = param_distributions,\n",
    "                                scoring=scoring,\n",
    "                                cv=cv,\n",
    "                                n_jobs = -1,\n",
    "                                n_iter=n_iter,\n",
    "                                random_state=33)\n",
    "\n",
    "  randomcv.fit(x_train_vec, y_train)\n",
    "\n",
    "  return randomcv"
   ]
  },
  {
   "cell_type": "code",
   "execution_count": 32,
   "metadata": {},
   "outputs": [],
   "source": [
    "n_iter = 5\n",
    "\n",
    "param_distributions = { \n",
    "    \"criterion\" : [\"gini\", \"entropy\", \"log_loss\"],\n",
    "    \"min_samples_leaf\" : [1, 5, 10, 20],\n",
    "    \"min_samples_split\" : [2, 4, 10, 12, 16, 20],\n",
    "    \"n_estimators\": [10, 30, 20, 40, 50, 60, 70, 80, 90, 100],\n",
    "    \"max_depth\": range(15, 51) }\n",
    "\n",
    "\n",
    "cv = StratifiedKFold(n_splits=5)\n",
    "\n",
    "scoring = \"accuracy\"\n",
    "\n",
    "estimator = RandomForestClassifier(random_state=33)\n",
    "\n",
    "randomcv = func_classif(param_distributions, cv, scoring, estimator, n_iter)"
   ]
  },
  {
   "cell_type": "code",
   "execution_count": 33,
   "metadata": {},
   "outputs": [],
   "source": [
    "best_rf = randomcv.best_estimator_"
   ]
  },
  {
   "cell_type": "code",
   "execution_count": 34,
   "metadata": {},
   "outputs": [],
   "source": [
    "best_params_rf = randomcv.best_params_"
   ]
  },
  {
   "cell_type": "code",
   "execution_count": 35,
   "metadata": {},
   "outputs": [
    {
     "data": {
      "text/plain": [
       "{'n_estimators': 90,\n",
       " 'min_samples_split': 10,\n",
       " 'min_samples_leaf': 5,\n",
       " 'max_depth': 39,\n",
       " 'criterion': 'gini'}"
      ]
     },
     "execution_count": 35,
     "metadata": {},
     "output_type": "execute_result"
    }
   ],
   "source": [
    "best_params_rf"
   ]
  },
  {
   "cell_type": "code",
   "execution_count": 36,
   "metadata": {},
   "outputs": [],
   "source": [
    "best_rf = RandomForestClassifier(\n",
    "            criterion=best_params_rf[\"criterion\"],\n",
    "            min_samples_leaf=best_params_rf[\"min_samples_leaf\"],\n",
    "            min_samples_split=best_params_rf[\"min_samples_split\"],\n",
    "            n_estimators=best_params_rf[\"n_estimators\"],\n",
    "            max_depth=best_params_rf[\"max_depth\"])"
   ]
  },
  {
   "cell_type": "code",
   "execution_count": 37,
   "metadata": {},
   "outputs": [],
   "source": [
    "best_rf.fit(x_train_vec, y_train)\n",
    "\n",
    "y_pred = best_rf.predict(x_test_vec)"
   ]
  },
  {
   "cell_type": "code",
   "execution_count": 38,
   "metadata": {},
   "outputs": [
    {
     "name": "stdout",
     "output_type": "stream",
     "text": [
      "F1: 0.8298620883760203\n",
      "Precision: 0.8461759219400201\n",
      "Recall: 0.8141654010769018\n",
      "Accuracy: 0.8327222414389485\n"
     ]
    },
    {
     "data": {
      "image/png": "[encoded data removed]",
      "text/plain": [
       "<Figure size 640x480 with 2 Axes>"
      ]
     },
     "metadata": {},
     "output_type": "display_data"
    }
   ],
   "source": [
    "imprimir_resultados(y_test_, y_pred)"
   ]
  },
  {
   "cell_type": "code",
   "execution_count": 39,
   "metadata": {},
   "outputs": [],
   "source": [
    "y_pred_ = best_rf.predict(vectorizer.transform(x_test))"
   ]
  },
  {
   "cell_type": "code",
   "execution_count": 40,
   "metadata": {},
   "outputs": [],
   "source": [
    "guardar_resultado_en_csv(y_pred_, df_test, RUTA_GUARDADO)"
   ]
  }
 ],
 "metadata": {
  "kernelspec": {
   "display_name": "Python 3",
   "language": "python",
   "name": "python3"
  },
  "language_info": {
   "codemirror_mode": {
    "name": "ipython",
    "version": 3
   },
   "file_extension": ".py",
   "mimetype": "text/x-python",
   "name": "python",
   "nbconvert_exporter": "python",
   "pygments_lexer": "ipython3",
   "version": "3.12.3"
  }
 },
 "nbformat": 4,
 "nbformat_minor": 2
}
