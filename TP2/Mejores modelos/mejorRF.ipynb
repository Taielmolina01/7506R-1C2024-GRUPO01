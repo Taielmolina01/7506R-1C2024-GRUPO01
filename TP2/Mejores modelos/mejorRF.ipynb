{
 "cells": [
  {
   "cell_type": "code",
   "execution_count": 112,
   "metadata": {},
   "outputs": [],
   "source": [
    "import pandas as pd\n",
    "import nltk\n",
    "import numpy as np\n",
    "import seaborn as sns\n",
    "import matplotlib as plt\n",
    "from nltk.tokenize import word_tokenize\n",
    "from sklearn.model_selection import train_test_split\n",
    "from sklearn.feature_extraction.text import CountVectorizer\n",
    "from sklearn.naive_bayes import MultinomialNB, BernoulliNB\n",
    "from nltk.corpus import stopwords\n",
    "from sklearn.metrics import ConfusionMatrixDisplay, confusion_matrix, f1_score, precision_score, recall_score, accuracy_score"
   ]
  },
  {
   "cell_type": "code",
   "execution_count": 113,
   "metadata": {},
   "outputs": [],
   "source": [
    "df_train = pd.read_csv(\"../train.csv\")\n",
    "df_test = pd.read_csv(\"../test.csv\")"
   ]
  },
  {
   "cell_type": "code",
   "execution_count": 114,
   "metadata": {},
   "outputs": [],
   "source": [
    "RUTA_GUARDADO = \"RF.csv\""
   ]
  },
  {
   "cell_type": "code",
   "execution_count": 115,
   "metadata": {},
   "outputs": [],
   "source": [
    "df_train[\"sentimiento\"] = df_train[\"sentimiento\"].map({\"positivo\": 1, \"negativo\": 0})"
   ]
  },
  {
   "cell_type": "code",
   "execution_count": 116,
   "metadata": {},
   "outputs": [],
   "source": [
    "def reemplazar_no(df):\n",
    "    def reemplazo(texto):\n",
    "        if isinstance(texto, str):\n",
    "            return texto.replace(\" película \", \"\")\n",
    "        return texto\n",
    "\n",
    "    for col in df.select_dtypes(include=['object']).columns:\n",
    "        df[col] = df[col].apply(reemplazo)\n",
    "\n",
    "    return df"
   ]
  },
  {
   "cell_type": "code",
   "execution_count": 117,
   "metadata": {},
   "outputs": [],
   "source": [
    "df_train = reemplazar_no(df_train)\n",
    "df_test = reemplazar_no(df_test)"
   ]
  },
  {
   "cell_type": "code",
   "execution_count": 118,
   "metadata": {},
   "outputs": [],
   "source": [
    "def normalizar_texto(df, columna):\n",
    "    reemplazos = {\"á\": \"a\", \"é\": \"e\", \"í\": \"i\", \"ó\": \"o\", \"ú\": \"u\"}\n",
    "    df[columna] = df[columna].str.lower()\n",
    "    for clave, valor in reemplazos.items():\n",
    "        df[columna] = df[columna].str.replace(clave, valor)\n",
    "    return df[columna]"
   ]
  },
  {
   "cell_type": "code",
   "execution_count": 119,
   "metadata": {},
   "outputs": [],
   "source": [
    "def imprimir_resultados(y, y_pred):\n",
    "\n",
    "    labels = [0, 1]\n",
    "\n",
    "    f1 = f1_score(y, y_pred, pos_label=1, labels=labels)\n",
    "    precision = precision_score(y, y_pred, pos_label=1, labels=labels)\n",
    "    recall = recall_score(y, y_pred, pos_label=1, labels=labels)\n",
    "    accuracy = accuracy_score(y, y_pred)\n",
    "\n",
    "    cm = confusion_matrix(y_test_, y_pred)\n",
    "\n",
    "    ConfusionMatrixDisplay(confusion_matrix=cm).plot()\n",
    "\n",
    "    print(f\"F1: {f1}\")\n",
    "    print(f\"Precision: {precision}\")\n",
    "    print(f\"Recall: {recall}\")\n",
    "    print(f\"Accuracy: {accuracy}\")"
   ]
  },
  {
   "cell_type": "code",
   "execution_count": 120,
   "metadata": {},
   "outputs": [],
   "source": [
    "def guardar_resultado_en_csv(prediccion):\n",
    "\n",
    "    f = lambda e: \"positivo\" if e == 1 else \"negativo\"\n",
    "    f = np.vectorize(f)\n",
    "    prediccion = f(prediccion)\n",
    "\n",
    "    df_predicciones = pd.DataFrame({\"ID\": df_test[\"ID\"], \"prediccion\": prediccion})\n",
    "\n",
    "    df_predicciones.to_csv(RUTA_GUARDADO, header=[\"ID\", \"sentimiento\"], index=False)"
   ]
  },
  {
   "cell_type": "code",
   "execution_count": 121,
   "metadata": {},
   "outputs": [],
   "source": [
    "df_train[\"review_es\"], df_test[\"review_es\"] = df_train[\"review_es\"].str.lower(), df_test[\"review_es\"].str.lower()"
   ]
  },
  {
   "cell_type": "code",
   "execution_count": 122,
   "metadata": {},
   "outputs": [],
   "source": [
    "df_train_train, df_train_test = train_test_split(df_train, test_size=0.3, random_state=33)\n",
    "x_train, y_train, x_test_, y_test_ = df_train_train[\"review_es\"], df_train_train[\"sentimiento\"], df_train_test[\"review_es\"], df_train_test[\"sentimiento\"]"
   ]
  },
  {
   "cell_type": "code",
   "execution_count": 123,
   "metadata": {},
   "outputs": [],
   "source": [
    "x_test = df_test[\"review_es\"]"
   ]
  },
  {
   "cell_type": "code",
   "execution_count": 124,
   "metadata": {},
   "outputs": [],
   "source": [
    "vectorizer = CountVectorizer()\n",
    "x_train_vec = vectorizer.fit_transform(x_train)\n",
    "x_test_vec = vectorizer.transform(x_test_)"
   ]
  },
  {
   "cell_type": "code",
   "execution_count": 125,
   "metadata": {},
   "outputs": [],
   "source": [
    "from sklearn.ensemble import RandomForestClassifier\n",
    "from sklearn.model_selection import RandomizedSearchCV, StratifiedKFold"
   ]
  },
  {
   "cell_type": "code",
   "execution_count": 126,
   "metadata": {},
   "outputs": [],
   "source": [
    "def func_classif(param_distributions, cv, scoring, estimator, n_iter):\n",
    "  randomcv = RandomizedSearchCV(estimator=estimator,\n",
    "                                param_distributions = param_distributions,\n",
    "                                scoring=scoring,\n",
    "                                cv=cv,\n",
    "                                n_jobs = -1,\n",
    "                                n_iter=n_iter,\n",
    "                                random_state=33)\n",
    "\n",
    "  randomcv.fit(x_train_vec, y_train)\n",
    "\n",
    "  return randomcv"
   ]
  },
  {
   "cell_type": "code",
   "execution_count": 127,
   "metadata": {},
   "outputs": [],
   "source": [
    "n_iter = 5\n",
    "\n",
    "param_distributions = { \n",
    "    \"criterion\" : [\"gini\", \"entropy\", \"log_loss\"],\n",
    "    \"min_samples_leaf\" : [1, 5, 10, 20],\n",
    "    \"min_samples_split\" : [2, 4, 10, 12, 16, 20],\n",
    "    \"n_estimators\": [10, 30, 20, 40, 50, 60, 70, 80, 90, 100],\n",
    "    \"max_depth\": range(15, 51) }\n",
    "\n",
    "\n",
    "cv = StratifiedKFold(n_splits=5)\n",
    "\n",
    "scoring = \"accuracy\"\n",
    "\n",
    "estimator = RandomForestClassifier(random_state=33)\n",
    "\n",
    "randomcv = func_classif(param_distributions, cv, scoring, estimator, n_iter)"
   ]
  },
  {
   "cell_type": "code",
   "execution_count": 128,
   "metadata": {},
   "outputs": [],
   "source": [
    "best_rf = randomcv.best_estimator_"
   ]
  },
  {
   "cell_type": "code",
   "execution_count": 129,
   "metadata": {},
   "outputs": [],
   "source": [
    "best_params_rf = randomcv.best_params_"
   ]
  },
  {
   "cell_type": "code",
   "execution_count": 130,
   "metadata": {},
   "outputs": [],
   "source": [
    "best_rf = RandomForestClassifier(\n",
    "            criterion=best_params_rf[\"criterion\"],\n",
    "            min_samples_leaf=best_params_rf[\"min_samples_leaf\"],\n",
    "            min_samples_split=best_params_rf[\"min_samples_split\"],\n",
    "            n_estimators=best_params_rf[\"n_estimators\"],\n",
    "            max_depth=best_params_rf[\"max_depth\"])"
   ]
  },
  {
   "cell_type": "code",
   "execution_count": 131,
   "metadata": {},
   "outputs": [],
   "source": [
    "best_rf.fit(x_train_vec, y_train)\n",
    "\n",
    "y_pred = best_rf.predict(x_test_vec)"
   ]
  },
  {
   "cell_type": "code",
   "execution_count": 132,
   "metadata": {},
   "outputs": [
    {
     "name": "stdout",
     "output_type": "stream",
     "text": [
      "F1: 0.839126181936746\n",
      "Precision: 0.8174310761021472\n",
      "Recall: 0.8620042872454448\n",
      "Accuracy: 0.8355333333333334\n"
     ]
    },
    {
     "data": {
      "image/png": "[encoded data removed]",
      "text/plain": [
       "<Figure size 640x480 with 2 Axes>"
      ]
     },
     "metadata": {},
     "output_type": "display_data"
    }
   ],
   "source": [
    "imprimir_resultados(y_test_, y_pred)"
   ]
  },
  {
   "cell_type": "code",
   "execution_count": 133,
   "metadata": {},
   "outputs": [],
   "source": [
    "y_pred_ = best_rf.predict(vectorizer.transform(x_test))"
   ]
  },
  {
   "cell_type": "code",
   "execution_count": 134,
   "metadata": {},
   "outputs": [],
   "source": [
    "guardar_resultado_en_csv(y_pred_)"
   ]
  }
 ],
 "metadata": {
  "kernelspec": {
   "display_name": "Python 3",
   "language": "python",
   "name": "python3"
  },
  "language_info": {
   "codemirror_mode": {
    "name": "ipython",
    "version": 3
   },
   "file_extension": ".py",
   "mimetype": "text/x-python",
   "name": "python",
   "nbconvert_exporter": "python",
   "pygments_lexer": "ipython3",
   "version": "3.12.3"
  }
 },
 "nbformat": 4,
 "nbformat_minor": 2
}
