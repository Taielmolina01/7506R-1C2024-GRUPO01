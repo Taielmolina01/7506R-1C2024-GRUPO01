{
  "cells": [
    {
      "cell_type": "code",
      "source": [
        "import pandas as pd\n",
        "import nltk\n",
        "import numpy as np\n",
        "import seaborn as sns\n",
        "import matplotlib as plt\n",
        "from nltk.tokenize import word_tokenize\n",
        "from sklearn.model_selection import train_test_split\n",
        "from sklearn.feature_extraction.text import CountVectorizer\n",
        "from sklearn.naive_bayes import MultinomialNB, BernoulliNB\n",
        "from nltk.corpus import stopwords\n",
        "from xgboost import XGBClassifier\n",
        "from sklearn.ensemble import RandomForestClassifier\n",
        "from sklearn.model_selection import RandomizedSearchCV, StratifiedKFold"
      ],
      "metadata": {
        "id": "NJzt3H39iMgT"
      },
      "execution_count": 143,
      "outputs": []
    },
    {
      "cell_type": "code",
      "source": [
        "from google.colab import drive\n",
        "drive.mount('/content/drive')"
      ],
      "metadata": {
        "colab": {
          "base_uri": "https://localhost:8080/"
        },
        "id": "bcIW4wRk1-Nd",
        "outputId": "cc6d3683-1727-42d5-d62d-751416402c36"
      },
      "execution_count": 144,
      "outputs": [
        {
          "output_type": "stream",
          "name": "stdout",
          "text": [
            "Drive already mounted at /content/drive; to attempt to forcibly remount, call drive.mount(\"/content/drive\", force_remount=True).\n"
          ]
        }
      ]
    },
    {
      "cell_type": "code",
      "execution_count": 145,
      "metadata": {
        "id": "aOmheHo6ZAuk"
      },
      "outputs": [],
      "source": [
        "df_train = pd.read_csv(\"drive/MyDrive/train.csv\")\n",
        "\n",
        "# df_train = df_train.sample(frac=1, random_state=42)\n",
        "\n",
        "\n",
        "df_test = pd.read_csv(\"drive/MyDrive/test.csv\")\n",
        "\n",
        "df_train['sentimiento'] = df_train['sentimiento'].map({'positivo': 1, 'negativo': 0})"
      ]
    },
    {
      "cell_type": "code",
      "execution_count": 146,
      "metadata": {
        "id": "6SzVwyVlZAul"
      },
      "outputs": [],
      "source": [
        "RUTA_GUARDADO = \"RED.csv\""
      ]
    },
    {
      "cell_type": "code",
      "source": [
        "def remove_in_words(lista_textos):\n",
        "  texto_total = []\n",
        "  # for parrafos in lista_textos:\n",
        "  #   parrafo = []\n",
        "  #   # for palabra in parrafos.split():\n",
        "  #   #   palabras = []\n",
        "  #   #   fo\n",
        "\n",
        "  #   parrafo = ' '.join(parrafo)\n",
        "  #   texto_total.append(parrafo)\n",
        "  return texto_total"
      ],
      "metadata": {
        "id": "m4p-bIxFgtjJ"
      },
      "execution_count": 147,
      "outputs": []
    },
    {
      "cell_type": "code",
      "source": [
        "def pre_process(lista_corpus):\n",
        "  return lista_corpus\n"
      ],
      "metadata": {
        "id": "zgdkTAGQhSU_"
      },
      "execution_count": 148,
      "outputs": []
    },
    {
      "cell_type": "code",
      "source": [
        "texto = [\"ho with the standnard compression stocking, 20-30, stock #123456. Excelent supoort,\"]"
      ],
      "metadata": {
        "id": "LtzoybRChmq2"
      },
      "execution_count": 149,
      "outputs": []
    },
    {
      "cell_type": "code",
      "source": [
        "print(texto)\n",
        "print(\"---\")\n",
        "texto_limpio = remove_in_words(texto)\n",
        "print(texto_limpio)\n",
        "print(\"---\")\n",
        "texto_limpio = pre_process(texto)\n",
        "print(texto_limpio)\n",
        "print(\"---\")\n"
      ],
      "metadata": {
        "colab": {
          "base_uri": "https://localhost:8080/"
        },
        "id": "7IjnWLz3huNV",
        "outputId": "ecc1927c-2305-49ba-d038-3319b6dc6840"
      },
      "execution_count": 150,
      "outputs": [
        {
          "output_type": "stream",
          "name": "stdout",
          "text": [
            "['ho with the standnard compression stocking, 20-30, stock #123456. Excelent supoort,']\n",
            "---\n",
            "[]\n",
            "---\n",
            "['ho with the standnard compression stocking, 20-30, stock #123456. Excelent supoort,']\n",
            "---\n"
          ]
        }
      ]
    },
    {
      "cell_type": "code",
      "source": [
        "df_train.head(5)"
      ],
      "metadata": {
        "colab": {
          "base_uri": "https://localhost:8080/",
          "height": 206
        },
        "id": "0RMoUtPtisKm",
        "outputId": "4ea9b77a-9dc5-475a-9dd7-c9bfda91784c"
      },
      "execution_count": 151,
      "outputs": [
        {
          "output_type": "execute_result",
          "data": {
            "text/plain": [
              "   ID                                          review_es  sentimiento\n",
              "0   0  Uno de los otros críticos ha mencionado que de...            1\n",
              "1   1  Una pequeña pequeña producción.La técnica de f...            1\n",
              "2   2  Pensé que esta era una manera maravillosa de p...            1\n",
              "3   3  Básicamente, hay una familia donde un niño peq...            0\n",
              "4   4  El \"amor en el tiempo\" de Petter Mattei es una...            1"
            ],
            "text/html": [
              "\n",
              "  <div id=\"df-b1de4f04-d099-4067-88ff-db93539b270d\" class=\"colab-df-container\">\n",
              "    <div>\n",
              "<style scoped>\n",
              "    .dataframe tbody tr th:only-of-type {\n",
              "        vertical-align: middle;\n",
              "    }\n",
              "\n",
              "    .dataframe tbody tr th {\n",
              "        vertical-align: top;\n",
              "    }\n",
              "\n",
              "    .dataframe thead th {\n",
              "        text-align: right;\n",
              "    }\n",
              "</style>\n",
              "<table border=\"1\" class=\"dataframe\">\n",
              "  <thead>\n",
              "    <tr style=\"text-align: right;\">\n",
              "      <th></th>\n",
              "      <th>ID</th>\n",
              "      <th>review_es</th>\n",
              "      <th>sentimiento</th>\n",
              "    </tr>\n",
              "  </thead>\n",
              "  <tbody>\n",
              "    <tr>\n",
              "      <th>0</th>\n",
              "      <td>0</td>\n",
              "      <td>Uno de los otros críticos ha mencionado que de...</td>\n",
              "      <td>1</td>\n",
              "    </tr>\n",
              "    <tr>\n",
              "      <th>1</th>\n",
              "      <td>1</td>\n",
              "      <td>Una pequeña pequeña producción.La técnica de f...</td>\n",
              "      <td>1</td>\n",
              "    </tr>\n",
              "    <tr>\n",
              "      <th>2</th>\n",
              "      <td>2</td>\n",
              "      <td>Pensé que esta era una manera maravillosa de p...</td>\n",
              "      <td>1</td>\n",
              "    </tr>\n",
              "    <tr>\n",
              "      <th>3</th>\n",
              "      <td>3</td>\n",
              "      <td>Básicamente, hay una familia donde un niño peq...</td>\n",
              "      <td>0</td>\n",
              "    </tr>\n",
              "    <tr>\n",
              "      <th>4</th>\n",
              "      <td>4</td>\n",
              "      <td>El \"amor en el tiempo\" de Petter Mattei es una...</td>\n",
              "      <td>1</td>\n",
              "    </tr>\n",
              "  </tbody>\n",
              "</table>\n",
              "</div>\n",
              "    <div class=\"colab-df-buttons\">\n",
              "\n",
              "  <div class=\"colab-df-container\">\n",
              "    <button class=\"colab-df-convert\" onclick=\"convertToInteractive('df-b1de4f04-d099-4067-88ff-db93539b270d')\"\n",
              "            title=\"Convert this dataframe to an interactive table.\"\n",
              "            style=\"display:none;\">\n",
              "\n",
              "  <svg xmlns=\"http://www.w3.org/2000/svg\" height=\"24px\" viewBox=\"0 -960 960 960\">\n",
              "    <path d=\"M120-120v-720h720v720H120Zm60-500h600v-160H180v160Zm220 220h160v-160H400v160Zm0 220h160v-160H400v160ZM180-400h160v-160H180v160Zm440 0h160v-160H620v160ZM180-180h160v-160H180v160Zm440 0h160v-160H620v160Z\"/>\n",
              "  </svg>\n",
              "    </button>\n",
              "\n",
              "  <style>\n",
              "    .colab-df-container {\n",
              "      display:flex;\n",
              "      gap: 12px;\n",
              "    }\n",
              "\n",
              "    .colab-df-convert {\n",
              "      background-color: #E8F0FE;\n",
              "      border: none;\n",
              "      border-radius: 50%;\n",
              "      cursor: pointer;\n",
              "      display: none;\n",
              "      fill: #1967D2;\n",
              "      height: 32px;\n",
              "      padding: 0 0 0 0;\n",
              "      width: 32px;\n",
              "    }\n",
              "\n",
              "    .colab-df-convert:hover {\n",
              "      background-color: #E2EBFA;\n",
              "      box-shadow: 0px 1px 2px rgba(60, 64, 67, 0.3), 0px 1px 3px 1px rgba(60, 64, 67, 0.15);\n",
              "      fill: #174EA6;\n",
              "    }\n",
              "\n",
              "    .colab-df-buttons div {\n",
              "      margin-bottom: 4px;\n",
              "    }\n",
              "\n",
              "    [theme=dark] .colab-df-convert {\n",
              "      background-color: #3B4455;\n",
              "      fill: #D2E3FC;\n",
              "    }\n",
              "\n",
              "    [theme=dark] .colab-df-convert:hover {\n",
              "      background-color: #434B5C;\n",
              "      box-shadow: 0px 1px 3px 1px rgba(0, 0, 0, 0.15);\n",
              "      filter: drop-shadow(0px 1px 2px rgba(0, 0, 0, 0.3));\n",
              "      fill: #FFFFFF;\n",
              "    }\n",
              "  </style>\n",
              "\n",
              "    <script>\n",
              "      const buttonEl =\n",
              "        document.querySelector('#df-b1de4f04-d099-4067-88ff-db93539b270d button.colab-df-convert');\n",
              "      buttonEl.style.display =\n",
              "        google.colab.kernel.accessAllowed ? 'block' : 'none';\n",
              "\n",
              "      async function convertToInteractive(key) {\n",
              "        const element = document.querySelector('#df-b1de4f04-d099-4067-88ff-db93539b270d');\n",
              "        const dataTable =\n",
              "          await google.colab.kernel.invokeFunction('convertToInteractive',\n",
              "                                                    [key], {});\n",
              "        if (!dataTable) return;\n",
              "\n",
              "        const docLinkHtml = 'Like what you see? Visit the ' +\n",
              "          '<a target=\"_blank\" href=https://colab.research.google.com/notebooks/data_table.ipynb>data table notebook</a>'\n",
              "          + ' to learn more about interactive tables.';\n",
              "        element.innerHTML = '';\n",
              "        dataTable['output_type'] = 'display_data';\n",
              "        await google.colab.output.renderOutput(dataTable, element);\n",
              "        const docLink = document.createElement('div');\n",
              "        docLink.innerHTML = docLinkHtml;\n",
              "        element.appendChild(docLink);\n",
              "      }\n",
              "    </script>\n",
              "  </div>\n",
              "\n",
              "\n",
              "<div id=\"df-22b53518-ad1a-4aa2-83ae-9cbf276856f7\">\n",
              "  <button class=\"colab-df-quickchart\" onclick=\"quickchart('df-22b53518-ad1a-4aa2-83ae-9cbf276856f7')\"\n",
              "            title=\"Suggest charts\"\n",
              "            style=\"display:none;\">\n",
              "\n",
              "<svg xmlns=\"http://www.w3.org/2000/svg\" height=\"24px\"viewBox=\"0 0 24 24\"\n",
              "     width=\"24px\">\n",
              "    <g>\n",
              "        <path d=\"M19 3H5c-1.1 0-2 .9-2 2v14c0 1.1.9 2 2 2h14c1.1 0 2-.9 2-2V5c0-1.1-.9-2-2-2zM9 17H7v-7h2v7zm4 0h-2V7h2v10zm4 0h-2v-4h2v4z\"/>\n",
              "    </g>\n",
              "</svg>\n",
              "  </button>\n",
              "\n",
              "<style>\n",
              "  .colab-df-quickchart {\n",
              "      --bg-color: #E8F0FE;\n",
              "      --fill-color: #1967D2;\n",
              "      --hover-bg-color: #E2EBFA;\n",
              "      --hover-fill-color: #174EA6;\n",
              "      --disabled-fill-color: #AAA;\n",
              "      --disabled-bg-color: #DDD;\n",
              "  }\n",
              "\n",
              "  [theme=dark] .colab-df-quickchart {\n",
              "      --bg-color: #3B4455;\n",
              "      --fill-color: #D2E3FC;\n",
              "      --hover-bg-color: #434B5C;\n",
              "      --hover-fill-color: #FFFFFF;\n",
              "      --disabled-bg-color: #3B4455;\n",
              "      --disabled-fill-color: #666;\n",
              "  }\n",
              "\n",
              "  .colab-df-quickchart {\n",
              "    background-color: var(--bg-color);\n",
              "    border: none;\n",
              "    border-radius: 50%;\n",
              "    cursor: pointer;\n",
              "    display: none;\n",
              "    fill: var(--fill-color);\n",
              "    height: 32px;\n",
              "    padding: 0;\n",
              "    width: 32px;\n",
              "  }\n",
              "\n",
              "  .colab-df-quickchart:hover {\n",
              "    background-color: var(--hover-bg-color);\n",
              "    box-shadow: 0 1px 2px rgba(60, 64, 67, 0.3), 0 1px 3px 1px rgba(60, 64, 67, 0.15);\n",
              "    fill: var(--button-hover-fill-color);\n",
              "  }\n",
              "\n",
              "  .colab-df-quickchart-complete:disabled,\n",
              "  .colab-df-quickchart-complete:disabled:hover {\n",
              "    background-color: var(--disabled-bg-color);\n",
              "    fill: var(--disabled-fill-color);\n",
              "    box-shadow: none;\n",
              "  }\n",
              "\n",
              "  .colab-df-spinner {\n",
              "    border: 2px solid var(--fill-color);\n",
              "    border-color: transparent;\n",
              "    border-bottom-color: var(--fill-color);\n",
              "    animation:\n",
              "      spin 1s steps(1) infinite;\n",
              "  }\n",
              "\n",
              "  @keyframes spin {\n",
              "    0% {\n",
              "      border-color: transparent;\n",
              "      border-bottom-color: var(--fill-color);\n",
              "      border-left-color: var(--fill-color);\n",
              "    }\n",
              "    20% {\n",
              "      border-color: transparent;\n",
              "      border-left-color: var(--fill-color);\n",
              "      border-top-color: var(--fill-color);\n",
              "    }\n",
              "    30% {\n",
              "      border-color: transparent;\n",
              "      border-left-color: var(--fill-color);\n",
              "      border-top-color: var(--fill-color);\n",
              "      border-right-color: var(--fill-color);\n",
              "    }\n",
              "    40% {\n",
              "      border-color: transparent;\n",
              "      border-right-color: var(--fill-color);\n",
              "      border-top-color: var(--fill-color);\n",
              "    }\n",
              "    60% {\n",
              "      border-color: transparent;\n",
              "      border-right-color: var(--fill-color);\n",
              "    }\n",
              "    80% {\n",
              "      border-color: transparent;\n",
              "      border-right-color: var(--fill-color);\n",
              "      border-bottom-color: var(--fill-color);\n",
              "    }\n",
              "    90% {\n",
              "      border-color: transparent;\n",
              "      border-bottom-color: var(--fill-color);\n",
              "    }\n",
              "  }\n",
              "</style>\n",
              "\n",
              "  <script>\n",
              "    async function quickchart(key) {\n",
              "      const quickchartButtonEl =\n",
              "        document.querySelector('#' + key + ' button');\n",
              "      quickchartButtonEl.disabled = true;  // To prevent multiple clicks.\n",
              "      quickchartButtonEl.classList.add('colab-df-spinner');\n",
              "      try {\n",
              "        const charts = await google.colab.kernel.invokeFunction(\n",
              "            'suggestCharts', [key], {});\n",
              "      } catch (error) {\n",
              "        console.error('Error during call to suggestCharts:', error);\n",
              "      }\n",
              "      quickchartButtonEl.classList.remove('colab-df-spinner');\n",
              "      quickchartButtonEl.classList.add('colab-df-quickchart-complete');\n",
              "    }\n",
              "    (() => {\n",
              "      let quickchartButtonEl =\n",
              "        document.querySelector('#df-22b53518-ad1a-4aa2-83ae-9cbf276856f7 button');\n",
              "      quickchartButtonEl.style.display =\n",
              "        google.colab.kernel.accessAllowed ? 'block' : 'none';\n",
              "    })();\n",
              "  </script>\n",
              "</div>\n",
              "\n",
              "    </div>\n",
              "  </div>\n"
            ],
            "application/vnd.google.colaboratory.intrinsic+json": {
              "type": "dataframe",
              "variable_name": "df_train",
              "summary": "{\n  \"name\": \"df_train\",\n  \"rows\": 50000,\n  \"fields\": [\n    {\n      \"column\": \"ID\",\n      \"properties\": {\n        \"dtype\": \"number\",\n        \"std\": 14433,\n        \"min\": 0,\n        \"max\": 49999,\n        \"num_unique_values\": 50000,\n        \"samples\": [\n          33553,\n          9427,\n          199\n        ],\n        \"semantic_type\": \"\",\n        \"description\": \"\"\n      }\n    },\n    {\n      \"column\": \"review_es\",\n      \"properties\": {\n        \"dtype\": \"string\",\n        \"num_unique_values\": 49599,\n        \"samples\": [\n          \"Dos a\\u00f1os despu\\u00e9s del \\u00e9xito de 'avi\\u00f3n', Jim Abrahams y Jerry y David Zucker crearon esta brillante comedia protagonizada por la Gran Leslie Nielsen, ya que el detective video simple 'Frank Drebin'. Tambi\\u00e9n en el elenco fue Alan North como 'Capit\\u00e1n Ed Hocken', Ed Williams como 'Ted Olsen' y William Duell como 'Johnny The Shoe Shine Boy'. '\\u00a1Escuadr\\u00f3n de la polic\\u00eda!' Destac\\u00f3 chistes sin verg\\u00fcenza y gags visuales inteligentes jugando en el fondo. Cada episodio concluir\\u00eda con un marco de congelaci\\u00f3n simulado en el que los caracteres en el marco se encuentran completamente quietos. \\u00a1Una de las mejores secuencias de 'congelamiento' de 'congelamiento' vieron a uno de los personajes que vierte caf\\u00e9 en una taza mientras est\\u00e1 de pie, lo que hace que la taza se desborde! Las estrellas invitadas fueron asesinadas en los t\\u00edtulos de apertura, \\u00a1uno incluido Georg Stanford Brown siendo aplastado por una caja fuerte! A pesar de obtener revisiones positivas y mucho cr\\u00edtico, '\\u00a1Escuadr\\u00f3n!' Solo dur\\u00f3 seis episodios antes de ser cancelados. Esto no signific\\u00f3 que el final, sin embargo, cinco a\\u00f1os despu\\u00e9s, el espect\\u00e1culo se transfiri\\u00f3 a la pantalla grande para la primera en la trilog\\u00eda de las pel\\u00edculas \\\"desnudas de la pistola\\\".\",\n          \"He le\\u00eddo los comentarios de KERCHING ON IMDB, y francamente, no he visto una revisi\\u00f3n positiva, hasta ahora.En realidad me gusta a Kerching.Kerching es sobre un adolescente llamado Taj Lewis, para hacer \\u00a3 1,000,000 para su madre, establece un sitio web llamado Rudeboy.El sitio web ofrece muchas cosas interesantes, aunque solo TAJ, y sus 2 amigos, Danny y Seymour pueden evitar que TAJ se exponga.Encuentro este espect\\u00e1culo bastante divertido y me gusta verlo.La actuaci\\u00f3n es O.K., pero definitivamente puede ser mejor, los personajes son divertidos, especialmente a Danny Spooner, el amigo de Taj, su estupidez es lo que lo hace divertido.y el otro amigo de Taj seymour.Tambi\\u00e9n Carlton, el due\\u00f1o de la cafeter\\u00eda llamada \\\"El fr\\u00edo\\\".Nunca lo vemos, solo lo escuchamos.El hermano menor de Taj, Omar, y su hermana mayor, Missy tambi\\u00e9n es divertida.Y la mejor amiga de Missy Kareesha.Muchas veces, Taj's casi se ha expuesto, casi.Adem\\u00e1s de la comedia, el drama en kerching, como la vida del amor y la p\\u00e9rdida de seres queridos hace que este programa sea excelente.\",\n          \"Una historia sobre el amor y el odio, la tragedia y la felicidad, y sobre todo, la amistad establecida en el momento muy interesante de la guerra civil estadounidense. Te interesa interesado en la historia, te involucra emocionalmente y te hace febrilmente esperar el pr\\u00f3ximo episodio., el casting era espl\\u00e9ndido.Muchas superestrellas aparecen en los camafeos cortos, los roles principales son jugados por una gran variedad de monumentos talentosos: Kirstie Alley y Terri Garber se deben mencionar aqu\\u00ed: este es simplemente un excelente ejemplo para una producci\\u00f3n de televisi\\u00f3n como deber\\u00eda ser. No se olvide de los pura.Lovelity of Wendy Kilbourne retratando constanza :-)\"\n        ],\n        \"semantic_type\": \"\",\n        \"description\": \"\"\n      }\n    },\n    {\n      \"column\": \"sentimiento\",\n      \"properties\": {\n        \"dtype\": \"number\",\n        \"std\": 0,\n        \"min\": 0,\n        \"max\": 1,\n        \"num_unique_values\": 2,\n        \"samples\": [\n          0,\n          1\n        ],\n        \"semantic_type\": \"\",\n        \"description\": \"\"\n      }\n    }\n  ]\n}"
            }
          },
          "metadata": {},
          "execution_count": 151
        }
      ]
    },
    {
      "cell_type": "code",
      "source": [
        "total_reviews = df_train['review_es'].astype(str)\n",
        "total_labels = df_train['sentimiento'].values\n",
        "\n",
        "print(total_reviews)\n",
        "print(total_labels)"
      ],
      "metadata": {
        "colab": {
          "base_uri": "https://localhost:8080/"
        },
        "id": "6HysYIY2iJIz",
        "outputId": "7ae3c28e-bc56-4b4e-8b38-d96de333d4e7"
      },
      "execution_count": 152,
      "outputs": [
        {
          "output_type": "stream",
          "name": "stdout",
          "text": [
            "0        Uno de los otros críticos ha mencionado que de...\n",
            "1        Una pequeña pequeña producción.La técnica de f...\n",
            "2        Pensé que esta era una manera maravillosa de p...\n",
            "3        Básicamente, hay una familia donde un niño peq...\n",
            "4        El \"amor en el tiempo\" de Petter Mattei es una...\n",
            "                               ...                        \n",
            "49995    Pensé que esta película hizo un buen trabajo a...\n",
            "49996    Mala parcela, mal diálogo, mala actuación, dir...\n",
            "49997    Soy católica enseñada en escuelas primarias pa...\n",
            "49998    Voy a tener que estar en desacuerdo con el com...\n",
            "49999    Nadie espera que las películas de Star Trek se...\n",
            "Name: review_es, Length: 50000, dtype: object\n",
            "[1 1 1 ... 0 0 0]\n"
          ]
        }
      ]
    },
    {
      "cell_type": "code",
      "source": [
        "import matplotlib.pyplot as plt\n",
        "\n",
        "def plot_training_history(history):\n",
        "    # Graficar la precisión del entrenamiento y la validación\n",
        "    plt.figure(figsize=(12, 4))\n",
        "\n",
        "    plt.subplot(1, 2, 1)\n",
        "    plt.plot(history.history['accuracy'], label='Entrenamiento')\n",
        "    plt.plot(history.history['val_accuracy'], label='Validación')\n",
        "    plt.title('Precisión del Modelo')\n",
        "    plt.xlabel('Épocas')\n",
        "    plt.ylabel('Precisión')\n",
        "    plt.legend()\n",
        "\n",
        "    # Graficar la pérdida del entrenamiento y la validación\n",
        "    plt.subplot(1, 2, 2)\n",
        "    plt.plot(history.history['loss'], label='Entrenamiento')\n",
        "    plt.plot(history.history['val_loss'], label='Validación')\n",
        "    plt.title('Pérdida del Modelo')\n",
        "    plt.xlabel('Épocas')\n",
        "    plt.ylabel('Pérdida')\n",
        "    plt.legend()\n",
        "\n",
        "    plt.show()\n"
      ],
      "metadata": {
        "id": "OqnlAOuzsAhH"
      },
      "execution_count": 153,
      "outputs": []
    },
    {
      "cell_type": "code",
      "source": [
        "Y_data = df_train.sentimiento"
      ],
      "metadata": {
        "id": "_9rROvsEmwEy"
      },
      "execution_count": 154,
      "outputs": []
    },
    {
      "cell_type": "code",
      "source": [
        "from tensorflow.keras.preprocessing.text import Tokenizer\n"
      ],
      "metadata": {
        "id": "0JKJiSImoifE"
      },
      "execution_count": 155,
      "outputs": []
    },
    {
      "cell_type": "code",
      "source": [
        "max_words = 5000\n",
        "max_len = 100"
      ],
      "metadata": {
        "id": "d1RFOq9zkXsu"
      },
      "execution_count": 156,
      "outputs": []
    },
    {
      "cell_type": "code",
      "source": [
        "tokenizer_obj = Tokenizer(num_words = max_words)\n",
        "tokenizer_obj.fit_on_texts(total_reviews)"
      ],
      "metadata": {
        "id": "JQDFyB-ion5C"
      },
      "execution_count": 157,
      "outputs": []
    },
    {
      "cell_type": "code",
      "source": [
        "X_data_tokens = tokenizer_obj.texts_to_sequences(total_reviews)"
      ],
      "metadata": {
        "collapsed": true,
        "id": "JXstyGwio1zl"
      },
      "execution_count": 158,
      "outputs": []
    },
    {
      "cell_type": "code",
      "source": [
        "X_data_count = tokenizer_obj.sequences_to_matrix(X_data_tokens, mode = 'count')"
      ],
      "metadata": {
        "id": "0MpgYaHKpfy-"
      },
      "execution_count": 159,
      "outputs": []
    },
    {
      "cell_type": "code",
      "source": [
        "X_train_count, X_test_count, y_train_count, y_test_count = train_test_split(X_data_count, Y_data, test_size = 0.3, random_state = 123)"
      ],
      "metadata": {
        "id": "lyr1XQ09me-G"
      },
      "execution_count": 160,
      "outputs": []
    },
    {
      "cell_type": "code",
      "source": [
        "from tensorflow.keras.models import Sequential\n",
        "from tensorflow.keras.layers import Dense"
      ],
      "metadata": {
        "id": "OcJDhAdglxGA"
      },
      "execution_count": 161,
      "outputs": []
    },
    {
      "cell_type": "code",
      "source": [
        "model_count = Sequential()\n",
        "model_count.add(Dense(100, activation='relu', input_shape=(5000,)))\n",
        "model_count.add(Dense(25, activation='relu'))\n",
        "model_count.add(Dense(1, activation='sigmoid'))\n",
        "\n",
        "\n",
        "model_count.compile(loss = \"binary_crossentropy\", optimizer = 'adam', metrics = ['accuracy'])\n",
        "\n"
      ],
      "metadata": {
        "id": "V7YYM8CHlL31"
      },
      "execution_count": 162,
      "outputs": []
    },
    {
      "cell_type": "code",
      "source": [
        "history_count = model_count.fit(X_train_count, y_train_count, batch_size = 256, epochs = 15, validation_split=0.3)\n",
        "\n"
      ],
      "metadata": {
        "colab": {
          "base_uri": "https://localhost:8080/"
        },
        "id": "pAes38XIrHK_",
        "outputId": "38d82994-95fc-4e2a-e612-ea7e618f76dd"
      },
      "execution_count": 179,
      "outputs": [
        {
          "output_type": "stream",
          "name": "stdout",
          "text": [
            "Epoch 1/15\n",
            "96/96 [==============================] - 4s 38ms/step - loss: 0.2520 - accuracy: 0.9014 - val_loss: 0.3485 - val_accuracy: 0.8651\n",
            "Epoch 2/15\n",
            "96/96 [==============================] - 3s 28ms/step - loss: 0.2060 - accuracy: 0.9229 - val_loss: 0.3745 - val_accuracy: 0.8612\n",
            "Epoch 3/15\n",
            "96/96 [==============================] - 3s 28ms/step - loss: 0.1565 - accuracy: 0.9437 - val_loss: 0.4049 - val_accuracy: 0.8596\n",
            "Epoch 4/15\n",
            "96/96 [==============================] - 3s 35ms/step - loss: 0.1000 - accuracy: 0.9678 - val_loss: 0.4526 - val_accuracy: 0.8547\n",
            "Epoch 5/15\n",
            "96/96 [==============================] - 4s 42ms/step - loss: 0.0549 - accuracy: 0.9866 - val_loss: 0.5333 - val_accuracy: 0.8562\n",
            "Epoch 6/15\n",
            "96/96 [==============================] - 3s 26ms/step - loss: 0.0243 - accuracy: 0.9960 - val_loss: 0.6188 - val_accuracy: 0.8516\n",
            "Epoch 7/15\n",
            "96/96 [==============================] - 3s 28ms/step - loss: 0.0197 - accuracy: 0.9970 - val_loss: 0.6623 - val_accuracy: 0.8553\n",
            "Epoch 8/15\n",
            "96/96 [==============================] - 3s 28ms/step - loss: 0.0085 - accuracy: 0.9984 - val_loss: 0.7295 - val_accuracy: 0.8537\n",
            "Epoch 9/15\n",
            "96/96 [==============================] - 3s 28ms/step - loss: 0.0037 - accuracy: 0.9994 - val_loss: 0.7844 - val_accuracy: 0.8527\n",
            "Epoch 10/15\n",
            "96/96 [==============================] - 4s 46ms/step - loss: 0.0017 - accuracy: 0.9999 - val_loss: 0.8252 - val_accuracy: 0.8526\n",
            "Epoch 11/15\n",
            "96/96 [==============================] - 3s 28ms/step - loss: 0.0011 - accuracy: 1.0000 - val_loss: 0.8552 - val_accuracy: 0.8530\n",
            "Epoch 12/15\n",
            "96/96 [==============================] - 2s 25ms/step - loss: 7.6744e-04 - accuracy: 1.0000 - val_loss: 0.8827 - val_accuracy: 0.8536\n",
            "Epoch 13/15\n",
            "96/96 [==============================] - 2s 25ms/step - loss: 5.9441e-04 - accuracy: 1.0000 - val_loss: 0.9072 - val_accuracy: 0.8527\n",
            "Epoch 14/15\n",
            "96/96 [==============================] - 3s 28ms/step - loss: 4.7459e-04 - accuracy: 1.0000 - val_loss: 0.9281 - val_accuracy: 0.8532\n",
            "Epoch 15/15\n",
            "96/96 [==============================] - 5s 48ms/step - loss: 3.8948e-04 - accuracy: 1.0000 - val_loss: 0.9476 - val_accuracy: 0.8530\n"
          ]
        }
      ]
    },
    {
      "cell_type": "code",
      "source": [
        "test_loss, test_acc = model_count.evaluate(X_test_count, y_test_count)\n",
        "print('')\n",
        "print(test_loss, test_acc)"
      ],
      "metadata": {
        "colab": {
          "base_uri": "https://localhost:8080/",
          "height": 373
        },
        "id": "BP4PaOoErH6e",
        "outputId": "04e55f0f-5b84-4bbb-d67f-e22cd47ea764"
      },
      "execution_count": 180,
      "outputs": [
        {
          "output_type": "error",
          "ename": "ValueError",
          "evalue": "Data cardinality is ambiguous:\n  x sizes: 8599\n  y sizes: 15000\nMake sure all arrays contain the same number of samples.",
          "traceback": [
            "\u001b[0;31m---------------------------------------------------------------------------\u001b[0m",
            "\u001b[0;31mValueError\u001b[0m                                Traceback (most recent call last)",
            "\u001b[0;32m<ipython-input-180-f9d57d50a271>\u001b[0m in \u001b[0;36m<cell line: 1>\u001b[0;34m()\u001b[0m\n\u001b[0;32m----> 1\u001b[0;31m \u001b[0mtest_loss\u001b[0m\u001b[0;34m,\u001b[0m \u001b[0mtest_acc\u001b[0m \u001b[0;34m=\u001b[0m \u001b[0mmodel_count\u001b[0m\u001b[0;34m.\u001b[0m\u001b[0mevaluate\u001b[0m\u001b[0;34m(\u001b[0m\u001b[0mX_test_count\u001b[0m\u001b[0;34m,\u001b[0m \u001b[0my_test_count\u001b[0m\u001b[0;34m)\u001b[0m\u001b[0;34m\u001b[0m\u001b[0;34m\u001b[0m\u001b[0m\n\u001b[0m\u001b[1;32m      2\u001b[0m \u001b[0mprint\u001b[0m\u001b[0;34m(\u001b[0m\u001b[0;34m''\u001b[0m\u001b[0;34m)\u001b[0m\u001b[0;34m\u001b[0m\u001b[0;34m\u001b[0m\u001b[0m\n\u001b[1;32m      3\u001b[0m \u001b[0mprint\u001b[0m\u001b[0;34m(\u001b[0m\u001b[0mtest_loss\u001b[0m\u001b[0;34m,\u001b[0m \u001b[0mtest_acc\u001b[0m\u001b[0;34m)\u001b[0m\u001b[0;34m\u001b[0m\u001b[0;34m\u001b[0m\u001b[0m\n",
            "\u001b[0;32m/usr/local/lib/python3.10/dist-packages/keras/src/utils/traceback_utils.py\u001b[0m in \u001b[0;36merror_handler\u001b[0;34m(*args, **kwargs)\u001b[0m\n\u001b[1;32m     68\u001b[0m             \u001b[0;31m# To get the full stack trace, call:\u001b[0m\u001b[0;34m\u001b[0m\u001b[0;34m\u001b[0m\u001b[0m\n\u001b[1;32m     69\u001b[0m             \u001b[0;31m# `tf.debugging.disable_traceback_filtering()`\u001b[0m\u001b[0;34m\u001b[0m\u001b[0;34m\u001b[0m\u001b[0m\n\u001b[0;32m---> 70\u001b[0;31m             \u001b[0;32mraise\u001b[0m \u001b[0me\u001b[0m\u001b[0;34m.\u001b[0m\u001b[0mwith_traceback\u001b[0m\u001b[0;34m(\u001b[0m\u001b[0mfiltered_tb\u001b[0m\u001b[0;34m)\u001b[0m \u001b[0;32mfrom\u001b[0m \u001b[0;32mNone\u001b[0m\u001b[0;34m\u001b[0m\u001b[0;34m\u001b[0m\u001b[0m\n\u001b[0m\u001b[1;32m     71\u001b[0m         \u001b[0;32mfinally\u001b[0m\u001b[0;34m:\u001b[0m\u001b[0;34m\u001b[0m\u001b[0;34m\u001b[0m\u001b[0m\n\u001b[1;32m     72\u001b[0m             \u001b[0;32mdel\u001b[0m \u001b[0mfiltered_tb\u001b[0m\u001b[0;34m\u001b[0m\u001b[0;34m\u001b[0m\u001b[0m\n",
            "\u001b[0;32m/usr/local/lib/python3.10/dist-packages/keras/src/engine/data_adapter.py\u001b[0m in \u001b[0;36m_check_data_cardinality\u001b[0;34m(data)\u001b[0m\n\u001b[1;32m   1958\u001b[0m             )\n\u001b[1;32m   1959\u001b[0m         \u001b[0mmsg\u001b[0m \u001b[0;34m+=\u001b[0m \u001b[0;34m\"Make sure all arrays contain the same number of samples.\"\u001b[0m\u001b[0;34m\u001b[0m\u001b[0;34m\u001b[0m\u001b[0m\n\u001b[0;32m-> 1960\u001b[0;31m         \u001b[0;32mraise\u001b[0m \u001b[0mValueError\u001b[0m\u001b[0;34m(\u001b[0m\u001b[0mmsg\u001b[0m\u001b[0;34m)\u001b[0m\u001b[0;34m\u001b[0m\u001b[0;34m\u001b[0m\u001b[0m\n\u001b[0m\u001b[1;32m   1961\u001b[0m \u001b[0;34m\u001b[0m\u001b[0m\n\u001b[1;32m   1962\u001b[0m \u001b[0;34m\u001b[0m\u001b[0m\n",
            "\u001b[0;31mValueError\u001b[0m: Data cardinality is ambiguous:\n  x sizes: 8599\n  y sizes: 15000\nMake sure all arrays contain the same number of samples."
          ]
        }
      ]
    },
    {
      "cell_type": "code",
      "source": [
        "plot_training_history(history_count)\n"
      ],
      "metadata": {
        "id": "9ve-5KAdsKwZ"
      },
      "execution_count": null,
      "outputs": []
    },
    {
      "cell_type": "code",
      "source": [
        "from sklearn.metrics import ConfusionMatrixDisplay, confusion_matrix, f1_score, precision_score, recall_score, accuracy_score"
      ],
      "metadata": {
        "id": "jVDBCQ1cz8jw"
      },
      "execution_count": 181,
      "outputs": []
    },
    {
      "cell_type": "code",
      "source": [
        "def imprimir_resultados(y, y_pred):\n",
        "\n",
        "    labels = [0, 1]\n",
        "\n",
        "    f1 = f1_score(y, y_pred, pos_label=0, labels=labels)\n",
        "    precision = precision_score(y, y_pred, pos_label=0, labels=labels)\n",
        "    recall = recall_score(y, y_pred, pos_label=0, labels=labels)\n",
        "    accuracy = accuracy_score(y, y_pred)\n",
        "\n",
        "    cm = confusion_matrix(y_test_, y_pred)\n",
        "\n",
        "    ConfusionMatrixDisplay(confusion_matrix=cm).plot()\n",
        "\n",
        "    print(f\"F1: {f1}\")\n",
        "    print(f\"Precision: {precision}\")\n",
        "    print(f\"Recall: {recall}\")\n",
        "    print(f\"Accuracy: {accuracy}\")"
      ],
      "metadata": {
        "id": "P8lD_1sZz5FW"
      },
      "execution_count": null,
      "outputs": []
    },
    {
      "cell_type": "code",
      "source": [
        "import numpy as np\n",
        "X_train_tokens = tokenizer_obj.texts_to_sequences(df_test[\"review_es\"])\n",
        "X_train_count = tokenizer_obj.sequences_to_matrix(X_train_tokens, mode = 'count')\n",
        "y_pred = model_count.predict(X_test_count)\n",
        "y_pred = np.round(y_pred)\n"
      ],
      "metadata": {
        "id": "0JT7OVxZ0a8O"
      },
      "execution_count": null,
      "outputs": []
    },
    {
      "cell_type": "code",
      "source": [
        "imprimir_resultados(y_train_count, y_pred)"
      ],
      "metadata": {
        "id": "a04ey3F1z36T"
      },
      "execution_count": null,
      "outputs": []
    },
    {
      "cell_type": "code",
      "source": [
        "import numpy as np\n",
        "X_test_tokens = tokenizer_obj.texts_to_sequences(df_test[\"review_es\"])\n",
        "X_test_count = tokenizer_obj.sequences_to_matrix(X_test_tokens, mode = 'count')\n",
        "y_pred = model_count.predict(X_test_count)\n",
        "y_pred = np.round(y_pred)\n"
      ],
      "metadata": {
        "colab": {
          "base_uri": "https://localhost:8080/"
        },
        "id": "S0IyViTHwmVC",
        "outputId": "0a82535f-27aa-4a3a-8bed-c22e093a99d1"
      },
      "execution_count": 167,
      "outputs": [
        {
          "output_type": "stream",
          "name": "stdout",
          "text": [
            "269/269 [==============================] - 1s 4ms/step\n"
          ]
        }
      ]
    },
    {
      "cell_type": "code",
      "source": [
        "y_pred"
      ],
      "metadata": {
        "colab": {
          "base_uri": "https://localhost:8080/"
        },
        "id": "NxaLQO7CxLR8",
        "outputId": "8e4ad1a6-4c8a-4a73-b633-e17a42eccf16"
      },
      "execution_count": 168,
      "outputs": [
        {
          "output_type": "execute_result",
          "data": {
            "text/plain": [
              "array([[0.],\n",
              "       [0.],\n",
              "       [0.],\n",
              "       ...,\n",
              "       [0.],\n",
              "       [0.],\n",
              "       [0.]], dtype=float32)"
            ]
          },
          "metadata": {},
          "execution_count": 168
        }
      ]
    },
    {
      "cell_type": "code",
      "source": [
        "y_pred = np.where(y_pred == 0, \"negativo\", \"positivo\")"
      ],
      "metadata": {
        "id": "QeNpESk5ymMl"
      },
      "execution_count": 175,
      "outputs": []
    },
    {
      "cell_type": "code",
      "source": [
        "def guardar_resultado_en_csv(prediccion):\n",
        "    # Flatten the prediccion array to 1D\n",
        "    prediccion = prediccion.flatten()\n",
        "\n",
        "    df_predicciones = pd.DataFrame({\"ID\": df_test[\"ID\"], \"prediccion\": prediccion})\n",
        "\n",
        "    df_predicciones.to_csv(RUTA_GUARDADO, header=[\"ID\", \"sentimiento\"], index=False)"
      ],
      "metadata": {
        "id": "EP6e6JXhxq52"
      },
      "execution_count": 176,
      "outputs": []
    },
    {
      "cell_type": "code",
      "source": [
        "guardar_resultado_en_csv(y_pred)"
      ],
      "metadata": {
        "id": "a-AGCzJ3xj6H"
      },
      "execution_count": 177,
      "outputs": []
    }
  ],
  "metadata": {
    "colab": {
      "provenance": []
    },
    "kernelspec": {
      "display_name": "Python 3",
      "language": "python",
      "name": "python3"
    },
    "language_info": {
      "codemirror_mode": {
        "name": "ipython",
        "version": 3
      },
      "file_extension": ".py",
      "mimetype": "text/x-python",
      "name": "python",
      "nbconvert_exporter": "python",
      "pygments_lexer": "ipython3",
      "version": "3.12.3"
    }
  },
  "nbformat": 4,
  "nbformat_minor": 0
}