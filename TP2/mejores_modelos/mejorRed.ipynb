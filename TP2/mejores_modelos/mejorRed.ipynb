{
  "cells": [
    {
      "cell_type": "code",
      "execution_count": 23,
      "metadata": {
        "colab": {
          "base_uri": "https://localhost:8080/"
        },
        "id": "AdVHLxl4tIRJ",
        "outputId": "7f341b19-4eb3-4c94-fe9d-7ff9cdbe3e8c"
      },
      "outputs": [
        {
          "name": "stdout",
          "output_type": "stream",
          "text": [
            "Defaulting to user installation because normal site-packages is not writeable\n",
            "Requirement already satisfied: langdetect in /home/taiel/.local/lib/python3.12/site-packages (1.0.9)\n",
            "Requirement already satisfied: six in /usr/lib/python3.12/site-packages (from langdetect) (1.16.0)\n"
          ]
        }
      ],
      "source": [
        "!pip install langdetect\n",
        "from langdetect import detect\n",
        "from sklearn.metrics import ConfusionMatrixDisplay, confusion_matrix, f1_score, precision_score, recall_score, accuracy_score\n",
        "import pandas as pd\n",
        "import numpy as np\n",
        "\n",
        "\n",
        "\n",
        "def detectar_idioma(texto):\n",
        "    try:\n",
        "        return detect(texto)\n",
        "    except:\n",
        "        return \"desconocido\"\n",
        "\n",
        "def filtrar_idioma(df):\n",
        "\n",
        "    df[\"idioma_detectado\"] = df[\"review_es\"].apply(detectar_idioma)\n",
        "\n",
        "    return df[df[\"idioma_detectado\"] == \"es\"]\n",
        "\n",
        "def normalizar_texto(df, columna):\n",
        "    reemplazos = {\"á\": \"a\", \"é\": \"e\", \"í\": \"i\", \"ó\": \"o\", \"ú\": \"u\"}\n",
        "    df[columna] = df[columna].str.lower()\n",
        "    for clave, valor in reemplazos.items():\n",
        "        df[columna] = df[columna].str.replace(clave, valor)\n",
        "    return df[columna]\n",
        "\n",
        "def reemplazar_no(df):\n",
        "    def reemplazo(texto):\n",
        "        if isinstance(texto, str):\n",
        "            return texto.replace(\" película \", \"\")\n",
        "        return texto\n",
        "\n",
        "    for col in df.select_dtypes(include=[\"object\"]).columns:\n",
        "        df[col] = df[col].apply(reemplazo)\n",
        "\n",
        "    return df\n",
        "\n",
        "def imprimir_resultados(y, y_pred):\n",
        "\n",
        "    labels = [0, 1]\n",
        "\n",
        "    f1 = f1_score(y, y_pred, pos_label=0, labels=labels)\n",
        "    precision = precision_score(y, y_pred, pos_label=0, labels=labels)\n",
        "    recall = recall_score(y, y_pred, pos_label=0, labels=labels)\n",
        "    accuracy = accuracy_score(y, y_pred)\n",
        "\n",
        "    cm = confusion_matrix(y, y_pred)\n",
        "\n",
        "    ConfusionMatrixDisplay(confusion_matrix=cm).plot()\n",
        "\n",
        "    print(f\"F1: {f1}\")\n",
        "    print(f\"Precision: {precision}\")\n",
        "    print(f\"Recall: {recall}\")\n",
        "    print(f\"Accuracy: {accuracy}\")\n",
        "\n",
        "def guardar_resultado_en_csv(prediccion, df_test, ruta):\n",
        "\n",
        "    prediccion = np.where(prediccion == 0, \"negativo\", \"positivo\")\n",
        "\n",
        "    df_predicciones = pd.DataFrame({\"ID\": df_test[\"ID\"], \"prediccion\": prediccion})\n",
        "\n",
        "    df_predicciones.to_csv(ruta, header=[\"ID\", \"sentimiento\"], index=False)"
      ]
    },
    {
      "cell_type": "code",
      "execution_count": 24,
      "metadata": {
        "id": "NJzt3H39iMgT"
      },
      "outputs": [],
      "source": [
        "import pandas as pd\n",
        "import numpy as np\n",
        "import matplotlib.pyplot as plt\n",
        "from sklearn.model_selection import train_test_split\n",
        "import tensorflow as tf"
      ]
    },
    {
      "cell_type": "code",
      "execution_count": 25,
      "metadata": {
        "id": "BF3V9ZS7vLq_"
      },
      "outputs": [],
      "source": [
        "RUTA_TRAIN = \"../train_limpio.csv\"\n",
        "RUTA_TEST = \"../test.csv\""
      ]
    },
    {
      "cell_type": "code",
      "execution_count": 26,
      "metadata": {
        "id": "aOmheHo6ZAuk"
      },
      "outputs": [
        {
          "ename": "KeyboardInterrupt",
          "evalue": "",
          "output_type": "error",
          "traceback": [
            "\u001b[0;31m---------------------------------------------------------------------------\u001b[0m",
            "\u001b[0;31mKeyboardInterrupt\u001b[0m                         Traceback (most recent call last)",
            "Cell \u001b[0;32mIn[26], line 1\u001b[0m\n\u001b[0;32m----> 1\u001b[0m df_train \u001b[38;5;241m=\u001b[39m \u001b[43mpd\u001b[49m\u001b[38;5;241;43m.\u001b[39;49m\u001b[43mread_csv\u001b[49m\u001b[43m(\u001b[49m\u001b[43mRUTA_TRAIN\u001b[49m\u001b[43m)\u001b[49m\n\u001b[1;32m      2\u001b[0m df_test \u001b[38;5;241m=\u001b[39m pd\u001b[38;5;241m.\u001b[39mread_csv(RUTA_TEST)\n",
            "File \u001b[0;32m~/.local/lib/python3.12/site-packages/pandas/io/parsers/readers.py:1026\u001b[0m, in \u001b[0;36mread_csv\u001b[0;34m(filepath_or_buffer, sep, delimiter, header, names, index_col, usecols, dtype, engine, converters, true_values, false_values, skipinitialspace, skiprows, skipfooter, nrows, na_values, keep_default_na, na_filter, verbose, skip_blank_lines, parse_dates, infer_datetime_format, keep_date_col, date_parser, date_format, dayfirst, cache_dates, iterator, chunksize, compression, thousands, decimal, lineterminator, quotechar, quoting, doublequote, escapechar, comment, encoding, encoding_errors, dialect, on_bad_lines, delim_whitespace, low_memory, memory_map, float_precision, storage_options, dtype_backend)\u001b[0m\n\u001b[1;32m   1013\u001b[0m kwds_defaults \u001b[38;5;241m=\u001b[39m _refine_defaults_read(\n\u001b[1;32m   1014\u001b[0m     dialect,\n\u001b[1;32m   1015\u001b[0m     delimiter,\n\u001b[0;32m   (...)\u001b[0m\n\u001b[1;32m   1022\u001b[0m     dtype_backend\u001b[38;5;241m=\u001b[39mdtype_backend,\n\u001b[1;32m   1023\u001b[0m )\n\u001b[1;32m   1024\u001b[0m kwds\u001b[38;5;241m.\u001b[39mupdate(kwds_defaults)\n\u001b[0;32m-> 1026\u001b[0m \u001b[38;5;28;01mreturn\u001b[39;00m \u001b[43m_read\u001b[49m\u001b[43m(\u001b[49m\u001b[43mfilepath_or_buffer\u001b[49m\u001b[43m,\u001b[49m\u001b[43m \u001b[49m\u001b[43mkwds\u001b[49m\u001b[43m)\u001b[49m\n",
            "File \u001b[0;32m~/.local/lib/python3.12/site-packages/pandas/io/parsers/readers.py:626\u001b[0m, in \u001b[0;36m_read\u001b[0;34m(filepath_or_buffer, kwds)\u001b[0m\n\u001b[1;32m    623\u001b[0m     \u001b[38;5;28;01mreturn\u001b[39;00m parser\n\u001b[1;32m    625\u001b[0m \u001b[38;5;28;01mwith\u001b[39;00m parser:\n\u001b[0;32m--> 626\u001b[0m     \u001b[38;5;28;01mreturn\u001b[39;00m \u001b[43mparser\u001b[49m\u001b[38;5;241;43m.\u001b[39;49m\u001b[43mread\u001b[49m\u001b[43m(\u001b[49m\u001b[43mnrows\u001b[49m\u001b[43m)\u001b[49m\n",
            "File \u001b[0;32m~/.local/lib/python3.12/site-packages/pandas/io/parsers/readers.py:1923\u001b[0m, in \u001b[0;36mTextFileReader.read\u001b[0;34m(self, nrows)\u001b[0m\n\u001b[1;32m   1916\u001b[0m nrows \u001b[38;5;241m=\u001b[39m validate_integer(\u001b[38;5;124m\"\u001b[39m\u001b[38;5;124mnrows\u001b[39m\u001b[38;5;124m\"\u001b[39m, nrows)\n\u001b[1;32m   1917\u001b[0m \u001b[38;5;28;01mtry\u001b[39;00m:\n\u001b[1;32m   1918\u001b[0m     \u001b[38;5;66;03m# error: \"ParserBase\" has no attribute \"read\"\u001b[39;00m\n\u001b[1;32m   1919\u001b[0m     (\n\u001b[1;32m   1920\u001b[0m         index,\n\u001b[1;32m   1921\u001b[0m         columns,\n\u001b[1;32m   1922\u001b[0m         col_dict,\n\u001b[0;32m-> 1923\u001b[0m     ) \u001b[38;5;241m=\u001b[39m \u001b[38;5;28;43mself\u001b[39;49m\u001b[38;5;241;43m.\u001b[39;49m\u001b[43m_engine\u001b[49m\u001b[38;5;241;43m.\u001b[39;49m\u001b[43mread\u001b[49m\u001b[43m(\u001b[49m\u001b[43m  \u001b[49m\u001b[38;5;66;43;03m# type: ignore[attr-defined]\u001b[39;49;00m\n\u001b[1;32m   1924\u001b[0m \u001b[43m        \u001b[49m\u001b[43mnrows\u001b[49m\n\u001b[1;32m   1925\u001b[0m \u001b[43m    \u001b[49m\u001b[43m)\u001b[49m\n\u001b[1;32m   1926\u001b[0m \u001b[38;5;28;01mexcept\u001b[39;00m \u001b[38;5;167;01mException\u001b[39;00m:\n\u001b[1;32m   1927\u001b[0m     \u001b[38;5;28mself\u001b[39m\u001b[38;5;241m.\u001b[39mclose()\n",
            "File \u001b[0;32m~/.local/lib/python3.12/site-packages/pandas/io/parsers/c_parser_wrapper.py:234\u001b[0m, in \u001b[0;36mCParserWrapper.read\u001b[0;34m(self, nrows)\u001b[0m\n\u001b[1;32m    232\u001b[0m \u001b[38;5;28;01mtry\u001b[39;00m:\n\u001b[1;32m    233\u001b[0m     \u001b[38;5;28;01mif\u001b[39;00m \u001b[38;5;28mself\u001b[39m\u001b[38;5;241m.\u001b[39mlow_memory:\n\u001b[0;32m--> 234\u001b[0m         chunks \u001b[38;5;241m=\u001b[39m \u001b[38;5;28;43mself\u001b[39;49m\u001b[38;5;241;43m.\u001b[39;49m\u001b[43m_reader\u001b[49m\u001b[38;5;241;43m.\u001b[39;49m\u001b[43mread_low_memory\u001b[49m\u001b[43m(\u001b[49m\u001b[43mnrows\u001b[49m\u001b[43m)\u001b[49m\n\u001b[1;32m    235\u001b[0m         \u001b[38;5;66;03m# destructive to chunks\u001b[39;00m\n\u001b[1;32m    236\u001b[0m         data \u001b[38;5;241m=\u001b[39m _concatenate_chunks(chunks)\n",
            "\u001b[0;31mKeyboardInterrupt\u001b[0m: "
          ]
        }
      ],
      "source": [
        "df_train = pd.read_csv(RUTA_TRAIN)\n",
        "df_test = pd.read_csv(RUTA_TEST)"
      ]
    },
    {
      "cell_type": "code",
      "execution_count": null,
      "metadata": {
        "id": "VyI189qMtAUN"
      },
      "outputs": [],
      "source": [
        "df_train[\"sentimiento\"] = df_train[\"sentimiento\"].map({\"positivo\": 1, \"negativo\": 0})"
      ]
    },
    {
      "cell_type": "code",
      "execution_count": null,
      "metadata": {
        "id": "6SzVwyVlZAul"
      },
      "outputs": [],
      "source": [
        "RUTA_GUARDADO = \"RED.csv\""
      ]
    },
    {
      "cell_type": "code",
      "execution_count": null,
      "metadata": {
        "colab": {
          "base_uri": "https://localhost:8080/",
          "height": 206
        },
        "id": "0RMoUtPtisKm",
        "outputId": "6f989c54-2cd7-4f78-f541-2be5fab619ce"
      },
      "outputs": [
        {
          "data": {
            "text/html": [
              "<div>\n",
              "<style scoped>\n",
              "    .dataframe tbody tr th:only-of-type {\n",
              "        vertical-align: middle;\n",
              "    }\n",
              "\n",
              "    .dataframe tbody tr th {\n",
              "        vertical-align: top;\n",
              "    }\n",
              "\n",
              "    .dataframe thead th {\n",
              "        text-align: right;\n",
              "    }\n",
              "</style>\n",
              "<table border=\"1\" class=\"dataframe\">\n",
              "  <thead>\n",
              "    <tr style=\"text-align: right;\">\n",
              "      <th></th>\n",
              "      <th>Unnamed: 0</th>\n",
              "      <th>ID</th>\n",
              "      <th>review_es</th>\n",
              "      <th>sentimiento</th>\n",
              "      <th>idioma_detectado</th>\n",
              "    </tr>\n",
              "  </thead>\n",
              "  <tbody>\n",
              "    <tr>\n",
              "      <th>0</th>\n",
              "      <td>0</td>\n",
              "      <td>0</td>\n",
              "      <td>Uno de los otros críticos ha mencionado que de...</td>\n",
              "      <td>1</td>\n",
              "      <td>es</td>\n",
              "    </tr>\n",
              "    <tr>\n",
              "      <th>1</th>\n",
              "      <td>1</td>\n",
              "      <td>1</td>\n",
              "      <td>Una pequeña pequeña producción.La técnica de f...</td>\n",
              "      <td>1</td>\n",
              "      <td>es</td>\n",
              "    </tr>\n",
              "    <tr>\n",
              "      <th>2</th>\n",
              "      <td>2</td>\n",
              "      <td>2</td>\n",
              "      <td>Pensé que esta era una manera maravillosa de p...</td>\n",
              "      <td>1</td>\n",
              "      <td>es</td>\n",
              "    </tr>\n",
              "    <tr>\n",
              "      <th>3</th>\n",
              "      <td>3</td>\n",
              "      <td>3</td>\n",
              "      <td>Básicamente, hay una familia donde un niño peq...</td>\n",
              "      <td>0</td>\n",
              "      <td>es</td>\n",
              "    </tr>\n",
              "    <tr>\n",
              "      <th>4</th>\n",
              "      <td>4</td>\n",
              "      <td>4</td>\n",
              "      <td>El \"amor en el tiempo\" de Petter Mattei es una...</td>\n",
              "      <td>1</td>\n",
              "      <td>es</td>\n",
              "    </tr>\n",
              "  </tbody>\n",
              "</table>\n",
              "</div>"
            ],
            "text/plain": [
              "   Unnamed: 0  ID                                          review_es  \\\n",
              "0           0   0  Uno de los otros críticos ha mencionado que de...   \n",
              "1           1   1  Una pequeña pequeña producción.La técnica de f...   \n",
              "2           2   2  Pensé que esta era una manera maravillosa de p...   \n",
              "3           3   3  Básicamente, hay una familia donde un niño peq...   \n",
              "4           4   4  El \"amor en el tiempo\" de Petter Mattei es una...   \n",
              "\n",
              "   sentimiento idioma_detectado  \n",
              "0            1               es  \n",
              "1            1               es  \n",
              "2            1               es  \n",
              "3            0               es  \n",
              "4            1               es  "
            ]
          },
          "execution_count": 11,
          "metadata": {},
          "output_type": "execute_result"
        }
      ],
      "source": [
        "df_train.head(5)"
      ]
    },
    {
      "cell_type": "code",
      "execution_count": null,
      "metadata": {
        "id": "6HysYIY2iJIz"
      },
      "outputs": [],
      "source": [
        "total_reviews = df_train[\"review_es\"].astype(str)\n",
        "total_labels = df_train[\"sentimiento\"].values"
      ]
    },
    {
      "cell_type": "code",
      "execution_count": null,
      "metadata": {
        "id": "OqnlAOuzsAhH"
      },
      "outputs": [],
      "source": [
        "def plot_training_history(history):\n",
        "    plt.figure(figsize=(12, 4))\n",
        "\n",
        "    plt.subplot(1, 2, 1)\n",
        "    plt.plot(history.history[\"accuracy\"], label=\"Entrenamiento\")\n",
        "    plt.plot(history.history[\"val_accuracy\"], label=\"Validación\")\n",
        "    plt.title(\"Precisión del Modelo\")\n",
        "    plt.xlabel(\"Épocas\")\n",
        "    plt.ylabel(\"Precisión\")\n",
        "    plt.legend()\n",
        "\n",
        "    plt.subplot(1, 2, 2)\n",
        "    plt.plot(history.history[\"loss\"], label=\"Entrenamiento\")\n",
        "    plt.plot(history.history[\"val_loss\"], label=\"Validación\")\n",
        "    plt.title(\"Pérdida del Modelo\")\n",
        "    plt.xlabel(\"Épocas\")\n",
        "    plt.ylabel(\"Pérdida\")\n",
        "    plt.legend()\n",
        "\n",
        "    plt.show()"
      ]
    },
    {
      "cell_type": "code",
      "execution_count": null,
      "metadata": {
        "id": "_9rROvsEmwEy"
      },
      "outputs": [],
      "source": [
        "Y_data = df_train.sentimiento"
      ]
    },
    {
      "cell_type": "code",
      "execution_count": null,
      "metadata": {
        "id": "d1RFOq9zkXsu"
      },
      "outputs": [],
      "source": [
        "max_words = 5000\n",
        "max_len = 100"
      ]
    },
    {
      "cell_type": "code",
      "execution_count": null,
      "metadata": {
        "id": "0JKJiSImoifE"
      },
      "outputs": [],
      "source": [
        "from tensorflow.keras.preprocessing.text import Tokenizer"
      ]
    },
    {
      "cell_type": "code",
      "execution_count": null,
      "metadata": {
        "id": "JQDFyB-ion5C"
      },
      "outputs": [],
      "source": [
        "tokenizer_obj = Tokenizer(num_words = max_words)\n",
        "tokenizer_obj.fit_on_texts(total_reviews)"
      ]
    },
    {
      "cell_type": "code",
      "execution_count": null,
      "metadata": {
        "collapsed": true,
        "id": "JXstyGwio1zl"
      },
      "outputs": [],
      "source": [
        "X_data_tokens = tokenizer_obj.texts_to_sequences(total_reviews)"
      ]
    },
    {
      "cell_type": "code",
      "execution_count": null,
      "metadata": {
        "id": "0MpgYaHKpfy-"
      },
      "outputs": [],
      "source": [
        "X_data_count = tokenizer_obj.sequences_to_matrix(X_data_tokens, mode = \"count\")"
      ]
    },
    {
      "cell_type": "code",
      "execution_count": null,
      "metadata": {
        "id": "lyr1XQ09me-G"
      },
      "outputs": [],
      "source": [
        "X_train_count, X_test_count, y_train_count, y_test_count = train_test_split(X_data_count, Y_data, test_size = 0.3, random_state = 123)"
      ]
    },
    {
      "cell_type": "code",
      "execution_count": null,
      "metadata": {
        "id": "OcJDhAdglxGA"
      },
      "outputs": [
        {
          "ename": "ValueError",
          "evalue": "The filepath provided must end in `.keras` (Keras model format). Received: filepath=modeloRed.h5",
          "output_type": "error",
          "traceback": [
            "\u001b[0;31m---------------------------------------------------------------------------\u001b[0m",
            "\u001b[0;31mValueError\u001b[0m                                Traceback (most recent call last)",
            "Cell \u001b[0;32mIn[22], line 10\u001b[0m\n\u001b[1;32m      7\u001b[0m \u001b[38;5;66;03m# Definir early stopping\u001b[39;00m\n\u001b[1;32m      8\u001b[0m early_stopping \u001b[38;5;241m=\u001b[39m EarlyStopping(monitor\u001b[38;5;241m=\u001b[39m\u001b[38;5;124m\"\u001b[39m\u001b[38;5;124mval_loss\u001b[39m\u001b[38;5;124m\"\u001b[39m, patience\u001b[38;5;241m=\u001b[39m\u001b[38;5;241m20\u001b[39m, restore_best_weights\u001b[38;5;241m=\u001b[39m\u001b[38;5;28;01mTrue\u001b[39;00m)\n\u001b[0;32m---> 10\u001b[0m checkpoint \u001b[38;5;241m=\u001b[39m \u001b[43mModelCheckpoint\u001b[49m\u001b[43m(\u001b[49m\u001b[38;5;124;43m\"\u001b[39;49m\u001b[38;5;124;43mmodeloRed.h5\u001b[39;49m\u001b[38;5;124;43m\"\u001b[39;49m\u001b[43m,\u001b[49m\u001b[43m \u001b[49m\u001b[43mmonitor\u001b[49m\u001b[38;5;241;43m=\u001b[39;49m\u001b[38;5;124;43m\"\u001b[39;49m\u001b[38;5;124;43mval_accuracy\u001b[39;49m\u001b[38;5;124;43m\"\u001b[39;49m\u001b[43m,\u001b[49m\u001b[43m \u001b[49m\u001b[43msave_best_only\u001b[49m\u001b[38;5;241;43m=\u001b[39;49m\u001b[38;5;28;43;01mTrue\u001b[39;49;00m\u001b[43m,\u001b[49m\u001b[43m \u001b[49m\u001b[43mverbose\u001b[49m\u001b[38;5;241;43m=\u001b[39;49m\u001b[38;5;241;43m1\u001b[39;49m\u001b[43m)\u001b[49m\n\u001b[1;32m     12\u001b[0m \u001b[38;5;66;03m# Ejemplo de ReduceLROnPlateau para ajustar la tasa de aprendizaje\u001b[39;00m\n\u001b[1;32m     13\u001b[0m reduce_lr \u001b[38;5;241m=\u001b[39m ReduceLROnPlateau(monitor\u001b[38;5;241m=\u001b[39m\u001b[38;5;124m\"\u001b[39m\u001b[38;5;124mval_loss\u001b[39m\u001b[38;5;124m\"\u001b[39m, factor\u001b[38;5;241m=\u001b[39m\u001b[38;5;241m0.2\u001b[39m, patience\u001b[38;5;241m=\u001b[39m\u001b[38;5;241m2\u001b[39m, min_lr\u001b[38;5;241m=\u001b[39m\u001b[38;5;241m0.0001\u001b[39m)\n",
            "File \u001b[0;32m~/.local/lib/python3.12/site-packages/keras/src/callbacks/model_checkpoint.py:191\u001b[0m, in \u001b[0;36mModelCheckpoint.__init__\u001b[0;34m(self, filepath, monitor, verbose, save_best_only, save_weights_only, mode, save_freq, initial_value_threshold)\u001b[0m\n\u001b[1;32m    189\u001b[0m \u001b[38;5;28;01melse\u001b[39;00m:\n\u001b[1;32m    190\u001b[0m     \u001b[38;5;28;01mif\u001b[39;00m \u001b[38;5;129;01mnot\u001b[39;00m \u001b[38;5;28mself\u001b[39m\u001b[38;5;241m.\u001b[39mfilepath\u001b[38;5;241m.\u001b[39mendswith(\u001b[38;5;124m\"\u001b[39m\u001b[38;5;124m.keras\u001b[39m\u001b[38;5;124m\"\u001b[39m):\n\u001b[0;32m--> 191\u001b[0m         \u001b[38;5;28;01mraise\u001b[39;00m \u001b[38;5;167;01mValueError\u001b[39;00m(\n\u001b[1;32m    192\u001b[0m             \u001b[38;5;124m\"\u001b[39m\u001b[38;5;124mThe filepath provided must end in `.keras` \u001b[39m\u001b[38;5;124m\"\u001b[39m\n\u001b[1;32m    193\u001b[0m             \u001b[38;5;124m\"\u001b[39m\u001b[38;5;124m(Keras model format). Received: \u001b[39m\u001b[38;5;124m\"\u001b[39m\n\u001b[1;32m    194\u001b[0m             \u001b[38;5;124mf\u001b[39m\u001b[38;5;124m\"\u001b[39m\u001b[38;5;124mfilepath=\u001b[39m\u001b[38;5;132;01m{\u001b[39;00m\u001b[38;5;28mself\u001b[39m\u001b[38;5;241m.\u001b[39mfilepath\u001b[38;5;132;01m}\u001b[39;00m\u001b[38;5;124m\"\u001b[39m\n\u001b[1;32m    195\u001b[0m         )\n",
            "\u001b[0;31mValueError\u001b[0m: The filepath provided must end in `.keras` (Keras model format). Received: filepath=modeloRed.h5"
          ]
        }
      ],
      "source": [
        "from tensorflow.keras.models import Sequential\n",
        "from tensorflow.keras.layers import Dense, Dropout\n",
        "from tensorboard.plugins.hparams import api as hp\n",
        "from keras.callbacks import EarlyStopping\n",
        "from keras.callbacks import ModelCheckpoint, ReduceLROnPlateau\n",
        "from tensorflow.keras import regularizers\n",
        "# Definir early stopping\n",
        "early_stopping = EarlyStopping(monitor=\"val_loss\", patience=20, restore_best_weights=True)\n",
        "\n",
        "checkpoint = ModelCheckpoint(\"modeloRed.h5\", monitor=\"val_accuracy\", save_best_only=True, verbose=1)\n",
        "\n",
        "# Ejemplo de ReduceLROnPlateau para ajustar la tasa de aprendizaje\n",
        "reduce_lr = ReduceLROnPlateau(monitor=\"val_loss\", factor=0.2, patience=2, min_lr=0.0001)\n",
        "\n",
        "# callbacks = [early_stopping, checkpoint, reduce_lr]\n",
        "callbacks = [early_stopping, checkpoint]\n",
        "# callbacks = [early_stopping]\n"
      ]
    },
    {
      "cell_type": "code",
      "execution_count": null,
      "metadata": {
        "id": "V7YYM8CHlL31"
      },
      "outputs": [],
      "source": [
        "model_count = Sequential()\n",
        "model_count.add(Dense(650, activation=\"relu\", kernel_regularizer=regularizers.l2(0.01), input_shape=(5000,)))\n",
        "model_count.add(Dropout(0.1))  # Ejemplo de cómo usar Dropout en lugar de Dense\n",
        "model_count.add(Dense(250, activation=\"relu\", kernel_regularizer=regularizers.l2(0.01)))\n",
        "model_count.add(Dropout(0.2))  # Ejemplo de cómo usar Dropout en lugar de Dense\n",
        "model_count.add(Dense(35, activation=\"relu\", kernel_regularizer=regularizers.l2(0.01)))\n",
        "model_count.add(Dense(1, activation=\"sigmoid\"))\n",
        "\n",
        "model_count.compile(loss = \"binary_crossentropy\", optimizer = \"adam\", metrics = [\"accuracy\"])"
      ]
    },
    {
      "cell_type": "code",
      "execution_count": null,
      "metadata": {
        "colab": {
          "base_uri": "https://localhost:8080/"
        },
        "id": "pAes38XIrHK_",
        "outputId": "ffa1e3c1-e409-49d3-f05a-991ac2323cc5"
      },
      "outputs": [
        {
          "name": "stdout",
          "output_type": "stream",
          "text": [
            "Epoch 1/100\n",
            "93/93 [==============================] - ETA: 0s - loss: 3.3161 - accuracy: 0.7959\n",
            "Epoch 1: val_accuracy improved from -inf to 0.84840, saving model to best_model.h5\n",
            "93/93 [==============================] - 20s 202ms/step - loss: 3.3161 - accuracy: 0.7959 - val_loss: 0.9117 - val_accuracy: 0.8484\n",
            "Epoch 2/100\n"
          ]
        },
        {
          "name": "stderr",
          "output_type": "stream",
          "text": [
            "/usr/local/lib/python3.10/dist-packages/keras/src/engine/training.py:3103: UserWarning: You are saving your model as an HDF5 file via `model.save()`. This file format is considered legacy. We recommend using instead the native Keras format, e.g. `model.save('my_model.keras')`.\n",
            "  saving_api.save_model(\n"
          ]
        },
        {
          "name": "stdout",
          "output_type": "stream",
          "text": [
            "93/93 [==============================] - ETA: 0s - loss: 0.7594 - accuracy: 0.8466\n",
            "Epoch 2: val_accuracy improved from 0.84840 to 0.85008, saving model to best_model.h5\n",
            "93/93 [==============================] - 14s 151ms/step - loss: 0.7594 - accuracy: 0.8466 - val_loss: 0.6376 - val_accuracy: 0.8501\n",
            "Epoch 3/100\n",
            "93/93 [==============================] - ETA: 0s - loss: 0.6028 - accuracy: 0.8543\n",
            "Epoch 3: val_accuracy improved from 0.85008 to 0.86135, saving model to best_model.h5\n",
            "93/93 [==============================] - 17s 182ms/step - loss: 0.6028 - accuracy: 0.8543 - val_loss: 0.5491 - val_accuracy: 0.8613\n",
            "Epoch 4/100\n",
            "93/93 [==============================] - ETA: 0s - loss: 0.5348 - accuracy: 0.8614\n",
            "Epoch 4: val_accuracy did not improve from 0.86135\n",
            "93/93 [==============================] - 14s 155ms/step - loss: 0.5348 - accuracy: 0.8614 - val_loss: 0.5245 - val_accuracy: 0.8560\n",
            "Epoch 5/100\n",
            "93/93 [==============================] - ETA: 0s - loss: 0.5009 - accuracy: 0.8669\n",
            "Epoch 5: val_accuracy improved from 0.86135 to 0.86184, saving model to best_model.h5\n",
            "93/93 [==============================] - 12s 129ms/step - loss: 0.5009 - accuracy: 0.8669 - val_loss: 0.4888 - val_accuracy: 0.8618\n",
            "Epoch 6/100\n",
            "93/93 [==============================] - ETA: 0s - loss: 0.4766 - accuracy: 0.8708\n",
            "Epoch 6: val_accuracy did not improve from 0.86184\n",
            "93/93 [==============================] - 13s 135ms/step - loss: 0.4766 - accuracy: 0.8708 - val_loss: 0.5171 - val_accuracy: 0.8435\n",
            "Epoch 7/100\n",
            "93/93 [==============================] - ETA: 0s - loss: 0.4549 - accuracy: 0.8753\n",
            "Epoch 7: val_accuracy improved from 0.86184 to 0.86540, saving model to best_model.h5\n",
            "93/93 [==============================] - 13s 142ms/step - loss: 0.4549 - accuracy: 0.8753 - val_loss: 0.4673 - val_accuracy: 0.8654\n",
            "Epoch 8/100\n",
            "93/93 [==============================] - ETA: 0s - loss: 0.4458 - accuracy: 0.8798\n",
            "Epoch 8: val_accuracy improved from 0.86540 to 0.86570, saving model to best_model.h5\n",
            "93/93 [==============================] - 14s 150ms/step - loss: 0.4458 - accuracy: 0.8798 - val_loss: 0.4648 - val_accuracy: 0.8657\n",
            "Epoch 9/100\n",
            "93/93 [==============================] - ETA: 0s - loss: 0.4271 - accuracy: 0.8886\n",
            "Epoch 9: val_accuracy did not improve from 0.86570\n",
            "93/93 [==============================] - 14s 149ms/step - loss: 0.4271 - accuracy: 0.8886 - val_loss: 0.4892 - val_accuracy: 0.8503\n",
            "Epoch 10/100\n",
            "93/93 [==============================] - ETA: 0s - loss: 0.4211 - accuracy: 0.8903\n",
            "Epoch 10: val_accuracy improved from 0.86570 to 0.86738, saving model to best_model.h5\n",
            "93/93 [==============================] - 14s 153ms/step - loss: 0.4211 - accuracy: 0.8903 - val_loss: 0.4586 - val_accuracy: 0.8674\n",
            "Epoch 11/100\n",
            "93/93 [==============================] - ETA: 0s - loss: 0.4044 - accuracy: 0.8958\n",
            "Epoch 11: val_accuracy did not improve from 0.86738\n",
            "93/93 [==============================] - 14s 148ms/step - loss: 0.4044 - accuracy: 0.8958 - val_loss: 0.4519 - val_accuracy: 0.8669\n",
            "Epoch 12/100\n",
            "93/93 [==============================] - ETA: 0s - loss: 0.3948 - accuracy: 0.8995\n",
            "Epoch 12: val_accuracy improved from 0.86738 to 0.87054, saving model to best_model.h5\n",
            "93/93 [==============================] - 13s 139ms/step - loss: 0.3948 - accuracy: 0.8995 - val_loss: 0.4447 - val_accuracy: 0.8705\n",
            "Epoch 13/100\n",
            "93/93 [==============================] - ETA: 0s - loss: 0.3905 - accuracy: 0.9027\n",
            "Epoch 13: val_accuracy improved from 0.87054 to 0.87153, saving model to best_model.h5\n",
            "93/93 [==============================] - 13s 138ms/step - loss: 0.3905 - accuracy: 0.9027 - val_loss: 0.4486 - val_accuracy: 0.8715\n",
            "Epoch 14/100\n",
            "93/93 [==============================] - ETA: 0s - loss: 0.3843 - accuracy: 0.9056\n",
            "Epoch 14: val_accuracy did not improve from 0.87153\n",
            "93/93 [==============================] - 13s 134ms/step - loss: 0.3843 - accuracy: 0.9056 - val_loss: 0.4957 - val_accuracy: 0.8472\n",
            "Epoch 15/100\n",
            "93/93 [==============================] - ETA: 0s - loss: 0.3746 - accuracy: 0.9099\n",
            "Epoch 15: val_accuracy did not improve from 0.87153\n",
            "93/93 [==============================] - 16s 177ms/step - loss: 0.3746 - accuracy: 0.9099 - val_loss: 0.4619 - val_accuracy: 0.8686\n",
            "Epoch 16/100\n",
            "93/93 [==============================] - ETA: 0s - loss: 0.3721 - accuracy: 0.9105\n",
            "Epoch 16: val_accuracy did not improve from 0.87153\n",
            "93/93 [==============================] - 12s 133ms/step - loss: 0.3721 - accuracy: 0.9105 - val_loss: 0.4479 - val_accuracy: 0.8695\n",
            "Epoch 17/100\n",
            "93/93 [==============================] - ETA: 0s - loss: 0.3653 - accuracy: 0.9132\n",
            "Epoch 17: val_accuracy did not improve from 0.87153\n",
            "93/93 [==============================] - 14s 147ms/step - loss: 0.3653 - accuracy: 0.9132 - val_loss: 0.4543 - val_accuracy: 0.8673\n",
            "Epoch 18/100\n",
            "93/93 [==============================] - ETA: 0s - loss: 0.3604 - accuracy: 0.9152\n",
            "Epoch 18: val_accuracy did not improve from 0.87153\n",
            "93/93 [==============================] - 13s 135ms/step - loss: 0.3604 - accuracy: 0.9152 - val_loss: 0.4516 - val_accuracy: 0.8703\n",
            "Epoch 19/100\n",
            "93/93 [==============================] - ETA: 0s - loss: 0.3550 - accuracy: 0.9176\n",
            "Epoch 19: val_accuracy did not improve from 0.87153\n",
            "93/93 [==============================] - 12s 129ms/step - loss: 0.3550 - accuracy: 0.9176 - val_loss: 0.4645 - val_accuracy: 0.8665\n",
            "Epoch 20/100\n",
            "93/93 [==============================] - ETA: 0s - loss: 0.3577 - accuracy: 0.9149\n",
            "Epoch 20: val_accuracy did not improve from 0.87153\n",
            "93/93 [==============================] - 12s 132ms/step - loss: 0.3577 - accuracy: 0.9149 - val_loss: 0.4597 - val_accuracy: 0.8682\n",
            "Epoch 21/100\n",
            "93/93 [==============================] - ETA: 0s - loss: 0.3488 - accuracy: 0.9227\n",
            "Epoch 21: val_accuracy did not improve from 0.87153\n",
            "93/93 [==============================] - 12s 126ms/step - loss: 0.3488 - accuracy: 0.9227 - val_loss: 0.4653 - val_accuracy: 0.8658\n",
            "Epoch 22/100\n",
            "93/93 [==============================] - ETA: 0s - loss: 0.3446 - accuracy: 0.9243\n",
            "Epoch 22: val_accuracy did not improve from 0.87153\n",
            "93/93 [==============================] - 12s 134ms/step - loss: 0.3446 - accuracy: 0.9243 - val_loss: 0.4545 - val_accuracy: 0.8684\n",
            "Epoch 23/100\n",
            "93/93 [==============================] - ETA: 0s - loss: 0.3454 - accuracy: 0.9254\n",
            "Epoch 23: val_accuracy did not improve from 0.87153\n",
            "93/93 [==============================] - 15s 163ms/step - loss: 0.3454 - accuracy: 0.9254 - val_loss: 0.4901 - val_accuracy: 0.8598\n",
            "Epoch 24/100\n",
            "93/93 [==============================] - ETA: 0s - loss: 0.3383 - accuracy: 0.9288\n",
            "Epoch 24: val_accuracy did not improve from 0.87153\n",
            "93/93 [==============================] - 12s 129ms/step - loss: 0.3383 - accuracy: 0.9288 - val_loss: 0.4961 - val_accuracy: 0.8561\n",
            "Epoch 25/100\n",
            "93/93 [==============================] - ETA: 0s - loss: 0.3387 - accuracy: 0.9290\n",
            "Epoch 25: val_accuracy did not improve from 0.87153\n",
            "93/93 [==============================] - 11s 118ms/step - loss: 0.3387 - accuracy: 0.9290 - val_loss: 0.4843 - val_accuracy: 0.8638\n",
            "Epoch 26/100\n",
            "93/93 [==============================] - ETA: 0s - loss: 0.3350 - accuracy: 0.9308\n",
            "Epoch 26: val_accuracy did not improve from 0.87153\n",
            "93/93 [==============================] - 14s 146ms/step - loss: 0.3350 - accuracy: 0.9308 - val_loss: 0.4690 - val_accuracy: 0.8663\n",
            "Epoch 27/100\n",
            "93/93 [==============================] - ETA: 0s - loss: 0.3326 - accuracy: 0.9310\n",
            "Epoch 27: val_accuracy did not improve from 0.87153\n",
            "93/93 [==============================] - 13s 136ms/step - loss: 0.3326 - accuracy: 0.9310 - val_loss: 0.4771 - val_accuracy: 0.8624\n",
            "Epoch 28/100\n",
            "93/93 [==============================] - ETA: 0s - loss: 0.3326 - accuracy: 0.9326\n",
            "Epoch 28: val_accuracy did not improve from 0.87153\n",
            "93/93 [==============================] - 14s 146ms/step - loss: 0.3326 - accuracy: 0.9326 - val_loss: 0.4670 - val_accuracy: 0.8644\n",
            "Epoch 29/100\n",
            "93/93 [==============================] - ETA: 0s - loss: 0.3283 - accuracy: 0.9316\n",
            "Epoch 29: val_accuracy did not improve from 0.87153\n",
            "93/93 [==============================] - 12s 132ms/step - loss: 0.3283 - accuracy: 0.9316 - val_loss: 0.4810 - val_accuracy: 0.8604\n",
            "Epoch 30/100\n",
            "93/93 [==============================] - ETA: 0s - loss: 0.3205 - accuracy: 0.9381\n",
            "Epoch 30: val_accuracy did not improve from 0.87153\n",
            "93/93 [==============================] - 12s 127ms/step - loss: 0.3205 - accuracy: 0.9381 - val_loss: 0.5278 - val_accuracy: 0.8525\n",
            "Epoch 31/100\n",
            "93/93 [==============================] - ETA: 0s - loss: 0.3215 - accuracy: 0.9358\n",
            "Epoch 31: val_accuracy did not improve from 0.87153\n",
            "93/93 [==============================] - 12s 131ms/step - loss: 0.3215 - accuracy: 0.9358 - val_loss: 0.4813 - val_accuracy: 0.8599\n",
            "Epoch 32/100\n",
            "93/93 [==============================] - ETA: 0s - loss: 0.3238 - accuracy: 0.9348\n",
            "Epoch 32: val_accuracy did not improve from 0.87153\n",
            "93/93 [==============================] - 12s 130ms/step - loss: 0.3238 - accuracy: 0.9348 - val_loss: 0.4864 - val_accuracy: 0.8573\n"
          ]
        }
      ],
      "source": [
        "history_count = model_count.fit(X_train_count, y_train_count, batch_size = 256, epochs = 100, validation_split=0.3,callbacks=callbacks)"
      ]
    },
    {
      "cell_type": "code",
      "execution_count": null,
      "metadata": {
        "colab": {
          "base_uri": "https://localhost:8080/"
        },
        "id": "BP4PaOoErH6e",
        "outputId": "f970334a-f985-4758-af0f-0f3d10d3995e"
      },
      "outputs": [
        {
          "name": "stdout",
          "output_type": "stream",
          "text": [
            "452/452 [==============================] - 8s 17ms/step - loss: 0.4452 - accuracy: 0.8718\n",
            "\n",
            "0.4452272951602936 0.8718090653419495\n"
          ]
        }
      ],
      "source": [
        "test_loss, test_acc = model_count.evaluate(X_test_count, y_test_count)\n",
        "print()\n",
        "print(test_loss, test_acc)"
      ]
    },
    {
      "cell_type": "code",
      "execution_count": null,
      "metadata": {
        "colab": {
          "base_uri": "https://localhost:8080/",
          "height": 412
        },
        "id": "9ve-5KAdsKwZ",
        "outputId": "2a70ac41-d4f1-48c0-c7da-302d6549dab0"
      },
      "outputs": [
        {
          "data": {
            "image/png": "[encoded data removed]",
            "text/plain": [
              "<Figure size 1200x400 with 2 Axes>"
            ]
          },
          "metadata": {},
          "output_type": "display_data"
        }
      ],
      "source": [
        "plot_training_history(history_count)"
      ]
    },
    {
      "cell_type": "code",
      "execution_count": null,
      "metadata": {
        "colab": {
          "base_uri": "https://localhost:8080/"
        },
        "id": "0JT7OVxZ0a8O",
        "outputId": "073b6a39-618b-48fd-dfc7-abbee74d0271"
      },
      "outputs": [
        {
          "name": "stdout",
          "output_type": "stream",
          "text": [
            "452/452 [==============================] - 5s 11ms/step\n"
          ]
        }
      ],
      "source": [
        "X_train_tokens = tokenizer_obj.texts_to_sequences(df_test[\"review_es\"])\n",
        "X_train_count = tokenizer_obj.sequences_to_matrix(X_train_tokens, mode = \"count\")\n",
        "y_pred = model_count.predict(X_test_count)\n",
        "y_pred = np.round(y_pred)"
      ]
    },
    {
      "cell_type": "code",
      "execution_count": null,
      "metadata": {
        "colab": {
          "base_uri": "https://localhost:8080/",
          "height": 518
        },
        "id": "a04ey3F1z36T",
        "outputId": "c48a3fef-5c1a-4b8f-e9e1-39643c1db8c3"
      },
      "outputs": [
        {
          "name": "stdout",
          "output_type": "stream",
          "text": [
            "F1: 0.8739884393063585\n",
            "Precision: 0.8613941018766756\n",
            "Recall: 0.8869565217391304\n",
            "Accuracy: 0.8718090626080941\n"
          ]
        },
        {
          "data": {
            "image/png": "[encoded data removed]",
            "text/plain": [
              "<Figure size 640x480 with 2 Axes>"
            ]
          },
          "metadata": {},
          "output_type": "display_data"
        }
      ],
      "source": [
        "imprimir_resultados(y_test_count, y_pred)"
      ]
    },
    {
      "cell_type": "code",
      "execution_count": null,
      "metadata": {
        "colab": {
          "base_uri": "https://localhost:8080/"
        },
        "id": "wIzqSQ0RtAUQ",
        "outputId": "3e24e3ff-3115-4747-fe4a-84e23082b79d"
      },
      "outputs": [
        {
          "name": "stdout",
          "output_type": "stream",
          "text": [
            "269/269 [==============================] - 3s 9ms/step\n"
          ]
        }
      ],
      "source": [
        "X_test_tokens = tokenizer_obj.texts_to_sequences(df_test[\"review_es\"])\n",
        "X_test_count = tokenizer_obj.sequences_to_matrix(X_test_tokens, mode = \"count\")\n",
        "y_pred = model_count.predict(X_test_count)\n",
        "y_pred = np.round(y_pred)"
      ]
    },
    {
      "cell_type": "code",
      "execution_count": null,
      "metadata": {
        "colab": {
          "base_uri": "https://localhost:8080/"
        },
        "id": "NxaLQO7CxLR8",
        "outputId": "baf8fbbc-a35e-4551-bda6-9458fb04a781"
      },
      "outputs": [
        {
          "data": {
            "text/plain": [
              "array([[0.],\n",
              "       [0.],\n",
              "       [0.],\n",
              "       ...,\n",
              "       [0.],\n",
              "       [0.],\n",
              "       [0.]], dtype=float32)"
            ]
          },
          "execution_count": 26,
          "metadata": {},
          "output_type": "execute_result"
        }
      ],
      "source": [
        "y_pred"
      ]
    },
    {
      "cell_type": "code",
      "execution_count": null,
      "metadata": {
        "id": "QeNpESk5ymMl"
      },
      "outputs": [],
      "source": [
        "y_pred = np.where(y_pred == 0, \"negativo\", \"positivo\")"
      ]
    },
    {
      "cell_type": "code",
      "execution_count": null,
      "metadata": {
        "id": "a-AGCzJ3xj6H"
      },
      "outputs": [],
      "source": [
        "df_predicciones = pd.DataFrame({\"ID\": df_test[\"ID\"], \"prediccion\": y_pred.flatten()})\n",
        "\n",
        "df_predicciones.to_csv(RUTA_GUARDADO, header=[\"ID\", \"sentimiento\"], index=False)"
      ]
    }
  ],
  "metadata": {
    "colab": {
      "provenance": []
    },
    "kernelspec": {
      "display_name": "Python 3",
      "language": "python",
      "name": "python3"
    },
    "language_info": {
      "codemirror_mode": {
        "name": "ipython",
        "version": 3
      },
      "file_extension": ".py",
      "mimetype": "text/x-python",
      "name": "python",
      "nbconvert_exporter": "python",
      "pygments_lexer": "ipython3",
      "version": "3.12.3"
    }
  },
  "nbformat": 4,
  "nbformat_minor": 0
}
