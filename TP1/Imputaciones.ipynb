{
  "cells": [
    {
      "cell_type": "code",
      "source": [
        "def imputardf(df, name):\n",
        "\n",
        "  import pandas as pd\n",
        "  import numpy as np\n",
        "  from scipy.stats import gaussian_kde\n",
        "  from sklearn.model_selection import train_test_split\n",
        "  from sklearn.preprocessing import MinMaxScaler\n",
        "  from sklearn.metrics import silhouette_score\n",
        "  from sklearn.cluster import KMeans\n",
        "\n",
        "  ## Borro colls irrelevantes\n",
        "  df = df.dropna()\n",
        "  df = df.drop(\"property_currency\", axis=1)\n",
        "  df = df.drop(\"operation\", axis=1)\n",
        "  df = df.drop(\"place_l4\", axis=1)\n",
        "  df = df.drop(\"place_l5\", axis=1)\n",
        "  df = df.drop(\"place_l6\", axis=1)\n",
        "  df = df.drop(\"id\", axis=1)\n",
        "  df = df.drop(\"start_date\", axis=1)\n",
        "  df = df.drop(\"end_date\", axis=1)\n",
        "  df = df.drop(\"created_on\", axis=1)\n",
        "\n",
        "\n",
        "  ## Borro filas con nulls relevantes\n",
        "  df.dropna(subset=[\"latitud\", \"longitud\"], inplace=True)\n",
        "  df = df.dropna(subset=[\"place_l3\"])\n",
        "  df = df.dropna(subset=[\"property_bedrooms\", \"property_rooms\"])\n",
        "  df = df.dropna(subset=[\"property_surface_covered\", \"property_surface_total\"])\n",
        "\n",
        "  ## Borro filas con datos erroneos\n",
        "  df = df[df[\"property_bedrooms\"] <= df[\"property_rooms\"]]\n",
        "  df = df[df[\"property_surface_covered\"] <= df[\"property_surface_total\"]]\n",
        "\n",
        "  ## Borro valores atipicos\n",
        "  mediana = df[\"property_surface_total\"].median()\n",
        "  limite_superior = mediana * 7\n",
        "  df = df[df[\"property_surface_total\"] <= limite_superior]\n",
        "\n",
        "  mediana = df[\"property_bedrooms\"].median()\n",
        "  limite_superior = mediana * 7\n",
        "  df = df[df[\"property_bedrooms\"] <= limite_superior]\n",
        "\n",
        "\n",
        "  ## Creo nuevas cols\n",
        "  df[\"total_m2_price\"] = df[\"property_price\"] / df[\"property_surface_total\"]\n",
        "  df[\"covered_m2_price\"] = df[\"property_price\"] / df[\"property_surface_covered\"]\n",
        "\n",
        "\n",
        "\n",
        "  mediana_total_m2_price = df[\"total_m2_price\"].median()\n",
        "\n",
        "  limite_inferior = mediana_total_m2_price / 5\n",
        "  limite_superior = mediana_total_m2_price * 5\n",
        "\n",
        "  df = df[(df[\"total_m2_price\"] >= limite_inferior) & (df[\"total_m2_price\"] <= limite_superior)]\n",
        "\n",
        "  q1 = df[\"covered_m2_price\"].quantile(0.25)\n",
        "  q3 = df[\"covered_m2_price\"].quantile(0.75)\n",
        "  iqr = q3 - q1\n",
        "\n",
        "  lower_bound = q1 - 1.5 * iqr\n",
        "  upper_bound = q3 + 1.5 * iqr\n",
        "\n",
        "  df = df[(df[\"covered_m2_price\"] >= lower_bound) & (df[\"covered_m2_price\"] <= upper_bound)]\n",
        "\n",
        "\n",
        "  df.to_csv(name)\n",
        "\n",
        "\n"
      ],
      "metadata": {
        "id": "DzFex5Hmf-3E"
      },
      "execution_count": 77,
      "outputs": []
    },
    {
      "cell_type": "code",
      "source": [
        "df_raw = pd.read_csv(path_df)"
      ],
      "metadata": {
        "id": "FmhGK_IbicOJ"
      },
      "execution_count": 71,
      "outputs": []
    },
    {
      "cell_type": "code",
      "source": [
        "tipos_propiedades = [\"Departamento\", \"Casa\", \"PH\"]\n",
        "\n",
        "df_raw = df_raw[(df_raw[\"property_currency\"] == \"USD\") & (df_raw[\"operation\"] == \"Venta\") & (df_raw[\"property_type\"].isin(tipos_propiedades)) &\n",
        "        (df_raw[\"place_l2\"] == \"Capital Federal\")]\n"
      ],
      "metadata": {
        "id": "sZ9P7-3Tigoa"
      },
      "execution_count": 72,
      "outputs": []
    },
    {
      "cell_type": "code",
      "source": [
        "seed = 123\n",
        "\n",
        "_df, df_test = train_test_split(df_raw, test_size=0.2, random_state=seed)\n",
        "\n",
        "df = _df"
      ],
      "metadata": {
        "id": "kOJwFr7Diize"
      },
      "execution_count": 74,
      "outputs": []
    },
    {
      "cell_type": "code",
      "source": [
        "imputardf(df,\"df_train.csv\")\n",
        "imputardf(df_test,\"df_test.csv\")"
      ],
      "metadata": {
        "id": "Zmv-cyg_irI6"
      },
      "execution_count": 76,
      "outputs": []
    }
  ],
  "metadata": {
    "colab": {
      "collapsed_sections": [
        "aTZ-7SvgSUCq",
        "1bDvMiRzSakH",
        "_qiyTWDbWM-b",
        "zO4PfaW80mjH",
        "bIKjNc044xGj",
        "GE_wixxq8ldB",
        "g1ffNvngSd2r",
        "LhLBGctfSmMn",
        "W4WxBOb3W62g",
        "RFtxfBGsbbnj",
        "deHt381YbmpN",
        "xrGZ9g1bcP4q",
        "94nvUyrHegLa",
        "qk51Xv6TgNAs",
        "36NGIUCUfCZG",
        "MP-mbB0_wTVy",
        "MwIvQowIXHAO",
        "ZopuXJ93XSQp",
        "20sooswTLaPk",
        "oVyrs1l_MMC0",
        "Wm1bl4E-P9c-",
        "yq65962TLhCg",
        "VW0e66hoLps5",
        "GlgXFqYjQwIH",
        "UrIwNkQTT8_3",
        "R0bSKYDhX0wC",
        "IDMAKUsebwAy",
        "CAFs1MeeF-E7",
        "Zx2IGfSeMi5f",
        "MiW-H-K7zR9R",
        "8_AfMGj9RIiD",
        "cheV0P0-REKl",
        "hYfMyFSnSI01",
        "U0OZIFW0Sw3n",
        "t48evjLwSw3u",
        "uNWWRy5ASw3u",
        "O_nLSrKnSAUE",
        "iMgBu_pkUYnc",
        "WqGURffLU7ho",
        "OD1bVv2zT741",
        "xKVNEiLnYq6P"
      ],
      "provenance": []
    },
    "kernelspec": {
      "display_name": "Python 3",
      "name": "python3"
    },
    "language_info": {
      "codemirror_mode": {
        "name": "ipython",
        "version": 3
      },
      "file_extension": ".py",
      "mimetype": "text/x-python",
      "name": "python",
      "nbconvert_exporter": "python",
      "pygments_lexer": "ipython3",
      "version": "3.11.6"
    }
  },
  "nbformat": 4,
  "nbformat_minor": 0
}