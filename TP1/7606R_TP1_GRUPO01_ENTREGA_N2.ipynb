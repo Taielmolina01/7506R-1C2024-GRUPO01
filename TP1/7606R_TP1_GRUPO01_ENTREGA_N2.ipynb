{
 "cells": [
  {
   "cell_type": "code",
   "execution_count": 61,
   "metadata": {},
   "outputs": [],
   "source": [
    "import pandas as pd"
   ]
  },
  {
   "cell_type": "code",
   "execution_count": 62,
   "metadata": {},
   "outputs": [],
   "source": [
    "from constants import *"
   ]
  },
  {
   "cell_type": "code",
   "execution_count": 63,
   "metadata": {},
   "outputs": [],
   "source": [
    "df_train = pd.read_csv(PATH_DF_TRAIN)\n",
    "df_test = pd.read_csv(PATH_DF_TEST)"
   ]
  },
  {
   "cell_type": "code",
   "execution_count": 64,
   "metadata": {},
   "outputs": [
    {
     "name": "stdout",
     "output_type": "stream",
     "text": [
      "<class 'pandas.core.frame.DataFrame'>\n",
      "RangeIndex: 18850 entries, 0 to 18849\n",
      "Data columns (total 21 columns):\n",
      " #   Column                    Non-Null Count  Dtype  \n",
      "---  ------                    --------------  -----  \n",
      " 0   Unnamed: 0                18850 non-null  int64  \n",
      " 1   id                        18850 non-null  object \n",
      " 2   start_date                18850 non-null  object \n",
      " 3   end_date                  18850 non-null  object \n",
      " 4   created_on                18850 non-null  object \n",
      " 5   latitud                   18133 non-null  float64\n",
      " 6   longitud                  18133 non-null  float64\n",
      " 7   place_l2                  18850 non-null  object \n",
      " 8   place_l3                  18755 non-null  object \n",
      " 9   place_l4                  740 non-null    object \n",
      " 10  place_l5                  0 non-null      float64\n",
      " 11  place_l6                  0 non-null      float64\n",
      " 12  operation                 18850 non-null  object \n",
      " 13  property_type             18850 non-null  object \n",
      " 14  property_rooms            18650 non-null  float64\n",
      " 15  property_bedrooms         16594 non-null  float64\n",
      " 16  property_surface_total    17860 non-null  float64\n",
      " 17  property_surface_covered  18158 non-null  float64\n",
      " 18  property_price            18850 non-null  float64\n",
      " 19  property_currency         18850 non-null  object \n",
      " 20  property_title            18850 non-null  object \n",
      "dtypes: float64(9), int64(1), object(11)\n",
      "memory usage: 3.0+ MB\n"
     ]
    }
   ],
   "source": [
    "df_test.info()"
   ]
  },
  {
   "cell_type": "markdown",
   "metadata": {},
   "source": [
    "Hacemos el mismo \"tratamiento\" al df_test que el que ya le hicimos al df_train"
   ]
  },
  {
   "cell_type": "code",
   "execution_count": 65,
   "metadata": {},
   "outputs": [],
   "source": [
    "df_test.drop(columns=[\"id\", \"start_date\", \"end_date\", \"created_on\", \"place_l2\", \"place_l4\", \"place_l5\", \"place_l6\", \"operation\", \"property_currency\", \"property_title\"], inplace=True)"
   ]
  },
  {
   "cell_type": "code",
   "execution_count": 66,
   "metadata": {},
   "outputs": [
    {
     "name": "stdout",
     "output_type": "stream",
     "text": [
      "<class 'pandas.core.frame.DataFrame'>\n",
      "RangeIndex: 18850 entries, 0 to 18849\n",
      "Data columns (total 10 columns):\n",
      " #   Column                    Non-Null Count  Dtype  \n",
      "---  ------                    --------------  -----  \n",
      " 0   Unnamed: 0                18850 non-null  int64  \n",
      " 1   latitud                   18133 non-null  float64\n",
      " 2   longitud                  18133 non-null  float64\n",
      " 3   place_l3                  18755 non-null  object \n",
      " 4   property_type             18850 non-null  object \n",
      " 5   property_rooms            18650 non-null  float64\n",
      " 6   property_bedrooms         16594 non-null  float64\n",
      " 7   property_surface_total    17860 non-null  float64\n",
      " 8   property_surface_covered  18158 non-null  float64\n",
      " 9   property_price            18850 non-null  float64\n",
      "dtypes: float64(7), int64(1), object(2)\n",
      "memory usage: 1.4+ MB\n"
     ]
    }
   ],
   "source": [
    "df_test.info()"
   ]
  },
  {
   "cell_type": "code",
   "execution_count": 67,
   "metadata": {},
   "outputs": [
    {
     "data": {
      "text/html": [
       "<div>\n",
       "<style scoped>\n",
       "    .dataframe tbody tr th:only-of-type {\n",
       "        vertical-align: middle;\n",
       "    }\n",
       "\n",
       "    .dataframe tbody tr th {\n",
       "        vertical-align: top;\n",
       "    }\n",
       "\n",
       "    .dataframe thead th {\n",
       "        text-align: right;\n",
       "    }\n",
       "</style>\n",
       "<table border=\"1\" class=\"dataframe\">\n",
       "  <thead>\n",
       "    <tr style=\"text-align: right;\">\n",
       "      <th></th>\n",
       "      <th>Unnamed: 0</th>\n",
       "      <th>latitud</th>\n",
       "      <th>longitud</th>\n",
       "      <th>place_l3</th>\n",
       "      <th>property_type</th>\n",
       "      <th>property_rooms</th>\n",
       "      <th>property_bedrooms</th>\n",
       "      <th>property_surface_total</th>\n",
       "      <th>property_surface_covered</th>\n",
       "      <th>property_price</th>\n",
       "    </tr>\n",
       "  </thead>\n",
       "  <tbody>\n",
       "    <tr>\n",
       "      <th>0</th>\n",
       "      <td>446819</td>\n",
       "      <td>-34.600813</td>\n",
       "      <td>-58.497620</td>\n",
       "      <td>Villa del Parque</td>\n",
       "      <td>Departamento</td>\n",
       "      <td>1.0</td>\n",
       "      <td>NaN</td>\n",
       "      <td>45.0</td>\n",
       "      <td>41.0</td>\n",
       "      <td>130000.0</td>\n",
       "    </tr>\n",
       "    <tr>\n",
       "      <th>1</th>\n",
       "      <td>135148</td>\n",
       "      <td>-34.556298</td>\n",
       "      <td>-58.439923</td>\n",
       "      <td>Belgrano</td>\n",
       "      <td>Departamento</td>\n",
       "      <td>5.0</td>\n",
       "      <td>3.0</td>\n",
       "      <td>175.0</td>\n",
       "      <td>141.0</td>\n",
       "      <td>579000.0</td>\n",
       "    </tr>\n",
       "    <tr>\n",
       "      <th>2</th>\n",
       "      <td>445316</td>\n",
       "      <td>-34.612908</td>\n",
       "      <td>-58.386174</td>\n",
       "      <td>Congreso</td>\n",
       "      <td>Departamento</td>\n",
       "      <td>1.0</td>\n",
       "      <td>NaN</td>\n",
       "      <td>25.0</td>\n",
       "      <td>NaN</td>\n",
       "      <td>49000.0</td>\n",
       "    </tr>\n",
       "  </tbody>\n",
       "</table>\n",
       "</div>"
      ],
      "text/plain": [
       "   Unnamed: 0    latitud   longitud          place_l3 property_type  \\\n",
       "0      446819 -34.600813 -58.497620  Villa del Parque  Departamento   \n",
       "1      135148 -34.556298 -58.439923          Belgrano  Departamento   \n",
       "2      445316 -34.612908 -58.386174          Congreso  Departamento   \n",
       "\n",
       "   property_rooms  property_bedrooms  property_surface_total  \\\n",
       "0             1.0                NaN                    45.0   \n",
       "1             5.0                3.0                   175.0   \n",
       "2             1.0                NaN                    25.0   \n",
       "\n",
       "   property_surface_covered  property_price  \n",
       "0                      41.0        130000.0  \n",
       "1                     141.0        579000.0  \n",
       "2                       NaN         49000.0  "
      ]
     },
     "execution_count": 67,
     "metadata": {},
     "output_type": "execute_result"
    }
   ],
   "source": [
    "df_test.head(3)"
   ]
  },
  {
   "cell_type": "markdown",
   "metadata": {},
   "source": [
    "Veo que la columna unnamed es la indicadora de la fila del csv, la borramos"
   ]
  },
  {
   "cell_type": "code",
   "execution_count": 68,
   "metadata": {},
   "outputs": [],
   "source": [
    "df_test.drop(columns=[\"Unnamed: 0\"], inplace=True)"
   ]
  },
  {
   "cell_type": "code",
   "execution_count": 69,
   "metadata": {},
   "outputs": [
    {
     "data": {
      "text/html": [
       "<div>\n",
       "<style scoped>\n",
       "    .dataframe tbody tr th:only-of-type {\n",
       "        vertical-align: middle;\n",
       "    }\n",
       "\n",
       "    .dataframe tbody tr th {\n",
       "        vertical-align: top;\n",
       "    }\n",
       "\n",
       "    .dataframe thead th {\n",
       "        text-align: right;\n",
       "    }\n",
       "</style>\n",
       "<table border=\"1\" class=\"dataframe\">\n",
       "  <thead>\n",
       "    <tr style=\"text-align: right;\">\n",
       "      <th></th>\n",
       "      <th>latitud</th>\n",
       "      <th>longitud</th>\n",
       "      <th>place_l3</th>\n",
       "      <th>property_type</th>\n",
       "      <th>property_rooms</th>\n",
       "      <th>property_bedrooms</th>\n",
       "      <th>property_surface_total</th>\n",
       "      <th>property_surface_covered</th>\n",
       "      <th>property_price</th>\n",
       "    </tr>\n",
       "  </thead>\n",
       "  <tbody>\n",
       "    <tr>\n",
       "      <th>0</th>\n",
       "      <td>-34.600813</td>\n",
       "      <td>-58.497620</td>\n",
       "      <td>Villa del Parque</td>\n",
       "      <td>Departamento</td>\n",
       "      <td>1.0</td>\n",
       "      <td>NaN</td>\n",
       "      <td>45.0</td>\n",
       "      <td>41.0</td>\n",
       "      <td>130000.0</td>\n",
       "    </tr>\n",
       "    <tr>\n",
       "      <th>1</th>\n",
       "      <td>-34.556298</td>\n",
       "      <td>-58.439923</td>\n",
       "      <td>Belgrano</td>\n",
       "      <td>Departamento</td>\n",
       "      <td>5.0</td>\n",
       "      <td>3.0</td>\n",
       "      <td>175.0</td>\n",
       "      <td>141.0</td>\n",
       "      <td>579000.0</td>\n",
       "    </tr>\n",
       "    <tr>\n",
       "      <th>2</th>\n",
       "      <td>-34.612908</td>\n",
       "      <td>-58.386174</td>\n",
       "      <td>Congreso</td>\n",
       "      <td>Departamento</td>\n",
       "      <td>1.0</td>\n",
       "      <td>NaN</td>\n",
       "      <td>25.0</td>\n",
       "      <td>NaN</td>\n",
       "      <td>49000.0</td>\n",
       "    </tr>\n",
       "  </tbody>\n",
       "</table>\n",
       "</div>"
      ],
      "text/plain": [
       "     latitud   longitud          place_l3 property_type  property_rooms  \\\n",
       "0 -34.600813 -58.497620  Villa del Parque  Departamento             1.0   \n",
       "1 -34.556298 -58.439923          Belgrano  Departamento             5.0   \n",
       "2 -34.612908 -58.386174          Congreso  Departamento             1.0   \n",
       "\n",
       "   property_bedrooms  property_surface_total  property_surface_covered  \\\n",
       "0                NaN                    45.0                      41.0   \n",
       "1                3.0                   175.0                     141.0   \n",
       "2                NaN                    25.0                       NaN   \n",
       "\n",
       "   property_price  \n",
       "0        130000.0  \n",
       "1        579000.0  \n",
       "2         49000.0  "
      ]
     },
     "execution_count": 69,
     "metadata": {},
     "output_type": "execute_result"
    }
   ],
   "source": [
    "df_test.head(3)"
   ]
  },
  {
   "cell_type": "code",
   "execution_count": 70,
   "metadata": {},
   "outputs": [
    {
     "data": {
      "text/plain": [
       "(81, 9)"
      ]
     },
     "execution_count": 70,
     "metadata": {},
     "output_type": "execute_result"
    }
   ],
   "source": [
    "df_test[(df_test[\"property_bedrooms\"].isnull()) & (df_test[\"property_rooms\"].isnull())].shape"
   ]
  },
  {
   "cell_type": "code",
   "execution_count": 71,
   "metadata": {},
   "outputs": [
    {
     "data": {
      "text/plain": [
       "(119, 9)"
      ]
     },
     "execution_count": 71,
     "metadata": {},
     "output_type": "execute_result"
    }
   ],
   "source": [
    "df_test[(df_test[\"property_bedrooms\"].notnull()) & (df_test[\"property_rooms\"].isnull())].shape"
   ]
  },
  {
   "cell_type": "code",
   "execution_count": 72,
   "metadata": {},
   "outputs": [
    {
     "data": {
      "text/plain": [
       "(2175, 9)"
      ]
     },
     "execution_count": 72,
     "metadata": {},
     "output_type": "execute_result"
    }
   ],
   "source": [
    "df_test[(df_test[\"property_bedrooms\"].isnull()) & (df_test[\"property_rooms\"].notnull())].shape"
   ]
  },
  {
   "cell_type": "code",
   "execution_count": 73,
   "metadata": {},
   "outputs": [],
   "source": [
    "#1. Eliminar las filas donde ambos datos son null ya que no contamos con la información suficiente para imputar al otro dato. En una futura versión estos datos podrían llegar a imputarse en base a publicaciones de similares características.\n",
    "df_test.dropna(subset=[\"property_bedrooms\", \"property_rooms\"], inplace=True)\n",
    "\n",
    "#2. Imputar la cantidad de habitaciones como cantidad de ambientes - 1\n",
    "df_test[\"property_bedrooms\"].fillna(df_test[\"property_rooms\"] - 1, inplace=True)\n",
    "\n",
    "#3. Imputar la cantidad de ambientes como cantidad de habitaciones + 1\n",
    "df_test[\"property_rooms\"].fillna(df_test[\"property_bedrooms\"] + 1, inplace=True)"
   ]
  },
  {
   "cell_type": "code",
   "execution_count": 74,
   "metadata": {},
   "outputs": [
    {
     "data": {
      "text/plain": [
       "latitud                     605\n",
       "longitud                    605\n",
       "place_l3                     48\n",
       "property_type                 0\n",
       "property_rooms                0\n",
       "property_bedrooms             0\n",
       "property_surface_total      826\n",
       "property_surface_covered    548\n",
       "property_price                0\n",
       "dtype: int64"
      ]
     },
     "execution_count": 74,
     "metadata": {},
     "output_type": "execute_result"
    }
   ],
   "source": [
    "df_test.isnull().sum()"
   ]
  },
  {
   "cell_type": "code",
   "execution_count": 75,
   "metadata": {},
   "outputs": [
    {
     "data": {
      "text/plain": [
       "(0, 9)"
      ]
     },
     "execution_count": 75,
     "metadata": {},
     "output_type": "execute_result"
    }
   ],
   "source": [
    "df_test[(df_test[\"property_surface_covered\"].isnull()) & (df_test[\"property_surface_total\"].isnull())].shape"
   ]
  },
  {
   "cell_type": "code",
   "execution_count": 76,
   "metadata": {},
   "outputs": [
    {
     "data": {
      "text/plain": [
       "(826, 9)"
      ]
     },
     "execution_count": 76,
     "metadata": {},
     "output_type": "execute_result"
    }
   ],
   "source": [
    "df_test[(df_test[\"property_surface_covered\"].notnull()) & (df_test[\"property_surface_total\"].isnull())].shape"
   ]
  },
  {
   "cell_type": "code",
   "execution_count": 77,
   "metadata": {},
   "outputs": [
    {
     "data": {
      "text/plain": [
       "(548, 9)"
      ]
     },
     "execution_count": 77,
     "metadata": {},
     "output_type": "execute_result"
    }
   ],
   "source": [
    "df_test[(df_test[\"property_surface_covered\"].isnull()) & (df_test[\"property_surface_total\"].notnull())].shape"
   ]
  },
  {
   "cell_type": "code",
   "execution_count": 78,
   "metadata": {},
   "outputs": [],
   "source": [
    "#1. Eliminar las filas donde ambos datos son null ya que no contamos con la información suficiente para imputar al otro dato. En una futura versión estos datos podrían llegar a imputarse en base a publicaciones de similares características.\n",
    "df_test.dropna(subset=[\"property_surface_covered\", \"property_surface_total\"], inplace=True)\n",
    "\n",
    "#2. Imputar la superficie cubierta como superficie total\n",
    "df_test[\"property_surface_covered\"].fillna(df_test[\"property_surface_total\"], inplace=True)\n",
    "\n",
    "#3. Imputar superficie total como superficie cubierta\n",
    "df_test[\"property_surface_total\"].fillna(df_test[\"property_surface_covered\"], inplace=True)"
   ]
  },
  {
   "cell_type": "code",
   "execution_count": 79,
   "metadata": {},
   "outputs": [
    {
     "data": {
      "text/plain": [
       "(0, 9)"
      ]
     },
     "execution_count": 79,
     "metadata": {},
     "output_type": "execute_result"
    }
   ],
   "source": [
    "df_test[df_test[\"property_price\"] <= 0].shape"
   ]
  },
  {
   "cell_type": "code",
   "execution_count": 80,
   "metadata": {},
   "outputs": [
    {
     "data": {
      "text/plain": [
       "(0, 9)"
      ]
     },
     "execution_count": 80,
     "metadata": {},
     "output_type": "execute_result"
    }
   ],
   "source": [
    "df_test[df_test[\"property_surface_covered\"] <= 0].shape"
   ]
  },
  {
   "cell_type": "code",
   "execution_count": 81,
   "metadata": {},
   "outputs": [
    {
     "data": {
      "text/plain": [
       "(0, 9)"
      ]
     },
     "execution_count": 81,
     "metadata": {},
     "output_type": "execute_result"
    }
   ],
   "source": [
    "df_test[df_test[\"property_surface_total\"] <= 0].shape"
   ]
  },
  {
   "cell_type": "code",
   "execution_count": 82,
   "metadata": {},
   "outputs": [
    {
     "data": {
      "text/plain": [
       "(31, 9)"
      ]
     },
     "execution_count": 82,
     "metadata": {},
     "output_type": "execute_result"
    }
   ],
   "source": [
    "df_test[df_test[\"property_surface_total\"] < df_test[\"property_surface_covered\"]].shape"
   ]
  },
  {
   "cell_type": "code",
   "execution_count": 83,
   "metadata": {},
   "outputs": [],
   "source": [
    "filas_erroneas = df_test[\"property_surface_total\"] < df_test[\"property_surface_covered\"]"
   ]
  },
  {
   "cell_type": "code",
   "execution_count": 84,
   "metadata": {},
   "outputs": [],
   "source": [
    "df_test.loc[filas_erroneas, [\"property_surface_total\", \"property_surface_covered\"]] = df_test.loc[filas_erroneas, [\"property_surface_covered\", \"property_surface_total\"]].values"
   ]
  },
  {
   "cell_type": "code",
   "execution_count": 85,
   "metadata": {},
   "outputs": [],
   "source": [
    "mediana = df_test[\"property_surface_total\"].median()\n",
    "\n",
    "limite_superior = mediana * 7\n",
    "\n",
    "df_test = df_test[df_test[\"property_surface_total\"] <= limite_superior]"
   ]
  },
  {
   "cell_type": "code",
   "execution_count": 86,
   "metadata": {},
   "outputs": [
    {
     "data": {
      "text/plain": [
       "latitud                     539\n",
       "longitud                    539\n",
       "place_l3                     36\n",
       "property_type                 0\n",
       "property_rooms                0\n",
       "property_bedrooms             0\n",
       "property_surface_total        0\n",
       "property_surface_covered      0\n",
       "property_price                0\n",
       "dtype: int64"
      ]
     },
     "execution_count": 86,
     "metadata": {},
     "output_type": "execute_result"
    }
   ],
   "source": [
    "df_test.isnull().sum()"
   ]
  },
  {
   "cell_type": "code",
   "execution_count": 87,
   "metadata": {},
   "outputs": [
    {
     "data": {
      "text/plain": [
       "(539, 9)"
      ]
     },
     "execution_count": 87,
     "metadata": {},
     "output_type": "execute_result"
    }
   ],
   "source": [
    "df_test[(df_test[\"latitud\"].isnull()) & (df_test[\"longitud\"].isnull())].shape"
   ]
  },
  {
   "cell_type": "code",
   "execution_count": 88,
   "metadata": {},
   "outputs": [],
   "source": [
    "# aca habria que hacer lo que hice antes en la primera entrega (q se borro o no se q paso xd), \n",
    "# si en property_title tengo un barrio, lo pongo como place_l3."
   ]
  },
  {
   "cell_type": "code",
   "execution_count": 89,
   "metadata": {},
   "outputs": [],
   "source": [
    "df_test.dropna(subset=[\"latitud\", \"longitud\", \"place_l3\"], inplace=True)"
   ]
  },
  {
   "cell_type": "code",
   "execution_count": 97,
   "metadata": {},
   "outputs": [
    {
     "name": "stdout",
     "output_type": "stream",
     "text": [
      "<class 'pandas.core.frame.DataFrame'>\n",
      "RangeIndex: 55059 entries, 0 to 55058\n",
      "Data columns (total 16 columns):\n",
      " #   Column                    Non-Null Count  Dtype  \n",
      "---  ------                    --------------  -----  \n",
      " 0   latitud                   55059 non-null  float64\n",
      " 1   longitud                  55059 non-null  float64\n",
      " 2   property_rooms            55059 non-null  float64\n",
      " 3   property_bedrooms         55059 non-null  float64\n",
      " 4   property_surface_total    55059 non-null  float64\n",
      " 5   property_surface_covered  55059 non-null  float64\n",
      " 6   property_price            55059 non-null  float64\n",
      " 7   total_m2_price            55059 non-null  float64\n",
      " 8   covered_m2_price          55059 non-null  float64\n",
      " 9   Casa                      55059 non-null  int64  \n",
      " 10  Departamento              55059 non-null  int64  \n",
      " 11  PH                        55059 non-null  int64  \n",
      " 12  Palermo                   55059 non-null  int64  \n",
      " 13  Belgrano                  55059 non-null  int64  \n",
      " 14  Caballito                 55059 non-null  int64  \n",
      " 15  Otro barrio               55059 non-null  int64  \n",
      "dtypes: float64(9), int64(7)\n",
      "memory usage: 6.7 MB\n"
     ]
    }
   ],
   "source": [
    "df_train.info()"
   ]
  },
  {
   "cell_type": "code",
   "execution_count": 92,
   "metadata": {},
   "outputs": [],
   "source": [
    "df_train.drop(columns=[\"Unnamed: 0\"], inplace=True)"
   ]
  },
  {
   "cell_type": "code",
   "execution_count": 93,
   "metadata": {},
   "outputs": [],
   "source": [
    "df_test[\"total_m2_price\"] = df_test[\"property_price\"] / df_test[\"property_surface_total\"]\n",
    "df_test[\"covered_m2_price\"] = df_test[\"property_price\"] / df_test[\"property_surface_covered\"]"
   ]
  },
  {
   "cell_type": "code",
   "execution_count": 94,
   "metadata": {},
   "outputs": [],
   "source": [
    "df_test = pd.get_dummies(df_test, columns=[\"property_type\"])\n",
    "df_test.rename(columns={\"property_type_Casa\": \"Casa\", \"property_type_Departamento\": \"Departamento\", \"property_type_PH\": \"PH\"}, inplace=True)\n",
    "df_test[\"Casa\"] = df_test[\"Casa\"].astype(int)\n",
    "df_test[\"Departamento\"] = df_test[\"Departamento\"].astype(int)\n",
    "df_test[\"PH\"] = df_test[\"PH\"].astype(int)"
   ]
  },
  {
   "cell_type": "code",
   "execution_count": 95,
   "metadata": {},
   "outputs": [],
   "source": [
    "top_3_barrios = df_test[\"place_l3\"].value_counts().nlargest(3).index.tolist()\n",
    "\n",
    "for value in top_3_barrios:\n",
    "    df_test[value] = (df_test[\"place_l3\"] == value).astype(int)\n",
    "\n",
    "df_test[\"Otro barrio\"] = (~(df_test[\"place_l3\"].isin(top_3_barrios))).astype(int)\n",
    "\n",
    "df_test.drop(columns=[\"place_l3\"], inplace=True)"
   ]
  },
  {
   "cell_type": "code",
   "execution_count": 96,
   "metadata": {},
   "outputs": [
    {
     "name": "stdout",
     "output_type": "stream",
     "text": [
      "<class 'pandas.core.frame.DataFrame'>\n",
      "Index: 14433 entries, 1 to 18849\n",
      "Data columns (total 16 columns):\n",
      " #   Column                    Non-Null Count  Dtype  \n",
      "---  ------                    --------------  -----  \n",
      " 0   latitud                   14433 non-null  float64\n",
      " 1   longitud                  14433 non-null  float64\n",
      " 2   property_rooms            14433 non-null  float64\n",
      " 3   property_bedrooms         14433 non-null  float64\n",
      " 4   property_surface_total    14433 non-null  float64\n",
      " 5   property_surface_covered  14433 non-null  float64\n",
      " 6   property_price            14433 non-null  float64\n",
      " 7   total_m2_price            14433 non-null  float64\n",
      " 8   covered_m2_price          14433 non-null  float64\n",
      " 9   Casa                      14433 non-null  int64  \n",
      " 10  Departamento              14433 non-null  int64  \n",
      " 11  PH                        14433 non-null  int64  \n",
      " 12  Palermo                   14433 non-null  int64  \n",
      " 13  Belgrano                  14433 non-null  int64  \n",
      " 14  Caballito                 14433 non-null  int64  \n",
      " 15  Otro barrio               14433 non-null  int64  \n",
      "dtypes: float64(9), int64(7)\n",
      "memory usage: 1.9 MB\n"
     ]
    }
   ],
   "source": [
    "df_test.info()"
   ]
  }
 ],
 "metadata": {
  "kernelspec": {
   "display_name": "Python 3",
   "language": "python",
   "name": "python3"
  },
  "language_info": {
   "codemirror_mode": {
    "name": "ipython",
    "version": 3
   },
   "file_extension": ".py",
   "mimetype": "text/x-python",
   "name": "python",
   "nbconvert_exporter": "python",
   "pygments_lexer": "ipython3",
   "version": "3.11.6"
  }
 },
 "nbformat": 4,
 "nbformat_minor": 2
}
