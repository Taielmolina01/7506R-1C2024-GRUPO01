{
 "cells": [
  {
   "cell_type": "code",
   "execution_count": 40,
   "metadata": {},
   "outputs": [],
   "source": [
    "import pandas as pd"
   ]
  },
  {
   "cell_type": "code",
   "execution_count": 41,
   "metadata": {},
   "outputs": [],
   "source": [
    "from constants import *"
   ]
  },
  {
   "cell_type": "code",
   "execution_count": 42,
   "metadata": {},
   "outputs": [],
   "source": [
    "df_train = pd.read_csv(PATH_DF_TRAIN)\n",
    "df_test = pd.read_csv(PATH_DF_TEST)"
   ]
  },
  {
   "cell_type": "code",
   "execution_count": 43,
   "metadata": {},
   "outputs": [
    {
     "name": "stdout",
     "output_type": "stream",
     "text": [
      "<class 'pandas.core.frame.DataFrame'>\n",
      "RangeIndex: 18850 entries, 0 to 18849\n",
      "Data columns (total 21 columns):\n",
      " #   Column                    Non-Null Count  Dtype  \n",
      "---  ------                    --------------  -----  \n",
      " 0   Unnamed: 0                18850 non-null  int64  \n",
      " 1   id                        18850 non-null  object \n",
      " 2   start_date                18850 non-null  object \n",
      " 3   end_date                  18850 non-null  object \n",
      " 4   created_on                18850 non-null  object \n",
      " 5   latitud                   18133 non-null  float64\n",
      " 6   longitud                  18133 non-null  float64\n",
      " 7   place_l2                  18850 non-null  object \n",
      " 8   place_l3                  18755 non-null  object \n",
      " 9   place_l4                  740 non-null    object \n",
      " 10  place_l5                  0 non-null      float64\n",
      " 11  place_l6                  0 non-null      float64\n",
      " 12  operation                 18850 non-null  object \n",
      " 13  property_type             18850 non-null  object \n",
      " 14  property_rooms            18650 non-null  float64\n",
      " 15  property_bedrooms         16594 non-null  float64\n",
      " 16  property_surface_total    17860 non-null  float64\n",
      " 17  property_surface_covered  18158 non-null  float64\n",
      " 18  property_price            18850 non-null  float64\n",
      " 19  property_currency         18850 non-null  object \n",
      " 20  property_title            18850 non-null  object \n",
      "dtypes: float64(9), int64(1), object(11)\n",
      "memory usage: 3.0+ MB\n"
     ]
    }
   ],
   "source": [
    "df_test.info()"
   ]
  },
  {
   "cell_type": "markdown",
   "metadata": {},
   "source": [
    "Hacemos el mismo \"tratamiento\" al df_test que el que ya le hicimos al df_train"
   ]
  },
  {
   "cell_type": "code",
   "execution_count": 44,
   "metadata": {},
   "outputs": [],
   "source": [
    "df_test.drop(columns=[\"id\", \"start_date\", \"end_date\", \"created_on\", \"place_l2\", \"place_l4\", \"place_l5\", \"place_l6\", \"operation\", \"property_currency\", \"property_title\"], inplace=True)"
   ]
  },
  {
   "cell_type": "code",
   "execution_count": 45,
   "metadata": {},
   "outputs": [
    {
     "name": "stdout",
     "output_type": "stream",
     "text": [
      "<class 'pandas.core.frame.DataFrame'>\n",
      "RangeIndex: 18850 entries, 0 to 18849\n",
      "Data columns (total 10 columns):\n",
      " #   Column                    Non-Null Count  Dtype  \n",
      "---  ------                    --------------  -----  \n",
      " 0   Unnamed: 0                18850 non-null  int64  \n",
      " 1   latitud                   18133 non-null  float64\n",
      " 2   longitud                  18133 non-null  float64\n",
      " 3   place_l3                  18755 non-null  object \n",
      " 4   property_type             18850 non-null  object \n",
      " 5   property_rooms            18650 non-null  float64\n",
      " 6   property_bedrooms         16594 non-null  float64\n",
      " 7   property_surface_total    17860 non-null  float64\n",
      " 8   property_surface_covered  18158 non-null  float64\n",
      " 9   property_price            18850 non-null  float64\n",
      "dtypes: float64(7), int64(1), object(2)\n",
      "memory usage: 1.4+ MB\n"
     ]
    }
   ],
   "source": [
    "df_test.info()"
   ]
  },
  {
   "cell_type": "code",
   "execution_count": 46,
   "metadata": {},
   "outputs": [
    {
     "data": {
      "text/html": [
       "<div>\n",
       "<style scoped>\n",
       "    .dataframe tbody tr th:only-of-type {\n",
       "        vertical-align: middle;\n",
       "    }\n",
       "\n",
       "    .dataframe tbody tr th {\n",
       "        vertical-align: top;\n",
       "    }\n",
       "\n",
       "    .dataframe thead th {\n",
       "        text-align: right;\n",
       "    }\n",
       "</style>\n",
       "<table border=\"1\" class=\"dataframe\">\n",
       "  <thead>\n",
       "    <tr style=\"text-align: right;\">\n",
       "      <th></th>\n",
       "      <th>Unnamed: 0</th>\n",
       "      <th>latitud</th>\n",
       "      <th>longitud</th>\n",
       "      <th>place_l3</th>\n",
       "      <th>property_type</th>\n",
       "      <th>property_rooms</th>\n",
       "      <th>property_bedrooms</th>\n",
       "      <th>property_surface_total</th>\n",
       "      <th>property_surface_covered</th>\n",
       "      <th>property_price</th>\n",
       "    </tr>\n",
       "  </thead>\n",
       "  <tbody>\n",
       "    <tr>\n",
       "      <th>0</th>\n",
       "      <td>446819</td>\n",
       "      <td>-34.600813</td>\n",
       "      <td>-58.497620</td>\n",
       "      <td>Villa del Parque</td>\n",
       "      <td>Departamento</td>\n",
       "      <td>1.0</td>\n",
       "      <td>NaN</td>\n",
       "      <td>45.0</td>\n",
       "      <td>41.0</td>\n",
       "      <td>130000.0</td>\n",
       "    </tr>\n",
       "    <tr>\n",
       "      <th>1</th>\n",
       "      <td>135148</td>\n",
       "      <td>-34.556298</td>\n",
       "      <td>-58.439923</td>\n",
       "      <td>Belgrano</td>\n",
       "      <td>Departamento</td>\n",
       "      <td>5.0</td>\n",
       "      <td>3.0</td>\n",
       "      <td>175.0</td>\n",
       "      <td>141.0</td>\n",
       "      <td>579000.0</td>\n",
       "    </tr>\n",
       "    <tr>\n",
       "      <th>2</th>\n",
       "      <td>445316</td>\n",
       "      <td>-34.612908</td>\n",
       "      <td>-58.386174</td>\n",
       "      <td>Congreso</td>\n",
       "      <td>Departamento</td>\n",
       "      <td>1.0</td>\n",
       "      <td>NaN</td>\n",
       "      <td>25.0</td>\n",
       "      <td>NaN</td>\n",
       "      <td>49000.0</td>\n",
       "    </tr>\n",
       "  </tbody>\n",
       "</table>\n",
       "</div>"
      ],
      "text/plain": [
       "   Unnamed: 0    latitud   longitud          place_l3 property_type  \\\n",
       "0      446819 -34.600813 -58.497620  Villa del Parque  Departamento   \n",
       "1      135148 -34.556298 -58.439923          Belgrano  Departamento   \n",
       "2      445316 -34.612908 -58.386174          Congreso  Departamento   \n",
       "\n",
       "   property_rooms  property_bedrooms  property_surface_total  \\\n",
       "0             1.0                NaN                    45.0   \n",
       "1             5.0                3.0                   175.0   \n",
       "2             1.0                NaN                    25.0   \n",
       "\n",
       "   property_surface_covered  property_price  \n",
       "0                      41.0        130000.0  \n",
       "1                     141.0        579000.0  \n",
       "2                       NaN         49000.0  "
      ]
     },
     "execution_count": 46,
     "metadata": {},
     "output_type": "execute_result"
    }
   ],
   "source": [
    "df_test.head(3)"
   ]
  },
  {
   "cell_type": "markdown",
   "metadata": {},
   "source": [
    "Veo que la columna unnamed es la indicadora de la fila del csv, la borramos"
   ]
  },
  {
   "cell_type": "code",
   "execution_count": 47,
   "metadata": {},
   "outputs": [],
   "source": [
    "df_test.drop(columns=[\"Unnamed: 0\"], inplace=True)"
   ]
  },
  {
   "cell_type": "code",
   "execution_count": 48,
   "metadata": {},
   "outputs": [
    {
     "data": {
      "text/html": [
       "<div>\n",
       "<style scoped>\n",
       "    .dataframe tbody tr th:only-of-type {\n",
       "        vertical-align: middle;\n",
       "    }\n",
       "\n",
       "    .dataframe tbody tr th {\n",
       "        vertical-align: top;\n",
       "    }\n",
       "\n",
       "    .dataframe thead th {\n",
       "        text-align: right;\n",
       "    }\n",
       "</style>\n",
       "<table border=\"1\" class=\"dataframe\">\n",
       "  <thead>\n",
       "    <tr style=\"text-align: right;\">\n",
       "      <th></th>\n",
       "      <th>latitud</th>\n",
       "      <th>longitud</th>\n",
       "      <th>place_l3</th>\n",
       "      <th>property_type</th>\n",
       "      <th>property_rooms</th>\n",
       "      <th>property_bedrooms</th>\n",
       "      <th>property_surface_total</th>\n",
       "      <th>property_surface_covered</th>\n",
       "      <th>property_price</th>\n",
       "    </tr>\n",
       "  </thead>\n",
       "  <tbody>\n",
       "    <tr>\n",
       "      <th>0</th>\n",
       "      <td>-34.600813</td>\n",
       "      <td>-58.497620</td>\n",
       "      <td>Villa del Parque</td>\n",
       "      <td>Departamento</td>\n",
       "      <td>1.0</td>\n",
       "      <td>NaN</td>\n",
       "      <td>45.0</td>\n",
       "      <td>41.0</td>\n",
       "      <td>130000.0</td>\n",
       "    </tr>\n",
       "    <tr>\n",
       "      <th>1</th>\n",
       "      <td>-34.556298</td>\n",
       "      <td>-58.439923</td>\n",
       "      <td>Belgrano</td>\n",
       "      <td>Departamento</td>\n",
       "      <td>5.0</td>\n",
       "      <td>3.0</td>\n",
       "      <td>175.0</td>\n",
       "      <td>141.0</td>\n",
       "      <td>579000.0</td>\n",
       "    </tr>\n",
       "    <tr>\n",
       "      <th>2</th>\n",
       "      <td>-34.612908</td>\n",
       "      <td>-58.386174</td>\n",
       "      <td>Congreso</td>\n",
       "      <td>Departamento</td>\n",
       "      <td>1.0</td>\n",
       "      <td>NaN</td>\n",
       "      <td>25.0</td>\n",
       "      <td>NaN</td>\n",
       "      <td>49000.0</td>\n",
       "    </tr>\n",
       "  </tbody>\n",
       "</table>\n",
       "</div>"
      ],
      "text/plain": [
       "     latitud   longitud          place_l3 property_type  property_rooms  \\\n",
       "0 -34.600813 -58.497620  Villa del Parque  Departamento             1.0   \n",
       "1 -34.556298 -58.439923          Belgrano  Departamento             5.0   \n",
       "2 -34.612908 -58.386174          Congreso  Departamento             1.0   \n",
       "\n",
       "   property_bedrooms  property_surface_total  property_surface_covered  \\\n",
       "0                NaN                    45.0                      41.0   \n",
       "1                3.0                   175.0                     141.0   \n",
       "2                NaN                    25.0                       NaN   \n",
       "\n",
       "   property_price  \n",
       "0        130000.0  \n",
       "1        579000.0  \n",
       "2         49000.0  "
      ]
     },
     "execution_count": 48,
     "metadata": {},
     "output_type": "execute_result"
    }
   ],
   "source": [
    "df_test.head(3)"
   ]
  },
  {
   "cell_type": "code",
   "execution_count": 49,
   "metadata": {},
   "outputs": [
    {
     "data": {
      "text/plain": [
       "(81, 9)"
      ]
     },
     "execution_count": 49,
     "metadata": {},
     "output_type": "execute_result"
    }
   ],
   "source": [
    "df_test[(df_test[\"property_bedrooms\"].isnull()) & (df_test[\"property_rooms\"].isnull())].shape"
   ]
  },
  {
   "cell_type": "code",
   "execution_count": 50,
   "metadata": {},
   "outputs": [
    {
     "data": {
      "text/plain": [
       "(119, 9)"
      ]
     },
     "execution_count": 50,
     "metadata": {},
     "output_type": "execute_result"
    }
   ],
   "source": [
    "df_test[(df_test[\"property_bedrooms\"].notnull()) & (df_test[\"property_rooms\"].isnull())].shape"
   ]
  },
  {
   "cell_type": "code",
   "execution_count": 51,
   "metadata": {},
   "outputs": [
    {
     "data": {
      "text/plain": [
       "(2175, 9)"
      ]
     },
     "execution_count": 51,
     "metadata": {},
     "output_type": "execute_result"
    }
   ],
   "source": [
    "df_test[(df_test[\"property_bedrooms\"].isnull()) & (df_test[\"property_rooms\"].notnull())].shape"
   ]
  },
  {
   "cell_type": "code",
   "execution_count": 53,
   "metadata": {},
   "outputs": [],
   "source": [
    "#1. Eliminar las filas donde ambos datos son null ya que no contamos con la información suficiente para imputar al otro dato. En una futura versión estos datos podrían llegar a imputarse en base a publicaciones de similares características.\n",
    "df_test.dropna(subset=[\"property_bedrooms\", \"property_rooms\"], inplace=True)\n",
    "\n",
    "#2. Imputar la cantidad de habitaciones como cantidad de ambientes - 1\n",
    "df_test[\"property_bedrooms\"].fillna(df_test[\"property_rooms\"] - 1, inplace=True)\n",
    "\n",
    "#3. Imputar la cantidad de ambientes como cantidad de habitaciones + 1\n",
    "df_test[\"property_rooms\"].fillna(df_test[\"property_bedrooms\"] + 1, inplace=True)"
   ]
  },
  {
   "cell_type": "code",
   "execution_count": 54,
   "metadata": {},
   "outputs": [
    {
     "data": {
      "text/plain": [
       "latitud                     605\n",
       "longitud                    605\n",
       "place_l3                     48\n",
       "property_type                 0\n",
       "property_rooms                0\n",
       "property_bedrooms             0\n",
       "property_surface_total      826\n",
       "property_surface_covered    548\n",
       "property_price                0\n",
       "dtype: int64"
      ]
     },
     "execution_count": 54,
     "metadata": {},
     "output_type": "execute_result"
    }
   ],
   "source": [
    "df_test.isnull().sum()"
   ]
  },
  {
   "cell_type": "code",
   "execution_count": 55,
   "metadata": {},
   "outputs": [
    {
     "data": {
      "text/plain": [
       "(0, 9)"
      ]
     },
     "execution_count": 55,
     "metadata": {},
     "output_type": "execute_result"
    }
   ],
   "source": [
    "df_test[(df_test[\"property_surface_covered\"].isnull()) & (df_test[\"property_surface_total\"].isnull())].shape"
   ]
  },
  {
   "cell_type": "code",
   "execution_count": 56,
   "metadata": {},
   "outputs": [
    {
     "data": {
      "text/plain": [
       "(826, 9)"
      ]
     },
     "execution_count": 56,
     "metadata": {},
     "output_type": "execute_result"
    }
   ],
   "source": [
    "df_test[(df_test[\"property_surface_covered\"].notnull()) & (df_test[\"property_surface_total\"].isnull())].shape"
   ]
  },
  {
   "cell_type": "code",
   "execution_count": 57,
   "metadata": {},
   "outputs": [
    {
     "data": {
      "text/plain": [
       "(548, 9)"
      ]
     },
     "execution_count": 57,
     "metadata": {},
     "output_type": "execute_result"
    }
   ],
   "source": [
    "df_test[(df_test[\"property_surface_covered\"].isnull()) & (df_test[\"property_surface_total\"].notnull())].shape"
   ]
  },
  {
   "cell_type": "code",
   "execution_count": 58,
   "metadata": {},
   "outputs": [],
   "source": [
    "#1. Eliminar las filas donde ambos datos son null ya que no contamos con la información suficiente para imputar al otro dato. En una futura versión estos datos podrían llegar a imputarse en base a publicaciones de similares características.\n",
    "df_test.dropna(subset=[\"property_surface_covered\", \"property_surface_total\"], inplace=True)\n",
    "\n",
    "#2. Imputar la superficie cubierta como superficie total\n",
    "df_test[\"property_surface_covered\"].fillna(df_test[\"property_surface_total\"], inplace=True)\n",
    "\n",
    "#3. Imputar superficie total como superficie cubierta\n",
    "df_test[\"property_surface_total\"].fillna(df_test[\"property_surface_covered\"], inplace=True)"
   ]
  },
  {
   "cell_type": "code",
   "execution_count": 61,
   "metadata": {},
   "outputs": [
    {
     "data": {
      "text/plain": [
       "(0, 9)"
      ]
     },
     "execution_count": 61,
     "metadata": {},
     "output_type": "execute_result"
    }
   ],
   "source": [
    "df_test[df_test[\"property_price\"] <= 0].shape"
   ]
  },
  {
   "cell_type": "code",
   "execution_count": 62,
   "metadata": {},
   "outputs": [
    {
     "data": {
      "text/plain": [
       "(0, 9)"
      ]
     },
     "execution_count": 62,
     "metadata": {},
     "output_type": "execute_result"
    }
   ],
   "source": [
    "df_test[df_test[\"property_surface_covered\"] <= 0].shape"
   ]
  },
  {
   "cell_type": "code",
   "execution_count": 63,
   "metadata": {},
   "outputs": [
    {
     "data": {
      "text/plain": [
       "(0, 9)"
      ]
     },
     "execution_count": 63,
     "metadata": {},
     "output_type": "execute_result"
    }
   ],
   "source": [
    "df_test[df_test[\"property_surface_total\"] <= 0].shape"
   ]
  },
  {
   "cell_type": "code",
   "execution_count": 65,
   "metadata": {},
   "outputs": [
    {
     "data": {
      "text/plain": [
       "(31, 9)"
      ]
     },
     "execution_count": 65,
     "metadata": {},
     "output_type": "execute_result"
    }
   ],
   "source": [
    "df_test[df_test[\"property_surface_total\"] < df_test[\"property_surface_covered\"]].shape"
   ]
  },
  {
   "cell_type": "code",
   "execution_count": 66,
   "metadata": {},
   "outputs": [],
   "source": [
    "filas_erroneas = df_test[\"property_surface_total\"] < df_test[\"property_surface_covered\"]"
   ]
  },
  {
   "cell_type": "code",
   "execution_count": 67,
   "metadata": {},
   "outputs": [],
   "source": [
    "df_test.loc[filas_erroneas, [\"property_surface_total\", \"property_surface_covered\"]] = df_test.loc[filas_erroneas, [\"property_surface_covered\", \"property_surface_total\"]].values"
   ]
  }
 ],
 "metadata": {
  "kernelspec": {
   "display_name": "Python 3",
   "language": "python",
   "name": "python3"
  },
  "language_info": {
   "codemirror_mode": {
    "name": "ipython",
    "version": 3
   },
   "file_extension": ".py",
   "mimetype": "text/x-python",
   "name": "python",
   "nbconvert_exporter": "python",
   "pygments_lexer": "ipython3",
   "version": "3.11.6"
  }
 },
 "nbformat": 4,
 "nbformat_minor": 2
}
