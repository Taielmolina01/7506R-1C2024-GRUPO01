{
 "cells": [
  {
   "cell_type": "code",
   "execution_count": 615,
   "metadata": {},
   "outputs": [],
   "source": [
    "import pandas as pd"
   ]
  },
  {
   "cell_type": "code",
   "execution_count": 616,
   "metadata": {},
   "outputs": [],
   "source": [
    "from constants import *\n",
    "import seaborn as sns\n",
    "import matplotlib.pyplot as plt"
   ]
  },
  {
   "cell_type": "code",
   "execution_count": 617,
   "metadata": {},
   "outputs": [],
   "source": [
    "df_train = pd.read_csv(PATH_DF_TRAIN)\n",
    "df_test = pd.read_csv(PATH_DF_TEST)"
   ]
  },
  {
   "cell_type": "code",
   "execution_count": 618,
   "metadata": {},
   "outputs": [
    {
     "name": "stdout",
     "output_type": "stream",
     "text": [
      "<class 'pandas.core.frame.DataFrame'>\n",
      "RangeIndex: 18850 entries, 0 to 18849\n",
      "Data columns (total 21 columns):\n",
      " #   Column                    Non-Null Count  Dtype  \n",
      "---  ------                    --------------  -----  \n",
      " 0   Unnamed: 0                18850 non-null  int64  \n",
      " 1   id                        18850 non-null  object \n",
      " 2   start_date                18850 non-null  object \n",
      " 3   end_date                  18850 non-null  object \n",
      " 4   created_on                18850 non-null  object \n",
      " 5   latitud                   18133 non-null  float64\n",
      " 6   longitud                  18133 non-null  float64\n",
      " 7   place_l2                  18850 non-null  object \n",
      " 8   place_l3                  18755 non-null  object \n",
      " 9   place_l4                  740 non-null    object \n",
      " 10  place_l5                  0 non-null      float64\n",
      " 11  place_l6                  0 non-null      float64\n",
      " 12  operation                 18850 non-null  object \n",
      " 13  property_type             18850 non-null  object \n",
      " 14  property_rooms            18650 non-null  float64\n",
      " 15  property_bedrooms         16594 non-null  float64\n",
      " 16  property_surface_total    17860 non-null  float64\n",
      " 17  property_surface_covered  18158 non-null  float64\n",
      " 18  property_price            18850 non-null  float64\n",
      " 19  property_currency         18850 non-null  object \n",
      " 20  property_title            18850 non-null  object \n",
      "dtypes: float64(9), int64(1), object(11)\n",
      "memory usage: 3.0+ MB\n"
     ]
    }
   ],
   "source": [
    "df_test.info()"
   ]
  },
  {
   "cell_type": "markdown",
   "metadata": {},
   "source": [
    "Hacemos el mismo \"tratamiento\" al df_test que el que ya le hicimos al df_train"
   ]
  },
  {
   "cell_type": "code",
   "execution_count": 619,
   "metadata": {},
   "outputs": [],
   "source": [
    "df_test.drop(columns=[\"id\", \"start_date\", \"end_date\", \"created_on\", \"place_l2\", \"place_l4\", \"place_l5\", \"place_l6\", \"operation\", \"property_currency\", \"property_title\"], inplace=True)"
   ]
  },
  {
   "cell_type": "code",
   "execution_count": 620,
   "metadata": {},
   "outputs": [
    {
     "name": "stdout",
     "output_type": "stream",
     "text": [
      "<class 'pandas.core.frame.DataFrame'>\n",
      "RangeIndex: 18850 entries, 0 to 18849\n",
      "Data columns (total 10 columns):\n",
      " #   Column                    Non-Null Count  Dtype  \n",
      "---  ------                    --------------  -----  \n",
      " 0   Unnamed: 0                18850 non-null  int64  \n",
      " 1   latitud                   18133 non-null  float64\n",
      " 2   longitud                  18133 non-null  float64\n",
      " 3   place_l3                  18755 non-null  object \n",
      " 4   property_type             18850 non-null  object \n",
      " 5   property_rooms            18650 non-null  float64\n",
      " 6   property_bedrooms         16594 non-null  float64\n",
      " 7   property_surface_total    17860 non-null  float64\n",
      " 8   property_surface_covered  18158 non-null  float64\n",
      " 9   property_price            18850 non-null  float64\n",
      "dtypes: float64(7), int64(1), object(2)\n",
      "memory usage: 1.4+ MB\n"
     ]
    }
   ],
   "source": [
    "df_test.info()"
   ]
  },
  {
   "cell_type": "code",
   "execution_count": 621,
   "metadata": {},
   "outputs": [
    {
     "data": {
      "text/html": [
       "<div>\n",
       "<style scoped>\n",
       "    .dataframe tbody tr th:only-of-type {\n",
       "        vertical-align: middle;\n",
       "    }\n",
       "\n",
       "    .dataframe tbody tr th {\n",
       "        vertical-align: top;\n",
       "    }\n",
       "\n",
       "    .dataframe thead th {\n",
       "        text-align: right;\n",
       "    }\n",
       "</style>\n",
       "<table border=\"1\" class=\"dataframe\">\n",
       "  <thead>\n",
       "    <tr style=\"text-align: right;\">\n",
       "      <th></th>\n",
       "      <th>Unnamed: 0</th>\n",
       "      <th>latitud</th>\n",
       "      <th>longitud</th>\n",
       "      <th>place_l3</th>\n",
       "      <th>property_type</th>\n",
       "      <th>property_rooms</th>\n",
       "      <th>property_bedrooms</th>\n",
       "      <th>property_surface_total</th>\n",
       "      <th>property_surface_covered</th>\n",
       "      <th>property_price</th>\n",
       "    </tr>\n",
       "  </thead>\n",
       "  <tbody>\n",
       "    <tr>\n",
       "      <th>0</th>\n",
       "      <td>446819</td>\n",
       "      <td>-34.600813</td>\n",
       "      <td>-58.497620</td>\n",
       "      <td>Villa del Parque</td>\n",
       "      <td>Departamento</td>\n",
       "      <td>1.0</td>\n",
       "      <td>NaN</td>\n",
       "      <td>45.0</td>\n",
       "      <td>41.0</td>\n",
       "      <td>130000.0</td>\n",
       "    </tr>\n",
       "    <tr>\n",
       "      <th>1</th>\n",
       "      <td>135148</td>\n",
       "      <td>-34.556298</td>\n",
       "      <td>-58.439923</td>\n",
       "      <td>Belgrano</td>\n",
       "      <td>Departamento</td>\n",
       "      <td>5.0</td>\n",
       "      <td>3.0</td>\n",
       "      <td>175.0</td>\n",
       "      <td>141.0</td>\n",
       "      <td>579000.0</td>\n",
       "    </tr>\n",
       "    <tr>\n",
       "      <th>2</th>\n",
       "      <td>445316</td>\n",
       "      <td>-34.612908</td>\n",
       "      <td>-58.386174</td>\n",
       "      <td>Congreso</td>\n",
       "      <td>Departamento</td>\n",
       "      <td>1.0</td>\n",
       "      <td>NaN</td>\n",
       "      <td>25.0</td>\n",
       "      <td>NaN</td>\n",
       "      <td>49000.0</td>\n",
       "    </tr>\n",
       "  </tbody>\n",
       "</table>\n",
       "</div>"
      ],
      "text/plain": [
       "   Unnamed: 0    latitud   longitud          place_l3 property_type  \\\n",
       "0      446819 -34.600813 -58.497620  Villa del Parque  Departamento   \n",
       "1      135148 -34.556298 -58.439923          Belgrano  Departamento   \n",
       "2      445316 -34.612908 -58.386174          Congreso  Departamento   \n",
       "\n",
       "   property_rooms  property_bedrooms  property_surface_total  \\\n",
       "0             1.0                NaN                    45.0   \n",
       "1             5.0                3.0                   175.0   \n",
       "2             1.0                NaN                    25.0   \n",
       "\n",
       "   property_surface_covered  property_price  \n",
       "0                      41.0        130000.0  \n",
       "1                     141.0        579000.0  \n",
       "2                       NaN         49000.0  "
      ]
     },
     "execution_count": 621,
     "metadata": {},
     "output_type": "execute_result"
    }
   ],
   "source": [
    "df_test.head(3)"
   ]
  },
  {
   "cell_type": "markdown",
   "metadata": {},
   "source": [
    "Veo que la columna unnamed es la indicadora de la fila del csv, la borramos"
   ]
  },
  {
   "cell_type": "code",
   "execution_count": 622,
   "metadata": {},
   "outputs": [],
   "source": [
    "df_test.drop(columns=[\"Unnamed: 0\"], inplace=True)"
   ]
  },
  {
   "cell_type": "code",
   "execution_count": 623,
   "metadata": {},
   "outputs": [
    {
     "data": {
      "text/html": [
       "<div>\n",
       "<style scoped>\n",
       "    .dataframe tbody tr th:only-of-type {\n",
       "        vertical-align: middle;\n",
       "    }\n",
       "\n",
       "    .dataframe tbody tr th {\n",
       "        vertical-align: top;\n",
       "    }\n",
       "\n",
       "    .dataframe thead th {\n",
       "        text-align: right;\n",
       "    }\n",
       "</style>\n",
       "<table border=\"1\" class=\"dataframe\">\n",
       "  <thead>\n",
       "    <tr style=\"text-align: right;\">\n",
       "      <th></th>\n",
       "      <th>latitud</th>\n",
       "      <th>longitud</th>\n",
       "      <th>place_l3</th>\n",
       "      <th>property_type</th>\n",
       "      <th>property_rooms</th>\n",
       "      <th>property_bedrooms</th>\n",
       "      <th>property_surface_total</th>\n",
       "      <th>property_surface_covered</th>\n",
       "      <th>property_price</th>\n",
       "    </tr>\n",
       "  </thead>\n",
       "  <tbody>\n",
       "    <tr>\n",
       "      <th>0</th>\n",
       "      <td>-34.600813</td>\n",
       "      <td>-58.497620</td>\n",
       "      <td>Villa del Parque</td>\n",
       "      <td>Departamento</td>\n",
       "      <td>1.0</td>\n",
       "      <td>NaN</td>\n",
       "      <td>45.0</td>\n",
       "      <td>41.0</td>\n",
       "      <td>130000.0</td>\n",
       "    </tr>\n",
       "    <tr>\n",
       "      <th>1</th>\n",
       "      <td>-34.556298</td>\n",
       "      <td>-58.439923</td>\n",
       "      <td>Belgrano</td>\n",
       "      <td>Departamento</td>\n",
       "      <td>5.0</td>\n",
       "      <td>3.0</td>\n",
       "      <td>175.0</td>\n",
       "      <td>141.0</td>\n",
       "      <td>579000.0</td>\n",
       "    </tr>\n",
       "    <tr>\n",
       "      <th>2</th>\n",
       "      <td>-34.612908</td>\n",
       "      <td>-58.386174</td>\n",
       "      <td>Congreso</td>\n",
       "      <td>Departamento</td>\n",
       "      <td>1.0</td>\n",
       "      <td>NaN</td>\n",
       "      <td>25.0</td>\n",
       "      <td>NaN</td>\n",
       "      <td>49000.0</td>\n",
       "    </tr>\n",
       "  </tbody>\n",
       "</table>\n",
       "</div>"
      ],
      "text/plain": [
       "     latitud   longitud          place_l3 property_type  property_rooms  \\\n",
       "0 -34.600813 -58.497620  Villa del Parque  Departamento             1.0   \n",
       "1 -34.556298 -58.439923          Belgrano  Departamento             5.0   \n",
       "2 -34.612908 -58.386174          Congreso  Departamento             1.0   \n",
       "\n",
       "   property_bedrooms  property_surface_total  property_surface_covered  \\\n",
       "0                NaN                    45.0                      41.0   \n",
       "1                3.0                   175.0                     141.0   \n",
       "2                NaN                    25.0                       NaN   \n",
       "\n",
       "   property_price  \n",
       "0        130000.0  \n",
       "1        579000.0  \n",
       "2         49000.0  "
      ]
     },
     "execution_count": 623,
     "metadata": {},
     "output_type": "execute_result"
    }
   ],
   "source": [
    "df_test.head(3)"
   ]
  },
  {
   "cell_type": "code",
   "execution_count": 624,
   "metadata": {},
   "outputs": [
    {
     "data": {
      "text/plain": [
       "(81, 9)"
      ]
     },
     "execution_count": 624,
     "metadata": {},
     "output_type": "execute_result"
    }
   ],
   "source": [
    "df_test[(df_test[\"property_bedrooms\"].isnull()) & (df_test[\"property_rooms\"].isnull())].shape"
   ]
  },
  {
   "cell_type": "code",
   "execution_count": 625,
   "metadata": {},
   "outputs": [
    {
     "data": {
      "text/plain": [
       "(119, 9)"
      ]
     },
     "execution_count": 625,
     "metadata": {},
     "output_type": "execute_result"
    }
   ],
   "source": [
    "df_test[(df_test[\"property_bedrooms\"].notnull()) & (df_test[\"property_rooms\"].isnull())].shape"
   ]
  },
  {
   "cell_type": "code",
   "execution_count": 626,
   "metadata": {},
   "outputs": [
    {
     "data": {
      "text/plain": [
       "(2175, 9)"
      ]
     },
     "execution_count": 626,
     "metadata": {},
     "output_type": "execute_result"
    }
   ],
   "source": [
    "df_test[(df_test[\"property_bedrooms\"].isnull()) & (df_test[\"property_rooms\"].notnull())].shape"
   ]
  },
  {
   "cell_type": "code",
   "execution_count": 627,
   "metadata": {},
   "outputs": [
    {
     "name": "stderr",
     "output_type": "stream",
     "text": [
      "/tmp/ipykernel_23840/1460161699.py:5: FutureWarning: A value is trying to be set on a copy of a DataFrame or Series through chained assignment using an inplace method.\n",
      "The behavior will change in pandas 3.0. This inplace method will never work because the intermediate object on which we are setting values always behaves as a copy.\n",
      "\n",
      "For example, when doing 'df[col].method(value, inplace=True)', try using 'df.method({col: value}, inplace=True)' or df[col] = df[col].method(value) instead, to perform the operation inplace on the original object.\n",
      "\n",
      "\n",
      "  df_test[\"property_bedrooms\"].fillna(df_test[\"property_rooms\"] - 1, inplace=True)\n",
      "/tmp/ipykernel_23840/1460161699.py:8: FutureWarning: A value is trying to be set on a copy of a DataFrame or Series through chained assignment using an inplace method.\n",
      "The behavior will change in pandas 3.0. This inplace method will never work because the intermediate object on which we are setting values always behaves as a copy.\n",
      "\n",
      "For example, when doing 'df[col].method(value, inplace=True)', try using 'df.method({col: value}, inplace=True)' or df[col] = df[col].method(value) instead, to perform the operation inplace on the original object.\n",
      "\n",
      "\n",
      "  df_test[\"property_rooms\"].fillna(df_test[\"property_bedrooms\"] + 1, inplace=True)\n"
     ]
    }
   ],
   "source": [
    "#1. Eliminar las filas donde ambos datos son null ya que no contamos con la información suficiente para imputar al otro dato. En una futura versión estos datos podrían llegar a imputarse en base a publicaciones de similares características.\n",
    "df_test.dropna(subset=[\"property_bedrooms\", \"property_rooms\"], inplace=True)\n",
    "\n",
    "#2. Imputar la cantidad de habitaciones como cantidad de ambientes - 1\n",
    "df_test[\"property_bedrooms\"].fillna(df_test[\"property_rooms\"] - 1, inplace=True)\n",
    "\n",
    "#3. Imputar la cantidad de ambientes como cantidad de habitaciones + 1\n",
    "df_test[\"property_rooms\"].fillna(df_test[\"property_bedrooms\"] + 1, inplace=True)"
   ]
  },
  {
   "cell_type": "code",
   "execution_count": 628,
   "metadata": {},
   "outputs": [
    {
     "data": {
      "text/plain": [
       "latitud                     605\n",
       "longitud                    605\n",
       "place_l3                     48\n",
       "property_type                 0\n",
       "property_rooms                0\n",
       "property_bedrooms             0\n",
       "property_surface_total      826\n",
       "property_surface_covered    548\n",
       "property_price                0\n",
       "dtype: int64"
      ]
     },
     "execution_count": 628,
     "metadata": {},
     "output_type": "execute_result"
    }
   ],
   "source": [
    "df_test.isnull().sum()"
   ]
  },
  {
   "cell_type": "code",
   "execution_count": 629,
   "metadata": {},
   "outputs": [
    {
     "data": {
      "text/plain": [
       "(0, 9)"
      ]
     },
     "execution_count": 629,
     "metadata": {},
     "output_type": "execute_result"
    }
   ],
   "source": [
    "df_test[(df_test[\"property_surface_covered\"].isnull()) & (df_test[\"property_surface_total\"].isnull())].shape"
   ]
  },
  {
   "cell_type": "code",
   "execution_count": 630,
   "metadata": {},
   "outputs": [
    {
     "data": {
      "text/plain": [
       "(826, 9)"
      ]
     },
     "execution_count": 630,
     "metadata": {},
     "output_type": "execute_result"
    }
   ],
   "source": [
    "df_test[(df_test[\"property_surface_covered\"].notnull()) & (df_test[\"property_surface_total\"].isnull())].shape"
   ]
  },
  {
   "cell_type": "code",
   "execution_count": 631,
   "metadata": {},
   "outputs": [
    {
     "data": {
      "text/plain": [
       "(548, 9)"
      ]
     },
     "execution_count": 631,
     "metadata": {},
     "output_type": "execute_result"
    }
   ],
   "source": [
    "df_test[(df_test[\"property_surface_covered\"].isnull()) & (df_test[\"property_surface_total\"].notnull())].shape"
   ]
  },
  {
   "cell_type": "code",
   "execution_count": 632,
   "metadata": {},
   "outputs": [
    {
     "name": "stderr",
     "output_type": "stream",
     "text": [
      "/tmp/ipykernel_23840/1190692529.py:5: FutureWarning: A value is trying to be set on a copy of a DataFrame or Series through chained assignment using an inplace method.\n",
      "The behavior will change in pandas 3.0. This inplace method will never work because the intermediate object on which we are setting values always behaves as a copy.\n",
      "\n",
      "For example, when doing 'df[col].method(value, inplace=True)', try using 'df.method({col: value}, inplace=True)' or df[col] = df[col].method(value) instead, to perform the operation inplace on the original object.\n",
      "\n",
      "\n",
      "  df_test[\"property_surface_covered\"].fillna(df_test[\"property_surface_total\"], inplace=True)\n",
      "/tmp/ipykernel_23840/1190692529.py:8: FutureWarning: A value is trying to be set on a copy of a DataFrame or Series through chained assignment using an inplace method.\n",
      "The behavior will change in pandas 3.0. This inplace method will never work because the intermediate object on which we are setting values always behaves as a copy.\n",
      "\n",
      "For example, when doing 'df[col].method(value, inplace=True)', try using 'df.method({col: value}, inplace=True)' or df[col] = df[col].method(value) instead, to perform the operation inplace on the original object.\n",
      "\n",
      "\n",
      "  df_test[\"property_surface_total\"].fillna(df_test[\"property_surface_covered\"], inplace=True)\n"
     ]
    }
   ],
   "source": [
    "#1. Eliminar las filas donde ambos datos son null ya que no contamos con la información suficiente para imputar al otro dato. En una futura versión estos datos podrían llegar a imputarse en base a publicaciones de similares características.\n",
    "df_test.dropna(subset=[\"property_surface_covered\", \"property_surface_total\"], inplace=True)\n",
    "\n",
    "#2. Imputar la superficie cubierta como superficie total\n",
    "df_test[\"property_surface_covered\"].fillna(df_test[\"property_surface_total\"], inplace=True)\n",
    "\n",
    "#3. Imputar superficie total como superficie cubierta\n",
    "df_test[\"property_surface_total\"].fillna(df_test[\"property_surface_covered\"], inplace=True)"
   ]
  },
  {
   "cell_type": "code",
   "execution_count": 633,
   "metadata": {},
   "outputs": [
    {
     "data": {
      "text/plain": [
       "(0, 9)"
      ]
     },
     "execution_count": 633,
     "metadata": {},
     "output_type": "execute_result"
    }
   ],
   "source": [
    "df_test[df_test[\"property_price\"] <= 0].shape"
   ]
  },
  {
   "cell_type": "code",
   "execution_count": 634,
   "metadata": {},
   "outputs": [
    {
     "data": {
      "text/plain": [
       "(0, 9)"
      ]
     },
     "execution_count": 634,
     "metadata": {},
     "output_type": "execute_result"
    }
   ],
   "source": [
    "df_test[df_test[\"property_surface_covered\"] <= 0].shape"
   ]
  },
  {
   "cell_type": "code",
   "execution_count": 635,
   "metadata": {},
   "outputs": [
    {
     "data": {
      "text/plain": [
       "(0, 9)"
      ]
     },
     "execution_count": 635,
     "metadata": {},
     "output_type": "execute_result"
    }
   ],
   "source": [
    "df_test[df_test[\"property_surface_total\"] <= 0].shape"
   ]
  },
  {
   "cell_type": "code",
   "execution_count": 636,
   "metadata": {},
   "outputs": [
    {
     "data": {
      "text/plain": [
       "(31, 9)"
      ]
     },
     "execution_count": 636,
     "metadata": {},
     "output_type": "execute_result"
    }
   ],
   "source": [
    "df_test[df_test[\"property_surface_total\"] < df_test[\"property_surface_covered\"]].shape"
   ]
  },
  {
   "cell_type": "code",
   "execution_count": 637,
   "metadata": {},
   "outputs": [],
   "source": [
    "filas_erroneas = df_test[\"property_surface_total\"] < df_test[\"property_surface_covered\"]"
   ]
  },
  {
   "cell_type": "code",
   "execution_count": 638,
   "metadata": {},
   "outputs": [],
   "source": [
    "df_test.loc[filas_erroneas, [\"property_surface_total\", \"property_surface_covered\"]] = df_test.loc[filas_erroneas, [\"property_surface_covered\", \"property_surface_total\"]].values"
   ]
  },
  {
   "cell_type": "code",
   "execution_count": 639,
   "metadata": {},
   "outputs": [],
   "source": [
    "mediana = df_test[\"property_surface_total\"].median()\n",
    "\n",
    "limite_superior = mediana * 7\n",
    "\n",
    "df_test = df_test[df_test[\"property_surface_total\"] <= limite_superior]"
   ]
  },
  {
   "cell_type": "code",
   "execution_count": 640,
   "metadata": {},
   "outputs": [
    {
     "data": {
      "text/plain": [
       "latitud                     539\n",
       "longitud                    539\n",
       "place_l3                     36\n",
       "property_type                 0\n",
       "property_rooms                0\n",
       "property_bedrooms             0\n",
       "property_surface_total        0\n",
       "property_surface_covered      0\n",
       "property_price                0\n",
       "dtype: int64"
      ]
     },
     "execution_count": 640,
     "metadata": {},
     "output_type": "execute_result"
    }
   ],
   "source": [
    "df_test.isnull().sum()"
   ]
  },
  {
   "cell_type": "code",
   "execution_count": 641,
   "metadata": {},
   "outputs": [
    {
     "data": {
      "text/plain": [
       "(539, 9)"
      ]
     },
     "execution_count": 641,
     "metadata": {},
     "output_type": "execute_result"
    }
   ],
   "source": [
    "df_test[(df_test[\"latitud\"].isnull()) & (df_test[\"longitud\"].isnull())].shape"
   ]
  },
  {
   "cell_type": "code",
   "execution_count": 642,
   "metadata": {},
   "outputs": [],
   "source": [
    "# aca habria que hacer lo que hice antes en la primera entrega (q se borro o no se q paso xd), \n",
    "# si en property_title tengo un barrio, lo pongo como place_l3."
   ]
  },
  {
   "cell_type": "code",
   "execution_count": 643,
   "metadata": {},
   "outputs": [],
   "source": [
    "df_test.dropna(subset=[\"latitud\", \"longitud\", \"place_l3\"], inplace=True)"
   ]
  },
  {
   "cell_type": "code",
   "execution_count": 644,
   "metadata": {},
   "outputs": [
    {
     "name": "stdout",
     "output_type": "stream",
     "text": [
      "<class 'pandas.core.frame.DataFrame'>\n",
      "RangeIndex: 55059 entries, 0 to 55058\n",
      "Data columns (total 17 columns):\n",
      " #   Column                    Non-Null Count  Dtype  \n",
      "---  ------                    --------------  -----  \n",
      " 0   Unnamed: 0                55059 non-null  int64  \n",
      " 1   latitud                   55059 non-null  float64\n",
      " 2   longitud                  55059 non-null  float64\n",
      " 3   property_rooms            55059 non-null  float64\n",
      " 4   property_bedrooms         55059 non-null  float64\n",
      " 5   property_surface_total    55059 non-null  float64\n",
      " 6   property_surface_covered  55059 non-null  float64\n",
      " 7   property_price            55059 non-null  float64\n",
      " 8   total_m2_price            55059 non-null  float64\n",
      " 9   covered_m2_price          55059 non-null  float64\n",
      " 10  Casa                      55059 non-null  int64  \n",
      " 11  Departamento              55059 non-null  int64  \n",
      " 12  PH                        55059 non-null  int64  \n",
      " 13  Palermo                   55059 non-null  int64  \n",
      " 14  Belgrano                  55059 non-null  int64  \n",
      " 15  Caballito                 55059 non-null  int64  \n",
      " 16  Otro barrio               55059 non-null  int64  \n",
      "dtypes: float64(9), int64(8)\n",
      "memory usage: 7.1 MB\n"
     ]
    }
   ],
   "source": [
    "df_train.info()"
   ]
  },
  {
   "cell_type": "code",
   "execution_count": 645,
   "metadata": {},
   "outputs": [],
   "source": [
    "df_train.drop(columns=[\"Unnamed: 0\"], inplace=True)"
   ]
  },
  {
   "cell_type": "code",
   "execution_count": 646,
   "metadata": {},
   "outputs": [],
   "source": [
    "df_test[\"total_m2_price\"] = df_test[\"property_price\"] / df_test[\"property_surface_total\"]\n",
    "df_test[\"covered_m2_price\"] = df_test[\"property_price\"] / df_test[\"property_surface_covered\"]"
   ]
  },
  {
   "cell_type": "code",
   "execution_count": 647,
   "metadata": {},
   "outputs": [],
   "source": [
    "df_test = pd.get_dummies(df_test, columns=[\"property_type\"])\n",
    "df_test.rename(columns={\"property_type_Casa\": \"Casa\", \"property_type_Departamento\": \"Departamento\", \"property_type_PH\": \"PH\"}, inplace=True)\n",
    "df_test[\"Casa\"] = df_test[\"Casa\"].astype(int)\n",
    "df_test[\"Departamento\"] = df_test[\"Departamento\"].astype(int)\n",
    "df_test[\"PH\"] = df_test[\"PH\"].astype(int)"
   ]
  },
  {
   "cell_type": "code",
   "execution_count": 648,
   "metadata": {},
   "outputs": [],
   "source": [
    "top_3_barrios = df_test[\"place_l3\"].value_counts().nlargest(3).index.tolist()\n",
    "\n",
    "for value in top_3_barrios:\n",
    "    df_test[value] = (df_test[\"place_l3\"] == value).astype(int)\n",
    "\n",
    "df_test[\"Otro barrio\"] = (~(df_test[\"place_l3\"].isin(top_3_barrios))).astype(int)\n",
    "\n",
    "df_test.drop(columns=[\"place_l3\"], inplace=True)"
   ]
  },
  {
   "cell_type": "code",
   "execution_count": 649,
   "metadata": {},
   "outputs": [
    {
     "name": "stdout",
     "output_type": "stream",
     "text": [
      "<class 'pandas.core.frame.DataFrame'>\n",
      "Index: 14433 entries, 1 to 18849\n",
      "Data columns (total 16 columns):\n",
      " #   Column                    Non-Null Count  Dtype  \n",
      "---  ------                    --------------  -----  \n",
      " 0   latitud                   14433 non-null  float64\n",
      " 1   longitud                  14433 non-null  float64\n",
      " 2   property_rooms            14433 non-null  float64\n",
      " 3   property_bedrooms         14433 non-null  float64\n",
      " 4   property_surface_total    14433 non-null  float64\n",
      " 5   property_surface_covered  14433 non-null  float64\n",
      " 6   property_price            14433 non-null  float64\n",
      " 7   total_m2_price            14433 non-null  float64\n",
      " 8   covered_m2_price          14433 non-null  float64\n",
      " 9   Casa                      14433 non-null  int64  \n",
      " 10  Departamento              14433 non-null  int64  \n",
      " 11  PH                        14433 non-null  int64  \n",
      " 12  Palermo                   14433 non-null  int64  \n",
      " 13  Belgrano                  14433 non-null  int64  \n",
      " 14  Caballito                 14433 non-null  int64  \n",
      " 15  Otro barrio               14433 non-null  int64  \n",
      "dtypes: float64(9), int64(7)\n",
      "memory usage: 1.9 MB\n"
     ]
    }
   ],
   "source": [
    "df_test.info()"
   ]
  },
  {
   "cell_type": "markdown",
   "metadata": {},
   "source": [
    "## Construcción del target para clasificar"
   ]
  },
  {
   "cell_type": "markdown",
   "metadata": {},
   "source": [
    "## Modelos clasificación"
   ]
  },
  {
   "cell_type": "code",
   "execution_count": 650,
   "metadata": {},
   "outputs": [
    {
     "data": {
      "text/plain": [
       "(Index(['latitud', 'longitud', 'property_rooms', 'property_bedrooms',\n",
       "        'property_surface_total', 'property_surface_covered', 'property_price',\n",
       "        'total_m2_price', 'covered_m2_price', 'Casa', 'Departamento', 'PH',\n",
       "        'Palermo', 'Belgrano', 'Caballito', 'Otro barrio'],\n",
       "       dtype='object'),\n",
       " Index(['latitud', 'longitud', 'property_rooms', 'property_bedrooms',\n",
       "        'property_surface_total', 'property_surface_covered', 'property_price',\n",
       "        'total_m2_price', 'covered_m2_price', 'Casa', 'Departamento', 'PH',\n",
       "        'Palermo', 'Belgrano', 'Caballito', 'Otro barrio'],\n",
       "       dtype='object'))"
      ]
     },
     "execution_count": 650,
     "metadata": {},
     "output_type": "execute_result"
    }
   ],
   "source": [
    "df_train.columns, df_test.columns"
   ]
  },
  {
   "cell_type": "code",
   "execution_count": 651,
   "metadata": {},
   "outputs": [
    {
     "data": {
      "text/plain": [
       "(4787.234042553191, 37777.77777777778)"
      ]
     },
     "execution_count": 651,
     "metadata": {},
     "output_type": "execute_result"
    }
   ],
   "source": [
    "df_train[\"total_m2_price\"].max(), df_test[\"total_m2_price\"].max()"
   ]
  },
  {
   "cell_type": "code",
   "execution_count": 652,
   "metadata": {},
   "outputs": [],
   "source": [
    "tope_bajo = df_train[\"total_m2_price\"].quantile(1/3)\n",
    "piso_alto = df_train[\"total_m2_price\"].quantile(2/3)\n",
    "\n",
    "labels = [0, 1, 2]\n",
    "\n",
    "df_train[\"tipo_precio\"] = pd.cut(df_train[\"total_m2_price\"], bins=[-float('inf'), tope_bajo, piso_alto, float('inf')], labels=labels, include_lowest=True)\n",
    "\n",
    "df_train[\"tipo_precio\"] = df_train[\"tipo_precio\"].astype(int)"
   ]
  },
  {
   "cell_type": "code",
   "execution_count": 653,
   "metadata": {},
   "outputs": [
    {
     "data": {
      "text/html": [
       "<div>\n",
       "<style scoped>\n",
       "    .dataframe tbody tr th:only-of-type {\n",
       "        vertical-align: middle;\n",
       "    }\n",
       "\n",
       "    .dataframe tbody tr th {\n",
       "        vertical-align: top;\n",
       "    }\n",
       "\n",
       "    .dataframe thead th {\n",
       "        text-align: right;\n",
       "    }\n",
       "</style>\n",
       "<table border=\"1\" class=\"dataframe\">\n",
       "  <thead>\n",
       "    <tr style=\"text-align: right;\">\n",
       "      <th></th>\n",
       "      <th>latitud</th>\n",
       "      <th>longitud</th>\n",
       "      <th>property_rooms</th>\n",
       "      <th>property_bedrooms</th>\n",
       "      <th>property_surface_total</th>\n",
       "      <th>property_surface_covered</th>\n",
       "      <th>property_price</th>\n",
       "      <th>total_m2_price</th>\n",
       "      <th>covered_m2_price</th>\n",
       "      <th>Casa</th>\n",
       "      <th>Departamento</th>\n",
       "      <th>PH</th>\n",
       "      <th>Palermo</th>\n",
       "      <th>Belgrano</th>\n",
       "      <th>Caballito</th>\n",
       "      <th>Otro barrio</th>\n",
       "      <th>tipo_precio</th>\n",
       "    </tr>\n",
       "  </thead>\n",
       "  <tbody>\n",
       "    <tr>\n",
       "      <th>0</th>\n",
       "      <td>-34.598103</td>\n",
       "      <td>-58.442806</td>\n",
       "      <td>1.0</td>\n",
       "      <td>1.0</td>\n",
       "      <td>30.0</td>\n",
       "      <td>27.0</td>\n",
       "      <td>79000.0</td>\n",
       "      <td>2633.333333</td>\n",
       "      <td>2925.925926</td>\n",
       "      <td>0</td>\n",
       "      <td>1</td>\n",
       "      <td>0</td>\n",
       "      <td>0</td>\n",
       "      <td>0</td>\n",
       "      <td>0</td>\n",
       "      <td>1</td>\n",
       "      <td>2</td>\n",
       "    </tr>\n",
       "    <tr>\n",
       "      <th>1</th>\n",
       "      <td>-34.583233</td>\n",
       "      <td>-58.403942</td>\n",
       "      <td>4.0</td>\n",
       "      <td>3.0</td>\n",
       "      <td>200.0</td>\n",
       "      <td>200.0</td>\n",
       "      <td>790000.0</td>\n",
       "      <td>3950.000000</td>\n",
       "      <td>3950.000000</td>\n",
       "      <td>0</td>\n",
       "      <td>1</td>\n",
       "      <td>0</td>\n",
       "      <td>1</td>\n",
       "      <td>0</td>\n",
       "      <td>0</td>\n",
       "      <td>0</td>\n",
       "      <td>2</td>\n",
       "    </tr>\n",
       "  </tbody>\n",
       "</table>\n",
       "</div>"
      ],
      "text/plain": [
       "     latitud   longitud  property_rooms  property_bedrooms  \\\n",
       "0 -34.598103 -58.442806             1.0                1.0   \n",
       "1 -34.583233 -58.403942             4.0                3.0   \n",
       "\n",
       "   property_surface_total  property_surface_covered  property_price  \\\n",
       "0                    30.0                      27.0         79000.0   \n",
       "1                   200.0                     200.0        790000.0   \n",
       "\n",
       "   total_m2_price  covered_m2_price  Casa  Departamento  PH  Palermo  \\\n",
       "0     2633.333333       2925.925926     0             1   0        0   \n",
       "1     3950.000000       3950.000000     0             1   0        1   \n",
       "\n",
       "   Belgrano  Caballito  Otro barrio  tipo_precio  \n",
       "0         0          0            1            2  \n",
       "1         0          0            0            2  "
      ]
     },
     "execution_count": 653,
     "metadata": {},
     "output_type": "execute_result"
    }
   ],
   "source": [
    "df_train.head(2)"
   ]
  },
  {
   "cell_type": "code",
   "execution_count": 654,
   "metadata": {},
   "outputs": [
    {
     "data": {
      "text/plain": [
       "<Axes: xlabel='tipo_precio', ylabel='Count'>"
      ]
     },
     "execution_count": 654,
     "metadata": {},
     "output_type": "execute_result"
    },
    {
     "data": {
      "image/png": "[encoded data removed]",
      "text/plain": [
       "<Figure size 640x480 with 1 Axes>"
      ]
     },
     "metadata": {},
     "output_type": "display_data"
    }
   ],
   "source": [
    "sns.histplot(df_train[\"tipo_precio\"], color=CORAL) # que sentido tiene este grafico XD"
   ]
  },
  {
   "cell_type": "code",
   "execution_count": 655,
   "metadata": {},
   "outputs": [],
   "source": [
    "# Alternativa cuartil\n",
    "\n",
    "primer_cuartil = df_train[\"total_m2_price\"].quantile(0.25)\n",
    "tercer_cuartil = df_train[\"total_m2_price\"].quantile(0.75)\n",
    "intervalos = [0, primer_cuartil, tercer_cuartil, float(\"inf\")] \n",
    "# como el maximo de train es != del de test, dejamos asi para no complicarnos la vida\n",
    "\n",
    "df_train[\"one_hot\"] = pd.cut(df_train[\"total_m2_price\"], bins=intervalos, labels=[\"tipo_precio_bajo\", \"tipo_precio_medio\", \"tipo_precio_alto\"])\n",
    "#df_test[\"one_hot\"] = pd.cut(df_test[\"total_m2_price\"], bins=intervalos, labels=[\"tipo_precio_bajo\", \"tipo_precio_medio\", \"tipo_precio_alto\"])\n",
    "one_hot_encoded = pd.get_dummies(df_train[\"one_hot\"])\n",
    "#_one_hot_encoded = pd.get_dummies(df_test[\"one_hot\"])\n",
    "\n",
    "\n",
    "df_train = pd.concat([df_train, one_hot_encoded], axis=1)\n",
    "#df_test = pd.concat([df_test, _one_hot_encoded], axis=1)\n",
    "\n",
    "df_train.drop(columns=[\"one_hot\"], inplace=True)\n",
    "#df_test.drop(columns=[\"one_hot\"], inplace=True)\n",
    "\n",
    "df_train[\"tipo_precio_bajo\"] = df_train[\"tipo_precio_bajo\"].astype(int)\n",
    "df_train[\"tipo_precio_medio\"] = df_train[\"tipo_precio_medio\"].astype(int)\n",
    "df_train[\"tipo_precio_alto\"] = df_train[\"tipo_precio_alto\"].astype(int)\n",
    "\n",
    "#df_test[\"tipo_precio_bajo\"] = df_test[\"tipo_precio_bajo\"].astype(int)\n",
    "#df_test[\"tipo_precio_medio\"] = df_test[\"tipo_precio_medio\"].astype(int)\n",
    "#df_test[\"tipo_precio_alto\"] = df_test[\"tipo_precio_alto\"].astype(int)\n"
   ]
  },
  {
   "cell_type": "code",
   "execution_count": 656,
   "metadata": {},
   "outputs": [
    {
     "data": {
      "text/html": [
       "<div>\n",
       "<style scoped>\n",
       "    .dataframe tbody tr th:only-of-type {\n",
       "        vertical-align: middle;\n",
       "    }\n",
       "\n",
       "    .dataframe tbody tr th {\n",
       "        vertical-align: top;\n",
       "    }\n",
       "\n",
       "    .dataframe thead th {\n",
       "        text-align: right;\n",
       "    }\n",
       "</style>\n",
       "<table border=\"1\" class=\"dataframe\">\n",
       "  <thead>\n",
       "    <tr style=\"text-align: right;\">\n",
       "      <th></th>\n",
       "      <th>latitud</th>\n",
       "      <th>longitud</th>\n",
       "      <th>property_rooms</th>\n",
       "      <th>property_bedrooms</th>\n",
       "      <th>property_surface_total</th>\n",
       "      <th>property_surface_covered</th>\n",
       "      <th>property_price</th>\n",
       "      <th>total_m2_price</th>\n",
       "      <th>covered_m2_price</th>\n",
       "      <th>Casa</th>\n",
       "      <th>Departamento</th>\n",
       "      <th>PH</th>\n",
       "      <th>Palermo</th>\n",
       "      <th>Belgrano</th>\n",
       "      <th>Caballito</th>\n",
       "      <th>Otro barrio</th>\n",
       "      <th>tipo_precio</th>\n",
       "      <th>tipo_precio_bajo</th>\n",
       "      <th>tipo_precio_medio</th>\n",
       "      <th>tipo_precio_alto</th>\n",
       "    </tr>\n",
       "  </thead>\n",
       "  <tbody>\n",
       "    <tr>\n",
       "      <th>0</th>\n",
       "      <td>-34.598103</td>\n",
       "      <td>-58.442806</td>\n",
       "      <td>1.0</td>\n",
       "      <td>1.0</td>\n",
       "      <td>30.0</td>\n",
       "      <td>27.0</td>\n",
       "      <td>79000.0</td>\n",
       "      <td>2633.333333</td>\n",
       "      <td>2925.925926</td>\n",
       "      <td>0</td>\n",
       "      <td>1</td>\n",
       "      <td>0</td>\n",
       "      <td>0</td>\n",
       "      <td>0</td>\n",
       "      <td>0</td>\n",
       "      <td>1</td>\n",
       "      <td>2</td>\n",
       "      <td>0</td>\n",
       "      <td>1</td>\n",
       "      <td>0</td>\n",
       "    </tr>\n",
       "    <tr>\n",
       "      <th>1</th>\n",
       "      <td>-34.583233</td>\n",
       "      <td>-58.403942</td>\n",
       "      <td>4.0</td>\n",
       "      <td>3.0</td>\n",
       "      <td>200.0</td>\n",
       "      <td>200.0</td>\n",
       "      <td>790000.0</td>\n",
       "      <td>3950.000000</td>\n",
       "      <td>3950.000000</td>\n",
       "      <td>0</td>\n",
       "      <td>1</td>\n",
       "      <td>0</td>\n",
       "      <td>1</td>\n",
       "      <td>0</td>\n",
       "      <td>0</td>\n",
       "      <td>0</td>\n",
       "      <td>2</td>\n",
       "      <td>0</td>\n",
       "      <td>0</td>\n",
       "      <td>1</td>\n",
       "    </tr>\n",
       "  </tbody>\n",
       "</table>\n",
       "</div>"
      ],
      "text/plain": [
       "     latitud   longitud  property_rooms  property_bedrooms  \\\n",
       "0 -34.598103 -58.442806             1.0                1.0   \n",
       "1 -34.583233 -58.403942             4.0                3.0   \n",
       "\n",
       "   property_surface_total  property_surface_covered  property_price  \\\n",
       "0                    30.0                      27.0         79000.0   \n",
       "1                   200.0                     200.0        790000.0   \n",
       "\n",
       "   total_m2_price  covered_m2_price  Casa  Departamento  PH  Palermo  \\\n",
       "0     2633.333333       2925.925926     0             1   0        0   \n",
       "1     3950.000000       3950.000000     0             1   0        1   \n",
       "\n",
       "   Belgrano  Caballito  Otro barrio  tipo_precio  tipo_precio_bajo  \\\n",
       "0         0          0            1            2                 0   \n",
       "1         0          0            0            2                 0   \n",
       "\n",
       "   tipo_precio_medio  tipo_precio_alto  \n",
       "0                  1                 0  \n",
       "1                  0                 1  "
      ]
     },
     "execution_count": 656,
     "metadata": {},
     "output_type": "execute_result"
    }
   ],
   "source": [
    "df_train.head(2)"
   ]
  },
  {
   "cell_type": "code",
   "execution_count": 657,
   "metadata": {},
   "outputs": [
    {
     "data": {
      "text/html": [
       "<div>\n",
       "<style scoped>\n",
       "    .dataframe tbody tr th:only-of-type {\n",
       "        vertical-align: middle;\n",
       "    }\n",
       "\n",
       "    .dataframe tbody tr th {\n",
       "        vertical-align: top;\n",
       "    }\n",
       "\n",
       "    .dataframe thead th {\n",
       "        text-align: right;\n",
       "    }\n",
       "</style>\n",
       "<table border=\"1\" class=\"dataframe\">\n",
       "  <thead>\n",
       "    <tr style=\"text-align: right;\">\n",
       "      <th></th>\n",
       "      <th>latitud</th>\n",
       "      <th>longitud</th>\n",
       "      <th>property_rooms</th>\n",
       "      <th>property_bedrooms</th>\n",
       "      <th>property_surface_total</th>\n",
       "      <th>property_surface_covered</th>\n",
       "      <th>property_price</th>\n",
       "      <th>total_m2_price</th>\n",
       "      <th>covered_m2_price</th>\n",
       "      <th>Casa</th>\n",
       "      <th>Departamento</th>\n",
       "      <th>PH</th>\n",
       "      <th>Palermo</th>\n",
       "      <th>Belgrano</th>\n",
       "      <th>Caballito</th>\n",
       "      <th>Otro barrio</th>\n",
       "    </tr>\n",
       "  </thead>\n",
       "  <tbody>\n",
       "    <tr>\n",
       "      <th>1</th>\n",
       "      <td>-34.556298</td>\n",
       "      <td>-58.439923</td>\n",
       "      <td>5.0</td>\n",
       "      <td>3.0</td>\n",
       "      <td>175.0</td>\n",
       "      <td>141.0</td>\n",
       "      <td>579000.0</td>\n",
       "      <td>3308.571429</td>\n",
       "      <td>4106.382979</td>\n",
       "      <td>0</td>\n",
       "      <td>1</td>\n",
       "      <td>0</td>\n",
       "      <td>0</td>\n",
       "      <td>1</td>\n",
       "      <td>0</td>\n",
       "      <td>0</td>\n",
       "    </tr>\n",
       "    <tr>\n",
       "      <th>3</th>\n",
       "      <td>-34.579353</td>\n",
       "      <td>-58.408738</td>\n",
       "      <td>2.0</td>\n",
       "      <td>1.0</td>\n",
       "      <td>42.0</td>\n",
       "      <td>42.0</td>\n",
       "      <td>110000.0</td>\n",
       "      <td>2619.047619</td>\n",
       "      <td>2619.047619</td>\n",
       "      <td>0</td>\n",
       "      <td>1</td>\n",
       "      <td>0</td>\n",
       "      <td>1</td>\n",
       "      <td>0</td>\n",
       "      <td>0</td>\n",
       "      <td>0</td>\n",
       "    </tr>\n",
       "  </tbody>\n",
       "</table>\n",
       "</div>"
      ],
      "text/plain": [
       "     latitud   longitud  property_rooms  property_bedrooms  \\\n",
       "1 -34.556298 -58.439923             5.0                3.0   \n",
       "3 -34.579353 -58.408738             2.0                1.0   \n",
       "\n",
       "   property_surface_total  property_surface_covered  property_price  \\\n",
       "1                   175.0                     141.0        579000.0   \n",
       "3                    42.0                      42.0        110000.0   \n",
       "\n",
       "   total_m2_price  covered_m2_price  Casa  Departamento  PH  Palermo  \\\n",
       "1     3308.571429       4106.382979     0             1   0        0   \n",
       "3     2619.047619       2619.047619     0             1   0        1   \n",
       "\n",
       "   Belgrano  Caballito  Otro barrio  \n",
       "1         1          0            0  \n",
       "3         0          0            0  "
      ]
     },
     "execution_count": 657,
     "metadata": {},
     "output_type": "execute_result"
    }
   ],
   "source": [
    "df_test.head(2)"
   ]
  },
  {
   "cell_type": "code",
   "execution_count": 658,
   "metadata": {},
   "outputs": [
    {
     "data": {
      "text/plain": [
       "Text(0, 0.5, 'Cantidad de registros')"
      ]
     },
     "execution_count": 658,
     "metadata": {},
     "output_type": "execute_result"
    },
    {
     "data": {
      "image/png": "[encoded data removed]",
      "text/plain": [
       "<Figure size 640x480 with 1 Axes>"
      ]
     },
     "metadata": {},
     "output_type": "display_data"
    }
   ],
   "source": [
    "sns.histplot(df_train[\"total_m2_price\"], kde=True, color=AZUL)\n",
    "plt.title(\"Precio por m2\")\n",
    "plt.xlabel(\"Precio por m2\")\n",
    "plt.ylabel(\"Cantidad de registros\")"
   ]
  },
  {
   "cell_type": "code",
   "execution_count": 659,
   "metadata": {},
   "outputs": [
    {
     "data": {
      "text/plain": [
       "Text(0, 0.5, 'Cantidad de registros')"
      ]
     },
     "execution_count": 659,
     "metadata": {},
     "output_type": "execute_result"
    },
    {
     "data": {
      "image/png": "[encoded data removed]",
      "text/plain": [
       "<Figure size 640x480 with 1 Axes>"
      ]
     },
     "metadata": {},
     "output_type": "display_data"
    }
   ],
   "source": [
    "sns.histplot(df_train[df_train[\"Casa\"] == 1][\"total_m2_price\"], kde=True, color=VERDE)\n",
    "plt.title(\"Precio por m2 de las casas\")\n",
    "plt.xlabel(\"Precio por m2\")\n",
    "plt.ylabel(\"Cantidad de registros\")"
   ]
  },
  {
   "cell_type": "code",
   "execution_count": 660,
   "metadata": {},
   "outputs": [
    {
     "data": {
      "text/plain": [
       "Text(0, 0.5, 'Cantidad de registros')"
      ]
     },
     "execution_count": 660,
     "metadata": {},
     "output_type": "execute_result"
    },
    {
     "data": {
      "image/png": "[encoded data removed]",
      "text/plain": [
       "<Figure size 640x480 with 1 Axes>"
      ]
     },
     "metadata": {},
     "output_type": "display_data"
    }
   ],
   "source": [
    "sns.histplot(df_train[df_train[\"Departamento\"] == 1][\"total_m2_price\"], kde=True, color=CORAL)\n",
    "plt.title(\"Precio por m2 de los departamentos\")\n",
    "plt.xlabel(\"Precio por m2\")\n",
    "plt.ylabel(\"Cantidad de registros\")"
   ]
  },
  {
   "cell_type": "code",
   "execution_count": 661,
   "metadata": {},
   "outputs": [
    {
     "data": {
      "text/plain": [
       "Text(0, 0.5, 'Cantidad de registros')"
      ]
     },
     "execution_count": 661,
     "metadata": {},
     "output_type": "execute_result"
    },
    {
     "data": {
      "image/png": "[encoded data removed]",
      "text/plain": [
       "<Figure size 640x480 with 1 Axes>"
      ]
     },
     "metadata": {},
     "output_type": "display_data"
    }
   ],
   "source": [
    "sns.histplot(df_train[df_train[\"PH\"] == 1][\"total_m2_price\"], kde=True, color=NARANJA)\n",
    "plt.title(\"Precio por m2 de los PHs\")\n",
    "plt.xlabel(\"Precio por m2\")\n",
    "plt.ylabel(\"Cantidad de registros\")"
   ]
  },
  {
   "cell_type": "code",
   "execution_count": null,
   "metadata": {},
   "outputs": [],
   "source": []
  },
  {
   "cell_type": "markdown",
   "metadata": {},
   "source": [
    "### 1. Árbol de decisión"
   ]
  },
  {
   "cell_type": "markdown",
   "metadata": {},
   "source": [
    "### 2. Random Forest"
   ]
  },
  {
   "cell_type": "code",
   "execution_count": null,
   "metadata": {},
   "outputs": [],
   "source": []
  },
  {
   "cell_type": "markdown",
   "metadata": {},
   "source": [
    "## Modelos regresión"
   ]
  },
  {
   "cell_type": "markdown",
   "metadata": {},
   "source": [
    "### 1. KNN"
   ]
  },
  {
   "cell_type": "code",
   "execution_count": 662,
   "metadata": {},
   "outputs": [
    {
     "name": "stdout",
     "output_type": "stream",
     "text": [
      "<class 'pandas.core.frame.DataFrame'>\n",
      "RangeIndex: 55059 entries, 0 to 55058\n",
      "Data columns (total 20 columns):\n",
      " #   Column                    Non-Null Count  Dtype  \n",
      "---  ------                    --------------  -----  \n",
      " 0   latitud                   55059 non-null  float64\n",
      " 1   longitud                  55059 non-null  float64\n",
      " 2   property_rooms            55059 non-null  float64\n",
      " 3   property_bedrooms         55059 non-null  float64\n",
      " 4   property_surface_total    55059 non-null  float64\n",
      " 5   property_surface_covered  55059 non-null  float64\n",
      " 6   property_price            55059 non-null  float64\n",
      " 7   total_m2_price            55059 non-null  float64\n",
      " 8   covered_m2_price          55059 non-null  float64\n",
      " 9   Casa                      55059 non-null  int64  \n",
      " 10  Departamento              55059 non-null  int64  \n",
      " 11  PH                        55059 non-null  int64  \n",
      " 12  Palermo                   55059 non-null  int64  \n",
      " 13  Belgrano                  55059 non-null  int64  \n",
      " 14  Caballito                 55059 non-null  int64  \n",
      " 15  Otro barrio               55059 non-null  int64  \n",
      " 16  tipo_precio               55059 non-null  int64  \n",
      " 17  tipo_precio_bajo          55059 non-null  int64  \n",
      " 18  tipo_precio_medio         55059 non-null  int64  \n",
      " 19  tipo_precio_alto          55059 non-null  int64  \n",
      "dtypes: float64(9), int64(11)\n",
      "memory usage: 8.4 MB\n"
     ]
    }
   ],
   "source": [
    "df_train.info()"
   ]
  },
  {
   "cell_type": "code",
   "execution_count": 663,
   "metadata": {},
   "outputs": [],
   "source": [
    "from sklearn.model_selection import RandomizedSearchCV, StratifiedKFold\n",
    "from sklearn.neighbors import KNeighborsRegressor, KNeighborsClassifier\n",
    "from sklearn.metrics import r2_score"
   ]
  },
  {
   "cell_type": "code",
   "execution_count": 664,
   "metadata": {},
   "outputs": [],
   "source": [
    "x_train = df_train.drop(columns=[\"property_price\", \"total_m2_price\", \"covered_m2_price\"])\n",
    "x_test = df_test.drop(columns=[\"property_price\", \"total_m2_price\", \"covered_m2_price\"])\n",
    "y_train = df_train[\"property_price\"]\n",
    "y_test = df_test[\"property_price\"]"
   ]
  },
  {
   "cell_type": "code",
   "execution_count": 665,
   "metadata": {},
   "outputs": [],
   "source": [
    "# from sklearn.model_selection import RandomizedSearchCV\n",
    "\n",
    "# #Grilla de Parámetros\n",
    "# params = { \"n_neighbors\":range(1, 30), \n",
    "#               \"weights\":[\"distance\",\"uniform\"],\n",
    "#               \"algorithm\":[\"ball_tree\", \"kd_tree\", \"brute\"],\n",
    "#               \"metric\":[\"euclidean\",\"manhattan\",\"chebyshev\"]\n",
    "#              }\n",
    "\n",
    "# #Clasificador KNN\n",
    "# knn = KNeighborsRegressor()\n",
    "\n",
    "# #Random Search con 10 Folds y 10 iteraciones\n",
    "# rand = RandomizedSearchCV(knn, param_distributions=params, n_iter=10, cv=5, random_state=42)\n",
    "\n",
    "# rand.fit(x_train, y_train)"
   ]
  },
  {
   "cell_type": "code",
   "execution_count": 666,
   "metadata": {},
   "outputs": [],
   "source": [
    "# # Creo un modelo KNN para regresion y lo ajusto\n",
    "# knn_regressor = knn.set_params(**rand.best_params_).fit(x_train, y_train)\n",
    "\n",
    "# #Hago una predicción\n",
    "# y_pred = knn_regressor.predict(x_test)"
   ]
  },
  {
   "cell_type": "code",
   "execution_count": 667,
   "metadata": {},
   "outputs": [],
   "source": [
    "# r2_score_knn = r2_score(y_test.values, y_pred)\n",
    "# r2_score_knn"
   ]
  },
  {
   "cell_type": "markdown",
   "metadata": {},
   "source": [
    "### 2. XGBoost"
   ]
  },
  {
   "cell_type": "code",
   "execution_count": null,
   "metadata": {},
   "outputs": [],
   "source": []
  }
 ],
 "metadata": {
  "kernelspec": {
   "display_name": "Python 3",
   "language": "python",
   "name": "python3"
  },
  "language_info": {
   "codemirror_mode": {
    "name": "ipython",
    "version": 3
   },
   "file_extension": ".py",
   "mimetype": "text/x-python",
   "name": "python",
   "nbconvert_exporter": "python",
   "pygments_lexer": "ipython3",
   "version": "3.12.2"
  }
 },
 "nbformat": 4,
 "nbformat_minor": 2
}
