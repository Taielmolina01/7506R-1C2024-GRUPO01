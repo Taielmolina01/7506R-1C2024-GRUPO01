{
  "cells": [
    {
      "cell_type": "code",
      "execution_count": 2567,
      "metadata": {
        "id": "zP4Tu3YnFXIz"
      },
      "outputs": [],
      "source": [
        "import pandas as pd\n",
        "import seaborn as sns\n",
        "import numpy as np\n",
        "import matplotlib.pyplot as plt\n",
        "import matplotlib.ticker as ticker"
      ]
    },
    {
      "cell_type": "code",
      "execution_count": 2568,
      "metadata": {
        "id": "6mIswkI5FSCZ"
      },
      "outputs": [],
      "source": [
        "path_df = \"/home/taiel/Documentos/FIUBA/2024_C1/OrgaDeDatos/7506R-1C2024-GRUPO01/TP1/properati_argentina_2021.csv\""
      ]
    },
    {
      "cell_type": "code",
      "execution_count": 2569,
      "metadata": {
        "id": "b3AyxM9HFlNT"
      },
      "outputs": [],
      "source": [
        "df = pd.read_csv(path_df)"
      ]
    },
    {
      "cell_type": "code",
      "execution_count": 2570,
      "metadata": {
        "colab": {
          "base_uri": "https://localhost:8080/"
        },
        "id": "3Wyoi7NRF8VK",
        "outputId": "e82b0815-a2b0-44be-e8db-217399fdafc3"
      },
      "outputs": [
        {
          "data": {
            "text/plain": [
              "(460154, 20)"
            ]
          },
          "execution_count": 2570,
          "metadata": {},
          "output_type": "execute_result"
        }
      ],
      "source": [
        "df.shape"
      ]
    },
    {
      "cell_type": "code",
      "execution_count": 2571,
      "metadata": {
        "colab": {
          "base_uri": "https://localhost:8080/"
        },
        "id": "inY6ob_yF1nS",
        "outputId": "ffc16de0-9957-4429-ba13-987ad2e5093c"
      },
      "outputs": [
        {
          "name": "stdout",
          "output_type": "stream",
          "text": [
            "<class 'pandas.core.frame.DataFrame'>\n",
            "RangeIndex: 460154 entries, 0 to 460153\n",
            "Data columns (total 20 columns):\n",
            " #   Column                    Non-Null Count   Dtype  \n",
            "---  ------                    --------------   -----  \n",
            " 0   id                        460154 non-null  object \n",
            " 1   start_date                460154 non-null  object \n",
            " 2   end_date                  460154 non-null  object \n",
            " 3   created_on                460154 non-null  object \n",
            " 4   latitud                   419740 non-null  float64\n",
            " 5   longitud                  419740 non-null  float64\n",
            " 6   place_l2                  460154 non-null  object \n",
            " 7   place_l3                  437665 non-null  object \n",
            " 8   place_l4                  139020 non-null  object \n",
            " 9   place_l5                  2430 non-null    object \n",
            " 10  place_l6                  0 non-null       float64\n",
            " 11  operation                 460154 non-null  object \n",
            " 12  property_type             460154 non-null  object \n",
            " 13  property_rooms            368498 non-null  float64\n",
            " 14  property_bedrooms         344113 non-null  float64\n",
            " 15  property_surface_total    397813 non-null  float64\n",
            " 16  property_surface_covered  427916 non-null  float64\n",
            " 17  property_price            442153 non-null  float64\n",
            " 18  property_currency         441590 non-null  object \n",
            " 19  property_title            460154 non-null  object \n",
            "dtypes: float64(8), object(12)\n",
            "memory usage: 70.2+ MB\n"
          ]
        }
      ],
      "source": [
        "df.info()"
      ]
    },
    {
      "cell_type": "code",
      "execution_count": 2572,
      "metadata": {
        "colab": {
          "base_uri": "https://localhost:8080/",
          "height": 216
        },
        "id": "j6-UhsXKF2yK",
        "outputId": "82deb4ba-2d2c-42ed-ddb3-33b23c617323"
      },
      "outputs": [
        {
          "data": {
            "text/html": [
              "<div>\n",
              "<style scoped>\n",
              "    .dataframe tbody tr th:only-of-type {\n",
              "        vertical-align: middle;\n",
              "    }\n",
              "\n",
              "    .dataframe tbody tr th {\n",
              "        vertical-align: top;\n",
              "    }\n",
              "\n",
              "    .dataframe thead th {\n",
              "        text-align: right;\n",
              "    }\n",
              "</style>\n",
              "<table border=\"1\" class=\"dataframe\">\n",
              "  <thead>\n",
              "    <tr style=\"text-align: right;\">\n",
              "      <th></th>\n",
              "      <th>id</th>\n",
              "      <th>start_date</th>\n",
              "      <th>end_date</th>\n",
              "      <th>created_on</th>\n",
              "      <th>latitud</th>\n",
              "      <th>longitud</th>\n",
              "      <th>place_l2</th>\n",
              "      <th>place_l3</th>\n",
              "      <th>place_l4</th>\n",
              "      <th>place_l5</th>\n",
              "      <th>place_l6</th>\n",
              "      <th>operation</th>\n",
              "      <th>property_type</th>\n",
              "      <th>property_rooms</th>\n",
              "      <th>property_bedrooms</th>\n",
              "      <th>property_surface_total</th>\n",
              "      <th>property_surface_covered</th>\n",
              "      <th>property_price</th>\n",
              "      <th>property_currency</th>\n",
              "      <th>property_title</th>\n",
              "    </tr>\n",
              "  </thead>\n",
              "  <tbody>\n",
              "    <tr>\n",
              "      <th>0</th>\n",
              "      <td>XZq2dFGxBiboHY3Bo/tqlw==</td>\n",
              "      <td>2021-09-09</td>\n",
              "      <td>2022-01-27</td>\n",
              "      <td>2021-09-09</td>\n",
              "      <td>-38.957632</td>\n",
              "      <td>-68.105443</td>\n",
              "      <td>Neuquén</td>\n",
              "      <td>NaN</td>\n",
              "      <td>NaN</td>\n",
              "      <td>NaN</td>\n",
              "      <td>NaN</td>\n",
              "      <td>Venta</td>\n",
              "      <td>Casa</td>\n",
              "      <td>6.0</td>\n",
              "      <td>NaN</td>\n",
              "      <td>NaN</td>\n",
              "      <td>206.0</td>\n",
              "      <td>NaN</td>\n",
              "      <td>NaN</td>\n",
              "      <td>Casa - Capital</td>\n",
              "    </tr>\n",
              "    <tr>\n",
              "      <th>1</th>\n",
              "      <td>8afoK+yMH/rnnlYiktwgNA==</td>\n",
              "      <td>2021-09-09</td>\n",
              "      <td>2021-10-23</td>\n",
              "      <td>2021-09-09</td>\n",
              "      <td>-34.888878</td>\n",
              "      <td>-56.092368</td>\n",
              "      <td>Montevideo</td>\n",
              "      <td>NaN</td>\n",
              "      <td>NaN</td>\n",
              "      <td>NaN</td>\n",
              "      <td>NaN</td>\n",
              "      <td>Venta</td>\n",
              "      <td>Casa</td>\n",
              "      <td>4.0</td>\n",
              "      <td>3.0</td>\n",
              "      <td>193.0</td>\n",
              "      <td>193.0</td>\n",
              "      <td>390000.0</td>\n",
              "      <td>USD</td>\n",
              "      <td>Casa - Malvín</td>\n",
              "    </tr>\n",
              "    <tr>\n",
              "      <th>2</th>\n",
              "      <td>iVaG5rBB47dd1Ya4BMXREA==</td>\n",
              "      <td>2021-09-09</td>\n",
              "      <td>2022-03-09</td>\n",
              "      <td>2021-09-09</td>\n",
              "      <td>-32.488717</td>\n",
              "      <td>-58.257499</td>\n",
              "      <td>Entre Ríos</td>\n",
              "      <td>NaN</td>\n",
              "      <td>NaN</td>\n",
              "      <td>NaN</td>\n",
              "      <td>NaN</td>\n",
              "      <td>Venta</td>\n",
              "      <td>Casa</td>\n",
              "      <td>NaN</td>\n",
              "      <td>NaN</td>\n",
              "      <td>110.0</td>\n",
              "      <td>45.0</td>\n",
              "      <td>47000.0</td>\n",
              "      <td>USD</td>\n",
              "      <td>Casa - Uruguay</td>\n",
              "    </tr>\n",
              "  </tbody>\n",
              "</table>\n",
              "</div>"
            ],
            "text/plain": [
              "                         id  start_date    end_date  created_on    latitud  \\\n",
              "0  XZq2dFGxBiboHY3Bo/tqlw==  2021-09-09  2022-01-27  2021-09-09 -38.957632   \n",
              "1  8afoK+yMH/rnnlYiktwgNA==  2021-09-09  2021-10-23  2021-09-09 -34.888878   \n",
              "2  iVaG5rBB47dd1Ya4BMXREA==  2021-09-09  2022-03-09  2021-09-09 -32.488717   \n",
              "\n",
              "    longitud    place_l2 place_l3 place_l4 place_l5  place_l6 operation  \\\n",
              "0 -68.105443     Neuquén      NaN      NaN      NaN       NaN     Venta   \n",
              "1 -56.092368  Montevideo      NaN      NaN      NaN       NaN     Venta   \n",
              "2 -58.257499  Entre Ríos      NaN      NaN      NaN       NaN     Venta   \n",
              "\n",
              "  property_type  property_rooms  property_bedrooms  property_surface_total  \\\n",
              "0          Casa             6.0                NaN                     NaN   \n",
              "1          Casa             4.0                3.0                   193.0   \n",
              "2          Casa             NaN                NaN                   110.0   \n",
              "\n",
              "   property_surface_covered  property_price property_currency  property_title  \n",
              "0                     206.0             NaN               NaN  Casa - Capital  \n",
              "1                     193.0        390000.0               USD   Casa - Malvín  \n",
              "2                      45.0         47000.0               USD  Casa - Uruguay  "
            ]
          },
          "execution_count": 2572,
          "metadata": {},
          "output_type": "execute_result"
        }
      ],
      "source": [
        "df.head(3)"
      ]
    },
    {
      "cell_type": "code",
      "execution_count": 2573,
      "metadata": {
        "colab": {
          "base_uri": "https://localhost:8080/"
        },
        "id": "IsrwGTZeFtwz",
        "outputId": "a4906f48-6118-437b-c261-c397b052f737"
      },
      "outputs": [
        {
          "data": {
            "text/plain": [
              "id                               0\n",
              "start_date                       0\n",
              "end_date                         0\n",
              "created_on                       0\n",
              "latitud                      40414\n",
              "longitud                     40414\n",
              "place_l2                         0\n",
              "place_l3                     22489\n",
              "place_l4                    321134\n",
              "place_l5                    457724\n",
              "place_l6                    460154\n",
              "operation                        0\n",
              "property_type                    0\n",
              "property_rooms               91656\n",
              "property_bedrooms           116041\n",
              "property_surface_total       62341\n",
              "property_surface_covered     32238\n",
              "property_price               18001\n",
              "property_currency            18564\n",
              "property_title                   0\n",
              "dtype: int64"
            ]
          },
          "execution_count": 2573,
          "metadata": {},
          "output_type": "execute_result"
        }
      ],
      "source": [
        "df.isnull().sum()"
      ]
    },
    {
      "cell_type": "markdown",
      "metadata": {},
      "source": [
        "## Análisis exploratorio"
      ]
    },
    {
      "cell_type": "markdown",
      "metadata": {},
      "source": [
        "Arrancamos filtrando el df segun lo que indica la consigna."
      ]
    },
    {
      "cell_type": "code",
      "execution_count": 2574,
      "metadata": {},
      "outputs": [
        {
          "data": {
            "text/plain": [
              "property_currency\n",
              "USD    349104\n",
              "ARS     88869\n",
              "UYU      3506\n",
              "PEN        99\n",
              "COP        12\n",
              "Name: count, dtype: int64"
            ]
          },
          "execution_count": 2574,
          "metadata": {},
          "output_type": "execute_result"
        }
      ],
      "source": [
        "df[\"property_currency\"].value_counts()"
      ]
    },
    {
      "cell_type": "code",
      "execution_count": 2575,
      "metadata": {},
      "outputs": [
        {
          "data": {
            "text/plain": [
              "operation\n",
              "Venta                337874\n",
              "Alquiler              98900\n",
              "Alquiler temporal     23380\n",
              "Name: count, dtype: int64"
            ]
          },
          "execution_count": 2575,
          "metadata": {},
          "output_type": "execute_result"
        }
      ],
      "source": [
        "df[\"operation\"].value_counts()"
      ]
    },
    {
      "cell_type": "code",
      "execution_count": 2576,
      "metadata": {},
      "outputs": [
        {
          "data": {
            "text/plain": [
              "property_type\n",
              "Departamento       231358\n",
              "Casa               120768\n",
              "Lote                28748\n",
              "PH                  25910\n",
              "Local comercial     20546\n",
              "Oficina             16085\n",
              "Otro                 7713\n",
              "Cochera              4111\n",
              "Depósito             4050\n",
              "Casa de campo         865\n",
              "Name: count, dtype: int64"
            ]
          },
          "execution_count": 2576,
          "metadata": {},
          "output_type": "execute_result"
        }
      ],
      "source": [
        "df[\"property_type\"].value_counts()"
      ]
    },
    {
      "cell_type": "code",
      "execution_count": 2577,
      "metadata": {},
      "outputs": [],
      "source": [
        "tipos_propiedades = [\"Departamento\", \"Casa\", \"PH\"]"
      ]
    },
    {
      "cell_type": "code",
      "execution_count": 2578,
      "metadata": {},
      "outputs": [
        {
          "data": {
            "text/plain": [
              "place_l2\n",
              "Capital Federal                 157563\n",
              "Bs.As. G.B.A. Zona Norte         89693\n",
              "Santa Fe                         47861\n",
              "Bs.As. G.B.A. Zona Sur           47754\n",
              "Bs.As. G.B.A. Zona Oeste         28352\n",
              "Córdoba                          22528\n",
              "Buenos Aires Costa Atlántica     12457\n",
              "Neuquén                           8788\n",
              "Montevideo                        7494\n",
              "Buenos Aires Interior             6274\n",
              "Maldonado                         5540\n",
              "Mendoza                           5395\n",
              "Río Negro                         5280\n",
              "Tucumán                           3571\n",
              "Colonia                           2535\n",
              "Salta                             1537\n",
              "Entre Ríos                        1216\n",
              "San Juan                           997\n",
              "La Pampa                           783\n",
              "Canelones                          744\n",
              "Chubut                             701\n",
              "San Luis                           677\n",
              "Misiones                           529\n",
              "Florida                            411\n",
              "Jujuy                              406\n",
              "Corrientes                         297\n",
              "Michigan                           251\n",
              "Chaco                              208\n",
              "Rocha                               85\n",
              "Tierra Del Fuego                    75\n",
              "Santiago Del Estero                 59\n",
              "Santa Catarina                      35\n",
              "Santa Cruz                          16\n",
              "Rio Grande do Norte                  9\n",
              "Maryland                             8\n",
              "Catamarca                            7\n",
              "Miami                                4\n",
              "La Rioja                             4\n",
              "Rio de Janeiro                       3\n",
              "Pennsylvania                         3\n",
              "Formosa                              2\n",
              "São Paulo                            1\n",
              "California                           1\n",
              "Name: count, dtype: int64"
            ]
          },
          "execution_count": 2578,
          "metadata": {},
          "output_type": "execute_result"
        }
      ],
      "source": [
        "df[\"place_l2\"].value_counts()"
      ]
    },
    {
      "cell_type": "code",
      "execution_count": 2579,
      "metadata": {},
      "outputs": [],
      "source": [
        "df = df[(df[\"property_currency\"] == \"USD\") & (df[\"operation\"] == \"Venta\") & (df[\"property_type\"].isin(tipos_propiedades)) & \n",
        "        (df[\"place_l2\"] == \"Capital Federal\")]"
      ]
    },
    {
      "cell_type": "code",
      "execution_count": 2580,
      "metadata": {},
      "outputs": [],
      "source": [
        "# que pasa aca con aquellas que tengan nan de place_l2 pero que realmente esten en capital federal\n",
        "# TODO: deberia buscar puntos extremos de CABA y ahi filtrar por eso tambien"
      ]
    },
    {
      "cell_type": "code",
      "execution_count": null,
      "metadata": {},
      "outputs": [],
      "source": []
    },
    {
      "cell_type": "markdown",
      "metadata": {},
      "source": [
        "### a) Exploración incial"
      ]
    },
    {
      "cell_type": "markdown",
      "metadata": {},
      "source": [
        "Variables cuantitativas"
      ]
    },
    {
      "cell_type": "code",
      "execution_count": 2581,
      "metadata": {},
      "outputs": [
        {
          "data": {
            "text/plain": [
              "'2021-01-01'"
            ]
          },
          "execution_count": 2581,
          "metadata": {},
          "output_type": "execute_result"
        }
      ],
      "source": [
        "df[\"start_date\"].min()"
      ]
    },
    {
      "cell_type": "code",
      "execution_count": 2582,
      "metadata": {},
      "outputs": [
        {
          "data": {
            "text/plain": [
              "'2021-12-31'"
            ]
          },
          "execution_count": 2582,
          "metadata": {},
          "output_type": "execute_result"
        }
      ],
      "source": [
        "df[\"start_date\"].max()"
      ]
    },
    {
      "cell_type": "code",
      "execution_count": 2583,
      "metadata": {},
      "outputs": [
        {
          "data": {
            "text/plain": [
              "'2021-01-02'"
            ]
          },
          "execution_count": 2583,
          "metadata": {},
          "output_type": "execute_result"
        }
      ],
      "source": [
        "df[\"end_date\"].min()"
      ]
    },
    {
      "cell_type": "code",
      "execution_count": 2584,
      "metadata": {},
      "outputs": [
        {
          "data": {
            "text/plain": [
              "'9999-12-31'"
            ]
          },
          "execution_count": 2584,
          "metadata": {},
          "output_type": "execute_result"
        }
      ],
      "source": [
        "df[\"end_date\"].max()"
      ]
    },
    {
      "cell_type": "code",
      "execution_count": 2585,
      "metadata": {},
      "outputs": [
        {
          "data": {
            "text/plain": [
              "'2021-01-01'"
            ]
          },
          "execution_count": 2585,
          "metadata": {},
          "output_type": "execute_result"
        }
      ],
      "source": [
        "df[\"created_on\"].min()"
      ]
    },
    {
      "cell_type": "code",
      "execution_count": 2586,
      "metadata": {},
      "outputs": [
        {
          "data": {
            "text/plain": [
              "'2021-12-31'"
            ]
          },
          "execution_count": 2586,
          "metadata": {},
          "output_type": "execute_result"
        }
      ],
      "source": [
        "df[\"created_on\"].max()"
      ]
    },
    {
      "cell_type": "markdown",
      "metadata": {},
      "source": [
        "Veo que de **end_date** a ciertas propiedades le colocaron el año 9999, por lo que interpreto que todavia no habian sido vendidas al momento de recolectar los datos."
      ]
    },
    {
      "cell_type": "markdown",
      "metadata": {},
      "source": [
        "Estas tres columnas veo que son variables cuantitativas discretas, ya que solo estan las fechas como tal, no hay dato sobre las horas."
      ]
    },
    {
      "cell_type": "markdown",
      "metadata": {},
      "source": [
        "Tanto **latitud** como **longitud** son variables cuantitativas continuas."
      ]
    },
    {
      "cell_type": "code",
      "execution_count": 2587,
      "metadata": {},
      "outputs": [
        {
          "data": {
            "text/plain": [
              "(-34.59148102467374, -34.5957896, -34.5412501)"
            ]
          },
          "execution_count": 2587,
          "metadata": {},
          "output_type": "execute_result"
        }
      ],
      "source": [
        "df[\"latitud\"].mean(), df[\"latitud\"].median(), df[\"latitud\"].mode()[0]"
      ]
    },
    {
      "cell_type": "code",
      "execution_count": 2588,
      "metadata": {},
      "outputs": [
        {
          "data": {
            "text/plain": [
              "(-58.449794544855415, -58.4390004, -58.4729664)"
            ]
          },
          "execution_count": 2588,
          "metadata": {},
          "output_type": "execute_result"
        }
      ],
      "source": [
        "df[\"longitud\"].mean(), df[\"longitud\"].median(), df[\"longitud\"].mode()[0]"
      ]
    },
    {
      "cell_type": "markdown",
      "metadata": {},
      "source": [
        "Los distintos **place_l** son variables cualitativas. Busco los distintos valores que adoptan"
      ]
    },
    {
      "cell_type": "code",
      "execution_count": 2589,
      "metadata": {},
      "outputs": [
        {
          "data": {
            "text/plain": [
              "place_l2\n",
              "Capital Federal    94249\n",
              "Name: count, dtype: int64"
            ]
          },
          "execution_count": 2589,
          "metadata": {},
          "output_type": "execute_result"
        }
      ],
      "source": [
        "df[\"place_l2\"].value_counts()"
      ]
    },
    {
      "cell_type": "code",
      "execution_count": 2590,
      "metadata": {},
      "outputs": [
        {
          "data": {
            "text/plain": [
              "place_l3\n",
              "Palermo                 14308\n",
              "Belgrano                 8898\n",
              "Caballito                7168\n",
              "Recoleta                 6282\n",
              "Villa Urquiza            4673\n",
              "Almagro                  4081\n",
              "Nuñez                    3546\n",
              "Villa Crespo             3189\n",
              "Flores                   3110\n",
              "Barrio Norte             2975\n",
              "Balvanera                2553\n",
              "Colegiales               1951\n",
              "Villa Devoto             1921\n",
              "Villa del Parque         1829\n",
              "Saavedra                 1829\n",
              "Puerto Madero            1493\n",
              "San Telmo                1380\n",
              "San Cristobal            1300\n",
              "San Nicolás              1295\n",
              "Retiro                   1250\n",
              "Barracas                 1246\n",
              "Boedo                    1237\n",
              "Floresta                 1195\n",
              "Monserrat                1115\n",
              "Parque Chacabuco         1073\n",
              "Villa Pueyrredón         1011\n",
              "Coghlan                   984\n",
              "Villa Luro                727\n",
              "Mataderos                 719\n",
              "Chacarita                 697\n",
              "Liniers                   668\n",
              "Villa Ortuzar             662\n",
              "Parque Patricios          639\n",
              "Villa Lugano              612\n",
              "Paternal                  566\n",
              "Congreso                  535\n",
              "Monte Castro              499\n",
              "Constitución              453\n",
              "Villa Santa Rita          438\n",
              "Villa General Mitre       435\n",
              "Once                      407\n",
              "Parque Avellaneda         380\n",
              "Parque Chas               373\n",
              "Boca                      365\n",
              "Versalles                 315\n",
              "Velez Sarsfield           242\n",
              "Agronomía                 235\n",
              "Abasto                    231\n",
              "Pompeya                   216\n",
              "Villa Real                142\n",
              "Tribunales                116\n",
              "Parque Centenario          93\n",
              "Centro / Microcentro       76\n",
              "Villa Soldati              45\n",
              "Villa Riachuelo            35\n",
              "Las Cañitas                12\n",
              "Catalinas                   7\n",
              "Name: count, dtype: int64"
            ]
          },
          "execution_count": 2590,
          "metadata": {},
          "output_type": "execute_result"
        }
      ],
      "source": [
        "df[\"place_l3\"].value_counts()"
      ]
    },
    {
      "cell_type": "code",
      "execution_count": 2591,
      "metadata": {},
      "outputs": [
        {
          "data": {
            "text/plain": [
              "place_l4\n",
              "Palermo Hollywood    1576\n",
              "Palermo Chico        1092\n",
              "Palermo Soho          804\n",
              "Palermo Viejo         171\n",
              "Name: count, dtype: int64"
            ]
          },
          "execution_count": 2591,
          "metadata": {},
          "output_type": "execute_result"
        }
      ],
      "source": [
        "df[\"place_l4\"].value_counts()"
      ]
    },
    {
      "cell_type": "code",
      "execution_count": 2592,
      "metadata": {},
      "outputs": [
        {
          "data": {
            "text/plain": [
              "Series([], Name: count, dtype: int64)"
            ]
          },
          "execution_count": 2592,
          "metadata": {},
          "output_type": "execute_result"
        }
      ],
      "source": [
        "df[\"place_l5\"].value_counts()"
      ]
    },
    {
      "cell_type": "markdown",
      "metadata": {},
      "source": [
        "De la columna **place_l6** ni siquiera miramos porque el resultado de value_counts() con todo el df sin filtrarson todos nulos."
      ]
    },
    {
      "cell_type": "code",
      "execution_count": 2593,
      "metadata": {},
      "outputs": [
        {
          "data": {
            "text/plain": [
              "operation\n",
              "Venta    94249\n",
              "Name: count, dtype: int64"
            ]
          },
          "execution_count": 2593,
          "metadata": {},
          "output_type": "execute_result"
        }
      ],
      "source": [
        "df[\"operation\"].value_counts()"
      ]
    },
    {
      "cell_type": "markdown",
      "metadata": {},
      "source": [
        "**Operation** originalmente es una variable de tipo cualitativa, y vemos que sus valores difieren de lo que son exclusivamente ventas de propiedades, asique nos preguntamos aqui si dichas filas con propiedades a alquilar nos van a servir para predecir el valor de una propiedad en venta.\n",
        "En nuestro caso ya filtrado solo van a estar aquellas propiedades que tienen el valor de \"Venta\"."
      ]
    },
    {
      "cell_type": "code",
      "execution_count": 2594,
      "metadata": {},
      "outputs": [
        {
          "data": {
            "text/plain": [
              "property_type\n",
              "Departamento    80829\n",
              "PH               9266\n",
              "Casa             4154\n",
              "Name: count, dtype: int64"
            ]
          },
          "execution_count": 2594,
          "metadata": {},
          "output_type": "execute_result"
        }
      ],
      "source": [
        "df[\"property_type\"].value_counts()"
      ]
    },
    {
      "cell_type": "markdown",
      "metadata": {},
      "source": [
        "**property_type** originalmente es una variable de tipo cualitativa también, y vemos que los posibles valores difieren de edifcios, hoteles o establecimientos masivos (exceptuando las oficinas quizas), aunque propiedades de este tipo pueden estar agrupadas en Otro, asique es algo que tendremos en cuenta de aqui en adelante.\n",
        "Idem lo dicho anteriormente, la variable con el filtrado previo solo va a variar entre las opciones anteriores."
      ]
    },
    {
      "cell_type": "code",
      "execution_count": 2595,
      "metadata": {},
      "outputs": [
        {
          "data": {
            "text/plain": [
              "property_rooms\n",
              "3.0     26714\n",
              "2.0     26496\n",
              "4.0     16405\n",
              "1.0     15084\n",
              "5.0      5171\n",
              "6.0      1854\n",
              "7.0       741\n",
              "8.0       359\n",
              "9.0       151\n",
              "10.0      107\n",
              "11.0       33\n",
              "12.0       30\n",
              "14.0       17\n",
              "15.0       12\n",
              "13.0        6\n",
              "16.0        4\n",
              "17.0        4\n",
              "18.0        3\n",
              "20.0        3\n",
              "30.0        2\n",
              "36.0        2\n",
              "19.0        2\n",
              "35.0        1\n",
              "32.0        1\n",
              "24.0        1\n",
              "40.0        1\n",
              "28.0        1\n",
              "Name: count, dtype: int64"
            ]
          },
          "execution_count": 2595,
          "metadata": {},
          "output_type": "execute_result"
        }
      ],
      "source": [
        "df[\"property_rooms\"].value_counts()"
      ]
    },
    {
      "cell_type": "code",
      "execution_count": 2596,
      "metadata": {},
      "outputs": [],
      "source": [
        "def check_values(column):\n",
        "    result = []\n",
        "    for n in column:\n",
        "        if not np.isnan(n) and n % 1 != 0:\n",
        "            result.append(n)\n",
        "    return result"
      ]
    },
    {
      "cell_type": "code",
      "execution_count": 2597,
      "metadata": {},
      "outputs": [
        {
          "data": {
            "text/plain": [
              "[]"
            ]
          },
          "execution_count": 2597,
          "metadata": {},
          "output_type": "execute_result"
        }
      ],
      "source": [
        "check_values(df[\"property_rooms\"])"
      ]
    },
    {
      "cell_type": "code",
      "execution_count": 2598,
      "metadata": {},
      "outputs": [
        {
          "data": {
            "text/plain": [
              "(2.8227992060511777, 3.0, 3.0)"
            ]
          },
          "execution_count": 2598,
          "metadata": {},
          "output_type": "execute_result"
        }
      ],
      "source": [
        "df[\"property_rooms\"].mean(), df[\"property_rooms\"].median(), df[\"property_rooms\"].mode()[0]"
      ]
    },
    {
      "cell_type": "code",
      "execution_count": 2599,
      "metadata": {},
      "outputs": [
        {
          "data": {
            "text/plain": [
              "property_bedrooms\n",
              " 1.0     31947\n",
              " 2.0     27414\n",
              " 3.0     17656\n",
              " 4.0      4797\n",
              " 5.0       928\n",
              " 6.0       241\n",
              " 7.0       107\n",
              " 8.0        55\n",
              " 10.0       27\n",
              " 9.0        27\n",
              " 12.0       16\n",
              " 11.0        7\n",
              " 16.0        6\n",
              " 14.0        5\n",
              " 17.0        5\n",
              " 15.0        4\n",
              " 18.0        4\n",
              " 20.0        4\n",
              " 13.0        4\n",
              " 32.0        3\n",
              " 22.0        2\n",
              " 30.0        1\n",
              " 70.0        1\n",
              "-1.0         1\n",
              "Name: count, dtype: int64"
            ]
          },
          "execution_count": 2599,
          "metadata": {},
          "output_type": "execute_result"
        }
      ],
      "source": [
        "df[\"property_bedrooms\"].value_counts()"
      ]
    },
    {
      "cell_type": "code",
      "execution_count": 2600,
      "metadata": {},
      "outputs": [
        {
          "data": {
            "text/plain": [
              "[]"
            ]
          },
          "execution_count": 2600,
          "metadata": {},
          "output_type": "execute_result"
        }
      ],
      "source": [
        "check_values(df[\"property_bedrooms\"])"
      ]
    },
    {
      "cell_type": "code",
      "execution_count": 2601,
      "metadata": {},
      "outputs": [
        {
          "data": {
            "text/plain": [
              "(2.0146285220148448, 2.0, 1.0)"
            ]
          },
          "execution_count": 2601,
          "metadata": {},
          "output_type": "execute_result"
        }
      ],
      "source": [
        "df[\"property_bedrooms\"].mean(), df[\"property_bedrooms\"].median(), df[\"property_bedrooms\"].mode()[0]"
      ]
    },
    {
      "cell_type": "markdown",
      "metadata": {},
      "source": [
        "Tanto **property_rooms** como **property_bedrooms** vemos que son variables cuantitativas discretas, pero ya observamos que tiene algunos valores extraños (el -3, y aquellos que son muy altos, que pueden llegar a ser hoteles o similar, pero nuevamente, lo analizaremos mas adelante)."
      ]
    },
    {
      "cell_type": "code",
      "execution_count": 2602,
      "metadata": {},
      "outputs": [
        {
          "data": {
            "text/plain": [
              "property_surface_covered\n",
              "40.0        2394\n",
              "38.0        2020\n",
              "50.0        2011\n",
              "45.0        1946\n",
              "35.0        1853\n",
              "            ... \n",
              "217000.0       1\n",
              "40038.0        1\n",
              "598.0          1\n",
              "795.0          1\n",
              "5970.0         1\n",
              "Name: count, Length: 590, dtype: int64"
            ]
          },
          "execution_count": 2602,
          "metadata": {},
          "output_type": "execute_result"
        }
      ],
      "source": [
        "df[\"property_surface_covered\"].value_counts()"
      ]
    },
    {
      "cell_type": "code",
      "execution_count": 2603,
      "metadata": {},
      "outputs": [
        {
          "data": {
            "text/plain": [
              "[]"
            ]
          },
          "execution_count": 2603,
          "metadata": {},
          "output_type": "execute_result"
        }
      ],
      "source": [
        "check_values(df[\"property_surface_covered\"])"
      ]
    },
    {
      "cell_type": "code",
      "execution_count": 2604,
      "metadata": {},
      "outputs": [
        {
          "data": {
            "text/plain": [
              "(87.93193244952968, 58.0, 40.0)"
            ]
          },
          "execution_count": 2604,
          "metadata": {},
          "output_type": "execute_result"
        }
      ],
      "source": [
        "df[\"property_surface_covered\"].mean(), df[\"property_surface_covered\"].median(), df[\"property_surface_covered\"].mode()[0]"
      ]
    },
    {
      "cell_type": "code",
      "execution_count": 2605,
      "metadata": {},
      "outputs": [
        {
          "data": {
            "text/plain": [
              "property_surface_total\n",
              "50.0      1799\n",
              "40.0      1725\n",
              "45.0      1586\n",
              "42.0      1561\n",
              "60.0      1506\n",
              "          ... \n",
              "713.0        1\n",
              "661.0        1\n",
              "834.0        1\n",
              "684.0        1\n",
              "7720.0       1\n",
              "Name: count, Length: 719, dtype: int64"
            ]
          },
          "execution_count": 2605,
          "metadata": {},
          "output_type": "execute_result"
        }
      ],
      "source": [
        "df[\"property_surface_total\"].value_counts()"
      ]
    },
    {
      "cell_type": "code",
      "execution_count": 2606,
      "metadata": {},
      "outputs": [
        {
          "data": {
            "text/plain": [
              "[]"
            ]
          },
          "execution_count": 2606,
          "metadata": {},
          "output_type": "execute_result"
        }
      ],
      "source": [
        "check_values(df[\"property_surface_total\"])"
      ]
    },
    {
      "cell_type": "code",
      "execution_count": 2607,
      "metadata": {},
      "outputs": [
        {
          "data": {
            "text/plain": [
              "(109.09297019182372, 65.0, 50.0)"
            ]
          },
          "execution_count": 2607,
          "metadata": {},
          "output_type": "execute_result"
        }
      ],
      "source": [
        "df[\"property_surface_total\"].mean(), df[\"property_surface_total\"].median(), df[\"property_surface_total\"].mode()[0]"
      ]
    },
    {
      "cell_type": "markdown",
      "metadata": {},
      "source": [
        "Ambas variables indicadoras de la superficie de las propiedades (totales y cubiertas) son variables cuantitativas continuas, y vemos que hay discrepancia en los datos ya que superficie total = superficie cubierta + superficie descubierta, y el promedio de las superficie cubierta es 9000 aproximadamente, y el de la superficie total es 420 aproximadamente."
      ]
    },
    {
      "cell_type": "code",
      "execution_count": 2608,
      "metadata": {},
      "outputs": [],
      "source": [
        "# o discretas?"
      ]
    },
    {
      "cell_type": "code",
      "execution_count": 2609,
      "metadata": {},
      "outputs": [
        {
          "data": {
            "text/plain": [
              "property_price\n",
              "110000.0    1514\n",
              "120000.0    1426\n",
              "85000.0     1412\n",
              "125000.0    1396\n",
              "115000.0    1377\n",
              "            ... \n",
              "98046.0        1\n",
              "110148.0       1\n",
              "149010.0       1\n",
              "102004.0       1\n",
              "302000.0       1\n",
              "Name: count, Length: 4789, dtype: int64"
            ]
          },
          "execution_count": 2609,
          "metadata": {},
          "output_type": "execute_result"
        }
      ],
      "source": [
        "df[\"property_price\"].value_counts()"
      ]
    },
    {
      "cell_type": "code",
      "execution_count": 2610,
      "metadata": {},
      "outputs": [
        {
          "data": {
            "text/plain": [
              "[]"
            ]
          },
          "execution_count": 2610,
          "metadata": {},
          "output_type": "execute_result"
        }
      ],
      "source": [
        "check_values(df[\"property_price\"])"
      ]
    },
    {
      "cell_type": "code",
      "execution_count": 2611,
      "metadata": {},
      "outputs": [
        {
          "data": {
            "text/plain": [
              "(226238.20718522213, 143900.0, 110000.0)"
            ]
          },
          "execution_count": 2611,
          "metadata": {},
          "output_type": "execute_result"
        }
      ],
      "source": [
        "df[\"property_price\"].mean(), df[\"property_price\"].median(), df[\"property_price\"].mode()[0]"
      ]
    },
    {
      "cell_type": "markdown",
      "metadata": {},
      "source": [
        "El **property_price** es una variable cuantitativa discreta."
      ]
    },
    {
      "cell_type": "code",
      "execution_count": 2612,
      "metadata": {},
      "outputs": [
        {
          "data": {
            "text/plain": [
              "property_currency\n",
              "USD    94249\n",
              "Name: count, dtype: int64"
            ]
          },
          "execution_count": 2612,
          "metadata": {},
          "output_type": "execute_result"
        }
      ],
      "source": [
        "df[\"property_currency\"].value_counts()"
      ]
    },
    {
      "cell_type": "markdown",
      "metadata": {},
      "source": [
        "**property_currency** originalmente es una variable cuantitativa tambien, y es la moneda en la que esta publicada la propiedad, asique ya sabemos que vamos a tener que traducir ciertas monedas a USD (o mismo ver si realmente pertenecen a la Argentina las propiedades del df).\n",
        "Tras el filtrado solo tenemos aquellas propiedades publicadas con valor en USD."
      ]
    },
    {
      "cell_type": "code",
      "execution_count": 2613,
      "metadata": {},
      "outputs": [
        {
          "data": {
            "text/plain": [
              "property_title\n",
              "Departamento - Palermo                                                                                  1468\n",
              "Departamento - Recoleta                                                                                 1324\n",
              "Departamento - Belgrano                                                                                 1113\n",
              "Departamento - Caballito                                                                                 936\n",
              "Departamento - Almagro                                                                                   666\n",
              "                                                                                                        ... \n",
              "Gran 3 ambientes en pleno Villa del Parque                                                                 1\n",
              "Venta PH 3 Amb Con Patio Flores                                                                            1\n",
              "Venta, PH, 3 Ambientes, PB, Quincho, Parrilla, Terraza, Paternal                                           1\n",
              "Venta PH - 3 dormitorios y terraza en Colegiales                                                           1\n",
              "VENTA MONOAMBIENTE APAISADO y DIVISIBLE AL CF C/ BALCÓN Vta Ata, PISO ALTO. BAJAS EXP. // APTO CRED.       1\n",
              "Name: count, Length: 55704, dtype: int64"
            ]
          },
          "execution_count": 2613,
          "metadata": {},
          "output_type": "execute_result"
        }
      ],
      "source": [
        "df[\"property_title\"].value_counts()"
      ]
    },
    {
      "cell_type": "markdown",
      "metadata": {},
      "source": [
        "El **property_title** es una variable cuantitativa."
      ]
    },
    {
      "cell_type": "markdown",
      "metadata": {},
      "source": [
        "### Resumen de esta sección"
      ]
    },
    {
      "cell_type": "markdown",
      "metadata": {},
      "source": [
        "Creemos que las variables que refieren a los ids, a las fechas, y al titulo de la propiedad, no van a servir para entrenar al modelo, aquellas filas que refieran a propiedades en alquiler tampoco creemos que vayan a servirle al modelo, y por lo tanto ...."
      ]
    },
    {
      "cell_type": "markdown",
      "metadata": {},
      "source": [
        "Realizando algunos graficos de lo que vemos mas importante ahora"
      ]
    },
    {
      "cell_type": "code",
      "execution_count": 2614,
      "metadata": {},
      "outputs": [
        {
          "ename": "SyntaxError",
          "evalue": "invalid syntax. Perhaps you forgot a comma? (2431361293.py, line 1)",
          "output_type": "error",
          "traceback": [
            "\u001b[0;36m  Cell \u001b[0;32mIn[2614], line 1\u001b[0;36m\u001b[0m\n\u001b[0;31m    sns.pairplot(df[])\u001b[0m\n\u001b[0m                 ^\u001b[0m\n\u001b[0;31mSyntaxError\u001b[0m\u001b[0;31m:\u001b[0m invalid syntax. Perhaps you forgot a comma?\n"
          ]
        }
      ],
      "source": [
        "sns.pairplot(df[])"
      ]
    },
    {
      "cell_type": "markdown",
      "metadata": {},
      "source": [
        "## Visualizaciones"
      ]
    },
    {
      "cell_type": "code",
      "execution_count": null,
      "metadata": {},
      "outputs": [
        {
          "data": {
            "image/png": "[encoded data removed]",
            "text/plain": [
              "<Figure size 640x480 with 2 Axes>"
            ]
          },
          "metadata": {},
          "output_type": "display_data"
        }
      ],
      "source": [
        "plt.scatter(df[\"latitud\"], df[\"longitud\"], c = df[\"property_price\"], cmap=\"inferno\")\n",
        "plt.xlabel(\"Latitud\")\n",
        "plt.ylabel(\"Longitud\")\n",
        "plt.colorbar(label=\"Precio en dolares\")\n",
        "\n",
        "#cbar.ax.yaxis.set_major_formatter(ticker.FuncFormatter(lambda x, pos: f\"{np.exp(x):.0f}\"))\n",
        "plt.show()"
      ]
    },
    {
      "cell_type": "markdown",
      "metadata": {},
      "source": [
        "## Datos faltantes"
      ]
    },
    {
      "cell_type": "markdown",
      "metadata": {
        "id": "QFodS-XHGPfa"
      },
      "source": [
        "Veo que en place_l6 literalmente **todas** las filas tienen valor NaN"
      ]
    },
    {
      "cell_type": "code",
      "execution_count": null,
      "metadata": {
        "id": "957wtS_-HBhZ"
      },
      "outputs": [],
      "source": [
        "df = df.drop(\"place_l6\", axis=1)"
      ]
    },
    {
      "cell_type": "markdown",
      "metadata": {
        "id": "AJURPc8JJYrZ"
      },
      "source": [
        "Me fijo si todas las propiedades del dataset corresponden a casas en venta"
      ]
    },
    {
      "cell_type": "code",
      "execution_count": null,
      "metadata": {
        "colab": {
          "base_uri": "https://localhost:8080/"
        },
        "id": "8DpuUEFsIUPy",
        "outputId": "bf9c42ce-bb32-444c-d316-628e92321602"
      },
      "outputs": [
        {
          "data": {
            "text/plain": [
              "operation\n",
              "Venta                337874\n",
              "Alquiler              98900\n",
              "Alquiler temporal     23380\n",
              "Name: count, dtype: int64"
            ]
          },
          "execution_count": 1976,
          "metadata": {},
          "output_type": "execute_result"
        }
      ],
      "source": [
        "df[\"operation\"].value_counts()"
      ]
    },
    {
      "cell_type": "markdown",
      "metadata": {
        "id": "r6HHxcoIJRYR"
      },
      "source": [
        "Aquellos valores que no son de venta deberia descartarlos ? (yo creeria que si)"
      ]
    },
    {
      "cell_type": "code",
      "execution_count": null,
      "metadata": {},
      "outputs": [],
      "source": [
        "df = df[~df[\"operation\"].isin([\"Alquiler\", \"Alquiler temporal\"])]"
      ]
    },
    {
      "cell_type": "code",
      "execution_count": null,
      "metadata": {},
      "outputs": [
        {
          "data": {
            "text/plain": [
              "(337874, 19)"
            ]
          },
          "execution_count": 1978,
          "metadata": {},
          "output_type": "execute_result"
        }
      ],
      "source": [
        "df.shape"
      ]
    },
    {
      "cell_type": "code",
      "execution_count": null,
      "metadata": {},
      "outputs": [
        {
          "data": {
            "text/plain": [
              "(460, 19)"
            ]
          },
          "execution_count": 1979,
          "metadata": {},
          "output_type": "execute_result"
        }
      ],
      "source": [
        "df[df[\"property_price\"] <= 0].shape"
      ]
    },
    {
      "cell_type": "code",
      "execution_count": null,
      "metadata": {},
      "outputs": [],
      "source": [
        "df = df[df[\"property_price\"] > 0]"
      ]
    },
    {
      "cell_type": "code",
      "execution_count": null,
      "metadata": {},
      "outputs": [
        {
          "data": {
            "text/plain": [
              "(323821, 19)"
            ]
          },
          "execution_count": 1981,
          "metadata": {},
          "output_type": "execute_result"
        }
      ],
      "source": [
        "df.shape"
      ]
    },
    {
      "cell_type": "code",
      "execution_count": null,
      "metadata": {},
      "outputs": [
        {
          "data": {
            "text/plain": [
              "id                               0\n",
              "start_date                       0\n",
              "end_date                         0\n",
              "created_on                       0\n",
              "latitud                      27814\n",
              "longitud                     27814\n",
              "place_l2                         0\n",
              "place_l3                     14058\n",
              "place_l4                    224389\n",
              "place_l5                    322385\n",
              "operation                        0\n",
              "property_type                    0\n",
              "property_rooms               60795\n",
              "property_bedrooms            74707\n",
              "property_surface_total       38372\n",
              "property_surface_covered     22431\n",
              "property_price                   0\n",
              "property_currency                0\n",
              "property_title                   0\n",
              "dtype: int64"
            ]
          },
          "execution_count": 1982,
          "metadata": {},
          "output_type": "execute_result"
        }
      ],
      "source": [
        "df.isnull().sum()"
      ]
    },
    {
      "cell_type": "code",
      "execution_count": null,
      "metadata": {},
      "outputs": [
        {
          "data": {
            "text/plain": [
              "44282"
            ]
          },
          "execution_count": 1983,
          "metadata": {},
          "output_type": "execute_result"
        }
      ],
      "source": [
        "df[df[\"property_rooms\"].isnull() & df[\"property_bedrooms\"].isnull()].shape[0]"
      ]
    },
    {
      "cell_type": "code",
      "execution_count": null,
      "metadata": {},
      "outputs": [
        {
          "data": {
            "text/plain": [
              "16513"
            ]
          },
          "execution_count": 1984,
          "metadata": {},
          "output_type": "execute_result"
        }
      ],
      "source": [
        "df[df[\"property_rooms\"].isnull() & ~df[\"property_bedrooms\"].isnull()].shape[0]"
      ]
    },
    {
      "cell_type": "markdown",
      "metadata": {},
      "source": [
        "Completo aquellas filas que no tengan la cantidad de cuartos totales, pero si la cantidad de habitaciones, con cantHabitaciones + 1, ya que necesariamente tienen un ambiente más."
      ]
    },
    {
      "cell_type": "code",
      "execution_count": null,
      "metadata": {},
      "outputs": [],
      "source": [
        "df[\"property_rooms\"].fillna(df[\"property_bedrooms\"] + 1, inplace=True)"
      ]
    },
    {
      "cell_type": "code",
      "execution_count": null,
      "metadata": {},
      "outputs": [
        {
          "data": {
            "text/plain": [
              "0"
            ]
          },
          "execution_count": 1986,
          "metadata": {},
          "output_type": "execute_result"
        }
      ],
      "source": [
        "df[df[\"property_surface_total\"].isnull() & df[\"property_surface_covered\"].isnull()].shape[0]"
      ]
    },
    {
      "cell_type": "markdown",
      "metadata": {},
      "source": [
        "Completo aquellas filas que no tengan la cantidad superficie total, pero si la superficie cubierta, con la misma cantidad de superficie cubierta."
      ]
    },
    {
      "cell_type": "code",
      "execution_count": null,
      "metadata": {},
      "outputs": [
        {
          "data": {
            "text/plain": [
              "38372"
            ]
          },
          "execution_count": 1987,
          "metadata": {},
          "output_type": "execute_result"
        }
      ],
      "source": [
        "df[df[\"property_surface_total\"].isnull() & ~df[\"property_surface_covered\"].isnull()].shape[0]"
      ]
    },
    {
      "cell_type": "code",
      "execution_count": null,
      "metadata": {},
      "outputs": [],
      "source": [
        "df[\"property_surface_total\"].fillna(df[\"property_surface_covered\"], inplace=True)"
      ]
    },
    {
      "cell_type": "code",
      "execution_count": null,
      "metadata": {},
      "outputs": [
        {
          "data": {
            "text/plain": [
              "id                               0\n",
              "start_date                       0\n",
              "end_date                         0\n",
              "created_on                       0\n",
              "latitud                      27814\n",
              "longitud                     27814\n",
              "place_l2                         0\n",
              "place_l3                     14058\n",
              "place_l4                    224389\n",
              "place_l5                    322385\n",
              "operation                        0\n",
              "property_type                    0\n",
              "property_rooms               44282\n",
              "property_bedrooms            74707\n",
              "property_surface_total           0\n",
              "property_surface_covered     22431\n",
              "property_price                   0\n",
              "property_currency                0\n",
              "property_title                   0\n",
              "dtype: int64"
            ]
          },
          "execution_count": 1989,
          "metadata": {},
          "output_type": "execute_result"
        }
      ],
      "source": [
        "df.isnull().sum()"
      ]
    },
    {
      "cell_type": "code",
      "execution_count": null,
      "metadata": {},
      "outputs": [
        {
          "data": {
            "text/plain": [
              "0"
            ]
          },
          "execution_count": 1990,
          "metadata": {},
          "output_type": "execute_result"
        }
      ],
      "source": [
        "df[~df[\"latitud\"].isnull() & ~df[\"longitud\"].isnull() & df[\"place_l2\"].isnull()].shape[0]"
      ]
    },
    {
      "cell_type": "code",
      "execution_count": null,
      "metadata": {},
      "outputs": [
        {
          "data": {
            "text/plain": [
              "27814"
            ]
          },
          "execution_count": 1991,
          "metadata": {},
          "output_type": "execute_result"
        }
      ],
      "source": [
        "df[df[\"latitud\"].isnull() & df[\"longitud\"].isnull() & ~df[\"place_l2\"].isnull()].shape[0]"
      ]
    },
    {
      "cell_type": "markdown",
      "metadata": {},
      "source": [
        "podriamos hacer aca lo de buscar el centro de los place_l2"
      ]
    },
    {
      "cell_type": "code",
      "execution_count": null,
      "metadata": {},
      "outputs": [
        {
          "data": {
            "text/plain": [
              "27814"
            ]
          },
          "execution_count": 1992,
          "metadata": {},
          "output_type": "execute_result"
        }
      ],
      "source": [
        "df[df[\"latitud\"].isnull() & df[\"longitud\"].isnull()].shape[0]"
      ]
    },
    {
      "cell_type": "markdown",
      "metadata": {},
      "source": [
        "De la pagina del gobierno argentino (www.argentina.gob.ar) extraigo los datos de los puntos extremos del pais.\n",
        "\n",
        "- Norte: Confluencia de los ríos Grande de San Juan y Mojinete, Provincia de Jujuy (Latitud 21º 46' 52\" S; Longitud 66º 13' 17\" O).\n",
        "- Sur: Cabo San Pío en la isla Grande de Tierra del Fuego, Provincia de Tierra del Fuego, Antártida e Islas del Atlántico Sur (Latitud 55º 03' 21\" S; Longitud 66º 31' 25\" O).\n",
        "- Este: Hito V (CONALI), punto situado en la localidad de Bernardo de Irigoyen, Provincia de Misiones (Latitud 26º 14' 59\" S; Longitud 53º 38' 15\" O).\n",
        "- Oeste: Punto ubicado en el Parque Nacional Los Glaciares, Provincia de Santa Cruz (Latitud 50º 01’ S; Longitud 73º 34' O)."
      ]
    },
    {
      "cell_type": "markdown",
      "metadata": {},
      "source": [
        "Creo una funcion que dadas las coordenadas en grados, minutos y segundos y el punto cardinal, lo transforma a coordenadas de tipo decimal, que es como estan dadas en este dataframe"
      ]
    },
    {
      "cell_type": "code",
      "execution_count": null,
      "metadata": {},
      "outputs": [],
      "source": [
        "def transformar_entrada(coord):\n",
        "    num, valor = coord[0], coord[1]\n",
        "    grados, minutos, segundos = num[0], num[1], num[2]\n",
        "    return grados, minutos, segundos, valor\n",
        "\n",
        "def transformar_a_decimales(coord):\n",
        "    g, m, s = coord[0][0], coord[0][1], coord[0][2]\n",
        "    result = g + m/60 + s/3600\n",
        "    return result\n",
        "\n",
        "def transformar_latitud(coord):\n",
        "    result = transformar_a_decimales(coord)\n",
        "    if coord[-1] == \"N\":\n",
        "        return result\n",
        "    else:\n",
        "        return -result\n",
        "\n",
        "def transformar_longitud(coord):\n",
        "    result = transformar_a_decimales(coord)\n",
        "    if coord[-1] == \"E\":\n",
        "        return result\n",
        "    else:\n",
        "        return -result"
      ]
    },
    {
      "cell_type": "code",
      "execution_count": null,
      "metadata": {},
      "outputs": [],
      "source": [
        "_EXTREMO_NORTE = [[21, 46, 52], \"S\"]\n",
        "_EXTREMO_SUR = [[55, 3, 21], \"S\"]\n",
        "_EXTREMO_ESTE = [[53, 38, 15], \"O\"]\n",
        "_EXTREMO_OESTE = [[73, 34, 0], \"O\"]"
      ]
    },
    {
      "cell_type": "code",
      "execution_count": null,
      "metadata": {},
      "outputs": [],
      "source": [
        "EXTREMO_NORTE = transformar_latitud(_EXTREMO_NORTE)\n",
        "EXTREMO_SUR = transformar_latitud(_EXTREMO_SUR)\n",
        "EXTREMO_ESTE = transformar_longitud(_EXTREMO_ESTE)\n",
        "EXTREMO_OESTE = transformar_longitud(_EXTREMO_OESTE)"
      ]
    },
    {
      "cell_type": "code",
      "execution_count": null,
      "metadata": {},
      "outputs": [
        {
          "data": {
            "text/plain": [
              "place_l2\n",
              "Florida                362\n",
              "Michigan               243\n",
              "Rio Grande do Norte      8\n",
              "Maryland                 8\n",
              "Pennsylvania             3\n",
              "Rio de Janeiro           1\n",
              "Miami                    1\n",
              "Name: count, dtype: int64"
            ]
          },
          "execution_count": 1996,
          "metadata": {},
          "output_type": "execute_result"
        }
      ],
      "source": [
        "df[(df[\"latitud\"] > EXTREMO_NORTE) | (df[\"latitud\"] < EXTREMO_SUR)][\"place_l2\"].value_counts()"
      ]
    },
    {
      "cell_type": "code",
      "execution_count": null,
      "metadata": {},
      "outputs": [
        {
          "data": {
            "text/plain": [
              "-53.6375"
            ]
          },
          "execution_count": 1997,
          "metadata": {},
          "output_type": "execute_result"
        }
      ],
      "source": [
        "EXTREMO_ESTE"
      ]
    },
    {
      "cell_type": "code",
      "execution_count": null,
      "metadata": {},
      "outputs": [
        {
          "data": {
            "text/plain": [
              "place_l2\n",
              "Florida                362\n",
              "Michigan               243\n",
              "Santa Catarina          22\n",
              "Rocha                   10\n",
              "Rio Grande do Norte      8\n",
              "Maryland                 8\n",
              "Rio de Janeiro           3\n",
              "Pennsylvania             3\n",
              "São Paulo                1\n",
              "Miami                    1\n",
              "Name: count, dtype: int64"
            ]
          },
          "execution_count": 1998,
          "metadata": {},
          "output_type": "execute_result"
        }
      ],
      "source": [
        "df[(df[\"longitud\"] < EXTREMO_OESTE) | (df[\"longitud\"] > EXTREMO_ESTE)][\"place_l2\"].value_counts()"
      ]
    },
    {
      "cell_type": "code",
      "execution_count": null,
      "metadata": {},
      "outputs": [],
      "source": [
        "df = df[(df[\"latitud\"] <= EXTREMO_NORTE) & (df[\"latitud\"] >= \n",
        "                                            EXTREMO_SUR) & (df[\"longitud\"] >= EXTREMO_OESTE) & (df[\"longitud\"] <= EXTREMO_ESTE)]"
      ]
    },
    {
      "cell_type": "markdown",
      "metadata": {},
      "source": [
        "## Valores atípicos"
      ]
    },
    {
      "cell_type": "code",
      "execution_count": null,
      "metadata": {},
      "outputs": [
        {
          "data": {
            "text/plain": [
              "{'whiskers': [<matplotlib.lines.Line2D at 0x7f27c19ec490>,\n",
              "  <matplotlib.lines.Line2D at 0x7f27c19ecf50>],\n",
              " 'caps': [<matplotlib.lines.Line2D at 0x7f27c19ed8d0>,\n",
              "  <matplotlib.lines.Line2D at 0x7f27c19edf50>],\n",
              " 'boxes': [<matplotlib.lines.Line2D at 0x7f27c8f3b990>],\n",
              " 'medians': [<matplotlib.lines.Line2D at 0x7f27c19ee710>],\n",
              " 'fliers': [<matplotlib.lines.Line2D at 0x7f27c19ed5d0>],\n",
              " 'means': []}"
            ]
          },
          "execution_count": 2000,
          "metadata": {},
          "output_type": "execute_result"
        },
        {
          "data": {
            "image/png": "[encoded data removed]",
            "text/plain": [
              "<Figure size 640x480 with 1 Axes>"
            ]
          },
          "metadata": {},
          "output_type": "display_data"
        }
      ],
      "source": [
        "plt.boxplot(df[\"property_price\"])"
      ]
    },
    {
      "cell_type": "code",
      "execution_count": null,
      "metadata": {},
      "outputs": [
        {
          "data": {
            "text/html": [
              "<div>\n",
              "<style scoped>\n",
              "    .dataframe tbody tr th:only-of-type {\n",
              "        vertical-align: middle;\n",
              "    }\n",
              "\n",
              "    .dataframe tbody tr th {\n",
              "        vertical-align: top;\n",
              "    }\n",
              "\n",
              "    .dataframe thead th {\n",
              "        text-align: right;\n",
              "    }\n",
              "</style>\n",
              "<table border=\"1\" class=\"dataframe\">\n",
              "  <thead>\n",
              "    <tr style=\"text-align: right;\">\n",
              "      <th></th>\n",
              "      <th>id</th>\n",
              "      <th>start_date</th>\n",
              "      <th>end_date</th>\n",
              "      <th>created_on</th>\n",
              "      <th>latitud</th>\n",
              "      <th>longitud</th>\n",
              "      <th>place_l2</th>\n",
              "      <th>place_l3</th>\n",
              "      <th>place_l4</th>\n",
              "      <th>place_l5</th>\n",
              "      <th>operation</th>\n",
              "      <th>property_type</th>\n",
              "      <th>property_rooms</th>\n",
              "      <th>property_bedrooms</th>\n",
              "      <th>property_surface_total</th>\n",
              "      <th>property_surface_covered</th>\n",
              "      <th>property_price</th>\n",
              "      <th>property_currency</th>\n",
              "      <th>property_title</th>\n",
              "    </tr>\n",
              "  </thead>\n",
              "  <tbody>\n",
              "    <tr>\n",
              "      <th>5813</th>\n",
              "      <td>h4JpSCzmTUkYFivMLsN6/Q==</td>\n",
              "      <td>2021-10-29</td>\n",
              "      <td>2022-01-27</td>\n",
              "      <td>2021-10-29</td>\n",
              "      <td>-26.791467</td>\n",
              "      <td>-65.250933</td>\n",
              "      <td>Tucumán</td>\n",
              "      <td>San Miguel de Tucumán</td>\n",
              "      <td>NaN</td>\n",
              "      <td>NaN</td>\n",
              "      <td>Venta</td>\n",
              "      <td>Casa</td>\n",
              "      <td>4.0</td>\n",
              "      <td>3.0</td>\n",
              "      <td>170.0</td>\n",
              "      <td>170.0</td>\n",
              "      <td>1.666000e+07</td>\n",
              "      <td>UYU</td>\n",
              "      <td>Casa - Congreso</td>\n",
              "    </tr>\n",
              "    <tr>\n",
              "      <th>22257</th>\n",
              "      <td>Ka5PTII4/Q6xbiefOf0FKQ==</td>\n",
              "      <td>2021-10-01</td>\n",
              "      <td>2021-10-05</td>\n",
              "      <td>2021-10-01</td>\n",
              "      <td>-27.822409</td>\n",
              "      <td>-64.249085</td>\n",
              "      <td>Santiago Del Estero</td>\n",
              "      <td>Santiago del Estero</td>\n",
              "      <td>NaN</td>\n",
              "      <td>NaN</td>\n",
              "      <td>Venta</td>\n",
              "      <td>Casa</td>\n",
              "      <td>4.0</td>\n",
              "      <td>NaN</td>\n",
              "      <td>93.0</td>\n",
              "      <td>93.0</td>\n",
              "      <td>3.180000e+08</td>\n",
              "      <td>COP</td>\n",
              "      <td>Casa en venta we 93 m2 . En Santa Lucia. Medel...</td>\n",
              "    </tr>\n",
              "    <tr>\n",
              "      <th>63897</th>\n",
              "      <td>hfdYXRPi3PdEH6RYC2JOAA==</td>\n",
              "      <td>2021-06-22</td>\n",
              "      <td>2021-07-03</td>\n",
              "      <td>2021-06-22</td>\n",
              "      <td>-34.930585</td>\n",
              "      <td>-58.018453</td>\n",
              "      <td>Bs.As. G.B.A. Zona Sur</td>\n",
              "      <td>La Plata</td>\n",
              "      <td>NaN</td>\n",
              "      <td>NaN</td>\n",
              "      <td>Venta</td>\n",
              "      <td>Departamento</td>\n",
              "      <td>4.0</td>\n",
              "      <td>NaN</td>\n",
              "      <td>269.0</td>\n",
              "      <td>269.0</td>\n",
              "      <td>1.400000e+09</td>\n",
              "      <td>COP</td>\n",
              "      <td>Apartamento Sierras del Moral, 269m2 independi...</td>\n",
              "    </tr>\n",
              "  </tbody>\n",
              "</table>\n",
              "</div>"
            ],
            "text/plain": [
              "                             id  start_date    end_date  created_on  \\\n",
              "5813   h4JpSCzmTUkYFivMLsN6/Q==  2021-10-29  2022-01-27  2021-10-29   \n",
              "22257  Ka5PTII4/Q6xbiefOf0FKQ==  2021-10-01  2021-10-05  2021-10-01   \n",
              "63897  hfdYXRPi3PdEH6RYC2JOAA==  2021-06-22  2021-07-03  2021-06-22   \n",
              "\n",
              "         latitud   longitud                place_l2               place_l3  \\\n",
              "5813  -26.791467 -65.250933                 Tucumán  San Miguel de Tucumán   \n",
              "22257 -27.822409 -64.249085     Santiago Del Estero    Santiago del Estero   \n",
              "63897 -34.930585 -58.018453  Bs.As. G.B.A. Zona Sur               La Plata   \n",
              "\n",
              "      place_l4 place_l5 operation property_type  property_rooms  \\\n",
              "5813       NaN      NaN     Venta          Casa             4.0   \n",
              "22257      NaN      NaN     Venta          Casa             4.0   \n",
              "63897      NaN      NaN     Venta  Departamento             4.0   \n",
              "\n",
              "       property_bedrooms  property_surface_total  property_surface_covered  \\\n",
              "5813                 3.0                   170.0                     170.0   \n",
              "22257                NaN                    93.0                      93.0   \n",
              "63897                NaN                   269.0                     269.0   \n",
              "\n",
              "       property_price property_currency  \\\n",
              "5813     1.666000e+07               UYU   \n",
              "22257    3.180000e+08               COP   \n",
              "63897    1.400000e+09               COP   \n",
              "\n",
              "                                          property_title  \n",
              "5813                                     Casa - Congreso  \n",
              "22257  Casa en venta we 93 m2 . En Santa Lucia. Medel...  \n",
              "63897  Apartamento Sierras del Moral, 269m2 independi...  "
            ]
          },
          "execution_count": 2001,
          "metadata": {},
          "output_type": "execute_result"
        }
      ],
      "source": [
        "df[(df[\"property_currency\"] == \"UYU\") | (df[\"property_currency\"] == \"COP\")].head(3)"
      ]
    },
    {
      "cell_type": "markdown",
      "metadata": {},
      "source": [
        "que deberiamos hacer con estas monedas? buscar valores promedios en usd para ese año?"
      ]
    },
    {
      "cell_type": "code",
      "execution_count": null,
      "metadata": {},
      "outputs": [],
      "source": [
        "VALOR_COL_PROM_EN_USD_2021 = 0.0002674 # https://www.exchange-rates.org/es/historial/cop-usd-2021\n",
        "VALOR_UYU_PROM_EN_USD_2021 = 0.02296 # https://www.exchange-rates.org/es/historial/uyu-usd-2021\n",
        "VALOR_ARS_PROM_EN_USD_2021 = 0.01054 # https://www.exchange-rates.org/es/historial/ars-usd-2021"
      ]
    },
    {
      "cell_type": "code",
      "execution_count": null,
      "metadata": {},
      "outputs": [],
      "source": [
        "df.loc[df[\"property_currency\"] == \"COP\", \"property_price\"] = df[\"property_price\"] * VALOR_COL_PROM_EN_USD_2021\n",
        "df.loc[df[\"property_currency\"] == \"ARS\", \"property_price\"] = df[\"property_price\"] * VALOR_ARS_PROM_EN_USD_2021\n",
        "df.loc[df[\"property_currency\"] == \"UYU\", \"property_price\"] = df[\"property_price\"] * VALOR_UYU_PROM_EN_USD_2021"
      ]
    },
    {
      "cell_type": "code",
      "execution_count": null,
      "metadata": {},
      "outputs": [],
      "source": [
        "df[\"property_currency\"] = \"USD\""
      ]
    },
    {
      "cell_type": "code",
      "execution_count": null,
      "metadata": {},
      "outputs": [
        {
          "data": {
            "text/plain": [
              "{'whiskers': [<matplotlib.lines.Line2D at 0x7f27c1a58d10>,\n",
              "  <matplotlib.lines.Line2D at 0x7f27c1a59a10>],\n",
              " 'caps': [<matplotlib.lines.Line2D at 0x7f27c1a5a650>,\n",
              "  <matplotlib.lines.Line2D at 0x7f27c1a5b110>],\n",
              " 'boxes': [<matplotlib.lines.Line2D at 0x7f27c1a4bfd0>],\n",
              " 'medians': [<matplotlib.lines.Line2D at 0x7f27c1a5bbd0>],\n",
              " 'fliers': [<matplotlib.lines.Line2D at 0x7f27c1864750>],\n",
              " 'means': []}"
            ]
          },
          "execution_count": 2005,
          "metadata": {},
          "output_type": "execute_result"
        },
        {
          "data": {
            "image/png": "[encoded data removed]",
            "text/plain": [
              "<Figure size 640x480 with 1 Axes>"
            ]
          },
          "metadata": {},
          "output_type": "display_data"
        }
      ],
      "source": [
        "plt.boxplot(df[\"property_price\"])"
      ]
    }
  ],
  "metadata": {
    "colab": {
      "provenance": []
    },
    "kernelspec": {
      "display_name": "Python 3",
      "name": "python3"
    },
    "language_info": {
      "codemirror_mode": {
        "name": "ipython",
        "version": 3
      },
      "file_extension": ".py",
      "mimetype": "text/x-python",
      "name": "python",
      "nbconvert_exporter": "python",
      "pygments_lexer": "ipython3",
      "version": "3.11.6"
    }
  },
  "nbformat": 4,
  "nbformat_minor": 0
}
