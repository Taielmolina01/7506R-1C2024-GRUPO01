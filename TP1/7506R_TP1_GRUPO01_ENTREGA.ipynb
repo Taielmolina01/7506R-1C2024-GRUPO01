{
  "cells": [
    {
      "cell_type": "code",
      "execution_count": 702,
      "metadata": {
        "id": "zP4Tu3YnFXIz"
      },
      "outputs": [],
      "source": [
        "import pandas as pd\n",
        "import seaborn as sns\n",
        "import numpy as np\n",
        "import matplotlib.pyplot as plt\n",
        "import matplotlib.ticker as ticker\n",
        "from scipy.stats import gaussian_kde\n",
        "from sklearn.model_selection import train_test_split"
      ]
    },
    {
      "cell_type": "code",
      "execution_count": 703,
      "metadata": {
        "id": "6mIswkI5FSCZ"
      },
      "outputs": [],
      "source": [
        "path_df = \"/home/taiel/Documentos/FIUBA/2024_C1/OrgaDeDatos/7506R-1C2024-GRUPO01/TP1/properati_argentina_2021.csv\""
      ]
    },
    {
      "cell_type": "code",
      "execution_count": 704,
      "metadata": {},
      "outputs": [],
      "source": [
        "GREEN = \"#196F3D\"\n",
        "BLUE = \"#2874A6\""
      ]
    },
    {
      "cell_type": "code",
      "execution_count": 705,
      "metadata": {
        "id": "b3AyxM9HFlNT"
      },
      "outputs": [],
      "source": [
        "df_raw = pd.read_csv(path_df)"
      ]
    },
    {
      "cell_type": "code",
      "execution_count": 706,
      "metadata": {
        "colab": {
          "base_uri": "https://localhost:8080/"
        },
        "id": "3Wyoi7NRF8VK",
        "outputId": "e82b0815-a2b0-44be-e8db-217399fdafc3"
      },
      "outputs": [
        {
          "data": {
            "text/plain": [
              "(460154, 20)"
            ]
          },
          "execution_count": 706,
          "metadata": {},
          "output_type": "execute_result"
        }
      ],
      "source": [
        "df_raw.shape"
      ]
    },
    {
      "cell_type": "code",
      "execution_count": 707,
      "metadata": {
        "colab": {
          "base_uri": "https://localhost:8080/"
        },
        "id": "inY6ob_yF1nS",
        "outputId": "ffc16de0-9957-4429-ba13-987ad2e5093c"
      },
      "outputs": [
        {
          "name": "stdout",
          "output_type": "stream",
          "text": [
            "<class 'pandas.core.frame.DataFrame'>\n",
            "RangeIndex: 460154 entries, 0 to 460153\n",
            "Data columns (total 20 columns):\n",
            " #   Column                    Non-Null Count   Dtype  \n",
            "---  ------                    --------------   -----  \n",
            " 0   id                        460154 non-null  object \n",
            " 1   start_date                460154 non-null  object \n",
            " 2   end_date                  460154 non-null  object \n",
            " 3   created_on                460154 non-null  object \n",
            " 4   latitud                   419740 non-null  float64\n",
            " 5   longitud                  419740 non-null  float64\n",
            " 6   place_l2                  460154 non-null  object \n",
            " 7   place_l3                  437665 non-null  object \n",
            " 8   place_l4                  139020 non-null  object \n",
            " 9   place_l5                  2430 non-null    object \n",
            " 10  place_l6                  0 non-null       float64\n",
            " 11  operation                 460154 non-null  object \n",
            " 12  property_type             460154 non-null  object \n",
            " 13  property_rooms            368498 non-null  float64\n",
            " 14  property_bedrooms         344113 non-null  float64\n",
            " 15  property_surface_total    397813 non-null  float64\n",
            " 16  property_surface_covered  427916 non-null  float64\n",
            " 17  property_price            442153 non-null  float64\n",
            " 18  property_currency         441590 non-null  object \n",
            " 19  property_title            460154 non-null  object \n",
            "dtypes: float64(8), object(12)\n",
            "memory usage: 70.2+ MB\n"
          ]
        }
      ],
      "source": [
        "df_raw.info()"
      ]
    },
    {
      "cell_type": "code",
      "execution_count": 708,
      "metadata": {
        "colab": {
          "base_uri": "https://localhost:8080/",
          "height": 216
        },
        "id": "j6-UhsXKF2yK",
        "outputId": "82deb4ba-2d2c-42ed-ddb3-33b23c617323"
      },
      "outputs": [
        {
          "data": {
            "text/html": [
              "<div>\n",
              "<style scoped>\n",
              "    .dataframe tbody tr th:only-of-type {\n",
              "        vertical-align: middle;\n",
              "    }\n",
              "\n",
              "    .dataframe tbody tr th {\n",
              "        vertical-align: top;\n",
              "    }\n",
              "\n",
              "    .dataframe thead th {\n",
              "        text-align: right;\n",
              "    }\n",
              "</style>\n",
              "<table border=\"1\" class=\"dataframe\">\n",
              "  <thead>\n",
              "    <tr style=\"text-align: right;\">\n",
              "      <th></th>\n",
              "      <th>id</th>\n",
              "      <th>start_date</th>\n",
              "      <th>end_date</th>\n",
              "      <th>created_on</th>\n",
              "      <th>latitud</th>\n",
              "      <th>longitud</th>\n",
              "      <th>place_l2</th>\n",
              "      <th>place_l3</th>\n",
              "      <th>place_l4</th>\n",
              "      <th>place_l5</th>\n",
              "      <th>place_l6</th>\n",
              "      <th>operation</th>\n",
              "      <th>property_type</th>\n",
              "      <th>property_rooms</th>\n",
              "      <th>property_bedrooms</th>\n",
              "      <th>property_surface_total</th>\n",
              "      <th>property_surface_covered</th>\n",
              "      <th>property_price</th>\n",
              "      <th>property_currency</th>\n",
              "      <th>property_title</th>\n",
              "    </tr>\n",
              "  </thead>\n",
              "  <tbody>\n",
              "    <tr>\n",
              "      <th>0</th>\n",
              "      <td>XZq2dFGxBiboHY3Bo/tqlw==</td>\n",
              "      <td>2021-09-09</td>\n",
              "      <td>2022-01-27</td>\n",
              "      <td>2021-09-09</td>\n",
              "      <td>-38.957632</td>\n",
              "      <td>-68.105443</td>\n",
              "      <td>Neuquén</td>\n",
              "      <td>NaN</td>\n",
              "      <td>NaN</td>\n",
              "      <td>NaN</td>\n",
              "      <td>NaN</td>\n",
              "      <td>Venta</td>\n",
              "      <td>Casa</td>\n",
              "      <td>6.0</td>\n",
              "      <td>NaN</td>\n",
              "      <td>NaN</td>\n",
              "      <td>206.0</td>\n",
              "      <td>NaN</td>\n",
              "      <td>NaN</td>\n",
              "      <td>Casa - Capital</td>\n",
              "    </tr>\n",
              "    <tr>\n",
              "      <th>1</th>\n",
              "      <td>8afoK+yMH/rnnlYiktwgNA==</td>\n",
              "      <td>2021-09-09</td>\n",
              "      <td>2021-10-23</td>\n",
              "      <td>2021-09-09</td>\n",
              "      <td>-34.888878</td>\n",
              "      <td>-56.092368</td>\n",
              "      <td>Montevideo</td>\n",
              "      <td>NaN</td>\n",
              "      <td>NaN</td>\n",
              "      <td>NaN</td>\n",
              "      <td>NaN</td>\n",
              "      <td>Venta</td>\n",
              "      <td>Casa</td>\n",
              "      <td>4.0</td>\n",
              "      <td>3.0</td>\n",
              "      <td>193.0</td>\n",
              "      <td>193.0</td>\n",
              "      <td>390000.0</td>\n",
              "      <td>USD</td>\n",
              "      <td>Casa - Malvín</td>\n",
              "    </tr>\n",
              "    <tr>\n",
              "      <th>2</th>\n",
              "      <td>iVaG5rBB47dd1Ya4BMXREA==</td>\n",
              "      <td>2021-09-09</td>\n",
              "      <td>2022-03-09</td>\n",
              "      <td>2021-09-09</td>\n",
              "      <td>-32.488717</td>\n",
              "      <td>-58.257499</td>\n",
              "      <td>Entre Ríos</td>\n",
              "      <td>NaN</td>\n",
              "      <td>NaN</td>\n",
              "      <td>NaN</td>\n",
              "      <td>NaN</td>\n",
              "      <td>Venta</td>\n",
              "      <td>Casa</td>\n",
              "      <td>NaN</td>\n",
              "      <td>NaN</td>\n",
              "      <td>110.0</td>\n",
              "      <td>45.0</td>\n",
              "      <td>47000.0</td>\n",
              "      <td>USD</td>\n",
              "      <td>Casa - Uruguay</td>\n",
              "    </tr>\n",
              "  </tbody>\n",
              "</table>\n",
              "</div>"
            ],
            "text/plain": [
              "                         id  start_date    end_date  created_on    latitud  \\\n",
              "0  XZq2dFGxBiboHY3Bo/tqlw==  2021-09-09  2022-01-27  2021-09-09 -38.957632   \n",
              "1  8afoK+yMH/rnnlYiktwgNA==  2021-09-09  2021-10-23  2021-09-09 -34.888878   \n",
              "2  iVaG5rBB47dd1Ya4BMXREA==  2021-09-09  2022-03-09  2021-09-09 -32.488717   \n",
              "\n",
              "    longitud    place_l2 place_l3 place_l4 place_l5  place_l6 operation  \\\n",
              "0 -68.105443     Neuquén      NaN      NaN      NaN       NaN     Venta   \n",
              "1 -56.092368  Montevideo      NaN      NaN      NaN       NaN     Venta   \n",
              "2 -58.257499  Entre Ríos      NaN      NaN      NaN       NaN     Venta   \n",
              "\n",
              "  property_type  property_rooms  property_bedrooms  property_surface_total  \\\n",
              "0          Casa             6.0                NaN                     NaN   \n",
              "1          Casa             4.0                3.0                   193.0   \n",
              "2          Casa             NaN                NaN                   110.0   \n",
              "\n",
              "   property_surface_covered  property_price property_currency  property_title  \n",
              "0                     206.0             NaN               NaN  Casa - Capital  \n",
              "1                     193.0        390000.0               USD   Casa - Malvín  \n",
              "2                      45.0         47000.0               USD  Casa - Uruguay  "
            ]
          },
          "execution_count": 708,
          "metadata": {},
          "output_type": "execute_result"
        }
      ],
      "source": [
        "df_raw.head(3)"
      ]
    },
    {
      "cell_type": "code",
      "execution_count": 709,
      "metadata": {
        "colab": {
          "base_uri": "https://localhost:8080/"
        },
        "id": "IsrwGTZeFtwz",
        "outputId": "a4906f48-6118-437b-c261-c397b052f737"
      },
      "outputs": [
        {
          "data": {
            "text/plain": [
              "id                               0\n",
              "start_date                       0\n",
              "end_date                         0\n",
              "created_on                       0\n",
              "latitud                      40414\n",
              "longitud                     40414\n",
              "place_l2                         0\n",
              "place_l3                     22489\n",
              "place_l4                    321134\n",
              "place_l5                    457724\n",
              "place_l6                    460154\n",
              "operation                        0\n",
              "property_type                    0\n",
              "property_rooms               91656\n",
              "property_bedrooms           116041\n",
              "property_surface_total       62341\n",
              "property_surface_covered     32238\n",
              "property_price               18001\n",
              "property_currency            18564\n",
              "property_title                   0\n",
              "dtype: int64"
            ]
          },
          "execution_count": 709,
          "metadata": {},
          "output_type": "execute_result"
        }
      ],
      "source": [
        "# Esta info no la mostraría, total los datos que importan son despues de filtrar y despues de dividir en prueba y entrenamiento\n",
        "df_raw.isnull().sum()"
      ]
    },
    {
      "cell_type": "markdown",
      "metadata": {
        "id": "0mPsPMnto7uY"
      },
      "source": [
        "## Análisis exploratorio"
      ]
    },
    {
      "cell_type": "markdown",
      "metadata": {
        "id": "BnftFLcNo7uZ"
      },
      "source": [
        "Arrancamos filtrando el df segun lo que indica la consigna."
      ]
    },
    {
      "cell_type": "code",
      "execution_count": 710,
      "metadata": {
        "id": "WUrPLAeAo7uZ",
        "outputId": "5f111c24-0cd5-4855-a8e9-99a39e9b3f93"
      },
      "outputs": [
        {
          "data": {
            "text/plain": [
              "property_currency\n",
              "USD    349104\n",
              "ARS     88869\n",
              "UYU      3506\n",
              "PEN        99\n",
              "COP        12\n",
              "Name: count, dtype: int64"
            ]
          },
          "execution_count": 710,
          "metadata": {},
          "output_type": "execute_result"
        }
      ],
      "source": [
        "df_raw[\"property_currency\"].value_counts()"
      ]
    },
    {
      "cell_type": "code",
      "execution_count": 711,
      "metadata": {
        "id": "Vh7BIuqzo7uZ",
        "outputId": "95ea7d64-6be8-49b3-bc65-315dc95d1462"
      },
      "outputs": [
        {
          "data": {
            "text/plain": [
              "operation\n",
              "Venta                337874\n",
              "Alquiler              98900\n",
              "Alquiler temporal     23380\n",
              "Name: count, dtype: int64"
            ]
          },
          "execution_count": 711,
          "metadata": {},
          "output_type": "execute_result"
        }
      ],
      "source": [
        "df_raw[\"operation\"].value_counts()"
      ]
    },
    {
      "cell_type": "code",
      "execution_count": 712,
      "metadata": {
        "id": "tfVcOCMno7ua",
        "outputId": "c4a34c0c-8149-4553-a06c-27324ca96f44"
      },
      "outputs": [
        {
          "data": {
            "text/plain": [
              "property_type\n",
              "Departamento       231358\n",
              "Casa               120768\n",
              "Lote                28748\n",
              "PH                  25910\n",
              "Local comercial     20546\n",
              "Oficina             16085\n",
              "Otro                 7713\n",
              "Cochera              4111\n",
              "Depósito             4050\n",
              "Casa de campo         865\n",
              "Name: count, dtype: int64"
            ]
          },
          "execution_count": 712,
          "metadata": {},
          "output_type": "execute_result"
        }
      ],
      "source": [
        "df_raw[\"property_type\"].value_counts()"
      ]
    },
    {
      "cell_type": "code",
      "execution_count": 713,
      "metadata": {
        "id": "Ui3hxMJ6o7ua"
      },
      "outputs": [],
      "source": [
        "tipos_propiedades = [\"Departamento\", \"Casa\", \"PH\"]"
      ]
    },
    {
      "cell_type": "code",
      "execution_count": 714,
      "metadata": {
        "id": "eZaoaEu0o7ua",
        "outputId": "3261dc3b-c6ba-4952-a1f3-d49ec2128c9a"
      },
      "outputs": [
        {
          "data": {
            "text/plain": [
              "place_l2\n",
              "Capital Federal                 157563\n",
              "Bs.As. G.B.A. Zona Norte         89693\n",
              "Santa Fe                         47861\n",
              "Bs.As. G.B.A. Zona Sur           47754\n",
              "Bs.As. G.B.A. Zona Oeste         28352\n",
              "Córdoba                          22528\n",
              "Buenos Aires Costa Atlántica     12457\n",
              "Neuquén                           8788\n",
              "Montevideo                        7494\n",
              "Buenos Aires Interior             6274\n",
              "Maldonado                         5540\n",
              "Mendoza                           5395\n",
              "Río Negro                         5280\n",
              "Tucumán                           3571\n",
              "Colonia                           2535\n",
              "Salta                             1537\n",
              "Entre Ríos                        1216\n",
              "San Juan                           997\n",
              "La Pampa                           783\n",
              "Canelones                          744\n",
              "Chubut                             701\n",
              "San Luis                           677\n",
              "Misiones                           529\n",
              "Florida                            411\n",
              "Jujuy                              406\n",
              "Corrientes                         297\n",
              "Michigan                           251\n",
              "Chaco                              208\n",
              "Rocha                               85\n",
              "Tierra Del Fuego                    75\n",
              "Santiago Del Estero                 59\n",
              "Santa Catarina                      35\n",
              "Santa Cruz                          16\n",
              "Rio Grande do Norte                  9\n",
              "Maryland                             8\n",
              "Catamarca                            7\n",
              "Miami                                4\n",
              "La Rioja                             4\n",
              "Rio de Janeiro                       3\n",
              "Pennsylvania                         3\n",
              "Formosa                              2\n",
              "São Paulo                            1\n",
              "California                           1\n",
              "Name: count, dtype: int64"
            ]
          },
          "execution_count": 714,
          "metadata": {},
          "output_type": "execute_result"
        }
      ],
      "source": [
        "df_raw[\"place_l2\"].value_counts()"
      ]
    },
    {
      "cell_type": "code",
      "execution_count": 715,
      "metadata": {
        "id": "6aPauIRYo7ua"
      },
      "outputs": [],
      "source": [
        "# que pasa aca con aquellas que tengan nan de place_l2 pero que realmente esten en capital federal\n",
        "# TODO: deberia buscar puntos extremos de CABA y ahi filtrar por eso tambien"
      ]
    },
    {
      "cell_type": "code",
      "execution_count": 716,
      "metadata": {
        "id": "cbEvcMFPpWFH"
      },
      "outputs": [
        {
          "name": "stdout",
          "output_type": "stream",
          "text": [
            "(94249, 20)\n",
            "(75399, 20)\n",
            "(18850, 20)\n"
          ]
        }
      ],
      "source": [
        "## Filtramos el df con lo solicitado\n",
        "df_raw = df_raw[(df_raw[\"property_currency\"] == \"USD\") & (df_raw[\"operation\"] == \"Venta\") & (df_raw[\"property_type\"].isin(tipos_propiedades)) &\n",
        "        (df_raw[\"place_l2\"] == \"Capital Federal\")]\n",
        "\n",
        "## Dividimos en un df para entrenamiento (llamado df) y otro para test (df_test)\n",
        "seed = 123\n",
        "\n",
        "_df, df_test = train_test_split(df_raw, test_size=0.2, random_state=seed)\n",
        "\n",
        "df = _df # creo esta copia para luego poder comparar las distros antes y despues de imputar datos.\n",
        "\n",
        "print(df_raw.shape)\n",
        "print(_df.shape)\n",
        "print(df_test.shape)"
      ]
    },
    {
      "cell_type": "code",
      "execution_count": 717,
      "metadata": {
        "id": "agHxot_Uo7ua",
        "outputId": "980f5e39-3cb5-4b21-8351-64b116034814"
      },
      "outputs": [
        {
          "data": {
            "text/plain": [
              "Text(0, 0.5, 'Porcentaje de valores nulos')"
            ]
          },
          "execution_count": 717,
          "metadata": {},
          "output_type": "execute_result"
        },
        {
          "data": {
            "image/png": "[encoded data removed]",
            "text/plain": [
              "<Figure size 640x480 with 1 Axes>"
            ]
          },
          "metadata": {},
          "output_type": "display_data"
        }
      ],
      "source": [
        "_df.isnull().sum()\n",
        "# En lugar de mostrarlo de esta forma, usaría un gráfico mostrando los %.\n",
        "\n",
        "porcentaje_null_por_columna = (_df.isnull().sum() / len(_df) * 100)\n",
        "porcentaje_null_por_columna.plot(kind='bar')\n",
        "plt.title('Porcentaje de valores nulos por columna')\n",
        "plt.xlabel('Columnas')\n",
        "plt.ylabel('Porcentaje de valores nulos')"
      ]
    },
    {
      "cell_type": "markdown",
      "metadata": {
        "id": "1uZmMTxvo7ub"
      },
      "source": [
        "### a) Exploración incial"
      ]
    },
    {
      "cell_type": "markdown",
      "metadata": {
        "id": "riJ2hQj5o7ub"
      },
      "source": [
        "Variables cuantitativas"
      ]
    },
    {
      "cell_type": "code",
      "execution_count": 718,
      "metadata": {
        "id": "tkPZwUHYo7ub",
        "outputId": "f1cfe230-40f3-476f-da30-da756d62b648"
      },
      "outputs": [
        {
          "data": {
            "text/plain": [
              "'2021-01-01'"
            ]
          },
          "execution_count": 718,
          "metadata": {},
          "output_type": "execute_result"
        }
      ],
      "source": [
        "df[\"start_date\"].min()"
      ]
    },
    {
      "cell_type": "code",
      "execution_count": 719,
      "metadata": {
        "id": "FxnOcVw4o7ub",
        "outputId": "21c86551-bb93-4e73-a03b-168c56adea43"
      },
      "outputs": [
        {
          "data": {
            "text/plain": [
              "'2021-12-31'"
            ]
          },
          "execution_count": 719,
          "metadata": {},
          "output_type": "execute_result"
        }
      ],
      "source": [
        "df[\"start_date\"].max()"
      ]
    },
    {
      "cell_type": "code",
      "execution_count": 720,
      "metadata": {
        "id": "cYtDjAvgo7ub",
        "outputId": "aa6299ba-dadd-4872-e23d-f1e2102b5981"
      },
      "outputs": [
        {
          "data": {
            "text/plain": [
              "'2021-01-02'"
            ]
          },
          "execution_count": 720,
          "metadata": {},
          "output_type": "execute_result"
        }
      ],
      "source": [
        "df[\"end_date\"].min()"
      ]
    },
    {
      "cell_type": "code",
      "execution_count": 721,
      "metadata": {
        "id": "gOzP0Nlvo7ub",
        "outputId": "3b1e8e7d-27ae-4404-b89e-731b53b602b1"
      },
      "outputs": [
        {
          "data": {
            "text/plain": [
              "'9999-12-31'"
            ]
          },
          "execution_count": 721,
          "metadata": {},
          "output_type": "execute_result"
        }
      ],
      "source": [
        "df[\"end_date\"].max()"
      ]
    },
    {
      "cell_type": "code",
      "execution_count": 722,
      "metadata": {
        "id": "MBFtK0xxo7ub",
        "outputId": "79175da3-b659-4f61-b687-38ac275d7a16"
      },
      "outputs": [
        {
          "data": {
            "text/plain": [
              "'2021-01-01'"
            ]
          },
          "execution_count": 722,
          "metadata": {},
          "output_type": "execute_result"
        }
      ],
      "source": [
        "df[\"created_on\"].min()"
      ]
    },
    {
      "cell_type": "code",
      "execution_count": 723,
      "metadata": {
        "id": "0eRtQ7SSo7ub",
        "outputId": "882ddd9e-bfbf-401f-b30f-3f9415129162"
      },
      "outputs": [
        {
          "data": {
            "text/plain": [
              "'2021-12-31'"
            ]
          },
          "execution_count": 723,
          "metadata": {},
          "output_type": "execute_result"
        }
      ],
      "source": [
        "df[\"created_on\"].max()"
      ]
    },
    {
      "cell_type": "markdown",
      "metadata": {
        "id": "hiGHYBNQo7uc"
      },
      "source": [
        "Veo que de **end_date** a ciertas propiedades le colocaron el año 9999, por lo que interpreto que todavia no habian sido vendidas al momento de recolectar los datos."
      ]
    },
    {
      "cell_type": "markdown",
      "metadata": {
        "id": "1K3K_J6bo7uc"
      },
      "source": [
        "Estas tres columnas veo que son variables cuantitativas discretas, ya que solo estan las fechas como tal, no hay dato sobre las horas."
      ]
    },
    {
      "cell_type": "markdown",
      "metadata": {
        "id": "KDosDmgso7uc"
      },
      "source": [
        "Tanto **latitud** como **longitud** son variables cuantitativas continuas."
      ]
    },
    {
      "cell_type": "code",
      "execution_count": 724,
      "metadata": {
        "id": "qsMCADhqo7uc",
        "outputId": "366876c6-b4ec-4095-d55e-6ce6e05dabc6"
      },
      "outputs": [
        {
          "data": {
            "text/plain": [
              "(-34.59126352648724, -34.59573237315, -34.5412501)"
            ]
          },
          "execution_count": 724,
          "metadata": {},
          "output_type": "execute_result"
        }
      ],
      "source": [
        "df[\"latitud\"].mean(), df[\"latitud\"].median(), df[\"latitud\"].mode()[0]"
      ]
    },
    {
      "cell_type": "code",
      "execution_count": 725,
      "metadata": {
        "id": "n6fQ0upjo7uc",
        "outputId": "d947a7fa-cd50-420c-f838-ccdcf16bf92e"
      },
      "outputs": [
        {
          "data": {
            "text/plain": [
              "(-58.449369334704855, -58.4389166, -58.4729664)"
            ]
          },
          "execution_count": 725,
          "metadata": {},
          "output_type": "execute_result"
        }
      ],
      "source": [
        "df[\"longitud\"].mean(), df[\"longitud\"].median(), df[\"longitud\"].mode()[0]"
      ]
    },
    {
      "cell_type": "markdown",
      "metadata": {
        "id": "9N4OxKv2o7uc"
      },
      "source": [
        "Los distintos **place_l** son variables cualitativas. Busco los distintos valores que adoptan"
      ]
    },
    {
      "cell_type": "code",
      "execution_count": 726,
      "metadata": {
        "id": "aTpKqtI5o7uc",
        "outputId": "26deabf7-7ed6-4acb-a554-5eb069d74cde"
      },
      "outputs": [
        {
          "data": {
            "text/plain": [
              "place_l2\n",
              "Capital Federal    75399\n",
              "Name: count, dtype: int64"
            ]
          },
          "execution_count": 726,
          "metadata": {},
          "output_type": "execute_result"
        }
      ],
      "source": [
        "df[\"place_l2\"].value_counts()"
      ]
    },
    {
      "cell_type": "code",
      "execution_count": 727,
      "metadata": {
        "id": "Oy3CzSPho7uc",
        "outputId": "744c4413-13e2-4719-dc54-2a16e52a1867"
      },
      "outputs": [
        {
          "data": {
            "text/plain": [
              "place_l3\n",
              "Palermo                 11448\n",
              "Belgrano                 7173\n",
              "Caballito                5688\n",
              "Recoleta                 5031\n",
              "Villa Urquiza            3794\n",
              "Almagro                  3291\n",
              "Nuñez                    2839\n",
              "Villa Crespo             2563\n",
              "Flores                   2460\n",
              "Barrio Norte             2418\n",
              "Balvanera                2071\n",
              "Colegiales               1571\n",
              "Villa Devoto             1533\n",
              "Saavedra                 1447\n",
              "Villa del Parque         1446\n",
              "Puerto Madero            1207\n",
              "San Telmo                1118\n",
              "San Nicolás              1053\n",
              "San Cristobal            1027\n",
              "Barracas                 1011\n",
              "Retiro                    984\n",
              "Boedo                     972\n",
              "Floresta                  950\n",
              "Monserrat                 893\n",
              "Parque Chacabuco          859\n",
              "Villa Pueyrredón          792\n",
              "Coghlan                   771\n",
              "Villa Luro                574\n",
              "Mataderos                 572\n",
              "Chacarita                 550\n",
              "Liniers                   536\n",
              "Villa Ortuzar             512\n",
              "Parque Patricios          494\n",
              "Villa Lugano              493\n",
              "Paternal                  457\n",
              "Congreso                  431\n",
              "Monte Castro              391\n",
              "Villa General Mitre       353\n",
              "Constitución              352\n",
              "Villa Santa Rita          339\n",
              "Once                      330\n",
              "Parque Chas               302\n",
              "Parque Avellaneda         290\n",
              "Boca                      280\n",
              "Versalles                 244\n",
              "Velez Sarsfield           195\n",
              "Agronomía                 193\n",
              "Abasto                    189\n",
              "Pompeya                   170\n",
              "Villa Real                111\n",
              "Tribunales                100\n",
              "Parque Centenario          80\n",
              "Centro / Microcentro       56\n",
              "Villa Soldati              32\n",
              "Villa Riachuelo            27\n",
              "Las Cañitas                10\n",
              "Catalinas                   4\n",
              "Name: count, dtype: int64"
            ]
          },
          "execution_count": 727,
          "metadata": {},
          "output_type": "execute_result"
        }
      ],
      "source": [
        "df[\"place_l3\"].value_counts()"
      ]
    },
    {
      "cell_type": "code",
      "execution_count": 728,
      "metadata": {
        "id": "AGcNMy11o7ud",
        "outputId": "cf93a6fd-c836-4441-c674-67cc6d6373c6"
      },
      "outputs": [
        {
          "data": {
            "text/plain": [
              "place_l4\n",
              "Palermo Hollywood    1245\n",
              "Palermo Chico         874\n",
              "Palermo Soho          648\n",
              "Palermo Viejo         136\n",
              "Name: count, dtype: int64"
            ]
          },
          "execution_count": 728,
          "metadata": {},
          "output_type": "execute_result"
        }
      ],
      "source": [
        "df[\"place_l4\"].value_counts()"
      ]
    },
    {
      "cell_type": "code",
      "execution_count": 729,
      "metadata": {
        "id": "k59PHkWao7ud",
        "outputId": "18c554c9-33df-4d03-d3ff-6c0be42886fd"
      },
      "outputs": [
        {
          "data": {
            "text/plain": [
              "Series([], Name: count, dtype: int64)"
            ]
          },
          "execution_count": 729,
          "metadata": {},
          "output_type": "execute_result"
        }
      ],
      "source": [
        "df[\"place_l5\"].value_counts()"
      ]
    },
    {
      "cell_type": "markdown",
      "metadata": {
        "id": "pd8VJPeuo7ud"
      },
      "source": [
        "De la columna **place_l6** ni siquiera miramos porque el resultado de value_counts() con todo el df sin filtrarson todos nulos."
      ]
    },
    {
      "cell_type": "code",
      "execution_count": 730,
      "metadata": {
        "id": "Dk13Dwcwo7ud",
        "outputId": "7b2e59de-f3fc-48a3-d39d-b6331781ef3d"
      },
      "outputs": [
        {
          "data": {
            "text/plain": [
              "operation\n",
              "Venta    75399\n",
              "Name: count, dtype: int64"
            ]
          },
          "execution_count": 730,
          "metadata": {},
          "output_type": "execute_result"
        }
      ],
      "source": [
        "df[\"operation\"].value_counts()"
      ]
    },
    {
      "cell_type": "markdown",
      "metadata": {
        "id": "o8VfE3Leo7ud"
      },
      "source": [
        "**Operation** originalmente es una variable de tipo cualitativa, y vemos que sus valores difieren de lo que son exclusivamente ventas de propiedades, asique nos preguntamos aqui si dichas filas con propiedades a alquilar nos van a servir para predecir el valor de una propiedad en venta.\n",
        "En nuestro caso ya filtrado solo van a estar aquellas propiedades que tienen el valor de \"Venta\"."
      ]
    },
    {
      "cell_type": "code",
      "execution_count": 731,
      "metadata": {
        "id": "CqwpM-jao7ud",
        "outputId": "e3890a08-85a7-49dc-eb9a-4f42152842ef"
      },
      "outputs": [
        {
          "data": {
            "text/plain": [
              "property_type\n",
              "Departamento    64698\n",
              "PH               7392\n",
              "Casa             3309\n",
              "Name: count, dtype: int64"
            ]
          },
          "execution_count": 731,
          "metadata": {},
          "output_type": "execute_result"
        }
      ],
      "source": [
        "df[\"property_type\"].value_counts()"
      ]
    },
    {
      "cell_type": "markdown",
      "metadata": {
        "id": "5TBjojGuo7uh"
      },
      "source": [
        "**property_type** originalmente es una variable de tipo cualitativa también, y vemos que los posibles valores difieren de edifcios, hoteles o establecimientos masivos (exceptuando las oficinas quizas), aunque propiedades de este tipo pueden estar agrupadas en Otro, asique es algo que tendremos en cuenta de aqui en adelante.\n",
        "Idem lo dicho anteriormente, la variable con el filtrado previo solo va a variar entre las opciones anteriores."
      ]
    },
    {
      "cell_type": "code",
      "execution_count": 732,
      "metadata": {
        "id": "PWzo1_3Io7uh",
        "outputId": "fb2fd482-66cf-4df0-be8b-dfb8bd7f7b61"
      },
      "outputs": [
        {
          "data": {
            "text/plain": [
              "property_rooms\n",
              "3.0     21380\n",
              "2.0     21255\n",
              "4.0     13152\n",
              "1.0     12011\n",
              "5.0      4100\n",
              "6.0      1494\n",
              "7.0       577\n",
              "8.0       279\n",
              "9.0       116\n",
              "10.0       90\n",
              "11.0       28\n",
              "12.0       27\n",
              "14.0       11\n",
              "15.0        8\n",
              "13.0        5\n",
              "17.0        4\n",
              "16.0        4\n",
              "20.0        3\n",
              "18.0        3\n",
              "36.0        2\n",
              "30.0        2\n",
              "32.0        1\n",
              "24.0        1\n",
              "19.0        1\n",
              "35.0        1\n",
              "Name: count, dtype: int64"
            ]
          },
          "execution_count": 732,
          "metadata": {},
          "output_type": "execute_result"
        }
      ],
      "source": [
        "df[\"property_rooms\"].value_counts()"
      ]
    },
    {
      "cell_type": "code",
      "execution_count": 733,
      "metadata": {
        "id": "P5xje-Lao7uh"
      },
      "outputs": [],
      "source": [
        "def check_values(column):\n",
        "    result = []\n",
        "    for n in column:\n",
        "        if not np.isnan(n) and n % 1 != 0:\n",
        "            result.append(n)\n",
        "    return result"
      ]
    },
    {
      "cell_type": "code",
      "execution_count": 734,
      "metadata": {
        "id": "5ASrpjoVo7uh",
        "outputId": "b06d5e0c-e9ba-4cc8-e84d-c3f8a8edee7c"
      },
      "outputs": [
        {
          "data": {
            "text/plain": [
              "[]"
            ]
          },
          "execution_count": 734,
          "metadata": {},
          "output_type": "execute_result"
        }
      ],
      "source": [
        "check_values(df[\"property_rooms\"])"
      ]
    },
    {
      "cell_type": "code",
      "execution_count": 735,
      "metadata": {
        "id": "Uk4fGRoqo7uh",
        "outputId": "30363d1e-02f7-497c-ce8c-b587412d37e7"
      },
      "outputs": [
        {
          "data": {
            "text/plain": [
              "(2.8221715512038092, 3.0, 3.0)"
            ]
          },
          "execution_count": 735,
          "metadata": {},
          "output_type": "execute_result"
        }
      ],
      "source": [
        "df[\"property_rooms\"].mean(), df[\"property_rooms\"].median(), df[\"property_rooms\"].mode()[0]"
      ]
    },
    {
      "cell_type": "code",
      "execution_count": 736,
      "metadata": {
        "id": "5hqCmW6fo7uh",
        "outputId": "bc0f6557-b84e-4f1a-c43e-f70e7b7f8150"
      },
      "outputs": [
        {
          "data": {
            "text/plain": [
              "property_bedrooms\n",
              " 1.0     25641\n",
              " 2.0     21928\n",
              " 3.0     14103\n",
              " 4.0      3841\n",
              " 5.0       747\n",
              " 6.0       184\n",
              " 7.0        83\n",
              " 8.0        45\n",
              " 10.0       21\n",
              " 9.0        21\n",
              " 12.0       14\n",
              " 11.0        6\n",
              " 14.0        5\n",
              " 17.0        5\n",
              " 16.0        4\n",
              " 13.0        4\n",
              " 18.0        3\n",
              " 15.0        3\n",
              " 20.0        3\n",
              " 32.0        3\n",
              " 22.0        2\n",
              " 70.0        1\n",
              "-1.0         1\n",
              "Name: count, dtype: int64"
            ]
          },
          "execution_count": 736,
          "metadata": {},
          "output_type": "execute_result"
        }
      ],
      "source": [
        "df[\"property_bedrooms\"].value_counts()"
      ]
    },
    {
      "cell_type": "code",
      "execution_count": 737,
      "metadata": {
        "id": "WGe0Troqo7uh",
        "outputId": "f174b523-184d-442a-cd4c-08b55ec46e9f"
      },
      "outputs": [
        {
          "data": {
            "text/plain": [
              "[]"
            ]
          },
          "execution_count": 737,
          "metadata": {},
          "output_type": "execute_result"
        }
      ],
      "source": [
        "check_values(df[\"property_bedrooms\"])"
      ]
    },
    {
      "cell_type": "code",
      "execution_count": 738,
      "metadata": {
        "id": "E63CDCtSo7ui",
        "outputId": "b367dbb5-be33-414e-dd0f-9145e6c41133"
      },
      "outputs": [
        {
          "data": {
            "text/plain": [
              "(2.013289734205316, 2.0, 1.0)"
            ]
          },
          "execution_count": 738,
          "metadata": {},
          "output_type": "execute_result"
        }
      ],
      "source": [
        "df[\"property_bedrooms\"].mean(), df[\"property_bedrooms\"].median(), df[\"property_bedrooms\"].mode()[0]"
      ]
    },
    {
      "cell_type": "markdown",
      "metadata": {
        "id": "Gj8euHfvo7ui"
      },
      "source": [
        "Tanto **property_rooms** como **property_bedrooms** vemos que son variables cuantitativas discretas, pero ya observamos que tiene algunos valores extraños (el -3, y aquellos que son muy altos, que pueden llegar a ser hoteles o similar, pero nuevamente, lo analizaremos mas adelante)."
      ]
    },
    {
      "cell_type": "code",
      "execution_count": 739,
      "metadata": {
        "id": "cnPJZfNso7ui",
        "outputId": "b62ecd71-c7e7-4e87-f55c-b098001d984e"
      },
      "outputs": [
        {
          "data": {
            "text/plain": [
              "property_surface_covered\n",
              "40.0     1955\n",
              "38.0     1633\n",
              "50.0     1612\n",
              "45.0     1557\n",
              "35.0     1483\n",
              "         ... \n",
              "537.0       1\n",
              "608.0       1\n",
              "492.0       1\n",
              "302.0       1\n",
              "317.0       1\n",
              "Name: count, Length: 562, dtype: int64"
            ]
          },
          "execution_count": 739,
          "metadata": {},
          "output_type": "execute_result"
        }
      ],
      "source": [
        "df[\"property_surface_covered\"].value_counts()"
      ]
    },
    {
      "cell_type": "code",
      "execution_count": 740,
      "metadata": {
        "id": "wrmoodtDo7ui",
        "outputId": "7dd88c74-9eb4-43b0-b369-f899b103cc03"
      },
      "outputs": [
        {
          "data": {
            "text/plain": [
              "[]"
            ]
          },
          "execution_count": 740,
          "metadata": {},
          "output_type": "execute_result"
        }
      ],
      "source": [
        "check_values(df[\"property_surface_covered\"])"
      ]
    },
    {
      "cell_type": "code",
      "execution_count": 741,
      "metadata": {
        "id": "Wx7Ej1fRo7ui",
        "outputId": "281ebd9c-bfca-43ce-b8ec-cc79473da588"
      },
      "outputs": [
        {
          "data": {
            "text/plain": [
              "(89.04041959387932, 58.0, 40.0)"
            ]
          },
          "execution_count": 741,
          "metadata": {},
          "output_type": "execute_result"
        }
      ],
      "source": [
        "df[\"property_surface_covered\"].mean(), df[\"property_surface_covered\"].median(), df[\"property_surface_covered\"].mode()[0]"
      ]
    },
    {
      "cell_type": "code",
      "execution_count": 742,
      "metadata": {
        "id": "NFPaD9lho7ui",
        "outputId": "6b49d128-2e67-4dca-c95d-3ddf7b233091"
      },
      "outputs": [
        {
          "data": {
            "text/plain": [
              "property_surface_total\n",
              "50.0      1445\n",
              "40.0      1405\n",
              "42.0      1273\n",
              "45.0      1263\n",
              "60.0      1209\n",
              "          ... \n",
              "471.0        1\n",
              "401.0        1\n",
              "539.0        1\n",
              "4632.0       1\n",
              "723.0        1\n",
              "Name: count, Length: 682, dtype: int64"
            ]
          },
          "execution_count": 742,
          "metadata": {},
          "output_type": "execute_result"
        }
      ],
      "source": [
        "df[\"property_surface_total\"].value_counts()"
      ]
    },
    {
      "cell_type": "code",
      "execution_count": 743,
      "metadata": {
        "id": "2oTE3MiKo7ui",
        "outputId": "d0c4b5ab-705a-4c28-8998-004416b1b9a0"
      },
      "outputs": [
        {
          "data": {
            "text/plain": [
              "[]"
            ]
          },
          "execution_count": 743,
          "metadata": {},
          "output_type": "execute_result"
        }
      ],
      "source": [
        "check_values(df[\"property_surface_total\"])"
      ]
    },
    {
      "cell_type": "code",
      "execution_count": 744,
      "metadata": {
        "id": "PDjm5nuOo7uj",
        "outputId": "82893297-ea47-4a40-ef0f-0a562fb70cbe"
      },
      "outputs": [
        {
          "data": {
            "text/plain": [
              "(109.0961073450276, 65.0, 50.0)"
            ]
          },
          "execution_count": 744,
          "metadata": {},
          "output_type": "execute_result"
        }
      ],
      "source": [
        "df[\"property_surface_total\"].mean(), df[\"property_surface_total\"].median(), df[\"property_surface_total\"].mode()[0]"
      ]
    },
    {
      "cell_type": "markdown",
      "metadata": {
        "id": "dpL59qEqo7uj"
      },
      "source": [
        "Ambas variables indicadoras de la superficie de las propiedades (totales y cubiertas) son variables cuantitativas continuas, y vemos que hay discrepancia en los datos ya que superficie total = superficie cubierta + superficie descubierta, y el promedio de las superficie cubierta es 9000 aproximadamente, y el de la superficie total es 420 aproximadamente."
      ]
    },
    {
      "cell_type": "code",
      "execution_count": 745,
      "metadata": {
        "id": "96j1KG9ko7uj"
      },
      "outputs": [],
      "source": [
        "# o discretas?"
      ]
    },
    {
      "cell_type": "code",
      "execution_count": 746,
      "metadata": {
        "id": "PAR3q5Tao7uj",
        "outputId": "ae5ab406-c8c1-4fd2-8c13-83d18e2f8965"
      },
      "outputs": [
        {
          "data": {
            "text/plain": [
              "property_price\n",
              "110000.0    1189\n",
              "85000.0     1149\n",
              "120000.0    1141\n",
              "125000.0    1136\n",
              "115000.0    1092\n",
              "            ... \n",
              "70899.0        1\n",
              "45999.0        1\n",
              "207500.0       1\n",
              "79847.0        1\n",
              "529133.0       1\n",
              "Name: count, Length: 4215, dtype: int64"
            ]
          },
          "execution_count": 746,
          "metadata": {},
          "output_type": "execute_result"
        }
      ],
      "source": [
        "df[\"property_price\"].value_counts()"
      ]
    },
    {
      "cell_type": "code",
      "execution_count": 747,
      "metadata": {
        "id": "d4U_n3Wco7uj",
        "outputId": "1307a0b9-ff0f-4a9b-e281-d009b6742428"
      },
      "outputs": [
        {
          "data": {
            "text/plain": [
              "[]"
            ]
          },
          "execution_count": 747,
          "metadata": {},
          "output_type": "execute_result"
        }
      ],
      "source": [
        "check_values(df[\"property_price\"])"
      ]
    },
    {
      "cell_type": "code",
      "execution_count": 748,
      "metadata": {
        "id": "15cZxho0o7uk",
        "outputId": "e1430ead-b0bc-4f07-c32e-65e73f69f035"
      },
      "outputs": [
        {
          "data": {
            "text/plain": [
              "(226092.01221501612, 144000.0, 110000.0)"
            ]
          },
          "execution_count": 748,
          "metadata": {},
          "output_type": "execute_result"
        }
      ],
      "source": [
        "df[\"property_price\"].mean(), df[\"property_price\"].median(), df[\"property_price\"].mode()[0]"
      ]
    },
    {
      "cell_type": "markdown",
      "metadata": {
        "id": "ctNA3nc7o7uk"
      },
      "source": [
        "El **property_price** es una variable cuantitativa discreta."
      ]
    },
    {
      "cell_type": "code",
      "execution_count": 749,
      "metadata": {
        "id": "z43NM-Cwo7uk",
        "outputId": "3d67431a-fc93-409e-9152-750ff9f7a38d"
      },
      "outputs": [
        {
          "data": {
            "text/plain": [
              "property_currency\n",
              "USD    75399\n",
              "Name: count, dtype: int64"
            ]
          },
          "execution_count": 749,
          "metadata": {},
          "output_type": "execute_result"
        }
      ],
      "source": [
        "df[\"property_currency\"].value_counts()"
      ]
    },
    {
      "cell_type": "markdown",
      "metadata": {
        "id": "ErZtPjpco7uk"
      },
      "source": [
        "**property_currency** originalmente es una variable cuantitativa tambien, y es la moneda en la que esta publicada la propiedad, asique ya sabemos que vamos a tener que traducir ciertas monedas a USD (o mismo ver si realmente pertenecen a la Argentina las propiedades del df).\n",
        "Tras el filtrado solo tenemos aquellas propiedades publicadas con valor en USD."
      ]
    },
    {
      "cell_type": "code",
      "execution_count": 750,
      "metadata": {
        "id": "eJyEAGcRo7uk",
        "outputId": "5b57968b-76e6-46ae-c981-fc5c8e6f4402"
      },
      "outputs": [
        {
          "data": {
            "text/plain": [
              "property_title\n",
              "Departamento - Palermo                                                                          1182\n",
              "Departamento - Recoleta                                                                         1064\n",
              "Departamento - Belgrano                                                                          893\n",
              "Departamento - Caballito                                                                         753\n",
              "Departamento - Almagro                                                                           541\n",
              "                                                                                                ... \n",
              "Excelente departamento 4 amb. C/ Dep y cochera!!!!                                                 1\n",
              "4 AMBIENTES COCINA INDEPENDIENTE CON BALCÓN AL FRENTE                                              1\n",
              "VENTA depto 5 amb en esquina luminosa c/ terraza y quincho priv - Serrano 700,  Palermo Soho       1\n",
              "Venta departamento 3 ambientes con baulera                                                         1\n",
              "EXCELENTE CHALET EN DOS PLANTAS CON VISTA AL LAGO                                                  1\n",
              "Name: count, Length: 46478, dtype: int64"
            ]
          },
          "execution_count": 750,
          "metadata": {},
          "output_type": "execute_result"
        }
      ],
      "source": [
        "df[\"property_title\"].value_counts()"
      ]
    },
    {
      "cell_type": "markdown",
      "metadata": {
        "id": "HrYwzBZ_o7uk"
      },
      "source": [
        "El **property_title** es una variable cuantitativa."
      ]
    },
    {
      "cell_type": "markdown",
      "metadata": {
        "id": "ec_e7fkxo7uk"
      },
      "source": [
        "### Resumen de esta sección"
      ]
    },
    {
      "cell_type": "markdown",
      "metadata": {
        "id": "0wdg8MwEo7ul"
      },
      "source": [
        "Creemos que las variables que refieren a los ids, a las fechas, y al titulo de la propiedad, no van a servir para entrenar al modelo, aquellas filas que refieran a propiedades en alquiler tampoco creemos que vayan a servirle al modelo, y por lo tanto ...."
      ]
    },
    {
      "cell_type": "markdown",
      "metadata": {
        "id": "WL_xC-Xeo7ul"
      },
      "source": [
        "Realizando algunos graficos de lo que vemos mas importante ahora. Primero comparemos las distribuciones de los datos antes y despues de imputar datos."
      ]
    },
    {
      "cell_type": "code",
      "execution_count": 751,
      "metadata": {},
      "outputs": [],
      "source": [
        "def mostrar_distros(columna):\n",
        "    fig = plt.figure(figsize = (8, 4))\n",
        "    plt.subplot(1, 2, 1)\n",
        "    plt.hist(_df[columna], bins=30, color=BLUE, alpha=0.7)\n",
        "    plt.xlabel(\"Valores\")\n",
        "    plt.ylabel(\"Frecuencia\")\n",
        "    plt.title(\"Original\")\n",
        "\n",
        "    plt.subplot(1, 2, 2)\n",
        "    plt.hist(df[columna], bins=30, color=GREEN, alpha=0.7)\n",
        "    plt.xlabel(\"Valores\")\n",
        "    plt.ylabel(\"Frecuencia\")\n",
        "    plt.title(\"Tras imputar\")\n",
        "\n",
        "    fig.suptitle(f\"Distribución de {columna}\")\n",
        "    plt.tight_layout()\n",
        "    plt.show()"
      ]
    },
    {
      "cell_type": "code",
      "execution_count": 752,
      "metadata": {},
      "outputs": [
        {
          "data": {
            "image/png": "[encoded data removed]",
            "text/plain": [
              "<Figure size 800x400 with 2 Axes>"
            ]
          },
          "metadata": {},
          "output_type": "display_data"
        }
      ],
      "source": [
        "mostrar_distros(\"property_bedrooms\")"
      ]
    },
    {
      "cell_type": "code",
      "execution_count": 753,
      "metadata": {},
      "outputs": [
        {
          "data": {
            "image/png": "[encoded data removed]",
            "text/plain": [
              "<Figure size 800x400 with 2 Axes>"
            ]
          },
          "metadata": {},
          "output_type": "display_data"
        }
      ],
      "source": [
        "mostrar_distros(\"property_rooms\")"
      ]
    },
    {
      "cell_type": "code",
      "execution_count": 754,
      "metadata": {},
      "outputs": [
        {
          "data": {
            "image/png": "[encoded data removed]",
            "text/plain": [
              "<Figure size 800x400 with 2 Axes>"
            ]
          },
          "metadata": {},
          "output_type": "display_data"
        }
      ],
      "source": [
        "mostrar_distros(\"property_surface_covered\")"
      ]
    },
    {
      "cell_type": "code",
      "execution_count": 755,
      "metadata": {},
      "outputs": [
        {
          "data": {
            "image/png": "[encoded data removed]",
            "text/plain": [
              "<Figure size 800x400 with 2 Axes>"
            ]
          },
          "metadata": {},
          "output_type": "display_data"
        }
      ],
      "source": [
        "mostrar_distros(\"property_surface_total\")"
      ]
    },
    {
      "cell_type": "markdown",
      "metadata": {
        "id": "Jwi8u_eUo7ul"
      },
      "source": [
        "## Visualizaciones"
      ]
    },
    {
      "cell_type": "code",
      "execution_count": 756,
      "metadata": {
        "id": "HXxsptIMo7ul"
      },
      "outputs": [],
      "source": [
        "#df = df.drop(\"id\", axis = 1)"
      ]
    },
    {
      "cell_type": "markdown",
      "metadata": {
        "id": "dS44-DuVo7ul"
      },
      "source": [
        "Busco si hay relación entre los valores de las propiedades y la ubicación en la que se encuentran."
      ]
    },
    {
      "cell_type": "code",
      "execution_count": 757,
      "metadata": {
        "id": "crqhGTKxo7ul",
        "outputId": "c2ff5185-e886-4f60-db27-38d732359df6"
      },
      "outputs": [
        {
          "data": {
            "image/png": "[encoded data removed]",
            "text/plain": [
              "<Figure size 640x480 with 2 Axes>"
            ]
          },
          "metadata": {},
          "output_type": "display_data"
        }
      ],
      "source": [
        "plt.scatter(df[\"latitud\"], df[\"longitud\"], c = df[\"property_price\"], cmap=\"inferno\")\n",
        "plt.xlabel(\"Latitud\")\n",
        "plt.ylabel(\"Longitud\")\n",
        "plt.colorbar(label=\"Precio en dolares\")\n",
        "\n",
        "#cbar.ax.yaxis.set_major_formatter(ticker.FuncFormatter(lambda x, pos: f\"{np.exp(x):.0f}\"))\n",
        "plt.show()"
      ]
    },
    {
      "cell_type": "markdown",
      "metadata": {
        "id": "LxiTtrYbo7um"
      },
      "source": [
        "Busco la relación entre el precio de la propiedad y sus habitaciones/dimensiones."
      ]
    },
    {
      "cell_type": "code",
      "execution_count": 758,
      "metadata": {
        "id": "bsZ_FkNeo7um",
        "outputId": "04c62a9b-bd8f-4886-f8e1-171a45a6911f"
      },
      "outputs": [
        {
          "data": {
            "text/plain": [
              "<Axes: >"
            ]
          },
          "execution_count": 758,
          "metadata": {},
          "output_type": "execute_result"
        },
        {
          "data": {
            "image/png": "[encoded data removed]",
            "text/plain": [
              "<Figure size 640x480 with 2 Axes>"
            ]
          },
          "metadata": {},
          "output_type": "display_data"
        }
      ],
      "source": [
        "sns.heatmap(df[[\"property_rooms\", \"property_bedrooms\", \"property_price\", \"property_surface_covered\", \"property_surface_total\"]].corr(), annot = True)"
      ]
    },
    {
      "cell_type": "code",
      "execution_count": 759,
      "metadata": {
        "id": "I8us3rcso7um",
        "outputId": "d0072ec7-78cc-4a1b-a95e-e36dc08657e0"
      },
      "outputs": [
        {
          "data": {
            "text/plain": [
              "<matplotlib.collections.PathCollection at 0x7f1591ca54d0>"
            ]
          },
          "execution_count": 759,
          "metadata": {},
          "output_type": "execute_result"
        },
        {
          "data": {
            "image/png": "[encoded data removed]",
            "text/plain": [
              "<Figure size 640x480 with 1 Axes>"
            ]
          },
          "metadata": {},
          "output_type": "display_data"
        }
      ],
      "source": [
        "plt.scatter(df[\"property_bedrooms\"], df[\"property_price\"])"
      ]
    },
    {
      "cell_type": "code",
      "execution_count": 760,
      "metadata": {
        "id": "j_OnENhQo7um",
        "outputId": "5dda8a1d-0d13-42f9-b465-3fc0a89c3a5b"
      },
      "outputs": [
        {
          "data": {
            "text/plain": [
              "<matplotlib.collections.PathCollection at 0x7f1591a8ae10>"
            ]
          },
          "execution_count": 760,
          "metadata": {},
          "output_type": "execute_result"
        },
        {
          "data": {
            "image/png": "[encoded data removed]",
            "text/plain": [
              "<Figure size 640x480 with 1 Axes>"
            ]
          },
          "metadata": {},
          "output_type": "display_data"
        }
      ],
      "source": [
        "plt.scatter(df[\"property_rooms\"], df[\"property_price\"])"
      ]
    },
    {
      "cell_type": "code",
      "execution_count": 761,
      "metadata": {
        "id": "GB-7lTuvo7um",
        "outputId": "ae6063c1-9a82-42fe-eca9-e9631cc6e877"
      },
      "outputs": [
        {
          "data": {
            "text/plain": [
              "<matplotlib.collections.PathCollection at 0x7f1591afefd0>"
            ]
          },
          "execution_count": 761,
          "metadata": {},
          "output_type": "execute_result"
        },
        {
          "data": {
            "image/png": "[encoded data removed]",
            "text/plain": [
              "<Figure size 640x480 with 1 Axes>"
            ]
          },
          "metadata": {},
          "output_type": "display_data"
        }
      ],
      "source": [
        "plt.scatter(df[\"property_surface_covered\"], df[\"property_price\"])"
      ]
    },
    {
      "cell_type": "code",
      "execution_count": 762,
      "metadata": {
        "id": "Lr9TdFA-o7um",
        "outputId": "f9659f40-8bf2-4a8b-a972-9db21608bd09"
      },
      "outputs": [
        {
          "data": {
            "text/plain": [
              "<matplotlib.collections.PathCollection at 0x7f159196aa90>"
            ]
          },
          "execution_count": 762,
          "metadata": {},
          "output_type": "execute_result"
        },
        {
          "data": {
            "image/png": "[encoded data removed]",
            "text/plain": [
              "<Figure size 640x480 with 1 Axes>"
            ]
          },
          "metadata": {},
          "output_type": "display_data"
        }
      ],
      "source": [
        "plt.scatter(df[\"property_surface_total\"], df[\"property_price\"])"
      ]
    },
    {
      "cell_type": "code",
      "execution_count": 763,
      "metadata": {
        "id": "WqFf28jio7um",
        "outputId": "19fc9ca2-badb-4696-9b57-38d0eefb7708"
      },
      "outputs": [
        {
          "data": {
            "text/plain": [
              "<matplotlib.collections.PathCollection at 0x7f1591b1ca50>"
            ]
          },
          "execution_count": 763,
          "metadata": {},
          "output_type": "execute_result"
        },
        {
          "data": {
            "image/png": "[encoded data removed]",
            "text/plain": [
              "<Figure size 640x480 with 1 Axes>"
            ]
          },
          "metadata": {},
          "output_type": "display_data"
        }
      ],
      "source": [
        "plt.scatter(df[\"latitud\"], df[\"property_price\"])"
      ]
    },
    {
      "cell_type": "code",
      "execution_count": 764,
      "metadata": {
        "id": "yXWF3rueo7un",
        "outputId": "ea34a1a8-af2a-402e-ba7b-7f1f3fe605f1"
      },
      "outputs": [
        {
          "data": {
            "text/plain": [
              "<matplotlib.collections.PathCollection at 0x7f159203cd50>"
            ]
          },
          "execution_count": 764,
          "metadata": {},
          "output_type": "execute_result"
        },
        {
          "data": {
            "image/png": "[encoded data removed]",
            "text/plain": [
              "<Figure size 640x480 with 1 Axes>"
            ]
          },
          "metadata": {},
          "output_type": "display_data"
        }
      ],
      "source": [
        "plt.scatter(df[\"longitud\"], df[\"property_price\"])"
      ]
    },
    {
      "cell_type": "markdown",
      "metadata": {
        "id": "fptxFxt2o7un"
      },
      "source": [
        "## Datos faltantes"
      ]
    },
    {
      "cell_type": "code",
      "execution_count": 765,
      "metadata": {
        "id": "yfe6Ak55o7un",
        "outputId": "3ac0583f-b3d4-432a-ffde-364999ddecb1"
      },
      "outputs": [
        {
          "data": {
            "text/plain": [
              "(75399, 20)"
            ]
          },
          "execution_count": 765,
          "metadata": {},
          "output_type": "execute_result"
        }
      ],
      "source": [
        "df.shape"
      ]
    },
    {
      "cell_type": "code",
      "execution_count": 766,
      "metadata": {
        "id": "AMIAMgGfo7un",
        "outputId": "94d895d2-d45f-4071-b8b8-e87d10f5d74d"
      },
      "outputs": [
        {
          "data": {
            "text/plain": [
              "id                              0\n",
              "start_date                      0\n",
              "end_date                        0\n",
              "created_on                      0\n",
              "latitud                      3013\n",
              "longitud                     3013\n",
              "place_l2                        0\n",
              "place_l3                      322\n",
              "place_l4                    72496\n",
              "place_l5                    75399\n",
              "place_l6                    75399\n",
              "operation                       0\n",
              "property_type                   0\n",
              "property_rooms                844\n",
              "property_bedrooms            8731\n",
              "property_surface_total       3854\n",
              "property_surface_covered     2662\n",
              "property_price                  0\n",
              "property_currency               0\n",
              "property_title                  0\n",
              "dtype: int64"
            ]
          },
          "execution_count": 766,
          "metadata": {},
          "output_type": "execute_result"
        }
      ],
      "source": [
        "df.isnull().sum()"
      ]
    },
    {
      "cell_type": "code",
      "execution_count": 767,
      "metadata": {
        "id": "xRbmtcYOo7un",
        "outputId": "a040f0f0-0713-43dd-af09-934963ed0ba6"
      },
      "outputs": [
        {
          "data": {
            "text/plain": [
              "(0, 20)"
            ]
          },
          "execution_count": 767,
          "metadata": {},
          "output_type": "execute_result"
        }
      ],
      "source": [
        "df[df[\"property_price\"] <= 0].shape"
      ]
    },
    {
      "cell_type": "markdown",
      "metadata": {
        "id": "IFSxe2Mzo7un"
      },
      "source": [
        "No veo propiedades con precios sin sentido."
      ]
    },
    {
      "cell_type": "code",
      "execution_count": 768,
      "metadata": {
        "id": "deP7oWDZo7un",
        "outputId": "946aa5d7-009f-4494-c652-0dd51771ebf4"
      },
      "outputs": [
        {
          "data": {
            "text/plain": [
              "(161, 20)"
            ]
          },
          "execution_count": 768,
          "metadata": {},
          "output_type": "execute_result"
        }
      ],
      "source": [
        "df[df[\"property_surface_total\"] < df[\"property_surface_covered\"]].shape"
      ]
    },
    {
      "cell_type": "markdown",
      "metadata": {
        "id": "Ixi9Epsio7uo"
      },
      "source": [
        "Hay 198 propiedades con errores en la superficie"
      ]
    },
    {
      "cell_type": "markdown",
      "metadata": {
        "id": "uCq73UG3o7uo"
      },
      "source": [
        "Decidimos tomar como que el error estuvo en ingresar los datos al revés."
      ]
    },
    {
      "cell_type": "code",
      "execution_count": 769,
      "metadata": {
        "id": "4xczbhGco7uo"
      },
      "outputs": [],
      "source": [
        "filas_erroneas = df[\"property_surface_total\"] < df[\"property_surface_covered\"]\n",
        "\n",
        "df.loc[filas_erroneas, [\"property_surface_total\", \"property_surface_covered\"]] = df.loc[filas_erroneas, [\"property_surface_covered\", \"property_surface_total\"]].values"
      ]
    },
    {
      "cell_type": "code",
      "execution_count": 770,
      "metadata": {
        "id": "cFT5FCoUo7up",
        "outputId": "7beef7be-4310-4809-d466-ccf537e65956"
      },
      "outputs": [
        {
          "data": {
            "text/plain": [
              "id                              0\n",
              "start_date                      0\n",
              "end_date                        0\n",
              "created_on                      0\n",
              "latitud                      3013\n",
              "longitud                     3013\n",
              "place_l2                        0\n",
              "place_l3                      322\n",
              "place_l4                    72496\n",
              "place_l5                    75399\n",
              "place_l6                    75399\n",
              "operation                       0\n",
              "property_type                   0\n",
              "property_rooms                844\n",
              "property_bedrooms            8731\n",
              "property_surface_total       3854\n",
              "property_surface_covered     2662\n",
              "property_price                  0\n",
              "property_currency               0\n",
              "property_title                  0\n",
              "dtype: int64"
            ]
          },
          "execution_count": 770,
          "metadata": {},
          "output_type": "execute_result"
        }
      ],
      "source": [
        "df.isnull().sum()"
      ]
    },
    {
      "cell_type": "code",
      "execution_count": 771,
      "metadata": {
        "id": "7DTCOq85o7up",
        "outputId": "c8b7ca3e-64aa-42ed-aa9a-f7f73bad616f"
      },
      "outputs": [
        {
          "data": {
            "text/plain": [
              "id                          0.000000\n",
              "start_date                  0.000000\n",
              "end_date                    0.000000\n",
              "created_on                  0.000000\n",
              "latitud                     0.039961\n",
              "longitud                    0.039961\n",
              "place_l2                    0.000000\n",
              "place_l3                    0.004271\n",
              "place_l4                    0.961498\n",
              "place_l5                    1.000000\n",
              "place_l6                    1.000000\n",
              "operation                   0.000000\n",
              "property_type               0.000000\n",
              "property_rooms              0.011194\n",
              "property_bedrooms           0.115797\n",
              "property_surface_total      0.051115\n",
              "property_surface_covered    0.035306\n",
              "property_price              0.000000\n",
              "property_currency           0.000000\n",
              "property_title              0.000000\n",
              "dtype: float64"
            ]
          },
          "execution_count": 771,
          "metadata": {},
          "output_type": "execute_result"
        }
      ],
      "source": [
        "df.isnull().sum() / df.shape[0]"
      ]
    },
    {
      "cell_type": "markdown",
      "metadata": {
        "id": "HlBBCmZXo7up"
      },
      "source": [
        "Como las columnas place_l4, place_l5 y place_l6 tiene un 96,13%, 100% y 100% de nulos, respectivamente, las elimino."
      ]
    },
    {
      "cell_type": "code",
      "execution_count": 772,
      "metadata": {
        "id": "iYtbSv88o7up"
      },
      "outputs": [],
      "source": [
        "df = df.drop(\"place_l4\", axis=1)\n",
        "df = df.drop(\"place_l5\", axis=1)\n",
        "df = df.drop(\"place_l6\", axis=1)"
      ]
    },
    {
      "cell_type": "code",
      "execution_count": 773,
      "metadata": {
        "id": "pmXUJAYko7up",
        "outputId": "b4c0b0a6-d3e4-495a-d322-ed5e3655411c"
      },
      "outputs": [
        {
          "data": {
            "text/plain": [
              "351"
            ]
          },
          "execution_count": 773,
          "metadata": {},
          "output_type": "execute_result"
        }
      ],
      "source": [
        "df[df[\"property_rooms\"].isnull() & df[\"property_bedrooms\"].isnull()].shape[0]"
      ]
    },
    {
      "cell_type": "markdown",
      "metadata": {
        "id": "inFD-xm5o7up"
      },
      "source": [
        "Como las filas que no tienen ninguno de los datos de habitaciones/ambientes son solo 432 para un df de 94342, elimino dichas filas."
      ]
    },
    {
      "cell_type": "code",
      "execution_count": 774,
      "metadata": {
        "id": "KQhgOm5oo7uq"
      },
      "outputs": [],
      "source": [
        "df = df[~(df[\"property_rooms\"].isnull() & df[\"property_bedrooms\"].isnull())]"
      ]
    },
    {
      "cell_type": "markdown",
      "metadata": {
        "id": "GTjqCYxfo7uq"
      },
      "source": [
        "Busco si hay propiedades que tengan valores nulos para la cantidad de ambientes y no nulos para la cantidad de habitaciones."
      ]
    },
    {
      "cell_type": "code",
      "execution_count": 775,
      "metadata": {
        "id": "hebSuqlco7uq",
        "outputId": "f0373472-d23d-4275-e3ad-459624ba2bba"
      },
      "outputs": [
        {
          "data": {
            "text/plain": [
              "493"
            ]
          },
          "execution_count": 775,
          "metadata": {},
          "output_type": "execute_result"
        }
      ],
      "source": [
        "df[df[\"property_rooms\"].isnull() & ~df[\"property_bedrooms\"].isnull()].shape[0]"
      ]
    },
    {
      "cell_type": "markdown",
      "metadata": {
        "id": "QKb4jsJvo7uq"
      },
      "source": [
        "Completo aquellas filas que no tengan la cantidad de cuartos totales, pero si la cantidad de habitaciones, con cantHabitaciones + 1, ya que necesariamente tienen un ambiente más."
      ]
    },
    {
      "cell_type": "code",
      "execution_count": 776,
      "metadata": {
        "id": "0SKNXQ_uo7uq"
      },
      "outputs": [],
      "source": [
        "df[\"property_rooms\"].fillna(df[\"property_bedrooms\"] + 1, inplace=True)"
      ]
    },
    {
      "cell_type": "markdown",
      "metadata": {
        "id": "lYptTCdbo7uq"
      },
      "source": [
        "Completamos ahora con la logica inversa aquellas viviendas que tengan el valor nulo en habitaciones pero no nulo en ambientes."
      ]
    },
    {
      "cell_type": "code",
      "execution_count": 777,
      "metadata": {
        "id": "0dxHK_ego7uq",
        "outputId": "a39aa6dc-242b-4b7c-d752-f6c0edb9ed34"
      },
      "outputs": [
        {
          "data": {
            "text/plain": [
              "8380"
            ]
          },
          "execution_count": 777,
          "metadata": {},
          "output_type": "execute_result"
        }
      ],
      "source": [
        "df[~(df[\"property_rooms\"].isnull()) & (df[\"property_bedrooms\"].isnull())].shape[0]"
      ]
    },
    {
      "cell_type": "code",
      "execution_count": 778,
      "metadata": {
        "id": "a0BtoCubo7ur"
      },
      "outputs": [],
      "source": [
        "df[\"property_bedrooms\"].fillna(df[\"property_rooms\"] - 1, inplace=True)"
      ]
    },
    {
      "cell_type": "code",
      "execution_count": 779,
      "metadata": {
        "id": "iSOGZJ9fo7ur",
        "outputId": "2f706504-3484-4afc-b1e1-148d1e3ddcd7"
      },
      "outputs": [
        {
          "data": {
            "text/plain": [
              "id                             0\n",
              "start_date                     0\n",
              "end_date                       0\n",
              "created_on                     0\n",
              "latitud                     2960\n",
              "longitud                    2960\n",
              "place_l2                       0\n",
              "place_l3                     322\n",
              "operation                      0\n",
              "property_type                  0\n",
              "property_rooms                 0\n",
              "property_bedrooms              0\n",
              "property_surface_total      3774\n",
              "property_surface_covered    2621\n",
              "property_price                 0\n",
              "property_currency              0\n",
              "property_title                 0\n",
              "dtype: int64"
            ]
          },
          "execution_count": 779,
          "metadata": {},
          "output_type": "execute_result"
        }
      ],
      "source": [
        "df.isnull().sum()"
      ]
    },
    {
      "cell_type": "markdown",
      "metadata": {
        "id": "eMelRbgwo7ur"
      },
      "source": [
        "Busco ahora la forma que tienen los datos nulos respecto a las superficies (total y descubierta)"
      ]
    },
    {
      "cell_type": "code",
      "execution_count": 780,
      "metadata": {
        "id": "ylKHv8y3o7ur",
        "outputId": "a23a30ce-a6b6-4ab5-aa65-a3d4d65d0bb4"
      },
      "outputs": [
        {
          "data": {
            "text/plain": [
              "0"
            ]
          },
          "execution_count": 780,
          "metadata": {},
          "output_type": "execute_result"
        }
      ],
      "source": [
        "df[df[\"property_surface_total\"].isnull() & df[\"property_surface_covered\"].isnull()].shape[0]"
      ]
    },
    {
      "cell_type": "markdown",
      "metadata": {
        "id": "BY1uq55jo7ur"
      },
      "source": [
        "Completo aquellas filas que no tengan la cantidad superficie total, pero si la superficie cubierta, con la misma cantidad de superficie cubierta."
      ]
    },
    {
      "cell_type": "code",
      "execution_count": 781,
      "metadata": {
        "id": "0Ukg0iLWo7ur",
        "outputId": "0118267c-bfcd-4156-f0f7-d71417178b2a"
      },
      "outputs": [
        {
          "data": {
            "text/plain": [
              "3774"
            ]
          },
          "execution_count": 781,
          "metadata": {},
          "output_type": "execute_result"
        }
      ],
      "source": [
        "df[df[\"property_surface_total\"].isnull() & ~df[\"property_surface_covered\"].isnull()].shape[0]"
      ]
    },
    {
      "cell_type": "code",
      "execution_count": 782,
      "metadata": {
        "id": "2u__2AkDo7ur"
      },
      "outputs": [],
      "source": [
        "df[\"property_surface_total\"].fillna(df[\"property_surface_covered\"], inplace=True)"
      ]
    },
    {
      "cell_type": "code",
      "execution_count": 783,
      "metadata": {
        "id": "oSCIIQJAo7us",
        "outputId": "b1c8c7f6-8d6c-4f87-cfd7-8144ecfea5f4"
      },
      "outputs": [
        {
          "data": {
            "text/plain": [
              "id                             0\n",
              "start_date                     0\n",
              "end_date                       0\n",
              "created_on                     0\n",
              "latitud                     2960\n",
              "longitud                    2960\n",
              "place_l2                       0\n",
              "place_l3                     322\n",
              "operation                      0\n",
              "property_type                  0\n",
              "property_rooms                 0\n",
              "property_bedrooms              0\n",
              "property_surface_total         0\n",
              "property_surface_covered    2621\n",
              "property_price                 0\n",
              "property_currency              0\n",
              "property_title                 0\n",
              "dtype: int64"
            ]
          },
          "execution_count": 783,
          "metadata": {},
          "output_type": "execute_result"
        }
      ],
      "source": [
        "df.isnull().sum()"
      ]
    },
    {
      "cell_type": "code",
      "execution_count": 784,
      "metadata": {
        "id": "6XyIQWeuo7us"
      },
      "outputs": [],
      "source": [
        "# Aca faltaria parchear los datos faltantes de property_surface_covered pero mmm, tiene que ser algo deterministico si no me equivoco,\n",
        "# asique no podria tirar un random para bajarle un poco la cantidad respeccto al property_surface_total."
      ]
    },
    {
      "cell_type": "code",
      "execution_count": 785,
      "metadata": {
        "id": "eNlKJRxmo7us",
        "outputId": "1139dd0d-59c7-4797-9e17-da8f6476104e"
      },
      "outputs": [
        {
          "data": {
            "text/plain": [
              "124"
            ]
          },
          "execution_count": 785,
          "metadata": {},
          "output_type": "execute_result"
        }
      ],
      "source": [
        "df[(df[\"latitud\"].isnull()) & (df[\"longitud\"].isnull()) & (df[\"place_l3\"].isnull())].shape[0]"
      ]
    },
    {
      "cell_type": "code",
      "execution_count": 786,
      "metadata": {
        "id": "_0_C0MsWo7us"
      },
      "outputs": [],
      "source": [
        "# Respecto a latitud_longitud, podria ver de poner el centro de capital (no me cierra mucho q digamos tampoco)\n",
        "# solo 169 no tienen l3: podria descartar estos, y el resto buscar centro de cada barrio?\n",
        "# y tambien me quedarian 416-169 datos de place_l3 que tiene latitud y longitud para ubicarlos :|"
      ]
    },
    {
      "cell_type": "code",
      "execution_count": 787,
      "metadata": {
        "id": "uUxEzz6Zo7us",
        "outputId": "dec3b6dc-7db3-4328-9687-6386f2856188"
      },
      "outputs": [
        {
          "data": {
            "text/plain": [
              "0"
            ]
          },
          "execution_count": 787,
          "metadata": {},
          "output_type": "execute_result"
        }
      ],
      "source": [
        "df[~df[\"latitud\"].isnull() & ~df[\"longitud\"].isnull() & df[\"place_l2\"].isnull()].shape[0]"
      ]
    },
    {
      "cell_type": "code",
      "execution_count": 788,
      "metadata": {
        "id": "m9-nJ9tao7us",
        "outputId": "992c53fb-fe4f-4899-8772-b37afab9f58b"
      },
      "outputs": [
        {
          "data": {
            "text/plain": [
              "2960"
            ]
          },
          "execution_count": 788,
          "metadata": {},
          "output_type": "execute_result"
        }
      ],
      "source": [
        "df[df[\"latitud\"].isnull() & df[\"longitud\"].isnull() & ~df[\"place_l2\"].isnull()].shape[0]"
      ]
    },
    {
      "cell_type": "markdown",
      "metadata": {
        "id": "5GnFiA1uo7us"
      },
      "source": [
        "podriamos hacer aca lo de buscar el centro de los place_l2"
      ]
    },
    {
      "cell_type": "code",
      "execution_count": 789,
      "metadata": {
        "id": "m9Vh7S9go7ut",
        "outputId": "9b882b3f-8f87-443a-9194-c2867d5e50b1"
      },
      "outputs": [
        {
          "data": {
            "text/plain": [
              "2960"
            ]
          },
          "execution_count": 789,
          "metadata": {},
          "output_type": "execute_result"
        }
      ],
      "source": [
        "df[df[\"latitud\"].isnull() & df[\"longitud\"].isnull()].shape[0]"
      ]
    },
    {
      "cell_type": "code",
      "execution_count": 790,
      "metadata": {
        "id": "m6ODdsabo7ut"
      },
      "outputs": [],
      "source": [
        "barrios = df[\"place_l3\"].value_counts().index.tolist()\n",
        "barrios = [b.upper() for b in barrios]"
      ]
    },
    {
      "cell_type": "code",
      "execution_count": 791,
      "metadata": {
        "id": "uqLVgtkco7ut",
        "outputId": "38ca696b-5c42-4834-834e-ad2327f45eb3"
      },
      "outputs": [
        {
          "data": {
            "text/plain": [
              "['PALERMO',\n",
              " 'BELGRANO',\n",
              " 'CABALLITO',\n",
              " 'RECOLETA',\n",
              " 'VILLA URQUIZA',\n",
              " 'ALMAGRO',\n",
              " 'NUÑEZ',\n",
              " 'VILLA CRESPO',\n",
              " 'FLORES',\n",
              " 'BARRIO NORTE',\n",
              " 'BALVANERA',\n",
              " 'COLEGIALES',\n",
              " 'VILLA DEVOTO',\n",
              " 'VILLA DEL PARQUE',\n",
              " 'SAAVEDRA',\n",
              " 'PUERTO MADERO',\n",
              " 'SAN TELMO',\n",
              " 'SAN NICOLÁS',\n",
              " 'SAN CRISTOBAL',\n",
              " 'BARRACAS',\n",
              " 'RETIRO',\n",
              " 'BOEDO',\n",
              " 'FLORESTA',\n",
              " 'MONSERRAT',\n",
              " 'PARQUE CHACABUCO',\n",
              " 'VILLA PUEYRREDÓN',\n",
              " 'COGHLAN',\n",
              " 'VILLA LURO',\n",
              " 'MATADEROS',\n",
              " 'CHACARITA',\n",
              " 'LINIERS',\n",
              " 'VILLA ORTUZAR',\n",
              " 'VILLA LUGANO',\n",
              " 'PARQUE PATRICIOS',\n",
              " 'PATERNAL',\n",
              " 'CONGRESO',\n",
              " 'MONTE CASTRO',\n",
              " 'VILLA GENERAL MITRE',\n",
              " 'CONSTITUCIÓN',\n",
              " 'VILLA SANTA RITA',\n",
              " 'ONCE',\n",
              " 'PARQUE CHAS',\n",
              " 'PARQUE AVELLANEDA',\n",
              " 'BOCA',\n",
              " 'VERSALLES',\n",
              " 'VELEZ SARSFIELD',\n",
              " 'AGRONOMÍA',\n",
              " 'ABASTO',\n",
              " 'POMPEYA',\n",
              " 'VILLA REAL',\n",
              " 'TRIBUNALES',\n",
              " 'PARQUE CENTENARIO',\n",
              " 'CENTRO / MICROCENTRO',\n",
              " 'VILLA SOLDATI',\n",
              " 'VILLA RIACHUELO',\n",
              " 'LAS CAÑITAS',\n",
              " 'CATALINAS']"
            ]
          },
          "execution_count": 791,
          "metadata": {},
          "output_type": "execute_result"
        }
      ],
      "source": [
        "barrios"
      ]
    },
    {
      "cell_type": "code",
      "execution_count": 792,
      "metadata": {
        "id": "Ow4_NSIHo7ut",
        "outputId": "3768a801-8ef9-41c0-ada1-c29fbd006039"
      },
      "outputs": [
        {
          "data": {
            "text/plain": [
              "0"
            ]
          },
          "execution_count": 792,
          "metadata": {},
          "output_type": "execute_result"
        }
      ],
      "source": [
        "df[\"property_title\"].isnull().sum()"
      ]
    },
    {
      "cell_type": "code",
      "execution_count": 793,
      "metadata": {
        "id": "UTxvSDeko7ut",
        "outputId": "f414fd2c-807a-474e-be1a-66569d00279d"
      },
      "outputs": [
        {
          "data": {
            "text/html": [
              "<div>\n",
              "<style scoped>\n",
              "    .dataframe tbody tr th:only-of-type {\n",
              "        vertical-align: middle;\n",
              "    }\n",
              "\n",
              "    .dataframe tbody tr th {\n",
              "        vertical-align: top;\n",
              "    }\n",
              "\n",
              "    .dataframe thead th {\n",
              "        text-align: right;\n",
              "    }\n",
              "</style>\n",
              "<table border=\"1\" class=\"dataframe\">\n",
              "  <thead>\n",
              "    <tr style=\"text-align: right;\">\n",
              "      <th></th>\n",
              "      <th>id</th>\n",
              "      <th>start_date</th>\n",
              "      <th>end_date</th>\n",
              "      <th>created_on</th>\n",
              "      <th>latitud</th>\n",
              "      <th>longitud</th>\n",
              "      <th>place_l2</th>\n",
              "      <th>place_l3</th>\n",
              "      <th>operation</th>\n",
              "      <th>property_type</th>\n",
              "      <th>property_rooms</th>\n",
              "      <th>property_bedrooms</th>\n",
              "      <th>property_surface_total</th>\n",
              "      <th>property_surface_covered</th>\n",
              "      <th>property_price</th>\n",
              "      <th>property_currency</th>\n",
              "      <th>property_title</th>\n",
              "    </tr>\n",
              "  </thead>\n",
              "  <tbody>\n",
              "    <tr>\n",
              "      <th>248011</th>\n",
              "      <td>dYekUDR/71AGhrqQBjeSHw==</td>\n",
              "      <td>2021-09-13</td>\n",
              "      <td>2022-01-27</td>\n",
              "      <td>2021-09-13</td>\n",
              "      <td>-32.888004</td>\n",
              "      <td>-60.710540</td>\n",
              "      <td>Capital Federal</td>\n",
              "      <td>NaN</td>\n",
              "      <td>Venta</td>\n",
              "      <td>Departamento</td>\n",
              "      <td>4.0</td>\n",
              "      <td>2.0</td>\n",
              "      <td>67.0</td>\n",
              "      <td>67.0</td>\n",
              "      <td>40000.0</td>\n",
              "      <td>USD</td>\n",
              "      <td>Departamento en venta en Rucci de 2 dormitorio...</td>\n",
              "    </tr>\n",
              "    <tr>\n",
              "      <th>393092</th>\n",
              "      <td>9EiXFu6SwZ3s0e837avtGQ==</td>\n",
              "      <td>2021-02-13</td>\n",
              "      <td>2021-03-01</td>\n",
              "      <td>2021-02-13</td>\n",
              "      <td>NaN</td>\n",
              "      <td>NaN</td>\n",
              "      <td>Capital Federal</td>\n",
              "      <td>NaN</td>\n",
              "      <td>Venta</td>\n",
              "      <td>PH</td>\n",
              "      <td>2.0</td>\n",
              "      <td>1.0</td>\n",
              "      <td>39.0</td>\n",
              "      <td>44.0</td>\n",
              "      <td>118000.0</td>\n",
              "      <td>USD</td>\n",
              "      <td>Venta 2 Ambientes 44m Balcón al frente  Boedo ...</td>\n",
              "    </tr>\n",
              "    <tr>\n",
              "      <th>371921</th>\n",
              "      <td>34/PRStI7EmJbD6zSjBAYw==</td>\n",
              "      <td>2021-08-24</td>\n",
              "      <td>2021-08-27</td>\n",
              "      <td>2021-08-24</td>\n",
              "      <td>NaN</td>\n",
              "      <td>NaN</td>\n",
              "      <td>Capital Federal</td>\n",
              "      <td>NaN</td>\n",
              "      <td>Venta</td>\n",
              "      <td>Casa</td>\n",
              "      <td>4.0</td>\n",
              "      <td>3.0</td>\n",
              "      <td>151.0</td>\n",
              "      <td>183.0</td>\n",
              "      <td>185000.0</td>\n",
              "      <td>USD</td>\n",
              "      <td>VENTA CASA COSTA ESMERALDA ECUESTRE 470</td>\n",
              "    </tr>\n",
              "    <tr>\n",
              "      <th>218048</th>\n",
              "      <td>vRA/0y8xkAUweY9h1T7EzA==</td>\n",
              "      <td>2021-11-30</td>\n",
              "      <td>9999-12-31</td>\n",
              "      <td>2021-11-30</td>\n",
              "      <td>NaN</td>\n",
              "      <td>NaN</td>\n",
              "      <td>Capital Federal</td>\n",
              "      <td>NaN</td>\n",
              "      <td>Venta</td>\n",
              "      <td>Casa</td>\n",
              "      <td>3.0</td>\n",
              "      <td>2.0</td>\n",
              "      <td>100.0</td>\n",
              "      <td>100.0</td>\n",
              "      <td>318000.0</td>\n",
              "      <td>USD</td>\n",
              "      <td>1 - Ruta 1 km 22 - Marina Santa Lucía</td>\n",
              "    </tr>\n",
              "    <tr>\n",
              "      <th>318763</th>\n",
              "      <td>21X2XW7KwPHKb73K0LDWUg==</td>\n",
              "      <td>2021-03-17</td>\n",
              "      <td>2021-06-05</td>\n",
              "      <td>2021-03-17</td>\n",
              "      <td>-27.469213</td>\n",
              "      <td>-58.830635</td>\n",
              "      <td>Capital Federal</td>\n",
              "      <td>NaN</td>\n",
              "      <td>Venta</td>\n",
              "      <td>Departamento</td>\n",
              "      <td>2.0</td>\n",
              "      <td>1.0</td>\n",
              "      <td>55.0</td>\n",
              "      <td>55.0</td>\n",
              "      <td>125000.0</td>\n",
              "      <td>USD</td>\n",
              "      <td>2 Ambientes de 70 mts2 reciclado a Nuevo. Con ...</td>\n",
              "    </tr>\n",
              "    <tr>\n",
              "      <th>...</th>\n",
              "      <td>...</td>\n",
              "      <td>...</td>\n",
              "      <td>...</td>\n",
              "      <td>...</td>\n",
              "      <td>...</td>\n",
              "      <td>...</td>\n",
              "      <td>...</td>\n",
              "      <td>...</td>\n",
              "      <td>...</td>\n",
              "      <td>...</td>\n",
              "      <td>...</td>\n",
              "      <td>...</td>\n",
              "      <td>...</td>\n",
              "      <td>...</td>\n",
              "      <td>...</td>\n",
              "      <td>...</td>\n",
              "      <td>...</td>\n",
              "    </tr>\n",
              "    <tr>\n",
              "      <th>208085</th>\n",
              "      <td>2Xn6RKpg2Fps+wLCsSJavw==</td>\n",
              "      <td>2021-02-01</td>\n",
              "      <td>9999-12-31</td>\n",
              "      <td>2021-02-01</td>\n",
              "      <td>-41.085373</td>\n",
              "      <td>-71.185766</td>\n",
              "      <td>Capital Federal</td>\n",
              "      <td>NaN</td>\n",
              "      <td>Venta</td>\n",
              "      <td>Departamento</td>\n",
              "      <td>2.0</td>\n",
              "      <td>1.0</td>\n",
              "      <td>50.0</td>\n",
              "      <td>60.0</td>\n",
              "      <td>142000.0</td>\n",
              "      <td>USD</td>\n",
              "      <td>Excelente departamento en venta en Dina Huapi ...</td>\n",
              "    </tr>\n",
              "    <tr>\n",
              "      <th>106696</th>\n",
              "      <td>iV7+4ns6JXgPJSEj0D9ezg==</td>\n",
              "      <td>2021-03-11</td>\n",
              "      <td>2021-03-25</td>\n",
              "      <td>2021-03-11</td>\n",
              "      <td>NaN</td>\n",
              "      <td>NaN</td>\n",
              "      <td>Capital Federal</td>\n",
              "      <td>NaN</td>\n",
              "      <td>Venta</td>\n",
              "      <td>Departamento</td>\n",
              "      <td>3.0</td>\n",
              "      <td>2.0</td>\n",
              "      <td>87.0</td>\n",
              "      <td>87.0</td>\n",
              "      <td>129000.0</td>\n",
              "      <td>USD</td>\n",
              "      <td>3 Ambientes amplios, 2 baños, prox galerias pa...</td>\n",
              "    </tr>\n",
              "    <tr>\n",
              "      <th>286971</th>\n",
              "      <td>Ofh+oK3y43KJLYsPg0uj4w==</td>\n",
              "      <td>2021-06-16</td>\n",
              "      <td>2021-11-04</td>\n",
              "      <td>2021-06-16</td>\n",
              "      <td>NaN</td>\n",
              "      <td>NaN</td>\n",
              "      <td>Capital Federal</td>\n",
              "      <td>NaN</td>\n",
              "      <td>Venta</td>\n",
              "      <td>Departamento</td>\n",
              "      <td>2.0</td>\n",
              "      <td>1.0</td>\n",
              "      <td>43.0</td>\n",
              "      <td>43.0</td>\n",
              "      <td>110000.0</td>\n",
              "      <td>USD</td>\n",
              "      <td>Departamento en Venta Caba / Buenos Aires (B11...</td>\n",
              "    </tr>\n",
              "    <tr>\n",
              "      <th>169691</th>\n",
              "      <td>/HjGljAcks2boe1uclUdBg==</td>\n",
              "      <td>2021-07-28</td>\n",
              "      <td>2021-11-04</td>\n",
              "      <td>2021-07-28</td>\n",
              "      <td>NaN</td>\n",
              "      <td>NaN</td>\n",
              "      <td>Capital Federal</td>\n",
              "      <td>NaN</td>\n",
              "      <td>Venta</td>\n",
              "      <td>Departamento</td>\n",
              "      <td>3.0</td>\n",
              "      <td>2.0</td>\n",
              "      <td>45.0</td>\n",
              "      <td>45.0</td>\n",
              "      <td>75000.0</td>\n",
              "      <td>USD</td>\n",
              "      <td>Departamento en Venta Caba / Buenos Aires (B13...</td>\n",
              "    </tr>\n",
              "    <tr>\n",
              "      <th>309009</th>\n",
              "      <td>lueG6ZNaiqX2qrMCJHFeyg==</td>\n",
              "      <td>2021-09-01</td>\n",
              "      <td>2022-03-09</td>\n",
              "      <td>2021-09-01</td>\n",
              "      <td>NaN</td>\n",
              "      <td>NaN</td>\n",
              "      <td>Capital Federal</td>\n",
              "      <td>NaN</td>\n",
              "      <td>Venta</td>\n",
              "      <td>Casa</td>\n",
              "      <td>7.0</td>\n",
              "      <td>6.0</td>\n",
              "      <td>500.0</td>\n",
              "      <td>2200.0</td>\n",
              "      <td>1500000.0</td>\n",
              "      <td>USD</td>\n",
              "      <td>EXCELENTE CHALET EN DOS PLANTAS CON VISTA AL LAGO</td>\n",
              "    </tr>\n",
              "  </tbody>\n",
              "</table>\n",
              "<p>322 rows × 17 columns</p>\n",
              "</div>"
            ],
            "text/plain": [
              "                              id  start_date    end_date  created_on  \\\n",
              "248011  dYekUDR/71AGhrqQBjeSHw==  2021-09-13  2022-01-27  2021-09-13   \n",
              "393092  9EiXFu6SwZ3s0e837avtGQ==  2021-02-13  2021-03-01  2021-02-13   \n",
              "371921  34/PRStI7EmJbD6zSjBAYw==  2021-08-24  2021-08-27  2021-08-24   \n",
              "218048  vRA/0y8xkAUweY9h1T7EzA==  2021-11-30  9999-12-31  2021-11-30   \n",
              "318763  21X2XW7KwPHKb73K0LDWUg==  2021-03-17  2021-06-05  2021-03-17   \n",
              "...                          ...         ...         ...         ...   \n",
              "208085  2Xn6RKpg2Fps+wLCsSJavw==  2021-02-01  9999-12-31  2021-02-01   \n",
              "106696  iV7+4ns6JXgPJSEj0D9ezg==  2021-03-11  2021-03-25  2021-03-11   \n",
              "286971  Ofh+oK3y43KJLYsPg0uj4w==  2021-06-16  2021-11-04  2021-06-16   \n",
              "169691  /HjGljAcks2boe1uclUdBg==  2021-07-28  2021-11-04  2021-07-28   \n",
              "309009  lueG6ZNaiqX2qrMCJHFeyg==  2021-09-01  2022-03-09  2021-09-01   \n",
              "\n",
              "          latitud   longitud         place_l2 place_l3 operation  \\\n",
              "248011 -32.888004 -60.710540  Capital Federal      NaN     Venta   \n",
              "393092        NaN        NaN  Capital Federal      NaN     Venta   \n",
              "371921        NaN        NaN  Capital Federal      NaN     Venta   \n",
              "218048        NaN        NaN  Capital Federal      NaN     Venta   \n",
              "318763 -27.469213 -58.830635  Capital Federal      NaN     Venta   \n",
              "...           ...        ...              ...      ...       ...   \n",
              "208085 -41.085373 -71.185766  Capital Federal      NaN     Venta   \n",
              "106696        NaN        NaN  Capital Federal      NaN     Venta   \n",
              "286971        NaN        NaN  Capital Federal      NaN     Venta   \n",
              "169691        NaN        NaN  Capital Federal      NaN     Venta   \n",
              "309009        NaN        NaN  Capital Federal      NaN     Venta   \n",
              "\n",
              "       property_type  property_rooms  property_bedrooms  \\\n",
              "248011  Departamento             4.0                2.0   \n",
              "393092            PH             2.0                1.0   \n",
              "371921          Casa             4.0                3.0   \n",
              "218048          Casa             3.0                2.0   \n",
              "318763  Departamento             2.0                1.0   \n",
              "...              ...             ...                ...   \n",
              "208085  Departamento             2.0                1.0   \n",
              "106696  Departamento             3.0                2.0   \n",
              "286971  Departamento             2.0                1.0   \n",
              "169691  Departamento             3.0                2.0   \n",
              "309009          Casa             7.0                6.0   \n",
              "\n",
              "        property_surface_total  property_surface_covered  property_price  \\\n",
              "248011                    67.0                      67.0         40000.0   \n",
              "393092                    39.0                      44.0        118000.0   \n",
              "371921                   151.0                     183.0        185000.0   \n",
              "218048                   100.0                     100.0        318000.0   \n",
              "318763                    55.0                      55.0        125000.0   \n",
              "...                        ...                       ...             ...   \n",
              "208085                    50.0                      60.0        142000.0   \n",
              "106696                    87.0                      87.0        129000.0   \n",
              "286971                    43.0                      43.0        110000.0   \n",
              "169691                    45.0                      45.0         75000.0   \n",
              "309009                   500.0                    2200.0       1500000.0   \n",
              "\n",
              "       property_currency                                     property_title  \n",
              "248011               USD  Departamento en venta en Rucci de 2 dormitorio...  \n",
              "393092               USD  Venta 2 Ambientes 44m Balcón al frente  Boedo ...  \n",
              "371921               USD            VENTA CASA COSTA ESMERALDA ECUESTRE 470  \n",
              "218048               USD              1 - Ruta 1 km 22 - Marina Santa Lucía  \n",
              "318763               USD  2 Ambientes de 70 mts2 reciclado a Nuevo. Con ...  \n",
              "...                  ...                                                ...  \n",
              "208085               USD  Excelente departamento en venta en Dina Huapi ...  \n",
              "106696               USD  3 Ambientes amplios, 2 baños, prox galerias pa...  \n",
              "286971               USD  Departamento en Venta Caba / Buenos Aires (B11...  \n",
              "169691               USD  Departamento en Venta Caba / Buenos Aires (B13...  \n",
              "309009               USD  EXCELENTE CHALET EN DOS PLANTAS CON VISTA AL LAGO  \n",
              "\n",
              "[322 rows x 17 columns]"
            ]
          },
          "execution_count": 793,
          "metadata": {},
          "output_type": "execute_result"
        }
      ],
      "source": [
        "df[df[\"place_l3\"].isnull()]"
      ]
    },
    {
      "cell_type": "code",
      "execution_count": 794,
      "metadata": {
        "id": "b513tUFdo7ut",
        "outputId": "5abf4ab8-2eb0-4452-8843-1ed236c471bd"
      },
      "outputs": [
        {
          "data": {
            "text/plain": [
              "(2836, 17)"
            ]
          },
          "execution_count": 794,
          "metadata": {},
          "output_type": "execute_result"
        }
      ],
      "source": [
        "df[(df[\"latitud\"].isnull()) & (df[\"longitud\"].isnull()) & (df[\"place_l3\"].notnull())].shape"
      ]
    },
    {
      "cell_type": "markdown",
      "metadata": {
        "id": "5u5i9n10o7uu"
      },
      "source": [
        "Aca veo que de las 3666 filas que tienen nulos en latitud y long, 3502 tienen place_l3 no nulos, podriamos buscar el centro de cada place_l3 y colocar eso de latitud y long."
      ]
    },
    {
      "cell_type": "markdown",
      "metadata": {
        "id": "_i2NphDto7uu"
      },
      "source": [
        "Podria buscar en property_title los barrios publicados y ubicarlos en los place_l3 faltantes, pero tranquilamente podrian haber, por intereses del vendedor/la inmboliaria viviendas que correspondan a un barrio pero estan publicados en otro, por ahora ignoraremos eso."
      ]
    },
    {
      "cell_type": "code",
      "execution_count": 795,
      "metadata": {
        "id": "Q9k-NHWpo7uu"
      },
      "outputs": [],
      "source": [
        "df[\"property_title\"] = df[\"property_title\"].str.upper()"
      ]
    },
    {
      "cell_type": "code",
      "execution_count": 796,
      "metadata": {
        "id": "rRSk1Yrno7uu"
      },
      "outputs": [],
      "source": [
        "for b in barrios:\n",
        "    df.loc[(df[\"place_l3\"].isnull()) & (df[\"property_title\"].str.contains(b)), \"place_l3\"] = b"
      ]
    },
    {
      "cell_type": "code",
      "execution_count": 797,
      "metadata": {
        "id": "BUry3I4yo7uu",
        "outputId": "41297d5a-44d7-4783-b51d-6219d45d0623"
      },
      "outputs": [
        {
          "data": {
            "text/plain": [
              "id                             0\n",
              "start_date                     0\n",
              "end_date                       0\n",
              "created_on                     0\n",
              "latitud                     2960\n",
              "longitud                    2960\n",
              "place_l2                       0\n",
              "place_l3                     311\n",
              "operation                      0\n",
              "property_type                  0\n",
              "property_rooms                 0\n",
              "property_bedrooms              0\n",
              "property_surface_total         0\n",
              "property_surface_covered    2621\n",
              "property_price                 0\n",
              "property_currency              0\n",
              "property_title                 0\n",
              "dtype: int64"
            ]
          },
          "execution_count": 797,
          "metadata": {},
          "output_type": "execute_result"
        }
      ],
      "source": [
        "df.isnull().sum()"
      ]
    },
    {
      "cell_type": "markdown",
      "metadata": {
        "id": "TPVBNMd-o7uu"
      },
      "source": [
        "Como vemos es muy poca la corrección, y viendo"
      ]
    },
    {
      "cell_type": "markdown",
      "metadata": {
        "id": "sgTmPXxlo7uu"
      },
      "source": [
        "## Valores atípicos"
      ]
    }
  ],
  "metadata": {
    "colab": {
      "provenance": []
    },
    "kernelspec": {
      "display_name": "Python 3",
      "name": "python3"
    },
    "language_info": {
      "codemirror_mode": {
        "name": "ipython",
        "version": 3
      },
      "file_extension": ".py",
      "mimetype": "text/x-python",
      "name": "python",
      "nbconvert_exporter": "python",
      "pygments_lexer": "ipython3",
      "version": "3.11.6"
    }
  },
  "nbformat": 4,
  "nbformat_minor": 0
}
