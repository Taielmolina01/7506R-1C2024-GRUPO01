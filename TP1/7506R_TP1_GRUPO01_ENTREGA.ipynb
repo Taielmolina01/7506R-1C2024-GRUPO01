{
  "cells": [
    {
      "cell_type": "code",
      "execution_count": 1590,
      "metadata": {
        "id": "zP4Tu3YnFXIz"
      },
      "outputs": [],
      "source": [
        "import pandas as pd\n",
        "import seaborn as sns\n",
        "import numpy as np\n",
        "import matplotlib.pyplot as plt\n",
        "import matplotlib.ticker as ticker"
      ]
    },
    {
      "cell_type": "code",
      "execution_count": 1591,
      "metadata": {
        "id": "6mIswkI5FSCZ"
      },
      "outputs": [],
      "source": [
        "path_df = \"/home/taiel/Documentos/FIUBA/2024_C1/OrgaDeDatos/7506R-1C2024-GRUPO01/TP1/properati_argentina_2021.csv\""
      ]
    },
    {
      "cell_type": "code",
      "execution_count": 1592,
      "metadata": {
        "id": "b3AyxM9HFlNT"
      },
      "outputs": [],
      "source": [
        "df = pd.read_csv(path_df)"
      ]
    },
    {
      "cell_type": "code",
      "execution_count": 1593,
      "metadata": {
        "colab": {
          "base_uri": "https://localhost:8080/"
        },
        "id": "3Wyoi7NRF8VK",
        "outputId": "e82b0815-a2b0-44be-e8db-217399fdafc3"
      },
      "outputs": [
        {
          "data": {
            "text/plain": [
              "(460154, 20)"
            ]
          },
          "execution_count": 1593,
          "metadata": {},
          "output_type": "execute_result"
        }
      ],
      "source": [
        "df.shape"
      ]
    },
    {
      "cell_type": "code",
      "execution_count": 1594,
      "metadata": {
        "colab": {
          "base_uri": "https://localhost:8080/"
        },
        "id": "inY6ob_yF1nS",
        "outputId": "ffc16de0-9957-4429-ba13-987ad2e5093c"
      },
      "outputs": [
        {
          "name": "stdout",
          "output_type": "stream",
          "text": [
            "<class 'pandas.core.frame.DataFrame'>\n",
            "RangeIndex: 460154 entries, 0 to 460153\n",
            "Data columns (total 20 columns):\n",
            " #   Column                    Non-Null Count   Dtype  \n",
            "---  ------                    --------------   -----  \n",
            " 0   id                        460154 non-null  object \n",
            " 1   start_date                460154 non-null  object \n",
            " 2   end_date                  460154 non-null  object \n",
            " 3   created_on                460154 non-null  object \n",
            " 4   latitud                   419740 non-null  float64\n",
            " 5   longitud                  419740 non-null  float64\n",
            " 6   place_l2                  460154 non-null  object \n",
            " 7   place_l3                  437665 non-null  object \n",
            " 8   place_l4                  139020 non-null  object \n",
            " 9   place_l5                  2430 non-null    object \n",
            " 10  place_l6                  0 non-null       float64\n",
            " 11  operation                 460154 non-null  object \n",
            " 12  property_type             460154 non-null  object \n",
            " 13  property_rooms            368498 non-null  float64\n",
            " 14  property_bedrooms         344113 non-null  float64\n",
            " 15  property_surface_total    397813 non-null  float64\n",
            " 16  property_surface_covered  427916 non-null  float64\n",
            " 17  property_price            442153 non-null  float64\n",
            " 18  property_currency         441590 non-null  object \n",
            " 19  property_title            460154 non-null  object \n",
            "dtypes: float64(8), object(12)\n",
            "memory usage: 70.2+ MB\n"
          ]
        }
      ],
      "source": [
        "df.info()"
      ]
    },
    {
      "cell_type": "code",
      "execution_count": 1595,
      "metadata": {
        "colab": {
          "base_uri": "https://localhost:8080/",
          "height": 216
        },
        "id": "j6-UhsXKF2yK",
        "outputId": "82deb4ba-2d2c-42ed-ddb3-33b23c617323"
      },
      "outputs": [
        {
          "data": {
            "text/html": [
              "<div>\n",
              "<style scoped>\n",
              "    .dataframe tbody tr th:only-of-type {\n",
              "        vertical-align: middle;\n",
              "    }\n",
              "\n",
              "    .dataframe tbody tr th {\n",
              "        vertical-align: top;\n",
              "    }\n",
              "\n",
              "    .dataframe thead th {\n",
              "        text-align: right;\n",
              "    }\n",
              "</style>\n",
              "<table border=\"1\" class=\"dataframe\">\n",
              "  <thead>\n",
              "    <tr style=\"text-align: right;\">\n",
              "      <th></th>\n",
              "      <th>id</th>\n",
              "      <th>start_date</th>\n",
              "      <th>end_date</th>\n",
              "      <th>created_on</th>\n",
              "      <th>latitud</th>\n",
              "      <th>longitud</th>\n",
              "      <th>place_l2</th>\n",
              "      <th>place_l3</th>\n",
              "      <th>place_l4</th>\n",
              "      <th>place_l5</th>\n",
              "      <th>place_l6</th>\n",
              "      <th>operation</th>\n",
              "      <th>property_type</th>\n",
              "      <th>property_rooms</th>\n",
              "      <th>property_bedrooms</th>\n",
              "      <th>property_surface_total</th>\n",
              "      <th>property_surface_covered</th>\n",
              "      <th>property_price</th>\n",
              "      <th>property_currency</th>\n",
              "      <th>property_title</th>\n",
              "    </tr>\n",
              "  </thead>\n",
              "  <tbody>\n",
              "    <tr>\n",
              "      <th>0</th>\n",
              "      <td>XZq2dFGxBiboHY3Bo/tqlw==</td>\n",
              "      <td>2021-09-09</td>\n",
              "      <td>2022-01-27</td>\n",
              "      <td>2021-09-09</td>\n",
              "      <td>-38.957632</td>\n",
              "      <td>-68.105443</td>\n",
              "      <td>Neuquén</td>\n",
              "      <td>NaN</td>\n",
              "      <td>NaN</td>\n",
              "      <td>NaN</td>\n",
              "      <td>NaN</td>\n",
              "      <td>Venta</td>\n",
              "      <td>Casa</td>\n",
              "      <td>6.0</td>\n",
              "      <td>NaN</td>\n",
              "      <td>NaN</td>\n",
              "      <td>206.0</td>\n",
              "      <td>NaN</td>\n",
              "      <td>NaN</td>\n",
              "      <td>Casa - Capital</td>\n",
              "    </tr>\n",
              "    <tr>\n",
              "      <th>1</th>\n",
              "      <td>8afoK+yMH/rnnlYiktwgNA==</td>\n",
              "      <td>2021-09-09</td>\n",
              "      <td>2021-10-23</td>\n",
              "      <td>2021-09-09</td>\n",
              "      <td>-34.888878</td>\n",
              "      <td>-56.092368</td>\n",
              "      <td>Montevideo</td>\n",
              "      <td>NaN</td>\n",
              "      <td>NaN</td>\n",
              "      <td>NaN</td>\n",
              "      <td>NaN</td>\n",
              "      <td>Venta</td>\n",
              "      <td>Casa</td>\n",
              "      <td>4.0</td>\n",
              "      <td>3.0</td>\n",
              "      <td>193.0</td>\n",
              "      <td>193.0</td>\n",
              "      <td>390000.0</td>\n",
              "      <td>USD</td>\n",
              "      <td>Casa - Malvín</td>\n",
              "    </tr>\n",
              "    <tr>\n",
              "      <th>2</th>\n",
              "      <td>iVaG5rBB47dd1Ya4BMXREA==</td>\n",
              "      <td>2021-09-09</td>\n",
              "      <td>2022-03-09</td>\n",
              "      <td>2021-09-09</td>\n",
              "      <td>-32.488717</td>\n",
              "      <td>-58.257499</td>\n",
              "      <td>Entre Ríos</td>\n",
              "      <td>NaN</td>\n",
              "      <td>NaN</td>\n",
              "      <td>NaN</td>\n",
              "      <td>NaN</td>\n",
              "      <td>Venta</td>\n",
              "      <td>Casa</td>\n",
              "      <td>NaN</td>\n",
              "      <td>NaN</td>\n",
              "      <td>110.0</td>\n",
              "      <td>45.0</td>\n",
              "      <td>47000.0</td>\n",
              "      <td>USD</td>\n",
              "      <td>Casa - Uruguay</td>\n",
              "    </tr>\n",
              "  </tbody>\n",
              "</table>\n",
              "</div>"
            ],
            "text/plain": [
              "                         id  start_date    end_date  created_on    latitud  \\\n",
              "0  XZq2dFGxBiboHY3Bo/tqlw==  2021-09-09  2022-01-27  2021-09-09 -38.957632   \n",
              "1  8afoK+yMH/rnnlYiktwgNA==  2021-09-09  2021-10-23  2021-09-09 -34.888878   \n",
              "2  iVaG5rBB47dd1Ya4BMXREA==  2021-09-09  2022-03-09  2021-09-09 -32.488717   \n",
              "\n",
              "    longitud    place_l2 place_l3 place_l4 place_l5  place_l6 operation  \\\n",
              "0 -68.105443     Neuquén      NaN      NaN      NaN       NaN     Venta   \n",
              "1 -56.092368  Montevideo      NaN      NaN      NaN       NaN     Venta   \n",
              "2 -58.257499  Entre Ríos      NaN      NaN      NaN       NaN     Venta   \n",
              "\n",
              "  property_type  property_rooms  property_bedrooms  property_surface_total  \\\n",
              "0          Casa             6.0                NaN                     NaN   \n",
              "1          Casa             4.0                3.0                   193.0   \n",
              "2          Casa             NaN                NaN                   110.0   \n",
              "\n",
              "   property_surface_covered  property_price property_currency  property_title  \n",
              "0                     206.0             NaN               NaN  Casa - Capital  \n",
              "1                     193.0        390000.0               USD   Casa - Malvín  \n",
              "2                      45.0         47000.0               USD  Casa - Uruguay  "
            ]
          },
          "execution_count": 1595,
          "metadata": {},
          "output_type": "execute_result"
        }
      ],
      "source": [
        "df.head(3)"
      ]
    },
    {
      "cell_type": "code",
      "execution_count": 1596,
      "metadata": {
        "colab": {
          "base_uri": "https://localhost:8080/"
        },
        "id": "IsrwGTZeFtwz",
        "outputId": "a4906f48-6118-437b-c261-c397b052f737"
      },
      "outputs": [
        {
          "data": {
            "text/plain": [
              "id                               0\n",
              "start_date                       0\n",
              "end_date                         0\n",
              "created_on                       0\n",
              "latitud                      40414\n",
              "longitud                     40414\n",
              "place_l2                         0\n",
              "place_l3                     22489\n",
              "place_l4                    321134\n",
              "place_l5                    457724\n",
              "place_l6                    460154\n",
              "operation                        0\n",
              "property_type                    0\n",
              "property_rooms               91656\n",
              "property_bedrooms           116041\n",
              "property_surface_total       62341\n",
              "property_surface_covered     32238\n",
              "property_price               18001\n",
              "property_currency            18564\n",
              "property_title                   0\n",
              "dtype: int64"
            ]
          },
          "execution_count": 1596,
          "metadata": {},
          "output_type": "execute_result"
        }
      ],
      "source": [
        "df.isnull().sum()"
      ]
    },
    {
      "cell_type": "markdown",
      "metadata": {},
      "source": [
        "## Análisis exploratorio"
      ]
    },
    {
      "cell_type": "markdown",
      "metadata": {},
      "source": [
        "Arrancamos filtrando el df segun lo que indica la consigna."
      ]
    },
    {
      "cell_type": "code",
      "execution_count": 1597,
      "metadata": {},
      "outputs": [
        {
          "data": {
            "text/plain": [
              "property_currency\n",
              "USD    349104\n",
              "ARS     88869\n",
              "UYU      3506\n",
              "PEN        99\n",
              "COP        12\n",
              "Name: count, dtype: int64"
            ]
          },
          "execution_count": 1597,
          "metadata": {},
          "output_type": "execute_result"
        }
      ],
      "source": [
        "df[\"property_currency\"].value_counts()"
      ]
    },
    {
      "cell_type": "code",
      "execution_count": 1598,
      "metadata": {},
      "outputs": [
        {
          "data": {
            "text/plain": [
              "operation\n",
              "Venta                337874\n",
              "Alquiler              98900\n",
              "Alquiler temporal     23380\n",
              "Name: count, dtype: int64"
            ]
          },
          "execution_count": 1598,
          "metadata": {},
          "output_type": "execute_result"
        }
      ],
      "source": [
        "df[\"operation\"].value_counts()"
      ]
    },
    {
      "cell_type": "code",
      "execution_count": 1599,
      "metadata": {},
      "outputs": [
        {
          "data": {
            "text/plain": [
              "property_type\n",
              "Departamento       231358\n",
              "Casa               120768\n",
              "Lote                28748\n",
              "PH                  25910\n",
              "Local comercial     20546\n",
              "Oficina             16085\n",
              "Otro                 7713\n",
              "Cochera              4111\n",
              "Depósito             4050\n",
              "Casa de campo         865\n",
              "Name: count, dtype: int64"
            ]
          },
          "execution_count": 1599,
          "metadata": {},
          "output_type": "execute_result"
        }
      ],
      "source": [
        "df[\"property_type\"].value_counts()"
      ]
    },
    {
      "cell_type": "code",
      "execution_count": 1600,
      "metadata": {},
      "outputs": [],
      "source": [
        "tipos_propiedades = [\"Departamento\", \"Casa\", \"PH\"]"
      ]
    },
    {
      "cell_type": "code",
      "execution_count": 1601,
      "metadata": {},
      "outputs": [
        {
          "data": {
            "text/plain": [
              "place_l2\n",
              "Capital Federal                 157563\n",
              "Bs.As. G.B.A. Zona Norte         89693\n",
              "Santa Fe                         47861\n",
              "Bs.As. G.B.A. Zona Sur           47754\n",
              "Bs.As. G.B.A. Zona Oeste         28352\n",
              "Córdoba                          22528\n",
              "Buenos Aires Costa Atlántica     12457\n",
              "Neuquén                           8788\n",
              "Montevideo                        7494\n",
              "Buenos Aires Interior             6274\n",
              "Maldonado                         5540\n",
              "Mendoza                           5395\n",
              "Río Negro                         5280\n",
              "Tucumán                           3571\n",
              "Colonia                           2535\n",
              "Salta                             1537\n",
              "Entre Ríos                        1216\n",
              "San Juan                           997\n",
              "La Pampa                           783\n",
              "Canelones                          744\n",
              "Chubut                             701\n",
              "San Luis                           677\n",
              "Misiones                           529\n",
              "Florida                            411\n",
              "Jujuy                              406\n",
              "Corrientes                         297\n",
              "Michigan                           251\n",
              "Chaco                              208\n",
              "Rocha                               85\n",
              "Tierra Del Fuego                    75\n",
              "Santiago Del Estero                 59\n",
              "Santa Catarina                      35\n",
              "Santa Cruz                          16\n",
              "Rio Grande do Norte                  9\n",
              "Maryland                             8\n",
              "Catamarca                            7\n",
              "Miami                                4\n",
              "La Rioja                             4\n",
              "Rio de Janeiro                       3\n",
              "Pennsylvania                         3\n",
              "Formosa                              2\n",
              "São Paulo                            1\n",
              "California                           1\n",
              "Name: count, dtype: int64"
            ]
          },
          "execution_count": 1601,
          "metadata": {},
          "output_type": "execute_result"
        }
      ],
      "source": [
        "df[\"place_l2\"].value_counts()"
      ]
    },
    {
      "cell_type": "code",
      "execution_count": 1602,
      "metadata": {},
      "outputs": [],
      "source": [
        "df = df[(df[\"property_currency\"] == \"USD\") & (df[\"operation\"] == \"Venta\") & (df[\"property_type\"].isin(tipos_propiedades)) & \n",
        "        (df[\"place_l2\"] == \"Capital Federal\")]"
      ]
    },
    {
      "cell_type": "code",
      "execution_count": 1603,
      "metadata": {},
      "outputs": [],
      "source": [
        "# que pasa aca con aquellas que tengan nan de place_l2 pero que realmente esten en capital federal\n",
        "# TODO: deberia buscar puntos extremos de CABA y ahi filtrar por eso tambien"
      ]
    },
    {
      "cell_type": "code",
      "execution_count": 1604,
      "metadata": {},
      "outputs": [
        {
          "data": {
            "text/plain": [
              "id                              0\n",
              "start_date                      0\n",
              "end_date                        0\n",
              "created_on                      0\n",
              "latitud                      3730\n",
              "longitud                     3730\n",
              "place_l2                        0\n",
              "place_l3                      417\n",
              "place_l4                    90606\n",
              "place_l5                    94249\n",
              "place_l6                    94249\n",
              "operation                       0\n",
              "property_type                   0\n",
              "property_rooms               1044\n",
              "property_bedrooms           10987\n",
              "property_surface_total       4844\n",
              "property_surface_covered     3354\n",
              "property_price                  0\n",
              "property_currency               0\n",
              "property_title                  0\n",
              "dtype: int64"
            ]
          },
          "execution_count": 1604,
          "metadata": {},
          "output_type": "execute_result"
        }
      ],
      "source": [
        "df.isnull().sum()"
      ]
    },
    {
      "cell_type": "markdown",
      "metadata": {},
      "source": [
        "### a) Exploración incial"
      ]
    },
    {
      "cell_type": "markdown",
      "metadata": {},
      "source": [
        "Variables cuantitativas"
      ]
    },
    {
      "cell_type": "code",
      "execution_count": 1605,
      "metadata": {},
      "outputs": [
        {
          "data": {
            "text/plain": [
              "'2021-01-01'"
            ]
          },
          "execution_count": 1605,
          "metadata": {},
          "output_type": "execute_result"
        }
      ],
      "source": [
        "df[\"start_date\"].min()"
      ]
    },
    {
      "cell_type": "code",
      "execution_count": 1606,
      "metadata": {},
      "outputs": [
        {
          "data": {
            "text/plain": [
              "'2021-12-31'"
            ]
          },
          "execution_count": 1606,
          "metadata": {},
          "output_type": "execute_result"
        }
      ],
      "source": [
        "df[\"start_date\"].max()"
      ]
    },
    {
      "cell_type": "code",
      "execution_count": 1607,
      "metadata": {},
      "outputs": [
        {
          "data": {
            "text/plain": [
              "'2021-01-02'"
            ]
          },
          "execution_count": 1607,
          "metadata": {},
          "output_type": "execute_result"
        }
      ],
      "source": [
        "df[\"end_date\"].min()"
      ]
    },
    {
      "cell_type": "code",
      "execution_count": 1608,
      "metadata": {},
      "outputs": [
        {
          "data": {
            "text/plain": [
              "'9999-12-31'"
            ]
          },
          "execution_count": 1608,
          "metadata": {},
          "output_type": "execute_result"
        }
      ],
      "source": [
        "df[\"end_date\"].max()"
      ]
    },
    {
      "cell_type": "code",
      "execution_count": 1609,
      "metadata": {},
      "outputs": [
        {
          "data": {
            "text/plain": [
              "'2021-01-01'"
            ]
          },
          "execution_count": 1609,
          "metadata": {},
          "output_type": "execute_result"
        }
      ],
      "source": [
        "df[\"created_on\"].min()"
      ]
    },
    {
      "cell_type": "code",
      "execution_count": 1610,
      "metadata": {},
      "outputs": [
        {
          "data": {
            "text/plain": [
              "'2021-12-31'"
            ]
          },
          "execution_count": 1610,
          "metadata": {},
          "output_type": "execute_result"
        }
      ],
      "source": [
        "df[\"created_on\"].max()"
      ]
    },
    {
      "cell_type": "markdown",
      "metadata": {},
      "source": [
        "Veo que de **end_date** a ciertas propiedades le colocaron el año 9999, por lo que interpreto que todavia no habian sido vendidas al momento de recolectar los datos."
      ]
    },
    {
      "cell_type": "markdown",
      "metadata": {},
      "source": [
        "Estas tres columnas veo que son variables cuantitativas discretas, ya que solo estan las fechas como tal, no hay dato sobre las horas."
      ]
    },
    {
      "cell_type": "markdown",
      "metadata": {},
      "source": [
        "Tanto **latitud** como **longitud** son variables cuantitativas continuas."
      ]
    },
    {
      "cell_type": "code",
      "execution_count": 1611,
      "metadata": {},
      "outputs": [
        {
          "data": {
            "text/plain": [
              "(-34.59148102467374, -34.5957896, -34.5412501)"
            ]
          },
          "execution_count": 1611,
          "metadata": {},
          "output_type": "execute_result"
        }
      ],
      "source": [
        "df[\"latitud\"].mean(), df[\"latitud\"].median(), df[\"latitud\"].mode()[0]"
      ]
    },
    {
      "cell_type": "code",
      "execution_count": 1612,
      "metadata": {},
      "outputs": [
        {
          "data": {
            "text/plain": [
              "(-58.449794544855415, -58.4390004, -58.4729664)"
            ]
          },
          "execution_count": 1612,
          "metadata": {},
          "output_type": "execute_result"
        }
      ],
      "source": [
        "df[\"longitud\"].mean(), df[\"longitud\"].median(), df[\"longitud\"].mode()[0]"
      ]
    },
    {
      "cell_type": "markdown",
      "metadata": {},
      "source": [
        "Los distintos **place_l** son variables cualitativas. Busco los distintos valores que adoptan"
      ]
    },
    {
      "cell_type": "code",
      "execution_count": 1613,
      "metadata": {},
      "outputs": [
        {
          "data": {
            "text/plain": [
              "place_l2\n",
              "Capital Federal    94249\n",
              "Name: count, dtype: int64"
            ]
          },
          "execution_count": 1613,
          "metadata": {},
          "output_type": "execute_result"
        }
      ],
      "source": [
        "df[\"place_l2\"].value_counts()"
      ]
    },
    {
      "cell_type": "code",
      "execution_count": 1614,
      "metadata": {},
      "outputs": [
        {
          "data": {
            "text/plain": [
              "place_l3\n",
              "Palermo                 14308\n",
              "Belgrano                 8898\n",
              "Caballito                7168\n",
              "Recoleta                 6282\n",
              "Villa Urquiza            4673\n",
              "Almagro                  4081\n",
              "Nuñez                    3546\n",
              "Villa Crespo             3189\n",
              "Flores                   3110\n",
              "Barrio Norte             2975\n",
              "Balvanera                2553\n",
              "Colegiales               1951\n",
              "Villa Devoto             1921\n",
              "Villa del Parque         1829\n",
              "Saavedra                 1829\n",
              "Puerto Madero            1493\n",
              "San Telmo                1380\n",
              "San Cristobal            1300\n",
              "San Nicolás              1295\n",
              "Retiro                   1250\n",
              "Barracas                 1246\n",
              "Boedo                    1237\n",
              "Floresta                 1195\n",
              "Monserrat                1115\n",
              "Parque Chacabuco         1073\n",
              "Villa Pueyrredón         1011\n",
              "Coghlan                   984\n",
              "Villa Luro                727\n",
              "Mataderos                 719\n",
              "Chacarita                 697\n",
              "Liniers                   668\n",
              "Villa Ortuzar             662\n",
              "Parque Patricios          639\n",
              "Villa Lugano              612\n",
              "Paternal                  566\n",
              "Congreso                  535\n",
              "Monte Castro              499\n",
              "Constitución              453\n",
              "Villa Santa Rita          438\n",
              "Villa General Mitre       435\n",
              "Once                      407\n",
              "Parque Avellaneda         380\n",
              "Parque Chas               373\n",
              "Boca                      365\n",
              "Versalles                 315\n",
              "Velez Sarsfield           242\n",
              "Agronomía                 235\n",
              "Abasto                    231\n",
              "Pompeya                   216\n",
              "Villa Real                142\n",
              "Tribunales                116\n",
              "Parque Centenario          93\n",
              "Centro / Microcentro       76\n",
              "Villa Soldati              45\n",
              "Villa Riachuelo            35\n",
              "Las Cañitas                12\n",
              "Catalinas                   7\n",
              "Name: count, dtype: int64"
            ]
          },
          "execution_count": 1614,
          "metadata": {},
          "output_type": "execute_result"
        }
      ],
      "source": [
        "df[\"place_l3\"].value_counts()"
      ]
    },
    {
      "cell_type": "code",
      "execution_count": 1615,
      "metadata": {},
      "outputs": [
        {
          "data": {
            "text/plain": [
              "place_l4\n",
              "Palermo Hollywood    1576\n",
              "Palermo Chico        1092\n",
              "Palermo Soho          804\n",
              "Palermo Viejo         171\n",
              "Name: count, dtype: int64"
            ]
          },
          "execution_count": 1615,
          "metadata": {},
          "output_type": "execute_result"
        }
      ],
      "source": [
        "df[\"place_l4\"].value_counts()"
      ]
    },
    {
      "cell_type": "code",
      "execution_count": 1616,
      "metadata": {},
      "outputs": [
        {
          "data": {
            "text/plain": [
              "Series([], Name: count, dtype: int64)"
            ]
          },
          "execution_count": 1616,
          "metadata": {},
          "output_type": "execute_result"
        }
      ],
      "source": [
        "df[\"place_l5\"].value_counts()"
      ]
    },
    {
      "cell_type": "markdown",
      "metadata": {},
      "source": [
        "De la columna **place_l6** ni siquiera miramos porque el resultado de value_counts() con todo el df sin filtrarson todos nulos."
      ]
    },
    {
      "cell_type": "code",
      "execution_count": 1617,
      "metadata": {},
      "outputs": [
        {
          "data": {
            "text/plain": [
              "operation\n",
              "Venta    94249\n",
              "Name: count, dtype: int64"
            ]
          },
          "execution_count": 1617,
          "metadata": {},
          "output_type": "execute_result"
        }
      ],
      "source": [
        "df[\"operation\"].value_counts()"
      ]
    },
    {
      "cell_type": "markdown",
      "metadata": {},
      "source": [
        "**Operation** originalmente es una variable de tipo cualitativa, y vemos que sus valores difieren de lo que son exclusivamente ventas de propiedades, asique nos preguntamos aqui si dichas filas con propiedades a alquilar nos van a servir para predecir el valor de una propiedad en venta.\n",
        "En nuestro caso ya filtrado solo van a estar aquellas propiedades que tienen el valor de \"Venta\"."
      ]
    },
    {
      "cell_type": "code",
      "execution_count": 1618,
      "metadata": {},
      "outputs": [
        {
          "data": {
            "text/plain": [
              "property_type\n",
              "Departamento    80829\n",
              "PH               9266\n",
              "Casa             4154\n",
              "Name: count, dtype: int64"
            ]
          },
          "execution_count": 1618,
          "metadata": {},
          "output_type": "execute_result"
        }
      ],
      "source": [
        "df[\"property_type\"].value_counts()"
      ]
    },
    {
      "cell_type": "markdown",
      "metadata": {},
      "source": [
        "**property_type** originalmente es una variable de tipo cualitativa también, y vemos que los posibles valores difieren de edifcios, hoteles o establecimientos masivos (exceptuando las oficinas quizas), aunque propiedades de este tipo pueden estar agrupadas en Otro, asique es algo que tendremos en cuenta de aqui en adelante.\n",
        "Idem lo dicho anteriormente, la variable con el filtrado previo solo va a variar entre las opciones anteriores."
      ]
    },
    {
      "cell_type": "code",
      "execution_count": 1619,
      "metadata": {},
      "outputs": [
        {
          "data": {
            "text/plain": [
              "property_rooms\n",
              "3.0     26714\n",
              "2.0     26496\n",
              "4.0     16405\n",
              "1.0     15084\n",
              "5.0      5171\n",
              "6.0      1854\n",
              "7.0       741\n",
              "8.0       359\n",
              "9.0       151\n",
              "10.0      107\n",
              "11.0       33\n",
              "12.0       30\n",
              "14.0       17\n",
              "15.0       12\n",
              "13.0        6\n",
              "16.0        4\n",
              "17.0        4\n",
              "18.0        3\n",
              "20.0        3\n",
              "30.0        2\n",
              "36.0        2\n",
              "19.0        2\n",
              "35.0        1\n",
              "32.0        1\n",
              "24.0        1\n",
              "40.0        1\n",
              "28.0        1\n",
              "Name: count, dtype: int64"
            ]
          },
          "execution_count": 1619,
          "metadata": {},
          "output_type": "execute_result"
        }
      ],
      "source": [
        "df[\"property_rooms\"].value_counts()"
      ]
    },
    {
      "cell_type": "code",
      "execution_count": 1620,
      "metadata": {},
      "outputs": [],
      "source": [
        "def check_values(column):\n",
        "    result = []\n",
        "    for n in column:\n",
        "        if not np.isnan(n) and n % 1 != 0:\n",
        "            result.append(n)\n",
        "    return result"
      ]
    },
    {
      "cell_type": "code",
      "execution_count": 1621,
      "metadata": {},
      "outputs": [
        {
          "data": {
            "text/plain": [
              "[]"
            ]
          },
          "execution_count": 1621,
          "metadata": {},
          "output_type": "execute_result"
        }
      ],
      "source": [
        "check_values(df[\"property_rooms\"])"
      ]
    },
    {
      "cell_type": "code",
      "execution_count": 1622,
      "metadata": {},
      "outputs": [
        {
          "data": {
            "text/plain": [
              "(2.8227992060511777, 3.0, 3.0)"
            ]
          },
          "execution_count": 1622,
          "metadata": {},
          "output_type": "execute_result"
        }
      ],
      "source": [
        "df[\"property_rooms\"].mean(), df[\"property_rooms\"].median(), df[\"property_rooms\"].mode()[0]"
      ]
    },
    {
      "cell_type": "code",
      "execution_count": 1623,
      "metadata": {},
      "outputs": [
        {
          "data": {
            "text/plain": [
              "property_bedrooms\n",
              " 1.0     31947\n",
              " 2.0     27414\n",
              " 3.0     17656\n",
              " 4.0      4797\n",
              " 5.0       928\n",
              " 6.0       241\n",
              " 7.0       107\n",
              " 8.0        55\n",
              " 10.0       27\n",
              " 9.0        27\n",
              " 12.0       16\n",
              " 11.0        7\n",
              " 16.0        6\n",
              " 14.0        5\n",
              " 17.0        5\n",
              " 15.0        4\n",
              " 18.0        4\n",
              " 20.0        4\n",
              " 13.0        4\n",
              " 32.0        3\n",
              " 22.0        2\n",
              " 30.0        1\n",
              " 70.0        1\n",
              "-1.0         1\n",
              "Name: count, dtype: int64"
            ]
          },
          "execution_count": 1623,
          "metadata": {},
          "output_type": "execute_result"
        }
      ],
      "source": [
        "df[\"property_bedrooms\"].value_counts()"
      ]
    },
    {
      "cell_type": "code",
      "execution_count": 1624,
      "metadata": {},
      "outputs": [
        {
          "data": {
            "text/plain": [
              "[]"
            ]
          },
          "execution_count": 1624,
          "metadata": {},
          "output_type": "execute_result"
        }
      ],
      "source": [
        "check_values(df[\"property_bedrooms\"])"
      ]
    },
    {
      "cell_type": "code",
      "execution_count": 1625,
      "metadata": {},
      "outputs": [
        {
          "data": {
            "text/plain": [
              "(2.0146285220148448, 2.0, 1.0)"
            ]
          },
          "execution_count": 1625,
          "metadata": {},
          "output_type": "execute_result"
        }
      ],
      "source": [
        "df[\"property_bedrooms\"].mean(), df[\"property_bedrooms\"].median(), df[\"property_bedrooms\"].mode()[0]"
      ]
    },
    {
      "cell_type": "markdown",
      "metadata": {},
      "source": [
        "Tanto **property_rooms** como **property_bedrooms** vemos que son variables cuantitativas discretas, pero ya observamos que tiene algunos valores extraños (el -3, y aquellos que son muy altos, que pueden llegar a ser hoteles o similar, pero nuevamente, lo analizaremos mas adelante)."
      ]
    },
    {
      "cell_type": "code",
      "execution_count": 1626,
      "metadata": {},
      "outputs": [
        {
          "data": {
            "text/plain": [
              "property_surface_covered\n",
              "40.0        2394\n",
              "38.0        2020\n",
              "50.0        2011\n",
              "45.0        1946\n",
              "35.0        1853\n",
              "            ... \n",
              "217000.0       1\n",
              "40038.0        1\n",
              "598.0          1\n",
              "795.0          1\n",
              "5970.0         1\n",
              "Name: count, Length: 590, dtype: int64"
            ]
          },
          "execution_count": 1626,
          "metadata": {},
          "output_type": "execute_result"
        }
      ],
      "source": [
        "df[\"property_surface_covered\"].value_counts()"
      ]
    },
    {
      "cell_type": "code",
      "execution_count": 1627,
      "metadata": {},
      "outputs": [
        {
          "data": {
            "text/plain": [
              "[]"
            ]
          },
          "execution_count": 1627,
          "metadata": {},
          "output_type": "execute_result"
        }
      ],
      "source": [
        "check_values(df[\"property_surface_covered\"])"
      ]
    },
    {
      "cell_type": "code",
      "execution_count": 1628,
      "metadata": {},
      "outputs": [
        {
          "data": {
            "text/plain": [
              "(87.93193244952968, 58.0, 40.0)"
            ]
          },
          "execution_count": 1628,
          "metadata": {},
          "output_type": "execute_result"
        }
      ],
      "source": [
        "df[\"property_surface_covered\"].mean(), df[\"property_surface_covered\"].median(), df[\"property_surface_covered\"].mode()[0]"
      ]
    },
    {
      "cell_type": "code",
      "execution_count": 1629,
      "metadata": {},
      "outputs": [
        {
          "data": {
            "text/plain": [
              "property_surface_total\n",
              "50.0      1799\n",
              "40.0      1725\n",
              "45.0      1586\n",
              "42.0      1561\n",
              "60.0      1506\n",
              "          ... \n",
              "713.0        1\n",
              "661.0        1\n",
              "834.0        1\n",
              "684.0        1\n",
              "7720.0       1\n",
              "Name: count, Length: 719, dtype: int64"
            ]
          },
          "execution_count": 1629,
          "metadata": {},
          "output_type": "execute_result"
        }
      ],
      "source": [
        "df[\"property_surface_total\"].value_counts()"
      ]
    },
    {
      "cell_type": "code",
      "execution_count": 1630,
      "metadata": {},
      "outputs": [
        {
          "data": {
            "text/plain": [
              "[]"
            ]
          },
          "execution_count": 1630,
          "metadata": {},
          "output_type": "execute_result"
        }
      ],
      "source": [
        "check_values(df[\"property_surface_total\"])"
      ]
    },
    {
      "cell_type": "code",
      "execution_count": 1631,
      "metadata": {},
      "outputs": [
        {
          "data": {
            "text/plain": [
              "(109.09297019182372, 65.0, 50.0)"
            ]
          },
          "execution_count": 1631,
          "metadata": {},
          "output_type": "execute_result"
        }
      ],
      "source": [
        "df[\"property_surface_total\"].mean(), df[\"property_surface_total\"].median(), df[\"property_surface_total\"].mode()[0]"
      ]
    },
    {
      "cell_type": "markdown",
      "metadata": {},
      "source": [
        "Ambas variables indicadoras de la superficie de las propiedades (totales y cubiertas) son variables cuantitativas continuas, y vemos que hay discrepancia en los datos ya que superficie total = superficie cubierta + superficie descubierta, y el promedio de las superficie cubierta es 9000 aproximadamente, y el de la superficie total es 420 aproximadamente."
      ]
    },
    {
      "cell_type": "code",
      "execution_count": 1632,
      "metadata": {},
      "outputs": [],
      "source": [
        "# o discretas?"
      ]
    },
    {
      "cell_type": "code",
      "execution_count": 1633,
      "metadata": {},
      "outputs": [
        {
          "data": {
            "text/plain": [
              "property_price\n",
              "110000.0    1514\n",
              "120000.0    1426\n",
              "85000.0     1412\n",
              "125000.0    1396\n",
              "115000.0    1377\n",
              "            ... \n",
              "98046.0        1\n",
              "110148.0       1\n",
              "149010.0       1\n",
              "102004.0       1\n",
              "302000.0       1\n",
              "Name: count, Length: 4789, dtype: int64"
            ]
          },
          "execution_count": 1633,
          "metadata": {},
          "output_type": "execute_result"
        }
      ],
      "source": [
        "df[\"property_price\"].value_counts()"
      ]
    },
    {
      "cell_type": "code",
      "execution_count": 1634,
      "metadata": {},
      "outputs": [
        {
          "data": {
            "text/plain": [
              "[]"
            ]
          },
          "execution_count": 1634,
          "metadata": {},
          "output_type": "execute_result"
        }
      ],
      "source": [
        "check_values(df[\"property_price\"])"
      ]
    },
    {
      "cell_type": "code",
      "execution_count": 1635,
      "metadata": {},
      "outputs": [
        {
          "data": {
            "text/plain": [
              "(226238.20718522213, 143900.0, 110000.0)"
            ]
          },
          "execution_count": 1635,
          "metadata": {},
          "output_type": "execute_result"
        }
      ],
      "source": [
        "df[\"property_price\"].mean(), df[\"property_price\"].median(), df[\"property_price\"].mode()[0]"
      ]
    },
    {
      "cell_type": "markdown",
      "metadata": {},
      "source": [
        "El **property_price** es una variable cuantitativa discreta."
      ]
    },
    {
      "cell_type": "code",
      "execution_count": 1636,
      "metadata": {},
      "outputs": [
        {
          "data": {
            "text/plain": [
              "property_currency\n",
              "USD    94249\n",
              "Name: count, dtype: int64"
            ]
          },
          "execution_count": 1636,
          "metadata": {},
          "output_type": "execute_result"
        }
      ],
      "source": [
        "df[\"property_currency\"].value_counts()"
      ]
    },
    {
      "cell_type": "markdown",
      "metadata": {},
      "source": [
        "**property_currency** originalmente es una variable cuantitativa tambien, y es la moneda en la que esta publicada la propiedad, asique ya sabemos que vamos a tener que traducir ciertas monedas a USD (o mismo ver si realmente pertenecen a la Argentina las propiedades del df).\n",
        "Tras el filtrado solo tenemos aquellas propiedades publicadas con valor en USD."
      ]
    },
    {
      "cell_type": "code",
      "execution_count": 1637,
      "metadata": {},
      "outputs": [
        {
          "data": {
            "text/plain": [
              "property_title\n",
              "Departamento - Palermo                                                                                  1468\n",
              "Departamento - Recoleta                                                                                 1324\n",
              "Departamento - Belgrano                                                                                 1113\n",
              "Departamento - Caballito                                                                                 936\n",
              "Departamento - Almagro                                                                                   666\n",
              "                                                                                                        ... \n",
              "Gran 3 ambientes en pleno Villa del Parque                                                                 1\n",
              "Venta PH 3 Amb Con Patio Flores                                                                            1\n",
              "Venta, PH, 3 Ambientes, PB, Quincho, Parrilla, Terraza, Paternal                                           1\n",
              "Venta PH - 3 dormitorios y terraza en Colegiales                                                           1\n",
              "VENTA MONOAMBIENTE APAISADO y DIVISIBLE AL CF C/ BALCÓN Vta Ata, PISO ALTO. BAJAS EXP. // APTO CRED.       1\n",
              "Name: count, Length: 55704, dtype: int64"
            ]
          },
          "execution_count": 1637,
          "metadata": {},
          "output_type": "execute_result"
        }
      ],
      "source": [
        "df[\"property_title\"].value_counts()"
      ]
    },
    {
      "cell_type": "markdown",
      "metadata": {},
      "source": [
        "El **property_title** es una variable cuantitativa."
      ]
    },
    {
      "cell_type": "markdown",
      "metadata": {},
      "source": [
        "### Resumen de esta sección"
      ]
    },
    {
      "cell_type": "markdown",
      "metadata": {},
      "source": [
        "Creemos que las variables que refieren a los ids, a las fechas, y al titulo de la propiedad, no van a servir para entrenar al modelo, aquellas filas que refieran a propiedades en alquiler tampoco creemos que vayan a servirle al modelo, y por lo tanto ...."
      ]
    },
    {
      "cell_type": "markdown",
      "metadata": {},
      "source": [
        "Realizando algunos graficos de lo que vemos mas importante ahora"
      ]
    },
    {
      "cell_type": "code",
      "execution_count": 1638,
      "metadata": {},
      "outputs": [],
      "source": [
        "#sns.pairplot(df[[\"latitud\", \"longitud\", \"property_price\", \"property_rooms\", \"property_bedrooms\", \"property_surface_covered\", \"property_surface_total\"]])"
      ]
    },
    {
      "cell_type": "markdown",
      "metadata": {},
      "source": [
        "## Visualizaciones"
      ]
    },
    {
      "cell_type": "code",
      "execution_count": 1639,
      "metadata": {},
      "outputs": [],
      "source": [
        "#df = df.drop(\"id\", axis = 1)"
      ]
    },
    {
      "cell_type": "markdown",
      "metadata": {},
      "source": [
        "Busco si hay relación entre los valores de las propiedades y la ubicación en la que se encuentran."
      ]
    },
    {
      "cell_type": "code",
      "execution_count": 1640,
      "metadata": {},
      "outputs": [
        {
          "data": {
            "image/png": "[encoded data removed]",
            "text/plain": [
              "<Figure size 640x480 with 2 Axes>"
            ]
          },
          "metadata": {},
          "output_type": "display_data"
        }
      ],
      "source": [
        "plt.scatter(df[\"latitud\"], df[\"longitud\"], c = df[\"property_price\"], cmap=\"inferno\")\n",
        "plt.xlabel(\"Latitud\")\n",
        "plt.ylabel(\"Longitud\")\n",
        "plt.colorbar(label=\"Precio en dolares\")\n",
        "\n",
        "#cbar.ax.yaxis.set_major_formatter(ticker.FuncFormatter(lambda x, pos: f\"{np.exp(x):.0f}\"))\n",
        "plt.show()"
      ]
    },
    {
      "cell_type": "markdown",
      "metadata": {},
      "source": [
        "Busco la relación entre el precio de la propiedad y sus habitaciones/dimensiones."
      ]
    },
    {
      "cell_type": "code",
      "execution_count": 1641,
      "metadata": {},
      "outputs": [
        {
          "data": {
            "text/plain": [
              "<Axes: >"
            ]
          },
          "execution_count": 1641,
          "metadata": {},
          "output_type": "execute_result"
        },
        {
          "data": {
            "image/png": "[encoded data removed]",
            "text/plain": [
              "<Figure size 640x480 with 2 Axes>"
            ]
          },
          "metadata": {},
          "output_type": "display_data"
        }
      ],
      "source": [
        "sns.heatmap(df[[\"property_rooms\", \"property_bedrooms\", \"property_price\", \"property_surface_covered\", \"property_surface_total\"]].corr(), annot = True)"
      ]
    },
    {
      "cell_type": "code",
      "execution_count": 1642,
      "metadata": {},
      "outputs": [
        {
          "data": {
            "text/plain": [
              "<matplotlib.collections.PathCollection at 0x7f5ea18bbf50>"
            ]
          },
          "execution_count": 1642,
          "metadata": {},
          "output_type": "execute_result"
        },
        {
          "data": {
            "image/png": "[encoded data removed]",
            "text/plain": [
              "<Figure size 640x480 with 1 Axes>"
            ]
          },
          "metadata": {},
          "output_type": "display_data"
        }
      ],
      "source": [
        "plt.scatter(df[\"property_bedrooms\"], df[\"property_price\"])"
      ]
    },
    {
      "cell_type": "code",
      "execution_count": 1643,
      "metadata": {},
      "outputs": [
        {
          "data": {
            "text/plain": [
              "<matplotlib.collections.PathCollection at 0x7f5e9a304150>"
            ]
          },
          "execution_count": 1643,
          "metadata": {},
          "output_type": "execute_result"
        },
        {
          "data": {
            "image/png": "[encoded data removed]",
            "text/plain": [
              "<Figure size 640x480 with 1 Axes>"
            ]
          },
          "metadata": {},
          "output_type": "display_data"
        }
      ],
      "source": [
        "plt.scatter(df[\"property_rooms\"], df[\"property_price\"])"
      ]
    },
    {
      "cell_type": "code",
      "execution_count": 1644,
      "metadata": {},
      "outputs": [
        {
          "data": {
            "text/plain": [
              "<matplotlib.collections.PathCollection at 0x7f5ea25ca3d0>"
            ]
          },
          "execution_count": 1644,
          "metadata": {},
          "output_type": "execute_result"
        },
        {
          "data": {
            "image/png": "[encoded data removed]",
            "text/plain": [
              "<Figure size 640x480 with 1 Axes>"
            ]
          },
          "metadata": {},
          "output_type": "display_data"
        }
      ],
      "source": [
        "plt.scatter(df[\"property_surface_covered\"], df[\"property_price\"])"
      ]
    },
    {
      "cell_type": "code",
      "execution_count": 1645,
      "metadata": {},
      "outputs": [
        {
          "data": {
            "text/plain": [
              "<matplotlib.collections.PathCollection at 0x7f5e9a3a4d10>"
            ]
          },
          "execution_count": 1645,
          "metadata": {},
          "output_type": "execute_result"
        },
        {
          "data": {
            "image/png": "[encoded data removed]",
            "text/plain": [
              "<Figure size 640x480 with 1 Axes>"
            ]
          },
          "metadata": {},
          "output_type": "display_data"
        }
      ],
      "source": [
        "plt.scatter(df[\"property_surface_total\"], df[\"property_price\"])"
      ]
    },
    {
      "cell_type": "code",
      "execution_count": 1646,
      "metadata": {},
      "outputs": [
        {
          "data": {
            "text/plain": [
              "<matplotlib.collections.PathCollection at 0x7f5ea1a4a850>"
            ]
          },
          "execution_count": 1646,
          "metadata": {},
          "output_type": "execute_result"
        },
        {
          "data": {
            "image/png": "[encoded data removed]",
            "text/plain": [
              "<Figure size 640x480 with 1 Axes>"
            ]
          },
          "metadata": {},
          "output_type": "display_data"
        }
      ],
      "source": [
        "plt.scatter(df[\"latitud\"], df[\"property_price\"])"
      ]
    },
    {
      "cell_type": "code",
      "execution_count": 1647,
      "metadata": {},
      "outputs": [
        {
          "data": {
            "text/plain": [
              "<matplotlib.collections.PathCollection at 0x7f5ea1a103d0>"
            ]
          },
          "execution_count": 1647,
          "metadata": {},
          "output_type": "execute_result"
        },
        {
          "data": {
            "image/png": "[encoded data removed]",
            "text/plain": [
              "<Figure size 640x480 with 1 Axes>"
            ]
          },
          "metadata": {},
          "output_type": "display_data"
        }
      ],
      "source": [
        "plt.scatter(df[\"longitud\"], df[\"property_price\"])"
      ]
    },
    {
      "cell_type": "markdown",
      "metadata": {},
      "source": [
        "## Datos faltantes"
      ]
    },
    {
      "cell_type": "code",
      "execution_count": 1648,
      "metadata": {},
      "outputs": [
        {
          "data": {
            "text/plain": [
              "(94249, 20)"
            ]
          },
          "execution_count": 1648,
          "metadata": {},
          "output_type": "execute_result"
        }
      ],
      "source": [
        "df.shape"
      ]
    },
    {
      "cell_type": "code",
      "execution_count": 1649,
      "metadata": {},
      "outputs": [
        {
          "data": {
            "text/plain": [
              "id                              0\n",
              "start_date                      0\n",
              "end_date                        0\n",
              "created_on                      0\n",
              "latitud                      3730\n",
              "longitud                     3730\n",
              "place_l2                        0\n",
              "place_l3                      417\n",
              "place_l4                    90606\n",
              "place_l5                    94249\n",
              "place_l6                    94249\n",
              "operation                       0\n",
              "property_type                   0\n",
              "property_rooms               1044\n",
              "property_bedrooms           10987\n",
              "property_surface_total       4844\n",
              "property_surface_covered     3354\n",
              "property_price                  0\n",
              "property_currency               0\n",
              "property_title                  0\n",
              "dtype: int64"
            ]
          },
          "execution_count": 1649,
          "metadata": {},
          "output_type": "execute_result"
        }
      ],
      "source": [
        "df.isnull().sum()"
      ]
    },
    {
      "cell_type": "code",
      "execution_count": 1650,
      "metadata": {},
      "outputs": [
        {
          "data": {
            "text/plain": [
              "(0, 20)"
            ]
          },
          "execution_count": 1650,
          "metadata": {},
          "output_type": "execute_result"
        }
      ],
      "source": [
        "df[df[\"property_price\"] <= 0].shape"
      ]
    },
    {
      "cell_type": "markdown",
      "metadata": {},
      "source": [
        "No veo propiedades con precios sin sentido."
      ]
    },
    {
      "cell_type": "code",
      "execution_count": 1651,
      "metadata": {},
      "outputs": [
        {
          "data": {
            "text/plain": [
              "(198, 20)"
            ]
          },
          "execution_count": 1651,
          "metadata": {},
          "output_type": "execute_result"
        }
      ],
      "source": [
        "df[df[\"property_surface_total\"] < df[\"property_surface_covered\"]].shape"
      ]
    },
    {
      "cell_type": "markdown",
      "metadata": {},
      "source": [
        "Hay 198 propiedades con errores en la superficie"
      ]
    },
    {
      "cell_type": "markdown",
      "metadata": {},
      "source": [
        "Decidimos tomar como que el error estuvo en ingresar los datos al revés."
      ]
    },
    {
      "cell_type": "code",
      "execution_count": 1652,
      "metadata": {},
      "outputs": [],
      "source": [
        "filas_erroneas = df[\"property_surface_total\"] > df[\"property_surface_covered\"]\n",
        "\n",
        "df.loc[filas_erroneas, [\"property_surface_total\", \"property_surface_covered\"]] = df.loc[filas_erroneas, [\"property_surface_covered\", \"property_surface_total\"]].values"
      ]
    },
    {
      "cell_type": "markdown",
      "metadata": {
        "id": "AJURPc8JJYrZ"
      },
      "source": [
        "Me fijo si todas las propiedades del dataset corresponden a casas en venta"
      ]
    },
    {
      "cell_type": "code",
      "execution_count": 1653,
      "metadata": {
        "colab": {
          "base_uri": "https://localhost:8080/"
        },
        "id": "8DpuUEFsIUPy",
        "outputId": "bf9c42ce-bb32-444c-d316-628e92321602"
      },
      "outputs": [
        {
          "data": {
            "text/plain": [
              "operation\n",
              "Venta    94249\n",
              "Name: count, dtype: int64"
            ]
          },
          "execution_count": 1653,
          "metadata": {},
          "output_type": "execute_result"
        }
      ],
      "source": [
        "df[\"operation\"].value_counts()"
      ]
    },
    {
      "cell_type": "code",
      "execution_count": 1654,
      "metadata": {},
      "outputs": [
        {
          "data": {
            "text/plain": [
              "(94249, 20)"
            ]
          },
          "execution_count": 1654,
          "metadata": {},
          "output_type": "execute_result"
        }
      ],
      "source": [
        "df.shape"
      ]
    },
    {
      "cell_type": "code",
      "execution_count": 1655,
      "metadata": {},
      "outputs": [
        {
          "data": {
            "text/plain": [
              "(0, 20)"
            ]
          },
          "execution_count": 1655,
          "metadata": {},
          "output_type": "execute_result"
        }
      ],
      "source": [
        "df[df[\"property_price\"] <= 0].shape"
      ]
    },
    {
      "cell_type": "code",
      "execution_count": 1656,
      "metadata": {},
      "outputs": [],
      "source": [
        "df = df[df[\"property_price\"] > 0]"
      ]
    },
    {
      "cell_type": "code",
      "execution_count": 1657,
      "metadata": {},
      "outputs": [
        {
          "data": {
            "text/plain": [
              "(94249, 20)"
            ]
          },
          "execution_count": 1657,
          "metadata": {},
          "output_type": "execute_result"
        }
      ],
      "source": [
        "df.shape"
      ]
    },
    {
      "cell_type": "code",
      "execution_count": 1658,
      "metadata": {},
      "outputs": [
        {
          "data": {
            "text/plain": [
              "id                              0\n",
              "start_date                      0\n",
              "end_date                        0\n",
              "created_on                      0\n",
              "latitud                      3730\n",
              "longitud                     3730\n",
              "place_l2                        0\n",
              "place_l3                      417\n",
              "place_l4                    90606\n",
              "place_l5                    94249\n",
              "place_l6                    94249\n",
              "operation                       0\n",
              "property_type                   0\n",
              "property_rooms               1044\n",
              "property_bedrooms           10987\n",
              "property_surface_total       4844\n",
              "property_surface_covered     3354\n",
              "property_price                  0\n",
              "property_currency               0\n",
              "property_title                  0\n",
              "dtype: int64"
            ]
          },
          "execution_count": 1658,
          "metadata": {},
          "output_type": "execute_result"
        }
      ],
      "source": [
        "df.isnull().sum()"
      ]
    },
    {
      "cell_type": "code",
      "execution_count": 1659,
      "metadata": {},
      "outputs": [
        {
          "data": {
            "text/plain": [
              "id                          0.000000\n",
              "start_date                  0.000000\n",
              "end_date                    0.000000\n",
              "created_on                  0.000000\n",
              "latitud                     0.039576\n",
              "longitud                    0.039576\n",
              "place_l2                    0.000000\n",
              "place_l3                    0.004424\n",
              "place_l4                    0.961347\n",
              "place_l5                    1.000000\n",
              "place_l6                    1.000000\n",
              "operation                   0.000000\n",
              "property_type               0.000000\n",
              "property_rooms              0.011077\n",
              "property_bedrooms           0.116574\n",
              "property_surface_total      0.051396\n",
              "property_surface_covered    0.035587\n",
              "property_price              0.000000\n",
              "property_currency           0.000000\n",
              "property_title              0.000000\n",
              "dtype: float64"
            ]
          },
          "execution_count": 1659,
          "metadata": {},
          "output_type": "execute_result"
        }
      ],
      "source": [
        "df.isnull().sum() / df.shape[0]"
      ]
    },
    {
      "cell_type": "markdown",
      "metadata": {},
      "source": [
        "Como las columnas place_l4, place_l5 y place_l6 tiene un 96,13%, 100% y 100% de nulos, respectivamente, las elimino."
      ]
    },
    {
      "cell_type": "code",
      "execution_count": 1660,
      "metadata": {},
      "outputs": [],
      "source": [
        "df = df.drop(\"place_l4\", axis = 1)\n",
        "df = df.drop(\"place_l5\", axis=1)\n",
        "df = df.drop(\"place_l6\", axis=1)"
      ]
    },
    {
      "cell_type": "code",
      "execution_count": 1661,
      "metadata": {},
      "outputs": [
        {
          "data": {
            "text/plain": [
              "432"
            ]
          },
          "execution_count": 1661,
          "metadata": {},
          "output_type": "execute_result"
        }
      ],
      "source": [
        "df[df[\"property_rooms\"].isnull() & df[\"property_bedrooms\"].isnull()].shape[0]"
      ]
    },
    {
      "cell_type": "markdown",
      "metadata": {},
      "source": [
        "Como las filas que no tienen ninguno de los datos de habitaciones/ambientes son solo 432 para un df de 94342, elimino dichas filas."
      ]
    },
    {
      "cell_type": "code",
      "execution_count": 1662,
      "metadata": {},
      "outputs": [],
      "source": [
        "df = df[~(df[\"property_rooms\"].isnull() & df[\"property_bedrooms\"].isnull())]"
      ]
    },
    {
      "cell_type": "markdown",
      "metadata": {},
      "source": [
        "Busco si hay propiedades que tengan valores nulos para la cantidad de ambientes y no nulos para la cantidad de habitaciones."
      ]
    },
    {
      "cell_type": "code",
      "execution_count": 1663,
      "metadata": {},
      "outputs": [
        {
          "data": {
            "text/plain": [
              "612"
            ]
          },
          "execution_count": 1663,
          "metadata": {},
          "output_type": "execute_result"
        }
      ],
      "source": [
        "df[df[\"property_rooms\"].isnull() & ~df[\"property_bedrooms\"].isnull()].shape[0]"
      ]
    },
    {
      "cell_type": "markdown",
      "metadata": {},
      "source": [
        "Completo aquellas filas que no tengan la cantidad de cuartos totales, pero si la cantidad de habitaciones, con cantHabitaciones + 1, ya que necesariamente tienen un ambiente más."
      ]
    },
    {
      "cell_type": "code",
      "execution_count": 1664,
      "metadata": {},
      "outputs": [],
      "source": [
        "df[\"property_rooms\"].fillna(df[\"property_bedrooms\"] + 1, inplace=True)"
      ]
    },
    {
      "cell_type": "markdown",
      "metadata": {},
      "source": [
        "Completamos ahora con la logica inversa aquellas viviendas que tengan el valor nulo en habitaciones pero no nulo en ambientes."
      ]
    },
    {
      "cell_type": "code",
      "execution_count": 1665,
      "metadata": {},
      "outputs": [
        {
          "data": {
            "text/plain": [
              "10555"
            ]
          },
          "execution_count": 1665,
          "metadata": {},
          "output_type": "execute_result"
        }
      ],
      "source": [
        "df[~(df[\"property_rooms\"].isnull()) & (df[\"property_bedrooms\"].isnull())].shape[0]"
      ]
    },
    {
      "cell_type": "code",
      "execution_count": 1666,
      "metadata": {},
      "outputs": [],
      "source": [
        "df[\"property_bedrooms\"].fillna(df[\"property_rooms\"] - 1, inplace=True)"
      ]
    },
    {
      "cell_type": "code",
      "execution_count": 1667,
      "metadata": {},
      "outputs": [
        {
          "data": {
            "text/plain": [
              "id                             0\n",
              "start_date                     0\n",
              "end_date                       0\n",
              "created_on                     0\n",
              "latitud                     3666\n",
              "longitud                    3666\n",
              "place_l2                       0\n",
              "place_l3                     416\n",
              "operation                      0\n",
              "property_type                  0\n",
              "property_rooms                 0\n",
              "property_bedrooms              0\n",
              "property_surface_total      4741\n",
              "property_surface_covered    3299\n",
              "property_price                 0\n",
              "property_currency              0\n",
              "property_title                 0\n",
              "dtype: int64"
            ]
          },
          "execution_count": 1667,
          "metadata": {},
          "output_type": "execute_result"
        }
      ],
      "source": [
        "df.isnull().sum()"
      ]
    },
    {
      "cell_type": "markdown",
      "metadata": {},
      "source": [
        "Busco ahora la forma que tienen los datos nulos respecto a las superficies (total y descubierta)"
      ]
    },
    {
      "cell_type": "code",
      "execution_count": 1668,
      "metadata": {},
      "outputs": [
        {
          "data": {
            "text/plain": [
              "0"
            ]
          },
          "execution_count": 1668,
          "metadata": {},
          "output_type": "execute_result"
        }
      ],
      "source": [
        "df[df[\"property_surface_total\"].isnull() & df[\"property_surface_covered\"].isnull()].shape[0]"
      ]
    },
    {
      "cell_type": "markdown",
      "metadata": {},
      "source": [
        "Completo aquellas filas que no tengan la cantidad superficie total, pero si la superficie cubierta, con la misma cantidad de superficie cubierta."
      ]
    },
    {
      "cell_type": "code",
      "execution_count": 1669,
      "metadata": {},
      "outputs": [
        {
          "data": {
            "text/plain": [
              "4741"
            ]
          },
          "execution_count": 1669,
          "metadata": {},
          "output_type": "execute_result"
        }
      ],
      "source": [
        "df[df[\"property_surface_total\"].isnull() & ~df[\"property_surface_covered\"].isnull()].shape[0]"
      ]
    },
    {
      "cell_type": "code",
      "execution_count": 1670,
      "metadata": {},
      "outputs": [],
      "source": [
        "df[\"property_surface_total\"].fillna(df[\"property_surface_covered\"], inplace=True)"
      ]
    },
    {
      "cell_type": "code",
      "execution_count": 1671,
      "metadata": {},
      "outputs": [
        {
          "data": {
            "text/plain": [
              "id                             0\n",
              "start_date                     0\n",
              "end_date                       0\n",
              "created_on                     0\n",
              "latitud                     3666\n",
              "longitud                    3666\n",
              "place_l2                       0\n",
              "place_l3                     416\n",
              "operation                      0\n",
              "property_type                  0\n",
              "property_rooms                 0\n",
              "property_bedrooms              0\n",
              "property_surface_total         0\n",
              "property_surface_covered    3299\n",
              "property_price                 0\n",
              "property_currency              0\n",
              "property_title                 0\n",
              "dtype: int64"
            ]
          },
          "execution_count": 1671,
          "metadata": {},
          "output_type": "execute_result"
        }
      ],
      "source": [
        "df.isnull().sum()"
      ]
    },
    {
      "cell_type": "code",
      "execution_count": 1672,
      "metadata": {},
      "outputs": [],
      "source": [
        "# Aca faltaria parchear los datos faltantes de property_surface_covered pero mmm, tiene que ser algo deterministico si no me equivoco, \n",
        "# asique no podria tirar un random para bajarle un poco la cantidad respeccto al property_surface_total."
      ]
    },
    {
      "cell_type": "code",
      "execution_count": 1673,
      "metadata": {},
      "outputs": [
        {
          "data": {
            "text/plain": [
              "169"
            ]
          },
          "execution_count": 1673,
          "metadata": {},
          "output_type": "execute_result"
        }
      ],
      "source": [
        "df[(df[\"latitud\"].isnull()) & (df[\"longitud\"].isnull()) & (df[\"place_l3\"].isnull())].shape[0]"
      ]
    },
    {
      "cell_type": "code",
      "execution_count": 1674,
      "metadata": {},
      "outputs": [],
      "source": [
        "# Respecto a latitud_longitud, podria ver de poner el centro de capital (no me cierra mucho q digamos tampoco)\n",
        "# solo 169 no tienen l3: podria descartar estos, y el resto buscar centro de cada barrio?\n",
        "# y tambien me quedarian 416-169 datos de place_l3 que tiene latitud y longitud para ubicarlos :|"
      ]
    },
    {
      "cell_type": "code",
      "execution_count": 1675,
      "metadata": {},
      "outputs": [
        {
          "data": {
            "text/plain": [
              "0"
            ]
          },
          "execution_count": 1675,
          "metadata": {},
          "output_type": "execute_result"
        }
      ],
      "source": [
        "df[~df[\"latitud\"].isnull() & ~df[\"longitud\"].isnull() & df[\"place_l2\"].isnull()].shape[0]"
      ]
    },
    {
      "cell_type": "code",
      "execution_count": 1676,
      "metadata": {},
      "outputs": [
        {
          "data": {
            "text/plain": [
              "3666"
            ]
          },
          "execution_count": 1676,
          "metadata": {},
          "output_type": "execute_result"
        }
      ],
      "source": [
        "df[df[\"latitud\"].isnull() & df[\"longitud\"].isnull() & ~df[\"place_l2\"].isnull()].shape[0]"
      ]
    },
    {
      "cell_type": "markdown",
      "metadata": {},
      "source": [
        "podriamos hacer aca lo de buscar el centro de los place_l2"
      ]
    },
    {
      "cell_type": "code",
      "execution_count": 1677,
      "metadata": {},
      "outputs": [
        {
          "data": {
            "text/plain": [
              "3666"
            ]
          },
          "execution_count": 1677,
          "metadata": {},
          "output_type": "execute_result"
        }
      ],
      "source": [
        "df[df[\"latitud\"].isnull() & df[\"longitud\"].isnull()].shape[0]"
      ]
    },
    {
      "cell_type": "code",
      "execution_count": 1678,
      "metadata": {},
      "outputs": [],
      "source": [
        "barrios = df[\"place_l3\"].value_counts().index.tolist()\n",
        "barrios = [b.upper() for b in barrios]"
      ]
    },
    {
      "cell_type": "code",
      "execution_count": 1679,
      "metadata": {},
      "outputs": [
        {
          "data": {
            "text/plain": [
              "['PALERMO',\n",
              " 'BELGRANO',\n",
              " 'CABALLITO',\n",
              " 'RECOLETA',\n",
              " 'VILLA URQUIZA',\n",
              " 'ALMAGRO',\n",
              " 'NUÑEZ',\n",
              " 'VILLA CRESPO',\n",
              " 'FLORES',\n",
              " 'BARRIO NORTE',\n",
              " 'BALVANERA',\n",
              " 'COLEGIALES',\n",
              " 'VILLA DEVOTO',\n",
              " 'VILLA DEL PARQUE',\n",
              " 'SAAVEDRA',\n",
              " 'PUERTO MADERO',\n",
              " 'SAN TELMO',\n",
              " 'SAN CRISTOBAL',\n",
              " 'SAN NICOLÁS',\n",
              " 'RETIRO',\n",
              " 'BARRACAS',\n",
              " 'BOEDO',\n",
              " 'FLORESTA',\n",
              " 'MONSERRAT',\n",
              " 'PARQUE CHACABUCO',\n",
              " 'VILLA PUEYRREDÓN',\n",
              " 'COGHLAN',\n",
              " 'VILLA LURO',\n",
              " 'MATADEROS',\n",
              " 'CHACARITA',\n",
              " 'LINIERS',\n",
              " 'VILLA ORTUZAR',\n",
              " 'PARQUE PATRICIOS',\n",
              " 'VILLA LUGANO',\n",
              " 'PATERNAL',\n",
              " 'CONGRESO',\n",
              " 'MONTE CASTRO',\n",
              " 'CONSTITUCIÓN',\n",
              " 'VILLA SANTA RITA',\n",
              " 'VILLA GENERAL MITRE',\n",
              " 'ONCE',\n",
              " 'PARQUE AVELLANEDA',\n",
              " 'PARQUE CHAS',\n",
              " 'BOCA',\n",
              " 'VERSALLES',\n",
              " 'VELEZ SARSFIELD',\n",
              " 'AGRONOMÍA',\n",
              " 'ABASTO',\n",
              " 'POMPEYA',\n",
              " 'VILLA REAL',\n",
              " 'TRIBUNALES',\n",
              " 'PARQUE CENTENARIO',\n",
              " 'CENTRO / MICROCENTRO',\n",
              " 'VILLA SOLDATI',\n",
              " 'VILLA RIACHUELO',\n",
              " 'LAS CAÑITAS',\n",
              " 'CATALINAS']"
            ]
          },
          "execution_count": 1679,
          "metadata": {},
          "output_type": "execute_result"
        }
      ],
      "source": [
        "barrios"
      ]
    },
    {
      "cell_type": "code",
      "execution_count": 1680,
      "metadata": {},
      "outputs": [
        {
          "data": {
            "text/plain": [
              "0"
            ]
          },
          "execution_count": 1680,
          "metadata": {},
          "output_type": "execute_result"
        }
      ],
      "source": [
        "df[\"property_title\"].isnull().sum()"
      ]
    },
    {
      "cell_type": "code",
      "execution_count": 1681,
      "metadata": {},
      "outputs": [
        {
          "data": {
            "text/html": [
              "<div>\n",
              "<style scoped>\n",
              "    .dataframe tbody tr th:only-of-type {\n",
              "        vertical-align: middle;\n",
              "    }\n",
              "\n",
              "    .dataframe tbody tr th {\n",
              "        vertical-align: top;\n",
              "    }\n",
              "\n",
              "    .dataframe thead th {\n",
              "        text-align: right;\n",
              "    }\n",
              "</style>\n",
              "<table border=\"1\" class=\"dataframe\">\n",
              "  <thead>\n",
              "    <tr style=\"text-align: right;\">\n",
              "      <th></th>\n",
              "      <th>id</th>\n",
              "      <th>start_date</th>\n",
              "      <th>end_date</th>\n",
              "      <th>created_on</th>\n",
              "      <th>latitud</th>\n",
              "      <th>longitud</th>\n",
              "      <th>place_l2</th>\n",
              "      <th>place_l3</th>\n",
              "      <th>operation</th>\n",
              "      <th>property_type</th>\n",
              "      <th>property_rooms</th>\n",
              "      <th>property_bedrooms</th>\n",
              "      <th>property_surface_total</th>\n",
              "      <th>property_surface_covered</th>\n",
              "      <th>property_price</th>\n",
              "      <th>property_currency</th>\n",
              "      <th>property_title</th>\n",
              "    </tr>\n",
              "  </thead>\n",
              "  <tbody>\n",
              "    <tr>\n",
              "      <th>25</th>\n",
              "      <td>CyZu6IaZgmQYGk8jmPajCg==</td>\n",
              "      <td>2021-09-09</td>\n",
              "      <td>2021-09-26</td>\n",
              "      <td>2021-09-09</td>\n",
              "      <td>NaN</td>\n",
              "      <td>NaN</td>\n",
              "      <td>Capital Federal</td>\n",
              "      <td>NaN</td>\n",
              "      <td>Venta</td>\n",
              "      <td>Casa</td>\n",
              "      <td>4.0</td>\n",
              "      <td>3.0</td>\n",
              "      <td>133.0</td>\n",
              "      <td>171.0</td>\n",
              "      <td>210000.0</td>\n",
              "      <td>USD</td>\n",
              "      <td>VENTA CASA LLAVE EN MANO - COSTA ESMERALDA</td>\n",
              "    </tr>\n",
              "    <tr>\n",
              "      <th>3088</th>\n",
              "      <td>0E8ictkgjcCLl8leFB1Cyw==</td>\n",
              "      <td>2021-02-20</td>\n",
              "      <td>2022-02-09</td>\n",
              "      <td>2021-02-20</td>\n",
              "      <td>-31.678900</td>\n",
              "      <td>-63.879640</td>\n",
              "      <td>Capital Federal</td>\n",
              "      <td>NaN</td>\n",
              "      <td>Venta</td>\n",
              "      <td>Casa</td>\n",
              "      <td>5.0</td>\n",
              "      <td>4.0</td>\n",
              "      <td>220.0</td>\n",
              "      <td>220.0</td>\n",
              "      <td>230000.0</td>\n",
              "      <td>USD</td>\n",
              "      <td>VENTA HERMOSA CASA 5 AMB. C/PILETA - BOCA RATÓN</td>\n",
              "    </tr>\n",
              "    <tr>\n",
              "      <th>3099</th>\n",
              "      <td>cLeo0+I+Zt0/4dwt9KeFlg==</td>\n",
              "      <td>2021-02-20</td>\n",
              "      <td>2021-03-01</td>\n",
              "      <td>2021-02-20</td>\n",
              "      <td>NaN</td>\n",
              "      <td>NaN</td>\n",
              "      <td>Capital Federal</td>\n",
              "      <td>NaN</td>\n",
              "      <td>Venta</td>\n",
              "      <td>Casa</td>\n",
              "      <td>3.0</td>\n",
              "      <td>2.0</td>\n",
              "      <td>53.0</td>\n",
              "      <td>69.0</td>\n",
              "      <td>54600.0</td>\n",
              "      <td>USD</td>\n",
              "      <td>Venta Duplex 3 amb. Complejo Quimaral I - San ...</td>\n",
              "    </tr>\n",
              "    <tr>\n",
              "      <th>5942</th>\n",
              "      <td>RXLax1BaL57FteQH3HMBLw==</td>\n",
              "      <td>2021-10-29</td>\n",
              "      <td>2022-01-08</td>\n",
              "      <td>2021-10-29</td>\n",
              "      <td>NaN</td>\n",
              "      <td>NaN</td>\n",
              "      <td>Capital Federal</td>\n",
              "      <td>NaN</td>\n",
              "      <td>Venta</td>\n",
              "      <td>Departamento</td>\n",
              "      <td>3.0</td>\n",
              "      <td>2.0</td>\n",
              "      <td>87.0</td>\n",
              "      <td>87.0</td>\n",
              "      <td>117000.0</td>\n",
              "      <td>USD</td>\n",
              "      <td>impecable 3 Ambientes de 88 m2!!!! con 2 baños...</td>\n",
              "    </tr>\n",
              "    <tr>\n",
              "      <th>6608</th>\n",
              "      <td>8+xzB2BCQ4VLh8qG+Zq31A==</td>\n",
              "      <td>2021-02-09</td>\n",
              "      <td>9999-12-31</td>\n",
              "      <td>2021-02-09</td>\n",
              "      <td>-34.581285</td>\n",
              "      <td>-58.469703</td>\n",
              "      <td>Capital Federal</td>\n",
              "      <td>NaN</td>\n",
              "      <td>Venta</td>\n",
              "      <td>PH</td>\n",
              "      <td>3.0</td>\n",
              "      <td>2.0</td>\n",
              "      <td>94.0</td>\n",
              "      <td>198.0</td>\n",
              "      <td>268000.0</td>\n",
              "      <td>USD</td>\n",
              "      <td>Ph venta</td>\n",
              "    </tr>\n",
              "    <tr>\n",
              "      <th>...</th>\n",
              "      <td>...</td>\n",
              "      <td>...</td>\n",
              "      <td>...</td>\n",
              "      <td>...</td>\n",
              "      <td>...</td>\n",
              "      <td>...</td>\n",
              "      <td>...</td>\n",
              "      <td>...</td>\n",
              "      <td>...</td>\n",
              "      <td>...</td>\n",
              "      <td>...</td>\n",
              "      <td>...</td>\n",
              "      <td>...</td>\n",
              "      <td>...</td>\n",
              "      <td>...</td>\n",
              "      <td>...</td>\n",
              "      <td>...</td>\n",
              "    </tr>\n",
              "    <tr>\n",
              "      <th>458690</th>\n",
              "      <td>uzOE5TSle78c4dgqiJ8hYg==</td>\n",
              "      <td>2021-01-05</td>\n",
              "      <td>2021-03-01</td>\n",
              "      <td>2021-01-05</td>\n",
              "      <td>NaN</td>\n",
              "      <td>NaN</td>\n",
              "      <td>Capital Federal</td>\n",
              "      <td>NaN</td>\n",
              "      <td>Venta</td>\n",
              "      <td>Casa</td>\n",
              "      <td>3.0</td>\n",
              "      <td>2.0</td>\n",
              "      <td>80.0</td>\n",
              "      <td>80.0</td>\n",
              "      <td>120000.0</td>\n",
              "      <td>USD</td>\n",
              "      <td>Casa a reciclar 3 Amb. en San Martin</td>\n",
              "    </tr>\n",
              "    <tr>\n",
              "      <th>458696</th>\n",
              "      <td>UxrImoZVU0nEah53uM/NSg==</td>\n",
              "      <td>2021-01-05</td>\n",
              "      <td>2021-03-01</td>\n",
              "      <td>2021-01-05</td>\n",
              "      <td>NaN</td>\n",
              "      <td>NaN</td>\n",
              "      <td>Capital Federal</td>\n",
              "      <td>NaN</td>\n",
              "      <td>Venta</td>\n",
              "      <td>Casa</td>\n",
              "      <td>3.0</td>\n",
              "      <td>2.0</td>\n",
              "      <td>60.0</td>\n",
              "      <td>60.0</td>\n",
              "      <td>75000.0</td>\n",
              "      <td>USD</td>\n",
              "      <td>CASA 3 AMBIENTES CON TERRAZA</td>\n",
              "    </tr>\n",
              "    <tr>\n",
              "      <th>459187</th>\n",
              "      <td>eKBe4k1ocBLyz6ntXQfPiQ==</td>\n",
              "      <td>2021-01-05</td>\n",
              "      <td>2021-03-01</td>\n",
              "      <td>2021-01-05</td>\n",
              "      <td>NaN</td>\n",
              "      <td>NaN</td>\n",
              "      <td>Capital Federal</td>\n",
              "      <td>NaN</td>\n",
              "      <td>Venta</td>\n",
              "      <td>Departamento</td>\n",
              "      <td>2.0</td>\n",
              "      <td>1.0</td>\n",
              "      <td>41.0</td>\n",
              "      <td>41.0</td>\n",
              "      <td>75000.0</td>\n",
              "      <td>USD</td>\n",
              "      <td>San Martín. Centro  depto 2 amb a estrenar.</td>\n",
              "    </tr>\n",
              "    <tr>\n",
              "      <th>459195</th>\n",
              "      <td>E8hNlBjeRdD9Cr759qVghQ==</td>\n",
              "      <td>2021-01-05</td>\n",
              "      <td>2021-03-01</td>\n",
              "      <td>2021-01-05</td>\n",
              "      <td>NaN</td>\n",
              "      <td>NaN</td>\n",
              "      <td>Capital Federal</td>\n",
              "      <td>NaN</td>\n",
              "      <td>Venta</td>\n",
              "      <td>Departamento</td>\n",
              "      <td>2.0</td>\n",
              "      <td>1.0</td>\n",
              "      <td>44.0</td>\n",
              "      <td>44.0</td>\n",
              "      <td>128000.0</td>\n",
              "      <td>USD</td>\n",
              "      <td>San Martin Ctro. s/ San Lorenzo Impecable Dpto...</td>\n",
              "    </tr>\n",
              "    <tr>\n",
              "      <th>459199</th>\n",
              "      <td>oYcjmcAXiY+MSWKw0iU28Q==</td>\n",
              "      <td>2021-01-05</td>\n",
              "      <td>2021-03-01</td>\n",
              "      <td>2021-01-05</td>\n",
              "      <td>NaN</td>\n",
              "      <td>NaN</td>\n",
              "      <td>Capital Federal</td>\n",
              "      <td>NaN</td>\n",
              "      <td>Venta</td>\n",
              "      <td>Departamento</td>\n",
              "      <td>3.0</td>\n",
              "      <td>2.0</td>\n",
              "      <td>70.0</td>\n",
              "      <td>70.0</td>\n",
              "      <td>155000.0</td>\n",
              "      <td>USD</td>\n",
              "      <td>San Martin Ctro. Semipiso 3 Amb. amplios,coche...</td>\n",
              "    </tr>\n",
              "  </tbody>\n",
              "</table>\n",
              "<p>416 rows × 17 columns</p>\n",
              "</div>"
            ],
            "text/plain": [
              "                              id  start_date    end_date  created_on  \\\n",
              "25      CyZu6IaZgmQYGk8jmPajCg==  2021-09-09  2021-09-26  2021-09-09   \n",
              "3088    0E8ictkgjcCLl8leFB1Cyw==  2021-02-20  2022-02-09  2021-02-20   \n",
              "3099    cLeo0+I+Zt0/4dwt9KeFlg==  2021-02-20  2021-03-01  2021-02-20   \n",
              "5942    RXLax1BaL57FteQH3HMBLw==  2021-10-29  2022-01-08  2021-10-29   \n",
              "6608    8+xzB2BCQ4VLh8qG+Zq31A==  2021-02-09  9999-12-31  2021-02-09   \n",
              "...                          ...         ...         ...         ...   \n",
              "458690  uzOE5TSle78c4dgqiJ8hYg==  2021-01-05  2021-03-01  2021-01-05   \n",
              "458696  UxrImoZVU0nEah53uM/NSg==  2021-01-05  2021-03-01  2021-01-05   \n",
              "459187  eKBe4k1ocBLyz6ntXQfPiQ==  2021-01-05  2021-03-01  2021-01-05   \n",
              "459195  E8hNlBjeRdD9Cr759qVghQ==  2021-01-05  2021-03-01  2021-01-05   \n",
              "459199  oYcjmcAXiY+MSWKw0iU28Q==  2021-01-05  2021-03-01  2021-01-05   \n",
              "\n",
              "          latitud   longitud         place_l2 place_l3 operation  \\\n",
              "25            NaN        NaN  Capital Federal      NaN     Venta   \n",
              "3088   -31.678900 -63.879640  Capital Federal      NaN     Venta   \n",
              "3099          NaN        NaN  Capital Federal      NaN     Venta   \n",
              "5942          NaN        NaN  Capital Federal      NaN     Venta   \n",
              "6608   -34.581285 -58.469703  Capital Federal      NaN     Venta   \n",
              "...           ...        ...              ...      ...       ...   \n",
              "458690        NaN        NaN  Capital Federal      NaN     Venta   \n",
              "458696        NaN        NaN  Capital Federal      NaN     Venta   \n",
              "459187        NaN        NaN  Capital Federal      NaN     Venta   \n",
              "459195        NaN        NaN  Capital Federal      NaN     Venta   \n",
              "459199        NaN        NaN  Capital Federal      NaN     Venta   \n",
              "\n",
              "       property_type  property_rooms  property_bedrooms  \\\n",
              "25              Casa             4.0                3.0   \n",
              "3088            Casa             5.0                4.0   \n",
              "3099            Casa             3.0                2.0   \n",
              "5942    Departamento             3.0                2.0   \n",
              "6608              PH             3.0                2.0   \n",
              "...              ...             ...                ...   \n",
              "458690          Casa             3.0                2.0   \n",
              "458696          Casa             3.0                2.0   \n",
              "459187  Departamento             2.0                1.0   \n",
              "459195  Departamento             2.0                1.0   \n",
              "459199  Departamento             3.0                2.0   \n",
              "\n",
              "        property_surface_total  property_surface_covered  property_price  \\\n",
              "25                       133.0                     171.0        210000.0   \n",
              "3088                     220.0                     220.0        230000.0   \n",
              "3099                      53.0                      69.0         54600.0   \n",
              "5942                      87.0                      87.0        117000.0   \n",
              "6608                      94.0                     198.0        268000.0   \n",
              "...                        ...                       ...             ...   \n",
              "458690                    80.0                      80.0        120000.0   \n",
              "458696                    60.0                      60.0         75000.0   \n",
              "459187                    41.0                      41.0         75000.0   \n",
              "459195                    44.0                      44.0        128000.0   \n",
              "459199                    70.0                      70.0        155000.0   \n",
              "\n",
              "       property_currency                                     property_title  \n",
              "25                   USD        VENTA CASA LLAVE EN MANO - COSTA ESMERALDA   \n",
              "3088                 USD  VENTA HERMOSA CASA 5 AMB. C/PILETA - BOCA RATÓN    \n",
              "3099                 USD  Venta Duplex 3 amb. Complejo Quimaral I - San ...  \n",
              "5942                 USD  impecable 3 Ambientes de 88 m2!!!! con 2 baños...  \n",
              "6608                 USD                                           Ph venta  \n",
              "...                  ...                                                ...  \n",
              "458690               USD               Casa a reciclar 3 Amb. en San Martin  \n",
              "458696               USD                       CASA 3 AMBIENTES CON TERRAZA  \n",
              "459187               USD        San Martín. Centro  depto 2 amb a estrenar.  \n",
              "459195               USD  San Martin Ctro. s/ San Lorenzo Impecable Dpto...  \n",
              "459199               USD  San Martin Ctro. Semipiso 3 Amb. amplios,coche...  \n",
              "\n",
              "[416 rows x 17 columns]"
            ]
          },
          "execution_count": 1681,
          "metadata": {},
          "output_type": "execute_result"
        }
      ],
      "source": [
        "df[df[\"place_l3\"].isnull()]"
      ]
    },
    {
      "cell_type": "code",
      "execution_count": 1690,
      "metadata": {},
      "outputs": [
        {
          "data": {
            "text/plain": [
              "(3502, 17)"
            ]
          },
          "execution_count": 1690,
          "metadata": {},
          "output_type": "execute_result"
        }
      ],
      "source": [
        "df[(df[\"latitud\"].isnull()) & (df[\"longitud\"].isnull()) & (df[\"place_l3\"].notnull())].shape"
      ]
    },
    {
      "cell_type": "markdown",
      "metadata": {},
      "source": [
        "Aca veo que de las 3666 filas que tienen nulos en latitud y long, 3502 tienen place_l3 no nulos, podriamos buscar el centro de cada place_l3 y colocar eso de latitud y long."
      ]
    },
    {
      "cell_type": "markdown",
      "metadata": {},
      "source": [
        "Podria buscar en property_title los barrios publicados y ubicarlos en los place_l3 faltantes, pero tranquilamente podrian haber, por intereses del vendedor/la inmboliaria viviendas que correspondan a un barrio pero estan publicados en otro, por ahora ignoraremos eso."
      ]
    },
    {
      "cell_type": "code",
      "execution_count": 1682,
      "metadata": {},
      "outputs": [],
      "source": [
        "df[\"property_title\"] = df[\"property_title\"].str.upper()"
      ]
    },
    {
      "cell_type": "code",
      "execution_count": 1683,
      "metadata": {},
      "outputs": [],
      "source": [
        "for b in barrios:\n",
        "    df.loc[(df[\"place_l3\"].isnull()) & (df[\"property_title\"].str.contains(b)), \"place_l3\"] = b"
      ]
    },
    {
      "cell_type": "code",
      "execution_count": 1684,
      "metadata": {},
      "outputs": [
        {
          "data": {
            "text/plain": [
              "id                             0\n",
              "start_date                     0\n",
              "end_date                       0\n",
              "created_on                     0\n",
              "latitud                     3666\n",
              "longitud                    3666\n",
              "place_l2                       0\n",
              "place_l3                     403\n",
              "operation                      0\n",
              "property_type                  0\n",
              "property_rooms                 0\n",
              "property_bedrooms              0\n",
              "property_surface_total         0\n",
              "property_surface_covered    3299\n",
              "property_price                 0\n",
              "property_currency              0\n",
              "property_title                 0\n",
              "dtype: int64"
            ]
          },
          "execution_count": 1684,
          "metadata": {},
          "output_type": "execute_result"
        }
      ],
      "source": [
        "df.isnull().sum()"
      ]
    },
    {
      "cell_type": "markdown",
      "metadata": {},
      "source": [
        "Como vemos es muy poca la corrección, y viendo"
      ]
    },
    {
      "cell_type": "markdown",
      "metadata": {},
      "source": [
        "## Valores atípicos"
      ]
    }
  ],
  "metadata": {
    "colab": {
      "provenance": []
    },
    "kernelspec": {
      "display_name": "Python 3",
      "name": "python3"
    },
    "language_info": {
      "codemirror_mode": {
        "name": "ipython",
        "version": 3
      },
      "file_extension": ".py",
      "mimetype": "text/x-python",
      "name": "python",
      "nbconvert_exporter": "python",
      "pygments_lexer": "ipython3",
      "version": "3.11.6"
    }
  },
  "nbformat": 4,
  "nbformat_minor": 0
}
