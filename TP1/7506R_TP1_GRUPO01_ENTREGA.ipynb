{
  "cells": [
    {
      "cell_type": "markdown",
      "source": [
        "# 0. Preparación de la notebook"
      ],
      "metadata": {
        "id": "RbN6W0pgSJYL"
      }
    },
    {
      "cell_type": "markdown",
      "source": [
        "## Dependencias"
      ],
      "metadata": {
        "id": "aTZ-7SvgSUCq"
      }
    },
    {
      "cell_type": "code",
      "execution_count": 2502,
      "metadata": {
        "id": "zP4Tu3YnFXIz"
      },
      "outputs": [],
      "source": [
        "import pandas as pd\n",
        "import seaborn as sns\n",
        "import numpy as np\n",
        "import matplotlib.pyplot as plt\n",
        "import matplotlib.ticker as ticker\n",
        "from scipy.stats import gaussian_kde\n",
        "from sklearn.model_selection import train_test_split\n",
        "from sklearn.preprocessing import MinMaxScaler\n",
        "from mpl_toolkits.mplot3d import Axes3D\n"
      ]
    },
    {
      "cell_type": "markdown",
      "source": [
        "## Constantes"
      ],
      "metadata": {
        "id": "1bDvMiRzSakH"
      }
    },
    {
      "cell_type": "code",
      "execution_count": 2503,
      "metadata": {
        "id": "7go_7Dk-lHgF"
      },
      "outputs": [],
      "source": [
        "GREEN = \"#196F3D\"\n",
        "BLUE = \"#2874A6\""
      ]
    },
    {
      "cell_type": "markdown",
      "source": [
        "## Funciones"
      ],
      "metadata": {
        "id": "TC0nKUXmyup2"
      }
    },
    {
      "cell_type": "markdown",
      "source": [
        "### Grafico de barras"
      ],
      "metadata": {
        "id": "-z8LEfGHyv25"
      }
    },
    {
      "cell_type": "code",
      "source": [
        "def plot_graph(df_to_graph, title, xlabel, ylabel):\n",
        "\n",
        "  plt.figure(figsize=(10, 6))\n",
        "  df_to_graph.plot(kind='bar')\n",
        "  plt.title(title)\n",
        "  plt.xlabel(xlabel)\n",
        "  plt.ylabel(ylabel)\n",
        "  plt.xticks(rotation=90)\n",
        "  plt.grid(axis='y', linestyle='--', alpha=0.7)\n",
        "  plt.tight_layout()\n",
        "  plt.show()"
      ],
      "metadata": {
        "id": "1Kys8PflyzA_"
      },
      "execution_count": 2504,
      "outputs": []
    },
    {
      "cell_type": "code",
      "source": [
        "def grafico_correlacion_por_categoría(colX, colY, colCualit):\n",
        "    categorias = df[colCualit].unique()\n",
        "    correlaciones = []\n",
        "\n",
        "    for categoria in categorias:\n",
        "        subset = df[df[colCualit] == categoria]\n",
        "        correlacion = subset[colX].corr(subset[colY])\n",
        "        correlaciones.append(correlacion)\n",
        "\n",
        "    plt.figure(figsize=(10, 6))\n",
        "    sns.barplot(x=categorias, y=correlaciones)\n",
        "    plt.title(f'Correlación entre {colX} y {colY} por {colCualit}')\n",
        "    plt.xlabel(colCualit)\n",
        "    plt.ylabel('Correlación')\n",
        "    plt.xticks(rotation=45)\n",
        "    plt.show()"
      ],
      "metadata": {
        "id": "9O6r0c0YA-Dp"
      },
      "execution_count": 2505,
      "outputs": []
    },
    {
      "cell_type": "code",
      "source": [
        "def grafico_porcentaje_nulls_por_fila():\n",
        "  promedio_no_nulos = df.notnull().sum(axis=1).mean()\n",
        "  promedio_nulos = df.isnull().sum(axis=1).mean()\n",
        "\n",
        "  total = promedio_no_nulos + promedio_nulos\n",
        "\n",
        "  porcentaje_no_nulos = promedio_no_nulos / total * 100\n",
        "  porcentaje_nulos = promedio_nulos / total * 100\n",
        "\n",
        "  etiquetas = ['Promedio por fila']\n",
        "  valores_no_nulos = [porcentaje_no_nulos]\n",
        "  valores_nulos = [porcentaje_nulos]\n",
        "\n",
        "  plt.figure(figsize=(8, 6))\n",
        "\n",
        "  plt.bar(etiquetas, valores_no_nulos, color='lightblue', label='Valores no nulos')\n",
        "  plt.bar(etiquetas, valores_nulos, bottom=valores_no_nulos, color='lightcoral', label='Valores nulos')\n",
        "\n",
        "  plt.title('Porcentaje promedio de valores no nulos y nulos por fila')\n",
        "  plt.xlabel('Promedio por fila')\n",
        "  plt.ylabel('Porcentaje (%)')\n",
        "  plt.legend()\n",
        "\n",
        "  plt.show()"
      ],
      "metadata": {
        "id": "dStw-cIRKJ2S"
      },
      "execution_count": 2506,
      "outputs": []
    },
    {
      "cell_type": "code",
      "source": [
        "def graficar_correlaciones_superficie_por_tipo_de_propiedad():\n",
        "  df_departamentos = df[df['property_type'] == 'Departamento']\n",
        "\n",
        "  correlation_by_place_l3 = df_departamentos.groupby('place_l3').apply(lambda x: x['property_surface_covered'].corr(x['property_surface_total']))\n",
        "\n",
        "  plt.figure(figsize=(12, 6))\n",
        "  sns.barplot(x=correlation_by_place_l3.index, y=correlation_by_place_l3.values, color='blue')\n",
        "  plt.title('Correlación entre superficie cubierta y superficie total por place_l3 (Departamentos)')\n",
        "  plt.xlabel('place_l3')\n",
        "  plt.ylabel('Correlación')\n",
        "  plt.xticks(rotation=45)\n",
        "  plt.tight_layout()\n",
        "  plt.show()"
      ],
      "metadata": {
        "id": "q2BrA_lEZKHA"
      },
      "execution_count": 2507,
      "outputs": []
    },
    {
      "cell_type": "code",
      "source": [
        "def graficar_correlaciones_superficie_por_place_l3():\n",
        "  muestras_por_place_l3 = df_departamentos.groupby('place_l3').size()\n",
        "\n",
        "  plt.figure(figsize=(12, 6))\n",
        "  sns.barplot(x=muestras_por_place_l3.index, y=muestras_por_place_l3.values, color='green')\n",
        "  plt.title('Cantidad de muestras por place_l3 (Departamentos)')\n",
        "  plt.xlabel('place_l3')\n",
        "  plt.ylabel('Cantidad de muestras')\n",
        "  plt.xticks(rotation=45)\n",
        "  plt.tight_layout()\n",
        "  plt.show()"
      ],
      "metadata": {
        "id": "1cVhMUsaZNNY"
      },
      "execution_count": 2508,
      "outputs": []
    },
    {
      "cell_type": "markdown",
      "source": [
        "### Torta"
      ],
      "metadata": {
        "id": "_qiyTWDbWM-b"
      }
    },
    {
      "cell_type": "code",
      "source": [
        "def grafico_pie_correlacion_por_tipo_y_barrio():\n",
        "\n",
        "  # Obtengo correlación entre la superficie total y cubierta para cada tipo de propiedad\n",
        "  correlation_by_type = df.groupby('property_type').apply(lambda x: x['property_surface_total'].corr(x['property_surface_covered']))\n",
        "\n",
        "  correlation_by_place_l3 = df_departamentos.groupby('place_l3').apply(lambda x: x['property_surface_covered'].corr(x['property_surface_total']))\n",
        "\n",
        "  correlation_by_place_l3_sorted = correlation_by_place_l3.sort_values(ascending=False)\n",
        "\n",
        "  total_values = len(correlation_by_place_l3)\n",
        "\n",
        "  # Calcular los porcentajes\n",
        "  percent_nan = (correlation_by_place_l3.isnull().sum() / total_values) * 100\n",
        "  percent_08 = (np.sum(correlation_by_place_l3[correlation_by_place_l3 >= 0.8]) / total_values) * 100\n",
        "  percent_lt_09 = (np.sum(correlation_by_place_l3[(correlation_by_place_l3 >= 0) & (correlation_by_place_l3 < 0.8)]) / total_values) * 100\n",
        "\n",
        "  # Etiquetas y valores para el gráfico\n",
        "  labels = ['NaN', '>= 0.8', '< 0.8']\n",
        "  percentages = [percent_nan, percent_08, percent_lt_09]\n",
        "\n",
        "  # Graficar\n",
        "  plt.pie(percentages, labels=labels, autopct='%1.1f%%', colors=['blue', 'green', 'orange'])\n",
        "  plt.title('Porcentaje de valores en la correlación entre superficie cubierta y total para departamentos')\n",
        "  plt.show()"
      ],
      "metadata": {
        "id": "gAizy1LyWPpj"
      },
      "execution_count": 2509,
      "outputs": []
    },
    {
      "cell_type": "markdown",
      "source": [
        "### Distribuciones"
      ],
      "metadata": {
        "id": "zO4PfaW80mjH"
      }
    },
    {
      "cell_type": "code",
      "source": [
        "def mostrar_distros_cuantitativas(columna):\n",
        "    plt.figure(figsize=(10, 6))\n",
        "    sns.countplot(data=df, x=columna)\n",
        "    plt.title(f\"Cantidad de muestras por {columna}\")\n",
        "    plt.xlabel(columna)\n",
        "    plt.ylabel(\"Cantidad de muestras\")\n",
        "    plt.xticks(rotation=45)\n",
        "    plt.show()"
      ],
      "metadata": {
        "id": "sPs3_hu40poK"
      },
      "execution_count": 2510,
      "outputs": []
    },
    {
      "cell_type": "code",
      "source": [
        "def mostrar_distros_cuantitativas_continuas(columna):\n",
        "    plt.figure(figsize=(10, 6))\n",
        "    sns.histplot(data=df, x=columna, bins=40)\n",
        "    plt.title(f\"Cantidad de muestras por {columna}\")\n",
        "    plt.xlabel(columna)\n",
        "    plt.ylabel(\"Cantidad de muestras\")\n",
        "    plt.xticks(rotation=45)\n",
        "    plt.show()"
      ],
      "metadata": {
        "id": "aNHUWPX3CDUH"
      },
      "execution_count": 2511,
      "outputs": []
    },
    {
      "cell_type": "code",
      "source": [
        "def mostrar_distros_cualitativas(columna):\n",
        "    fig, axes = plt.subplots(nrows=1, ncols=2, figsize=(12, 6))\n",
        "\n",
        "    axes[0].hist(_df[columna], bins=30, color='blue', alpha=0.7)\n",
        "    axes[0].set_xlabel(\"Valores\")\n",
        "    axes[0].set_ylabel(\"Frecuencia\")\n",
        "    axes[0].set_title(\"Histograma\")\n",
        "\n",
        "    sns.boxplot(data=_df[columna], ax=axes[1], color='green')\n",
        "    axes[1].set_ylabel(\"Valores\")\n",
        "    axes[1].set_title(\"Boxplot\")\n",
        "\n",
        "    fig.suptitle(f\"Distribución de {columna}\")\n",
        "    plt.tight_layout()\n",
        "    plt.show()"
      ],
      "metadata": {
        "id": "w8CaSi29737j"
      },
      "execution_count": 2512,
      "outputs": []
    },
    {
      "cell_type": "markdown",
      "source": [
        "### Dispersión"
      ],
      "metadata": {
        "id": "bIKjNc044xGj"
      }
    },
    {
      "cell_type": "code",
      "source": [
        "def mostrar_dispersion(colX, colY):\n",
        "  plt.scatter(df[colX], df[colY])\n",
        "  plt.xlabel(colX)\n",
        "  plt.ylabel(colY)\n",
        "  plt.title(f\"Dispersión entre {colX} y {colY}\")\n",
        "  plt.show()"
      ],
      "metadata": {
        "id": "EPC0vZJD40jp"
      },
      "execution_count": 2513,
      "outputs": []
    },
    {
      "cell_type": "code",
      "source": [
        "def mostrar_dispersion_3d(colX,colY,colZ):\n",
        "    fig = plt.figure(figsize=(10, 8))\n",
        "    ax = fig.add_subplot(111, projection=\"3d\")\n",
        "\n",
        "    _colX = df[colX]\n",
        "    _colY = df[colY]\n",
        "    _colZ = df[colZ]\n",
        "\n",
        "    ax.scatter(_colX, _colY, _colZ, c=\"blue\", marker=\"o\")\n",
        "\n",
        "    ax.set_xlabel(colX)\n",
        "    ax.set_ylabel(colY)\n",
        "    ax.set_zlabel(colZ)\n",
        "\n",
        "    ax.set_title(f\"Dispersión 3D de {colX}, {colY} y {colZ}\")\n",
        "\n",
        "    plt.show()"
      ],
      "metadata": {
        "id": "dSYj1z8V6UsL"
      },
      "execution_count": 2514,
      "outputs": []
    },
    {
      "cell_type": "code",
      "source": [
        "def grafico_dispersión_aproximación_lineal(colX, colY):\n",
        "    x = df[colX]\n",
        "    y = df[colY]\n",
        "\n",
        "    coeficientes = np.polyfit(x, y, 1)\n",
        "    polinomio = np.poly1d(coeficientes)\n",
        "\n",
        "    plt.figure(figsize=(10, 6))\n",
        "    plt.scatter(x, y, color=\"blue\", label=\"Datos\")\n",
        "    plt.plot(x, polinomio(x), color=\"red\", label=\"Aproximación lineal\")\n",
        "    plt.title(f\"Aproximación lineal de {colX} y {colY}\")\n",
        "    plt.xlabel(colX)\n",
        "    plt.ylabel(colY)\n",
        "    plt.legend()\n",
        "    plt.grid(True)\n",
        "    plt.show()"
      ],
      "metadata": {
        "id": "_oPgUiBx96Lb"
      },
      "execution_count": 2515,
      "outputs": []
    },
    {
      "cell_type": "markdown",
      "source": [
        "### Heatmap"
      ],
      "metadata": {
        "id": "GE_wixxq8ldB"
      }
    },
    {
      "cell_type": "code",
      "source": [
        "def graficar_heatmap(colsArr):\n",
        "  plt.figure(figsize=(6, 4))\n",
        "  ax = sns.heatmap(df[colsArr].corr(), annot=True)\n",
        "  ax.set_title(\"Índice de correlación\")\n",
        "  plt.show()"
      ],
      "metadata": {
        "id": "2znq-QwA8n2I"
      },
      "execution_count": 2516,
      "outputs": []
    },
    {
      "cell_type": "markdown",
      "source": [
        "## Lectura de datos"
      ],
      "metadata": {
        "id": "g1ffNvngSd2r"
      }
    },
    {
      "cell_type": "code",
      "execution_count": 2517,
      "metadata": {
        "id": "6mIswkI5FSCZ"
      },
      "outputs": [],
      "source": [
        "path_df = \"properati_argentina_2021.csv\""
      ]
    },
    {
      "cell_type": "code",
      "execution_count": 2518,
      "metadata": {
        "id": "b3AyxM9HFlNT"
      },
      "outputs": [],
      "source": [
        "df_raw = pd.read_csv(path_df)"
      ]
    },
    {
      "cell_type": "markdown",
      "source": [
        "# 1. Análisis exploratorio y preprocesamiento de datos"
      ],
      "metadata": {
        "id": "LhLBGctfSmMn"
      }
    },
    {
      "cell_type": "markdown",
      "source": [
        "## Preparación del dataframe"
      ],
      "metadata": {
        "id": "W4WxBOb3W62g"
      }
    },
    {
      "cell_type": "markdown",
      "source": [
        "### Vistazo inicial en crudo"
      ],
      "metadata": {
        "id": "lXne6kRbSqQ1"
      }
    },
    {
      "cell_type": "code",
      "execution_count": 2519,
      "metadata": {
        "colab": {
          "base_uri": "https://localhost:8080/"
        },
        "id": "3Wyoi7NRF8VK",
        "outputId": "25ce9ea7-f295-4977-8d50-f0d00f8c19b0"
      },
      "outputs": [
        {
          "output_type": "execute_result",
          "data": {
            "text/plain": [
              "(460154, 20)"
            ]
          },
          "metadata": {},
          "execution_count": 2519
        }
      ],
      "source": [
        "df_raw.shape"
      ]
    },
    {
      "cell_type": "code",
      "execution_count": 2520,
      "metadata": {
        "colab": {
          "base_uri": "https://localhost:8080/"
        },
        "id": "inY6ob_yF1nS",
        "outputId": "7c5d3a51-870a-4944-fcd1-f6eae0ce94c7"
      },
      "outputs": [
        {
          "output_type": "stream",
          "name": "stdout",
          "text": [
            "<class 'pandas.core.frame.DataFrame'>\n",
            "RangeIndex: 460154 entries, 0 to 460153\n",
            "Data columns (total 20 columns):\n",
            " #   Column                    Non-Null Count   Dtype  \n",
            "---  ------                    --------------   -----  \n",
            " 0   id                        460154 non-null  object \n",
            " 1   start_date                460154 non-null  object \n",
            " 2   end_date                  460154 non-null  object \n",
            " 3   created_on                460154 non-null  object \n",
            " 4   latitud                   419740 non-null  float64\n",
            " 5   longitud                  419740 non-null  float64\n",
            " 6   place_l2                  460154 non-null  object \n",
            " 7   place_l3                  437665 non-null  object \n",
            " 8   place_l4                  139020 non-null  object \n",
            " 9   place_l5                  2430 non-null    object \n",
            " 10  place_l6                  0 non-null       float64\n",
            " 11  operation                 460154 non-null  object \n",
            " 12  property_type             460154 non-null  object \n",
            " 13  property_rooms            368498 non-null  float64\n",
            " 14  property_bedrooms         344113 non-null  float64\n",
            " 15  property_surface_total    397813 non-null  float64\n",
            " 16  property_surface_covered  427916 non-null  float64\n",
            " 17  property_price            442153 non-null  float64\n",
            " 18  property_currency         441590 non-null  object \n",
            " 19  property_title            460154 non-null  object \n",
            "dtypes: float64(8), object(12)\n",
            "memory usage: 70.2+ MB\n"
          ]
        }
      ],
      "source": [
        "df_raw.info()"
      ]
    },
    {
      "cell_type": "code",
      "execution_count": 2521,
      "metadata": {
        "colab": {
          "base_uri": "https://localhost:8080/",
          "height": 0
        },
        "id": "j6-UhsXKF2yK",
        "outputId": "6f90817b-1cea-41ce-fe63-31460f84d279"
      },
      "outputs": [
        {
          "output_type": "execute_result",
          "data": {
            "text/plain": [
              "                         id  start_date    end_date  created_on    latitud  \\\n",
              "0  XZq2dFGxBiboHY3Bo/tqlw==  2021-09-09  2022-01-27  2021-09-09 -38.957632   \n",
              "1  8afoK+yMH/rnnlYiktwgNA==  2021-09-09  2021-10-23  2021-09-09 -34.888878   \n",
              "2  iVaG5rBB47dd1Ya4BMXREA==  2021-09-09  2022-03-09  2021-09-09 -32.488717   \n",
              "\n",
              "    longitud    place_l2 place_l3 place_l4 place_l5  place_l6 operation  \\\n",
              "0 -68.105443     Neuquén      NaN      NaN      NaN       NaN     Venta   \n",
              "1 -56.092368  Montevideo      NaN      NaN      NaN       NaN     Venta   \n",
              "2 -58.257499  Entre Ríos      NaN      NaN      NaN       NaN     Venta   \n",
              "\n",
              "  property_type  property_rooms  property_bedrooms  property_surface_total  \\\n",
              "0          Casa             6.0                NaN                     NaN   \n",
              "1          Casa             4.0                3.0                   193.0   \n",
              "2          Casa             NaN                NaN                   110.0   \n",
              "\n",
              "   property_surface_covered  property_price property_currency  property_title  \n",
              "0                     206.0             NaN               NaN  Casa - Capital  \n",
              "1                     193.0        390000.0               USD   Casa - Malvín  \n",
              "2                      45.0         47000.0               USD  Casa - Uruguay  "
            ],
            "text/html": [
              "\n",
              "  <div id=\"df-47b1df28-77ed-44b7-8fd9-b0ea2b2acd1e\" class=\"colab-df-container\">\n",
              "    <div>\n",
              "<style scoped>\n",
              "    .dataframe tbody tr th:only-of-type {\n",
              "        vertical-align: middle;\n",
              "    }\n",
              "\n",
              "    .dataframe tbody tr th {\n",
              "        vertical-align: top;\n",
              "    }\n",
              "\n",
              "    .dataframe thead th {\n",
              "        text-align: right;\n",
              "    }\n",
              "</style>\n",
              "<table border=\"1\" class=\"dataframe\">\n",
              "  <thead>\n",
              "    <tr style=\"text-align: right;\">\n",
              "      <th></th>\n",
              "      <th>id</th>\n",
              "      <th>start_date</th>\n",
              "      <th>end_date</th>\n",
              "      <th>created_on</th>\n",
              "      <th>latitud</th>\n",
              "      <th>longitud</th>\n",
              "      <th>place_l2</th>\n",
              "      <th>place_l3</th>\n",
              "      <th>place_l4</th>\n",
              "      <th>place_l5</th>\n",
              "      <th>place_l6</th>\n",
              "      <th>operation</th>\n",
              "      <th>property_type</th>\n",
              "      <th>property_rooms</th>\n",
              "      <th>property_bedrooms</th>\n",
              "      <th>property_surface_total</th>\n",
              "      <th>property_surface_covered</th>\n",
              "      <th>property_price</th>\n",
              "      <th>property_currency</th>\n",
              "      <th>property_title</th>\n",
              "    </tr>\n",
              "  </thead>\n",
              "  <tbody>\n",
              "    <tr>\n",
              "      <th>0</th>\n",
              "      <td>XZq2dFGxBiboHY3Bo/tqlw==</td>\n",
              "      <td>2021-09-09</td>\n",
              "      <td>2022-01-27</td>\n",
              "      <td>2021-09-09</td>\n",
              "      <td>-38.957632</td>\n",
              "      <td>-68.105443</td>\n",
              "      <td>Neuquén</td>\n",
              "      <td>NaN</td>\n",
              "      <td>NaN</td>\n",
              "      <td>NaN</td>\n",
              "      <td>NaN</td>\n",
              "      <td>Venta</td>\n",
              "      <td>Casa</td>\n",
              "      <td>6.0</td>\n",
              "      <td>NaN</td>\n",
              "      <td>NaN</td>\n",
              "      <td>206.0</td>\n",
              "      <td>NaN</td>\n",
              "      <td>NaN</td>\n",
              "      <td>Casa - Capital</td>\n",
              "    </tr>\n",
              "    <tr>\n",
              "      <th>1</th>\n",
              "      <td>8afoK+yMH/rnnlYiktwgNA==</td>\n",
              "      <td>2021-09-09</td>\n",
              "      <td>2021-10-23</td>\n",
              "      <td>2021-09-09</td>\n",
              "      <td>-34.888878</td>\n",
              "      <td>-56.092368</td>\n",
              "      <td>Montevideo</td>\n",
              "      <td>NaN</td>\n",
              "      <td>NaN</td>\n",
              "      <td>NaN</td>\n",
              "      <td>NaN</td>\n",
              "      <td>Venta</td>\n",
              "      <td>Casa</td>\n",
              "      <td>4.0</td>\n",
              "      <td>3.0</td>\n",
              "      <td>193.0</td>\n",
              "      <td>193.0</td>\n",
              "      <td>390000.0</td>\n",
              "      <td>USD</td>\n",
              "      <td>Casa - Malvín</td>\n",
              "    </tr>\n",
              "    <tr>\n",
              "      <th>2</th>\n",
              "      <td>iVaG5rBB47dd1Ya4BMXREA==</td>\n",
              "      <td>2021-09-09</td>\n",
              "      <td>2022-03-09</td>\n",
              "      <td>2021-09-09</td>\n",
              "      <td>-32.488717</td>\n",
              "      <td>-58.257499</td>\n",
              "      <td>Entre Ríos</td>\n",
              "      <td>NaN</td>\n",
              "      <td>NaN</td>\n",
              "      <td>NaN</td>\n",
              "      <td>NaN</td>\n",
              "      <td>Venta</td>\n",
              "      <td>Casa</td>\n",
              "      <td>NaN</td>\n",
              "      <td>NaN</td>\n",
              "      <td>110.0</td>\n",
              "      <td>45.0</td>\n",
              "      <td>47000.0</td>\n",
              "      <td>USD</td>\n",
              "      <td>Casa - Uruguay</td>\n",
              "    </tr>\n",
              "  </tbody>\n",
              "</table>\n",
              "</div>\n",
              "    <div class=\"colab-df-buttons\">\n",
              "\n",
              "  <div class=\"colab-df-container\">\n",
              "    <button class=\"colab-df-convert\" onclick=\"convertToInteractive('df-47b1df28-77ed-44b7-8fd9-b0ea2b2acd1e')\"\n",
              "            title=\"Convert this dataframe to an interactive table.\"\n",
              "            style=\"display:none;\">\n",
              "\n",
              "  <svg xmlns=\"http://www.w3.org/2000/svg\" height=\"24px\" viewBox=\"0 -960 960 960\">\n",
              "    <path d=\"M120-120v-720h720v720H120Zm60-500h600v-160H180v160Zm220 220h160v-160H400v160Zm0 220h160v-160H400v160ZM180-400h160v-160H180v160Zm440 0h160v-160H620v160ZM180-180h160v-160H180v160Zm440 0h160v-160H620v160Z\"/>\n",
              "  </svg>\n",
              "    </button>\n",
              "\n",
              "  <style>\n",
              "    .colab-df-container {\n",
              "      display:flex;\n",
              "      gap: 12px;\n",
              "    }\n",
              "\n",
              "    .colab-df-convert {\n",
              "      background-color: #E8F0FE;\n",
              "      border: none;\n",
              "      border-radius: 50%;\n",
              "      cursor: pointer;\n",
              "      display: none;\n",
              "      fill: #1967D2;\n",
              "      height: 32px;\n",
              "      padding: 0 0 0 0;\n",
              "      width: 32px;\n",
              "    }\n",
              "\n",
              "    .colab-df-convert:hover {\n",
              "      background-color: #E2EBFA;\n",
              "      box-shadow: 0px 1px 2px rgba(60, 64, 67, 0.3), 0px 1px 3px 1px rgba(60, 64, 67, 0.15);\n",
              "      fill: #174EA6;\n",
              "    }\n",
              "\n",
              "    .colab-df-buttons div {\n",
              "      margin-bottom: 4px;\n",
              "    }\n",
              "\n",
              "    [theme=dark] .colab-df-convert {\n",
              "      background-color: #3B4455;\n",
              "      fill: #D2E3FC;\n",
              "    }\n",
              "\n",
              "    [theme=dark] .colab-df-convert:hover {\n",
              "      background-color: #434B5C;\n",
              "      box-shadow: 0px 1px 3px 1px rgba(0, 0, 0, 0.15);\n",
              "      filter: drop-shadow(0px 1px 2px rgba(0, 0, 0, 0.3));\n",
              "      fill: #FFFFFF;\n",
              "    }\n",
              "  </style>\n",
              "\n",
              "    <script>\n",
              "      const buttonEl =\n",
              "        document.querySelector('#df-47b1df28-77ed-44b7-8fd9-b0ea2b2acd1e button.colab-df-convert');\n",
              "      buttonEl.style.display =\n",
              "        google.colab.kernel.accessAllowed ? 'block' : 'none';\n",
              "\n",
              "      async function convertToInteractive(key) {\n",
              "        const element = document.querySelector('#df-47b1df28-77ed-44b7-8fd9-b0ea2b2acd1e');\n",
              "        const dataTable =\n",
              "          await google.colab.kernel.invokeFunction('convertToInteractive',\n",
              "                                                    [key], {});\n",
              "        if (!dataTable) return;\n",
              "\n",
              "        const docLinkHtml = 'Like what you see? Visit the ' +\n",
              "          '<a target=\"_blank\" href=https://colab.research.google.com/notebooks/data_table.ipynb>data table notebook</a>'\n",
              "          + ' to learn more about interactive tables.';\n",
              "        element.innerHTML = '';\n",
              "        dataTable['output_type'] = 'display_data';\n",
              "        await google.colab.output.renderOutput(dataTable, element);\n",
              "        const docLink = document.createElement('div');\n",
              "        docLink.innerHTML = docLinkHtml;\n",
              "        element.appendChild(docLink);\n",
              "      }\n",
              "    </script>\n",
              "  </div>\n",
              "\n",
              "\n",
              "<div id=\"df-d645c405-62d0-49c1-803d-6597a37bb0dc\">\n",
              "  <button class=\"colab-df-quickchart\" onclick=\"quickchart('df-d645c405-62d0-49c1-803d-6597a37bb0dc')\"\n",
              "            title=\"Suggest charts\"\n",
              "            style=\"display:none;\">\n",
              "\n",
              "<svg xmlns=\"http://www.w3.org/2000/svg\" height=\"24px\"viewBox=\"0 0 24 24\"\n",
              "     width=\"24px\">\n",
              "    <g>\n",
              "        <path d=\"M19 3H5c-1.1 0-2 .9-2 2v14c0 1.1.9 2 2 2h14c1.1 0 2-.9 2-2V5c0-1.1-.9-2-2-2zM9 17H7v-7h2v7zm4 0h-2V7h2v10zm4 0h-2v-4h2v4z\"/>\n",
              "    </g>\n",
              "</svg>\n",
              "  </button>\n",
              "\n",
              "<style>\n",
              "  .colab-df-quickchart {\n",
              "      --bg-color: #E8F0FE;\n",
              "      --fill-color: #1967D2;\n",
              "      --hover-bg-color: #E2EBFA;\n",
              "      --hover-fill-color: #174EA6;\n",
              "      --disabled-fill-color: #AAA;\n",
              "      --disabled-bg-color: #DDD;\n",
              "  }\n",
              "\n",
              "  [theme=dark] .colab-df-quickchart {\n",
              "      --bg-color: #3B4455;\n",
              "      --fill-color: #D2E3FC;\n",
              "      --hover-bg-color: #434B5C;\n",
              "      --hover-fill-color: #FFFFFF;\n",
              "      --disabled-bg-color: #3B4455;\n",
              "      --disabled-fill-color: #666;\n",
              "  }\n",
              "\n",
              "  .colab-df-quickchart {\n",
              "    background-color: var(--bg-color);\n",
              "    border: none;\n",
              "    border-radius: 50%;\n",
              "    cursor: pointer;\n",
              "    display: none;\n",
              "    fill: var(--fill-color);\n",
              "    height: 32px;\n",
              "    padding: 0;\n",
              "    width: 32px;\n",
              "  }\n",
              "\n",
              "  .colab-df-quickchart:hover {\n",
              "    background-color: var(--hover-bg-color);\n",
              "    box-shadow: 0 1px 2px rgba(60, 64, 67, 0.3), 0 1px 3px 1px rgba(60, 64, 67, 0.15);\n",
              "    fill: var(--button-hover-fill-color);\n",
              "  }\n",
              "\n",
              "  .colab-df-quickchart-complete:disabled,\n",
              "  .colab-df-quickchart-complete:disabled:hover {\n",
              "    background-color: var(--disabled-bg-color);\n",
              "    fill: var(--disabled-fill-color);\n",
              "    box-shadow: none;\n",
              "  }\n",
              "\n",
              "  .colab-df-spinner {\n",
              "    border: 2px solid var(--fill-color);\n",
              "    border-color: transparent;\n",
              "    border-bottom-color: var(--fill-color);\n",
              "    animation:\n",
              "      spin 1s steps(1) infinite;\n",
              "  }\n",
              "\n",
              "  @keyframes spin {\n",
              "    0% {\n",
              "      border-color: transparent;\n",
              "      border-bottom-color: var(--fill-color);\n",
              "      border-left-color: var(--fill-color);\n",
              "    }\n",
              "    20% {\n",
              "      border-color: transparent;\n",
              "      border-left-color: var(--fill-color);\n",
              "      border-top-color: var(--fill-color);\n",
              "    }\n",
              "    30% {\n",
              "      border-color: transparent;\n",
              "      border-left-color: var(--fill-color);\n",
              "      border-top-color: var(--fill-color);\n",
              "      border-right-color: var(--fill-color);\n",
              "    }\n",
              "    40% {\n",
              "      border-color: transparent;\n",
              "      border-right-color: var(--fill-color);\n",
              "      border-top-color: var(--fill-color);\n",
              "    }\n",
              "    60% {\n",
              "      border-color: transparent;\n",
              "      border-right-color: var(--fill-color);\n",
              "    }\n",
              "    80% {\n",
              "      border-color: transparent;\n",
              "      border-right-color: var(--fill-color);\n",
              "      border-bottom-color: var(--fill-color);\n",
              "    }\n",
              "    90% {\n",
              "      border-color: transparent;\n",
              "      border-bottom-color: var(--fill-color);\n",
              "    }\n",
              "  }\n",
              "</style>\n",
              "\n",
              "  <script>\n",
              "    async function quickchart(key) {\n",
              "      const quickchartButtonEl =\n",
              "        document.querySelector('#' + key + ' button');\n",
              "      quickchartButtonEl.disabled = true;  // To prevent multiple clicks.\n",
              "      quickchartButtonEl.classList.add('colab-df-spinner');\n",
              "      try {\n",
              "        const charts = await google.colab.kernel.invokeFunction(\n",
              "            'suggestCharts', [key], {});\n",
              "      } catch (error) {\n",
              "        console.error('Error during call to suggestCharts:', error);\n",
              "      }\n",
              "      quickchartButtonEl.classList.remove('colab-df-spinner');\n",
              "      quickchartButtonEl.classList.add('colab-df-quickchart-complete');\n",
              "    }\n",
              "    (() => {\n",
              "      let quickchartButtonEl =\n",
              "        document.querySelector('#df-d645c405-62d0-49c1-803d-6597a37bb0dc button');\n",
              "      quickchartButtonEl.style.display =\n",
              "        google.colab.kernel.accessAllowed ? 'block' : 'none';\n",
              "    })();\n",
              "  </script>\n",
              "</div>\n",
              "    </div>\n",
              "  </div>\n"
            ],
            "application/vnd.google.colaboratory.intrinsic+json": {
              "type": "dataframe",
              "variable_name": "df_raw"
            }
          },
          "metadata": {},
          "execution_count": 2521
        }
      ],
      "source": [
        "df_raw.head(3)"
      ]
    },
    {
      "cell_type": "markdown",
      "source": [
        "### Filtrado\n",
        "\n",
        "Vamos a analizar una parte de la información leida. Antes de realizar el filtrado indicado analizamos el contenido de las columnas involucradas en la selección de datos para prevenir errores filtrando.\n",
        "\n",
        "Por ejemplo, si queremos filtrar publicaciones en dolares, cabría la posibilidad de que la columna `property_currency` tenga distintas formas de expresar el mismo valor. `USD`, `usd`, `Dolar estadounidense`, etc."
      ],
      "metadata": {
        "id": "fbaVSDliSwqL"
      }
    },
    {
      "cell_type": "markdown",
      "source": [
        "#### Visualización de valores de las columnas a filtrar"
      ],
      "metadata": {
        "id": "RFtxfBGsbbnj"
      }
    },
    {
      "cell_type": "code",
      "source": [
        "df_raw[\"operation\"].value_counts()"
      ],
      "metadata": {
        "colab": {
          "base_uri": "https://localhost:8080/"
        },
        "id": "PwaUrCmgZ_Qj",
        "outputId": "a6d50e36-c009-4084-cb84-09573d2facbd"
      },
      "execution_count": 2522,
      "outputs": [
        {
          "output_type": "execute_result",
          "data": {
            "text/plain": [
              "operation\n",
              "Venta                337874\n",
              "Alquiler              98900\n",
              "Alquiler temporal     23380\n",
              "Name: count, dtype: int64"
            ]
          },
          "metadata": {},
          "execution_count": 2522
        }
      ]
    },
    {
      "cell_type": "code",
      "source": [
        "df_raw[\"property_type\"].value_counts()"
      ],
      "metadata": {
        "colab": {
          "base_uri": "https://localhost:8080/"
        },
        "id": "tKX0rK6mZ_F9",
        "outputId": "464ac16d-cca8-43d5-97fb-4c39d82c2ba8"
      },
      "execution_count": 2523,
      "outputs": [
        {
          "output_type": "execute_result",
          "data": {
            "text/plain": [
              "property_type\n",
              "Departamento       231358\n",
              "Casa               120768\n",
              "Lote                28748\n",
              "PH                  25910\n",
              "Local comercial     20546\n",
              "Oficina             16085\n",
              "Otro                 7713\n",
              "Cochera              4111\n",
              "Depósito             4050\n",
              "Casa de campo         865\n",
              "Name: count, dtype: int64"
            ]
          },
          "metadata": {},
          "execution_count": 2523
        }
      ]
    },
    {
      "cell_type": "code",
      "source": [
        "df_raw[\"property_currency\"].value_counts()"
      ],
      "metadata": {
        "colab": {
          "base_uri": "https://localhost:8080/"
        },
        "id": "DlFrUPh8Z-tH",
        "outputId": "c396d4b0-e84e-4ca0-c20e-755416677fc2"
      },
      "execution_count": 2524,
      "outputs": [
        {
          "output_type": "execute_result",
          "data": {
            "text/plain": [
              "property_currency\n",
              "USD    349104\n",
              "ARS     88869\n",
              "UYU      3506\n",
              "PEN        99\n",
              "COP        12\n",
              "Name: count, dtype: int64"
            ]
          },
          "metadata": {},
          "execution_count": 2524
        }
      ]
    },
    {
      "cell_type": "code",
      "source": [
        "df_raw[\"place_l2\"].value_counts()"
      ],
      "metadata": {
        "colab": {
          "base_uri": "https://localhost:8080/"
        },
        "id": "gsF9ol7jbaDl",
        "outputId": "fbfd237a-1333-4a35-b173-2d5b50940c6b"
      },
      "execution_count": 2525,
      "outputs": [
        {
          "output_type": "execute_result",
          "data": {
            "text/plain": [
              "place_l2\n",
              "Capital Federal                 157563\n",
              "Bs.As. G.B.A. Zona Norte         89693\n",
              "Santa Fe                         47861\n",
              "Bs.As. G.B.A. Zona Sur           47754\n",
              "Bs.As. G.B.A. Zona Oeste         28352\n",
              "Córdoba                          22528\n",
              "Buenos Aires Costa Atlántica     12457\n",
              "Neuquén                           8788\n",
              "Montevideo                        7494\n",
              "Buenos Aires Interior             6274\n",
              "Maldonado                         5540\n",
              "Mendoza                           5395\n",
              "Río Negro                         5280\n",
              "Tucumán                           3571\n",
              "Colonia                           2535\n",
              "Salta                             1537\n",
              "Entre Ríos                        1216\n",
              "San Juan                           997\n",
              "La Pampa                           783\n",
              "Canelones                          744\n",
              "Chubut                             701\n",
              "San Luis                           677\n",
              "Misiones                           529\n",
              "Florida                            411\n",
              "Jujuy                              406\n",
              "Corrientes                         297\n",
              "Michigan                           251\n",
              "Chaco                              208\n",
              "Rocha                               85\n",
              "Tierra Del Fuego                    75\n",
              "Santiago Del Estero                 59\n",
              "Santa Catarina                      35\n",
              "Santa Cruz                          16\n",
              "Rio Grande do Norte                  9\n",
              "Maryland                             8\n",
              "Catamarca                            7\n",
              "Miami                                4\n",
              "La Rioja                             4\n",
              "Rio de Janeiro                       3\n",
              "Pennsylvania                         3\n",
              "Formosa                              2\n",
              "São Paulo                            1\n",
              "California                           1\n",
              "Name: count, dtype: int64"
            ]
          },
          "metadata": {},
          "execution_count": 2525
        }
      ]
    },
    {
      "cell_type": "markdown",
      "source": [
        "Viendo que los criterios de filtro no tienen variantes, realizamos el filtrado.\n",
        "Como observación a tener en cuenta, el tipo de propiedades \"Otro\" podría llegar a tener información útil y con esta podríamos ampliar el dataframe obtenido.\n",
        "Un ejemplo podría ser una \"Casa de veraneo\" que sea clasificada como  `Otro` en lugar de como `Casa`."
      ],
      "metadata": {
        "id": "ILcNwAb1aTTN"
      }
    },
    {
      "cell_type": "markdown",
      "source": [
        "#### Filtrado"
      ],
      "metadata": {
        "id": "deHt381YbmpN"
      }
    },
    {
      "cell_type": "code",
      "execution_count": 2526,
      "metadata": {
        "id": "cbEvcMFPpWFH"
      },
      "outputs": [],
      "source": [
        "tipos_propiedades = [\"Departamento\", \"Casa\", \"PH\"]\n",
        "\n",
        "df_raw = df_raw[(df_raw[\"property_currency\"] == \"USD\") & (df_raw[\"operation\"] == \"Venta\") & (df_raw[\"property_type\"].isin(tipos_propiedades)) &\n",
        "        (df_raw[\"place_l2\"] == \"Capital Federal\")]\n",
        "\n"
      ]
    },
    {
      "cell_type": "markdown",
      "source": [
        "### División en dataframes de entrenamiento y prueba"
      ],
      "metadata": {
        "id": "VJnSWDX2TXgw"
      }
    },
    {
      "cell_type": "markdown",
      "source": [
        "Separamos el dataframe en prueba y entrenamiento"
      ],
      "metadata": {
        "id": "_AQOrilya6uc"
      }
    },
    {
      "cell_type": "code",
      "source": [
        "# Variando la seed se modifican los df de prueba y de entrenamiento. La idea es que quede fija.\n",
        "seed = 123\n",
        "\n",
        "_df, df_test = train_test_split(df_raw, test_size=0.2, random_state=seed)\n",
        "\n",
        "df = _df # creo esta copia para luego poder comparar las distros antes y despues de imputar datos.\n",
        "\n",
        "print(df_raw.shape)\n",
        "print(_df.shape)\n",
        "print(df_test.shape)"
      ],
      "metadata": {
        "colab": {
          "base_uri": "https://localhost:8080/"
        },
        "id": "m7fFnWWZTWAD",
        "outputId": "3578dd70-441b-48c4-e822-d0ae8e712b96"
      },
      "execution_count": 2527,
      "outputs": [
        {
          "output_type": "stream",
          "name": "stdout",
          "text": [
            "(94249, 20)\n",
            "(75399, 20)\n",
            "(18850, 20)\n"
          ]
        }
      ]
    },
    {
      "cell_type": "markdown",
      "source": [
        "## A. Exploración inicial"
      ],
      "metadata": {
        "id": "4orGuDpOW33H"
      }
    },
    {
      "cell_type": "markdown",
      "source": [
        "### Variables cuantitativas"
      ],
      "metadata": {
        "id": "xrGZ9g1bcP4q"
      }
    },
    {
      "cell_type": "markdown",
      "source": [
        "#### Discretas\n",
        "\n",
        "Estas columnas son discretas ya que representan fechas pero no horas."
      ],
      "metadata": {
        "id": "94nvUyrHegLa"
      }
    },
    {
      "cell_type": "code",
      "source": [
        "print(df[\"start_date\"].min())\n",
        "print(df[\"start_date\"].max())"
      ],
      "metadata": {
        "colab": {
          "base_uri": "https://localhost:8080/"
        },
        "id": "7jvtR9XScVuW",
        "outputId": "88b7275a-dd97-47a1-c865-c3a5fec8ba9a"
      },
      "execution_count": 2528,
      "outputs": [
        {
          "output_type": "stream",
          "name": "stdout",
          "text": [
            "2021-01-01\n",
            "2021-12-31\n"
          ]
        }
      ]
    },
    {
      "cell_type": "code",
      "source": [
        "print(df[\"end_date\"].min())\n",
        "print(df[\"end_date\"].max())"
      ],
      "metadata": {
        "colab": {
          "base_uri": "https://localhost:8080/"
        },
        "id": "3HVKzq8GeljJ",
        "outputId": "86b3ecc2-b5a2-455b-a250-a81b7140b81a"
      },
      "execution_count": 2529,
      "outputs": [
        {
          "output_type": "stream",
          "name": "stdout",
          "text": [
            "2021-01-02\n",
            "9999-12-31\n"
          ]
        }
      ]
    },
    {
      "cell_type": "code",
      "source": [
        "print(df[\"created_on\"].min())\n",
        "print(df[\"created_on\"].max())"
      ],
      "metadata": {
        "colab": {
          "base_uri": "https://localhost:8080/"
        },
        "id": "qzH4by3Qemyu",
        "outputId": "1962c669-db4b-4160-ef21-52a64a0333df"
      },
      "execution_count": 2530,
      "outputs": [
        {
          "output_type": "stream",
          "name": "stdout",
          "text": [
            "2021-01-01\n",
            "2021-12-31\n"
          ]
        }
      ]
    },
    {
      "cell_type": "code",
      "source": [
        "df[\"property_rooms\"].mean(), df[\"property_rooms\"].median(), df[\"property_rooms\"].mode()[0]"
      ],
      "metadata": {
        "colab": {
          "base_uri": "https://localhost:8080/"
        },
        "id": "RkYhmkOUhJnL",
        "outputId": "8955efaa-8d6c-40ba-9f43-85a6147d8d27"
      },
      "execution_count": 2531,
      "outputs": [
        {
          "output_type": "execute_result",
          "data": {
            "text/plain": [
              "(2.8221715512038092, 3.0, 3.0)"
            ]
          },
          "metadata": {},
          "execution_count": 2531
        }
      ]
    },
    {
      "cell_type": "code",
      "source": [
        "df[\"property_bedrooms\"].mean(), df[\"property_bedrooms\"].median(), df[\"property_bedrooms\"].mode()[0]"
      ],
      "metadata": {
        "colab": {
          "base_uri": "https://localhost:8080/"
        },
        "id": "b4vhVpp0hLo9",
        "outputId": "0ec49a9e-b318-4f64-cf7a-1d0e6117d5b3"
      },
      "execution_count": 2532,
      "outputs": [
        {
          "output_type": "execute_result",
          "data": {
            "text/plain": [
              "(2.013289734205316, 2.0, 1.0)"
            ]
          },
          "metadata": {},
          "execution_count": 2532
        }
      ]
    },
    {
      "cell_type": "markdown",
      "source": [
        "#### Continuas"
      ],
      "metadata": {
        "id": "qk51Xv6TgNAs"
      }
    },
    {
      "cell_type": "code",
      "source": [
        "df[\"latitud\"].mean(), df[\"latitud\"].median(), df[\"latitud\"].mode()[0]"
      ],
      "metadata": {
        "colab": {
          "base_uri": "https://localhost:8080/"
        },
        "id": "_yos8V3WgPtG",
        "outputId": "23247716-03ac-4fe4-b5fa-c2d02f225bed"
      },
      "execution_count": 2533,
      "outputs": [
        {
          "output_type": "execute_result",
          "data": {
            "text/plain": [
              "(-34.59126352648724, -34.59573237315, -34.5412501)"
            ]
          },
          "metadata": {},
          "execution_count": 2533
        }
      ]
    },
    {
      "cell_type": "code",
      "source": [
        "df[\"longitud\"].mean(), df[\"longitud\"].median(), df[\"longitud\"].mode()[0]"
      ],
      "metadata": {
        "colab": {
          "base_uri": "https://localhost:8080/"
        },
        "id": "wpzWywXggQGY",
        "outputId": "c8b656db-7511-4c1e-944b-7b246c3d49b1"
      },
      "execution_count": 2534,
      "outputs": [
        {
          "output_type": "execute_result",
          "data": {
            "text/plain": [
              "(-58.449369334704855, -58.4389166, -58.4729664)"
            ]
          },
          "metadata": {},
          "execution_count": 2534
        }
      ]
    },
    {
      "cell_type": "code",
      "source": [
        "df[\"property_surface_covered\"].mean(), df[\"property_surface_covered\"].median(), df[\"property_surface_covered\"].mode()[0]"
      ],
      "metadata": {
        "colab": {
          "base_uri": "https://localhost:8080/"
        },
        "id": "JEEJGyF1gP_K",
        "outputId": "7a921289-10d0-4a85-f93a-668e9925ec40"
      },
      "execution_count": 2535,
      "outputs": [
        {
          "output_type": "execute_result",
          "data": {
            "text/plain": [
              "(89.04041959387932, 58.0, 40.0)"
            ]
          },
          "metadata": {},
          "execution_count": 2535
        }
      ]
    },
    {
      "cell_type": "code",
      "source": [
        "df[\"property_surface_total\"].mean(), df[\"property_surface_total\"].median(), df[\"property_surface_total\"].mode()[0]"
      ],
      "metadata": {
        "colab": {
          "base_uri": "https://localhost:8080/"
        },
        "id": "iZ2M8FYHgb1I",
        "outputId": "345b936c-75f4-4952-c08f-89a4fc6b1512"
      },
      "execution_count": 2536,
      "outputs": [
        {
          "output_type": "execute_result",
          "data": {
            "text/plain": [
              "(109.0961073450276, 65.0, 50.0)"
            ]
          },
          "metadata": {},
          "execution_count": 2536
        }
      ]
    },
    {
      "cell_type": "code",
      "source": [
        "df[\"property_price\"].mean(), df[\"property_price\"].median(), df[\"property_price\"].mode()[0]"
      ],
      "metadata": {
        "colab": {
          "base_uri": "https://localhost:8080/"
        },
        "id": "goeIZn4Egbvs",
        "outputId": "c962953b-e3cc-46bb-ae76-5b7ebe4dc8d0"
      },
      "execution_count": 2537,
      "outputs": [
        {
          "output_type": "execute_result",
          "data": {
            "text/plain": [
              "(226092.01221501612, 144000.0, 110000.0)"
            ]
          },
          "metadata": {},
          "execution_count": 2537
        }
      ]
    },
    {
      "cell_type": "markdown",
      "source": [
        "### Variables Cualitativas\n"
      ],
      "metadata": {
        "id": "36NGIUCUfCZG"
      }
    },
    {
      "cell_type": "markdown",
      "source": [
        "#### Place_l"
      ],
      "metadata": {
        "id": "InLiy1dOfURV"
      }
    },
    {
      "cell_type": "markdown",
      "source": [
        "Los distintos **place_l** son variables cualitativas. Buscamos los distintos valores que adoptan.\n"
      ],
      "metadata": {
        "id": "4H91onfZfIVk"
      }
    },
    {
      "cell_type": "code",
      "source": [
        "df[\"place_l2\"].value_counts(dropna=False)"
      ],
      "metadata": {
        "colab": {
          "base_uri": "https://localhost:8080/"
        },
        "id": "ajD5Av2PfKUX",
        "outputId": "5e3e0b70-62bf-4c5e-ac43-d786f688516d"
      },
      "execution_count": 2538,
      "outputs": [
        {
          "output_type": "execute_result",
          "data": {
            "text/plain": [
              "place_l2\n",
              "Capital Federal    75399\n",
              "Name: count, dtype: int64"
            ]
          },
          "metadata": {},
          "execution_count": 2538
        }
      ]
    },
    {
      "cell_type": "code",
      "source": [
        "df[\"place_l3\"].value_counts(dropna=False)"
      ],
      "metadata": {
        "colab": {
          "base_uri": "https://localhost:8080/"
        },
        "id": "Z_k3IWw7fLqK",
        "outputId": "99bf6f40-d714-42d8-c147-40e3277dac56"
      },
      "execution_count": 2539,
      "outputs": [
        {
          "output_type": "execute_result",
          "data": {
            "text/plain": [
              "place_l3\n",
              "Palermo                 11448\n",
              "Belgrano                 7173\n",
              "Caballito                5688\n",
              "Recoleta                 5031\n",
              "Villa Urquiza            3794\n",
              "Almagro                  3291\n",
              "Nuñez                    2839\n",
              "Villa Crespo             2563\n",
              "Flores                   2460\n",
              "Barrio Norte             2418\n",
              "Balvanera                2071\n",
              "Colegiales               1571\n",
              "Villa Devoto             1533\n",
              "Saavedra                 1447\n",
              "Villa del Parque         1446\n",
              "Puerto Madero            1207\n",
              "San Telmo                1118\n",
              "San Nicolás              1053\n",
              "San Cristobal            1027\n",
              "Barracas                 1011\n",
              "Retiro                    984\n",
              "Boedo                     972\n",
              "Floresta                  950\n",
              "Monserrat                 893\n",
              "Parque Chacabuco          859\n",
              "Villa Pueyrredón          792\n",
              "Coghlan                   771\n",
              "Villa Luro                574\n",
              "Mataderos                 572\n",
              "Chacarita                 550\n",
              "Liniers                   536\n",
              "Villa Ortuzar             512\n",
              "Parque Patricios          494\n",
              "Villa Lugano              493\n",
              "Paternal                  457\n",
              "Congreso                  431\n",
              "Monte Castro              391\n",
              "Villa General Mitre       353\n",
              "Constitución              352\n",
              "Villa Santa Rita          339\n",
              "Once                      330\n",
              "NaN                       322\n",
              "Parque Chas               302\n",
              "Parque Avellaneda         290\n",
              "Boca                      280\n",
              "Versalles                 244\n",
              "Velez Sarsfield           195\n",
              "Agronomía                 193\n",
              "Abasto                    189\n",
              "Pompeya                   170\n",
              "Villa Real                111\n",
              "Tribunales                100\n",
              "Parque Centenario          80\n",
              "Centro / Microcentro       56\n",
              "Villa Soldati              32\n",
              "Villa Riachuelo            27\n",
              "Las Cañitas                10\n",
              "Catalinas                   4\n",
              "Name: count, dtype: int64"
            ]
          },
          "metadata": {},
          "execution_count": 2539
        }
      ]
    },
    {
      "cell_type": "code",
      "source": [
        "df[\"place_l4\"].value_counts(dropna=False)"
      ],
      "metadata": {
        "colab": {
          "base_uri": "https://localhost:8080/"
        },
        "id": "ZxfEeloHfM3Q",
        "outputId": "3be3ea46-217c-4774-d030-f6ef39b2893b"
      },
      "execution_count": 2540,
      "outputs": [
        {
          "output_type": "execute_result",
          "data": {
            "text/plain": [
              "place_l4\n",
              "NaN                  72496\n",
              "Palermo Hollywood     1245\n",
              "Palermo Chico          874\n",
              "Palermo Soho           648\n",
              "Palermo Viejo          136\n",
              "Name: count, dtype: int64"
            ]
          },
          "metadata": {},
          "execution_count": 2540
        }
      ]
    },
    {
      "cell_type": "code",
      "source": [
        "df[\"place_l5\"].value_counts(dropna=False)"
      ],
      "metadata": {
        "colab": {
          "base_uri": "https://localhost:8080/"
        },
        "id": "zSznTl0ffOal",
        "outputId": "580895c0-dbbd-4a58-c1de-68de5c72f2f1"
      },
      "execution_count": 2541,
      "outputs": [
        {
          "output_type": "execute_result",
          "data": {
            "text/plain": [
              "place_l5\n",
              "NaN    75399\n",
              "Name: count, dtype: int64"
            ]
          },
          "metadata": {},
          "execution_count": 2541
        }
      ]
    },
    {
      "cell_type": "code",
      "source": [
        "df[\"place_l6\"].value_counts(dropna=False)"
      ],
      "metadata": {
        "colab": {
          "base_uri": "https://localhost:8080/"
        },
        "id": "vCuZ_4lRfY-z",
        "outputId": "aa720e17-5ce0-4dee-c274-d45734e9eadc"
      },
      "execution_count": 2542,
      "outputs": [
        {
          "output_type": "execute_result",
          "data": {
            "text/plain": [
              "place_l6\n",
              "NaN    75399\n",
              "Name: count, dtype: int64"
            ]
          },
          "metadata": {},
          "execution_count": 2542
        }
      ]
    },
    {
      "cell_type": "markdown",
      "source": [
        "#### Otras cualitatias"
      ],
      "metadata": {
        "id": "FNhY3RJXfaP8"
      }
    },
    {
      "cell_type": "code",
      "source": [
        "df[\"operation\"].value_counts(dropna=False)"
      ],
      "metadata": {
        "colab": {
          "base_uri": "https://localhost:8080/"
        },
        "id": "7w_TpUJGfPk5",
        "outputId": "5aa23a9c-a008-4c92-b9aa-a44343ec07b1"
      },
      "execution_count": 2543,
      "outputs": [
        {
          "output_type": "execute_result",
          "data": {
            "text/plain": [
              "operation\n",
              "Venta    75399\n",
              "Name: count, dtype: int64"
            ]
          },
          "metadata": {},
          "execution_count": 2543
        }
      ]
    },
    {
      "cell_type": "code",
      "source": [
        "df[\"property_type\"].value_counts(dropna=False)"
      ],
      "metadata": {
        "colab": {
          "base_uri": "https://localhost:8080/"
        },
        "id": "FMmoTaqoffHH",
        "outputId": "dac7a591-94c4-44a6-cbfb-c02e76d33cbb"
      },
      "execution_count": 2544,
      "outputs": [
        {
          "output_type": "execute_result",
          "data": {
            "text/plain": [
              "property_type\n",
              "Departamento    64698\n",
              "PH               7392\n",
              "Casa             3309\n",
              "Name: count, dtype: int64"
            ]
          },
          "metadata": {},
          "execution_count": 2544
        }
      ]
    },
    {
      "cell_type": "code",
      "source": [
        "df[\"property_currency\"].value_counts(dropna=False)"
      ],
      "metadata": {
        "colab": {
          "base_uri": "https://localhost:8080/"
        },
        "id": "6-3LRarvffE0",
        "outputId": "502b9a09-062c-4df5-b305-31dd6c530040"
      },
      "execution_count": 2545,
      "outputs": [
        {
          "output_type": "execute_result",
          "data": {
            "text/plain": [
              "property_currency\n",
              "USD    75399\n",
              "Name: count, dtype: int64"
            ]
          },
          "metadata": {},
          "execution_count": 2545
        }
      ]
    },
    {
      "cell_type": "code",
      "source": [
        "df[\"property_title\"].value_counts(dropna=False)"
      ],
      "metadata": {
        "colab": {
          "base_uri": "https://localhost:8080/"
        },
        "id": "dxA9nnUaffCl",
        "outputId": "aabd1f56-1de0-40d4-ece9-d30140d39bee"
      },
      "execution_count": 2546,
      "outputs": [
        {
          "output_type": "execute_result",
          "data": {
            "text/plain": [
              "property_title\n",
              "Departamento - Palermo                                                                          1182\n",
              "Departamento - Recoleta                                                                         1064\n",
              "Departamento - Belgrano                                                                          893\n",
              "Departamento - Caballito                                                                         753\n",
              "Departamento - Almagro                                                                           541\n",
              "                                                                                                ... \n",
              "Excelente departamento 4 amb. C/ Dep y cochera!!!!                                                 1\n",
              "4 AMBIENTES COCINA INDEPENDIENTE CON BALCÓN AL FRENTE                                              1\n",
              "VENTA depto 5 amb en esquina luminosa c/ terraza y quincho priv - Serrano 700,  Palermo Soho       1\n",
              "Venta departamento 3 ambientes con baulera                                                         1\n",
              "EXCELENTE CHALET EN DOS PLANTAS CON VISTA AL LAGO                                                  1\n",
              "Name: count, Length: 46478, dtype: int64"
            ]
          },
          "metadata": {},
          "execution_count": 2546
        }
      ]
    },
    {
      "cell_type": "markdown",
      "source": [
        "### Variables irrelevantes"
      ],
      "metadata": {
        "id": "MP-mbB0_wTVy"
      }
    },
    {
      "cell_type": "markdown",
      "source": [
        "En el apartado `1)A)Variables cualitativas` podemos notar que hay columnas cuyo valor se repite en todos los registros. De esta forma estas columnas no aportan información y pueden eliminarse."
      ],
      "metadata": {
        "id": "evndKHGawgcm"
      }
    },
    {
      "cell_type": "code",
      "source": [
        "df = df.drop(\"property_currency\", axis=1)\n",
        "df = df.drop(\"operation\", axis=1)"
      ],
      "metadata": {
        "id": "D2SMiy81wX3W"
      },
      "execution_count": 2547,
      "outputs": []
    },
    {
      "cell_type": "markdown",
      "source": [
        "En la misma sección tambien encontramos una alta presencia de `Null` en `place_l4`, `place_l5` y `place_l6`, por lo que tambien las eliminamos."
      ],
      "metadata": {
        "id": "9EQX20Byx-3q"
      }
    },
    {
      "cell_type": "code",
      "source": [
        "df_to_graph = ((df.isnull().sum() / len(df)) * 100).sort_values()\n",
        "\n",
        "plot_graph(df_to_graph, \"% de nulls por columna\", \"% de nulls\", \"Columna\")"
      ],
      "metadata": {
        "colab": {
          "base_uri": "https://localhost:8080/",
          "height": 0
        },
        "id": "wiwVKX3XzkAd",
        "outputId": "fef3bf67-ca15-4839-a4b6-07df47fdd042"
      },
      "execution_count": 2548,
      "outputs": [
        {
          "output_type": "display_data",
          "data": {
            "text/plain": [
              "<Figure size 1000x600 with 1 Axes>"
            ],
            "image/png": "[encoded data removed]"
          },
          "metadata": {}
        }
      ]
    },
    {
      "cell_type": "code",
      "source": [
        "df = df.drop(\"place_l4\", axis=1)\n",
        "df = df.drop(\"place_l5\", axis=1)\n",
        "df = df.drop(\"place_l6\", axis=1)"
      ],
      "metadata": {
        "id": "31SYyhM80GAW"
      },
      "execution_count": 2549,
      "outputs": []
    },
    {
      "cell_type": "markdown",
      "source": [
        "Por otro lado, las fechas no nos aportan una información relevante.\n",
        "El ID es eliminado ya que no vamos a analizar individualmente cada propiedad, por lo que a nivel conjunto es un dato que no aporta."
      ],
      "metadata": {
        "id": "R_M1zxAew5Oq"
      }
    },
    {
      "cell_type": "code",
      "source": [
        "df = df.drop(\"id\", axis=1)\n",
        "df = df.drop(\"start_date\", axis=1)\n",
        "df = df.drop(\"end_date\", axis=1)\n",
        "df = df.drop(\"created_on\", axis=1)"
      ],
      "metadata": {
        "id": "TF-NiI9sw3Gx"
      },
      "execution_count": 2550,
      "outputs": []
    },
    {
      "cell_type": "markdown",
      "source": [
        "Finalmente nos queda el siguiente dataframe"
      ],
      "metadata": {
        "id": "9YIW2vEY4Db-"
      }
    },
    {
      "cell_type": "code",
      "source": [
        "df.info()"
      ],
      "metadata": {
        "colab": {
          "base_uri": "https://localhost:8080/"
        },
        "id": "RHY3KROv4Fup",
        "outputId": "7df248cf-8e7f-49d5-e509-01fa4d35b1e5"
      },
      "execution_count": 2551,
      "outputs": [
        {
          "output_type": "stream",
          "name": "stdout",
          "text": [
            "<class 'pandas.core.frame.DataFrame'>\n",
            "Index: 75399 entries, 129124 to 74957\n",
            "Data columns (total 11 columns):\n",
            " #   Column                    Non-Null Count  Dtype  \n",
            "---  ------                    --------------  -----  \n",
            " 0   latitud                   72386 non-null  float64\n",
            " 1   longitud                  72386 non-null  float64\n",
            " 2   place_l2                  75399 non-null  object \n",
            " 3   place_l3                  75077 non-null  object \n",
            " 4   property_type             75399 non-null  object \n",
            " 5   property_rooms            74555 non-null  float64\n",
            " 6   property_bedrooms         66668 non-null  float64\n",
            " 7   property_surface_total    71545 non-null  float64\n",
            " 8   property_surface_covered  72737 non-null  float64\n",
            " 9   property_price            75399 non-null  float64\n",
            " 10  property_title            75399 non-null  object \n",
            "dtypes: float64(7), object(4)\n",
            "memory usage: 6.9+ MB\n"
          ]
        }
      ]
    },
    {
      "cell_type": "markdown",
      "source": [
        "## B. Visualización de los datos"
      ],
      "metadata": {
        "id": "MwIvQowIXHAO"
      }
    },
    {
      "cell_type": "markdown",
      "source": [
        "### Distribuciones\n"
      ],
      "metadata": {
        "id": "7Q23mSvm1Be4"
      }
    },
    {
      "cell_type": "code",
      "source": [
        "mostrar_distros_cuantitativas(\"property_bedrooms\")"
      ],
      "metadata": {
        "colab": {
          "base_uri": "https://localhost:8080/",
          "height": 0
        },
        "id": "QrczgnL_1EBG",
        "outputId": "2649ade3-1bbf-4b8f-e72e-33f1651ef743"
      },
      "execution_count": 2552,
      "outputs": [
        {
          "output_type": "display_data",
          "data": {
            "text/plain": [
              "<Figure size 1000x600 with 1 Axes>"
            ],
            "image/png": "[encoded data removed]"
          },
          "metadata": {}
        }
      ]
    },
    {
      "cell_type": "code",
      "source": [
        "mostrar_distros_cuantitativas(\"property_rooms\")"
      ],
      "metadata": {
        "colab": {
          "base_uri": "https://localhost:8080/",
          "height": 0
        },
        "id": "DwnRxxlA35kT",
        "outputId": "9e1d1260-9a6d-47a5-d7b1-7c45563fd7bd"
      },
      "execution_count": 2553,
      "outputs": [
        {
          "output_type": "display_data",
          "data": {
            "text/plain": [
              "<Figure size 1000x600 with 1 Axes>"
            ],
            "image/png": "[encoded data removed]"
          },
          "metadata": {}
        }
      ]
    },
    {
      "cell_type": "code",
      "source": [
        "mostrar_distros_cuantitativas_continuas(\"property_surface_covered\")"
      ],
      "metadata": {
        "colab": {
          "base_uri": "https://localhost:8080/",
          "height": 0
        },
        "id": "5dzb-dGg37xx",
        "outputId": "01a3493d-2f6d-4d5c-e48d-214446c13106"
      },
      "execution_count": 2554,
      "outputs": [
        {
          "output_type": "display_data",
          "data": {
            "text/plain": [
              "<Figure size 1000x600 with 1 Axes>"
            ],
            "image/png": "[encoded data removed]"
          },
          "metadata": {}
        }
      ]
    },
    {
      "cell_type": "code",
      "source": [
        "mostrar_distros_cuantitativas_continuas(\"property_surface_total\")"
      ],
      "metadata": {
        "colab": {
          "base_uri": "https://localhost:8080/",
          "height": 0
        },
        "id": "oMz7Qyr_3-yE",
        "outputId": "705cd1b8-0391-4865-c684-704f1f88003b"
      },
      "execution_count": 2555,
      "outputs": [
        {
          "output_type": "display_data",
          "data": {
            "text/plain": [
              "<Figure size 1000x600 with 1 Axes>"
            ],
            "image/png": "[encoded data removed]"
          },
          "metadata": {}
        }
      ]
    },
    {
      "cell_type": "markdown",
      "source": [
        "En los graficos de distribuciones cuantitativas continuas apreciamos una gran acumulación. Para poder ver a detalle será necesario revisar los datos que agrandan la escala y generan esos cúmulos."
      ],
      "metadata": {
        "id": "TNLbbTiwKbMm"
      }
    },
    {
      "cell_type": "code",
      "source": [
        "mostrar_dispersion(\"latitud\",\"longitud\")"
      ],
      "metadata": {
        "colab": {
          "base_uri": "https://localhost:8080/",
          "height": 0
        },
        "id": "trA2hajz3-v1",
        "outputId": "4a7c3956-06fa-40a4-c4f5-f2c840076d50"
      },
      "execution_count": 2556,
      "outputs": [
        {
          "output_type": "display_data",
          "data": {
            "text/plain": [
              "<Figure size 640x480 with 1 Axes>"
            ],
            "image/png": "[encoded data removed]"
          },
          "metadata": {}
        }
      ]
    },
    {
      "cell_type": "code",
      "source": [
        "mostrar_dispersion_3d(\"latitud\",\"longitud\",\"property_price\")"
      ],
      "metadata": {
        "id": "EYGK-lIV3-tX"
      },
      "execution_count": null,
      "outputs": []
    },
    {
      "cell_type": "markdown",
      "source": [
        "Vemos que hay una acumulación de muestras sobre un espacio relativamente reducido. El gráfico puede llegar a brindar informacion muy relevante.\n",
        "\n",
        "Una posible sanitización de esta información puede darse de la siguiente manera:\n",
        "\n",
        "Evaluar basandose en place_l3 las coordenadas de cada fila. Si estas corresponden al place_l3, entonces mantener su valor. Sino, modificar las coordenadas para que se ubiquen en el centro real de dicho place_l3.\n",
        "Pueden utilizarse los mapas provistos por el gobierno de la ciudad para esta tarea."
      ],
      "metadata": {
        "id": "5mFaToFe7Hxa"
      }
    },
    {
      "cell_type": "code",
      "source": [
        "mostrar_distros_cuantitativas(\"property_type\")"
      ],
      "metadata": {
        "id": "hiNrueXD3-q3"
      },
      "execution_count": null,
      "outputs": []
    },
    {
      "cell_type": "markdown",
      "source": [
        "### Correlaciones"
      ],
      "metadata": {
        "id": "EeeI_RSH8T85"
      }
    },
    {
      "cell_type": "markdown",
      "source": [
        "#### Heatmap"
      ],
      "metadata": {
        "id": "AJhaz8vy-tZ9"
      }
    },
    {
      "cell_type": "code",
      "source": [
        "graficar_heatmap([\"property_rooms\", \"property_bedrooms\", \"property_price\", \"property_surface_covered\", \"property_surface_total\"])"
      ],
      "metadata": {
        "id": "E4TU_s8i8Y6a"
      },
      "execution_count": null,
      "outputs": []
    },
    {
      "cell_type": "markdown",
      "source": [
        "La relacion entre superficie total y cubierta no es para nada la esperable para una grán ciudad como lo es Capital Federal con muchos edificios y pocos patios.\n",
        "La relación entre cantidad de habitaciones y ambientes da la sensación de que debería ser aún más alta.\n",
        "Sería interesante analizar algunas de estas correlaciones por tipo de propiedad, como así tambien ver como se comporta analizandolas por barrios."
      ],
      "metadata": {
        "id": "N8OUqdKM-BMZ"
      }
    },
    {
      "cell_type": "markdown",
      "source": [
        "#### Relación entre cantidad de habitaciones y de ambientes"
      ],
      "metadata": {
        "id": "1en3tQrUAH_u"
      }
    },
    {
      "cell_type": "code",
      "source": [
        "# grafico_dispersión_aproximación_lineal(\"property_rooms\",\"property_bedrooms\")\n",
        "mostrar_dispersion(\"property_rooms\",\"property_bedrooms\")"
      ],
      "metadata": {
        "id": "7twupPJ19_zl"
      },
      "execution_count": null,
      "outputs": []
    },
    {
      "cell_type": "markdown",
      "source": [
        "Los puntos aislados levantan mucha sospecha. Además, considerando que toda habitación es un ambiente, es imposible que haya más de las primeras que de las segundas, por lo que se pueden ver unos cuantos errores."
      ],
      "metadata": {
        "id": "7gyL3-EJ_TCG"
      }
    },
    {
      "cell_type": "markdown",
      "source": [
        "#### Relacion entre superficies"
      ],
      "metadata": {
        "id": "NYqLEnbO_sGk"
      }
    },
    {
      "cell_type": "code",
      "source": [
        "# grafico_dispersión_aproximación_lineal(\"property_surface_total\",\"property_surface_covered\")\n",
        "mostrar_dispersion(\"property_surface_total\",\"property_surface_covered\")"
      ],
      "metadata": {
        "id": "8iAUT7Lj_ufw"
      },
      "execution_count": null,
      "outputs": []
    },
    {
      "cell_type": "markdown",
      "source": [
        "Similar al caso anterior. La superficie cubierta es parte de la total. Si bien la tendencia tiene sentido, los valores que se encuentran por encima de la linea presentan un claro error."
      ],
      "metadata": {
        "id": "cQBarrcHAO46"
      }
    },
    {
      "cell_type": "code",
      "source": [
        "grafico_correlacion_por_categoría(\"property_surface_total\",\"property_surface_covered\",\"property_type\")"
      ],
      "metadata": {
        "id": "Eg7ZI5nmBHqt"
      },
      "execution_count": null,
      "outputs": []
    },
    {
      "cell_type": "markdown",
      "source": [
        "Estas correlaciones se ven extrañas para ser capital federal. Uno no esperaría que las casas tengan poca relación entre los tipos de superficie, y mucho menos en los departamentos."
      ],
      "metadata": {
        "id": "_L922L_KGRwX"
      }
    },
    {
      "cell_type": "code",
      "source": [
        "graficar_correlaciones_superficie_por_tipo_de_propiedad()"
      ],
      "metadata": {
        "id": "G7RSTljDD8-f"
      },
      "execution_count": null,
      "outputs": []
    },
    {
      "cell_type": "code",
      "source": [
        "graficar_correlaciones_superficie_por_place_l3()"
      ],
      "metadata": {
        "id": "45DfWpYAFc5-"
      },
      "execution_count": null,
      "outputs": []
    },
    {
      "cell_type": "markdown",
      "source": [
        "## C. Datos faltantes"
      ],
      "metadata": {
        "id": "ZopuXJ93XSQp"
      }
    },
    {
      "cell_type": "markdown",
      "source": [
        "#### Nulls generales"
      ],
      "metadata": {
        "id": "20sooswTLaPk"
      }
    },
    {
      "cell_type": "markdown",
      "source": [
        "Luego de haber borrado las columnas con mayor proporción de datos faltantes y analizar tendencias, vamos a evaluar la calidad de la información de la que disponemos hasta el momento."
      ],
      "metadata": {
        "id": "T51yOUhiHTVY"
      }
    },
    {
      "cell_type": "code",
      "source": [
        "df_to_graph = ((df.isnull().sum() / len(df)) * 100).sort_values()\n",
        "\n",
        "plot_graph(df_to_graph, \"% de nulls por columna\", \"% de nulls\", \"Columna\")"
      ],
      "metadata": {
        "id": "VhlwoFDzHMdA"
      },
      "execution_count": null,
      "outputs": []
    },
    {
      "cell_type": "code",
      "source": [
        "df.isnull().sum()"
      ],
      "metadata": {
        "id": "4LzVlGWAL9mp"
      },
      "execution_count": null,
      "outputs": []
    },
    {
      "cell_type": "code",
      "source": [
        "grafico_porcentaje_nulls_por_fila()"
      ],
      "metadata": {
        "id": "rM-3eQ_3HtdM"
      },
      "execution_count": null,
      "outputs": []
    },
    {
      "cell_type": "markdown",
      "source": [
        "#### Tratamiento de nulls"
      ],
      "metadata": {
        "id": "oVyrs1l_MMC0"
      }
    },
    {
      "cell_type": "markdown",
      "source": [
        "##### Latitud y longitud"
      ],
      "metadata": {
        "id": "liEwA6ruMOsG"
      }
    },
    {
      "cell_type": "code",
      "source": [
        "#TODO: Imputar de una de las siguientes formas:\n",
        "\n",
        "#1. Valor promedio de lat y long de registros con el mismo place_l3 (o place_l4 si se decide no eliminarlo)\n",
        "#2. Utilizar datos geográficos de la ciudad para imputar el centro del place_l3 en las corrdenadas.\n",
        "\n",
        "#Por el momento, dejamos los datos null ya que aún no trabajamos con esas columnas"
      ],
      "metadata": {
        "id": "FMq6vpQcMTWs"
      },
      "execution_count": null,
      "outputs": []
    },
    {
      "cell_type": "markdown",
      "source": [
        "##### Place_l3\n",
        "\n",
        "Siendo que representa un porcentaje minúsculo de los datos y el dato es crucial, eliminamos las filas.\n",
        "\n",
        "Una posible opción a futuro es imputarlo en base a las coordenadas."
      ],
      "metadata": {
        "id": "3Vag_wlkM5RR"
      }
    },
    {
      "cell_type": "code",
      "source": [
        "df = df.dropna(subset=['place_l3'])"
      ],
      "metadata": {
        "id": "ICGK2SW5M7F9"
      },
      "execution_count": null,
      "outputs": []
    },
    {
      "cell_type": "markdown",
      "source": [
        "##### Cantidad de habitaciones y de ambientes\n",
        "\n",
        "Partiendo de la primicia de que toda habitación es un ambiente y no al reves, y que por lo general existe 1 ambiente más que habitaciones (el living), vamos a hacer lo siguiente:"
      ],
      "metadata": {
        "id": "gfiMN20cNUqJ"
      }
    },
    {
      "cell_type": "code",
      "source": [
        "#1. Eliminar las filas donde ambos datos son null ya que no contamos con la información suficiente para imputar al otro dato. En una futura versión estos datos podrían llegar a imputarse en base a publicaciones de similares características.\n",
        "df = df.dropna(subset=['property_bedrooms', 'property_rooms'])\n",
        "\n",
        "#2. Imputar la cantidad de habitaciones como cantidad de ambientes - 1\n",
        "df['property_bedrooms'].fillna(df['property_rooms'] - 1, inplace=True)\n",
        "\n",
        "#3. Imputar la cantidad de ambientes como cantidad de habitaciones + 1\n",
        "df['property_rooms'].fillna(df['property_bedrooms'] + 1, inplace=True)"
      ],
      "metadata": {
        "id": "9SMZVjZtNuw9"
      },
      "execution_count": null,
      "outputs": []
    },
    {
      "cell_type": "markdown",
      "source": [
        "##### Superficie cubierta y total\n",
        "\n",
        "Siguiendo una lógica similar a la de las habitaciones y ambientes, el total de superficie esta compuesto por la suma se superficie cubierta y descubierta, imputamos una con el valor de la otra.\n",
        "\n",
        "Por el momento este es un punto de mejora ya que, por lo visto en los gráficos, la relación entre ambos no es lo suficientemente alta como para imputar de esta forma con un alto indnice de confianza.\n",
        "Por otro lado, por conocimiento del negocio sabemos que en Capital Federal los espacios abiertos en propiedades son más bien reducidos, por lo que sería esperable que la superficie total sea igual o apenas superior a la superficie cubierta."
      ],
      "metadata": {
        "id": "w_ZWzs2EOhxQ"
      }
    },
    {
      "cell_type": "code",
      "source": [
        "#1. Eliminar las filas donde ambos datos son null ya que no contamos con la información suficiente para imputar al otro dato. En una futura versión estos datos podrían llegar a imputarse en base a publicaciones de similares características.\n",
        "df = df.dropna(subset=['property_surface_covered', 'property_surface_total'])\n",
        "\n",
        "#2. Imputar la superficie cubierta como superficie total\n",
        "df['property_surface_covered'].fillna(df['property_surface_total'], inplace=True)\n",
        "\n",
        "#3. Imputar superficie total como superficie cubierta\n",
        "df['property_surface_total'].fillna(df['property_surface_covered'], inplace=True)"
      ],
      "metadata": {
        "id": "aLdKUBUyOhxX"
      },
      "execution_count": null,
      "outputs": []
    },
    {
      "cell_type": "markdown",
      "source": [
        "#### Conclusion parcial\n",
        "En este punto ya no deberíamos presentar nulls (exceptuando los de latitud y longitud que dejamos pasar)."
      ],
      "metadata": {
        "id": "Wm1bl4E-P9c-"
      }
    },
    {
      "cell_type": "code",
      "source": [
        "df.isnull().sum()"
      ],
      "metadata": {
        "id": "Nt3S0ayAQHAr"
      },
      "execution_count": null,
      "outputs": []
    },
    {
      "cell_type": "markdown",
      "source": [
        "#### Datos mal ingresados"
      ],
      "metadata": {
        "id": "yq65962TLhCg"
      }
    },
    {
      "cell_type": "markdown",
      "source": [
        "##### Precio"
      ],
      "metadata": {
        "id": "VW0e66hoLps5"
      }
    },
    {
      "cell_type": "code",
      "source": [
        "df[df[\"property_price\"] <= 0].shape\n"
      ],
      "metadata": {
        "id": "-C5wZRlOLiyo"
      },
      "execution_count": null,
      "outputs": []
    },
    {
      "cell_type": "markdown",
      "source": [
        "##### Latitud y longitud\n",
        "\n",
        "Corroborar utilizando datos geográficos de la ciudad"
      ],
      "metadata": {
        "id": "qE712tD2QXIb"
      }
    },
    {
      "cell_type": "markdown",
      "source": [
        "No hay datos de precios mal ingresados. Aún puede haber precios ilógicos, pero no hay negativos ni nulos."
      ],
      "metadata": {
        "id": "rPRnwc6NLwVR"
      }
    },
    {
      "cell_type": "markdown",
      "source": [
        "##### Habitaciones y ambientes\n",
        "\n",
        "En aquellas con mas ambientes que habitaciones se hace la corrección basandose en el título de la publicación.\n",
        "En aquellas con uno de los valores negativos las elimino directamente ya que representan una ínfima cantidad"
      ],
      "metadata": {
        "id": "GlgXFqYjQwIH"
      }
    },
    {
      "cell_type": "code",
      "source": [
        "df[df['property_bedrooms'] > df['property_rooms']]\n",
        "\n",
        "# En un vistazo rápido se ve que el property_title en estos casos coincide con la cantidad de ambientes señalados, por lo que el valor a corregir es la cantidad de habitaciones\n",
        "\n",
        "df.loc[df['property_bedrooms'] > df['property_rooms'], 'property_bedrooms'] = df['property_rooms'] - 1\n",
        "\n",
        "\n",
        "df = df.drop(df[df['property_rooms'] <= 0].index)\n",
        "df = df.drop(df[df['property_bedrooms'] < 0].index)\n"
      ],
      "metadata": {
        "id": "O7Z-kI7tRQzk"
      },
      "execution_count": null,
      "outputs": []
    },
    {
      "cell_type": "markdown",
      "source": [
        "##### Superficies\n",
        "\n",
        "En aquellas con mayor superficie cubierta que total, invierto los valores."
      ],
      "metadata": {
        "id": "UrIwNkQTT8_3"
      }
    },
    {
      "cell_type": "code",
      "source": [
        "filas_erroneas = df[\"property_surface_total\"] < df[\"property_surface_covered\"]\n",
        "\n",
        "df.loc[filas_erroneas, [\"property_surface_total\", \"property_surface_covered\"]] = df.loc[filas_erroneas, [\"property_surface_covered\", \"property_surface_total\"]].values\n",
        "\n",
        "\n",
        "df = df.drop(df[df['property_surface_total'] <= 0].index)\n",
        "df = df.drop(df[df['property_surface_covered'] < 0].index)\n"
      ],
      "metadata": {
        "id": "GCcMjcKXUK-Z"
      },
      "execution_count": null,
      "outputs": []
    },
    {
      "cell_type": "markdown",
      "metadata": {
        "id": "sgTmPXxlo7uu"
      },
      "source": [
        "## D. Valores atípicos"
      ]
    },
    {
      "cell_type": "markdown",
      "source": [
        "### Creacion de nuevas columnas\n"
      ],
      "metadata": {
        "id": "R0bSKYDhX0wC"
      }
    },
    {
      "cell_type": "markdown",
      "source": [
        "####Precio por metro cuadrado"
      ],
      "metadata": {
        "id": "Nl64UGyGbo1q"
      }
    },
    {
      "cell_type": "code",
      "source": [
        "df[\"total_m2_price\"] = df[\"property_price\"] / df[\"property_surface_total\"]\n",
        "df[\"covered_m2_price\"] = df[\"property_price\"] / df[\"property_surface_covered\"]"
      ],
      "metadata": {
        "id": "4POGMpe3X5DQ"
      },
      "execution_count": null,
      "outputs": []
    },
    {
      "cell_type": "markdown",
      "source": [
        "### Detectar valores atípicos"
      ],
      "metadata": {
        "id": "IDMAKUsebwAy"
      }
    },
    {
      "cell_type": "markdown",
      "source": [
        "#### Superficie total y cubierta"
      ],
      "metadata": {
        "id": "2YhvuW2lF5mx"
      }
    },
    {
      "cell_type": "code",
      "source": [
        "mostrar_dispersion(\"property_surface_total\",\"property_surface_covered\")"
      ],
      "metadata": {
        "id": "9absrsqn0SUx"
      },
      "execution_count": null,
      "outputs": []
    },
    {
      "cell_type": "markdown",
      "source": [
        "Vemos que hay un cúmulo importante de datos en la esquina inferior izquierda del gráfico, y que muy alejados de estos se encuentran otros datos más aislados.\n",
        "Estos últimos los consideramos outlayers a eliminar.\n",
        "Siguiendo la lógica del negocio, es impensable encontrar propiedades con tales dimensiones en una ciudad grande como Capital Federal, e incluso fuera de la misma.\n",
        "\n",
        "A traves de la mediana vamos a calcular un margen generoso (7x) y eliminar a aquellos registros que escapen de este margen."
      ],
      "metadata": {
        "id": "_2utCfMUcHmS"
      }
    },
    {
      "cell_type": "code",
      "source": [
        "# Calcular la mediana de 'property_surface_total'\n",
        "mediana = df['property_surface_total'].median()\n",
        "\n",
        "# Definir el límite superior\n",
        "limite_superior = mediana * 7\n",
        "\n",
        "# Filtrar el DataFrame para eliminar valores atípicos\n",
        "df = df[df['property_surface_total'] <= limite_superior]\n",
        "\n",
        "\n",
        "mostrar_dispersion(\"property_surface_total\",\"property_surface_covered\")"
      ],
      "metadata": {
        "id": "2zJuCedjDTBp"
      },
      "execution_count": null,
      "outputs": []
    },
    {
      "cell_type": "markdown",
      "source": [
        "El gráfico resultante muestra que la imputación realizada previamente satisfactoriamente corrigió los casos donde la superficie cubierta era mayor a la superficie total.\n",
        "Tambien deja ver un gráfico bastante esperable."
      ],
      "metadata": {
        "id": "o2hAkgUqdSje"
      }
    },
    {
      "cell_type": "markdown",
      "source": [
        "#### Habitaciones y ambientes"
      ],
      "metadata": {
        "id": "CAFs1MeeF-E7"
      }
    },
    {
      "cell_type": "code",
      "source": [
        "# Dispesión de habitaciones y ambientes\n",
        "\n",
        "mostrar_dispersion(\"property_bedrooms\",\"property_rooms\")"
      ],
      "metadata": {
        "id": "tZalE75jGCR2"
      },
      "execution_count": null,
      "outputs": []
    },
    {
      "cell_type": "code",
      "source": [
        "# Calcular la mediana de 'property_surface_total'\n",
        "mediana = df['property_bedrooms'].median()\n",
        "\n",
        "# Definir el límite superior\n",
        "limite_superior = mediana * 7\n",
        "\n",
        "# Filtrar el DataFrame para eliminar valores atípicos\n",
        "df = df[df['property_bedrooms'] <= limite_superior]\n",
        "\n",
        "# Crear el gráfico de dispersión con la gama de colores para la acumulación de puntos\n",
        "plt.figure(figsize=(8, 6))\n",
        "plt.scatter(df['property_bedrooms'], df['property_rooms'], c=np.log(df.index + 1), cmap='viridis', alpha=0.5)\n",
        "plt.title('Gráfico de dispersión entre property_bedrooms y property_rooms (sin valores atípicos)')\n",
        "plt.xlabel('property_bedrooms')\n",
        "plt.ylabel('property_rooms')\n",
        "plt.colorbar(label='Acumulación de puntos (log)')\n",
        "plt.grid(True)\n",
        "plt.show()\n"
      ],
      "metadata": {
        "id": "oIL5TGGpGDUG"
      },
      "execution_count": null,
      "outputs": []
    },
    {
      "cell_type": "markdown",
      "source": [
        "#### Precios"
      ],
      "metadata": {
        "id": "Zx2IGfSeMi5f"
      }
    },
    {
      "cell_type": "markdown",
      "source": [],
      "metadata": {
        "id": "kYAw5JC_MH4G"
      }
    },
    {
      "cell_type": "code",
      "source": [
        "# Generar 15 rangos iguales\n",
        "num_bins = 15\n",
        "bin_width = (df['total_m2_price'].max() - df['total_m2_price'].min()) / num_bins\n",
        "bins = [df['total_m2_price'].min() + i * bin_width for i in range(num_bins + 1)]\n",
        "\n",
        "# Contar la cantidad de registros en cada rango\n",
        "hist, bins = np.histogram(df['total_m2_price'], bins=bins)\n",
        "\n",
        "# Crear el gráfico\n",
        "plt.bar(range(len(hist)), hist, width=1, edgecolor='black')\n",
        "\n",
        "# Añadir etiquetas y título\n",
        "plt.xlabel('Rango')\n",
        "plt.ylabel('Cantidad de Registros')\n",
        "plt.title('Distribución de Registros en Rangos de total_m2_price')\n",
        "\n",
        "# Añadir etiquetas de los rangos en el eje x\n",
        "plt.xticks(range(len(hist)), [f'{bins[i]:.2f}-{bins[i+1]:.2f}' for i in range(len(hist))], rotation=45)\n",
        "\n",
        "# Mostrar el gráfico\n",
        "plt.tight_layout()\n",
        "plt.show()"
      ],
      "metadata": {
        "id": "KwibHZJYMgyo"
      },
      "execution_count": null,
      "outputs": []
    },
    {
      "cell_type": "code",
      "source": [
        "# Vemos que hay numeros irrisorios. Tomo la media y elimino en un rango de 5 veces menor y 5 veces mayor\n",
        "mediana_total_m2_price = df['total_m2_price'].median()\n",
        "\n",
        "limite_inferior = mediana_total_m2_price / 5\n",
        "limite_superior = mediana_total_m2_price * 5\n",
        "\n",
        "df = nuevo_df = df[(df['total_m2_price'] >= limite_inferior) & (df['total_m2_price'] <= limite_superior)]\n",
        "\n",
        "# Generar 4 rangos iguales\n",
        "num_bins = 4\n",
        "bin_width = (df['total_m2_price'].max() - df['total_m2_price'].min()) / num_bins\n",
        "bins = [df['total_m2_price'].min() + i * bin_width for i in range(num_bins + 1)]\n",
        "\n",
        "# Contar la cantidad de registros en cada rango\n",
        "hist, bins = np.histogram(df['total_m2_price'], bins=bins)\n",
        "\n",
        "# Crear el gráfico\n",
        "plt.bar(range(len(hist)), hist, width=1, edgecolor='black')\n",
        "\n",
        "# Añadir etiquetas y título\n",
        "plt.xlabel('Rango')\n",
        "plt.ylabel('Cantidad de Registros')\n",
        "plt.title('Distribución de Registros en Rangos de total_m2_price')\n",
        "\n",
        "# Añadir etiquetas de los rangos en el eje x\n",
        "plt.xticks(range(len(hist)), [f'{bins[i]:.2f}-{bins[i+1]:.2f}' for i in range(len(hist))], rotation=45)\n",
        "\n",
        "# Mostrar el gráfico\n",
        "plt.tight_layout()\n",
        "plt.show()"
      ],
      "metadata": {
        "id": "NPFnOeUrO_tb"
      },
      "execution_count": null,
      "outputs": []
    },
    {
      "cell_type": "code",
      "source": [
        "# Despues de revisar todos estos valores atípicos vemos que borramos aprox 5k filas de las 75399 con las que empezamos. No me parece mal\n",
        "df.info()"
      ],
      "metadata": {
        "id": "BqgaB9cGQVY9"
      },
      "execution_count": null,
      "outputs": []
    },
    {
      "cell_type": "code",
      "source": [
        "# Analizamos la relación entre los m2 cubiertos y la cantidad de ambientes\n",
        "\n",
        "# Calcular el precio por metro cuadrado cubierto\n",
        "df['price_per_covered_square_meter'] = df['property_price'] / df['property_surface_total']\n",
        "\n",
        "# Dividir los precios por metro cuadrado en 20 bins iguales\n",
        "bins = pd.cut(df['price_per_covered_square_meter'], bins=20)\n",
        "\n",
        "# Contar cuántas observaciones caen en cada bin\n",
        "price_counts = bins.value_counts().sort_index()\n",
        "\n",
        "# Crear el gráfico de barras\n",
        "plt.bar(range(len(price_counts)), price_counts, tick_label=price_counts.index.astype(str))\n",
        "plt.title('Distribución de precio por metro cuadrado cubierto en 20 bins iguales')\n",
        "plt.xlabel('Precio por metro cuadrado cubierto')\n",
        "plt.ylabel('Número de observaciones')\n",
        "plt.xticks(rotation=90)\n",
        "plt.show()"
      ],
      "metadata": {
        "id": "ultLNlgH73hm"
      },
      "execution_count": null,
      "outputs": []
    },
    {
      "cell_type": "code",
      "source": [
        "# Crear el gráfico de velas (boxplot)\n",
        "plt.figure(figsize=(10, 6))\n",
        "sns.boxplot(data=df, y='price_per_covered_square_meter')\n",
        "plt.title('Boxplot del precio por metro cuadrado cubierto')\n",
        "plt.ylabel('Precio por metro cuadrado cubierto')\n",
        "plt.show()"
      ],
      "metadata": {
        "id": "PTw9xxfO-4RW"
      },
      "execution_count": null,
      "outputs": []
    },
    {
      "cell_type": "code",
      "source": [
        "# Calcular los cuartiles y el rango intercuartílico (IQR)\n",
        "Q1 = df['price_per_covered_square_meter'].quantile(0.25)\n",
        "Q3 = df['price_per_covered_square_meter'].quantile(0.75)\n",
        "IQR = Q3 - Q1\n",
        "\n",
        "# Calcular los límites para identificar outliers\n",
        "lower_bound = Q1 - 1.5 * IQR\n",
        "upper_bound = Q3 + 1.5 * IQR\n",
        "\n",
        "# Filtrar los datos para eliminar outliers\n",
        "df_filtered = df[(df['price_per_covered_square_meter'] >= lower_bound) & (df['price_per_covered_square_meter'] <= upper_bound)]\n",
        "\n",
        "# Mostrar porcentaje de datos que representan los outliers\n",
        "percentage_outliers = 100 - len(df_filtered) / len(df) * 100\n",
        "print(\"Porcentaje de outliers eliminados:\", percentage_outliers)\n",
        "\n",
        "# Actualizar el DataFrame con los datos filtrados\n",
        "df = df_filtered.copy()"
      ],
      "metadata": {
        "id": "CYm9QgZA_NCS"
      },
      "execution_count": null,
      "outputs": []
    },
    {
      "cell_type": "markdown",
      "source": [
        "#2. Agrupamiento"
      ],
      "metadata": {
        "id": "xKVNEiLnYq6P"
      }
    }
  ],
  "metadata": {
    "colab": {
      "provenance": [],
      "collapsed_sections": [
        "aTZ-7SvgSUCq",
        "1bDvMiRzSakH",
        "zO4PfaW80mjH",
        "bIKjNc044xGj",
        "GE_wixxq8ldB",
        "g1ffNvngSd2r",
        "W4WxBOb3W62g",
        "RFtxfBGsbbnj",
        "deHt381YbmpN",
        "VJnSWDX2TXgw",
        "xrGZ9g1bcP4q",
        "94nvUyrHegLa",
        "qk51Xv6TgNAs",
        "36NGIUCUfCZG",
        "MP-mbB0_wTVy",
        "7Q23mSvm1Be4",
        "a6TGRQiHUXHA",
        "9Wh4beRGU5Uz",
        "2YhvuW2lF5mx",
        "CAFs1MeeF-E7",
        "Zx2IGfSeMi5f"
      ]
    },
    "kernelspec": {
      "display_name": "Python 3",
      "name": "python3"
    },
    "language_info": {
      "codemirror_mode": {
        "name": "ipython",
        "version": 3
      },
      "file_extension": ".py",
      "mimetype": "text/x-python",
      "name": "python",
      "nbconvert_exporter": "python",
      "pygments_lexer": "ipython3",
      "version": "3.11.6"
    }
  },
  "nbformat": 4,
  "nbformat_minor": 0
}
