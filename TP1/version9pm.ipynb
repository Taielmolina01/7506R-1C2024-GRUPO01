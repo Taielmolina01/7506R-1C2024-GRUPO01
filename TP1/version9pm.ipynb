Celda de código <Mjxz6lf_Kgm->
# %% [code]
import pandas as pd
import geopandas as gpd

Celda de código <G30DRbKpKgm->
# %% [code]
VERDE = "#196F3D"
AZUL = "#2874A6"
NARANJA = "#DC7633"
VIOLETA = "#8E44AD"
GRIS = "#B2BABB"
CELESTE = "#5DADE2"
CORAL = "#F1948A"
ROJO = "#A93226"
COLORES = [VERDE, AZUL, NARANJA, VIOLETA, GRIS, CELESTE, CORAL, ROJO]

PATH_DF = "properati_argentina_2021.csv"

PATH_DF_TRAIN = "df_train.csv"
PATH_DF_TEST = "df_test.csv"

SEED = 123

import seaborn as sns
import matplotlib.pyplot as plt
from sklearn.model_selection import train_test_split

Celda de código <nI9tjoYSKgm_>
# %% [code]
df_train = pd.read_csv(PATH_DF_TRAIN)
df_test = pd.read_csv(PATH_DF_TEST)

Celda de código <g4jqvZnwKgm_>
# %% [code]
df_test.info()
Resultado de la ejecución del 28 abr 2024 20:42
2KB
	Stream
		<class 'pandas.core.frame.DataFrame'>
		RangeIndex: 18850 entries, 0 to 18849
		Data columns (total 21 columns):
		 #   Column                    Non-Null Count  Dtype  
		---  ------                    --------------  -----  
		 0   Unnamed: 0                18850 non-null  int64  
		 1   id                        18850 non-null  object 
		 2   start_date                18850 non-null  object 
		 3   end_date                  18850 non-null  object 
		 4   created_on                18850 non-null  object 
		 5   latitud                   18133 non-null  float64
		 6   longitud                  18133 non-null  float64
		 7   place_l2                  18850 non-null  object 
		 8   place_l3                  18755 non-null  object 
		 9   place_l4                  740 non-null    object 
		 10  place_l5                  0 non-null      float64
		 11  place_l6                  0 non-null      float64
		 12  operation                 18850 non-null  object 
		 13  property_type             18850 non-null  object 
		 14  property_rooms            18650 non-null  float64
		 15  property_bedrooms         16594 non-null  float64
		 16  property_surface_total    17860 non-null  float64
		 17  property_surface_covered  18158 non-null  float64
		 18  property_price            18850 non-null  float64
		 19  property_currency         18850 non-null  object 
		 20  property_title            18850 non-null  object 
		dtypes: float64(9), int64(1), object(11)
		memory usage: 3.0+ MB

Celda de texto <slBB9ewNKgm_>
# %% [markdown]
Hacemos el mismo "tratamiento" al df_test que el que ya le hicimos al df_train

Celda de código <0vwyvovFKgnA>
# %% [code]
df_test.drop(columns=["id", "start_date", "end_date", "created_on", "place_l2", "place_l4", "place_l5", "place_l6", "operation", "property_currency", "property_title"], inplace=True)

Celda de código <aDijTQmlKgnA>
# %% [code]
df_test.info()
Resultado de la ejecución del 28 abr 2024 20:42
1KB
	Stream
		<class 'pandas.core.frame.DataFrame'>
		RangeIndex: 18850 entries, 0 to 18849
		Data columns (total 10 columns):
		 #   Column                    Non-Null Count  Dtype  
		---  ------                    --------------  -----  
		 0   Unnamed: 0                18850 non-null  int64  
		 1   latitud                   18133 non-null  float64
		 2   longitud                  18133 non-null  float64
		 3   place_l3                  18755 non-null  object 
		 4   property_type             18850 non-null  object 
		 5   property_rooms            18650 non-null  float64
		 6   property_bedrooms         16594 non-null  float64
		 7   property_surface_total    17860 non-null  float64
		 8   property_surface_covered  18158 non-null  float64
		 9   property_price            18850 non-null  float64
		dtypes: float64(7), int64(1), object(2)
		memory usage: 1.4+ MB

Celda de código <k_rBLyP2KgnA>
# %% [code]
df_test.head(3)
Resultado de la ejecución del 28 abr 2024 20:42
14KB
	text/plain
		Unnamed: 0    latitud   longitud          place_l3 property_type  \
		0      446819 -34.600813 -58.497620  Villa del Parque  Departamento   
		1      135148 -34.556298 -58.439923          Belgrano  Departamento   
		2      445316 -34.612908 -58.386174          Congreso  Departamento   
		
		   property_rooms  property_bedrooms  property_surface_total  \
		0             1.0                NaN                    45.0   
		1             5.0                3.0                   175.0   
		2             1.0                NaN                    25.0   
		
		   property_surface_covered  property_price  
		0                      41.0        130000.0  
		1                     141.0        579000.0  
		2                       NaN         49000.0

Celda de texto <Uk3FomE5KgnA>
# %% [markdown]
Veo que la columna unnamed es la indicadora de la fila del csv, la borramos

Celda de código <7wZrSX-pKgnA>
# %% [code]
df_test.drop(columns=["Unnamed: 0"], inplace=True)

Celda de código <vC-UaLduKgnA>
# %% [code]
df_test.head(3)
Resultado de la ejecución del 28 abr 2024 20:42
13KB
	text/plain
		latitud   longitud          place_l3 property_type  property_rooms  \
		0 -34.600813 -58.497620  Villa del Parque  Departamento             1.0   
		1 -34.556298 -58.439923          Belgrano  Departamento             5.0   
		2 -34.612908 -58.386174          Congreso  Departamento             1.0   
		
		   property_bedrooms  property_surface_total  property_surface_covered  \
		0                NaN                    45.0                      41.0   
		1                3.0                   175.0                     141.0   
		2                NaN                    25.0                       NaN   
		
		   property_price  
		0        130000.0  
		1        579000.0  
		2         49000.0

Celda de código <bbhhTCBZKgnA>
# %% [code]
df_test[(df_test["property_bedrooms"].isnull()) & (df_test["property_rooms"].isnull())].shape
Resultado de la ejecución del 28 abr 2024 20:42
0KB
	text/plain
		(81, 9)

Celda de código <PAWNkw1IKgnA>
# %% [code]
df_test[(df_test["property_bedrooms"].notnull()) & (df_test["property_rooms"].isnull())].shape
Resultado de la ejecución del 28 abr 2024 20:42
0KB
	text/plain
		(119, 9)

Celda de código <gk8E1j5dKgnB>
# %% [code]
df_test[(df_test["property_bedrooms"].isnull()) & (df_test["property_rooms"].notnull())].shape
Resultado de la ejecución del 28 abr 2024 20:42
0KB
	text/plain
		(2175, 9)

Celda de código <djbNygZwKgnB>
# %% [code]
#1. Eliminar las filas donde ambos datos son null ya que no contamos con la información suficiente para imputar al otro dato. En una futura versión estos datos podrían llegar a imputarse en base a publicaciones de similares características.
df_test.dropna(subset=["property_bedrooms", "property_rooms"], inplace=True)

#2. Imputar la cantidad de habitaciones como cantidad de ambientes - 1
df_test["property_bedrooms"].fillna(df_test["property_rooms"] - 1, inplace=True)

#3. Imputar la cantidad de ambientes como cantidad de habitaciones + 1
df_test["property_rooms"].fillna(df_test["property_bedrooms"] + 1, inplace=True)

Celda de código <jJbJ5InyKgnB>
# %% [code]
df_test.isnull().sum()
Resultado de la ejecución del 28 abr 2024 20:42
0KB
	text/plain
		latitud                     605
		longitud                    605
		place_l3                     48
		property_type                 0
		property_rooms                0
		property_bedrooms             0
		property_surface_total      826
		property_surface_covered    548
		property_price                0
		dtype: int64

Celda de código <4df7k2nMKgnB>
# %% [code]
df_test[(df_test["property_surface_covered"].isnull()) & (df_test["property_surface_total"].isnull())].shape
Resultado de la ejecución del 28 abr 2024 20:42
0KB
	text/plain
		(0, 9)

Celda de código <j-XnHfxyKgnB>
# %% [code]
df_test[(df_test["property_surface_covered"].notnull()) & (df_test["property_surface_total"].isnull())].shape
Resultado de la ejecución del 28 abr 2024 20:42
0KB
	text/plain
		(826, 9)

Celda de código <WIdeXTeKKgnB>
# %% [code]
df_test[(df_test["property_surface_covered"].isnull()) & (df_test["property_surface_total"].notnull())].shape
Resultado de la ejecución del 28 abr 2024 20:42
0KB
	text/plain
		(548, 9)

Celda de código <9YPjwHHUKgnB>
# %% [code]
#1. Eliminar las filas donde ambos datos son null ya que no contamos con la información suficiente para imputar al otro dato. En una futura versión estos datos podrían llegar a imputarse en base a publicaciones de similares características.
df_test.dropna(subset=["property_surface_covered", "property_surface_total"], inplace=True)

#2. Imputar la superficie cubierta como superficie total
df_test["property_surface_covered"].fillna(df_test["property_surface_total"], inplace=True)

#3. Imputar superficie total como superficie cubierta
df_test["property_surface_total"].fillna(df_test["property_surface_covered"], inplace=True)

Celda de código <I4sYNoM6KgnC>
# %% [code]
df_test[df_test["property_price"] <= 0].shape
Resultado de la ejecución del 28 abr 2024 20:42
0KB
	text/plain
		(0, 9)

Celda de código <TwkU0sweKgnC>
# %% [code]
df_test[df_test["property_surface_covered"] <= 0].shape
Resultado de la ejecución del 28 abr 2024 20:42
0KB
	text/plain
		(0, 9)

Celda de código <DF0jUFVxKgnC>
# %% [code]
df_test[df_test["property_surface_total"] <= 0].shape
Resultado de la ejecución del 28 abr 2024 20:42
0KB
	text/plain
		(0, 9)

Celda de código <l3EdJhZBKgnC>
# %% [code]
df_test[df_test["property_surface_total"] < df_test["property_surface_covered"]].shape
Resultado de la ejecución del 28 abr 2024 20:42
0KB
	text/plain
		(31, 9)

Celda de código <ggFu2PItKgnC>
# %% [code]
filas_erroneas = df_test["property_surface_total"] < df_test["property_surface_covered"]

Celda de código <smNRG1yBKgnC>
# %% [code]
df_test.loc[filas_erroneas, ["property_surface_total", "property_surface_covered"]] = df_test.loc[filas_erroneas, ["property_surface_covered", "property_surface_total"]].values

Celda de código <OTcB7lUlKgnC>
# %% [code]
mediana = df_test["property_surface_total"].median()

limite_superior = mediana * 7

df_test = df_test[df_test["property_surface_total"] <= limite_superior]

Celda de código <YoWXmcZeKgnD>
# %% [code]
df_test.isnull().sum()
Resultado de la ejecución del 28 abr 2024 20:42
0KB
	text/plain
		latitud                     539
		longitud                    539
		place_l3                     36
		property_type                 0
		property_rooms                0
		property_bedrooms             0
		property_surface_total        0
		property_surface_covered      0
		property_price                0
		dtype: int64

Celda de código <pbZ7sglUKgnD>
# %% [code]
df_test[(df_test["latitud"].isnull()) & (df_test["longitud"].isnull())].shape
Resultado de la ejecución del 28 abr 2024 20:42
0KB
	text/plain
		(539, 9)

Celda de código <zyaeEGRsKgnD>
# %% [code]
# aca habria que hacer lo que hice antes en la primera entrega (q se borro o no se q paso xd),
# si en property_title tengo un barrio, lo pongo como place_l3.

Celda de código <_wxvKxC4KgnD>
# %% [code]
df_test.dropna(subset=["latitud", "longitud", "place_l3"], inplace=True)
Resultado de la ejecución del 28 abr 2024 20:42
0KB
	Stream
		<ipython-input-493-af63d486681e>:1: SettingWithCopyWarning: 
		A value is trying to be set on a copy of a slice from a DataFrame
		
		See the caveats in the documentation: https://pandas.pydata.org/pandas-docs/stable/user_guide/indexing.html#returning-a-view-versus-a-copy
		  df_test.dropna(subset=["latitud", "longitud", "place_l3"], inplace=True)

Celda de código <uwSRXh52KgnD>
# %% [code]
df_train.info()
Resultado de la ejecución del 28 abr 2024 20:42
1KB
	Stream
		<class 'pandas.core.frame.DataFrame'>
		RangeIndex: 55059 entries, 0 to 55058
		Data columns (total 17 columns):
		 #   Column                    Non-Null Count  Dtype  
		---  ------                    --------------  -----  
		 0   Unnamed: 0                55059 non-null  int64  
		 1   latitud                   55059 non-null  float64
		 2   longitud                  55059 non-null  float64
		 3   property_rooms            55059 non-null  float64
		 4   property_bedrooms         55059 non-null  float64
		 5   property_surface_total    55059 non-null  float64
		 6   property_surface_covered  55059 non-null  float64
		 7   property_price            55059 non-null  float64
		 8   total_m2_price            55059 non-null  float64
		 9   covered_m2_price          55059 non-null  float64
		 10  Casa                      55059 non-null  int64  
		 11  Departamento              55059 non-null  int64  
		 12  PH                        55059 non-null  int64  
		 13  Palermo                   55059 non-null  int64  
		 14  Belgrano                  55059 non-null  int64  
		 15  Caballito                 55059 non-null  int64  
		 16  Otro barrio               55059 non-null  int64  
		dtypes: float64(9), int64(8)
		memory usage: 7.1 MB

Celda de código <PIBtsjDzKgnD>
# %% [code]
df_train.drop(columns=["Unnamed: 0"], inplace=True)

Celda de código <ZIQkiAncKgnD>
# %% [code]
df_test["total_m2_price"] = df_test["property_price"] / df_test["property_surface_total"]
df_test["covered_m2_price"] = df_test["property_price"] / df_test["property_surface_covered"]

Celda de código <XCT6dp3oKgnD>
# %% [code]
df_test = pd.get_dummies(df_test, columns=["property_type"])
df_test.rename(columns={"property_type_Casa": "Casa", "property_type_Departamento": "Departamento", "property_type_PH": "PH"}, inplace=True)
df_test["Casa"] = df_test["Casa"].astype(int)
df_test["Departamento"] = df_test["Departamento"].astype(int)
df_test["PH"] = df_test["PH"].astype(int)

Celda de código <ndXcT34HKgnD>
# %% [code]
top_3_barrios = df_test["place_l3"].value_counts().nlargest(3).index.tolist()

for value in top_3_barrios:
    df_test[value] = (df_test["place_l3"] == value).astype(int)

df_test["Otro barrio"] = (~(df_test["place_l3"].isin(top_3_barrios))).astype(int)

df_test.drop(columns=["place_l3"], inplace=True)

Celda de código <_AuNTgydKgnE>
# %% [code]
df_test.info()
Resultado de la ejecución del 28 abr 2024 20:42
1KB
	Stream
		<class 'pandas.core.frame.DataFrame'>
		Index: 14433 entries, 1 to 18849
		Data columns (total 16 columns):
		 #   Column                    Non-Null Count  Dtype  
		---  ------                    --------------  -----  
		 0   latitud                   14433 non-null  float64
		 1   longitud                  14433 non-null  float64
		 2   property_rooms            14433 non-null  float64
		 3   property_bedrooms         14433 non-null  float64
		 4   property_surface_total    14433 non-null  float64
		 5   property_surface_covered  14433 non-null  float64
		 6   property_price            14433 non-null  float64
		 7   total_m2_price            14433 non-null  float64
		 8   covered_m2_price          14433 non-null  float64
		 9   Casa                      14433 non-null  int64  
		 10  Departamento              14433 non-null  int64  
		 11  PH                        14433 non-null  int64  
		 12  Palermo                   14433 non-null  int64  
		 13  Belgrano                  14433 non-null  int64  
		 14  Caballito                 14433 non-null  int64  
		 15  Otro barrio               14433 non-null  int64  
		dtypes: float64(9), int64(7)
		memory usage: 1.9 MB

Celda de texto <1Lh06E-JKgnE>
# %% [markdown]
## Construcción del target para clasificar

Celda de texto <iuAYBBBbKgnE>
# %% [markdown]
## Modelos clasificación

Celda de código <PT58X9PFKgnE>
# %% [code]
df = pd.concat([df_train, df_test])

Celda de código <F1WER6NFKgnE>
# %% [code]
df_train.columns, df_test.columns
Resultado de la ejecución del 28 abr 2024 20:42
1KB
	text/plain
		(Index(['latitud', 'longitud', 'property_rooms', 'property_bedrooms',
		        'property_surface_total', 'property_surface_covered', 'property_price',
		        'total_m2_price', 'covered_m2_price', 'Casa', 'Departamento', 'PH',
		        'Palermo', 'Belgrano', 'Caballito', 'Otro barrio'],
		       dtype='object'),
		 Index(['latitud', 'longitud', 'property_rooms', 'property_bedrooms',
		        'property_surface_total', 'property_surface_covered', 'property_price',
		        'total_m2_price', 'covered_m2_price', 'Casa', 'Departamento', 'PH',
		        'Palermo', 'Belgrano', 'Caballito', 'Otro barrio'],
		       dtype='object'))

Celda de código <f01nbbSHKgnE>
# %% [code]
tope_bajo = df["total_m2_price"].quantile(1/3)
piso_alto = df["total_m2_price"].quantile(2/3)

labels = [0, 1, 2]

df["tipo_precio"] = pd.cut(df["total_m2_price"], bins=[-float('inf'), tope_bajo, piso_alto, float('inf')], labels=labels, include_lowest=True)

df["tipo_precio"] = df["tipo_precio"].astype(int)

Celda de código <dArg_k9rKgnE>
# %% [code]
df_train.head(2)
Resultado de la ejecución del 28 abr 2024 20:42
16KB
	text/plain
		latitud   longitud  property_rooms  property_bedrooms  \
		0 -34.598103 -58.442806             1.0                1.0   
		1 -34.583233 -58.403942             4.0                3.0   
		
		   property_surface_total  property_surface_covered  property_price  \
		0                    30.0                      27.0         79000.0   
		1                   200.0                     200.0        790000.0   
		
		   total_m2_price  covered_m2_price  Casa  Departamento  PH  Palermo  \
		0     2633.333333       2925.925926     0             1   0        0   
		1     3950.000000       3950.000000     0             1   0        1   
		
		   Belgrano  Caballito  Otro barrio  
		0         0          0            1  
		1         0          0            0

Celda de código <Do0ApuIfKgnE>
# %% [code]
sns.histplot(df["tipo_precio"], color=CORAL)
plt.ylabel("Cantidad de registros")
Resultado de la ejecución del 28 abr 2024 20:42
20KB
	text/plain
		Text(0, 0.5, 'Cantidad de registros')
		<Figure size 640x480 with 1 Axes>

Celda de código <Vpnv2YsqKgnF>
# %% [code]
# df.drop(columns=["tipo_precio"], inplace=True)

Celda de código <GCf0DzwKKgnF>
# %% [code]
# Alternativa cuartil

primer_cuartil = df_train["total_m2_price"].quantile(0.25)
tercer_cuartil = df_train["total_m2_price"].quantile(0.75)
intervalos = [0, primer_cuartil, tercer_cuartil, float("inf")]

labels = [0, 1, 2]

df_train["tipo_precio"] = pd.cut(df_train["total_m2_price"], bins=[-float('inf'), primer_cuartil, tercer_cuartil, float('inf')], labels=labels, include_lowest=True)

df_train["tipo_precio"] = df_train["tipo_precio"].astype(int)

Celda de código <h_PUpTZcKgnF>
# %% [code]
sns.histplot(df["tipo_precio"], color=VERDE)
plt.ylabel("Cantidad de registros")
Resultado de la ejecución del 28 abr 2024 20:42
20KB
	text/plain
		Text(0, 0.5, 'Cantidad de registros')
		<Figure size 640x480 with 1 Axes>

Celda de código <rUi_u2IGKgnF>
# %% [code]
df_train["tipo_precio"].value_counts()
Resultado de la ejecución del 28 abr 2024 20:42
0KB
	text/plain
		tipo_precio
		1    27512
		0    13782
		2    13765
		Name: count, dtype: int64

Celda de código <Jl-nHJBDKgnF>
# %% [code]
def calcular_tipo(grupo):
    primer_cuartil = grupo.quantile(0.25)
    tercer_cuartil = grupo.quantile(0.75)
    result = pd.Series(index=grupo.index)
    result[grupo <= primer_cuartil] = 0
    result[(grupo > primer_cuartil) & (grupo <= tercer_cuartil)] = 1
    result[grupo > tercer_cuartil] = 2
    return result

grouped = df_train.groupby(["Casa", "Departamento", "PH"])["total_m2_price"]
df_train["tipo_precio"] = grouped.apply(calcular_tipo).reset_index(drop=True)


Celda de código <gP7MX9yDKgnF>
# %% [code]
sns.histplot(df_train["tipo_precio"], color=VERDE)
plt.ylabel("Cantidad de registros")
Resultado de la ejecución del 28 abr 2024 20:42
21KB
	text/plain
		Text(0, 0.5, 'Cantidad de registros')
		<Figure size 640x480 with 1 Axes>

Celda de código <5bOyZyH_KgnF>
# %% [code]
df_train["tipo_precio"].value_counts()
Resultado de la ejecución del 28 abr 2024 20:42
0KB
	text/plain
		tipo_precio
		1.0    27540
		0.0    13771
		2.0    13748
		Name: count, dtype: int64

Celda de texto <nWyAurouKgnG>
# %% [markdown]
Nos quedamos con la última forma de clasificación porque creemos que es la más certera por su (no me sale la palabra pero basicamente que es más específica la búsqueda)

Celda de código <W3Vd70EuKgnG>
# %% [code]
df_train, df_test = train_test_split(df, test_size=0.2, random_state=123) # me tira error con la constante

Celda de código <aBgtv6qUKgnG>
# %% [code]
sns.histplot(df_train["total_m2_price"], kde=True, color=AZUL)
plt.title("Precio por m2")
plt.xlabel("Precio por m2")
plt.ylabel("Cantidad de registros")
Resultado de la ejecución del 28 abr 2024 20:42
33KB
	text/plain
		Text(0, 0.5, 'Cantidad de registros')
		<Figure size 640x480 with 1 Axes>

Celda de código <G_fRPTlMKgnG>
# %% [code]
sns.histplot(df_train[df_train["Casa"] == 1]["total_m2_price"], kde=True, color=VERDE)
plt.title("Precio por m2 de las casas")
plt.xlabel("Precio por m2")
plt.ylabel("Cantidad de registros")
Resultado de la ejecución del 28 abr 2024 20:42
33KB
	text/plain
		Text(0, 0.5, 'Cantidad de registros')
		<Figure size 640x480 with 1 Axes>

Celda de código <ll2CpXnKKgnG>
# %% [code]
sns.histplot(df_train[df_train["Departamento"] == 1]["total_m2_price"], kde=True, color=CORAL)
plt.title("Precio por m2 de los departamentos")
plt.xlabel("Precio por m2")
plt.ylabel("Cantidad de registros")
Resultado de la ejecución del 28 abr 2024 20:43
41KB
	text/plain
		Text(0, 0.5, 'Cantidad de registros')
		<Figure size 640x480 with 1 Axes>

Celda de código <17l7ZVlwKgnG>
# %% [code]
sns.histplot(df_train[df_train["PH"] == 1]["total_m2_price"], kde=True, color=NARANJA)
plt.title("Precio por m2 de los PHs")
plt.xlabel("Precio por m2")
plt.ylabel("Cantidad de registros")
Resultado de la ejecución del 28 abr 2024 20:43
42KB
	text/plain
		Text(0, 0.5, 'Cantidad de registros')
		<Figure size 640x480 with 1 Axes>

Celda de código <tu1iXhwiKgnG>
# %% [code]
barrios_caba = gpd.read_file("barrios.geojson")
p = gpd.GeoSeries(barrios_caba.geometry)

Celda de código <H5OofIwnKgnH>
# %% [code]
p.plot(color=GRIS, edgecolor="white", figsize=(9,9))

colores = COLORES[:3]
rangos = ["bajo", "medio", "alto"]

for i in range(3):
    plt.scatter(df[df["tipo_precio"] == i]["longitud"], df[df["tipo_precio"] == i]["latitud"], s = 1, c = colores[i], label = rangos[i])

plt.title("Ubicaciones sobre el mapa")
plt.xlabel("Longitud")
plt.ylabel("Latitud")
plt.legend(markerscale = 8)
plt.show()
Resultado de la ejecución del 28 abr 2024 20:43
423KB
	text/plain
		<Figure size 900x900 with 1 Axes>

Celda de texto <Iz1qYMpiKgnH>
# %% [markdown]
el 3.a.e ????? no entendi la consigna xd

Celda de código <APFXFgSSsUdK>
# %% [code]
# df_train, _ = train_test_split(df_train, test_size=0.2, random_state=123)

Celda de código <7mlEjctSCf0y>
# %% [code]
## Preparo df para clasificacion
x_train = df_train.drop(columns=["tipo_precio"])
y_train = df_train["tipo_precio"]
x_test = df_test.drop(columns=["tipo_precio"])
y_test = df_test["tipo_precio"]


x_train.drop(columns=["total_m2_price","covered_m2_price","property_price"], inplace=True)
x_test.drop(columns=["total_m2_price","covered_m2_price","property_price"], inplace=True)



Celda de texto <afoxCPKqKgnH>
# %% [markdown]
### 1. Árbol de decisión

Celda de código <52Dh0w52KgnH>
# %% [code]


Celda de texto <EtV7wOG_KgnH>
# %% [markdown]
### 2. Random Forest

Celda de código <voWENukQKgnH>
# %% [code]
from sklearn.ensemble import RandomForestClassifier
from sklearn.metrics import accuracy_score, confusion_matrix, precision_score, recall_score, ConfusionMatrixDisplay
from sklearn.model_selection import RandomizedSearchCV, StratifiedKFold


Celda de código <tOwZp405KgnH>
# %% [code]
rf =  RandomForestClassifier(random_state=1)

parametros = { "criterion" : ["gini", "entropy"],
               "min_samples_leaf" : [1, 5, 10],
               "min_samples_split" : [2, 4, 10, 12, 16],
               "n_estimators": [10, 20, 50] }


rscv = RandomizedSearchCV(estimator = rf,
                              param_distributions = parametros,
                              scoring = "accuracy",
                              cv = 5,
                              n_jobs = -1,
                              n_iter = 5,
                              random_state=123)

rscv.fit(x_train, y_train)

print(rscv.best_score_)
Resultado de la ejecución del 28 abr 2024 20:59
0KB
	Stream
		0.712032121521836

Celda de código <cFMka-LMuhjq>
# %% [code]
print(rscv.score)
Resultado de la ejecución del 28 abr 2024 20:59
1KB
	Stream
		<bound method BaseSearchCV.score of RandomizedSearchCV(cv=5, estimator=RandomForestClassifier(random_state=1),
		                   n_iter=5, n_jobs=-1,
		                   param_distributions={'criterion': ['gini', 'entropy'],
		                                        'min_samples_leaf': [1, 5, 10],
		                                        'min_samples_split': [2, 4, 10, 12, 16],
		                                        'n_estimators': [10, 20, 50]},
		                   random_state=123, scoring='accuracy')>

Celda de código <Gg8iPrzhKgnI>
# %% [code]
print(rscv.best_params_)
Resultado de la ejecución del 28 abr 2024 20:59
0KB
	Stream
		{'n_estimators': 50, 'min_samples_split': 10, 'min_samples_leaf': 1, 'criterion': 'entropy'}

Celda de código <YtZswNFWKgnI>
# %% [code]
rf = RandomForestClassifier(random_state=231).set_params(**rscv.best_params_)

#Entrenamos el modelo
rf.fit(X = x_train, y = y_train)

#Realizamos una predicción sobre el set de test
y_predicted = rf.predict(x_test)

Celda de código <PGumzg5gKgnI>
# %% [code]
cm = confusion_matrix(y_test, y_predicted)

ConfusionMatrixDisplay(confusion_matrix=cm).plot()
Resultado de la ejecución del 28 abr 2024 20:59
28KB
	text/plain
		<sklearn.metrics._plot.confusion_matrix.ConfusionMatrixDisplay at 0x7cc0b7660850>
		<Figure size 640x480 with 2 Axes>

Celda de código <V-tb4NBPJrbe>
# %% [code]
from sklearn.metrics import classification_report
print(classification_report(y_test, y_predicted))
Resultado de la ejecución del 28 abr 2024 21:02
0KB
	Stream
		precision    recall  f1-score   support
		
		           0       0.78      0.78      0.78      4633
		           1       0.63      0.60      0.62      4745
		           2       0.75      0.77      0.76      4521
		
		    accuracy                           0.72     13899
		   macro avg       0.72      0.72      0.72     13899
		weighted avg       0.72      0.72      0.72     13899

Celda de código <ImP6k-IbKgnI>
# %% [code]
# todos son 1 XD

Celda de texto <305-APK0XPDK>
# %% [markdown]
### 3. Elección: KNN

Celda de código <TcphnsO5XR0b>
# %% [code]
from sklearn.naive_bayes import GaussianNB
from sklearn.naive_bayes import CategoricalNB

Celda de código <nuot392fcPlM>
# %% [code]
from sklearn.model_selection import cross_val_score

k_range=range(4,12) #canidad de vecinos a probar

k_scores=[] # accuracy para cada K utilizado

for k in k_range:
    #clasificador Knn
    knn=KNeighborsClassifier(n_neighbors=k)
    #uso 10 folds
    scores=cross_val_score(knn,x_train,y_train,cv=10,scoring='accuracy')
    #promedio las 10 métricas
    k_scores.append(scores.mean())

Celda de código <Fixd9WdJcUl7>
# %% [code]
#ploteamos accuracy vs cantidad de vecinos
plt.plot(k_range, k_scores)
plt.xlabel('Cantidad de Vecinos')
plt.ylabel('Cross Validation Accuracy')
plt.title('Accuracy vs Cantidad de Vecinos')
plt.show()
Resultado de la ejecución del 28 abr 2024 20:38
43KB
	text/plain
		<Figure size 640x480 with 1 Axes>

Celda de texto <V0ayCbtbKgnI>
# %% [markdown]
## Modelos regresión

Celda de código <9jGcaXHAGyBd>
# %% [code]
df_train.columns
Resultado de la ejecución del 28 abr 2024 20:47
0KB
	text/plain
		Index(['latitud', 'longitud', 'property_rooms', 'property_bedrooms',
		       'property_surface_total', 'property_surface_covered', 'property_price',
		       'total_m2_price', 'covered_m2_price', 'Casa', 'Departamento', 'PH',
		       'Palermo', 'Belgrano', 'Caballito', 'Otro barrio', 'tipo_precio'],
		      dtype='object')

Celda de código <kszdu4nXDojW>
# %% [code]
x_train = df_train.drop(columns=["property_price","total_m2_price","covered_m2_price","tipo_precio"])
y_train = df_train["property_price"]
x_test = df_test.drop(columns=["property_price","total_m2_price","covered_m2_price","tipo_precio"])
y_test = df_test["property_price"]



Celda de texto <qXyGTWVKKgnI>
# %% [markdown]
### 1. KNN

Celda de código <Clxm9FlqKgnI>
# %% [code]
df_train.info()
Resultado de la ejecución del 28 abr 2024 19:12
1KB
	Stream
		<class 'pandas.core.frame.DataFrame'>
		Index: 55593 entries, 28934 to 15725
		Data columns (total 17 columns):
		 #   Column                    Non-Null Count  Dtype  
		---  ------                    --------------  -----  
		 0   latitud                   55593 non-null  float64
		 1   longitud                  55593 non-null  float64
		 2   property_rooms            55593 non-null  float64
		 3   property_bedrooms         55593 non-null  float64
		 4   property_surface_total    55593 non-null  float64
		 5   property_surface_covered  55593 non-null  float64
		 6   property_price            55593 non-null  float64
		 7   total_m2_price            55593 non-null  float64
		 8   covered_m2_price          55593 non-null  float64
		 9   Casa                      55593 non-null  int64  
		 10  Departamento              55593 non-null  int64  
		 11  PH                        55593 non-null  int64  
		 12  Palermo                   55593 non-null  int64  
		 13  Belgrano                  55593 non-null  int64  
		 14  Caballito                 55593 non-null  int64  
		 15  Otro barrio               55593 non-null  int64  
		 16  tipo_precio               55593 non-null  int64  
		dtypes: float64(9), int64(8)
		memory usage: 7.6 MB

Celda de código <CTInNGUZKgnJ>
# %% [code]
from sklearn.model_selection import RandomizedSearchCV, StratifiedKFold
from sklearn.neighbors import KNeighborsRegressor, KNeighborsClassifier
from sklearn.metrics import r2_score

Celda de texto <t2a3j20XRV1S>
# %% [markdown]


Celda de código <TRMR2DUkKgnJ>
# %% [code]
x_train = df_train.drop(columns=["property_price", "total_m2_price", "covered_m2_price"])
x_test = df_test.drop(columns=["property_price", "total_m2_price", "covered_m2_price"])
y_train = df_train["property_price"]
y_test = df_test["property_price"]

Celda de código <4-fkmRNDKgnJ>
# %% [code]
from sklearn.model_selection import RandomizedSearchCV

#Grilla de Parámetros
params = { "n_neighbors":range(1, 30),
              "weights":["distance","uniform"],
              "algorithm":["ball_tree", "kd_tree", "brute"],
              "metric":["euclidean","manhattan","chebyshev"]
             }

#Clasificador KNN
knn = KNeighborsRegressor()

#Random Search con 10 Folds y 10 iteraciones
rand = RandomizedSearchCV(knn, param_distributions=params, n_iter=10, cv=5, random_state=42)

rand.fit(x_train, y_train)
Resultado de la ejecución del 28 abr 2024 20:56
8KB
	text/plain
		RandomizedSearchCV(cv=5, estimator=KNeighborsRegressor(),
		                   param_distributions={'algorithm': ['ball_tree', 'kd_tree',
		                                                      'brute'],
		                                        'metric': ['euclidean', 'manhattan',
		                                                   'chebyshev'],
		                                        'n_neighbors': range(1, 30),
		                                        'weights': ['distance', 'uniform']},
		                   random_state=42)

Celda de código <65f11HJiKgnJ>
# %% [code]
# Creo un modelo KNN para regresion y lo ajusto
knn_regressor = knn.set_params(**rand.best_params_).fit(x_train, y_train)

#Hago una predicción
y_pred = knn_regressor.predict(x_test)

Celda de código <ZjVGaGnYKgnJ>
# %% [code]
r2_score_knn = r2_score(y_test.values, y_pred)
r2_score_knn
Resultado de la ejecución del 28 abr 2024 20:57
0KB
	text/plain
		0.8140268223195415

Celda de texto <ruuUdeIaKgnJ>
# %% [markdown]
### 2. XGBoost

Celda de código <pnATkYtr-iom>
# %% [code]
import xgboost as xgb
from sklearn.model_selection import RandomizedSearchCV

# Definición del modelo XGBoost
modelo_xgb = xgb.XGBRegressor()

# Definición de parámetros para la búsqueda aleatoria
parametros = {
    'n_estimators': [100, 200, 300],  # Número de árboles en el bosque
    'max_depth': [3, 4, 5],  # Profundidad máxima de cada árbol
    'learning_rate': [0.1, 0.01, 0.001],  # Tasa de aprendizaje
    'subsample': [0.7, 0.8, 0.9],  # Proporción de muestras utilizadas para entrenar cada árbol
    'colsample_bytree': [0.7, 0.8, 0.9],  # Proporción de características utilizadas para entrenar cada árbol
    'gamma': [0, 0.1, 0.2],  # Parámetro de regularización para evitar el sobreajuste
    'reg_alpha': [0, 0.1, 0.5],  # Término de regularización L1 en pesos del árbol
    'reg_lambda': [1, 1.5, 2],  # Término de regularización L2 en pesos del árbol
}

# Definición del objeto RandomizedSearchCV
rscv = RandomizedSearchCV(estimator=modelo_xgb,
                          param_distributions=parametros,
                          scoring="neg_mean_squared_error",  # Utilizando error cuadrático medio como métrica de evaluación
                          cv=5,
                          n_jobs=-1,
                          n_iter=10,  # Número de combinaciones aleatorias a probar
                          random_state=123)

# Ajuste del modelo
rscv.fit(x_train, y_train)

Resultado de la ejecución del 28 abr 2024 20:52
13KB
	text/plain
		RandomizedSearchCV(cv=5,
		                   estimator=XGBRegressor(base_score=None, booster=None,
		                                          callbacks=None,
		                                          colsample_bylevel=None,
		                                          colsample_bynode=None,
		                                          colsample_bytree=None, device=None,
		                                          early_stopping_rounds=None,
		                                          enable_categorical=False,
		                                          eval_metric=None, feature_types=None,
		                                          gamma=None, grow_policy=None,
		                                          importance_type=None,
		                                          interaction_constraints=None,
		                                          learning_rate=...
		                                          n_estimators=None, n_jobs=None,
		                                          num_parallel_tree=None,
		                                          random_state=None, ...),
		                   n_jobs=-1,
		                   param_distributions={'colsample_bytree': [0.7, 0.8, 0.9],
		                                        'gamma': [0, 0.1, 0.2],
		                                        'learning_rate': [0.1, 0.01, 0.001],
		                                        'max_depth': [3, 4, 5],
		                                        'n_estimators': [100, 200, 300],
		                                        'reg_alpha': [0, 0.1, 0.5],
		                                        'reg_lambda': [1, 1.5, 2],
		                                        'subsample': [0.7, 0.8, 0.9]},
		                   random_state=123, scoring='neg_mean_squared_error')

Celda de código <PmBROvUEAQk6>
# %% [code]
y_predict = rscv.predict(x_test)
r2score = r2_score(y_test,y_predict)

print(r2score)
Resultado de la ejecución del 28 abr 2024 20:52
0KB
	Stream
		0.7922217020747561

Celda de código <3SrjCfs5BfO4>
# %% [code]
print(x_test.columns)
Resultado de la ejecución del 28 abr 2024 20:51
0KB
	Stream
		Index(['latitud', 'longitud', 'property_rooms', 'property_bedrooms',
		       'property_surface_total', 'property_surface_covered', 'Casa',
		       'Departamento', 'PH', 'Palermo', 'Belgrano', 'Caballito',
		       'Otro barrio'],
		      dtype='object')

Atributos del cuaderno
Mostrar índice
